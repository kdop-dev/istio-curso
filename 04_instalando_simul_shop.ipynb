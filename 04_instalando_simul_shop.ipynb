{
 "cells": [
  {
   "cell_type": "markdown",
   "metadata": {},
   "source": [
    "# A aplicação simul-shop\n",
    "\n",
    "A aplicação simul-shop é um simulador de loja online.\n",
    "\n",
    "Inspirado no micro-sock, desenvolvida pela [weaveworks](https://www.weave.works/) e [distribuída](https://github.com/microservices-demo/microservices-demo/tree/master) de forma gratuíta (licença [Apache License, Version 2.0](https://www.apache.org/licenses/LICENSE-2.0)) para demonstrar seu produto [Waeve Scope](https://www.weave.works/oss/scope/).\n",
    "\n",
    "O simulador foi construída usando [Python](https://www.python.org/) e é empacotado uma imagem Docker e entregue em um cluster de kubernetes.\n",
    "\n",
    "## Simul Shop implementação\n",
    "\n",
    "O simulador não tem uma interface web é apenas um programa em python que recebe requisições e invoca outras URLs com base nos parâmetros passados por variável de ambiente.\n",
    "\n",
    "Por exemplo, vamos simular uma aplicação que tem um front-end e um backend, usando apenas o docker podemos executar da seguinte forma:\n",
    "\n",
    "![](media/simul-shop-fb.png)\n",
    "\n",
    "```bash\n",
    "# Create net\n",
    "docker network create my-net\n",
    "\n",
    "# backend\n",
    "docker run -d --rm \\\n",
    "--hostname backend \\\n",
    "--network my-net \\\n",
    "--name backend \\\n",
    "-e SCHED_CALL_URL_LST=http://localhost:8000/healthz \\\n",
    "-e SCHED_CALL_INTERVAL=5 \\\n",
    "kdop/generic-service:0.0.1\n",
    "\n",
    "# front-end\n",
    "docker run -d --rm \\\n",
    "    --network my-net \\\n",
    "    --hostname front-end \\\n",
    "    --name front-end \\\n",
    "    -e SCHED_CALL_URL_LST=http://front-end:8000/s \\\n",
    "    -e SCHED_CALL_INTERVAL=10 \\\n",
    "    -e SPLIT_CALL_URL_LST=http://backend:8000 \\\n",
    "    kdop/generic-service:0.0.1\n",
    "```\n",
    "\n",
    "Vamos acompanhar os _logs_ para ver o que está acontecento.\n",
    "\n",
    "```bash\n",
    "# Terminal 1\n",
    "docker logs -f front-end\n",
    "# Terminal 2\n",
    "docker logs -f backend\n",
    "```\n",
    "\n",
    "Para remover os recursos\n",
    "\n",
    "```bash\n",
    "# Parando e excluindo os containers\n",
    "docker kill front-end backend\n",
    "# Clean-up\n",
    "docker network rm my-net\n",
    "```\n",
    "\n",
    "### Istio + Simul Shop\n",
    "\n",
    "Configuramos o simul-shop para criar uma malha de serviços, sua arquittura é:\n",
    "\n",
    "![arquitetura](media/simul-shop-arq.png)\n",
    "\n",
    "Iremos utiliza-lo para explorar os recursos do Istio."
   ]
  },
  {
   "cell_type": "markdown",
   "metadata": {},
   "source": [
    "## Instalando a aplicação\n",
    "\n",
    "Com o clone ou download do repo istio-curso, você tem um diretório com a aplicação."
   ]
  },
  {
   "cell_type": "code",
   "execution_count": null,
   "metadata": {},
   "outputs": [],
   "source": [
    "ls -la exemplos/simul-shop/manifests/4"
   ]
  },
  {
   "cell_type": "markdown",
   "metadata": {},
   "source": [
    "A configuração para kubernetes compreende apenas dois recursos, o _deployment_ e o _service_ para cada um dos módulos da nossa aplicação, de acordo coma arquitetura da seção anterior.\n",
    "\n",
    "* [exemplos/simul-shop/manifests/4/deployments.yaml](exemplos/simul-shop/manifests/4/deployments.yaml)\n",
    "* [exemplos/simul-shop/manifests/4/services.yaml](exemplos/simul-shop/manifests/4/services.yaml)\n",
    "\n",
    "Como na aplicação de demo, criamos um deployment para a imagem `kdop/generic-service 0.0.1` e adiconamos os rótulos para representarem o nome do módulo e sua versão.\n",
    "\n",
    "```yaml\n",
    "labels:\n",
    "    app: nome-do-modulo\n",
    "    version: vN\n",
    "```\n",
    "\n",
    "Os serviços foram configurados para acessar cada um dos módulos:\n",
    "\n",
    "```yaml\n",
    "metadata:\n",
    "  name: front-end # <--- Cria um DNS com nome nome-modulo.\n",
    "...\n",
    "spec:\n",
    "  type: ClusterIP\n",
    "  selector:\n",
    "    app: front-end # <--- E aponta para um POD que tennha o label nome-modulo.\n",
    "```\n",
    "\n",
    "Dessa forma os serviços podem ser endereçados na forma http://nome-modulo:porta/. Na nossa arquitetura:\n",
    "\n",
    "* http://front-end:80000\n",
    "* http://login:80000\n",
    "* http://catalogue:80000\n",
    "* http://orders:80000\n",
    "* http://shipping:80000\n",
    "* http://cart:80000\n",
    "* http://payment:80000\n",
    "* http://accounts:80000\n",
    "* http://orders-db:80000\n",
    "* http://queue:80000\n",
    "* http://cart-db:80000\n",
    "* http://accounts-db:80000"
   ]
  },
  {
   "cell_type": "markdown",
   "metadata": {},
   "source": [
    "Vamos aplicar a configuração no cluster, mas primeiro vamos verificar o acesso ao cluster e o _namespace_ está preparado para o Istio."
   ]
  },
  {
   "cell_type": "code",
   "execution_count": null,
   "metadata": {},
   "outputs": [],
   "source": [
    "# COnfigurar acesso ao cluster, se necessário\n",
    "#export KUBECONFIG=~/.kube/config\n",
    "\n",
    "# Teste de acesso\n",
    "kubectl get nodes"
   ]
  },
  {
   "cell_type": "code",
   "execution_count": null,
   "metadata": {},
   "outputs": [],
   "source": [
    "# verifica se o rótulo de auto injeção do Istio está ativo\n",
    "kubectl describe ns default\n",
    "# Caso não esteja, ativá-lo\n",
    "kubectl label namespace default istio-injection=enabled\n",
    "# Verificando se os pods do Istio estão em execução (Running)\n",
    "kubectl get pods -n istio-system"
   ]
  },
  {
   "cell_type": "markdown",
   "metadata": {},
   "source": [
    "Tudo parece OK, temos acesso ao cluster, o `istiod` está em execução e o _namespace_ está com o rótulo `istio-injection=enabled`, agora aplicamos a configuração:"
   ]
  },
  {
   "cell_type": "code",
   "execution_count": null,
   "metadata": {},
   "outputs": [],
   "source": [
    "kubectl apply -f exemplos/simul-shop/manifests/4/"
   ]
  },
  {
   "cell_type": "markdown",
   "metadata": {},
   "source": [
    "Vamos verificar o que foi criado:"
   ]
  },
  {
   "cell_type": "code",
   "execution_count": null,
   "metadata": {},
   "outputs": [],
   "source": [
    "kubectl get all"
   ]
  },
  {
   "cell_type": "markdown",
   "metadata": {},
   "source": [
    "Dependendo do seu computador a inicialização dos PODs pode demorar um pouco, entre 2 a 5 minutos, você pode repetir o comando algumas vezes para ver a situação dos PODs e se estiver utilizando um terminal pode adicionar o comando `watch kubectl get all` para que atualize automaticamente.\n",
    "\n",
    "Após alguns minutos todos os PODs devem estar na seguinte situação:\n",
    "\n",
    "```\n",
    "accounts-6576c98567-276qs     2/2     Running   0          3m14s\n",
    "accounts-db-c66f6d886-pfx7k   2/2     Running   0          3m14s\n",
    "cart-755d886f8f-cz62t         2/2     Running   0          3m16s\n",
    "cart-db-768bd6f7cd-n7mtk      2/2     Running   0          3m15s\n",
    "catalogue-6ccc68b854-rcb29    2/2     Running   0          3m17s\n",
    "front-end-5fdddf4dcb-vl8v9    2/2     Running   0          3m17s\n",
    "login-868764c74b-8znjz        2/2     Running   0          3m17s\n",
    "orders-77b45cc699-6r6m2       2/2     Running   0          3m17s\n",
    "orders-db-59f88cf7b-d28rm     2/2     Running   0          3m17s\n",
    "payment-8c5f4c94d-8vnlx       2/2     Running   0          3m15s\n",
    "queue-6884748c5d-2qmst        2/2     Running   0          3m16s\n",
    "shipping-b7b68d8d9-d78p6      2/2     Running   0          3m16s\n",
    "```\n",
    "\n",
    "> Se a colune _Ready_ estiver exibindo 1//1 provavelmente o _namespace_ está sem o rótulo do Istio ou o POD `istiod` no _namespace_ `istio-system` não está em execução. Verifique antes de prosseguir.\n",
    "\n",
    "Dependendo da quantidade de recursos disponíveis para o cluster de kubernetes o tempo pode variar e alguns PODs podem falhar (CrashBackoff) algumas vezes (RESTARTS > 0).\n",
    "\n",
    "Para conhecer mais sobre o ciclo de vida de um POD, acesse [Kubernetes - POD Lifecycle](https://kubernetes.io/docs/concepts/workloads/pods/pod-lifecycle/)\n",
    "\n",
    "Se algum dos seus PODs não alcançar o estágio _Running_ verifique o motivo com o comando `kubectl describe pod -l app=<nome-do-modulo>`, por exemplo:"
   ]
  },
  {
   "cell_type": "code",
   "execution_count": null,
   "metadata": {},
   "outputs": [],
   "source": [
    "kubectl describe pod -l app=front-end"
   ]
  },
  {
   "cell_type": "markdown",
   "metadata": {},
   "source": [
    "Se você for direto para o final, verá uma seção _Events_, e uma série de eventos que aconteceram com o seu POD, os últimos eventos indicaram algum tipo de problema, como por exemplo, que não foi possível encontrar um nó para fazer o _deploy_, o que indica que você precisa aumentar os recursos para o kuberntes (escala vertical), dando mais memória e/ou CPU. Isso pode ser feito no painel do docker-desktop em configurações, para mais informações acesse [docker-desktop - Resources](https://docs.docker.com/docker-for-windows/#resources)\n",
    "\n",
    "## Istio proxy\n",
    "\n",
    "Vamos olhar novamente o describe do POD front-end que acabamos de executar, você deve ter percebido algo diferente, há muita informação que não configuramos e quando listamos os PODs (`kubectl get pods`) havia uma indicação que 2/2 containers estavam prontos (READY), mas nossa aplicação tem apenas um, o segundo container pode ser descoberto procurando no describe a seção `Containers:`.\n",
    "\n",
    "Neste _describe_ encontramos dois _containers_:\n",
    "\n",
    "```bash\n",
    "# no início da seção\n",
    "Containers:\n",
    "  front-end:\n",
    "    Container ID:   docker://0640db5071daddccdb883410508475cf1f6c447dabc1a841b60a8a1de74683d3\n",
    "    Image:          kdop/generic-service:0.0.1\n",
    "# mais abaixo\n",
    "  istio-proxy:\n",
    "    Container ID:  docker://9859fd6e75d4cdf9ea7f26be9e3f8fc47a6cf79664d400b87259652113792a30\n",
    "    Image:         docker.io/istio/proxyv2:1.7.3\n",
    "```\n",
    "\n",
    "Um dos container utiliza a imagem da nossa aplicação e o outro do proxy do Istio. Esse container foi adicionado automaticamente pelo `istiod` quando instalamos nossa aplicação no _namespace_ `default`, porque esse _namespace_ está com um rótulo (`istio-injection=enabled`) que indica para o `istiod` executar essa operação de injeção de um _sidecar_ no nosso POD."
   ]
  },
  {
   "cell_type": "code",
   "execution_count": null,
   "metadata": {},
   "outputs": [],
   "source": [
    "kubectl describe ns default"
   ]
  },
  {
   "cell_type": "markdown",
   "metadata": {},
   "source": [
    "## Conclusão\n",
    "\n",
    "Fizemos o deploy de uma aplicação de demostração que representa uma malha de serviços e vimos o Istio adicionar seu _proxy_ em cada um dos nossos _deployments_.\n",
    "\n",
    "Na próxima seção discutiremos brevemente o padrão _sidecar_ utilizado pelo Istio, para saber sobre outros padrões, acesse o curso [Kubernetes avançado para iniciantes]."
   ]
  }
 ],
 "metadata": {
  "kernelspec": {
   "display_name": "Bash",
   "language": "bash",
   "name": "bash"
  },
  "language_info": {
   "codemirror_mode": "shell",
   "file_extension": ".sh",
   "mimetype": "text/x-sh",
   "name": "bash"
  }
 },
 "nbformat": 4,
 "nbformat_minor": 4
}
