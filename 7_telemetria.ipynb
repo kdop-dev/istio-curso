{
 "cells": [
  {
   "cell_type": "markdown",
   "metadata": {},
   "source": [
    "# Telemetria"
   ]
  },
  {
   "cell_type": "markdown",
   "metadata": {},
   "source": [
    "Entre as funcionalidades do Istio a telemetria é que materealiza a malha de serviços, ela fornece visibilidade e rastreamento das relações e comunicações na malha.\n",
    "\n",
    "O interessante é que você obtem a maior partes das funcionalidades gratuitamente por ter instalado o istio-proxy ao lado da sua aplicação, nenhuma configuração adicional será necessária para as funções que iremos explorar. Nas seções seguintes veremos o rastreamento de logs e é a única funcionalidade que necessitará de algumas modificações na nossa aplicação.\n",
    "\n",
    "## Kiali\n",
    "\n",
    "Já tivemos contato com o Kiali, agora vamos adicionar as demais ferramentas que completam o conjunto básico de funcionalidades de telemetria, o Jaeger e o Grafana.\n",
    "\n",
    "Mas antes, vamos voltar ao kiali para explorar em profundidade suas funcionalidades.\n",
    "\n",
    "Para executá-lo:"
   ]
  },
  {
   "cell_type": "code",
   "execution_count": 8,
   "metadata": {},
   "outputs": [
    {
     "name": "stdout",
     "output_type": "stream",
     "text": [
      "[1] 64613\n"
     ]
    }
   ],
   "source": [
    "istioctl dashboard kiali &\n",
    "export KIALI_PID=$!"
   ]
  },
  {
   "cell_type": "markdown",
   "metadata": {},
   "source": [
    "![Video kiali funcionalidades](media/video-placeholder.jpg)\n",
    "\n",
    "* Visão geral\n",
    "* Aplicações (rórulo app=<nome aplicação>)\n",
    "* Cargas de trabalho (PODs)\n",
    "* Serviços (Services)\n",
    "* Gráficos\n",
    "* Demonstração - bloquear o tráfego utilizando a UI do kiali"
   ]
  },
  {
   "cell_type": "markdown",
   "metadata": {},
   "source": [
    "> Tipos de leiaute: Há três opções de organização do gráfico para os gráficos do kiali, o padrão - dagre, o 1 - cose bikent e o 2 - cola. A escolha é mais uma opção de estética, mas para conhecer mais sobre os tipos acesse [Cytoscape - Layout extensions](https://js.cytoscape.org/#extensions/layout-extensions)."
   ]
  },
  {
   "cell_type": "code",
   "execution_count": null,
   "metadata": {},
   "outputs": [],
   "source": [
    "# Parando o redirecionamento para o dashboard do kiali\n",
    "kill $KIALI_PID"
   ]
  },
  {
   "cell_type": "markdown",
   "metadata": {},
   "source": [
    "## Rastreamento de logs com Jaeger\n",
    "\n",
    "O rastreamento está integrado com o Istio e Kiali, você deve ter percebido algumas mensagens de erro quando tentavamos acessar funcionalidades de rastreamento.\n",
    "\n",
    "![kiali erro rastreamento não encontrado](media/kiali-error-tracing.png)\n",
    "\n",
    "De fato, o Kiali tem um indicador que verifica se os componentes do Istio, jaeger e Grafana estão instalados,\n",
    "\n",
    "![kiali status](media/kiali-status.png)\n",
    "\n",
    "Enão, antes de começarmos a utlizar o Jaeger precisaremos instalá-lo em nosso cluster."
   ]
  },
  {
   "cell_type": "code",
   "execution_count": null,
   "metadata": {},
   "outputs": [],
   "source": [
    "kubectl apply -f istio-1.7.3/samples/addons/jaeger.yaml"
   ]
  },
  {
   "cell_type": "markdown",
   "metadata": {},
   "source": [
    "Para acessar o dashboard vamos continuar utilizando o `istioctl`, como fizemos para o kiali."
   ]
  },
  {
   "cell_type": "code",
   "execution_count": 9,
   "metadata": {},
   "outputs": [
    {
     "name": "stdout",
     "output_type": "stream",
     "text": [
      "http://localhost:20001/kiali\n",
      "[2] 65244\n"
     ]
    }
   ],
   "source": [
    "istioctl dashboard jaeger &\n",
    "export JAEGER_PID=$!"
   ]
  },
  {
   "cell_type": "markdown",
   "metadata": {},
   "source": [
    "![Video Grafana](media/video-placeholder.jpg)\n",
    "\n",
    "* O que é rastreamento? \n",
    "* O que é [OpenTelemetry](https://opentelemetry.io/)\n",
    "* Instalando o Jaeger\n",
    "* Visão  geral do Jaeger"
   ]
  },
  {
   "cell_type": "markdown",
   "metadata": {},
   "source": [
    "Podemos para o processo do `istioctl` para economizar recursos."
   ]
  },
  {
   "cell_type": "code",
   "execution_count": 6,
   "metadata": {},
   "outputs": [
    {
     "name": "stdout",
     "output_type": "stream",
     "text": [
      "bash: kill: (64150) - No such process\n"
     ]
    },
    {
     "ename": "",
     "evalue": "1",
     "output_type": "error",
     "traceback": []
    }
   ],
   "source": [
    "# Parando o redirecionamento para o dashboard do Jaeger\n",
    "kill $JAEGER_PID"
   ]
  },
  {
   "cell_type": "markdown",
   "metadata": {},
   "source": [
    "## Replicando cabeçalhos para o rastreamento\n",
    "\n",
    "A telemetria no Istio é não-envasiva, não precisamos modificar o código para obter a maior parte das funcionalidades, porém para que o rastreamento funcione corretamente precisaremos realizar uma modificação, teremos que replicar o cabeçalho de rastreamento.\n",
    "\n",
    "Sem essa replicação o Jaeger irá exibir o rastrei apenas da primeira requisição, pois será gerado um novo identificador a cada chamada.\n",
    "\n",
    "![Jaeger rastreio incompleto](media/jaeger-incomplete-tracing.png)\n",
    "\n",
    "Infelizmente esse procedimento é invasivo e depende da linguagem de programação. Na documentação do Istio [Trace context propagation](https://istio.io/latest/docs/tasks/observability/distributed-tracing/overview/#trace-context-propagation) há um exemplo de código python e java.\n",
    "\n",
    "Caso você tenha algum serviço entre as chamadas, como um API Gateway, você poderá utilizá-lo para replicar os cabeçalhos, que são:\n",
    "\n",
    "* x-request-id\n",
    "* x-b3-traceid\n",
    "* x-b3-spanid\n",
    "* x-b3-parentspanid\n",
    "* x-b3-sampled\n",
    "* x-b3-flags\n",
    "* x-ot-span-context\n",
    "\n",
    "Na nossa aplicação de demonstração simul-shop o seguinte código em python foi implementado:\n",
    "\n",
    "```python\n",
    "from fastapi import FastAPI, Request\n",
    "from fastapi_opentracing import get_opentracing_span_headers\n",
    "from fastapi_opentracing.middleware import OpenTracingMiddleware\n",
    "\n",
    "# App\n",
    "app = FastAPI()\n",
    "app.add_middleware(OpenTracingMiddleware)\n",
    "\n",
    "# service call\n",
    "def invoke_ws_list(url_list: list, headers = {}):\n",
    "    logging.debug('Invoked')\n",
    "    logging.info(f'Calling: {url_list}')\n",
    "    for url in url_list:\n",
    "        if url:\n",
    "            try:\n",
    "                response = requests.get(url, headers=headers) # <------- Repassa o cabeçalho\n",
    "                logging.info(f\"headers: {response.headers}\")\n",
    "                logging.info(f\"body: {response.content}\")\n",
    "            except Exception as err:\n",
    "                logging.error(f\"Failed reaching {url} - {err}\")\n",
    "\n",
    "# Split\n",
    "@app.get(\"/s\", response_model=MessageOut)\n",
    "async def split(request: Request):\n",
    "    carrier = await get_opentracing_span_headers() # <------ Obtem o cabeçalho\n",
    "    logging.info(f\"opentracing: {carrier}\")\n",
    "    logging.info(f\"request.headers: {request.headers}\")\n",
    "    url_list = SPLIT_CALL_URL_LST.split(\",\")\n",
    "    message = MessageOut(name=\"split\", description=f\"List {url_list}\")\n",
    "    invoke_ws_list(url_list, carrier) # <-------- Repassa o cabeçalho\n",
    "    return message\n",
    "```\n",
    "\n",
    "> Código completo está em [exemplos/generic-service/py/app/main.py](exemplos/generic-service/py/app/main.py)\n",
    "\n",
    "Usando a biblioteca [fastapi_opentracing](https://github.com/wesdu/fastapi-opentracing), obtemos o cabeçalho de rastreamento e o adicionamos no request para o próximo serviço, dessa forma mantêmos a relação entre as requisições.\n",
    "\n",
    "```log\n",
    "2020-10-30T21:59:23.841055200Z INFO: 2020-10-30 21:59:23,836 - request.headers: Headers({'host': 'front-end:8000', 'user-agent': 'python-requests/2.24.0', 'accept-encoding': 'gzip, deflate', 'accept': '*/*', 'x-forwarded-proto': 'http', 'x-request-id': '48e17601-e34a-4cc8-b47d-74f666943d14', 'x-envoy-attempt-count': '1', 'content-length': '0', 'x-forwarded-client-cert': 'By=spiffe://cluster.local/ns/default/sa/default;Hash=549a0e87f1c4d64d54a3433318fa1b855b5d45f634477411b8ad84912f06120b;Subject=\"\";URI=spiffe://cluster.local/ns/default/sa/default', 'x-b3-traceid': '5573be4183f426e828c7ecf9e7113264', 'x-b3-spanid': '2449fc64cd15e4eb', 'x-b3-parentspanid': '28c7ecf9e7113264', 'x-b3-sampled': '0'})\n",
    "```\n",
    "\n",
    "Exemplo de cabeçalho de rastreamento.\n",
    "\n",
    "Isso é todo o código que iremos ver para utilizar o Istio, com esse código implementado o nosso rastreamento no Jaeger ficará completo.\n",
    "\n",
    "![Jaeger rastrei completo](media/jaeger-complete-tracing.png)\n",
    "\n",
    "E veremos a relação e"
   ]
  },
  {
   "cell_type": "markdown",
   "metadata": {},
   "source": [
    "## Grafana"
   ]
  },
  {
   "cell_type": "markdown",
   "metadata": {},
   "source": [
    "![Video grafafa](media/video-placeholder.jpg)"
   ]
  },
  {
   "cell_type": "code",
   "execution_count": null,
   "metadata": {},
   "outputs": [],
   "source": [
    "kubectl apply -f istio-1.7.3/samples/addons/graphana.yaml"
   ]
  },
  {
   "cell_type": "code",
   "execution_count": null,
   "metadata": {},
   "outputs": [],
   "source": [
    "istioctl dashboard graphana &\n",
    "export GRAPHANA_PID=$!"
   ]
  },
  {
   "cell_type": "code",
   "execution_count": null,
   "metadata": {},
   "outputs": [],
   "source": [
    "# Parando o redirecionamento para o dashboard do graphana\n",
    "kill $GRAPHANA_PID"
   ]
  }
 ],
 "metadata": {
  "kernelspec": {
   "display_name": "Bash",
   "language": "bash",
   "name": "bash"
  },
  "language_info": {
   "codemirror_mode": "shell",
   "file_extension": ".sh",
   "mimetype": "text/x-sh",
   "name": "bash"
  }
 },
 "nbformat": 4,
 "nbformat_minor": 4
}
