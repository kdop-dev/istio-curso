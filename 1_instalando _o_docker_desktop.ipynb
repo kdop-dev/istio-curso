{
 "metadata": {
  "language_info": {
   "codemirror_mode": {
    "name": "ipython",
    "version": 3
   },
   "file_extension": ".py",
   "mimetype": "text/x-python",
   "name": "python",
   "nbconvert_exporter": "python",
   "pygments_lexer": "ipython3",
   "version": "3.8.5-final"
  },
  "orig_nbformat": 2,
  "kernelspec": {
   "name": "bash",
   "display_name": "Bash"
  }
 },
 "nbformat": 4,
 "nbformat_minor": 2,
 "cells": [
  {
   "source": [
    "# Instalando docker-engine e docker-desktop\n",
    "\n",
    "Ref: [Docker Desktop overview](https://docs.docker.com/desktop/)"
   ],
   "cell_type": "markdown",
   "metadata": {}
  },
  {
   "source": [
    "## Linux\n",
    "\n",
    "Ref: [Install Docker Engine](https://docs.docker.com/engine/install/)"
   ],
   "cell_type": "markdown",
   "metadata": {}
  },
  {
   "source": [
    "## Mac\n",
    "\n",
    "Ref: [Install Docker Desktop on Mac](https://docs.docker.com/docker-for-mac/install/)"
   ],
   "cell_type": "markdown",
   "metadata": {}
  },
  {
   "source": [
    "## Windows\n",
    "\n",
    "Ref: [Install Docker Desktop on Windows](https://docs.docker.com/docker-for-windows/install/)"
   ],
   "cell_type": "markdown",
   "metadata": {}
  }
 ]
}