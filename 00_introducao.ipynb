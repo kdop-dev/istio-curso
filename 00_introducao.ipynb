{
 "cells": [
  {
   "cell_type": "markdown",
   "metadata": {},
   "source": [
    "# Bem vindo ao Istio Avançado para Iniciantes\n",
    "\n",
    "![cover](media/istio-course-cover.png)\n",
    "\n",
    "## Sobre este curso\n",
    "\n",
    "Neste curso você aprenderá os conceitos e práticas, básicas e avançadas de Istio Service Mesh. \n",
    "\n",
    "Com Istio e Kubernetes, você levará seus desenvolvimentos à outro patamar.\n",
    "\n",
    "Nossa didática será introduzir os temas de forma simples e rapidamente apresentar casos reais e mais complexos. \"Olá Mundo!\" será apenas o começo, nosso objetivo será a \"Dominiação Mundial!!\"."
   ]
  },
  {
   "cell_type": "markdown",
   "metadata": {},
   "source": [
    "## Requerimentos\n",
    "\n",
    "* Conhecimentos básicos de Kubernetes\n",
    "* Equipamento para executar o Minikube ou Docker-Desktop\n",
    "* Linux (Qualquer distro atual de Linux, Windows com wsl2 ou MacOS)"
   ]
  },
  {
   "cell_type": "markdown",
   "metadata": {},
   "source": [
    "## Descrição\n",
    "\n",
    "Atualizado para o Istio 1.8.1\n",
    "\n",
    "[Istio](https://istio.io/) é uma plataforma de malha de serviço de [código aberto](https://pt.wikipedia.org/wiki/C%C3%B3digo_aberto) que fornece maneiras de controlar e monitorar como os serviços se comunicam. Se você desenvolve ou pretende desenvolver microsserviços e utiliza [kubernetes](https://kubernetes.io/), precisa conhecê-lo! Com este curso prático, você ganhará experiência na execução de suas próprias malhas de serviço com Istio.\n",
    "\n",
    "A malha de serviço é uma camada de infraestrutura dedicada para lidar com a comunicação serviço a serviço a fim de torná-la visível, gerenciável e controlada. A implementação depende da solução, mas no Istio, cada malha de serviço é implementada como uma série de _proxies_.\n",
    "\n",
    "Com uma malha de serviço, cada endpoint de aplicativo (seja um contêiner, um pod ou um host) é configurado para rotear o tráfego para um _proxy_ local (instalado como um contêiner secundário, por exemplo). Esse proxy local gerencia coisas como lógica de nova tentativa, mecanismos de criptografia, regras de roteamento personalizadas, descoberta de serviço e entre outras. \n",
    "\n",
    "Uma coleção desses proxies forma uma “malha” de serviços que agora compartilham propriedades comuns de gerenciamento de tráfego de rede. Esses proxies podem ser controlados a partir de um plano de controle centralizado onde os operadores podem compor uma política que afeta o comportamento de toda a malha.\n",
    "\n",
    "Se você não está familiarizado com o [Radar de tecnologia da Thoughworks](https://www.thoughtworks.com/pt/radar), ele é uma lista de tecnologias avaliada por pessoas como [Martin Fowler](https://martinfowler.com/), [Neal Ford](http://nealford.com/), [Rebecca Parsons](https://www.thoughtworks.com/profiles/rebecca-parsons) entre outros. Grande parte da industria utiliza o radar para guiar suas decisões no desenvolvimento de software. Nas suas avaliações são recomendos a adoção, teste ou deixar de usar, linguagens, frameworks, ferramentas e plataformas. O Istio aparece am algumas [edições e em 2020](https://www.thoughtworks.com/pt/radar/platforms/istio) foi recomendada a sua adoção.\n",
    "\n",
    "![Istio visão geral](media/istio-big-picture.png)\n",
    "Arquitetura do Istio\n",
    "\n",
    "Você também pode obter uma lista atualizada das empresas que utilizam o Istio e ler sobre alguns dos seus casos de uso em [Istio - Who's using Istio](https://istio.io/latest/about/community/customers/)."
   ]
  },
  {
   "cell_type": "markdown",
   "metadata": {},
   "source": [
    "\n",
    "\n",
    "## O que o Istio pode fazer por mim?\n",
    "\n",
    "Istio endereças três áreas para manutenção dos serviços:\n",
    "\n",
    "![O que o Istio faz](media/what-istio-do.png)\n",
    "\n",
    "Se você tem um crescente número de serviços, escritos em diferentes linguagens, em infraestruturas heterogêneas, o Istio oferece a abstração necessária para simplificar a manutenção desses serviços."
   ]
  },
  {
   "cell_type": "markdown",
   "metadata": {},
   "source": [
    "## Sobre o curso\n",
    "\n",
    "Este curso foi projetado para ser claro, compreensível e divertido! Você aprenderá como usar o Istio em cenários de produção reais e conhecerá como ele funciona na prática.\n",
    "\n",
    "Você pode executar este curso em seu próprio computador usando o Minikube (8 Gb de Host Ram necessário), na próxima seção você encontrará outras alternativas.\n",
    "\n",
    "Este curso combina teoria com a prática e mostrará como utilizar o Istio para resolver problemas difíceis nos seus projetos.\n",
    "\n",
    "Você aprenderá em detalhes:\n",
    "\n",
    "* Gestão de tráfego\n",
    "* Telemetria\n",
    "* Visualização (com Kiali)\n",
    "* Rastreamento distribuído (com Jaeger)\n",
    "* Métricas com Grafana\n",
    "* Como implantar versões canário\n",
    "* Como fazer \"Dark Releases\"\n",
    "* Istio _VirtualServices_ and _DestinationRules_\n",
    "* Balanceamento de carga e afinidade de sessão\n",
    "* Gateways\n",
    "* Teste de resiliência com injeção de falha\n",
    "* Interrupção de circuito\n",
    "* Protegendo o tráfego do cluster com Mutual TLS (mTLS)\n",
    "* Incluir máquinas virtuais a sua malha de serviços\n",
    "\n",
    "A curva de aprendizado do Istio é relativamente íngreme - por isso projetamos este curso para ser o mais claro e compreensível possível e espero que com as demonstrações práticas você também se divirta ao longo do caminho. Mas, acima de tudo, o Istio é uma ferramenta extremamente poderosa e também um ótimo complemento para sua caixa de ferramentas e você não precisa usar todas as funcionalidades do Istio de uma vez, pegue o que você precisa, seja entender melhor a malha de serviços através a observabilidade, ou controlar o trafego de dados, ou incrementar as segurança, cada uma dessas funcionalidades podem ser implementadas separadamente e combinadas de acordo com sua necessidade.\n",
    "\n",
    "Em poucos meses, desde que começamos a desenvolver esse curso, o Istio já recebeu diversas [atualizações](https://istio.io/latest/news/releases/) (1.6.11, 1.6.12, 1.7.4, 1.8.0, 1.8.1) e provavelmente, enquanto você passa pelas lições, novas atualizações virão. Esse é um projeto muito ativo, com muitos contribuidores de peso, então fique ligado, sempre que necessário esse curso será atualizado para a versão mais recente."
   ]
  },
  {
   "cell_type": "markdown",
   "metadata": {},
   "source": [
    "## Sobre os autores\n",
    "\n",
    "[Anderson Santos](https://www.linkedin.com/in/adsantos/) - é um apaixonado engenheiro de software, palestrante e professor, com quase três décadas de experiência em Dev, Ops, DevOps e engenharia de software. Atualmente, ele ministra vários cursos sobre Kubernetes e Istio e dá palestras corporativas sobre desenvolvimento e operações de software. Anderson tem experiência em diversos setores da industria, sendo os últimos dez anos, nos setores de telecomunicações e educação. Desde 1998 auxilía seus clientes na tomada de decisão, implantação e operação de processos, arquiteturas e tecnologias para o desenvolvimento e modernização de software em núvens híbridas e de oferta pública.\n",
    "\n",
    "[Leonardo Osse](https://www.linkedin.com/in/leonardo-osse-a4423128/) é desenvolvedor com grande experiência nas nuvem AWS e Azure. Tem trabalhando no auxilio e formação técnica de equipes ágeis no setor de educação.\n",
    "\n",
    "[Daniel Ribeiro](https://www.linkedin.com/in/daniel-ribeiros/) é engenheiro de DevOps, especialista em Azure, com mais duas décadas de experiência em nuvens e no apoio à equipes de desenvolvimento para otimização do uso de recursos e automação com IaC."
   ]
  },
  {
   "cell_type": "markdown",
   "metadata": {},
   "source": [
    "## A quem se destina este curso\n",
    "\n",
    "Qualquer desenvolvedor que deseja aprender o que o Istio pode fazer para seus projetos.\n",
    "\n",
    "Qualquer pessoa que já tentou entender o Istio, mas teve dificuldades com a documentação."
   ]
  },
  {
   "cell_type": "markdown",
   "metadata": {},
   "source": [
    "## Por que é de graça?\n",
    "\n",
    "Nós trabalhamos em tempo integral para grandes empresas, onde temos a oportunidade e obrigação de escolher, implantar e operar diversas tecnologias.\n",
    "\n",
    "No curso do nosso trabalho, como todos, fazemos muitos amigos e aprendemos muito com eles. Nossos cursos são um agregado das nossas experiências e troca de conhecimentos com nossos colegas e tem por objetivo exclusivo, retribuir essas oportunidades e fazer novos amigos.\n",
    "\n",
    "Contribua conosco, de um feedback honesto e nos ajude a tornar esse curso mais útil pra você e seus amigos."
   ]
  }
 ],
 "metadata": {
  "kernelspec": {
   "display_name": "Python 3",
   "language": "python",
   "name": "python3"
  },
  "language_info": {
   "codemirror_mode": {
    "name": "ipython",
    "version": 3
   },
   "file_extension": ".py",
   "mimetype": "text/x-python",
   "name": "python",
   "nbconvert_exporter": "python",
   "pygments_lexer": "ipython3",
   "version": "3.6.12"
  }
 },
 "nbformat": 4,
 "nbformat_minor": 4
}
