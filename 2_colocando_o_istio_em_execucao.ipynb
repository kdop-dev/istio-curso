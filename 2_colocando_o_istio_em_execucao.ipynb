{
 "metadata": {
  "language_info": {
   "codemirror_mode": {
    "name": "ipython",
    "version": 3
   },
   "file_extension": ".py",
   "mimetype": "text/x-python",
   "name": "python",
   "nbconvert_exporter": "python",
   "pygments_lexer": "ipython3",
   "version": "3.8.5-final"
  },
  "orig_nbformat": 2,
  "kernelspec": {
   "name": "bash",
   "display_name": "Bash"
  }
 },
 "nbformat": 4,
 "nbformat_minor": 2,
 "cells": [
  {
   "source": [
    "# 3.5 Colocando o Istio em execução"
   ],
   "cell_type": "markdown",
   "metadata": {}
  },
  {
   "source": [
    "## Instalando o Istio (linux)\n",
    "\n",
    "Para instalar a última versão do Istio, neste momento 1.7.3, você pode ir até a página [Getting Started](https://istio.io/latest/docs/setup/getting-started/#download) ou seguir as instruções abaixo:"
   ],
   "cell_type": "markdown",
   "metadata": {}
  },
  {
   "cell_type": "code",
   "execution_count": null,
   "metadata": {},
   "outputs": [],
   "source": [
    "curl -L https://istio.io/downloadIstio | sh -"
   ]
  },
  {
   "source": [
    "Para usar o comando `istioctl`, que está no diretório `bin` do download, coloque-o na variável `PATH` ou copie o arquivo `bin/istioctl` para um diretório no seu `PATH`"
   ],
   "cell_type": "markdown",
   "metadata": {}
  },
  {
   "cell_type": "code",
   "execution_count": null,
   "metadata": {
    "tags": []
   },
   "outputs": [],
   "source": [
    "# Verificar onde está o executável do Istio\n",
    "ls istio-1.7.3/bin\n",
    "# Verificar o conteúdo da variável PATH\n",
    "echo $PATH\n",
    "# Vamos coloca-lo no diretório bin do usuário\n",
    "[ -d \"$HOME/bin\" ] && echo \"O diretorio $HOME/bin existe.\"\n",
    "# Copiar o arquivo para o diretório bin\n",
    "cp istio-1.7.3/bin/istioctl ~/bin\n",
    "# Teste\n",
    "istioctl --help"
   ]
  },
  {
   "source": [
    "Você pode copiar o comando em qualquer diretório ou mantê-lo e ajustar a variável `PATH` na sessão."
   ],
   "cell_type": "markdown",
   "metadata": {}
  },
  {
   "cell_type": "code",
   "execution_count": null,
   "metadata": {},
   "outputs": [],
   "source": [
    "export PATH=$PWD/istio-1.7.3/bin:$PATH\n",
    "echo $PATH\n",
    "istioctl --help"
   ]
  },
  {
   "cell_type": "code",
   "execution_count": null,
   "metadata": {},
   "outputs": [],
   "source": []
  }
 ]
}