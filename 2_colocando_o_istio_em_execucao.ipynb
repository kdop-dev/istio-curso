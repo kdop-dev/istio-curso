{
 "cells": [
  {
   "cell_type": "markdown",
   "metadata": {},
   "source": [
    "# 3.5 Colocando o Istio em execução"
   ]
  },
  {
   "cell_type": "markdown",
   "metadata": {},
   "source": [
    "## Instalando o Istio (linux)\n",
    "\n",
    "Para instalar a última versão do Istio, neste momento 1.7.3, você pode ir até a página [Getting Started](https://istio.io/latest/docs/setup/getting-started/#download) ou seguir as instruções abaixo:"
   ]
  },
  {
   "cell_type": "code",
   "execution_count": 1,
   "metadata": {
    "ExecuteTime": {
     "end_time": "2020-10-13T12:13:58.606406Z",
     "start_time": "2020-10-13T12:13:40.694941Z"
    }
   },
   "outputs": [
    {
     "name": "stdout",
     "output_type": "stream",
     "text": [
      "  % Total    % Received % Xferd  Average Speed   Time    Time     Time  Current\n",
      "                                 Dload  Upload   Total   Spent    Left  Speed\n",
      "100   102  100   102    0     0    104      0 --:--:-- --:--:-- --:--:--   104\n",
      "100  4277  100  4277    0     0   3088      0  0:00:01  0:00:01 --:--:--  3088\n",
      "\n",
      "Downloading istio-1.7.3 from https://github.com/istio/istio/releases/download/1.7.3/istio-1.7.3-osx.tar.gz ...\n",
      "Istio 1.7.3 Download Complete!\n",
      "\n",
      "Istio has been successfully downloaded into the istio-1.7.3 folder on your system.\n",
      "\n",
      "Next Steps:\n",
      "See https://istio.io/latest/docs/setup/install/ to add Istio to your Kubernetes cluster.\n",
      "\n",
      "To configure the istioctl client tool for your workstation,\n",
      "add the /Users/anderson/Downloads/tools/istio-curso/istio-1.7.3/bin directory to your environment path variable with:\n",
      "\t export PATH=\"$PATH:/Users/anderson/Downloads/tools/istio-curso/istio-1.7.3/bin\"\n",
      "\n",
      "Begin the Istio pre-installation check by running:\n",
      "\t istioctl x precheck \n",
      "\n",
      "Need more information? Visit https://istio.io/latest/docs/setup/install/ \n"
     ]
    }
   ],
   "source": [
    "curl -L https://istio.io/downloadIstio | sh -"
   ]
  },
  {
   "cell_type": "markdown",
   "metadata": {},
   "source": [
    "Para usar o comando `istioctl`, que está no diretório `bin` do download, coloque-o na variável `PATH` ou copie o arquivo `bin/istioctl` para um diretório no seu `PATH`\n",
    "\n",
    "## Opção 1: Copiar o arquivo para seu diretório de binários"
   ]
  },
  {
   "cell_type": "code",
   "execution_count": null,
   "metadata": {
    "tags": []
   },
   "outputs": [],
   "source": [
    "# Verificar onde está o executável do Istio\n",
    "ls istio-1.7.3/bin\n",
    "# Verificar o conteúdo da variável PATH\n",
    "echo $PATH\n",
    "# Vamos coloca-lo no diretório bin do usuário\n",
    "[ -d \"$HOME/bin\" ] && echo \"O diretorio $HOME/bin existe.\"\n",
    "# Copiar o arquivo para o diretório bin\n",
    "cp istio-1.7.3/bin/istioctl ~/bin\n",
    "# Teste\n",
    "istioctl --help"
   ]
  },
  {
   "cell_type": "markdown",
   "metadata": {},
   "source": [
    "## Opção 2: Definir a variável PATH\n",
    "Você pode copiar o comando em qualquer diretório ou mantê-lo e ajustar a variável `PATH` na sessão."
   ]
  },
  {
   "cell_type": "code",
   "execution_count": 2,
   "metadata": {
    "ExecuteTime": {
     "end_time": "2020-10-14T17:06:42.897636Z",
     "start_time": "2020-10-14T17:06:42.253440Z"
    }
   },
   "outputs": [
    {
     "name": "stdout",
     "output_type": "stream",
     "text": [
      "/Users/anderson/Downloads/tools/istio-curso/istio-1.7.3/bin:/Users/anderson/miniconda3/envs/py3/bin:/Users/anderson/miniconda3/condabin:/Applications/Julia-1.5.app/Contents/Resources/julia/bin:/Users/anderson/.istioctl/bin:/Users/anderson/google-cloud-sdk/bin:/Users/anderson/.krew/bin:/Users/anderson/.jenv/shims:/Users/anderson/.jenv/bin:/usr/local/sbin:/usr/local/bin:/usr/bin:/bin:/usr/sbin:/sbin:/usr/local/go/bin:/usr/local/share/dotnet:/opt/X11/bin:~/.dotnet/tools:/Library/Apple/usr/bin:/Library/Frameworks/Mono.framework/Versions/Current/Commands:/Users/anderson/bin:/Users/anderson/bin/oracle-client:/usr/local/bin:/usr/local/sbin:~/bin:/Users/anderson/.dotnet/tools\n",
      "Istio configuration command line utility for service operators to\n",
      "debug and diagnose their Istio mesh.\n",
      "\n",
      "Usage:\n",
      "  istioctl [command]\n",
      "\n",
      "Available Commands:\n",
      "  analyze         Analyze Istio configuration and print validation messages\n",
      "  authz           (authz is experimental. Use `istioctl experimental authz`)\n",
      "  convert-ingress Convert Ingress configuration into Istio VirtualService configuration\n",
      "  dashboard       Access to Istio web UIs\n",
      "  deregister      De-registers a service instance\n",
      "  experimental    Experimental commands that may be modified or deprecated\n",
      "  help            Help about any command\n",
      "  install         Applies an Istio manifest, installing or reconfiguring Istio on a cluster.\n",
      "  kube-inject     Inject Envoy sidecar into Kubernetes pod resources\n",
      "  manifest        Commands related to Istio manifests\n",
      "  operator        Commands related to Istio operator controller.\n",
      "  profile         Commands related to Istio configuration profiles\n",
      "  proxy-config    Retrieve information about proxy configuration from Envoy [kube only]\n",
      "  proxy-status    Retrieves the synchronization status of each Envoy in the mesh [kube only]\n",
      "  register        Registers a service instance (e.g. VM) joining the mesh\n",
      "  upgrade         Upgrade Istio control plane in-place\n",
      "  validate        Validate Istio policy and rules files\n",
      "  verify-install  Verifies Istio Installation Status\n",
      "  version         Prints out build version information\n",
      "\n",
      "Flags:\n",
      "      --context string          The name of the kubeconfig context to use\n",
      "  -h, --help                    help for istioctl\n",
      "  -i, --istioNamespace string   Istio system namespace (default \"istio-system\")\n",
      "  -c, --kubeconfig string       Kubernetes configuration file\n",
      "  -n, --namespace string        Config namespace\n",
      "\n",
      "Additional help topics:\n",
      "  istioctl options         Displays istioctl global options\n",
      "\n",
      "Use \"istioctl [command] --help\" for more information about a command.\n"
     ]
    }
   ],
   "source": [
    "export PATH=$PWD/istio-1.7.3/bin:$PATH\n",
    "echo $PATH\n",
    "istioctl --help"
   ]
  },
  {
   "cell_type": "markdown",
   "metadata": {},
   "source": [
    "## Acessando o k8s\n",
    "\n",
    "Você já deve ter acessado o cluster em seções anteriores, mas vale a pena revisar:"
   ]
  },
  {
   "cell_type": "code",
   "execution_count": 1,
   "metadata": {
    "ExecuteTime": {
     "end_time": "2020-10-14T17:06:36.590203Z",
     "start_time": "2020-10-14T17:06:34.636568Z"
    }
   },
   "outputs": [
    {
     "name": "stdout",
     "output_type": "stream",
     "text": [
      "CURRENT   NAME                   CLUSTER                AUTHINFO                                                      NAMESPACE\n",
      "          backbone-educacional   backbone-educacional   clusterUser_COGNA_BACKBONE_EDUCACIONAL_backbone-educacional   \n",
      "*         docker-desktop         docker-desktop         docker-desktop                                                \n",
      "NAME             STATUS   ROLES    AGE     VERSION\n",
      "docker-desktop   Ready    master   3m13s   v1.18.8\n"
     ]
    }
   ],
   "source": [
    "export KUBECONFIG=~/.kube/config\n",
    "kubectl config get-contexts\n",
    "kubectl get nodes"
   ]
  },
  {
   "cell_type": "markdown",
   "metadata": {},
   "source": [
    "## O mínimo Istio\n",
    "\n",
    "Desde a versão 1.6 o Istio é composto de uma única entrega chamada `istiod` e ela pode ser instalada com o comando abaix:"
   ]
  },
  {
   "cell_type": "code",
   "execution_count": 2,
   "metadata": {},
   "outputs": [
    {
     "name": "stdout",
     "output_type": "stream",
     "text": [
      "Detected that your cluster does not support third party JWT authentication. Falling back to less secure first party JWT. See https://istio.io/docs/ops/best-practices/security/#configure-third-party-service-account-tokens for details.\n",
      "\u001b[32m✔\u001b[0m Istio core installed                                                          \n",
      "\u001b[32m✔\u001b[0m Istiod installed                                                              \n",
      "\u001b[32m✔\u001b[0m Installation complete                                                         "
     ]
    }
   ],
   "source": [
    "istioctl install --set profile=minimal "
   ]
  },
  {
   "cell_type": "markdown",
   "metadata": {},
   "source": [
    "Vamos verificar o que foi instalado"
   ]
  },
  {
   "cell_type": "code",
   "execution_count": 3,
   "metadata": {
    "ExecuteTime": {
     "end_time": "2020-10-14T16:33:57.203722Z",
     "start_time": "2020-10-14T16:33:56.643171Z"
    }
   },
   "outputs": [
    {
     "name": "stdout",
     "output_type": "stream",
     "text": [
      "NAME              STATUS   AGE\n",
      "default           Active   3m28s\n",
      "istio-system      Active   13s\n",
      "kube-node-lease   Active   3m29s\n",
      "kube-public       Active   3m29s\n",
      "kube-system       Active   3m30s\n",
      "NAME                         READY   STATUS    RESTARTS   AGE\n",
      "pod/istiod-fb4fbff6b-nvrj4   1/1     Running   0          12s\n",
      "\n",
      "NAME             TYPE        CLUSTER-IP       EXTERNAL-IP   PORT(S)                                         AGE\n",
      "service/istiod   ClusterIP   10.104.166.242   <none>        15010/TCP,15012/TCP,443/TCP,15014/TCP,853/TCP   11s\n",
      "\n",
      "NAME                     READY   UP-TO-DATE   AVAILABLE   AGE\n",
      "deployment.apps/istiod   1/1     1            1           12s\n",
      "\n",
      "NAME                               DESIRED   CURRENT   READY   AGE\n",
      "replicaset.apps/istiod-fb4fbff6b   1         1         1       12s\n",
      "\n",
      "NAME                                         REFERENCE           TARGETS         MINPODS   MAXPODS   REPLICAS   AGE\n",
      "horizontalpodautoscaler.autoscaling/istiod   Deployment/istiod   <unknown>/80%   1         5         0          12s\n"
     ]
    }
   ],
   "source": [
    "# Obtendo os namespaces\n",
    "kubectl get ns\n",
    "\n",
    "# Verificando o namespace do Istio\n",
    "kubectl get all -n istio-system"
   ]
  },
  {
   "cell_type": "markdown",
   "metadata": {},
   "source": [
    "## Ativando o Istio em um namespace\n",
    "Para que o Istiod adicione um proxy no mesmo pod que o(s) seu(s) containers, você precisa marcar o namespace da seguinte forma:"
   ]
  },
  {
   "cell_type": "code",
   "execution_count": 4,
   "metadata": {
    "ExecuteTime": {
     "end_time": "2020-10-14T16:34:05.061000Z",
     "start_time": "2020-10-14T16:34:04.855209Z"
    }
   },
   "outputs": [
    {
     "name": "stdout",
     "output_type": "stream",
     "text": [
      "namespace/default labeled\n"
     ]
    }
   ],
   "source": [
    "kubectl label namespace default istio-injection=enabled"
   ]
  },
  {
   "cell_type": "markdown",
   "metadata": {},
   "source": [
    "Vamos verificar como ficou a configuração do namespace"
   ]
  },
  {
   "cell_type": "code",
   "execution_count": 5,
   "metadata": {
    "ExecuteTime": {
     "end_time": "2020-10-14T16:34:24.512806Z",
     "start_time": "2020-10-14T16:34:24.305603Z"
    }
   },
   "outputs": [
    {
     "name": "stdout",
     "output_type": "stream",
     "text": [
      "Name:         default\n",
      "Labels:       istio-injection=enabled\n",
      "Annotations:  <none>\n",
      "Status:       Active\n",
      "\n",
      "No resource quota.\n",
      "\n",
      "No LimitRange resource.\n"
     ]
    }
   ],
   "source": [
    "kubectl describe ns/default"
   ]
  },
  {
   "cell_type": "markdown",
   "metadata": {},
   "source": [
    "O `istiod` irá monitorar os namespaces com esse `label` e adicionar ao pod um container de proxy. Vamos fazer deploy de uma aplicação exemplo para verificar esse comportamento."
   ]
  },
  {
   "cell_type": "markdown",
   "metadata": {},
   "source": [
    "## Criando uma aplicação demo\n",
    "\n",
    "Vamos utilizar o helm para criar uma aplicação simples."
   ]
  },
  {
   "cell_type": "code",
   "execution_count": 15,
   "metadata": {
    "ExecuteTime": {
     "end_time": "2020-10-14T16:47:28.499639Z",
     "start_time": "2020-10-14T16:47:28.003812Z"
    }
   },
   "outputs": [],
   "source": [
    "# Vamos criar um diretório para nossos exemplos\n",
    "mkdir -p exemplos/simple-app\n",
    "\n",
    "# Deployment\n",
    "cat <<EOT > exemplos/simple-app/deployment.yaml\n",
    "apiVersion: apps/v1\n",
    "kind: Deployment\n",
    "metadata:\n",
    "  name: simple-app\n",
    "  labels:\n",
    "    app: simple-app\n",
    "    version: \"1.0\"\n",
    "spec:\n",
    "  replicas: 1\n",
    "  selector:\n",
    "    matchLabels:\n",
    "        app: simple-app\n",
    "        version: \"1.0\"\n",
    "  template:\n",
    "    metadata:\n",
    "      labels:\n",
    "        app: simple-app\n",
    "        version: \"1.0\"\n",
    "    spec:\n",
    "      containers:\n",
    "        - name: simple-app\n",
    "          image: \"nginx:stable\"\n",
    "          imagePullPolicy: IfNotPresent\n",
    "          ports:\n",
    "            - name: http\n",
    "              containerPort: 80\n",
    "              protocol: TCP\n",
    "EOT\n",
    "\n",
    "# Service\n",
    "cat <<EOT > exemplos/simple-app/service.yaml\n",
    "apiVersion: v1\n",
    "kind: Service\n",
    "metadata:\n",
    "  name: simple-app\n",
    "  labels:\n",
    "    app: simple-app\n",
    "    version: \"1.0\"\n",
    "spec:\n",
    "  type: ClusterIP\n",
    "  ports:\n",
    "    - port: 80\n",
    "      targetPort: http\n",
    "      protocol: TCP\n",
    "      name: http\n",
    "  selector:\n",
    "    app: simple-app\n",
    "    version: \"1.0\"\n",
    "EOT"
   ]
  },
  {
   "cell_type": "code",
   "execution_count": 16,
   "metadata": {
    "ExecuteTime": {
     "end_time": "2020-10-14T16:59:28.248285Z",
     "start_time": "2020-10-14T16:59:28.131448Z"
    }
   },
   "outputs": [
    {
     "name": "stdout",
     "output_type": "stream",
     "text": [
      "total 16\n",
      "drwxr-xr-x   4 anderson  staff  128 Oct 22 09:38 .\n",
      "drwxr-xr-x  10 anderson  staff  320 Oct 22 09:33 ..\n",
      "-rw-r--r--   1 anderson  staff  527 Oct 22 09:56 deployment.yaml\n",
      "-rw-r--r--   1 anderson  staff  266 Oct 22 09:56 service.yaml\n"
     ]
    }
   ],
   "source": [
    "ls -la exemplos/simple-app"
   ]
  },
  {
   "cell_type": "markdown",
   "metadata": {},
   "source": [
    "Criamos dois arquivos, o `deployment.yaml` e o `service.yaml` no diretório `exemplos/simple-app`, agora vamos instala-la no cluster.\n",
    "\n",
    "Inspecione os arquivos e tente descobrir o que será instalado no cluster, uma dica, procure a pela imagem."
   ]
  },
  {
   "cell_type": "code",
   "execution_count": 19,
   "metadata": {},
   "outputs": [
    {
     "name": "stdout",
     "output_type": "stream",
     "text": [
      "deployment.apps/simple-app created\n",
      "service/simple-app created\n"
     ]
    }
   ],
   "source": [
    "kubectl apply -f exemplos/simple-app"
   ]
  },
  {
   "cell_type": "markdown",
   "metadata": {
    "ExecuteTime": {
     "end_time": "2020-10-14T17:02:59.537962Z",
     "start_time": "2020-10-14T17:02:59.410733Z"
    }
   },
   "source": [
    "Vamos acessar nossa aplicação, ela foi configurada para o tipo de serviço `ClusterIP`, o que significa que o acesso é interno, apenas entre os PODs do cluster, mas podemos acessá-la utilizando o comando `kubectl port-forwar`."
   ]
  },
  {
   "cell_type": "code",
   "execution_count": 21,
   "metadata": {
    "ExecuteTime": {
     "end_time": "2020-10-14T17:07:38.718210Z",
     "start_time": "2020-10-14T17:07:37.389852Z"
    }
   },
   "outputs": [
    {
     "name": "stdout",
     "output_type": "stream",
     "text": [
      "Forwarding from 127.0.0.1:8000 -> 80\n",
      "Forwarding from [::1]:8000 -> 80\n",
      "Handling connection for 8000\n"
     ]
    }
   ],
   "source": [
    "kubectl port-forward svc/simple-app 8000:80"
   ]
  },
  {
   "cell_type": "markdown",
   "metadata": {},
   "source": [
    "Vá até o seu navegador e entre acesse a url: <http://localhost:8000>\n",
    "\n",
    "Pronto, você tem acesso a sua aplicação como se estivesse sendo executada na sua máquina. Claro que o kubernetes está na sua máquina, mas isso funcionaria em qualquer kubernetes, local ou remoto.\n",
    "\n",
    "Para interromper:\n",
    "* No jupyter Lab ou notebook: Clique no icone <kbd>◾</kbd> (_Interrup the kernel_ na barra de ferramentas)\n",
    "* No terminal: tecle <kbd>CTRL</kbd>+<kbd>C</kbd>"
   ]
  },
  {
   "cell_type": "markdown",
   "metadata": {},
   "source": [
    "Verificando o que foi instalado."
   ]
  },
  {
   "cell_type": "code",
   "execution_count": 22,
   "metadata": {
    "ExecuteTime": {
     "end_time": "2020-10-14T17:10:37.717671Z",
     "start_time": "2020-10-14T17:10:37.313032Z"
    }
   },
   "outputs": [
    {
     "name": "stdout",
     "output_type": "stream",
     "text": [
      "NAME                              READY   STATUS    RESTARTS   AGE   LABELS\n",
      "pod/simple-app-6f6cfc8554-6m6t2   2/2     Running   0          44s   app=simple-app,istio.io/rev=default,pod-template-hash=6f6cfc8554,security.istio.io/tlsMode=istio,service.istio.io/canonical-name=simple-app,service.istio.io/canonical-revision=1.0,version=1.0\n",
      "\n",
      "NAME                 TYPE        CLUSTER-IP      EXTERNAL-IP   PORT(S)   AGE     LABELS\n",
      "service/kubernetes   ClusterIP   10.96.0.1       <none>        443/TCP   7d15h   component=apiserver,provider=kubernetes\n",
      "service/simple-app   ClusterIP   10.109.84.250   <none>        80/TCP    44s     app=simple-app,version=1.0\n",
      "\n",
      "NAME                         READY   UP-TO-DATE   AVAILABLE   AGE   LABELS\n",
      "deployment.apps/simple-app   1/1     1            1           44s   app=simple-app,version=1.0\n",
      "\n",
      "NAME                                    DESIRED   CURRENT   READY   AGE   LABELS\n",
      "replicaset.apps/simple-app-6f6cfc8554   1         1         1       44s   app=simple-app,pod-template-hash=6f6cfc8554,version=1.0\n"
     ]
    }
   ],
   "source": [
    "kubectl get --show-labels all"
   ]
  },
  {
   "cell_type": "markdown",
   "metadata": {},
   "source": [
    "Note que o pod/simple-app tem 2/2 na coluna pronto (Ready), isso significa que dois containers de dois estão ok, vamos verificar quem é o segundo container."
   ]
  },
  {
   "cell_type": "code",
   "execution_count": 23,
   "metadata": {
    "ExecuteTime": {
     "end_time": "2020-10-14T17:27:21.777610Z",
     "start_time": "2020-10-14T17:27:20.317304Z"
    }
   },
   "outputs": [
    {
     "name": "stdout",
     "output_type": "stream",
     "text": [
      "Name:         simple-app-6f6cfc8554-6m6t2\n",
      "Namespace:    default\n",
      "Priority:     0\n",
      "Node:         docker-desktop/192.168.65.3\n",
      "Start Time:   Thu, 22 Oct 2020 09:56:59 -0300\n",
      "Labels:       app=simple-app\n",
      "              istio.io/rev=default\n",
      "              pod-template-hash=6f6cfc8554\n",
      "              security.istio.io/tlsMode=istio\n",
      "              service.istio.io/canonical-name=simple-app\n",
      "              service.istio.io/canonical-revision=1.0\n",
      "              version=1.0\n",
      "Annotations:  prometheus.io/path: /stats/prometheus\n",
      "              prometheus.io/port: 15020\n",
      "              prometheus.io/scrape: true\n",
      "              sidecar.istio.io/status:\n",
      "                {\"version\":\"8e6e902b765af607513b28d284940ee1421e9a0d07698741693b2663c7161c11\",\"initContainers\":[\"istio-init\"],\"containers\":[\"istio-proxy\"]...\n",
      "Status:       Running\n",
      "IP:           10.1.0.118\n",
      "IPs:\n",
      "  IP:           10.1.0.118\n",
      "Controlled By:  ReplicaSet/simple-app-6f6cfc8554\n",
      "Init Containers:\n",
      "  istio-init:\n",
      "    Container ID:  docker://9a64ffe0dcc1dba44021d3ce3938bd95a2d3a9d899247b0ace4829416d47a527\n",
      "    Image:         docker.io/istio/proxyv2:1.7.3\n",
      "    Image ID:      docker-pullable://istio/proxyv2@sha256:6169d096fe60f128f1311f76c97ee1c3e5d760a45042d5c9182492745d34c658\n",
      "    Port:          <none>\n",
      "    Host Port:     <none>\n",
      "    Args:\n",
      "      istio-iptables\n",
      "      -p\n",
      "      15001\n",
      "      -z\n",
      "      15006\n",
      "      -u\n",
      "      1337\n",
      "      -m\n",
      "      REDIRECT\n",
      "      -i\n",
      "      *\n",
      "      -x\n",
      "      \n",
      "      -b\n",
      "      *\n",
      "      -d\n",
      "      15090,15021,15020\n",
      "    State:          Terminated\n",
      "      Reason:       Completed\n",
      "      Exit Code:    0\n",
      "      Started:      Thu, 22 Oct 2020 09:57:05 -0300\n",
      "      Finished:     Thu, 22 Oct 2020 09:57:05 -0300\n",
      "    Ready:          True\n",
      "    Restart Count:  0\n",
      "    Limits:\n",
      "      cpu:     2\n",
      "      memory:  1Gi\n",
      "    Requests:\n",
      "      cpu:     10m\n",
      "      memory:  10Mi\n",
      "    Environment:\n",
      "      DNS_AGENT:  \n",
      "    Mounts:\n",
      "      /var/run/secrets/kubernetes.io/serviceaccount from default-token-2ghzh (ro)\n",
      "Containers:\n",
      "  simple-app:\n",
      "    Container ID:   docker://32a038bec1b11b1b38c6218f5b85a27fcdd0adad00e3f2f18431c3fead445a83\n",
      "    Image:          nginx:stable\n",
      "    Image ID:       docker-pullable://nginx@sha256:6e4fc428f9f25f1914e43dc2e75ff3be574141734509111282a3a050a420d94c\n",
      "    Port:           80/TCP\n",
      "    Host Port:      0/TCP\n",
      "    State:          Running\n",
      "      Started:      Thu, 22 Oct 2020 09:57:05 -0300\n",
      "    Ready:          True\n",
      "    Restart Count:  0\n",
      "    Environment:    <none>\n",
      "    Mounts:\n",
      "      /var/run/secrets/kubernetes.io/serviceaccount from default-token-2ghzh (ro)\n",
      "  istio-proxy:\n",
      "    Container ID:  docker://1eab930c11eda652fbb4bd476f22f0697da048247c9418cadcf76b0d36a9356b\n",
      "    Image:         docker.io/istio/proxyv2:1.7.3\n",
      "    Image ID:      docker-pullable://istio/proxyv2@sha256:6169d096fe60f128f1311f76c97ee1c3e5d760a45042d5c9182492745d34c658\n",
      "    Port:          15090/TCP\n",
      "    Host Port:     0/TCP\n",
      "    Args:\n",
      "      proxy\n",
      "      sidecar\n",
      "      --domain\n",
      "      $(POD_NAMESPACE).svc.cluster.local\n",
      "      --serviceCluster\n",
      "      simple-app.$(POD_NAMESPACE)\n",
      "      --proxyLogLevel=warning\n",
      "      --proxyComponentLogLevel=misc:error\n",
      "      --trust-domain=cluster.local\n",
      "      --concurrency\n",
      "      2\n",
      "    State:          Running\n",
      "      Started:      Thu, 22 Oct 2020 09:57:10 -0300\n",
      "    Ready:          True\n",
      "    Restart Count:  0\n",
      "    Limits:\n",
      "      cpu:     2\n",
      "      memory:  1Gi\n",
      "    Requests:\n",
      "      cpu:      100m\n",
      "      memory:   128Mi\n",
      "    Readiness:  http-get http://:15021/healthz/ready delay=1s timeout=1s period=2s #success=1 #failure=30\n",
      "    Environment:\n",
      "      JWT_POLICY:                    first-party-jwt\n",
      "      PILOT_CERT_PROVIDER:           istiod\n",
      "      CA_ADDR:                       istiod.istio-system.svc:15012\n",
      "      POD_NAME:                      simple-app-6f6cfc8554-6m6t2 (v1:metadata.name)\n",
      "      POD_NAMESPACE:                 default (v1:metadata.namespace)\n",
      "      INSTANCE_IP:                    (v1:status.podIP)\n",
      "      SERVICE_ACCOUNT:                (v1:spec.serviceAccountName)\n",
      "      HOST_IP:                        (v1:status.hostIP)\n",
      "      CANONICAL_SERVICE:              (v1:metadata.labels['service.istio.io/canonical-name'])\n",
      "      CANONICAL_REVISION:             (v1:metadata.labels['service.istio.io/canonical-revision'])\n",
      "      PROXY_CONFIG:                  {\"proxyMetadata\":{\"DNS_AGENT\":\"\"}}\n",
      "                                     \n",
      "      ISTIO_META_POD_PORTS:          [\n",
      "                                         {\"name\":\"http\",\"containerPort\":80,\"protocol\":\"TCP\"}\n",
      "                                     ]\n",
      "      ISTIO_META_APP_CONTAINERS:     simple-app\n",
      "      ISTIO_META_CLUSTER_ID:         Kubernetes\n",
      "      ISTIO_META_INTERCEPTION_MODE:  REDIRECT\n",
      "      ISTIO_META_WORKLOAD_NAME:      simple-app\n",
      "      ISTIO_META_OWNER:              kubernetes://apis/apps/v1/namespaces/default/deployments/simple-app\n",
      "      ISTIO_META_MESH_ID:            cluster.local\n",
      "      DNS_AGENT:                     \n",
      "      ISTIO_KUBE_APP_PROBERS:        {}\n",
      "    Mounts:\n",
      "      /etc/istio/pod from istio-podinfo (rw)\n",
      "      /etc/istio/proxy from istio-envoy (rw)\n",
      "      /var/lib/istio/data from istio-data (rw)\n",
      "      /var/run/secrets/istio from istiod-ca-cert (rw)\n",
      "      /var/run/secrets/kubernetes.io/serviceaccount from default-token-2ghzh (ro)\n",
      "Conditions:\n",
      "  Type              Status\n",
      "  Initialized       True \n",
      "  Ready             True \n",
      "  ContainersReady   True \n",
      "  PodScheduled      True \n",
      "Volumes:\n",
      "  default-token-2ghzh:\n",
      "    Type:        Secret (a volume populated by a Secret)\n",
      "    SecretName:  default-token-2ghzh\n",
      "    Optional:    false\n",
      "  istio-envoy:\n",
      "    Type:       EmptyDir (a temporary directory that shares a pod's lifetime)\n",
      "    Medium:     Memory\n",
      "    SizeLimit:  <unset>\n",
      "  istio-data:\n",
      "    Type:       EmptyDir (a temporary directory that shares a pod's lifetime)\n",
      "    Medium:     \n",
      "    SizeLimit:  <unset>\n",
      "  istio-podinfo:\n",
      "    Type:  DownwardAPI (a volume populated by information about the pod)\n",
      "    Items:\n",
      "      metadata.labels -> labels\n",
      "      metadata.annotations -> annotations\n",
      "  istiod-ca-cert:\n",
      "    Type:        ConfigMap (a volume populated by a ConfigMap)\n",
      "    Name:        istio-ca-root-cert\n",
      "    Optional:    false\n",
      "QoS Class:       Burstable\n",
      "Node-Selectors:  <none>\n",
      "Tolerations:     node.kubernetes.io/not-ready:NoExecute for 300s\n",
      "                 node.kubernetes.io/unreachable:NoExecute for 300s\n",
      "Events:\n",
      "  Type     Reason     Age   From                     Message\n",
      "  ----     ------     ----  ----                     -------\n",
      "  Normal   Scheduled  62s   default-scheduler        Successfully assigned default/simple-app-6f6cfc8554-6m6t2 to docker-desktop\n",
      "  Normal   Pulling    61s   kubelet, docker-desktop  Pulling image \"docker.io/istio/proxyv2:1.7.3\"\n",
      "  Normal   Pulled     57s   kubelet, docker-desktop  Successfully pulled image \"docker.io/istio/proxyv2:1.7.3\"\n",
      "  Normal   Created    57s   kubelet, docker-desktop  Created container istio-init\n",
      "  Normal   Created    56s   kubelet, docker-desktop  Created container simple-app\n",
      "  Normal   Pulled     56s   kubelet, docker-desktop  Container image \"nginx:stable\" already present on machine\n",
      "  Normal   Started    56s   kubelet, docker-desktop  Started container istio-init\n",
      "  Normal   Started    56s   kubelet, docker-desktop  Started container simple-app\n",
      "  Normal   Pulling    56s   kubelet, docker-desktop  Pulling image \"docker.io/istio/proxyv2:1.7.3\"\n",
      "  Normal   Pulled     52s   kubelet, docker-desktop  Successfully pulled image \"docker.io/istio/proxyv2:1.7.3\"\n",
      "  Normal   Created    51s   kubelet, docker-desktop  Created container istio-proxy\n",
      "  Normal   Started    51s   kubelet, docker-desktop  Started container istio-proxy\n",
      "  Warning  Unhealthy  49s   kubelet, docker-desktop  Readiness probe failed: Get \"http://10.1.0.118:15021/healthz/ready\": dial tcp 10.1.0.118:15021: connect: connection refused\n"
     ]
    }
   ],
   "source": [
    "# Usaremos um dos labels do pod para encontra-lo\n",
    "kubectl describe pod -l app=simple-app"
   ]
  },
  {
   "cell_type": "markdown",
   "metadata": {},
   "source": [
    "É uma grande quantidade de informação, vamos procurar uma seção chamada `Containers` e nela a nossa aplicação `simple-app`.\n",
    "\n",
    "Como você pode ver, a imagem desse container é `nginx`, com a tag `stable`, mais abaixo tem um segundo container `istio-proxy`, com a imagem `docker.io/istio/proxyv2` e tag representando a versão `1.7.3`.\n",
    "\n",
    "Esse container não faz parte do [exemplos/simple-app/deployment.yaml](exemplos/simple-app/deployment.yaml), ele foi adicionado ao seu pod pelo `istiod`."
   ]
  },
  {
   "cell_type": "markdown",
   "metadata": {},
   "source": [
    "Caso você precise saber todos os _namespaces_ que tem a injeção do _conteiner_ _proxy_ do Istio ativado, basta executar o comando:"
   ]
  },
  {
   "cell_type": "code",
   "execution_count": 25,
   "metadata": {
    "ExecuteTime": {
     "end_time": "2020-10-14T16:40:47.392310Z",
     "start_time": "2020-10-14T16:40:47.046643Z"
    }
   },
   "outputs": [
    {
     "name": "stdout",
     "output_type": "stream",
     "text": [
      "NAME      STATUS   AGE\n",
      "default   Active   7d15h\n"
     ]
    }
   ],
   "source": [
    "kubectl get ns -l istio-injection=enabled"
   ]
  },
  {
   "cell_type": "markdown",
   "metadata": {},
   "source": [
    "Até o momento, somente o namespace `default`, onde configuramos a marcação, retornou."
   ]
  },
  {
   "cell_type": "markdown",
   "metadata": {},
   "source": [
    "## Conclusão\n",
    "\n",
    "Neste ponto temos o mínimo do Istio em execução no nosso cluster, mas com exceção de um container extra isso não significa muito.\n",
    "\n",
    "Na próxima parte iremos explorar os recursos que esta instalação mínima do Istio pode oferecer."
   ]
  },
  {
   "cell_type": "code",
   "execution_count": null,
   "metadata": {},
   "outputs": [],
   "source": []
  }
 ],
 "metadata": {
  "hide_input": false,
  "kernelspec": {
   "display_name": "Bash",
   "language": "bash",
   "name": "bash"
  },
  "language_info": {
   "codemirror_mode": "shell",
   "file_extension": ".sh",
   "mimetype": "text/x-sh",
   "name": "bash"
  },
  "toc": {
   "base_numbering": 1,
   "nav_menu": {},
   "number_sections": true,
   "sideBar": true,
   "skip_h1_title": false,
   "title_cell": "Table of Contents",
   "title_sidebar": "Contents",
   "toc_cell": false,
   "toc_position": {},
   "toc_section_display": true,
   "toc_window_display": false
  },
  "varInspector": {
   "cols": {
    "lenName": 16,
    "lenType": 16,
    "lenVar": 40
   },
   "kernels_config": {
    "python": {
     "delete_cmd_postfix": "",
     "delete_cmd_prefix": "del ",
     "library": "var_list.py",
     "varRefreshCmd": "print(var_dic_list())"
    },
    "r": {
     "delete_cmd_postfix": ") ",
     "delete_cmd_prefix": "rm(",
     "library": "var_list.r",
     "varRefreshCmd": "cat(var_dic_list()) "
    }
   },
   "types_to_exclude": [
    "module",
    "function",
    "builtin_function_or_method",
    "instance",
    "_Feature"
   ],
   "window_display": false
  }
 },
 "nbformat": 4,
 "nbformat_minor": 4
}
