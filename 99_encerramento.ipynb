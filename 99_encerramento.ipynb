{
 "cells": [
  {
   "cell_type": "markdown",
   "metadata": {},
   "source": [
    "# Encerramento\n",
    "\n",
    "TODO"
   ]
  },
  {
   "cell_type": "markdown",
   "metadata": {},
   "source": [
    "## Limpeza\n",
    "\n",
    "Vamos remover tudo que foi instalado no cluster."
   ]
  },
  {
   "cell_type": "code",
   "execution_count": null,
   "metadata": {},
   "outputs": [],
   "source": [
    "# Apaga todos os recursos do namespace e o namespace\n",
    "kubectl delete ns financial\n",
    "\n",
    "# Remove os add-ons (prometheus, graphana, kiali e jaeger)\n",
    "kubectl delete -f istio-1.8.0/samples/addons\n",
    "\n",
    "# Remove a aplicação sleep\n",
    "kubectl delete -f istio-1.8.0/samples/sleep\n",
    "\n",
    "# Remove todos os compoenntes do istio\n",
    "istioctl x uninstall --purge -y\n",
    "\n",
    "# Remove o namespace do istio\n",
    "kubectl delete ns istio-system\n",
    "\n",
    "# Remove o rótulo de injeção automática do sidecar do istio\n",
    "kubectl patch ns default --type=json -p='[{\"op\": \"remove\", \"path\": \"/metadata/labels/istio-injection\"}]'\n",
    "\n",
    "# Apaga os recursos criados no curso\n",
    "kubectl delete -f exemplos/simul-shop/manifests/4\n",
    "\n",
    "kubectl delete -f exemplos/simul-shop/manifests/8\n",
    "\n",
    "kubectl delete -f exemplos/simul-shop/manifests/9\n",
    "\n",
    "kubectl delete -f exemplos/simul-shop/manifests/10"
   ]
  }
 ],
 "metadata": {
  "kernelspec": {
   "display_name": "Bash",
   "language": "bash",
   "name": "bash"
  },
  "language_info": {
   "codemirror_mode": "shell",
   "file_extension": ".sh",
   "mimetype": "text/x-sh",
   "name": "bash"
  }
 },
 "nbformat": 4,
 "nbformat_minor": 4
}
