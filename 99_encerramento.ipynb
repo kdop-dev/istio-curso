{
 "cells": [
  {
   "cell_type": "markdown",
   "metadata": {},
   "source": [
    "# Encerramento\n",
    "\n",
    "TODO"
   ]
  },
  {
   "cell_type": "markdown",
   "metadata": {},
   "source": [
    "## Eu preciso de uma malha de serviços?\n",
    "\n",
    "TODO"
   ]
  },
  {
   "cell_type": "markdown",
   "metadata": {},
   "source": [
    "## Eu deveria usar microsserviços?\n",
    "\n",
    "TODO"
   ]
  },
  {
   "cell_type": "markdown",
   "metadata": {},
   "source": [
    "## Papel do _gateway_ de API com a malha de serviço?\n",
    "\n",
    "TODO\n",
    "\n",
    "![API Gateway and Service Mesh](media/api-gateway-mesh.png)"
   ]
  },
  {
   "cell_type": "markdown",
   "metadata": {},
   "source": [
    "## Limpeza\n",
    "\n",
    "Vamos remover tudo que foi instalado no cluster."
   ]
  },
  {
   "cell_type": "code",
   "execution_count": null,
   "metadata": {},
   "outputs": [],
   "source": [
    "# Apaga todos os recursos do namespace e o namespace\n",
    "kubectl delete ns financial\n",
    "\n",
    "# Remove os add-ons (prometheus, graphana, kiali e jaeger)\n",
    "kubectl delete -f istio-1.8.0/samples/addons\n",
    "\n",
    "# Remove a aplicação sleep\n",
    "kubectl delete -f istio-1.8.0/samples/sleep\n",
    "\n",
    "# Remove todos os compoenntes do istio\n",
    "istioctl x uninstall --purge -y\n",
    "\n",
    "# Remove o namespace do istio\n",
    "kubectl delete ns istio-system\n",
    "\n",
    "# Remove o rótulo de injeção automática do sidecar do istio\n",
    "kubectl patch ns default --type=json -p='[{\"op\": \"remove\", \"path\": \"/metadata/labels/istio-injection\"}]'\n",
    "\n",
    "# Apaga os recursos criados no curso\n",
    "kubectl delete -f exemplos/simul-shop/manifests/4\n",
    "\n",
    "kubectl delete -f exemplos/simul-shop/manifests/8\n",
    "\n",
    "kubectl delete -f exemplos/simul-shop/manifests/9\n",
    "\n",
    "kubectl delete -f exemplos/simul-shop/manifests/10"
   ]
  }
 ],
 "metadata": {
  "hide_input": false,
  "kernelspec": {
   "display_name": "Bash",
   "language": "bash",
   "name": "bash"
  },
  "language_info": {
   "codemirror_mode": "shell",
   "file_extension": ".sh",
   "mimetype": "text/x-sh",
   "name": "bash"
  },
  "toc": {
   "base_numbering": 1,
   "nav_menu": {},
   "number_sections": true,
   "sideBar": true,
   "skip_h1_title": false,
   "title_cell": "Table of Contents",
   "title_sidebar": "Contents",
   "toc_cell": false,
   "toc_position": {},
   "toc_section_display": true,
   "toc_window_display": false
  },
  "varInspector": {
   "cols": {
    "lenName": 16,
    "lenType": 16,
    "lenVar": 40
   },
   "kernels_config": {
    "python": {
     "delete_cmd_postfix": "",
     "delete_cmd_prefix": "del ",
     "library": "var_list.py",
     "varRefreshCmd": "print(var_dic_list())"
    },
    "r": {
     "delete_cmd_postfix": ") ",
     "delete_cmd_prefix": "rm(",
     "library": "var_list.r",
     "varRefreshCmd": "cat(var_dic_list()) "
    }
   },
   "types_to_exclude": [
    "module",
    "function",
    "builtin_function_or_method",
    "instance",
    "_Feature"
   ],
   "window_display": false
  }
 },
 "nbformat": 4,
 "nbformat_minor": 4
}
