{
 "cells": [
  {
   "cell_type": "markdown",
   "metadata": {},
   "source": [
    "# Istio em VMs\n",
    "\n",
    "## Trazendo VMs e outros serviços de fora do kubernetes para a malha de serviços.\n",
    "\n",
    "Executar serviços em contêineres adicionam muitos benefícios, tasi como escalonamento automático, isolamento de dependência e otimização de recursos. Adicionar o Istio ao seu ambiente Kubernetes pode simplificar radicalmente a agregação de métricas e o gerenciamento de políticas, principalmente se você estiver operando muitos contêineres.\n",
    "\n",
    "Mas como ficam os aplicativos legados em máquinas virtuais? Ou se você estiver migrando de VMs para contêineres?\n",
    "\n",
    "Embora contêineres e Kubernetes sejam amplamente usados, ainda há muitos serviços implantados em máquinas virtuais e APIs fora do cluster Kubernetes que precisam ser gerenciados pela malha do Istio. É um grande desafio unificar a gestão dos ambientes [_brownfield_](https://en.wikipedia.org/wiki/Brownfield_(software_development)) e [_greenfield_](https://en.wikipedia.org/wiki/Greenfield_project).\n",
    "\n",
    "Você ja conhece muitos recursos do Istio e sabe que podemos acessar serviços que estão fora da malha registrando-os com o _ServiceEntry_, então P\\por que instalar o Istio em uma máquina virtual?\n",
    "\n",
    "O _ServiceEntry_ habilita serviços dentro da malha para descobrir e acessar serviços externos e a gerenciar o tráfego para esses serviços externos. Em conjunto com o _VirtualService_ configura regras de acesso para o serviço externo, tais como tempo limite de solicitação, injeção de falha, etc.\n",
    "\n",
    "Porém, esse recurso controla apenas o tráfego do lado do cliente. A implantação de _sidecars_ em máquinas virtuais e a configuração das carga de trabalho para o kubernetes, permite que ela seja gerenciada como um POD e o gerenciamento de tráfego aplicado uniformemente em ambis os lados.\n",
    "\n",
    "Neste cenário, nosso sistema de pagamanetos necessita integrar-se com um ERP legado para enviar os pagamentos realizados. Este sistema está em execução em uma máquina virtual.\n",
    "\n",
    "Para simular este legado, iremos criar uma VM e executar o script python que usamos no generic-services.\n",
    "\n",
    "A arquitetura da solução ficará assim:\n",
    "\n",
    "![Simulshpo vm architecture](media/simul-shop-vms-arch.png)"
   ]
  },
  {
   "cell_type": "markdown",
   "metadata": {},
   "source": [
    "## Configuração\n",
    "\n",
    "Antes de iniciarmos as configurações no Kubernetes e Istio, precisamos colocar nosso sistema legado em operação, para isso você precisará de um host.\n",
    "\n",
    "Você tem duas alternativas:\n",
    "\n",
    "1. Usar seu computador - Se você estiver executando o kubernetes em sua máquina, você poderá executar o generic-services usando docker localmente. Na seção 4 você tem um exemplo de como fazer isso.\n",
    "2. Criar uma VM - Você pode criar uma vm na nuvem ou local, se você tiver recursos.\n",
    "\n",
    "Iremos utilizar uma VM na nuvem, mas a diferença é como criar a vm, os demias passos são os mesmos."
   ]
  },
  {
   "cell_type": "markdown",
   "metadata": {},
   "source": [
    "### Criando uma VM\n",
    "\n",
    "Não há uma maneira única de criar uma VM, depende do provedor de nuvem ou do software de virtualização que você escolher, o que precisamos é de um IP que o cluster de kubernetes consiga alcançar.\n",
    "\n",
    "Crie a VM onde for mais conveniente, ela pode ser o menor tamanho possível, utilize cotas gratuítas das nuvens.\n",
    "\n",
    "Nossa VM foi criada na Azure e abrimos as portas 22 (ssh), 8000 (aplicação) e ICMP (protocolos para diagnósticos de rede)\n",
    "\n",
    "> **Dica pro**: Em ambientes de produção não é recomendado abrir portas como a 22 e ICMP, pelo menos não para qualquer origem e é recomendado colocar a(s) máquina(s) atrás de um balanceador de carga e registrar o IP em um DNS.\n",
    "\n",
    "Vamos testar a conectividade do cluster:"
   ]
  },
  {
   "cell_type": "code",
   "execution_count": null,
   "metadata": {},
   "outputs": [],
   "source": [
    "# Verificando conectividade\n",
    "VM_ADDRESS=10.240.0.115 # Usando o IP interno, o mesmo da subnet do cluster k8s\n",
    "kubectl exec -it svc/payment -c payment -- ping -c 5 $VM_ADDRESS"
   ]
  },
  {
   "cell_type": "markdown",
   "metadata": {},
   "source": [
    "Para simplificar, instalamos docker na VM e executaremos o nosso aplicativo usando a imagem do generic-services. Para mais informações de como instalar docker no seu sistema operacional [Install Docker Engine](https://docs.docker.com/engine/install/).\n",
    "\n",
    "> Se você instalar docker em linux provavelmente precisará ajustar as permissões do usuário. Acesse [Post-installation steps for Linux](https://docs.docker.com/engine/install/linux-postinstall/)"
   ]
  },
  {
   "cell_type": "markdown",
   "metadata": {},
   "source": [
    "Acesse a VM via SSH (linux) ou RDP (windows) e execute o serviço:\n",
    "\n",
    "```bash\n",
    "# pegasus-pay API\n",
    "docker run -d --rm \\\n",
    "-p 8000:8000 \\\n",
    "--hostname pegasus-pay \\\n",
    "--name pegasus-pay \\\n",
    "-e SCHED_CALL_URL_LST=http://localhost:8000/healthz \\\n",
    "-e SCHED_CALL_INTERVAL=300 \\\n",
    "-e APP=pegasus-pay \\\n",
    "-e VERSION=v1 \\\n",
    "kdop/generic-service:0.0.5\n",
    "\n",
    "# Logs (CTRL+C para sair)\n",
    "docker logs -f pegasus-pay\n",
    "\n",
    "# Parando o servico\n",
    "kubectl stop pegasus-pay\n",
    "```\n",
    "\n",
    "Vamos verificar a conectividade e o serviço:"
   ]
  },
  {
   "cell_type": "code",
   "execution_count": null,
   "metadata": {},
   "outputs": [],
   "source": [
    "ssh-vm docker run -d --rm \\\n",
    "-p 8000:8000 \\\n",
    "--hostname pegasus-pay \\\n",
    "--name pegasus-pay \\\n",
    "-e SCHED_CALL_URL_LST=http://localhost:8000/healthz \\\n",
    "-e SCHED_CALL_INTERVAL=300 \\\n",
    "-e APP=pegasus-pay \\\n",
    "-e VERSION=v1 \\\n",
    "kdop/generic-service:0.0.5"
   ]
  },
  {
   "cell_type": "code",
   "execution_count": null,
   "metadata": {},
   "outputs": [],
   "source": [
    "# Verificando firewall e serviço\n",
    "SVC_PORT=8000\n",
    "kubectl exec -it svc/payment -c payment -- curl http://$VM_ADDRESS:$SVC_PORT"
   ]
  },
  {
   "cell_type": "markdown",
   "metadata": {},
   "source": [
    "## Configuring Cluster"
   ]
  },
  {
   "cell_type": "markdown",
   "metadata": {},
   "source": [
    "### Prepare the guide environment"
   ]
  },
  {
   "cell_type": "code",
   "execution_count": null,
   "metadata": {},
   "outputs": [],
   "source": [
    "# Defina as variáveis\n",
    "VM_PUB_ADDRESS=\"pegasus.eastus.cloudapp.azure.com\"\n",
    "VM_APP=\"pegasus-pay\"\n",
    "VM_NAMESPACE=\"legacy\"\n",
    "WORK_DIR=\"bkp/vmintegration\"\n",
    "SERVICE_ACCOUNT=\"legacy-pegasus\"\n",
    "VM_USER=\"peguser\"\n",
    "VM_PKEY_PATH=\"bkp/pegasus_key.pem\"\n",
    "\n",
    "# Alias ssh command\n",
    "alias ssh-vm=\"ssh -i $VM_PKEY_PATH $VM_USER@$VM_PUB_ADDRESS\"\n",
    "\n",
    "mkdir -p \"${WORK_DIR}\""
   ]
  },
  {
   "cell_type": "markdown",
   "metadata": {},
   "source": [
    "### Instalando ou modificando a instalação o Istio\n",
    "\n",
    "Você já fez isso antes neste curso, mas agora iremos modificar a instalação para registrar as VMs automaticamente.\n",
    "\n",
    "No nosso cluster:"
   ]
  },
  {
   "cell_type": "code",
   "execution_count": null,
   "metadata": {},
   "outputs": [],
   "source": [
    "# Instala ou modifica a instalação coma configuração para resgistrar VMs automaticamente\n",
    "istioctl install --set values.pilot.env.PILOT_ENABLE_WORKLOAD_ENTRY_AUTOREGISTRATION=true --skip-confirmation"
   ]
  },
  {
   "cell_type": "code",
   "execution_count": null,
   "metadata": {},
   "outputs": [],
   "source": [
    "# Deploy do east-west gateway:\n",
    "istio-1.9.0/samples/multicluster/gen-eastwest-gateway.sh --single-cluster | istioctl install -y -f -"
   ]
  },
  {
   "cell_type": "code",
   "execution_count": null,
   "metadata": {},
   "outputs": [],
   "source": [
    "# Expor o gateway criando um serviço LoadBalancer:\n",
    "kubectl apply -f istio-1.9.0/samples/multicluster/expose-istiod.yaml"
   ]
  },
  {
   "cell_type": "code",
   "execution_count": null,
   "metadata": {},
   "outputs": [],
   "source": [
    "# Verificando o que foi criado\n",
    "kubectl get pods,dr,vs,gw -n istio-system"
   ]
  },
  {
   "cell_type": "markdown",
   "metadata": {},
   "source": [
    "Verifique o endereço e as portas expostas pelo `gateway/istio-eastwestgateway`, usaremos esses dados para a comunicação da VM com o cluster."
   ]
  },
  {
   "cell_type": "code",
   "execution_count": null,
   "metadata": {},
   "outputs": [],
   "source": [
    "kubectl get svc -n istio-system"
   ]
  },
  {
   "cell_type": "markdown",
   "metadata": {},
   "source": [
    "### Configurando o namespace para a VM\n",
    "\n",
    "As VMs serão registradas em um _namespace_, iremos criá-lo e associar uma conta de serviço."
   ]
  },
  {
   "cell_type": "code",
   "execution_count": null,
   "metadata": {},
   "outputs": [],
   "source": [
    "# Namespace\n",
    "kubectl create namespace \"${VM_NAMESPACE}\""
   ]
  },
  {
   "cell_type": "code",
   "execution_count": null,
   "metadata": {},
   "outputs": [],
   "source": [
    "# ServiceAccount\n",
    "kubectl create serviceaccount \"${SERVICE_ACCOUNT}\" -n \"${VM_NAMESPACE}\""
   ]
  },
  {
   "cell_type": "markdown",
   "metadata": {},
   "source": [
    "### Criando os arquivos e transferindo para a VM\n",
    "\n",
    "Para configurar o Envoy na VM, o `istioctl` fornece um utilitário que permite criar o [WorkloadGroup](https://istio.io/latest/docs/reference/config/networking/workload-group/) e os arquivos de configuração, token e certificado que são utiliza para configurar o Envoy na VM."
   ]
  },
  {
   "cell_type": "code",
   "execution_count": null,
   "metadata": {},
   "outputs": [],
   "source": [
    "# Crie um modelo de WorkloadGroup para as VMs\n",
    "istioctl x workload group create --name \"${VM_APP}\" --namespace \"${VM_NAMESPACE}\" --labels app=\"${VM_APP}\" --serviceAccount \"${SERVICE_ACCOUNT}\" > workloadgroup.yaml"
   ]
  },
  {
   "cell_type": "markdown",
   "metadata": {},
   "source": [
    "Cria os arquivos para configuração:\n",
    "\n",
    "* `cluster.env`: Contém metadados que identificam qual namespace, conta de serviço, rede CIDR e (opcionalmente) quais portas de entrada capturar.\n",
    "* `istio-token`: um token do Kubernetes usado para obter certificados da CA.\n",
    "* `mesh.yaml`: fornece metadados adicionais do Istio, incluindo nome de rede, domínio confiável e outros valores.\n",
    "* `root-cert.pem`: O certificado raiz usado para autenticação.\n",
    "* `hosts`: Um adendo ao arquivo `/etc/hosts` que o proxy usará para alcançar istiod para."
   ]
  },
  {
   "cell_type": "code",
   "execution_count": null,
   "metadata": {},
   "outputs": [],
   "source": [
    "# Criando os arquivo em WORK_DIR\n",
    "istioctl x workload entry configure -f workloadgroup.yaml -o \"${WORK_DIR}\"\n",
    "# Aplicando o template no cluster\n",
    "kubectl apply -f workloadgroup.yaml"
   ]
  },
  {
   "cell_type": "code",
   "execution_count": null,
   "metadata": {},
   "outputs": [],
   "source": [
    "# Verificando o que foi criado\n",
    "ls -l $WORK_DIR"
   ]
  },
  {
   "cell_type": "markdown",
   "metadata": {},
   "source": [
    "## Configurando a VM\n",
    "\n",
    "Nesta etápa iremos configurar a VM.\n",
    "\n",
    "> **Dica pro**: Fora do escopo deste curso, idealmente você deve ter um script para automatizar essas etapas para cada nova VM criada que fará parte da malha."
   ]
  },
  {
   "cell_type": "code",
   "execution_count": null,
   "metadata": {},
   "outputs": [],
   "source": [
    "# Transferindo os arquivos para a VM\n",
    "scp -i $VM_PKEY_PATH $WORK_DIR/* $VM_USER@$VM_PUB_ADDRESS:/home/$VM_USER"
   ]
  },
  {
   "cell_type": "markdown",
   "metadata": {},
   "source": [
    "> Se vc preferir, abra um terminal para a sua máquina virtual e entre com os comandos abaixo, retirando o comando `ssh-vm`."
   ]
  },
  {
   "cell_type": "code",
   "execution_count": null,
   "metadata": {},
   "outputs": [],
   "source": [
    "# Instalando o certificado root\n",
    "ssh-vm sudo mkdir -p /etc/certs\n",
    "ssh-vm sudo cp /home/$VM_USER/root-cert.pem /etc/certs/root-cert.pem"
   ]
  },
  {
   "cell_type": "code",
   "execution_count": null,
   "metadata": {},
   "outputs": [],
   "source": [
    "# Instalando o token\n",
    "ssh-vm sudo mkdir -p /var/run/secrets/tokens\n",
    "ssh-vm sudo cp /home/$VM_USER/istio-token /var/run/secrets/tokens/istio-token"
   ]
  },
  {
   "cell_type": "code",
   "execution_count": null,
   "metadata": {},
   "outputs": [],
   "source": [
    "# Instalando a configuração cluster.env\n",
    "ssh-vm sudo cp /home/$VM_USER/cluster.env /var/lib/istio/envoy/cluster.env"
   ]
  },
  {
   "cell_type": "code",
   "execution_count": null,
   "metadata": {},
   "outputs": [],
   "source": [
    "# Instalando a configuração mesh.yaml\n",
    "ssh-vm sudo cp /home/$VM_USER/mesh.yaml /etc/istio/config/mesh"
   ]
  },
  {
   "cell_type": "code",
   "execution_count": null,
   "metadata": {},
   "outputs": [],
   "source": [
    "# Ajustando permissões\n",
    "ssh-vm sudo mkdir -p /etc/istio/proxy\n",
    "ssh-vm sudo chown -R istio-proxy /var/lib/istio /etc/certs /etc/istio/proxy /etc/istio/config /var/run/secrets /etc/certs/root-cert.pem"
   ]
  },
  {
   "cell_type": "code",
   "execution_count": null,
   "metadata": {},
   "outputs": [],
   "source": [
    "# Adicionando o endereço do LoadBalancer do gateway/istio-eastwestgateway no /etc/hosts\n",
    "ssh-vm sudo -- sh -c \"cat /home/peguser/hosts >> /etc/hosts\" # TODO: Não funciona adicionar manualmente"
   ]
  },
  {
   "cell_type": "markdown",
   "metadata": {},
   "source": [
    "> **Dica pro**: O objetivo desse comando é resolver o nome do serviço de descobert do Istio (discoveryAddress). Em produção, não adicione entradas no `/etc/hosts`, registre o endereço em um DNS e utilize o registro. Se não for possível, certifique-se de que o endereço atribuído ao balanceador de carga não mudará."
   ]
  },
  {
   "cell_type": "code",
   "execution_count": null,
   "metadata": {},
   "outputs": [],
   "source": [
    "# Instando o sidecar (Linux)\n",
    "ssh-vm curl -LO https://storage.googleapis.com/istio-release/releases/1.9.0/deb/istio-sidecar.deb\n",
    "ssh-vm sudo dpkg -i istio-sidecar.deb"
   ]
  },
  {
   "cell_type": "markdown",
   "metadata": {},
   "source": [
    "> Nesta versão, o Istio suporta apenas os sistemas operacionais Linux baseados em centos e debian."
   ]
  },
  {
   "cell_type": "code",
   "execution_count": null,
   "metadata": {},
   "outputs": [],
   "source": [
    "# Inicia o sidecar\n",
    "ssh-vm sudo systemctl start istio"
   ]
  },
  {
   "cell_type": "code",
   "execution_count": null,
   "metadata": {},
   "outputs": [],
   "source": [
    "# Habilita a inicialização automática do sidecar após o boot\n",
    "ssh-vm sudo systemctl enable istio"
   ]
  },
  {
   "cell_type": "markdown",
   "metadata": {},
   "source": [
    "### Verificando o funcionamento do _sidecar_"
   ]
  },
  {
   "cell_type": "code",
   "execution_count": null,
   "metadata": {},
   "outputs": [],
   "source": [
    "# Check the log in /var/log/istio/istio.log. You should see entries similar to the following:\n",
    "ssh-vm tail /var/log/istio/istio.log"
   ]
  },
  {
   "cell_type": "markdown",
   "metadata": {},
   "source": [
    "Os logs não devem exibir erros, e devem se parecer com este:\n",
    "\n",
    "```bash\n",
    "2020-12-26T14:48:26.699574Z\tinfo\tcache\tGenerateSecret from file ROOTCA\n",
    "2020-12-26T14:48:26.699958Z\tinfo\tsds\tresource:ROOTCA pushed root cert to proxy\n",
    "2020-12-26T14:48:26.700180Z\tinfo\tsds\tresource:default new connection\n",
    "2020-12-26T14:48:26.700215Z\tinfo\tsds\tSkipping waiting for gateway secret\n",
    "2020-12-26T14:48:26.700370Z\tinfo\tcache\tadding watcher for file ./etc/certs/cert-chain.pem\n",
    "2020-12-26T14:48:26.700396Z\tinfo\tcache\tGenerateSecret from file default\n",
    "2020-12-26T14:48:26.700582Z\tinfo\tsds\tresource:default pushed key/cert pair to proxy\n",
    "2020-12-26T15:18:33.664500Z\tinfo\txdsproxy\tdisconnected from XDS server: istiod.istio-system.svc:15012\n",
    "2020-12-26T15:18:34.115504Z\tinfo\txdsproxy\tEnvoy ADS stream established\n",
    "2020-12-26T15:18:34.115625Z\tinfo\txdsproxy\tconnecting to upstream XDS server: istiod.istio-system.svc:15012\n",
    "```\n",
    "\n",
    "Os erros que encontramos durante a instalação:\n",
    "\n",
    "* Conexão recusada ou tempo de espera esgotado: Verifique a conectividade a VM com o serviço do ingress. Execute o comando `kubectl get svc -n istio-system`, procure o endereço externo do serviço `istio-egressgateway` e execute comandos de `telnet` ou `netcat` com o endereço e portas. Exemplo: `telnet 52.150.37.127 15012` deve retornar sucesso `Connected to 52.150.37.127.`.\n",
    "* Erro de validação de token ou certificados - Verifique se os arquivos criados na pasta vmintegration foram corretamente copiados para a VM e copiados para os diretório. Caso necessário pare o serviço do istio na VM, repita o processo e inicie o serviço novamente.\n",
    "* [TODO] Erro de conexão TLS: Não aparce nos logs. Foi necessário desligar o TLS múto para o namespace `legacy` para conexão Cluster -> VM, o caminho inverso não tem problema."
   ]
  },
  {
   "cell_type": "markdown",
   "metadata": {},
   "source": [
    "Para verificar a conectividade da máquina virtual, execute o seguinte comando:"
   ]
  },
  {
   "cell_type": "code",
   "execution_count": null,
   "metadata": {},
   "outputs": [],
   "source": [
    "ssh-vm curl localhost:15000/clusters | grep payment"
   ]
  },
  {
   "cell_type": "markdown",
   "metadata": {},
   "source": [
    "Vamos enviar requisições para os serviços no cluster:"
   ]
  },
  {
   "cell_type": "code",
   "execution_count": null,
   "metadata": {},
   "outputs": [],
   "source": [
    "ssh-vm curl -s payment.default.svc:8000/"
   ]
  },
  {
   "cell_type": "code",
   "execution_count": null,
   "metadata": {},
   "outputs": [],
   "source": [
    "ssh-vm curl -s \"front-end.default.svc:8000/r?code=404&wait=1s\""
   ]
  },
  {
   "cell_type": "markdown",
   "metadata": {},
   "source": [
    "### Conectando os serviços do cluster aos da VM\n",
    "\n",
    "Conseguimos consumir serviços do cluster desde a VM, agora vamos configurar o cluster para consumir os serviços na VM.\n",
    "\n",
    "Como instalamos o Istio com o parâmetro de criação automática de [WorkLoadEntry](https://istio.io/latest/docs/reference/config/networking/workload-entry/), a nossa VM já foi registrada, podemos verificar:"
   ]
  },
  {
   "cell_type": "code",
   "execution_count": null,
   "metadata": {},
   "outputs": [],
   "source": [
    "kubectl get workloadentry.networking.istio.io -A"
   ]
  },
  {
   "cell_type": "markdown",
   "metadata": {},
   "source": [
    "Você pode configurar qualquer endereço que o cluster consiga chegar na VM, verificamos que o autoregistro do Istio escolheu o endereço privado.\n",
    "\n",
    "Se o Istio não estiver configurado para autogegistrar as VMs ou se você deseja configurá-los em um _pipeline_, por exemplo, basta escrever e aplicar no cluster a configuração abaixo."
   ]
  },
  {
   "cell_type": "code",
   "execution_count": null,
   "metadata": {},
   "outputs": [],
   "source": [
    "echo \"Interno: $VM_ADDRESS\"\n",
    "echo \"Público: $VM_PUB_ADDRESS\""
   ]
  },
  {
   "cell_type": "code",
   "execution_count": null,
   "metadata": {},
   "outputs": [],
   "source": [
    "# [Desnecessário se o autoregistro estiver ligado]\n",
    "cat <<EOF | kubectl -n legacy apply -f -\n",
    "apiVersion: networking.istio.io/v1beta1\n",
    "kind: WorkloadEntry\n",
    "metadata:\n",
    "  name: \"pegasus-pay\"\n",
    "  namespace: \"legacy\"\n",
    "spec:\n",
    "  address: \"$VM_ADDRESS\"\n",
    "  labels:\n",
    "    app: pegasus-pay\n",
    "  serviceAccount: \"legacy-pegasus\"\n",
    "EOF"
   ]
  },
  {
   "cell_type": "markdown",
   "metadata": {},
   "source": [
    "A configuração a seguir registrar um serviço kubernetes para a nossa VM, dessa forma os demais serviços poderão acessá-la como qualquer outro serviço:"
   ]
  },
  {
   "cell_type": "code",
   "execution_count": null,
   "metadata": {},
   "outputs": [],
   "source": [
    "# Add virtual machine services to the mesh\n",
    "cat <<EOF | kubectl -n legacy apply -f -\n",
    "apiVersion: v1\n",
    "kind: Service\n",
    "metadata:\n",
    "  name: pegasus-pay\n",
    "  labels:\n",
    "    app: pegasus-pay\n",
    "spec:\n",
    "  ports:\n",
    "  - port: 8000\n",
    "    name: http-vm\n",
    "    targetPort: 8000\n",
    "  selector:\n",
    "    app: pegasus-pay\n",
    "EOF"
   ]
  },
  {
   "cell_type": "markdown",
   "metadata": {},
   "source": [
    "Acessando o serviço da VM pelo cluster:"
   ]
  },
  {
   "cell_type": "code",
   "execution_count": null,
   "metadata": {},
   "outputs": [],
   "source": [
    "kubectl exec -it svc/payment -c payment -- curl pegasus-pay.legacy.svc.cluster.local:8000"
   ]
  },
  {
   "cell_type": "markdown",
   "metadata": {},
   "source": [
    "#### TLS mutuo\n",
    "\n",
    "Ao executar o comando acima retornou o erro:\n",
    "\n",
    "`upstream connect error or disconnect/reset before headers. reset reason: connection failure`\n",
    "\n",
    "Vamos desabilitar o TLS mútuo para o _namespace_"
   ]
  },
  {
   "cell_type": "code",
   "execution_count": null,
   "metadata": {},
   "outputs": [],
   "source": [
    "# Desabilitando o MTLS para o namesapce legacy\n",
    "# Solução de contorno para comunicação Cluster -> VM\n",
    "cat <<EOF | kubectl apply -f -\n",
    "apiVersion: \"security.istio.io/v1beta1\"\n",
    "kind: \"PeerAuthentication\"\n",
    "metadata:\n",
    "  name: \"disable-mtls-legacy\"\n",
    "  namespace: \"legacy\"\n",
    "spec:\n",
    "  mtls:\n",
    "    mode: DISABLE\n",
    "EOF"
   ]
  },
  {
   "cell_type": "code",
   "execution_count": null,
   "metadata": {},
   "outputs": [],
   "source": [
    "#kubectl delete peerauthentication.security.istio.io/disable-mtls-legacy -n legacy"
   ]
  },
  {
   "cell_type": "markdown",
   "metadata": {},
   "source": [
    "E executar o teste novamente:"
   ]
  },
  {
   "cell_type": "code",
   "execution_count": null,
   "metadata": {},
   "outputs": [],
   "source": [
    "kubectl exec -it svc/payment -c payment -- curl pegasus-pay.legacy.svc.cluster.local:8000"
   ]
  },
  {
   "cell_type": "markdown",
   "metadata": {},
   "source": [
    "Ver Issues."
   ]
  },
  {
   "cell_type": "markdown",
   "metadata": {},
   "source": [
    "### Monitorando a VM\n",
    "\n",
    "TODO\n",
    "\n",
    "Inicie o kiali e jaeger.\n",
    "\n",
    "Abra um terminal e execute o comando algumas vezes."
   ]
  },
  {
   "cell_type": "code",
   "execution_count": null,
   "metadata": {},
   "outputs": [],
   "source": [
    "kubectl exec -it svc/payment -c payment -- bash"
   ]
  },
  {
   "cell_type": "code",
   "execution_count": null,
   "metadata": {},
   "outputs": [],
   "source": [
    "for i in $(seq 1 10);\n",
    "do curl pegasus-pay.legacy.svc.cluster.local:8000;\n",
    "done"
   ]
  },
  {
   "cell_type": "markdown",
   "metadata": {},
   "source": [
    "Conecte um terminal a VM e execute o comando abaixo algumas vezes."
   ]
  },
  {
   "cell_type": "code",
   "execution_count": null,
   "metadata": {},
   "outputs": [],
   "source": [
    "for i in $(seq 1 100); do curl payment.default.svc.cluster.local:8000; done"
   ]
  },
  {
   "cell_type": "markdown",
   "metadata": {},
   "source": [
    "Para que o kiali represente corretamente o serviço."
   ]
  },
  {
   "cell_type": "code",
   "execution_count": null,
   "metadata": {},
   "outputs": [],
   "source": [
    "cat <<EOF | kubectl apply -f -\n",
    "apiVersion: networking.istio.io/v1alpha3\n",
    "kind: ServiceEntry\n",
    "metadata:\n",
    "  name: pegasus-pay\n",
    "  namespace: legacy\n",
    "spec:\n",
    "  hosts:\n",
    "  - pegasus-pay.legacy\n",
    "  location: MESH_INTERNAL\n",
    "  ports:\n",
    "  - number: 8000\n",
    "    name: http\n",
    "    protocol: HTTP\n",
    "  resolution: DNS\n",
    "EOF"
   ]
  },
  {
   "cell_type": "code",
   "execution_count": null,
   "metadata": {},
   "outputs": [],
   "source": [
    "kubectl get se/pegasus-pay -n legacy"
   ]
  },
  {
   "cell_type": "markdown",
   "metadata": {},
   "source": [
    "## Limpando o ambiente\n",
    "\n",
    "Esta é a última seção do curso, então não se esqueça de remover todos os recursos criados, principalmente se houver algum custo associado.\n",
    "\n",
    "> A exclusão dos recursos abaixo só é necessário se você não excluir a VM e o cluster."
   ]
  },
  {
   "cell_type": "code",
   "execution_count": null,
   "metadata": {},
   "outputs": [],
   "source": [
    "# Na VM\n",
    "#Stop Istio on the virtual machine:\n",
    "ssh-vm sudo systemctl stop istio\n",
    "\n",
    "# Remove a instalação do sidecar\n",
    "ssh-vm sudo dpkg -r istio-sidecar\n",
    "ssh-vm dpkg -s istio-sidecar"
   ]
  },
  {
   "cell_type": "code",
   "execution_count": null,
   "metadata": {},
   "outputs": [],
   "source": [
    "# No cluster\n",
    "# Namespace legacy\n",
    "kubectl delete ns legacy\n",
    "\n",
    "# Deploys do istio para simul-shop\n",
    "kubectl delete -f assets/exemplos/simul-shop/istio/\n",
    "\n",
    "# Deploys do simul-shop\n",
    "kubectl delete -f assets/exemplos/simul-shop/manifests/\n",
    "\n",
    "# Istio\n",
    "kubectl delete namespace istio-system"
   ]
  },
  {
   "cell_type": "markdown",
   "metadata": {},
   "source": [
    "## Outras alternativas\n",
    "\n",
    "A tecnologia KubeVirt atende às necessidades das equipes de desenvolvimento que adotaram ou desejam adotar o Kubernetes, mas possuem cargas de trabalho baseadas em máquinas virtuais que não podem ser facilmente armazenadas em contêineres. Mais especificamente, a tecnologia fornece uma plataforma de desenvolvimento unificada onde os desenvolvedores podem construir, modificar e implantar aplicativos que residem tanto em contêineres de aplicativos quanto em máquinas virtuais em um ambiente comum e compartilhado.\n",
    "\n",
    "Para mais informações acesse: https://kubevirt.io/ e https://kubevirt.io/2018/Run-Istio-with-kubevirt.html\n",
    "\n"
   ]
  }
 ],
 "metadata": {
  "kernelspec": {
   "display_name": "Bash",
   "language": "bash",
   "name": "bash"
  },
  "language_info": {
   "codemirror_mode": "shell",
   "file_extension": ".sh",
   "mimetype": "text/x-sh",
   "name": "bash"
  }
 },
 "nbformat": 4,
 "nbformat_minor": 4
}
