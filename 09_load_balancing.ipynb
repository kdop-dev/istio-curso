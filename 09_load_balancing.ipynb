{
 "cells": [
  {
   "cell_type": "markdown",
   "source": [
    "# Balanceamento de carga\n",
    "\n",
    "Uma das aplicações no controle de tráfego é o balanceamento de carga, diferente da versão canário, que distribui a carga com base em pesos, o balanceamento de carga tem como objetivo distribuir a carga uniforme, aplicando algum algoritmo.\n",
    "\n",
    "O Istio tem um grande conjunto de recursos para balanceamento de carga, eles são configurados nas [Destination Rule](https://istio.io/latest/docs/reference/config/networking/destination-rule/), vamos analisar os mais comuns."
   ],
   "metadata": {}
  },
  {
   "cell_type": "markdown",
   "source": [
    "## Simples: Round Robin\n",
    "\n",
    "O mais comum dos algoritmos de balanceamento, simplesmente o algoritmo entrega uma requisição para cada destino saudável (exemplo: que não tenha retornado erro nas últimas cinco requisições). Por padrão, os _proxies_ Envoy distribuem o tráfego usando um modelo _round-robin_.\n",
    "\n",
    "Vamos adicionar mais uma versão ao front-end para que vejamos as diferenças entre os algoritmos."
   ],
   "metadata": {}
  },
  {
   "cell_type": "code",
   "execution_count": null,
   "source": [
    "kubectl apply -f assets/exemplos/simul-shop/manifests/9/front-end-deployment-v3.yaml"
   ],
   "outputs": [],
   "metadata": {}
  },
  {
   "cell_type": "code",
   "execution_count": null,
   "source": [
    "# all-pods\n",
    "kubectl get pods -l app=front-end "
   ],
   "outputs": [],
   "metadata": {}
  },
  {
   "cell_type": "markdown",
   "source": [
    "Agora vamos aplicar a configuração do arquivo [assets/exemplos/simul-shop/istio/9/front-end-loadbalancer-round-robin.yaml](assets/exemplos/simul-shop/istio/9/front-end-loadbalancer-round-robin.yaml)."
   ],
   "metadata": {}
  },
  {
   "cell_type": "code",
   "execution_count": null,
   "source": [
    "kubectl apply -f assets/exemplos/simul-shop/istio/9/front-end-loadbalancer-round-robin.yaml"
   ],
   "outputs": [],
   "metadata": {}
  },
  {
   "cell_type": "markdown",
   "source": [
    "Vamos olhar no terminal, se você fechou o script [assets/scripts/call.sh](assets/scripts/call.sh) que estavamos executando no container `login`, execute-o novamente `kubectl exec -it svc/login -c login -- bash`.\n",
    "\n",
    "você deve obter uma saída semelhante a esta:\n",
    "\n",
    "```bash\n",
    "{\"name\":\"split\",\"description\":\"List ['http://login:8000/', 'http://catalogue:8000/', 'http://orders:8000/s']\",\"app\":\"front-end\",\"version\":\"v1\",\"when\":\"2020-11-09 22:21:31\"}\n",
    "{\"name\":\"split\",\"description\":\"List ['http://login:8000/', 'http://catalogue:8000/', 'http://orders:8000/s']\",\"app\":\"front-end\",\"version\":\"v2\",\"when\":\"2020-11-09 22:21:32\"}\n",
    "{\"name\":\"split\",\"description\":\"List ['http://login:8000/', 'http://catalogue:8000/', 'http://orders:8000/s']\",\"app\":\"front-end\",\"version\":\"v3\",\"when\":\"2020-11-09 22:21:33\"}\n",
    "{\"name\":\"split\",\"description\":\"List ['http://login:8000/', 'http://catalogue:8000/', 'http://orders:8000/s']\",\"app\":\"front-end\",\"version\":\"v1\",\"when\":\"2020-11-09 22:21:34\"}\n",
    "{\"name\":\"split\",\"description\":\"List ['http://login:8000/', 'http://catalogue:8000/', 'http://orders:8000/s']\",\"app\":\"front-end\",\"version\":\"v2\",\"when\":\"2020-11-09 22:21:35\"}\n",
    "{\"name\":\"split\",\"description\":\"List ['http://login:8000/', 'http://catalogue:8000/', 'http://orders:8000/s']\",\"app\":\"front-end\",\"version\":\"v3\",\"when\":\"2020-11-09 22:21:37\"}\n",
    "```\n",
    "\n",
    "E no kiali o gráfico ficará assim:\n",
    "\n",
    "![kilai loadbalancer round robin](media/kilai-loadbalancer-round-robin.png)\n",
    "\n",
    "Como já vimos a distribuição não é precisa, algumas vezes as requisições ficam fora da ordem, mas o Istio fará o melhor esforço para distribuir as requisições e, após um período mais longo, deverá ser de 1/3 para cada serviço.\n",
    "\n",
    "Agora vamos tentar um algoritmo diferente."
   ],
   "metadata": {}
  },
  {
   "cell_type": "markdown",
   "source": [
    "## Simples: Random\n",
    "\n",
    "A configuração [assets/exemplos/simul-shop/istio/9/front-end-loadbalancer-random.yaml](assets/exemplos/simul-shop/istio/9/front-end-loadbalancer-random.yaml), usa um algoritmo que escolhe aleatoriamente uma das três opções e envia a requisição."
   ],
   "metadata": {}
  },
  {
   "cell_type": "code",
   "execution_count": null,
   "source": [
    "kubectl apply -f assets/exemplos/simul-shop/istio/9/front-end-loadbalancer-random.yaml"
   ],
   "outputs": [],
   "metadata": {}
  },
  {
   "cell_type": "markdown",
   "source": [
    "Agora o script [assets/scripts/call.sh](assets/scripts/call.sh) deve exibir algo mais aleatório, como isto:\n",
    "\n",
    "```bash\n",
    "{\"name\":\"split\",\"description\":\"List ['http://login:8000/', 'http://catalogue:8000/', 'http://orders:8000/s']\",\"app\":\"front-end\",\"version\":\"v3\",\"when\":\"2020-11-09 22:25:52\"}\n",
    "{\"name\":\"split\",\"description\":\"List ['http://login:8000/', 'http://catalogue:8000/', 'http://orders:8000/s']\",\"app\":\"front-end\",\"version\":\"v2\",\"when\":\"2020-11-09 22:25:53\"}\n",
    "{\"name\":\"split\",\"description\":\"List ['http://login:8000/', 'http://catalogue:8000/', 'http://orders:8000/s']\",\"app\":\"front-end\",\"version\":\"v2\",\"when\":\"2020-11-09 22:25:55\"}\n",
    "{\"name\":\"split\",\"description\":\"List ['http://login:8000/', 'http://catalogue:8000/', 'http://orders:8000/s']\",\"app\":\"front-end\",\"version\":\"v1\",\"when\":\"2020-11-09 22:25:56\"}\n",
    "{\"name\":\"split\",\"description\":\"List ['http://login:8000/', 'http://catalogue:8000/', 'http://orders:8000/s']\",\"app\":\"front-end\",\"version\":\"v1\",\"when\":\"2020-11-09 22:25:57\"}\n",
    "{\"name\":\"split\",\"description\":\"List ['http://login:8000/', 'http://catalogue:8000/', 'http://orders:8000/s']\",\"app\":\"front-end\",\"version\":\"v3\",\"when\":\"2020-11-09 22:25:58\"}\n",
    "{\"name\":\"split\",\"description\":\"List ['http://login:8000/', 'http://catalogue:8000/', 'http://orders:8000/s']\",\"app\":\"front-end\",\"version\":\"v3\",\"when\":\"2020-11-09 22:25:59\"}\n",
    "{\"name\":\"split\",\"description\":\"List ['http://login:8000/', 'http://catalogue:8000/', 'http://orders:8000/s']\",\"app\":\"front-end\",\"version\":\"v2\",\"when\":\"2020-11-09 22:26:00\"}\n",
    "{\"name\":\"split\",\"description\":\"List ['http://login:8000/', 'http://catalogue:8000/', 'http://orders:8000/s']\",\"app\":\"front-end\",\"version\":\"v1\",\"when\":\"2020-11-09 22:26:02\"}\n",
    "{\"name\":\"split\",\"description\":\"List ['http://login:8000/', 'http://catalogue:8000/', 'http://orders:8000/s']\",\"app\":\"front-end\",\"version\":\"v1\",\"when\":\"2020-11-09 22:26:03\"}\n",
    "{\"name\":\"split\",\"description\":\"List ['http://login:8000/', 'http://catalogue:8000/', 'http://orders:8000/s']\",\"app\":\"front-end\",\"version\":\"v3\",\"when\":\"2020-11-09 22:26:04\"}\n",
    "{\"name\":\"split\",\"description\":\"List ['http://login:8000/', 'http://catalogue:8000/', 'http://orders:8000/s']\",\"app\":\"front-end\",\"version\":\"v1\",\"when\":\"2020-11-09 22:26:05\"}\n",
    "```\n",
    "\n",
    "Até o momemnto testamos _RANDOM_ e _ROUND_ROBIN_ proque são as mais fáceis de observar, a mais duas opções: _LEAST_CONN_ e _PASSTHROUGH_. _LEAST_CONN_, seleciona aleatoriamente dois destinos saudáveis e envia a requisição para o destino com menor quantidade de requisições. _PASSTHROUGH_ é uma configuração de passagem, envia a requisição diretamente para o endereço configurado, sem nenhum balanceamento.\n",
    "\n",
    "Para conhecer quais PODs o Istio irá considerar no balanceamento você pode inspecionar a configurações do Envoy."
   ],
   "metadata": {}
  },
  {
   "cell_type": "code",
   "execution_count": null,
   "source": [
    "POD=$(kubectl get pod -l \"app=front-end,version=v1\" --template '{{range .items}}{{.metadata.name}}{{\"\\n\"}}{{end}}')\n",
    "istioctl proxy-config endpoints $POD --cluster \"outbound|8000|all-pods|front-end.default.svc.cluster.local\""
   ],
   "outputs": [],
   "metadata": {}
  },
  {
   "cell_type": "markdown",
   "source": [
    "> Você pode consultar qualquer um dos três PODs (v1, v2, v3), todos tem a mesma configuração."
   ],
   "metadata": {}
  },
  {
   "cell_type": "markdown",
   "source": [
    "As configurações para o balanceador de carga simples estão em [Destination Rule](https://istio.io/latest/docs/reference/config/networking/destination-rule/)-[LoadBalancerSettings.SimpleLB](LoadBalancerSettings.SimpleLB) e iremos explorar mais algumas nesta seção."
   ],
   "metadata": {}
  },
  {
   "cell_type": "markdown",
   "source": [
    "> Para verificar quais as configurações que o Istio fez para o Envoy, acesse o dashboard do envoy com o comando `istioctl dashboard envoy -l \"app=front-end\"`, selecione o link [config_dump](http://localhost:15000/config_dump) e procure pela _string_ `outbound|8000|all-pods|front-end.default.svc.cluster.local`, próximo você deverá encontrar a configuração `lb_policy`. Verifique para cada nova configuração que fizermos no Istio, o que foi configurado no Envoy. Aproveite para conhecer mais configurações feitas pelo Istio."
   ],
   "metadata": {}
  },
  {
   "cell_type": "markdown",
   "source": [
    "## Afinidade de sessão\n",
    "\n",
    "O Istio prove um tipo de balanceador de carga que utiliza um algoritmo de [hash](https://en.wikipedia.org/wiki/Hash_function) para determinar o destino da requisição, dessa forma, sempre que o mesmo dado for passado para o algoritmo, ele selecionará o mesmo destino.\n",
    "\n",
    "As opções são:\n",
    "\n",
    "* **httpHeaderName** - Hash baseado em um cabeçalho HTTP específico.\n",
    "* **httpCookie** - Hash baseado em cookie HTTP.\n",
    "* **useSourceIp** - Hash baseado no endereço IP de origem.\n",
    "* **httpQueryParameterName** - Hash com base em um parâmetro de consulta HTTP específico.\n",
    "\n",
    "> O Istio irá configurar o envoy com a política de balanceamento `RING_HASH`, para mais informações consulte: [Envoy - Load Balancing](https://www.envoyproxy.io/docs/envoy/latest/intro/arch_overview/upstream/load_balancing/load_balancing)-[Ring hash](https://www.envoyproxy.io/docs/envoy/latest/intro/arch_overview/upstream/load_balancing/load_balancers.html?highlight=hash#ring-hash) e [Destination Rule](https://istio.io/latest/docs/reference/config/networking/destination-rule/)-[LoadBalancerSettings.ConsistentHashLB](https://istio.io/latest/docs/reference/config/networking/destination-rule/#LoadBalancerSettings-ConsistentHashLB).\n",
    "\n",
    "Neste exemplo [assets/exemplos/simul-shop/istio/9/front-end-loadbalancer-stick.yaml](assets/exemplos/simul-shop/istio/9/front-end-loadbalancer-stick.yaml) iremos configurar a afinidade por IP de origem da requisição:"
   ],
   "metadata": {}
  },
  {
   "cell_type": "code",
   "execution_count": null,
   "source": [
    "kubectl apply -f assets/exemplos/simul-shop/istio/9/front-end-loadbalancer-stick.yaml"
   ],
   "outputs": [],
   "metadata": {}
  },
  {
   "cell_type": "markdown",
   "source": [
    "Vá para o terminal, agora você deve ter todas as saídas para o mesmo POD/versão.\n",
    "\n",
    "```bash\n",
    "{\"name\":\"split\",\"description\":\"List ['http://login:8000/', 'http://catalogue:8000/', 'http://orders:8000/s']\",\"app\":\"front-end\",\"version\":\"v3\",\"when\":\"2020-11-10 17:48:24\"}\n",
    "{\"name\":\"split\",\"description\":\"List ['http://login:8000/', 'http://catalogue:8000/', 'http://orders:8000/s']\",\"app\":\"front-end\",\"version\":\"v3\",\"when\":\"2020-11-10 17:48:25\"}\n",
    "{\"name\":\"split\",\"description\":\"List ['http://login:8000/', 'http://catalogue:8000/', 'http://orders:8000/s']\",\"app\":\"front-end\",\"version\":\"v3\",\"when\":\"2020-11-10 17:48:26\"}\n",
    "{\"name\":\"split\",\"description\":\"List ['http://login:8000/', 'http://catalogue:8000/', 'http://orders:8000/s']\",\"app\":\"front-end\",\"version\":\"v3\",\"when\":\"2020-11-10 17:48:27\"}\n",
    "{\"name\":\"split\",\"description\":\"List ['http://login:8000/', 'http://catalogue:8000/', 'http://orders:8000/s']\",\"app\":\"front-end\",\"version\":\"v3\",\"when\":\"2020-11-10 17:48:28\"}\n",
    "```\n",
    "\n",
    "Nesse caso foi a v3, mas poderia ser qualquer uma dos três.\n",
    "\n",
    "Essa configuração [assets/exemplos/simul-shop/istio/9/front-end-loadbalancer-query.yaml](assets/exemplos/simul-shop/istio/9/front-end-loadbalancer-query.yaml) irá usar o parâmetro `name` na URL para criar o _ hash_."
   ],
   "metadata": {}
  },
  {
   "cell_type": "code",
   "execution_count": null,
   "source": [
    "# Remover o anterior\n",
    "kubectl delete -f assets/exemplos/simul-shop/istio/9/front-end-loadbalancer-stick.yaml"
   ],
   "outputs": [],
   "metadata": {}
  },
  {
   "cell_type": "code",
   "execution_count": null,
   "source": [
    "kubectl apply -f assets/exemplos/simul-shop/istio/9/front-end-loadbalancer-query.yaml"
   ],
   "outputs": [],
   "metadata": {}
  },
  {
   "cell_type": "markdown",
   "source": [
    "Agora vá para o terminal e adicione o parâmetro `name` com qualquer valor (ou copie de [assets/scripts/call-param.sh](assets/scripts/call-param.sh)).\n",
    "\n",
    "`while true; do curl http://front-end:8000/s?name=anderson; echo; sleep 1; done`\n",
    "\n",
    "```bash\n",
    "{\"name\":\"split\",\"description\":\"List ['http://login:8000/', 'http://catalogue:8000/', 'http://orders:8000/s']\",\"app\":\"front-end\",\"version\":\"v1\",\"when\":\"2020-11-10 17:52:46\"}\n",
    "{\"name\":\"split\",\"description\":\"List ['http://login:8000/', 'http://catalogue:8000/', 'http://orders:8000/s']\",\"app\":\"front-end\",\"version\":\"v1\",\"when\":\"2020-11-10 17:52:47\"}\n",
    "{\"name\":\"split\",\"description\":\"List ['http://login:8000/', 'http://catalogue:8000/', 'http://orders:8000/s']\",\"app\":\"front-end\",\"version\":\"v1\",\"when\":\"2020-11-10 17:52:48\"}\n",
    "{\"name\":\"split\",\"description\":\"List ['http://login:8000/', 'http://catalogue:8000/', 'http://orders:8000/s']\",\"app\":\"front-end\",\"version\":\"v1\",\"when\":\"2020-11-10 17:52:49\"}\n",
    "````\n",
    "\n",
    "Modifique o valor algumas vezes para ser direcionado para PODs diferentes.\n",
    "\n",
    "`while true; do curl http://front-end:8000/s?name=stela; echo; sleep 1; done`\n",
    "\n",
    "```bash\n",
    "{\"name\":\"split\",\"description\":\"List ['http://login:8000/', 'http://catalogue:8000/', 'http://orders:8000/s']\",\"app\":\"front-end\",\"version\":\"v3\",\"when\":\"2020-11-10 17:53:01\"}\n",
    "{\"name\":\"split\",\"description\":\"List ['http://login:8000/', 'http://catalogue:8000/', 'http://orders:8000/s']\",\"app\":\"front-end\",\"version\":\"v3\",\"when\":\"2020-11-10 17:53:02\"}\n",
    "{\"name\":\"split\",\"description\":\"List ['http://login:8000/', 'http://catalogue:8000/', 'http://orders:8000/s']\",\"app\":\"front-end\",\"version\":\"v3\",\"when\":\"2020-11-10 17:53:03\"}\n",
    "{\"name\":\"split\",\"description\":\"List ['http://login:8000/', 'http://catalogue:8000/', 'http://orders:8000/s']\",\"app\":\"front-end\",\"version\":\"v3\",\"when\":\"2020-11-10 17:53:04\"}\n",
    "{\"name\":\"split\",\"description\":\"List ['http://login:8000/', 'http://catalogue:8000/', 'http://orders:8000/s']\",\"app\":\"front-end\",\"version\":\"v3\",\"when\":\"2020-11-10 17:53:05\"}\n",
    "```\n",
    "\n",
    "Você pode interromper a execução com <kbd>CTRL</kbd>+<kbd>C</kbd> e retomá-la. Enquanto parâmetro `name` contiver o mesmo valor, o POD escolhido será o mesmo.\n",
    "\n",
    "Experimente outros valores, lembrando que temos apenas três PODs e procure nas configurações do Envoy para ver como o Istio o configurou."
   ],
   "metadata": {}
  },
  {
   "cell_type": "markdown",
   "source": [
    "## Conclusão\n",
    "\n",
    "A uma grande quantidade de opções para configurar as _DestinationRules_, acabamos de ver uma delas, o balanceamento de carga, e as alternativas vão bem além da simples rodada de distribuição feita pelo serviço do Kubernetes.\n",
    "\n",
    "Na próxima seção iremos discutir como configurar gerenciamento de tráfego para trazer o tráfego de fora do cluster para a nossa malha."
   ],
   "metadata": {}
  },
  {
   "cell_type": "markdown",
   "source": [
    "## Limpeza\n",
    "\n",
    "Vamos remover as regras para não conflitar com as próximas seções."
   ],
   "metadata": {}
  },
  {
   "cell_type": "code",
   "execution_count": null,
   "source": [
    "# Removendo config do Istio\n",
    "kubectl delete -f assets/exemplos/simul-shop/istio/9/front-end-loadbalancer-query.yaml"
   ],
   "outputs": [],
   "metadata": {}
  },
  {
   "cell_type": "code",
   "execution_count": null,
   "source": [
    "# Verificando se deixamos passar algo\n",
    "kubectl get vs,dr"
   ],
   "outputs": [],
   "metadata": {}
  },
  {
   "cell_type": "code",
   "execution_count": null,
   "source": [
    "# Removendo versões do front-end\n",
    "kubectl delete -f assets/exemplos/simul-shop/manifests/8/front-end-deployment-v2.yaml\n",
    "kubectl delete -f assets/exemplos/simul-shop/manifests/9/front-end-deployment-v3.yaml"
   ],
   "outputs": [],
   "metadata": {}
  },
  {
   "cell_type": "code",
   "execution_count": null,
   "source": [
    "# Verificando os PODs da aplicação\n",
    "kubectl get pods"
   ],
   "outputs": [],
   "metadata": {}
  },
  {
   "cell_type": "code",
   "execution_count": null,
   "source": [],
   "outputs": [],
   "metadata": {}
  }
 ],
 "metadata": {
  "kernelspec": {
   "display_name": "Bash",
   "language": "bash",
   "name": "bash"
  },
  "language_info": {
   "codemirror_mode": "shell",
   "file_extension": ".sh",
   "mimetype": "text/x-sh",
   "name": "bash"
  }
 },
 "nbformat": 4,
 "nbformat_minor": 4
}