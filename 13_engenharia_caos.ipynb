{
 "cells": [
  {
   "cell_type": "markdown",
   "metadata": {},
   "source": [
    "# Criando o caos\n",
    "Aplicando a engenharia do caos para surpreender suas aplicações de missão crítica antes que elas o façam."
   ]
  },
  {
   "cell_type": "markdown",
   "metadata": {},
   "source": [
    "Provavelmente você já ouviu falar sobre engenharia do caos, conceito criado no Netflix e envolve quebrar coisas em produção de propósito com objetivo de certificar que a alta disponibilidade e a tolerância à falhas das suas aplicações funcionam.\n",
    "\n",
    "Faremos aqui uma breve introdução, mas você pode conhecer mais sobre engenharia do caos no livro [Chaos Engineering da O'Reilly](https://www.oreilly.com/library/view/chaos-engineering/9781491988459/). Enquanto escrevemos esse curso você pode obtê-lo gratuitamente em [Verica - The Chaos Engineering Book](https://www.verica.io/the-chaos-engineering-book/).\n",
    "\n",
    "> _Chaos Engineering é a disciplina de realizar experimentos sobre sistemas distribuídos com o intuito de construir confiança com relação a capacidade de um sistema distribuído suportar condições adversas em produção._ - [PRINCÍPIOS DE CHAOS ENGINEERING](https://principlesofchaos.org/pt/)\n",
    "\n",
    "Estes experimentos seguem quatro etapas:\n",
    "\n",
    "* **Comece definindo o que significa “sistema estável”**, uma medida que tem como resultado mensurável um indicativo sobre o comportamento normal do sistema.\n",
    "* **Crie hipóteses** se o estado “sistema estável” permanecerá tanto no grupo de controle quanto no grupo onde o experimento será executado.\n",
    "* **Introduza variáveis que reflitam eventos que ocorrem no mundo real**, como por exemplo: servidores que travam, discos rígidos defeituosos, conexões de rede que são interrompidas, etc.\n",
    "* **Tente refutar cada hipótese** procurando diferenças entre o “sistema estável”, o grupo de controle e o grupo experimental.\n",
    "\n",
    "Com kubernetes você tem uma série de controles e o Istio adiciona ainda mais variáveis que permitem, com um mínimo esforço, conduzir esses experimentos.\n",
    "\n",
    "Veremos como implementar a injeção de falhas e lentidão do tempo de resposta para o nosso experimento."
   ]
  },
  {
   "cell_type": "markdown",
   "metadata": {
    "ExecuteTime": {
     "end_time": "2020-12-06T19:09:08.708117Z",
     "start_time": "2020-12-06T19:09:08.475897Z"
    }
   },
   "source": [
    "## Injetando falhas e atrasos\n",
    "\n",
    "TODO"
   ]
  },
  {
   "cell_type": "code",
   "execution_count": null,
   "metadata": {},
   "outputs": [],
   "source": []
  }
 ],
 "metadata": {
  "hide_input": false,
  "kernelspec": {
   "display_name": "Bash",
   "language": "bash",
   "name": "bash"
  },
  "language_info": {
   "codemirror_mode": "shell",
   "file_extension": ".sh",
   "mimetype": "text/x-sh",
   "name": "bash"
  },
  "toc": {
   "base_numbering": 1,
   "nav_menu": {},
   "number_sections": true,
   "sideBar": true,
   "skip_h1_title": false,
   "title_cell": "Table of Contents",
   "title_sidebar": "Contents",
   "toc_cell": false,
   "toc_position": {},
   "toc_section_display": true,
   "toc_window_display": false
  },
  "varInspector": {
   "cols": {
    "lenName": 16,
    "lenType": 16,
    "lenVar": 40
   },
   "kernels_config": {
    "python": {
     "delete_cmd_postfix": "",
     "delete_cmd_prefix": "del ",
     "library": "var_list.py",
     "varRefreshCmd": "print(var_dic_list())"
    },
    "r": {
     "delete_cmd_postfix": ") ",
     "delete_cmd_prefix": "rm(",
     "library": "var_list.r",
     "varRefreshCmd": "cat(var_dic_list()) "
    }
   },
   "types_to_exclude": [
    "module",
    "function",
    "builtin_function_or_method",
    "instance",
    "_Feature"
   ],
   "window_display": false
  }
 },
 "nbformat": 4,
 "nbformat_minor": 2
}
