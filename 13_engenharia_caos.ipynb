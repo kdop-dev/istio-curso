{
 "cells": [
  {
   "cell_type": "markdown",
   "metadata": {},
   "source": [
    "# Criando o caos\n",
    "\n",
    "> _In the midst of chaos, there is also opportunity._ - Sun Tzu"
   ]
  },
  {
   "cell_type": "markdown",
   "metadata": {},
   "source": [
    "Provavelmente você já ouviu falar sobre engenharia do caos, conceito criado no Netflix e envolve quebrar coisas em produção de propósito com objetivo de certificar que a alta disponibilidade e a tolerância à falhas das suas aplicações funcionam.\n",
    "\n",
    "Faremos aqui uma breve introdução, mas você pode conhecer mais sobre engenharia do caos no livro [Chaos Engineering da O'Reilly](https://www.oreilly.com/library/view/chaos-engineering/9781491988459/). Enquanto escrevemos esse curso você pode obtê-lo gratuitamente em [Verica - The Chaos Engineering Book](https://www.verica.io/the-chaos-engineering-book/).\n",
    "\n",
    "> _Chaos Engineering é a disciplina de realizar experimentos sobre sistemas distribuídos com o intuito de construir confiança com relação a capacidade de um sistema distribuído suportar condições adversas em produção._ - [PRINCÍPIOS DE CHAOS ENGINEERING](https://principlesofchaos.org/pt/)\n",
    "\n",
    "Estes experimentos seguem quatro etapas:\n",
    "\n",
    "* **Comece definindo o que significa “sistema estável”**, uma medida que tem como resultado mensurável um indicativo sobre o comportamento normal do sistema.\n",
    "* **Crie hipóteses** se o estado “sistema estável” permanecerá tanto no grupo de controle quanto no grupo onde o experimento será executado.\n",
    "* **Introduza variáveis que reflitam eventos que ocorrem no mundo real**, como por exemplo: servidores que travam, discos rígidos defeituosos, conexões de rede que são interrompidas, etc.\n",
    "* **Tente refutar cada hipótese** procurando diferenças entre o “sistema estável”, o grupo de controle e o grupo experimental.\n",
    "\n",
    "Em síntese, a engenharia do caos é uma maneira de surpreender suas aplicações de missão crítica antes que elas surpreendam você.\n",
    "\n",
    "Com kubernetes você tem uma série de controles e o Istio adiciona ainda mais variáveis que permitem, com um pequeno esforço, conduzir esses experimentos.\n",
    "\n",
    "Veremos como implementar a injeção de falhas e lentidão do tempo de resposta para os seus experimentos."
   ]
  },
  {
   "cell_type": "markdown",
   "metadata": {
    "ExecuteTime": {
     "end_time": "2020-12-06T19:09:08.708117Z",
     "start_time": "2020-12-06T19:09:08.475897Z"
    }
   },
   "source": [
    "## Injetando falhas e atrasos\n",
    "\n",
    "[Injeção de falhas para protocolo http](https://istio.io/latest/docs/reference/config/networking/virtual-service/#HTTPFaultInjection)  pode ser usado para especificar uma ou mais falhas a serem injetadas ao encaminhar solicitações HTTP para o destino especificado em uma rota. A especificação de falha faz parte de uma regra do _VirtualService_.\n",
    "\n",
    "As falhas incluem abortar uma solicitação http do serviço e/ou atrasa-la. Uma regra de falha pode ser configurada com um atraso, aborte ou ambos."
   ]
  },
  {
   "cell_type": "markdown",
   "metadata": {},
   "source": [
    "### Atrasos"
   ]
  },
  {
   "cell_type": "code",
   "execution_count": null,
   "metadata": {},
   "outputs": [],
   "source": [
    "# Login DestinationRules\n",
    "kubectl apply -f - <<EOF\n",
    "kind: DestinationRule\n",
    "apiVersion: networking.istio.io/v1alpha3\n",
    "metadata:\n",
    "  name: login\n",
    "spec:\n",
    "  host: login\n",
    "  subsets:\n",
    "    - labels:\n",
    "        version: v1\n",
    "      name: v1\n",
    "EOF"
   ]
  },
  {
   "cell_type": "markdown",
   "metadata": {},
   "source": [
    "Vamos configurar um atraso de 2s se o campo `test-mode: yes` estiver presente no cabeçalho da requisição:"
   ]
  },
  {
   "cell_type": "code",
   "execution_count": null,
   "metadata": {},
   "outputs": [],
   "source": [
    "# Injetando atrasos\n",
    "kubectl apply -f - <<EOF\n",
    "apiVersion: networking.istio.io/v1alpha3\n",
    "kind: VirtualService\n",
    "metadata:\n",
    "  name: login\n",
    "spec:\n",
    "  hosts:\n",
    "  - login\n",
    "  http:\n",
    "  - match:\n",
    "    - headers:\n",
    "        test-mode:\n",
    "          exact: \"yes\"\n",
    "    fault:\n",
    "      delay:\n",
    "        percentage:\n",
    "          value: 100.0\n",
    "        fixedDelay: 2s\n",
    "    route:\n",
    "    - destination:\n",
    "        host: login\n",
    "        subset: v1\n",
    "  - route:\n",
    "    - destination:\n",
    "        host: login\n",
    "        subset: v1\n",
    "EOF"
   ]
  },
  {
   "cell_type": "markdown",
   "metadata": {},
   "source": [
    "Testando:"
   ]
  },
  {
   "cell_type": "code",
   "execution_count": null,
   "metadata": {},
   "outputs": [],
   "source": [
    "kubectl exec -it svc/front-end -c front-end -- bash -c 'time http -v \"http://login:8000/\"'"
   ]
  },
  {
   "cell_type": "markdown",
   "metadata": {},
   "source": [
    "Sem o campo `test-mode: yes` no cabeçalho o tempo de resposta é inferior a 1s, vamos adicionar o campo."
   ]
  },
  {
   "cell_type": "code",
   "execution_count": null,
   "metadata": {},
   "outputs": [],
   "source": [
    "kubectl exec -it svc/front-end -c front-end -- bash -c 'time http -v \"http://login:8000/\" \"test-mode: yes\"'"
   ]
  },
  {
   "cell_type": "markdown",
   "metadata": {},
   "source": [
    "Agora o tempo de resposta foi acrescido de 2s, experimente tempos diferentes para testar o limite de tempo (_timeout_)."
   ]
  },
  {
   "cell_type": "markdown",
   "metadata": {},
   "source": [
    "### Falhas\n",
    "\n",
    "Usaremos o mesmo recurso, iremos retornar erro somente na presença do cabeçalho `test-mode: yes`:"
   ]
  },
  {
   "cell_type": "code",
   "execution_count": null,
   "metadata": {},
   "outputs": [],
   "source": [
    "# Injetando o código de erro\n",
    "kubectl apply -f - <<EOF\n",
    "apiVersion: networking.istio.io/v1alpha3\n",
    "kind: VirtualService\n",
    "metadata:\n",
    "  name: login\n",
    "spec:\n",
    "  hosts:\n",
    "  - login\n",
    "  http:\n",
    "  - match:\n",
    "    - headers:\n",
    "        test-mode:\n",
    "          exact: \"yes\"\n",
    "    fault:\n",
    "      abort:\n",
    "        percentage:\n",
    "          value: 100.0\n",
    "        httpStatus: 404\n",
    "    route:\n",
    "    - destination:\n",
    "        host: login\n",
    "        subset: v1\n",
    "  - route:\n",
    "    - destination:\n",
    "        host: login\n",
    "        subset: v1\n",
    "EOF"
   ]
  },
  {
   "cell_type": "markdown",
   "metadata": {},
   "source": [
    "Testando:"
   ]
  },
  {
   "cell_type": "code",
   "execution_count": null,
   "metadata": {},
   "outputs": [],
   "source": [
    "kubectl exec -it svc/front-end -c front-end -- bash -c 'time http -v \"http://login:8000/\"'"
   ]
  },
  {
   "cell_type": "markdown",
   "metadata": {},
   "source": [
    "Sem o campo `test-mode: yes` no cabeçalho o código de retorno foi 200, vamos adicionar o campo."
   ]
  },
  {
   "cell_type": "code",
   "execution_count": null,
   "metadata": {},
   "outputs": [],
   "source": [
    "kubectl exec -it svc/front-end -c front-end -- bash -c 'time http -v \"http://login:8000/\" \"test-mode: yes\"'"
   ]
  },
  {
   "cell_type": "markdown",
   "metadata": {},
   "source": [
    "Com o campo no cabeçalho, o código de retorno foi 404."
   ]
  },
  {
   "cell_type": "markdown",
   "metadata": {},
   "source": [
    "### Combinando falhas e atrasos\n",
    "\n",
    "Vamos combinar o código de retorno com o atraso para obter o equivalente ao que o generic-service faz."
   ]
  },
  {
   "cell_type": "code",
   "execution_count": null,
   "metadata": {},
   "outputs": [],
   "source": [
    "kubectl apply -f - <<EOF\n",
    "apiVersion: networking.istio.io/v1alpha3\n",
    "kind: VirtualService\n",
    "metadata:\n",
    "  name: login\n",
    "spec:\n",
    "  hosts:\n",
    "  - login\n",
    "  http:\n",
    "  - match:\n",
    "    - headers:\n",
    "        test-mode:\n",
    "          exact: \"yes\"\n",
    "    fault:\n",
    "      abort:\n",
    "        percentage:\n",
    "          value: 100.0\n",
    "        httpStatus: 504\n",
    "      delay:\n",
    "        percentage:\n",
    "          value: 100.0\n",
    "        fixedDelay: 2s\n",
    "    route:\n",
    "    - destination:\n",
    "        host: login\n",
    "        subset: v1\n",
    "  - route:\n",
    "    - destination:\n",
    "        host: login\n",
    "        subset: v1\n",
    "EOF"
   ]
  },
  {
   "cell_type": "markdown",
   "metadata": {},
   "source": [
    "Nesta combinação, em todas as requisições haverá um código de retorno 504 e um atraso de 2s.\n",
    "\n",
    "> **Dica pro**: Utilizar atrasos e código de retorno é uma boa forma de calibrar as suas métricas. Vá para o grafana e monitore o serviço de login para ver seus comportamento.\n",
    "\n",
    "Testando:"
   ]
  },
  {
   "cell_type": "code",
   "execution_count": null,
   "metadata": {},
   "outputs": [],
   "source": [
    "kubectl exec -it svc/front-end -c front-end -- bash -c 'time http -v \"http://login:8000/\" \"test-mode: yes\"'"
   ]
  },
  {
   "cell_type": "markdown",
   "metadata": {},
   "source": [
    "Agora combinaremos falhas e erros em uma única confiugração:"
   ]
  },
  {
   "cell_type": "code",
   "execution_count": null,
   "metadata": {},
   "outputs": [],
   "source": [
    "kubectl apply -f - <<EOF\n",
    "apiVersion: networking.istio.io/v1alpha3\n",
    "kind: VirtualService\n",
    "metadata:\n",
    "  name: login\n",
    "spec:\n",
    "  hosts:\n",
    "  - login\n",
    "  http:\n",
    "  - fault:\n",
    "      abort:\n",
    "        httpStatus: 500\n",
    "        percentage:\n",
    "          value: 50\n",
    "      delay:\n",
    "        percentage:\n",
    "          value: 50\n",
    "        fixedDelay: 2s\n",
    "    route:\n",
    "    - destination:\n",
    "        host: login\n",
    "EOF"
   ]
  },
  {
   "cell_type": "markdown",
   "metadata": {},
   "source": [
    "Vamos abrir um terminal e executar o código abaixo:"
   ]
  },
  {
   "cell_type": "code",
   "execution_count": null,
   "metadata": {},
   "outputs": [],
   "source": [
    "for i in $(seq 1 10);\n",
    "    do kubectl exec -it svc/front-end -c front-end -- bash -c 'time http -v \"http://login:8000/\" \"test-mode: yes\"';\n",
    "done"
   ]
  },
  {
   "cell_type": "markdown",
   "metadata": {},
   "source": [
    "Agora você tem uma variedade de situações, com probabilidade de 50% para retornar o código 500 ou 200 e 50% para atrasar 0s ou 2s.\n",
    "\n",
    "> Como você verá há a propabilidade de requisições retornarem 200 sem atraso. Essa configuração pode não ser muito útil se você procura previsibilidade durante os testes.\n",
    "\n",
    "Quando aplicamos uma nova configuração ela tem efeito praticamente no mesmo instante, experimente mudar de uma configuração para outra enquanto as executa em um _loop_."
   ]
  },
  {
   "cell_type": "markdown",
   "metadata": {},
   "source": [
    "### Limpando o ambiente\n",
    "\n",
    "Vamos remover o que instalamos para a próxima seção."
   ]
  },
  {
   "cell_type": "code",
   "execution_count": null,
   "metadata": {},
   "outputs": [],
   "source": [
    "# DestinationRule\n",
    "kubectl delete dr login\n",
    "# Virtual service\n",
    "kubectl delete vs login"
   ]
  },
  {
   "cell_type": "markdown",
   "metadata": {},
   "source": [
    "## Conclusão\n",
    "\n",
    "Você pode combinar diferentes códigos de retorno e tempos de resposta para criar uma variedade de cenários de testes. Utilizar essas configurações em _pipelines_ de CI/CD permitirá testar essas condições contínuamente.\n",
    "\n",
    "Com esse recursos, você poderá avaliar problemas em seus serviços antes de acarretarem falhas na malha de produção e mitigá-los."
   ]
  }
 ],
 "metadata": {
  "hide_input": false,
  "kernelspec": {
   "display_name": "Bash",
   "language": "bash",
   "name": "bash"
  },
  "language_info": {
   "codemirror_mode": "shell",
   "file_extension": ".sh",
   "mimetype": "text/x-sh",
   "name": "bash"
  },
  "toc": {
   "base_numbering": 1,
   "nav_menu": {},
   "number_sections": true,
   "sideBar": true,
   "skip_h1_title": false,
   "title_cell": "Table of Contents",
   "title_sidebar": "Contents",
   "toc_cell": false,
   "toc_position": {},
   "toc_section_display": true,
   "toc_window_display": false
  },
  "varInspector": {
   "cols": {
    "lenName": 16,
    "lenType": 16,
    "lenVar": 40
   },
   "kernels_config": {
    "python": {
     "delete_cmd_postfix": "",
     "delete_cmd_prefix": "del ",
     "library": "var_list.py",
     "varRefreshCmd": "print(var_dic_list())"
    },
    "r": {
     "delete_cmd_postfix": ") ",
     "delete_cmd_prefix": "rm(",
     "library": "var_list.r",
     "varRefreshCmd": "cat(var_dic_list()) "
    }
   },
   "types_to_exclude": [
    "module",
    "function",
    "builtin_function_or_method",
    "instance",
    "_Feature"
   ],
   "window_display": false
  }
 },
 "nbformat": 4,
 "nbformat_minor": 4
}
