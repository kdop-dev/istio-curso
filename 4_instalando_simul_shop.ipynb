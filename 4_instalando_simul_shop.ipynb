{
 "cells": [
  {
   "cell_type": "markdown",
   "metadata": {},
   "source": [
    "# Instalando a aplicação simul-shop\n",
    "\n",
    "O um simul-shop é um simulador de loja online.\n",
    "\n",
    "Inspirado no micro-sock, desenvolvida pela [weaveworks](https://www.weave.works/) e [distribuída](https://github.com/microservices-demo/microservices-demo/tree/master) de forma gratuíta (licença [Apache License, Version 2.0](https://www.apache.org/licenses/LICENSE-2.0)) para demonstrar seu produto [Waeve Scope](https://www.weave.works/oss/scope/).\n",
    "\n",
    "O simulador foi construída usando [Python](https://www.python.org/) e é empacotado uma imagem Docker e entregue em um cluster de kubernetes.\n",
    "\n",
    "## Simul Shop implementação\n",
    "\n",
    "O simulador não tem uma interface web é apenas um programa em python que recebe requisições e invoca outras URLs com base nos parâmetros passados por variável de ambiente.\n",
    "\n",
    "Por exemplo, vamos simular uma aplicação que tem um front-end e um backend, usando apenas o docker podemos executar da seguinte forma:\n",
    "\n",
    "![](media/simul-shop-fb.png)\n",
    "\n",
    "```bash\n",
    "# Create net\n",
    "docker network create my-net\n",
    "\n",
    "# backend\n",
    "docker run -d --rm \\\n",
    "--hostname backend \\\n",
    "--network my-net \\\n",
    "--name backend \\\n",
    "-e SCHED_CALL_URL_LST=http://localhost:8000/healthz \\\n",
    "-e SCHED_CALL_INTERVAL=5 \\\n",
    "kdop/generic-service:0.0.1\n",
    "\n",
    "# front-end\n",
    "docker run -d --rm \\\n",
    "    --network my-net \\\n",
    "    --hostname front-end \\\n",
    "    --name front-end \\\n",
    "    -e SCHED_CALL_URL_LST=http://front-end:8000/s \\\n",
    "    -e SCHED_CALL_INTERVAL=10 \\\n",
    "    -e SPLIT_CALL_URL_LST=http://backend:8000 \\\n",
    "    kdop/generic-service:0.0.1\n",
    "```\n",
    "\n",
    "Vamos acompanhar os _logs_ para ver o que está acontecento.\n",
    "\n",
    "```bash\n",
    "# Terminal 1\n",
    "docker logs -f front-end\n",
    "# Terminal 2\n",
    "docker logs -f backend\n",
    "```\n",
    "\n",
    "Para remover os recursos\n",
    "\n",
    "```bash\n",
    "# Parando e excluindo os containers\n",
    "docker kill front-end backend\n",
    "# Clean-up\n",
    "docker network rm my-net\n",
    "```\n",
    "\n",
    "### Istio + Simul Shop\n",
    "\n",
    "Configuramos o simul-shop para criar uma malha de serviços, sua arquittura é:\n",
    "\n",
    "![arquitetura](media/simul-shop-arq.png)\n",
    "\n",
    "Iremos utiliza-lo para explorar os recursos do Istio."
   ]
  },
  {
   "cell_type": "markdown",
   "metadata": {},
   "source": [
    "## Instalando a aplicação\n",
    "\n",
    "Com o clone do repo istio-curso, você tem um diretório com a aplicação."
   ]
  },
  {
   "cell_type": "code",
   "execution_count": 2,
   "metadata": {},
   "outputs": [
    {
     "name": "stdout",
     "output_type": "stream",
     "text": [
      "total 24\n",
      "drwxr-xr-x   4 anderson  staff   128 Oct 22 14:34 .\n",
      "drwxr-xr-x  10 anderson  staff   320 Oct 22 14:36 ..\n",
      "-rw-r--r--   1 anderson  staff  5607 Oct 22 14:35 deployments.yaml\n",
      "-rw-r--r--   1 anderson  staff  2638 Oct 22 14:34 services.yaml\n"
     ]
    }
   ],
   "source": [
    "ls -la exemplos/simul-shop-manifests"
   ]
  },
  {
   "cell_type": "markdown",
   "metadata": {},
   "source": [
    "A configuração para kubernetes compreende apenas dois recursos, o _deployment_ e o _service_ para cada um dos módulos da nossa aplicação, de acordo coma arquitetura da seção anterior.\n",
    "\n",
    "* [exemplos/simul-shop-manifests/deployments.yaml](exemplos/simul-shop-manifests/deployments.yaml)\n",
    "* [exemplos/simul-shop-manifests/services.yaml](exemplos/simul-shop-manifests/services.yaml)\n",
    "\n",
    "Como na aplicação de demo, criamos um deployment para a imagem `kdop/generic-service 0.0.1` e adiconamos os _labels_ para representar o nome do módulo e sua versão.\n",
    "\n",
    "```yaml\n",
    "labels:\n",
    "    app: \"nome-do-modulo\"\n",
    "    version: \"versao\"\n",
    "```\n",
    "\n",
    "Os serviços foram configurados para acessar cada um dos módulos:\n",
    "\n",
    "```yaml\n",
    "metadata:\n",
    "  name: front-end # <--- Cria um DNS com nome nome-modulo.\n",
    "...\n",
    "spec:\n",
    "  type: ClusterIP\n",
    "  selector:\n",
    "    app: front-end # <--- E aponta para um POD que tennha o label nome-modulo.\n",
    "```\n",
    "\n",
    "Dessa forma os serviços podem ser endereçados na forma http://nome-modulo:porta/. Na nossa arquitetura:\n",
    "\n",
    "* http://front-end:80000\n",
    "* http://login:80000\n",
    "* http://catalogue:80000\n",
    "* http://orders:80000\n",
    "* http://shipping:80000\n",
    "* http://cart:80000\n",
    "* http://payment:80000\n",
    "* http://accounts:80000\n",
    "* http://orders-db:80000\n",
    "* http://queue:80000\n",
    "* http://cart-db:80000\n",
    "* http://accounts-db:80000\n",
    "\n",
    "\n"
   ]
  },
  {
   "cell_type": "code",
   "execution_count": null,
   "metadata": {},
   "outputs": [],
   "source": []
  }
 ],
 "metadata": {
  "kernelspec": {
   "display_name": "Bash",
   "language": "bash",
   "name": "bash"
  },
  "language_info": {
   "codemirror_mode": "shell",
   "file_extension": ".sh",
   "mimetype": "text/x-sh",
   "name": "bash"
  }
 },
 "nbformat": 4,
 "nbformat_minor": 4
}
