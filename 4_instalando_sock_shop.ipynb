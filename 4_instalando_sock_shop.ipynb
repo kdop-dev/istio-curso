{
 "cells": [
  {
   "cell_type": "markdown",
   "metadata": {},
   "source": [
    "# Instalando a aplicação Sock Shop\n",
    "\n",
    "O Sock Shop é uma loja online que vende meias.\n",
    "\n",
    "Desenvolvida pela [weaveworks](https://www.weave.works/) e [distribuída](https://github.com/microservices-demo/microservices-demo/tree/master) de forma gratuíta (licença [Apache License, Version 2.0](https://www.apache.org/licenses/LICENSE-2.0)) para demonstrar seu produto [Waeve Scope](https://www.weave.works/oss/scope/).\n",
    "\n",
    "O Waeve Scope detecta automaticamente processos, containers, hosts, de forma não intrusiva e se integra com Docker, Kubernetes, DCOS e AWS ECS, exibindo de forma gráfica sua aplicação. Ela é um excelete complemento para o kiali, ampliando o entendimento da sua aplicação com a visão do cluster.\n",
    "\n",
    "A loja é construída usando [Spring Boot](http://projects.spring.io/spring-boot/), [Go kit](http://gokit.io)e [Node.js](https://nodejs.org/) e é empacotado em contêineres Docker e seu deploy é via Helm chart.\n",
    "\n",
    "Sua arquittura é de microsserviços.\n",
    "\n",
    "![arquitetura](media/sockshop-architecture.png)\n",
    "\n",
    "## Imagem da tela\n",
    "\n",
    "Sock Shop front-end\n",
    "\n",
    "![Sock Shop frontend](media/sockshop-frontend.png)\n",
    "\n",
    "Wave Scope\n",
    "\n",
    "![Sock Shop frontend](media/sockshop-scope.png)\n",
    "\n",
    "Documentação\n",
    "\n",
    "[microservices-demo](https://microservices-demo.github.io/)\n",
    "\n",
    "### Istio + Sock Shop\n",
    "\n",
    "Nós iremos "
   ]
  },
  {
   "cell_type": "markdown",
   "metadata": {},
   "source": [
    "## Obtendo os arquivos para instalação"
   ]
  },
  {
   "cell_type": "code",
   "execution_count": 2,
   "metadata": {},
   "outputs": [
    {
     "name": "stdout",
     "output_type": "stream",
     "text": [
      "Cloning into 'exemplos/microservices-demo'...\n",
      "remote: Enumerating objects: 9638, done.        \n",
      "remote: Total 9638 (delta 0), reused 0 (delta 0), pack-reused 9638        \n",
      "Receiving objects: 100% (9638/9638), 52.85 MiB | 4.50 MiB/s, done.\n",
      "Resolving deltas: 100% (5797/5797), done.\n"
     ]
    }
   ],
   "source": [
    "# Aplicação\n",
    "git clone https://github.com/microservices-demo/microservices-demo.git exemplos/microservices-demo"
   ]
  },
  {
   "cell_type": "code",
   "execution_count": null,
   "metadata": {},
   "outputs": [],
   "source": [
    "# Simulador de uso\n",
    "git clone https://github.com/microservices-demo/load-test.git exemplos/load-test"
   ]
  },
  {
   "cell_type": "markdown",
   "metadata": {},
   "source": [
    "## Instalando a aplicação"
   ]
  }
 ],
 "metadata": {
  "kernelspec": {
   "display_name": "Bash",
   "language": "bash",
   "name": "bash"
  },
  "language_info": {
   "codemirror_mode": "shell",
   "file_extension": ".sh",
   "mimetype": "text/x-sh",
   "name": "bash"
  }
 },
 "nbformat": 4,
 "nbformat_minor": 4
}
