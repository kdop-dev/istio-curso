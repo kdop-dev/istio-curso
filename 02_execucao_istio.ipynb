{
 "cells": [
  {
   "cell_type": "markdown",
   "metadata": {},
   "source": [
    "# Colocando o Istio em execução"
   ]
  },
  {
   "cell_type": "markdown",
   "metadata": {},
   "source": [
    "## Acessando o k8s\n",
    "\n",
    "Vamos configurar o ambiente, você precisará configurá-lo a cada nova seção ou executar o jupyter passando as variáveis, como descrito no [README](README.md) e não precisará repetir esses comandos novamente."
   ]
  },
  {
   "cell_type": "code",
   "execution_count": null,
   "metadata": {
    "ExecuteTime": {
     "end_time": "2020-10-14T17:06:36.590203Z",
     "start_time": "2020-10-14T17:06:34.636568Z"
    }
   },
   "outputs": [],
   "source": [
    "# [Opcional] Se você não estiver usando o docker-desktop será necessário obter o arquivo de configuração e ajustar a variável KUBECONFIG\n",
    "export KUBECONFIG=~/.kube/config # Local do kubeconfig do docker-desktop. Selecione o local onde você colocou o arquivo de config para outras opções (AKS, EKS, GKE, etc)."
   ]
  },
  {
   "cell_type": "code",
   "execution_count": 1,
   "metadata": {},
   "outputs": [
    {
     "name": "stdout",
     "output_type": "stream",
     "text": [
      "CURRENT   NAME             CLUSTER          AUTHINFO         NAMESPACE\n",
      "*         docker-desktop   docker-desktop   docker-desktop   \n"
     ]
    }
   ],
   "source": [
    "# [Opcional] Se você tem mais de um cluster na configuração, verifique se está apontando para o correto.\n",
    "kubectl config get-contexts"
   ]
  },
  {
   "cell_type": "code",
   "execution_count": 2,
   "metadata": {},
   "outputs": [
    {
     "name": "stdout",
     "output_type": "stream",
     "text": [
      "NAME             STATUS   ROLES    AGE     VERSION\n",
      "docker-desktop   Ready    master   2m41s   v1.19.7\n"
     ]
    }
   ],
   "source": [
    "# Vamos verificar como estão os nós do nosso cluster:\n",
    "kubectl get nodes"
   ]
  },
  {
   "cell_type": "markdown",
   "metadata": {},
   "source": [
    "## Instalando o Istio (linux)\n",
    "\n",
    "Para instalar a última versão do Istio, neste momento 1.10.0, você pode ir até a página [Getting Started](https://istio.io/latest/docs/setup/getting-started/#download) ou seguir as instruções abaixo:"
   ]
  },
  {
   "cell_type": "code",
   "execution_count": 3,
   "metadata": {
    "ExecuteTime": {
     "end_time": "2020-10-13T12:13:58.606406Z",
     "start_time": "2020-10-13T12:13:40.694941Z"
    }
   },
   "outputs": [
    {
     "name": "stdout",
     "output_type": "stream",
     "text": [
      "  % Total    % Received % Xferd  Average Speed   Time    Time     Time  Current\n",
      "                                 Dload  Upload   Total   Spent    Left  Speed\n",
      "100   102  100   102    0     0    103      0 --:--:-- --:--:-- --:--:--   103\n",
      "100  4573  100  4573    0     0   2957      0  0:00:01  0:00:01 --:--:--  2957\n",
      "\n",
      "Downloading istio-1.10.0 from https://github.com/istio/istio/releases/download/1.10.0/istio-1.10.0-linux-amd64.tar.gz ...\n",
      "\n",
      "Istio 1.10.0 Download Complete!\n",
      "\n",
      "Istio has been successfully downloaded into the istio-1.10.0 folder on your system.\n",
      "\n",
      "Next Steps:\n",
      "See https://istio.io/latest/docs/setup/install/ to add Istio to your Kubernetes cluster.\n",
      "\n",
      "To configure the istioctl client tool for your workstation,\n",
      "add the /mnt/d/Projects/istio-curso/istio-1.10.0/bin directory to your environment path variable with:\n",
      "\t export PATH=\"$PATH:/mnt/d/Projects/istio-curso/istio-1.10.0/bin\"\n",
      "\n",
      "Begin the Istio pre-installation check by running:\n",
      "\t istioctl x precheck \n",
      "\n",
      "Need more information? Visit https://istio.io/latest/docs/setup/install/ \n"
     ]
    }
   ],
   "source": [
    "curl -L https://istio.io/downloadIstio | sh -"
   ]
  },
  {
   "cell_type": "markdown",
   "metadata": {},
   "source": [
    "Para usar o comando `istioctl`, que está no diretório `bin` do download, coloque-o na variável `PATH` ou copie o arquivo `bin/istioctl` para um diretório no seu `PATH`\n",
    "\n",
    "Copiando o istioctl para o diretório de binários\n",
    "\n",
    "O istioctl é um utilitário de linha de comando e foi copiado para a sua máquina durante o download acima.\n",
    "\n",
    "Para utilizá-lo, basta colocar o arquivo em algum diretório listado na variável PATH."
   ]
  },
  {
   "cell_type": "markdown",
   "metadata": {},
   "source": [
    "O istioctl é um utilitário de linha de comando e foi copiado para a sua máquina durante o download acima.\n",
    "\n",
    "Para utilizá-lo, basta colocar o arquivo em algum diretório listado na variável PATH."
   ]
  },
  {
   "cell_type": "code",
   "execution_count": 4,
   "metadata": {},
   "outputs": [
    {
     "name": "stdout",
     "output_type": "stream",
     "text": [
      "/home/adsantos/.krew/bin:/mnt/d/miniconda3-wsl/bin:/home/adsantos/.nvm/versions/node/v14.9.0/bin:/home/adsantos/bin:/home/adsantos/anaconda3/envs/py-38/bin:/home/adsantos/anaconda3/condabin:/usr/local/sbin:/usr/local/bin:/usr/sbin:/usr/bin:/sbin:/bin:/usr/games:/usr/local/games:/mnt/c/Program Files (x86)/Common Files/Intel/Shared Libraries/redist/intel64/compiler:/mnt/c/Program Files/NVIDIA GPU Computing Toolkit/CUDA/v11.0/bin:/mnt/c/Program Files/NVIDIA GPU Computing Toolkit/CUDA/v11.0/libnvvp:/mnt/c/Program Files/ImageMagick-7.0.9-Q16:/mnt/c/Windows/system32:/mnt/c/Windows:/mnt/c/Windows/System32/Wbem:/mnt/c/Windows/System32/WindowsPowerShell/v1.0:/mnt/c/Windows/System32/OpenSSH:/mnt/c/Program Files (x86)/NVIDIA Corporation/PhysX/Common:/mnt/c/Program Files/Git/cmd:/mnt/c/Program Files/dotnet:/mnt/c/ProgramData/chocolatey/bin:/mnt/c/Touch Portal/plugins/adb/platform-tools:/mnt/c/Program Files/NVIDIA Corporation/Nsight Compute 2020.1.1:/mnt/c/Program Files/NVIDIA Corporation/NVIDIA NvDLISR:/mnt/c/WINDOWS/system32:/mnt/c/WINDOWS:/mnt/c/WINDOWS/System32/Wbem:/mnt/c/WINDOWS/System32/WindowsPowerShell/v1.0:/mnt/c/WINDOWS/System32/OpenSSH:/mnt/c/Program Files/Docker/Docker/resources/bin:/mnt/c/ProgramData/DockerDesktop/version-bin:/mnt/c/Users/adsantos/AppData/Local/Microsoft/WindowsApps:/mnt/d/Microsoft VS Code/bin:/mnt/c/Users/adsantos/.dotnet/tools:/mnt/c/Users/adsantos/.dotnet/tools:/mnt/c/Users/adsantos/AppData/Local/Microsoft/WindowsApps:/mnt/d/JuliaPro-1.5.0-1/Julia-1.5.0/bin\n"
     ]
    }
   ],
   "source": [
    "echo $PATH"
   ]
  },
  {
   "cell_type": "markdown",
   "metadata": {},
   "source": [
    "Os diretórios mais indicados são os do usuário para binários, caso você não tenha, pode criar um e colocá-lo na variável PATH.\n",
    "\n",
    "A seguir criaremos o diretório `˜/bin`, adicionaremos o caminho na variável PATH e copiaremos o arquivo para o diret"
   ]
  },
  {
   "cell_type": "code",
   "execution_count": 8,
   "metadata": {
    "tags": []
   },
   "outputs": [
    {
     "name": "stdout",
     "output_type": "stream",
     "text": [
      "\u001b[0m\u001b[01;32mistioctl\u001b[0m\n"
     ]
    }
   ],
   "source": [
    "ISTIO_VERSION=1.10.0\n",
    "# Verificar onde está o executável do Istio\n",
    "ls istio-$ISTIO_VERSION/bin\n",
    "export PATH=$PWD/istio-$ISTIO_VERSION/bin:$PATH"
   ]
  },
  {
   "cell_type": "code",
   "execution_count": 9,
   "metadata": {},
   "outputs": [
    {
     "name": "stdout",
     "output_type": "stream",
     "text": [
      "no running Istio pods in \"istio-system\"\n",
      "1.10.0\n"
     ]
    }
   ],
   "source": [
    "# Teste\n",
    "istioctl version"
   ]
  },
  {
   "cell_type": "markdown",
   "metadata": {},
   "source": [
    "Você também pode copiar o comando em qualquer diretório ou mantê-lo no diretório do Istio e ajustar a variável `PATH` na sessão."
   ]
  },
  {
   "cell_type": "markdown",
   "metadata": {},
   "source": [
    "Para tornar essa configuração permanente, você deve adicionar o caminho absoluto (substitua p PWD) a variável PATH no arquivo de configuração do shell do seu usuário, por exemplo ~/.bashrc ou ~/.profile ou ~/.zshrc, etc."
   ]
  },
  {
   "cell_type": "markdown",
   "metadata": {},
   "source": [
    "## O mínimo do Istio\n",
    "\n",
    "Desde a versão 1.6 o Istio é composto de uma única entrega chamada `istiod` e ela pode ser instalada com o comando abaixo:"
   ]
  },
  {
   "cell_type": "code",
   "execution_count": 10,
   "metadata": {},
   "outputs": [
    {
     "name": "stdout",
     "output_type": "stream",
     "text": [
      "Detected that your cluster does not support third party JWT authentication. Falling back to less secure first party JWT. See https://istio.io/v1.10/docs/ops/best-practices/security/#configure-third-party-service-account-tokens for details.\n",
      "! values.global.jwtPolicy is deprecated; use Values.global.jwtPolicy=third-party-jwt. See http://istio.io/latest/docs/ops/best-practices/security/#configure-third-party-service-account-tokens for more information instead\n",
      "\u001b[32m✔\u001b[0m Istio core installed                                                          \n",
      "\u001b[32m✔\u001b[0m Istiod installed                                                              \n",
      "\u001b[32m✔\u001b[0m Installation complete                                                         Thank you for installing Istio 1.10.  Please take a few minutes to tell us about your install/upgrade experience!  https://forms.gle/KjkrDnMPByq7akrYA"
     ]
    }
   ],
   "source": [
    "# Isso deve demorar de 2 a 5 minutos\n",
    "istioctl install --set profile=minimal --skip-confirmation"
   ]
  },
  {
   "cell_type": "markdown",
   "metadata": {},
   "source": [
    "> Em Mar-2021 não é possível instalar o Istio no GKE Autopilot, ele retorna o erro: `Istiod encountered an error: failed to update resource with server-side apply for obj MutatingWebhookConfiguration`. Veja mais sobre [incopatibilidades do GKE Autopilot](https://cloud.google.com/kubernetes-engine/docs/concepts/autopilot-overview?hl=pt-br#unsupported_cluster_features).\n",
    "> Para GKE crie um cluster padrão Zonal."
   ]
  },
  {
   "cell_type": "markdown",
   "metadata": {},
   "source": [
    "Vamos verificar o que foi instalado"
   ]
  },
  {
   "cell_type": "code",
   "execution_count": 11,
   "metadata": {
    "ExecuteTime": {
     "end_time": "2020-10-14T16:33:57.203722Z",
     "start_time": "2020-10-14T16:33:56.643171Z"
    }
   },
   "outputs": [
    {
     "name": "stdout",
     "output_type": "stream",
     "text": [
      "NAME              STATUS   AGE\n",
      "default           Active   4m42s\n",
      "istio-system      Active   18s\n",
      "kube-node-lease   Active   4m44s\n",
      "kube-public       Active   4m44s\n",
      "kube-system       Active   4m44s\n",
      "NAME                          READY   STATUS    RESTARTS   AGE\n",
      "pod/istiod-58fd54c6d5-gbj89   1/1     Running   0          17s\n",
      "\n",
      "NAME             TYPE        CLUSTER-IP      EXTERNAL-IP   PORT(S)                                 AGE\n",
      "service/istiod   ClusterIP   10.101.70.250   <none>        15010/TCP,15012/TCP,443/TCP,15014/TCP   17s\n",
      "\n",
      "NAME                     READY   UP-TO-DATE   AVAILABLE   AGE\n",
      "deployment.apps/istiod   1/1     1            1           18s\n",
      "\n",
      "NAME                                DESIRED   CURRENT   READY   AGE\n",
      "replicaset.apps/istiod-58fd54c6d5   1         1         1       18s\n",
      "\n",
      "NAME                                         REFERENCE           TARGETS         MINPODS   MAXPODS   REPLICAS   AGE\n",
      "horizontalpodautoscaler.autoscaling/istiod   Deployment/istiod   <unknown>/80%   1         5         0          17s\n"
     ]
    }
   ],
   "source": [
    "# Obtendo os namespaces\n",
    "kubectl get ns\n",
    "\n",
    "# Verificando o namespace do Istio\n",
    "kubectl get all -n istio-system"
   ]
  },
  {
   "cell_type": "markdown",
   "metadata": {},
   "source": [
    "Instalamos apenas o plano de controle e mais adiante instalaremos o ingress, egress e alguns adicionais como grafana, kiali e jaeger, mas já temos o Istio instalado e pronto para gerenciar os Envoys."
   ]
  },
  {
   "cell_type": "markdown",
   "metadata": {},
   "source": [
    "## Istio CRDs\n",
    "\n",
    "O Istio é uma aplicação que é executada no kubernetes e adiciona recursos personalizados ([CRD](https://kubernetes.io/docs/concepts/extend-kubernetes/api-extension/custom-resources/)) para sua configuração.\n",
    "\n",
    "Você pode obter uma lista completa executando o comando abaixo:"
   ]
  },
  {
   "cell_type": "code",
   "execution_count": 12,
   "metadata": {},
   "outputs": [
    {
     "name": "stdout",
     "output_type": "stream",
     "text": [
      "NAME               SHORTNAMES   APIGROUP              NAMESPACED   KIND\n",
      "destinationrules   dr           networking.istio.io   true         DestinationRule\n",
      "envoyfilters                    networking.istio.io   true         EnvoyFilter\n",
      "gateways           gw           networking.istio.io   true         Gateway\n",
      "serviceentries     se           networking.istio.io   true         ServiceEntry\n",
      "sidecars                        networking.istio.io   true         Sidecar\n",
      "virtualservices    vs           networking.istio.io   true         VirtualService\n",
      "workloadentries    we           networking.istio.io   true         WorkloadEntry\n",
      "workloadgroups     wg           networking.istio.io   true         WorkloadGroup\n",
      "NAME                     SHORTNAMES   APIGROUP            NAMESPACED   KIND\n",
      "authorizationpolicies                 security.istio.io   true         AuthorizationPolicy\n",
      "peerauthentications      pa           security.istio.io   true         PeerAuthentication\n",
      "requestauthentications   ra           security.istio.io   true         RequestAuthentication\n"
     ]
    }
   ],
   "source": [
    "kubectl api-resources --api-group=networking.istio.io\n",
    "\n",
    "kubectl api-resources --api-group=security.istio.io"
   ]
  },
  {
   "cell_type": "markdown",
   "metadata": {},
   "source": [
    "Esses são os recursos adicionados e na segunda coluna o nome abreviado, você pode utilizar um ou outro, por exemplo:"
   ]
  },
  {
   "cell_type": "code",
   "execution_count": 13,
   "metadata": {},
   "outputs": [
    {
     "name": "stdout",
     "output_type": "stream",
     "text": [
      "NAME         TYPE        CLUSTER-IP   EXTERNAL-IP   PORT(S)   AGE\n",
      "kubernetes   ClusterIP   10.96.0.1    <none>        443/TCP   4m50s\n",
      "NAME         TYPE        CLUSTER-IP   EXTERNAL-IP   PORT(S)   AGE\n",
      "kubernetes   ClusterIP   10.96.0.1    <none>        443/TCP   4m50s\n"
     ]
    }
   ],
   "source": [
    "# O comando\n",
    "kubectl get svc\n",
    "\n",
    "# É equivalente ao\n",
    "\n",
    "kubectl get services"
   ]
  },
  {
   "cell_type": "markdown",
   "metadata": {},
   "source": [
    "> Note que todos as configurações para recursos do Istio são aplicados para um _namespace_ (Namespaced=true), isso significa que a configuração terá efeito apenas em um _namespace_, porém, configurações que poderão ser aplicadas para toda a malha de serviços serão realizadas no _namespace_ do Istio, o `istio-system`."
   ]
  },
  {
   "cell_type": "markdown",
   "metadata": {},
   "source": [
    "Você verá muito disso no kubernetes, para uma lista completa de recursos e suas abreviações execute o mesmo comando acima, mas sem o filtro `kubectl api-resources`"
   ]
  },
  {
   "cell_type": "code",
   "execution_count": 14,
   "metadata": {},
   "outputs": [
    {
     "name": "stdout",
     "output_type": "stream",
     "text": [
      "NAME                              SHORTNAMES   APIGROUP                       NAMESPACED   KIND\n",
      "bindings                                                                      true         Binding\n",
      "componentstatuses                 cs                                          false        ComponentStatus\n",
      "configmaps                        cm                                          true         ConfigMap\n",
      "endpoints                         ep                                          true         Endpoints\n",
      "events                            ev                                          true         Event\n",
      "limitranges                       limits                                      true         LimitRange\n",
      "namespaces                        ns                                          false        Namespace\n",
      "nodes                             no                                          false        Node\n",
      "persistentvolumeclaims            pvc                                         true         PersistentVolumeClaim\n",
      "persistentvolumes                 pv                                          false        PersistentVolume\n",
      "pods                              po                                          true         Pod\n",
      "podtemplates                                                                  true         PodTemplate\n",
      "replicationcontrollers            rc                                          true         ReplicationController\n",
      "resourcequotas                    quota                                       true         ResourceQuota\n",
      "secrets                                                                       true         Secret\n",
      "serviceaccounts                   sa                                          true         ServiceAccount\n",
      "services                          svc                                         true         Service\n",
      "mutatingwebhookconfigurations                  admissionregistration.k8s.io   false        MutatingWebhookConfiguration\n",
      "validatingwebhookconfigurations                admissionregistration.k8s.io   false        ValidatingWebhookConfiguration\n",
      "customresourcedefinitions         crd,crds     apiextensions.k8s.io           false        CustomResourceDefinition\n",
      "apiservices                                    apiregistration.k8s.io         false        APIService\n",
      "controllerrevisions                            apps                           true         ControllerRevision\n",
      "daemonsets                        ds           apps                           true         DaemonSet\n",
      "deployments                       deploy       apps                           true         Deployment\n",
      "replicasets                       rs           apps                           true         ReplicaSet\n",
      "statefulsets                      sts          apps                           true         StatefulSet\n",
      "tokenreviews                                   authentication.k8s.io          false        TokenReview\n",
      "localsubjectaccessreviews                      authorization.k8s.io           true         LocalSubjectAccessReview\n",
      "selfsubjectaccessreviews                       authorization.k8s.io           false        SelfSubjectAccessReview\n",
      "selfsubjectrulesreviews                        authorization.k8s.io           false        SelfSubjectRulesReview\n",
      "subjectaccessreviews                           authorization.k8s.io           false        SubjectAccessReview\n",
      "horizontalpodautoscalers          hpa          autoscaling                    true         HorizontalPodAutoscaler\n",
      "cronjobs                          cj           batch                          true         CronJob\n",
      "jobs                                           batch                          true         Job\n",
      "certificatesigningrequests        csr          certificates.k8s.io            false        CertificateSigningRequest\n",
      "leases                                         coordination.k8s.io            true         Lease\n",
      "endpointslices                                 discovery.k8s.io               true         EndpointSlice\n",
      "events                            ev           events.k8s.io                  true         Event\n",
      "ingresses                         ing          extensions                     true         Ingress\n",
      "istiooperators                    iop,io       install.istio.io               true         IstioOperator\n",
      "destinationrules                  dr           networking.istio.io            true         DestinationRule\n",
      "envoyfilters                                   networking.istio.io            true         EnvoyFilter\n",
      "gateways                          gw           networking.istio.io            true         Gateway\n",
      "serviceentries                    se           networking.istio.io            true         ServiceEntry\n",
      "sidecars                                       networking.istio.io            true         Sidecar\n",
      "virtualservices                   vs           networking.istio.io            true         VirtualService\n",
      "workloadentries                   we           networking.istio.io            true         WorkloadEntry\n",
      "workloadgroups                    wg           networking.istio.io            true         WorkloadGroup\n",
      "ingressclasses                                 networking.k8s.io              false        IngressClass\n",
      "ingresses                         ing          networking.k8s.io              true         Ingress\n",
      "networkpolicies                   netpol       networking.k8s.io              true         NetworkPolicy\n",
      "runtimeclasses                                 node.k8s.io                    false        RuntimeClass\n",
      "poddisruptionbudgets              pdb          policy                         true         PodDisruptionBudget\n",
      "podsecuritypolicies               psp          policy                         false        PodSecurityPolicy\n",
      "clusterrolebindings                            rbac.authorization.k8s.io      false        ClusterRoleBinding\n",
      "clusterroles                                   rbac.authorization.k8s.io      false        ClusterRole\n",
      "rolebindings                                   rbac.authorization.k8s.io      true         RoleBinding\n",
      "roles                                          rbac.authorization.k8s.io      true         Role\n",
      "priorityclasses                   pc           scheduling.k8s.io              false        PriorityClass\n",
      "authorizationpolicies                          security.istio.io              true         AuthorizationPolicy\n",
      "peerauthentications               pa           security.istio.io              true         PeerAuthentication\n",
      "requestauthentications            ra           security.istio.io              true         RequestAuthentication\n",
      "csidrivers                                     storage.k8s.io                 false        CSIDriver\n",
      "csinodes                                       storage.k8s.io                 false        CSINode\n",
      "storageclasses                    sc           storage.k8s.io                 false        StorageClass\n",
      "volumeattachments                              storage.k8s.io                 false        VolumeAttachment\n",
      "telemetries                       telemetry    telemetry.istio.io             true         Telemetry\n"
     ]
    }
   ],
   "source": [
    "kubectl api-resources"
   ]
  },
  {
   "cell_type": "markdown",
   "metadata": {},
   "source": [
    "> **Dica pro**: Quem utiliza o kubectl com muita frequência costuma criar apelidos para os comandos mais comuns, por exemplo:"
   ]
  },
  {
   "cell_type": "code",
   "execution_count": 15,
   "metadata": {},
   "outputs": [
    {
     "name": "stdout",
     "output_type": "stream",
     "text": [
      "NAME         TYPE        CLUSTER-IP   EXTERNAL-IP   PORT(S)   AGE\n",
      "kubernetes   ClusterIP   10.96.0.1    <none>        443/TCP   4m59s\n",
      "NAME         TYPE        CLUSTER-IP   EXTERNAL-IP   PORT(S)   AGE\n",
      "kubernetes   ClusterIP   10.96.0.1    <none>        443/TCP   4m59s\n"
     ]
    }
   ],
   "source": [
    "# Alias para o comando kubectl\n",
    "alias k=kubectl\n",
    "# Teste\n",
    "k get svc\n",
    "# Alias para o comando kubectl get\n",
    "alias kg='kubectl get'\n",
    "# Teste\n",
    "kg svc"
   ]
  },
  {
   "cell_type": "markdown",
   "metadata": {},
   "source": [
    "> Você pode colocar esses comandos nos arquivos de configuração do shell (.profile, .bashrc, etc), para torná-los persistentes entre sessões."
   ]
  },
  {
   "cell_type": "markdown",
   "metadata": {},
   "source": [
    "## Ativando o Istio para um namespace\n",
    "\n",
    "Um elemento chave do Istio é o _sidecar_ ou _proxy_, como veremos na discussão sobre arquitetura do Istio. Para que o Istio injete-o nos PODs da aplicação, é necessário marcar o _namespace_ da seguinte forma:"
   ]
  },
  {
   "cell_type": "code",
   "execution_count": 16,
   "metadata": {
    "ExecuteTime": {
     "end_time": "2020-10-14T16:34:05.061000Z",
     "start_time": "2020-10-14T16:34:04.855209Z"
    }
   },
   "outputs": [
    {
     "name": "stdout",
     "output_type": "stream",
     "text": [
      "namespace/default labeled\n"
     ]
    }
   ],
   "source": [
    "kubectl label namespace default istio-injection=enabled"
   ]
  },
  {
   "cell_type": "markdown",
   "metadata": {},
   "source": [
    "Vamos verificar como ficou a configuração do namespace"
   ]
  },
  {
   "cell_type": "code",
   "execution_count": 17,
   "metadata": {
    "ExecuteTime": {
     "end_time": "2020-10-14T16:34:24.512806Z",
     "start_time": "2020-10-14T16:34:24.305603Z"
    }
   },
   "outputs": [
    {
     "name": "stdout",
     "output_type": "stream",
     "text": [
      "Name:         default\n",
      "Labels:       istio-injection=enabled\n",
      "Annotations:  <none>\n",
      "Status:       Active\n",
      "\n",
      "No resource quota.\n",
      "\n",
      "No LimitRange resource.\n"
     ]
    }
   ],
   "source": [
    "kubectl describe ns/default"
   ]
  },
  {
   "cell_type": "markdown",
   "metadata": {},
   "source": [
    "O `istiod` irá monitorar todos os _namespaces_ com o rótulo `istio-injection=enabled` e adicionar ao POD um _container_ de proxy, o _sidecar_.\n",
    "\n",
    "Vamos fazer _deploy_ de uma aplicação exemplo para verificar esse comportamento."
   ]
  },
  {
   "cell_type": "markdown",
   "metadata": {},
   "source": [
    "## Criando uma aplicação demo\n",
    "\n",
    "Vamos criar uma aplicação simples."
   ]
  },
  {
   "cell_type": "code",
   "execution_count": 5,
   "metadata": {
    "ExecuteTime": {
     "end_time": "2020-10-14T16:47:28.499639Z",
     "start_time": "2020-10-14T16:47:28.003812Z"
    }
   },
   "outputs": [],
   "source": [
    "# Vamos criar um diretório para nossos exemplos:\n",
    "mkdir -p assets/exemplos/simple-app\n",
    "\n",
    "# O arquivo de Deployment:\n",
    "cat <<EOT > assets/exemplos/simple-app/deployment.yaml\n",
    "apiVersion: apps/v1\n",
    "kind: Deployment\n",
    "metadata:\n",
    "  name: simple-app\n",
    "  labels:\n",
    "    app: simple-app\n",
    "    version: v1\n",
    "spec:\n",
    "  replicas: 1\n",
    "  selector:\n",
    "    matchLabels:\n",
    "        app: simple-app\n",
    "        version: v1\n",
    "  template:\n",
    "    metadata:\n",
    "      labels:\n",
    "        app: simple-app\n",
    "        version: v1\n",
    "    spec:\n",
    "      containers:\n",
    "        - name: simple-app\n",
    "          image: \"nginx:stable\"\n",
    "          imagePullPolicy: IfNotPresent\n",
    "          ports:\n",
    "            - name: http\n",
    "              containerPort: 80\n",
    "              protocol: TCP\n",
    "EOT\n",
    "\n",
    "# O de serviço\n",
    "cat <<EOT > assets/exemplos/simple-app/service.yaml\n",
    "apiVersion: v1\n",
    "kind: Service\n",
    "metadata:\n",
    "  name: simple-app\n",
    "  labels:\n",
    "    app: simple-app\n",
    "    version: v1\n",
    "spec:\n",
    "  type: ClusterIP\n",
    "  ports:\n",
    "    - port: 80\n",
    "      targetPort: http\n",
    "      protocol: TCP\n",
    "      name: http\n",
    "  selector:\n",
    "    app: simple-app\n",
    "    version: v1\n",
    "EOT"
   ]
  },
  {
   "cell_type": "code",
   "execution_count": 6,
   "metadata": {
    "ExecuteTime": {
     "end_time": "2020-10-14T16:59:28.248285Z",
     "start_time": "2020-10-14T16:59:28.131448Z"
    }
   },
   "outputs": [
    {
     "name": "stdout",
     "output_type": "stream",
     "text": [
      "total 16\n",
      "drwxr-xr-x  4 anderson  staff  128 Apr 10 13:14 .\n",
      "drwxr-xr-x  6 anderson  staff  192 Apr 10 13:14 ..\n",
      "-rw-r--r--  1 anderson  staff  518 Apr 14 16:29 deployment.yaml\n",
      "-rw-r--r--  1 anderson  staff  260 Apr 14 16:29 service.yaml\n"
     ]
    }
   ],
   "source": [
    "# Listando os arquivos criados:\n",
    "ls -la assets/exemplos/simple-app"
   ]
  },
  {
   "cell_type": "markdown",
   "metadata": {},
   "source": [
    "Criamos dois arquivos, o `deployment.yaml` e o `service.yaml` no diretório `assets/exemplos/simple-app`, agora vamos instala-la no _namespace_ default (quando omitido é onde os recursos serão criados).\n",
    "\n",
    "Inspecione os arquivos e tente descobrir o que será instalado no cluster, uma dica, procure a pela imagem."
   ]
  },
  {
   "cell_type": "code",
   "execution_count": 8,
   "metadata": {},
   "outputs": [
    {
     "name": "stdout",
     "output_type": "stream",
     "text": [
      "deployment.apps/simple-app created\n",
      "service/simple-app created\n"
     ]
    }
   ],
   "source": [
    "kubectl apply -f assets/exemplos/simple-app"
   ]
  },
  {
   "cell_type": "markdown",
   "metadata": {},
   "source": [
    "Verificando a situação do POD."
   ]
  },
  {
   "cell_type": "code",
   "execution_count": 10,
   "metadata": {},
   "outputs": [
    {
     "name": "stdout",
     "output_type": "stream",
     "text": [
      "NAME                         READY   STATUS    RESTARTS   AGE\n",
      "simple-app-cf5fc5558-xvggn   2/2     Running   0          49s\n"
     ]
    }
   ],
   "source": [
    "kubectl get pods"
   ]
  },
  {
   "cell_type": "markdown",
   "metadata": {},
   "source": [
    "> Para instalar a aplicação em um _namespace_ diferente adicione `--namesapce` ou `-n`ao comando. Exemplo: `kubectl apply -f exemplos/simple-app -n test-app`"
   ]
  },
  {
   "cell_type": "markdown",
   "metadata": {
    "ExecuteTime": {
     "end_time": "2020-10-14T17:02:59.537962Z",
     "start_time": "2020-10-14T17:02:59.410733Z"
    }
   },
   "source": [
    "Vamos acessar nossa aplicação, ela foi configurada para o tipo de serviço `ClusterIP`, o que significa que o acesso é interno, apenas entre os PODs do cluster, mas podemos acessá-la utilizando o comando `kubectl port-forward`."
   ]
  },
  {
   "cell_type": "code",
   "execution_count": 11,
   "metadata": {
    "ExecuteTime": {
     "end_time": "2020-10-14T17:07:38.718210Z",
     "start_time": "2020-10-14T17:07:37.389852Z"
    }
   },
   "outputs": [
    {
     "name": "stdout",
     "output_type": "stream",
     "text": [
      "Forwarding from 127.0.0.1:8000 -> 80\n",
      "Forwarding from [::1]:8000 -> 80\n",
      "Handling connection for 8000\n",
      "Handling connection for 8000\n"
     ]
    }
   ],
   "source": [
    "kubectl port-forward svc/simple-app 8000:80"
   ]
  },
  {
   "cell_type": "markdown",
   "metadata": {},
   "source": [
    "Vá até o seu navegador e entre acesse a url: <http://localhost:8000>\n",
    "\n",
    "Pronto, você tem acesso à sua aplicação como se estivesse sendo executada na sua máquina. Claro que o kubernetes pode estar na sua máquina, mas isso funcionará em qualquer kubernetes, local ou remoto.\n",
    "\n",
    "Para interromper:\n",
    "* No Jupyter Lab ou Notebook: Clique no icone <kbd>◾</kbd> (_Interrup the kernel_ na barra de ferramentas)\n",
    "* No terminal: tecle <kbd>CTRL</kbd>+<kbd>C</kbd>"
   ]
  },
  {
   "cell_type": "markdown",
   "metadata": {},
   "source": [
    "Verificando o que foi instalado."
   ]
  },
  {
   "cell_type": "code",
   "execution_count": 12,
   "metadata": {
    "ExecuteTime": {
     "end_time": "2020-10-14T17:10:37.717671Z",
     "start_time": "2020-10-14T17:10:37.313032Z"
    }
   },
   "outputs": [
    {
     "name": "stdout",
     "output_type": "stream",
     "text": [
      "NAME                             READY   STATUS    RESTARTS   AGE   LABELS\n",
      "pod/simple-app-cf5fc5558-xvggn   2/2     Running   0          68s   app=simple-app,istio.io/rev=default,pod-template-hash=cf5fc5558,security.istio.io/tlsMode=istio,service.istio.io/canonical-name=simple-app,service.istio.io/canonical-revision=v1,version=v1\n",
      "\n",
      "NAME                 TYPE        CLUSTER-IP     EXTERNAL-IP   PORT(S)   AGE   LABELS\n",
      "service/kubernetes   ClusterIP   10.8.144.1     <none>        443/TCP   41d   component=apiserver,provider=kubernetes\n",
      "service/simple-app   ClusterIP   10.8.146.141   <none>        80/TCP    67s   app=simple-app,version=v1\n",
      "\n",
      "NAME                         READY   UP-TO-DATE   AVAILABLE   AGE   LABELS\n",
      "deployment.apps/simple-app   1/1     1            1           69s   app=simple-app,version=v1\n",
      "\n",
      "NAME                                   DESIRED   CURRENT   READY   AGE   LABELS\n",
      "replicaset.apps/simple-app-cf5fc5558   1         1         1       69s   app=simple-app,pod-template-hash=cf5fc5558,version=v1\n"
     ]
    }
   ],
   "source": [
    "kubectl get --show-labels all"
   ]
  },
  {
   "cell_type": "markdown",
   "metadata": {},
   "source": [
    "Note que o pod/simple-app tem 2/2 na coluna pronto (Ready), isso significa que dois containers de dois estão ok, vamos verificar quem é o segundo container."
   ]
  },
  {
   "cell_type": "code",
   "execution_count": 13,
   "metadata": {
    "ExecuteTime": {
     "end_time": "2020-10-14T17:27:21.777610Z",
     "start_time": "2020-10-14T17:27:20.317304Z"
    }
   },
   "outputs": [
    {
     "name": "stdout",
     "output_type": "stream",
     "text": [
      "Name:         simple-app-cf5fc5558-xvggn\n",
      "Namespace:    default\n",
      "Priority:     0\n",
      "Node:         gke-cluster-1-default-pool-1fb77211-sdbr/10.128.0.18\n",
      "Start Time:   Wed, 14 Apr 2021 16:29:38 -0300\n",
      "Labels:       app=simple-app\n",
      "              istio.io/rev=default\n",
      "              pod-template-hash=cf5fc5558\n",
      "              security.istio.io/tlsMode=istio\n",
      "              service.istio.io/canonical-name=simple-app\n",
      "              service.istio.io/canonical-revision=v1\n",
      "              version=v1\n",
      "Annotations:  kubectl.kubernetes.io/default-logs-container: simple-app\n",
      "              prometheus.io/path: /stats/prometheus\n",
      "              prometheus.io/port: 15020\n",
      "              prometheus.io/scrape: true\n",
      "              sidecar.istio.io/status:\n",
      "                {\"initContainers\":[\"istio-init\"],\"containers\":[\"istio-proxy\"],\"volumes\":[\"istio-envoy\",\"istio-data\",\"istio-podinfo\",\"istio-token\",\"istiod-...\n",
      "Status:       Running\n",
      "IP:           10.4.1.5\n",
      "IPs:\n",
      "  IP:           10.4.1.5\n",
      "Controlled By:  ReplicaSet/simple-app-cf5fc5558\n",
      "Init Containers:\n",
      "  istio-init:\n",
      "    Container ID:  docker://89e311d0b081d3c9bf9bf7cba87159863920ef5102a64aacdb4274aae5ce0a39\n",
      "    Image:         docker.io/istio/proxyv2:1.10.0\n",
      "    Image ID:      docker-pullable://istio/proxyv2@sha256:ee9c153e2f973937befb8af61e7269ab368020b6e7d91b5d891bbbeba55eb266\n",
      "    Port:          <none>\n",
      "    Host Port:     <none>\n",
      "    Args:\n",
      "      istio-iptables\n",
      "      -p\n",
      "      15001\n",
      "      -z\n",
      "      15006\n",
      "      -u\n",
      "      1337\n",
      "      -m\n",
      "      REDIRECT\n",
      "      -i\n",
      "      *\n",
      "      -x\n",
      "      \n",
      "      -b\n",
      "      *\n",
      "      -d\n",
      "      15090,15021,15020\n",
      "    State:          Terminated\n",
      "      Reason:       Completed\n",
      "      Exit Code:    0\n",
      "      Started:      Wed, 14 Apr 2021 16:29:48 -0300\n",
      "      Finished:     Wed, 14 Apr 2021 16:29:48 -0300\n",
      "    Ready:          True\n",
      "    Restart Count:  0\n",
      "    Limits:\n",
      "      cpu:     2\n",
      "      memory:  1Gi\n",
      "    Requests:\n",
      "      cpu:        10m\n",
      "      memory:     40Mi\n",
      "    Environment:  <none>\n",
      "    Mounts:\n",
      "      /var/run/secrets/kubernetes.io/serviceaccount from default-token-xmslm (ro)\n",
      "Containers:\n",
      "  simple-app:\n",
      "    Container ID:   docker://ad8806d3f85fca6e1e6b8eadff8511f4241b41784eb51439cd606d9fda4a2867\n",
      "    Image:          nginx:stable\n",
      "    Image ID:       docker-pullable://nginx@sha256:e90ac5331fe095cea01b121a3627174b2e33e06e83720e9a934c7b8ccc9c55a0\n",
      "    Port:           80/TCP\n",
      "    Host Port:      0/TCP\n",
      "    State:          Running\n",
      "      Started:      Wed, 14 Apr 2021 16:29:53 -0300\n",
      "    Ready:          True\n",
      "    Restart Count:  0\n",
      "    Environment:    <none>\n",
      "    Mounts:\n",
      "      /var/run/secrets/kubernetes.io/serviceaccount from default-token-xmslm (ro)\n",
      "  istio-proxy:\n",
      "    Container ID:  docker://b0359ac433a2046c06323430458def1286b57617b63c4b111d4cf9c619a44039\n",
      "    Image:         docker.io/istio/proxyv2:1.10.0\n",
      "    Image ID:      docker-pullable://istio/proxyv2@sha256:ee9c153e2f973937befb8af61e7269ab368020b6e7d91b5d891bbbeba55eb266\n",
      "    Port:          15090/TCP\n",
      "    Host Port:     0/TCP\n",
      "    Args:\n",
      "      proxy\n",
      "      sidecar\n",
      "      --domain\n",
      "      $(POD_NAMESPACE).svc.cluster.local\n",
      "      --serviceCluster\n",
      "      simple-app.$(POD_NAMESPACE)\n",
      "      --proxyLogLevel=warning\n",
      "      --proxyComponentLogLevel=misc:error\n",
      "      --log_output_level=default:info\n",
      "      --concurrency\n",
      "      2\n",
      "    State:          Running\n",
      "      Started:      Wed, 14 Apr 2021 16:29:54 -0300\n",
      "    Ready:          True\n",
      "    Restart Count:  0\n",
      "    Limits:\n",
      "      cpu:     2\n",
      "      memory:  1Gi\n",
      "    Requests:\n",
      "      cpu:      10m\n",
      "      memory:   40Mi\n",
      "    Readiness:  http-get http://:15021/healthz/ready delay=1s timeout=3s period=2s #success=1 #failure=30\n",
      "    Environment:\n",
      "      JWT_POLICY:                    third-party-jwt\n",
      "      PILOT_CERT_PROVIDER:           istiod\n",
      "      CA_ADDR:                       istiod.istio-system.svc:15012\n",
      "      POD_NAME:                      simple-app-cf5fc5558-xvggn (v1:metadata.name)\n",
      "      POD_NAMESPACE:                 default (v1:metadata.namespace)\n",
      "      INSTANCE_IP:                    (v1:status.podIP)\n",
      "      SERVICE_ACCOUNT:                (v1:spec.serviceAccountName)\n",
      "      HOST_IP:                        (v1:status.hostIP)\n",
      "      CANONICAL_SERVICE:              (v1:metadata.labels['service.istio.io/canonical-name'])\n",
      "      CANONICAL_REVISION:             (v1:metadata.labels['service.istio.io/canonical-revision'])\n",
      "      PROXY_CONFIG:                  {}\n",
      "                                     \n",
      "      ISTIO_META_POD_PORTS:          [\n",
      "                                         {\"name\":\"http\",\"containerPort\":80,\"protocol\":\"TCP\"}\n",
      "                                     ]\n",
      "      ISTIO_META_APP_CONTAINERS:     simple-app\n",
      "      ISTIO_META_CLUSTER_ID:         Kubernetes\n",
      "      ISTIO_META_INTERCEPTION_MODE:  REDIRECT\n",
      "      ISTIO_META_WORKLOAD_NAME:      simple-app\n",
      "      ISTIO_META_OWNER:              kubernetes://apis/apps/v1/namespaces/default/deployments/simple-app\n",
      "      ISTIO_META_MESH_ID:            cluster.local\n",
      "      TRUST_DOMAIN:                  cluster.local\n",
      "    Mounts:\n",
      "      /etc/istio/pod from istio-podinfo (rw)\n",
      "      /etc/istio/proxy from istio-envoy (rw)\n",
      "      /var/lib/istio/data from istio-data (rw)\n",
      "      /var/run/secrets/istio from istiod-ca-cert (rw)\n",
      "      /var/run/secrets/kubernetes.io/serviceaccount from default-token-xmslm (ro)\n",
      "      /var/run/secrets/tokens from istio-token (rw)\n",
      "Conditions:\n",
      "  Type              Status\n",
      "  Initialized       True \n",
      "  Ready             True \n",
      "  ContainersReady   True \n",
      "  PodScheduled      True \n",
      "Volumes:\n",
      "  istio-envoy:\n",
      "    Type:       EmptyDir (a temporary directory that shares a pod's lifetime)\n",
      "    Medium:     Memory\n",
      "    SizeLimit:  <unset>\n",
      "  istio-data:\n",
      "    Type:       EmptyDir (a temporary directory that shares a pod's lifetime)\n",
      "    Medium:     \n",
      "    SizeLimit:  <unset>\n",
      "  istio-podinfo:\n",
      "    Type:  DownwardAPI (a volume populated by information about the pod)\n",
      "    Items:\n",
      "      metadata.labels -> labels\n",
      "      metadata.annotations -> annotations\n",
      "      limits.cpu -> cpu-limit\n",
      "      requests.cpu -> cpu-request\n",
      "  istio-token:\n",
      "    Type:                    Projected (a volume that contains injected data from multiple sources)\n",
      "    TokenExpirationSeconds:  43200\n",
      "  istiod-ca-cert:\n",
      "    Type:      ConfigMap (a volume populated by a ConfigMap)\n",
      "    Name:      istio-ca-root-cert\n",
      "    Optional:  false\n",
      "  default-token-xmslm:\n",
      "    Type:        Secret (a volume populated by a Secret)\n",
      "    SecretName:  default-token-xmslm\n",
      "    Optional:    false\n",
      "QoS Class:       Burstable\n",
      "Node-Selectors:  <none>\n",
      "Tolerations:     node.kubernetes.io/not-ready:NoExecute op=Exists for 300s\n",
      "                 node.kubernetes.io/unreachable:NoExecute op=Exists for 300s\n",
      "Events:\n",
      "  Type     Reason     Age   From               Message\n",
      "  ----     ------     ----  ----               -------\n",
      "  Normal   Scheduled  79s   default-scheduler  Successfully assigned default/simple-app-cf5fc5558-xvggn to gke-cluster-1-default-pool-1fb77211-sdbr\n",
      "  Normal   Pulling    78s   kubelet            Pulling image \"docker.io/istio/proxyv2:1.10.0\"\n",
      "  Normal   Pulled     71s   kubelet            Successfully pulled image \"docker.io/istio/proxyv2:1.10.0\"\n",
      "  Normal   Created    69s   kubelet            Created container istio-init\n",
      "  Normal   Started    69s   kubelet            Started container istio-init\n",
      "  Normal   Pulling    68s   kubelet            Pulling image \"nginx:stable\"\n",
      "  Normal   Pulled     65s   kubelet            Successfully pulled image \"nginx:stable\"\n",
      "  Normal   Created    64s   kubelet            Created container simple-app\n",
      "  Normal   Started    64s   kubelet            Started container simple-app\n",
      "  Normal   Pulling    64s   kubelet            Pulling image \"docker.io/istio/proxyv2:1.10.0\"\n",
      "  Normal   Pulled     63s   kubelet            Successfully pulled image \"docker.io/istio/proxyv2:1.10.0\"\n",
      "  Normal   Created    63s   kubelet            Created container istio-proxy\n",
      "  Normal   Started    63s   kubelet            Started container istio-proxy\n",
      "  Warning  Unhealthy  61s   kubelet            Readiness probe failed: Get http://10.4.1.5:15021/healthz/ready: dial tcp 10.4.1.5:15021: connect: connection refused\n"
     ]
    }
   ],
   "source": [
    "# Usaremos um dos labels do pod para encontra-lo\n",
    "kubectl describe pod -l app=simple-app"
   ]
  },
  {
   "cell_type": "markdown",
   "metadata": {},
   "source": [
    "É uma grande quantidade de informação, vamos procurar uma seção chamada `Containers` e nela a nossa aplicação `simple-app`.\n",
    "\n",
    "Como você pode ver, a imagem desse container é `nginx`, com a tag `stable`, mais abaixo tem um segundo container `istio-proxy`, com a imagem `docker.io/istio/proxyv2` e a _tag_ para a  versão `1.10.0`.\n",
    "\n",
    "Esse container não faz parte do [assets/exemplos/simple-app/deployment.yaml](exemplos/2_simple-app/deployment.yaml), ele foi adicionado ao seu pod pelo `istiod`."
   ]
  },
  {
   "cell_type": "markdown",
   "metadata": {},
   "source": [
    "Caso você precise saber todos os _namespaces_ que tem a injeção do _conteiner_ _proxy_ do Istio ativado, basta executar o comando:"
   ]
  },
  {
   "cell_type": "code",
   "execution_count": 14,
   "metadata": {
    "ExecuteTime": {
     "end_time": "2020-10-14T16:40:47.392310Z",
     "start_time": "2020-10-14T16:40:47.046643Z"
    }
   },
   "outputs": [
    {
     "name": "stdout",
     "output_type": "stream",
     "text": [
      "NAME      STATUS   AGE\n",
      "default   Active   41d\n",
      "NAME                         READY   STATUS    RESTARTS   AGE\n",
      "simple-app-cf5fc5558-xvggn   2/2     Running   0          2m34s\n"
     ]
    }
   ],
   "source": [
    "kubectl get ns -l istio-injection=enabled\n",
    "\n",
    "kubectl get pods"
   ]
  },
  {
   "cell_type": "markdown",
   "metadata": {},
   "source": [
    "Até o momento, somente o namespace `default`, onde configuramos a marcação, foi encontrado."
   ]
  },
  {
   "cell_type": "markdown",
   "metadata": {},
   "source": [
    "## Conclusão\n",
    "\n",
    "Neste ponto temos o mínimo do Istio em execução no nosso cluster, mas com exceção de um container extra isso não significa muito.\n",
    "\n",
    "Na próxima parte iremos explorar os recursos que esta instalação mínima do Istio pode oferecer."
   ]
  }
 ],
 "metadata": {
  "hide_input": false,
  "kernelspec": {
   "display_name": "Bash",
   "language": "bash",
   "name": "bash"
  },
  "language_info": {
   "codemirror_mode": "shell",
   "file_extension": ".sh",
   "mimetype": "text/x-sh",
   "name": "bash"
  },
  "toc": {
   "base_numbering": 1,
   "nav_menu": {},
   "number_sections": true,
   "sideBar": true,
   "skip_h1_title": false,
   "title_cell": "Table of Contents",
   "title_sidebar": "Contents",
   "toc_cell": false,
   "toc_position": {},
   "toc_section_display": true,
   "toc_window_display": false
  },
  "varInspector": {
   "cols": {
    "lenName": 16,
    "lenType": 16,
    "lenVar": 40
   },
   "kernels_config": {
    "python": {
     "delete_cmd_postfix": "",
     "delete_cmd_prefix": "del ",
     "library": "var_list.py",
     "varRefreshCmd": "print(var_dic_list())"
    },
    "r": {
     "delete_cmd_postfix": ") ",
     "delete_cmd_prefix": "rm(",
     "library": "var_list.r",
     "varRefreshCmd": "cat(var_dic_list()) "
    }
   },
   "types_to_exclude": [
    "module",
    "function",
    "builtin_function_or_method",
    "instance",
    "_Feature"
   ],
   "window_display": false
  }
 },
 "nbformat": 4,
 "nbformat_minor": 4
}
