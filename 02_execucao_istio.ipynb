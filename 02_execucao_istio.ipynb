{
 "cells": [
  {
   "cell_type": "markdown",
   "metadata": {},
   "source": [
    "# 3.5 Colocando o Istio em execução"
   ]
  },
  {
   "cell_type": "markdown",
   "metadata": {},
   "source": [
    "## Instalando o Istio (linux)\n",
    "\n",
    "Para instalar a última versão do Istio, neste momento 1.8.0, você pode ir até a página [Getting Started](https://istio.io/latest/docs/setup/getting-started/#download) ou seguir as instruções abaixo:"
   ]
  },
  {
   "cell_type": "code",
   "execution_count": null,
   "metadata": {
    "ExecuteTime": {
     "end_time": "2020-10-13T12:13:58.606406Z",
     "start_time": "2020-10-13T12:13:40.694941Z"
    }
   },
   "outputs": [],
   "source": [
    "curl -L https://istio.io/downloadIstio | sh -"
   ]
  },
  {
   "cell_type": "markdown",
   "metadata": {},
   "source": [
    "Para usar o comando `istioctl`, que está no diretório `bin` do download, coloque-o na variável `PATH` ou copie o arquivo `bin/istioctl` para um diretório no seu `PATH`\n",
    "\n",
    "## Opção 1: Copiar o arquivo para seu diretório de binários"
   ]
  },
  {
   "cell_type": "code",
   "execution_count": null,
   "metadata": {
    "tags": []
   },
   "outputs": [],
   "source": [
    "# Verificar onde está o executável do Istio\n",
    "ls istio-1.8.0/bin\n",
    "# Verificar o conteúdo da variável PATH\n",
    "echo $PATH\n",
    "# Vamos coloca-lo no diretório bin do usuário\n",
    "[ -d \"~/bin\" ] && echo \"O diretorio $HOME/bin existe.\"\n",
    "# Copiar o arquivo para o diretório bin\n",
    "cp istio-1.8.0/bin/istioctl ~/bin\n",
    "# Adicionar o diretório de binários do usuário no path\n",
    "export PATH=~/bin:$PATH"
   ]
  },
  {
   "cell_type": "code",
   "execution_count": null,
   "metadata": {},
   "outputs": [],
   "source": [
    "# Teste\n",
    "istioctl version"
   ]
  },
  {
   "cell_type": "markdown",
   "metadata": {},
   "source": [
    "## Opção 2: Definir a variável PATH\n",
    "Você pode copiar o comando em qualquer diretório ou mantê-lo no diretório do Istio e ajustar a variável `PATH` na sessão."
   ]
  },
  {
   "cell_type": "code",
   "execution_count": null,
   "metadata": {
    "ExecuteTime": {
     "end_time": "2020-10-14T17:06:42.897636Z",
     "start_time": "2020-10-14T17:06:42.253440Z"
    }
   },
   "outputs": [],
   "source": [
    "export PATH=$PWD/istio-1.8.0/bin:$PATH\n",
    "echo $PATH\n",
    "istioctl --help"
   ]
  },
  {
   "cell_type": "markdown",
   "metadata": {},
   "source": [
    "## Acessando o k8s\n",
    "\n",
    "Você já deve ter acessado o cluster em seções anteriores, mas vale a pena revisar:"
   ]
  },
  {
   "cell_type": "code",
   "execution_count": null,
   "metadata": {
    "ExecuteTime": {
     "end_time": "2020-10-14T17:06:36.590203Z",
     "start_time": "2020-10-14T17:06:34.636568Z"
    }
   },
   "outputs": [],
   "source": [
    "# Se você não estiver usando o docker-desktop será necessário obter o arquivo de configuração e ajustar a variável KUBECONFIG\n",
    "#export KUBECONFIG=~/.kube/config\n",
    "kubectl config get-contexts\n",
    "kubectl get nodes"
   ]
  },
  {
   "cell_type": "markdown",
   "metadata": {},
   "source": [
    "## O mínimo do Istio\n",
    "\n",
    "Desde a versão 1.6 o Istio é composto de uma única entrega chamada `istiod` e ela pode ser instalada com o comando abaix:"
   ]
  },
  {
   "cell_type": "code",
   "execution_count": null,
   "metadata": {},
   "outputs": [],
   "source": [
    "istioctl install --set profile=minimal --skip-confirmation  "
   ]
  },
  {
   "cell_type": "markdown",
   "metadata": {},
   "source": [
    "Vamos verificar o que foi instalado"
   ]
  },
  {
   "cell_type": "code",
   "execution_count": null,
   "metadata": {
    "ExecuteTime": {
     "end_time": "2020-10-14T16:33:57.203722Z",
     "start_time": "2020-10-14T16:33:56.643171Z"
    }
   },
   "outputs": [],
   "source": [
    "# Obtendo os namespaces\n",
    "kubectl get ns\n",
    "\n",
    "# Verificando o namespace do Istio\n",
    "kubectl get all -n istio-system"
   ]
  },
  {
   "cell_type": "markdown",
   "metadata": {},
   "source": [
    "## Ativando o Istio em um namespace\n",
    "Para que o Istio injete um proxy no mesmo pod que o(s) seu(s) containers, você precisa marcar o namespace da seguinte forma:"
   ]
  },
  {
   "cell_type": "code",
   "execution_count": null,
   "metadata": {
    "ExecuteTime": {
     "end_time": "2020-10-14T16:34:05.061000Z",
     "start_time": "2020-10-14T16:34:04.855209Z"
    }
   },
   "outputs": [],
   "source": [
    "kubectl label namespace default istio-injection=enabled"
   ]
  },
  {
   "cell_type": "markdown",
   "metadata": {},
   "source": [
    "Vamos verificar como ficou a configuração do namespace"
   ]
  },
  {
   "cell_type": "code",
   "execution_count": null,
   "metadata": {
    "ExecuteTime": {
     "end_time": "2020-10-14T16:34:24.512806Z",
     "start_time": "2020-10-14T16:34:24.305603Z"
    }
   },
   "outputs": [],
   "source": [
    "kubectl describe ns/default"
   ]
  },
  {
   "cell_type": "markdown",
   "metadata": {},
   "source": [
    "O `istiod` irá monitorar os namespaces com esse `label` e adicionar ao pod um container de proxy. Vamos fazer deploy de uma aplicação exemplo para verificar esse comportamento."
   ]
  },
  {
   "cell_type": "markdown",
   "metadata": {},
   "source": [
    "## Criando uma aplicação demo\n",
    "\n",
    "Vamos utilizar o helm para criar uma aplicação simples."
   ]
  },
  {
   "cell_type": "code",
   "execution_count": null,
   "metadata": {
    "ExecuteTime": {
     "end_time": "2020-10-14T16:47:28.499639Z",
     "start_time": "2020-10-14T16:47:28.003812Z"
    }
   },
   "outputs": [],
   "source": [
    "# Vamos criar um diretório para nossos exemplos\n",
    "mkdir -p exemplos/simple-app\n",
    "\n",
    "# Deployment\n",
    "cat <<EOT > exemplos/2_simple-app/deployment.yaml\n",
    "apiVersion: apps/v1\n",
    "kind: Deployment\n",
    "metadata:\n",
    "  name: simple-app\n",
    "  labels:\n",
    "    app: simple-app\n",
    "    version: v1\n",
    "spec:\n",
    "  replicas: 1\n",
    "  selector:\n",
    "    matchLabels:\n",
    "        app: simple-app\n",
    "        version: v1\n",
    "  template:\n",
    "    metadata:\n",
    "      labels:\n",
    "        app: simple-app\n",
    "        version: v1\n",
    "    spec:\n",
    "      containers:\n",
    "        - name: simple-app\n",
    "          image: \"nginx:stable\"\n",
    "          imagePullPolicy: IfNotPresent\n",
    "          ports:\n",
    "            - name: http\n",
    "              containerPort: 80\n",
    "              protocol: TCP\n",
    "EOT\n",
    "\n",
    "# Service\n",
    "cat <<EOT > exemplos/2_simple-app/service.yaml\n",
    "apiVersion: v1\n",
    "kind: Service\n",
    "metadata:\n",
    "  name: simple-app\n",
    "  labels:\n",
    "    app: simple-app\n",
    "    version: v1\n",
    "spec:\n",
    "  type: ClusterIP\n",
    "  ports:\n",
    "    - port: 80\n",
    "      targetPort: http\n",
    "      protocol: TCP\n",
    "      name: http\n",
    "  selector:\n",
    "    app: simple-app\n",
    "    version: v1\n",
    "EOT"
   ]
  },
  {
   "cell_type": "code",
   "execution_count": null,
   "metadata": {
    "ExecuteTime": {
     "end_time": "2020-10-14T16:59:28.248285Z",
     "start_time": "2020-10-14T16:59:28.131448Z"
    }
   },
   "outputs": [],
   "source": [
    "ls -la exemplos/2_simple-app"
   ]
  },
  {
   "cell_type": "markdown",
   "metadata": {},
   "source": [
    "Criamos dois arquivos, o `deployment.yaml` e o `service.yaml` no diretório `exemplos/simple-app`, agora vamos instala-la no cluster.\n",
    "\n",
    "Inspecione os arquivos e tente descobrir o que será instalado no cluster, uma dica, procure a pela imagem."
   ]
  },
  {
   "cell_type": "code",
   "execution_count": null,
   "metadata": {},
   "outputs": [],
   "source": [
    "kubectl apply -f exemplos/2_simple-app"
   ]
  },
  {
   "cell_type": "markdown",
   "metadata": {},
   "source": [
    "Verificando a situação do POD."
   ]
  },
  {
   "cell_type": "code",
   "execution_count": null,
   "metadata": {},
   "outputs": [],
   "source": [
    "kubectl get pods"
   ]
  },
  {
   "cell_type": "markdown",
   "metadata": {
    "ExecuteTime": {
     "end_time": "2020-10-14T17:02:59.537962Z",
     "start_time": "2020-10-14T17:02:59.410733Z"
    }
   },
   "source": [
    "Vamos acessar nossa aplicação, ela foi configurada para o tipo de serviço `ClusterIP`, o que significa que o acesso é interno, apenas entre os PODs do cluster, mas podemos acessá-la utilizando o comando `kubectl port-forwar`."
   ]
  },
  {
   "cell_type": "code",
   "execution_count": null,
   "metadata": {
    "ExecuteTime": {
     "end_time": "2020-10-14T17:07:38.718210Z",
     "start_time": "2020-10-14T17:07:37.389852Z"
    }
   },
   "outputs": [],
   "source": [
    "kubectl port-forward svc/simple-app 8000:80"
   ]
  },
  {
   "cell_type": "markdown",
   "metadata": {},
   "source": [
    "Vá até o seu navegador e entre acesse a url: <http://localhost:8000>\n",
    "\n",
    "Pronto, você tem acesso a sua aplicação como se estivesse sendo executada na sua máquina. Claro que o kubernetes está na sua máquina, mas isso funcionaria em qualquer kubernetes, local ou remoto.\n",
    "\n",
    "Para interromper:\n",
    "* No jupyter Lab ou notebook: Clique no icone <kbd>◾</kbd> (_Interrup the kernel_ na barra de ferramentas)\n",
    "* No terminal: tecle <kbd>CTRL</kbd>+<kbd>C</kbd>"
   ]
  },
  {
   "cell_type": "markdown",
   "metadata": {},
   "source": [
    "Verificando o que foi instalado."
   ]
  },
  {
   "cell_type": "code",
   "execution_count": null,
   "metadata": {
    "ExecuteTime": {
     "end_time": "2020-10-14T17:10:37.717671Z",
     "start_time": "2020-10-14T17:10:37.313032Z"
    }
   },
   "outputs": [],
   "source": [
    "kubectl get --show-labels all"
   ]
  },
  {
   "cell_type": "markdown",
   "metadata": {},
   "source": [
    "Note que o pod/simple-app tem 2/2 na coluna pronto (Ready), isso significa que dois containers de dois estão ok, vamos verificar quem é o segundo container."
   ]
  },
  {
   "cell_type": "code",
   "execution_count": null,
   "metadata": {
    "ExecuteTime": {
     "end_time": "2020-10-14T17:27:21.777610Z",
     "start_time": "2020-10-14T17:27:20.317304Z"
    }
   },
   "outputs": [],
   "source": [
    "# Usaremos um dos labels do pod para encontra-lo\n",
    "kubectl describe pod -l app=simple-app"
   ]
  },
  {
   "cell_type": "markdown",
   "metadata": {},
   "source": [
    "É uma grande quantidade de informação, vamos procurar uma seção chamada `Containers` e nela a nossa aplicação `simple-app`.\n",
    "\n",
    "Como você pode ver, a imagem desse container é `nginx`, com a tag `stable`, mais abaixo tem um segundo container `istio-proxy`, com a imagem `docker.io/istio/proxyv2` e tag representando a versão `1.8.0`.\n",
    "\n",
    "Esse container não faz parte do [exemplos/simple-app/deployment.yaml](exemplos/simple-app/deployment.yaml), ele foi adicionado ao seu pod pelo `istiod`."
   ]
  },
  {
   "cell_type": "markdown",
   "metadata": {},
   "source": [
    "Caso você precise saber todos os _namespaces_ que tem a injeção do _conteiner_ _proxy_ do Istio ativado, basta executar o comando:"
   ]
  },
  {
   "cell_type": "code",
   "execution_count": null,
   "metadata": {
    "ExecuteTime": {
     "end_time": "2020-10-14T16:40:47.392310Z",
     "start_time": "2020-10-14T16:40:47.046643Z"
    }
   },
   "outputs": [],
   "source": [
    "kubectl get ns -l istio-injection=enabled"
   ]
  },
  {
   "cell_type": "markdown",
   "metadata": {},
   "source": [
    "Até o momento, somente o namespace `default`, onde configuramos a marcação, retornou."
   ]
  },
  {
   "cell_type": "markdown",
   "metadata": {},
   "source": [
    "## Conclusão\n",
    "\n",
    "Neste ponto temos o mínimo do Istio em execução no nosso cluster, mas com exceção de um container extra isso não significa muito.\n",
    "\n",
    "Na próxima parte iremos explorar os recursos que esta instalação mínima do Istio pode oferecer."
   ]
  }
 ],
 "metadata": {
  "hide_input": false,
  "kernelspec": {
   "display_name": "Bash",
   "language": "bash",
   "name": "bash"
  },
  "language_info": {
   "codemirror_mode": "shell",
   "file_extension": ".sh",
   "mimetype": "text/x-sh",
   "name": "bash"
  },
  "toc": {
   "base_numbering": 1,
   "nav_menu": {},
   "number_sections": true,
   "sideBar": true,
   "skip_h1_title": false,
   "title_cell": "Table of Contents",
   "title_sidebar": "Contents",
   "toc_cell": false,
   "toc_position": {},
   "toc_section_display": true,
   "toc_window_display": false
  },
  "varInspector": {
   "cols": {
    "lenName": 16,
    "lenType": 16,
    "lenVar": 40
   },
   "kernels_config": {
    "python": {
     "delete_cmd_postfix": "",
     "delete_cmd_prefix": "del ",
     "library": "var_list.py",
     "varRefreshCmd": "print(var_dic_list())"
    },
    "r": {
     "delete_cmd_postfix": ") ",
     "delete_cmd_prefix": "rm(",
     "library": "var_list.r",
     "varRefreshCmd": "cat(var_dic_list()) "
    }
   },
   "types_to_exclude": [
    "module",
    "function",
    "builtin_function_or_method",
    "instance",
    "_Feature"
   ],
   "window_display": false
  }
 },
 "nbformat": 4,
 "nbformat_minor": 4
}
