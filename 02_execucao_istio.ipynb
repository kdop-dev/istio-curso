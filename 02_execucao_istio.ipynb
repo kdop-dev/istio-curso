{
 "cells": [
  {
   "cell_type": "markdown",
   "metadata": {},
   "source": [
    "# Colocando o Istio em execução"
   ]
  },
  {
   "cell_type": "markdown",
   "metadata": {},
   "source": [
    "## Acessando o k8s\n",
    "\n",
    "Vamos configurar o ambiente, você precisará configurá-lo a cada nova seção ou executar o jupyter passando as variáveis, como descrito no [README](README.md) e não precisará repetir esses comandos novamente."
   ]
  },
  {
   "cell_type": "code",
   "execution_count": null,
   "metadata": {
    "ExecuteTime": {
     "end_time": "2020-10-14T17:06:36.590203Z",
     "start_time": "2020-10-14T17:06:34.636568Z"
    }
   },
   "outputs": [],
   "source": [
    "# [Opcional] Se você não estiver usando o docker-desktop será necessário obter o arquivo de configuração e ajustar a variável KUBECONFIG\n",
    "export KUBECONFIG=~/.kube/config # Local do kubeconfig do docker-desktop. Selecione o local onde você colocou o arquivo de config para outras opções (AKS, EKS, GKE, etc)."
   ]
  },
  {
   "cell_type": "code",
   "execution_count": null,
   "metadata": {},
   "outputs": [],
   "source": [
    "# [Opcional] Se você tem mais de um cluster na configuração, verifique se está apontando para o correto.\n",
    "kubectl config get-contexts"
   ]
  },
  {
   "cell_type": "code",
   "execution_count": null,
   "metadata": {},
   "outputs": [],
   "source": [
    "# Vamos verificar como estão os nós do nosso cluster:\n",
    "kubectl get nodes"
   ]
  },
  {
   "cell_type": "markdown",
   "metadata": {},
   "source": [
    "## Instalando o Istio (linux)\n",
    "\n",
    "Para instalar a última versão do Istio, neste momento 1.9.1, você pode ir até a página [Getting Started](https://istio.io/latest/docs/setup/getting-started/#download) ou seguir as instruções abaixo:"
   ]
  },
  {
   "cell_type": "code",
   "execution_count": null,
   "metadata": {
    "ExecuteTime": {
     "end_time": "2020-10-13T12:13:58.606406Z",
     "start_time": "2020-10-13T12:13:40.694941Z"
    }
   },
   "outputs": [],
   "source": [
    "curl -L https://istio.io/downloadIstio | sh -"
   ]
  },
  {
   "cell_type": "markdown",
   "metadata": {},
   "source": [
    "Para usar o comando `istioctl`, que está no diretório `bin` do download, coloque-o na variável `PATH` ou copie o arquivo `bin/istioctl` para um diretório no seu `PATH`\n",
    "\n",
    "Copiando o istioctl para o diretório de binários\n",
    "\n",
    "O istioctl é um utilitário de linha de comando e foi copiado para a sua máquina durante o download acima.\n",
    "\n",
    "Para utilizá-lo, basta colocar o arquivo em algum diretório listado na variável PATH."
   ]
  },
  {
   "cell_type": "markdown",
   "metadata": {},
   "source": [
    "O istioctl é um utilitário de linha de comando e foi copiado para a sua máquina durante o download acima.\n",
    "\n",
    "Para utilizá-lo, basta colocar o arquivo em algum diretório listado na variável PATH."
   ]
  },
  {
   "cell_type": "code",
   "execution_count": null,
   "metadata": {},
   "outputs": [],
   "source": [
    "echo $PATH"
   ]
  },
  {
   "cell_type": "markdown",
   "metadata": {},
   "source": [
    "Os diretórios mais indicados são os do usuário para binários, caso você não tenha, pode criar um e colocá-lo na variável PATH.\n",
    "\n",
    "A seguir criaremos o diretório `˜/bin`, adicionaremos o caminho na variável PATH e copiaremos o arquivo para o diret"
   ]
  },
  {
   "cell_type": "code",
   "execution_count": null,
   "metadata": {
    "tags": []
   },
   "outputs": [],
   "source": [
    "ISTIO_VERSION=1.9.1\n",
    "# Verificar onde está o executável do Istio\n",
    "ls istio-$ISTIO_VERSION/bin\n",
    "export PATH=$PWD/istio-$ISTIO_VERSION/bin:$PATH"
   ]
  },
  {
   "cell_type": "code",
   "execution_count": null,
   "metadata": {},
   "outputs": [],
   "source": [
    "# Teste\n",
    "istioctl version"
   ]
  },
  {
   "cell_type": "markdown",
   "metadata": {},
   "source": [
    "Você também pode copiar o comando em qualquer diretório ou mantê-lo no diretório do Istio e ajustar a variável `PATH` na sessão."
   ]
  },
  {
   "cell_type": "markdown",
   "metadata": {},
   "source": [
    "Para tornar essa configuração permanente, você deve adicionar o caminho absoluto (substitua p PWD) a variável PATH no arquivo de configuração do shell do seu usuário, por exemplo ~/.bashrc ou ~/.profile ou ~/.zshrc, etc."
   ]
  },
  {
   "cell_type": "markdown",
   "metadata": {},
   "source": [
    "## O mínimo do Istio\n",
    "\n",
    "Desde a versão 1.6 o Istio é composto de uma única entrega chamada `istiod` e ela pode ser instalada com o comando abaixo:"
   ]
  },
  {
   "cell_type": "code",
   "execution_count": null,
   "metadata": {},
   "outputs": [],
   "source": [
    "# Isso deve demorar de 2 a 5 minutos\n",
    "istioctl install --set profile=minimal --skip-confirmation"
   ]
  },
  {
   "cell_type": "markdown",
   "metadata": {},
   "source": [
    "> Em Mar-2021 não é possível instalar o Istio no GKE Autopilot, ele retorna o erro: `Istiod encountered an error: failed to update resource with server-side apply for obj MutatingWebhookConfiguration`. Veja mais sobre [incopatibilidades do GKE Autopilot](https://cloud.google.com/kubernetes-engine/docs/concepts/autopilot-overview?hl=pt-br#unsupported_cluster_features).\n",
    "> Para GKE crie um cluster padrão Zonal."
   ]
  },
  {
   "cell_type": "markdown",
   "metadata": {},
   "source": [
    "Vamos verificar o que foi instalado"
   ]
  },
  {
   "cell_type": "code",
   "execution_count": null,
   "metadata": {
    "ExecuteTime": {
     "end_time": "2020-10-14T16:33:57.203722Z",
     "start_time": "2020-10-14T16:33:56.643171Z"
    }
   },
   "outputs": [],
   "source": [
    "# Obtendo os namespaces\n",
    "kubectl get ns\n",
    "\n",
    "# Verificando o namespace do Istio\n",
    "kubectl get all -n istio-system"
   ]
  },
  {
   "cell_type": "markdown",
   "metadata": {},
   "source": [
    "Instalamos apenas o plano de controle e mais adiante instalaremos o ingress, egress e alguns adicionais como grafana, kiali e jaeger, mas já temos o Istio instalado e pronto para gerenciar os Envoys."
   ]
  },
  {
   "cell_type": "markdown",
   "metadata": {},
   "source": [
    "## Istio CRDs\n",
    "\n",
    "O Istio é uma aplicação que é executada no kubernetes e adiciona recursos personalizados ([CRD](https://kubernetes.io/docs/concepts/extend-kubernetes/api-extension/custom-resources/)) para sua configuração.\n",
    "\n",
    "Você pode obter uma lista completa executando o comando abaixo:"
   ]
  },
  {
   "cell_type": "code",
   "execution_count": null,
   "metadata": {},
   "outputs": [],
   "source": [
    "kubectl api-resources --api-group=networking.istio.io\n",
    "\n",
    "kubectl api-resources --api-group=security.istio.io"
   ]
  },
  {
   "cell_type": "markdown",
   "metadata": {},
   "source": [
    "Esses são os recursos adicionados e na segunda coluna o nome abreviado, você pode utilizar um ou outro, por exemplo:"
   ]
  },
  {
   "cell_type": "code",
   "execution_count": null,
   "metadata": {},
   "outputs": [],
   "source": [
    "# O comando\n",
    "kubectl get svc\n",
    "\n",
    "# É equivalente ao\n",
    "\n",
    "kubectl get services"
   ]
  },
  {
   "cell_type": "markdown",
   "metadata": {},
   "source": [
    "> Note que todos as configurações para recursos do Istio são aplicados para um _namespace_ (Namespaced=true), isso significa que a configuração terá efeito apenas em um _namespace_, porém, configurações que poderão ser aplicadas para toda a malha de serviços serão realizadas no _namespace_ do Istio, o `istio-system`."
   ]
  },
  {
   "cell_type": "markdown",
   "metadata": {},
   "source": [
    "Você verá muito disso no kubernetes, para uma lista completa de recursos e suas abreviações execute o mesmo comando acima, mas sem o filtro `kubectl api-resources`"
   ]
  },
  {
   "cell_type": "code",
   "execution_count": null,
   "metadata": {},
   "outputs": [],
   "source": [
    "kubectl api-resources"
   ]
  },
  {
   "cell_type": "markdown",
   "metadata": {},
   "source": [
    "> **Dica pro**: Quem utiliza o kubectl com muita frequência costuma criar apelidos para os comandos mais comuns, por exemplo:"
   ]
  },
  {
   "cell_type": "code",
   "execution_count": null,
   "metadata": {},
   "outputs": [],
   "source": [
    "# Alias para o comando kubectl\n",
    "alias k=kubectl\n",
    "# Teste\n",
    "k get svc\n",
    "# Alias para o comando kubectl get\n",
    "alias kg='kubectl get'\n",
    "# Teste\n",
    "kg svc"
   ]
  },
  {
   "cell_type": "markdown",
   "metadata": {},
   "source": [
    "> Você pode colocar esses comandos nos arquivos de configuração do shell (.profile, .bashrc, etc), para torná-los persistentes entre sessões."
   ]
  },
  {
   "cell_type": "markdown",
   "metadata": {},
   "source": [
    "## Ativando o Istio para um namespace\n",
    "\n",
    "Um elemento chave do Istio é o _sidecar_ ou _proxy_, como veremos na discussão sobre arquitetura do Istio. Para que o Istio injete-o nos PODs da aplicação, é necessário marcar o _namespace_ da seguinte forma:"
   ]
  },
  {
   "cell_type": "code",
   "execution_count": null,
   "metadata": {
    "ExecuteTime": {
     "end_time": "2020-10-14T16:34:05.061000Z",
     "start_time": "2020-10-14T16:34:04.855209Z"
    }
   },
   "outputs": [],
   "source": [
    "kubectl label namespace default istio-injection=enabled"
   ]
  },
  {
   "cell_type": "markdown",
   "metadata": {},
   "source": [
    "Vamos verificar como ficou a configuração do namespace"
   ]
  },
  {
   "cell_type": "code",
   "execution_count": null,
   "metadata": {
    "ExecuteTime": {
     "end_time": "2020-10-14T16:34:24.512806Z",
     "start_time": "2020-10-14T16:34:24.305603Z"
    }
   },
   "outputs": [],
   "source": [
    "kubectl describe ns/default"
   ]
  },
  {
   "cell_type": "markdown",
   "metadata": {},
   "source": [
    "O `istiod` irá monitorar todos os _namespaces_ com o rótulo `istio-injection=enabled` e adicionar ao POD um _container_ de proxy, o _sidecar_.\n",
    "\n",
    "Vamos fazer _deploy_ de uma aplicação exemplo para verificar esse comportamento."
   ]
  },
  {
   "cell_type": "markdown",
   "metadata": {},
   "source": [
    "## Criando uma aplicação demo\n",
    "\n",
    "Vamos criar uma aplicação simples."
   ]
  },
  {
   "cell_type": "code",
   "execution_count": null,
   "metadata": {
    "ExecuteTime": {
     "end_time": "2020-10-14T16:47:28.499639Z",
     "start_time": "2020-10-14T16:47:28.003812Z"
    }
   },
   "outputs": [],
   "source": [
    "# Vamos criar um diretório para nossos exemplos:\n",
    "mkdir -p assets/exemplos/simple-app\n",
    "\n",
    "# O arquivo de Deployment:\n",
    "cat <<EOT > assets/exemplos/simple-app/deployment.yaml\n",
    "apiVersion: apps/v1\n",
    "kind: Deployment\n",
    "metadata:\n",
    "  name: simple-app\n",
    "  labels:\n",
    "    app: simple-app\n",
    "    version: v1\n",
    "spec:\n",
    "  replicas: 1\n",
    "  selector:\n",
    "    matchLabels:\n",
    "        app: simple-app\n",
    "        version: v1\n",
    "  template:\n",
    "    metadata:\n",
    "      labels:\n",
    "        app: simple-app\n",
    "        version: v1\n",
    "    spec:\n",
    "      containers:\n",
    "        - name: simple-app\n",
    "          image: \"nginx:stable\"\n",
    "          imagePullPolicy: IfNotPresent\n",
    "          ports:\n",
    "            - name: http\n",
    "              containerPort: 80\n",
    "              protocol: TCP\n",
    "EOT\n",
    "\n",
    "# O de serviço\n",
    "cat <<EOT > assets/exemplos/simple-app/service.yaml\n",
    "apiVersion: v1\n",
    "kind: Service\n",
    "metadata:\n",
    "  name: simple-app\n",
    "  labels:\n",
    "    app: simple-app\n",
    "    version: v1\n",
    "spec:\n",
    "  type: ClusterIP\n",
    "  ports:\n",
    "    - port: 80\n",
    "      targetPort: http\n",
    "      protocol: TCP\n",
    "      name: http\n",
    "  selector:\n",
    "    app: simple-app\n",
    "    version: v1\n",
    "EOT"
   ]
  },
  {
   "cell_type": "code",
   "execution_count": null,
   "metadata": {
    "ExecuteTime": {
     "end_time": "2020-10-14T16:59:28.248285Z",
     "start_time": "2020-10-14T16:59:28.131448Z"
    }
   },
   "outputs": [],
   "source": [
    "# Listando os arquivos criados:\n",
    "ls -la assets/exemplos/simple-app"
   ]
  },
  {
   "cell_type": "markdown",
   "metadata": {},
   "source": [
    "Criamos dois arquivos, o `deployment.yaml` e o `service.yaml` no diretório `assets/exemplos/simple-app`, agora vamos instala-la no _namespace_ default (quando omitido é onde os recursos serão criados).\n",
    "\n",
    "Inspecione os arquivos e tente descobrir o que será instalado no cluster, uma dica, procure a pela imagem."
   ]
  },
  {
   "cell_type": "code",
   "execution_count": null,
   "metadata": {},
   "outputs": [],
   "source": [
    "kubectl apply -f assets/exemplos/simple-app"
   ]
  },
  {
   "cell_type": "markdown",
   "metadata": {},
   "source": [
    "Verificando a situação do POD."
   ]
  },
  {
   "cell_type": "code",
   "execution_count": null,
   "metadata": {},
   "outputs": [],
   "source": [
    "kubectl get pods"
   ]
  },
  {
   "cell_type": "markdown",
   "metadata": {},
   "source": [
    "> Para instalar a aplicação em um _namespace_ diferente adicione `--namesapce` ou `-n`ao comando. Exemplo: `kubectl apply -f exemplos/simple-app -n test-app`"
   ]
  },
  {
   "cell_type": "markdown",
   "metadata": {
    "ExecuteTime": {
     "end_time": "2020-10-14T17:02:59.537962Z",
     "start_time": "2020-10-14T17:02:59.410733Z"
    }
   },
   "source": [
    "Vamos acessar nossa aplicação, ela foi configurada para o tipo de serviço `ClusterIP`, o que significa que o acesso é interno, apenas entre os PODs do cluster, mas podemos acessá-la utilizando o comando `kubectl port-forward`."
   ]
  },
  {
   "cell_type": "code",
   "execution_count": null,
   "metadata": {
    "ExecuteTime": {
     "end_time": "2020-10-14T17:07:38.718210Z",
     "start_time": "2020-10-14T17:07:37.389852Z"
    }
   },
   "outputs": [],
   "source": [
    "kubectl port-forward svc/simple-app 8000:80"
   ]
  },
  {
   "cell_type": "markdown",
   "metadata": {},
   "source": [
    "Vá até o seu navegador e entre acesse a url: <http://localhost:8000>\n",
    "\n",
    "Pronto, você tem acesso à sua aplicação como se estivesse sendo executada na sua máquina. Claro que o kubernetes pode estar na sua máquina, mas isso funcionará em qualquer kubernetes, local ou remoto.\n",
    "\n",
    "Para interromper:\n",
    "* No Jupyter Lab ou Notebook: Clique no icone <kbd>◾</kbd> (_Interrup the kernel_ na barra de ferramentas)\n",
    "* No terminal: tecle <kbd>CTRL</kbd>+<kbd>C</kbd>"
   ]
  },
  {
   "cell_type": "markdown",
   "metadata": {},
   "source": [
    "Verificando o que foi instalado."
   ]
  },
  {
   "cell_type": "code",
   "execution_count": null,
   "metadata": {
    "ExecuteTime": {
     "end_time": "2020-10-14T17:10:37.717671Z",
     "start_time": "2020-10-14T17:10:37.313032Z"
    }
   },
   "outputs": [],
   "source": [
    "kubectl get --show-labels all"
   ]
  },
  {
   "cell_type": "markdown",
   "metadata": {},
   "source": [
    "Note que o pod/simple-app tem 2/2 na coluna pronto (Ready), isso significa que dois containers de dois estão ok, vamos verificar quem é o segundo container."
   ]
  },
  {
   "cell_type": "code",
   "execution_count": null,
   "metadata": {
    "ExecuteTime": {
     "end_time": "2020-10-14T17:27:21.777610Z",
     "start_time": "2020-10-14T17:27:20.317304Z"
    }
   },
   "outputs": [],
   "source": [
    "# Usaremos um dos labels do pod para encontra-lo\n",
    "kubectl describe pod -l app=simple-app"
   ]
  },
  {
   "cell_type": "markdown",
   "metadata": {},
   "source": [
    "É uma grande quantidade de informação, vamos procurar uma seção chamada `Containers` e nela a nossa aplicação `simple-app`.\n",
    "\n",
    "Como você pode ver, a imagem desse container é `nginx`, com a tag `stable`, mais abaixo tem um segundo container `istio-proxy`, com a imagem `docker.io/istio/proxyv2` e a _tag_ para a  versão `1.9.1`.\n",
    "\n",
    "Esse container não faz parte do [assets/exemplos/simple-app/deployment.yaml](exemplos/2_simple-app/deployment.yaml), ele foi adicionado ao seu pod pelo `istiod`."
   ]
  },
  {
   "cell_type": "markdown",
   "metadata": {},
   "source": [
    "Caso você precise saber todos os _namespaces_ que tem a injeção do _conteiner_ _proxy_ do Istio ativado, basta executar o comando:"
   ]
  },
  {
   "cell_type": "code",
   "execution_count": null,
   "metadata": {
    "ExecuteTime": {
     "end_time": "2020-10-14T16:40:47.392310Z",
     "start_time": "2020-10-14T16:40:47.046643Z"
    }
   },
   "outputs": [],
   "source": [
    "kubectl get ns -l istio-injection=enabled"
   ]
  },
  {
   "cell_type": "markdown",
   "metadata": {},
   "source": [
    "Até o momento, somente o namespace `default`, onde configuramos a marcação, foi encontrado."
   ]
  },
  {
   "cell_type": "markdown",
   "metadata": {},
   "source": [
    "## Conclusão\n",
    "\n",
    "Neste ponto temos o mínimo do Istio em execução no nosso cluster, mas com exceção de um container extra isso não significa muito.\n",
    "\n",
    "Na próxima parte iremos explorar os recursos que esta instalação mínima do Istio pode oferecer."
   ]
  }
 ],
 "metadata": {
  "hide_input": false,
  "kernelspec": {
   "display_name": "Bash",
   "language": "bash",
   "name": "bash"
  },
  "language_info": {
   "codemirror_mode": "shell",
   "file_extension": ".sh",
   "mimetype": "text/x-sh",
   "name": "bash"
  },
  "toc": {
   "base_numbering": 1,
   "nav_menu": {},
   "number_sections": true,
   "sideBar": true,
   "skip_h1_title": false,
   "title_cell": "Table of Contents",
   "title_sidebar": "Contents",
   "toc_cell": false,
   "toc_position": {},
   "toc_section_display": true,
   "toc_window_display": false
  },
  "varInspector": {
   "cols": {
    "lenName": 16,
    "lenType": 16,
    "lenVar": 40
   },
   "kernels_config": {
    "python": {
     "delete_cmd_postfix": "",
     "delete_cmd_prefix": "del ",
     "library": "var_list.py",
     "varRefreshCmd": "print(var_dic_list())"
    },
    "r": {
     "delete_cmd_postfix": ") ",
     "delete_cmd_prefix": "rm(",
     "library": "var_list.r",
     "varRefreshCmd": "cat(var_dic_list()) "
    }
   },
   "types_to_exclude": [
    "module",
    "function",
    "builtin_function_or_method",
    "instance",
    "_Feature"
   ],
   "window_display": false
  }
 },
 "nbformat": 4,
 "nbformat_minor": 4
}