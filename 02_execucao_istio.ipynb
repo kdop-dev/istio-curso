{
 "cells": [
  {
   "cell_type": "markdown",
   "metadata": {},
   "source": [
    "# Colocando o Istio em execução"
   ]
  },
  {
   "cell_type": "markdown",
   "metadata": {},
   "source": [
    "## Acessando o k8s\n",
    "\n",
    "Vamos configurar o ambiente, você precisará configurá-lo a cada nova seção ou executar o jupyter passando as variáveis, como descrito no [README](README.md) e não precisará repetir esses comandos novamente."
   ]
  },
  {
   "cell_type": "code",
   "execution_count": null,
   "metadata": {
    "ExecuteTime": {
     "end_time": "2020-10-14T17:06:36.590203Z",
     "start_time": "2020-10-14T17:06:34.636568Z"
    }
   },
   "outputs": [],
   "source": [
    "# [Opcional] Se você não estiver usando o docker-desktop será necessário obter o arquivo de configuração e ajustar a variável KUBECONFIG\n",
    "export KUBECONFIG=~/.kube/config # Local do kubeconfig do docker-desktop. Selecione o local onde você colocou o arquivo de config para outras opções (AKS, EKS, GKE, etc)."
   ]
  },
  {
   "cell_type": "code",
   "execution_count": null,
   "metadata": {},
   "outputs": [],
   "source": [
    "# [Opcional] Se você tem mais de um cluster na configuração, verifique se está apontando para o correto.\n",
    "kubectl config get-contexts"
   ]
  },
  {
   "cell_type": "code",
   "execution_count": null,
   "metadata": {},
   "outputs": [],
   "source": [
    "# Vamos verificar como estão os nós do nosso cluster:\n",
    "kubectl get nodes"
   ]
  },
  {
   "cell_type": "markdown",
   "metadata": {},
   "source": [
    "## Instalando o Istio (linux)\n",
    "\n",
    "Para instalar a última versão do Istio, neste momento 1.9.4, você pode ir até a página [Getting Started](https://istio.io/latest/docs/setup/getting-started/#download) ou seguir as instruções abaixo:"
   ]
  },
  {
   "cell_type": "code",
   "execution_count": null,
   "metadata": {
    "ExecuteTime": {
     "end_time": "2020-10-13T12:13:58.606406Z",
     "start_time": "2020-10-13T12:13:40.694941Z"
    }
   },
   "outputs": [],
   "source": [
    "curl -L https://istio.io/downloadIstio | sh -"
   ]
  },
  {
   "cell_type": "markdown",
   "metadata": {},
   "source": [
    "Para usar o comando `istioctl`, que está no diretório `bin` do download, coloque-o na variável `PATH` ou copie o arquivo `bin/istioctl` para um diretório no seu `PATH`\n",
    "\n",
    "Copiando o istioctl para o diretório de binários\n",
    "\n",
    "O istioctl é um utilitário de linha de comando e foi copiado para a sua máquina durante o download acima.\n",
    "\n",
    "Para utilizá-lo, basta colocar o arquivo em algum diretório listado na variável PATH."
   ]
  },
  {
   "cell_type": "markdown",
   "metadata": {},
   "source": [
    "O istioctl é um utilitário de linha de comando e foi copiado para a sua máquina durante o download acima.\n",
    "\n",
    "Para utilizá-lo, basta colocar o arquivo em algum diretório listado na variável PATH."
   ]
  },
  {
   "cell_type": "code",
   "execution_count": null,
   "metadata": {},
   "outputs": [],
   "source": [
    "echo $PATH"
   ]
  },
  {
   "cell_type": "markdown",
   "metadata": {},
   "source": [
    "Os diretórios mais indicados são os do usuário para binários, caso você não tenha, pode criar um e colocá-lo na variável PATH.\n",
    "\n",
    "A seguir criaremos o diretório `˜/bin`, adicionaremos o caminho na variável PATH e copiaremos o arquivo para o diret"
   ]
  },
  {
   "cell_type": "code",
   "execution_count": null,
   "metadata": {
    "tags": []
   },
   "outputs": [],
   "source": [
    "ISTIO_VERSION=1.9.4\n",
    "# Verificar onde está o executável do Istio\n",
    "ls istio-$ISTIO_VERSION/bin\n",
    "export PATH=$PWD/istio-$ISTIO_VERSION/bin:$PATH"
   ]
  },
  {
   "cell_type": "code",
   "execution_count": 1,
   "metadata": {},
   "outputs": [
    {
     "name": "stdout",
     "output_type": "stream",
     "text": [
      "client version: 1.9.4\n",
      "control plane version: 1.9.4\n",
      "data plane version: 1.9.4 (2 proxies)\n"
     ]
    }
   ],
   "source": [
    "# Teste\n",
    "istioctl version"
   ]
  },
  {
   "cell_type": "markdown",
   "metadata": {},
   "source": [
    "Você também pode copiar o comando em qualquer diretório ou mantê-lo no diretório do Istio e ajustar a variável `PATH` na sessão."
   ]
  },
  {
   "cell_type": "markdown",
   "metadata": {},
   "source": [
    "Para tornar essa configuração permanente, você deve adicionar o caminho absoluto (substitua p PWD) a variável PATH no arquivo de configuração do shell do seu usuário, por exemplo ~/.bashrc ou ~/.profile ou ~/.zshrc, etc."
   ]
  },
  {
   "cell_type": "markdown",
   "metadata": {},
   "source": [
    "## O mínimo do Istio\n",
    "\n",
    "Desde a versão 1.6 o Istio é composto de uma única entrega chamada `istiod` e ela pode ser instalada com o comando abaixo:"
   ]
  },
  {
   "cell_type": "code",
   "execution_count": null,
   "metadata": {},
   "outputs": [],
   "source": [
    "# Isso deve demorar de 2 a 5 minutos\n",
    "istioctl install --set profile=minimal --skip-confirmation"
   ]
  },
  {
   "cell_type": "markdown",
   "metadata": {},
   "source": [
    "> Em Mar-2021 não é possível instalar o Istio no GKE Autopilot, ele retorna o erro: `Istiod encountered an error: failed to update resource with server-side apply for obj MutatingWebhookConfiguration`. Veja mais sobre [incopatibilidades do GKE Autopilot](https://cloud.google.com/kubernetes-engine/docs/concepts/autopilot-overview?hl=pt-br#unsupported_cluster_features).\n",
    "> Para GKE crie um cluster padrão Zonal."
   ]
  },
  {
   "cell_type": "markdown",
   "metadata": {},
   "source": [
    "Vamos verificar o que foi instalado"
   ]
  },
  {
   "cell_type": "code",
   "execution_count": 2,
   "metadata": {
    "ExecuteTime": {
     "end_time": "2020-10-14T16:33:57.203722Z",
     "start_time": "2020-10-14T16:33:56.643171Z"
    }
   },
   "outputs": [
    {
     "name": "stdout",
     "output_type": "stream",
     "text": [
      "NAME              STATUS   AGE\n",
      "default           Active   41d\n",
      "istio-system      Active   4d3h\n",
      "kube-node-lease   Active   41d\n",
      "kube-public       Active   41d\n",
      "kube-system       Active   41d\n",
      "NAME                                        READY   STATUS    RESTARTS   AGE\n",
      "pod/grafana-94f5bf75b-9knd4                 1/1     Running   0          17h\n",
      "pod/istio-egressgateway-77f4d85b99-wkwl9    1/1     Running   0          16h\n",
      "pod/istio-ingressgateway-85bcb67946-cx9ct   1/1     Running   0          16h\n",
      "pod/istiod-575847d499-pfqjf                 1/1     Running   0          16h\n",
      "pod/jaeger-5c7675974-kmwrv                  1/1     Running   0          17h\n",
      "pod/kiali-d4fdb9cdb-gvflk                   1/1     Running   0          17h\n",
      "pod/prometheus-7d76687994-hdbc2             2/2     Running   0          17h\n",
      "\n",
      "NAME                           TYPE           CLUSTER-IP     EXTERNAL-IP      PORT(S)                                                                      AGE\n",
      "service/grafana                ClusterIP      10.8.156.191   <none>           3000/TCP                                                                     4d\n",
      "service/istio-egressgateway    ClusterIP      10.8.154.15    <none>           80/TCP,443/TCP,15443/TCP                                                     3d23h\n",
      "service/istio-ingressgateway   LoadBalancer   10.8.146.129   104.198.234.73   15021:32165/TCP,80:30015/TCP,443:32195/TCP,31400:32064/TCP,15443:32091/TCP   3d23h\n",
      "service/istiod                 ClusterIP      10.8.156.83    <none>           15010/TCP,15012/TCP,443/TCP,15014/TCP                                        4d3h\n",
      "service/jaeger-collector       ClusterIP      10.8.152.198   <none>           14268/TCP,14250/TCP                                                          4d1h\n",
      "service/kiali                  ClusterIP      10.8.149.186   <none>           20001/TCP,9090/TCP                                                           4d2h\n",
      "service/prometheus             ClusterIP      10.8.156.31    <none>           9090/TCP                                                                     4d2h\n",
      "service/tracing                ClusterIP      10.8.156.113   <none>           80/TCP                                                                       4d1h\n",
      "service/zipkin                 ClusterIP      10.8.159.173   <none>           9411/TCP                                                                     4d1h\n",
      "\n",
      "NAME                                   READY   UP-TO-DATE   AVAILABLE   AGE\n",
      "deployment.apps/grafana                1/1     1            1           4d\n",
      "deployment.apps/istio-egressgateway    1/1     1            1           3d23h\n",
      "deployment.apps/istio-ingressgateway   1/1     1            1           3d23h\n",
      "deployment.apps/istiod                 1/1     1            1           4d3h\n",
      "deployment.apps/jaeger                 1/1     1            1           4d1h\n",
      "deployment.apps/kiali                  1/1     1            1           4d2h\n",
      "deployment.apps/prometheus             1/1     1            1           4d2h\n",
      "\n",
      "NAME                                              DESIRED   CURRENT   READY   AGE\n",
      "replicaset.apps/grafana-94f5bf75b                 1         1         1       4d\n",
      "replicaset.apps/istio-egressgateway-77f4d85b99    1         1         1       3d23h\n",
      "replicaset.apps/istio-ingressgateway-85bcb67946   1         1         1       3d23h\n",
      "replicaset.apps/istiod-575847d499                 1         1         1       3d23h\n",
      "replicaset.apps/istiod-6d68c86c8d                 0         0         0       4d3h\n",
      "replicaset.apps/jaeger-5c7675974                  1         1         1       4d1h\n",
      "replicaset.apps/kiali-d4fdb9cdb                   1         1         1       4d2h\n",
      "replicaset.apps/prometheus-7d76687994             1         1         1       4d2h\n"
     ]
    }
   ],
   "source": [
    "# Obtendo os namespaces\n",
    "kubectl get ns\n",
    "\n",
    "# Verificando o namespace do Istio\n",
    "kubectl get all -n istio-system"
   ]
  },
  {
   "cell_type": "markdown",
   "metadata": {},
   "source": [
    "Instalamos apenas o plano de controle e mais adiante instalaremos o ingress, egress e alguns adicionais como grafana, kiali e jaeger, mas já temos o Istio instalado e pronto para gerenciar os Envoys."
   ]
  },
  {
   "cell_type": "markdown",
   "metadata": {},
   "source": [
    "## Istio CRDs\n",
    "\n",
    "O Istio é uma aplicação que é executada no kubernetes e adiciona recursos personalizados ([CRD](https://kubernetes.io/docs/concepts/extend-kubernetes/api-extension/custom-resources/)) para sua configuração.\n",
    "\n",
    "Você pode obter uma lista completa executando o comando abaixo:"
   ]
  },
  {
   "cell_type": "code",
   "execution_count": 3,
   "metadata": {},
   "outputs": [
    {
     "name": "stdout",
     "output_type": "stream",
     "text": [
      "NAME               SHORTNAMES   APIVERSION                     NAMESPACED   KIND\n",
      "destinationrules   dr           networking.istio.io/v1beta1    true         DestinationRule\n",
      "envoyfilters                    networking.istio.io/v1alpha3   true         EnvoyFilter\n",
      "gateways           gw           networking.istio.io/v1beta1    true         Gateway\n",
      "serviceentries     se           networking.istio.io/v1beta1    true         ServiceEntry\n",
      "sidecars                        networking.istio.io/v1beta1    true         Sidecar\n",
      "virtualservices    vs           networking.istio.io/v1beta1    true         VirtualService\n",
      "workloadentries    we           networking.istio.io/v1beta1    true         WorkloadEntry\n",
      "workloadgroups     wg           networking.istio.io/v1alpha3   true         WorkloadGroup\n",
      "NAME                     SHORTNAMES   APIVERSION                  NAMESPACED   KIND\n",
      "authorizationpolicies                 security.istio.io/v1beta1   true         AuthorizationPolicy\n",
      "peerauthentications      pa           security.istio.io/v1beta1   true         PeerAuthentication\n",
      "requestauthentications   ra           security.istio.io/v1beta1   true         RequestAuthentication\n"
     ]
    }
   ],
   "source": [
    "kubectl api-resources --api-group=networking.istio.io\n",
    "\n",
    "kubectl api-resources --api-group=security.istio.io"
   ]
  },
  {
   "cell_type": "markdown",
   "metadata": {},
   "source": [
    "Esses são os recursos adicionados e na segunda coluna o nome abreviado, você pode utilizar um ou outro, por exemplo:"
   ]
  },
  {
   "cell_type": "code",
   "execution_count": null,
   "metadata": {},
   "outputs": [],
   "source": [
    "# O comando\n",
    "kubectl get svc\n",
    "\n",
    "# É equivalente ao\n",
    "\n",
    "kubectl get services"
   ]
  },
  {
   "cell_type": "markdown",
   "metadata": {},
   "source": [
    "> Note que todos as configurações para recursos do Istio são aplicados para um _namespace_ (Namespaced=true), isso significa que a configuração terá efeito apenas em um _namespace_, porém, configurações que poderão ser aplicadas para toda a malha de serviços serão realizadas no _namespace_ do Istio, o `istio-system`."
   ]
  },
  {
   "cell_type": "markdown",
   "metadata": {},
   "source": [
    "Você verá muito disso no kubernetes, para uma lista completa de recursos e suas abreviações execute o mesmo comando acima, mas sem o filtro `kubectl api-resources`"
   ]
  },
  {
   "cell_type": "code",
   "execution_count": null,
   "metadata": {},
   "outputs": [],
   "source": [
    "kubectl api-resources"
   ]
  },
  {
   "cell_type": "markdown",
   "metadata": {},
   "source": [
    "> **Dica pro**: Quem utiliza o kubectl com muita frequência costuma criar apelidos para os comandos mais comuns, por exemplo:"
   ]
  },
  {
   "cell_type": "code",
   "execution_count": null,
   "metadata": {},
   "outputs": [],
   "source": [
    "# Alias para o comando kubectl\n",
    "alias k=kubectl\n",
    "# Teste\n",
    "k get svc\n",
    "# Alias para o comando kubectl get\n",
    "alias kg='kubectl get'\n",
    "# Teste\n",
    "kg svc"
   ]
  },
  {
   "cell_type": "markdown",
   "metadata": {},
   "source": [
    "> Você pode colocar esses comandos nos arquivos de configuração do shell (.profile, .bashrc, etc), para torná-los persistentes entre sessões."
   ]
  },
  {
   "cell_type": "markdown",
   "metadata": {},
   "source": [
    "## Ativando o Istio para um namespace\n",
    "\n",
    "Um elemento chave do Istio é o _sidecar_ ou _proxy_, como veremos na discussão sobre arquitetura do Istio. Para que o Istio injete-o nos PODs da aplicação, é necessário marcar o _namespace_ da seguinte forma:"
   ]
  },
  {
   "cell_type": "code",
   "execution_count": null,
   "metadata": {
    "ExecuteTime": {
     "end_time": "2020-10-14T16:34:05.061000Z",
     "start_time": "2020-10-14T16:34:04.855209Z"
    }
   },
   "outputs": [],
   "source": [
    "kubectl label namespace default istio-injection=enabled"
   ]
  },
  {
   "cell_type": "markdown",
   "metadata": {},
   "source": [
    "Vamos verificar como ficou a configuração do namespace"
   ]
  },
  {
   "cell_type": "code",
   "execution_count": 4,
   "metadata": {
    "ExecuteTime": {
     "end_time": "2020-10-14T16:34:24.512806Z",
     "start_time": "2020-10-14T16:34:24.305603Z"
    }
   },
   "outputs": [
    {
     "name": "stdout",
     "output_type": "stream",
     "text": [
      "Name:         default\n",
      "Labels:       istio-injection=enabled\n",
      "Annotations:  <none>\n",
      "Status:       Active\n",
      "\n",
      "Resource Quotas\n",
      " Name:                              gke-resource-quotas\n",
      " Resource                           Used  Hard\n",
      " --------                           ---   ---\n",
      " count/ingresses.extensions         0     100\n",
      " count/ingresses.networking.k8s.io  0     100\n",
      " count/jobs.batch                   0     5k\n",
      " pods                               0     1500\n",
      " services                           1     500\n",
      "\n",
      "No LimitRange resource.\n"
     ]
    }
   ],
   "source": [
    "kubectl describe ns/default"
   ]
  },
  {
   "cell_type": "markdown",
   "metadata": {},
   "source": [
    "O `istiod` irá monitorar todos os _namespaces_ com o rótulo `istio-injection=enabled` e adicionar ao POD um _container_ de proxy, o _sidecar_.\n",
    "\n",
    "Vamos fazer _deploy_ de uma aplicação exemplo para verificar esse comportamento."
   ]
  },
  {
   "cell_type": "markdown",
   "metadata": {},
   "source": [
    "## Criando uma aplicação demo\n",
    "\n",
    "Vamos criar uma aplicação simples."
   ]
  },
  {
   "cell_type": "code",
   "execution_count": 5,
   "metadata": {
    "ExecuteTime": {
     "end_time": "2020-10-14T16:47:28.499639Z",
     "start_time": "2020-10-14T16:47:28.003812Z"
    }
   },
   "outputs": [],
   "source": [
    "# Vamos criar um diretório para nossos exemplos:\n",
    "mkdir -p assets/exemplos/simple-app\n",
    "\n",
    "# O arquivo de Deployment:\n",
    "cat <<EOT > assets/exemplos/simple-app/deployment.yaml\n",
    "apiVersion: apps/v1\n",
    "kind: Deployment\n",
    "metadata:\n",
    "  name: simple-app\n",
    "  labels:\n",
    "    app: simple-app\n",
    "    version: v1\n",
    "spec:\n",
    "  replicas: 1\n",
    "  selector:\n",
    "    matchLabels:\n",
    "        app: simple-app\n",
    "        version: v1\n",
    "  template:\n",
    "    metadata:\n",
    "      labels:\n",
    "        app: simple-app\n",
    "        version: v1\n",
    "    spec:\n",
    "      containers:\n",
    "        - name: simple-app\n",
    "          image: \"nginx:stable\"\n",
    "          imagePullPolicy: IfNotPresent\n",
    "          ports:\n",
    "            - name: http\n",
    "              containerPort: 80\n",
    "              protocol: TCP\n",
    "EOT\n",
    "\n",
    "# O de serviço\n",
    "cat <<EOT > assets/exemplos/simple-app/service.yaml\n",
    "apiVersion: v1\n",
    "kind: Service\n",
    "metadata:\n",
    "  name: simple-app\n",
    "  labels:\n",
    "    app: simple-app\n",
    "    version: v1\n",
    "spec:\n",
    "  type: ClusterIP\n",
    "  ports:\n",
    "    - port: 80\n",
    "      targetPort: http\n",
    "      protocol: TCP\n",
    "      name: http\n",
    "  selector:\n",
    "    app: simple-app\n",
    "    version: v1\n",
    "EOT"
   ]
  },
  {
   "cell_type": "code",
   "execution_count": 6,
   "metadata": {
    "ExecuteTime": {
     "end_time": "2020-10-14T16:59:28.248285Z",
     "start_time": "2020-10-14T16:59:28.131448Z"
    }
   },
   "outputs": [
    {
     "name": "stdout",
     "output_type": "stream",
     "text": [
      "total 16\n",
      "drwxr-xr-x  4 anderson  staff  128 Apr 10 13:14 .\n",
      "drwxr-xr-x  6 anderson  staff  192 Apr 10 13:14 ..\n",
      "-rw-r--r--  1 anderson  staff  518 Apr 14 16:29 deployment.yaml\n",
      "-rw-r--r--  1 anderson  staff  260 Apr 14 16:29 service.yaml\n"
     ]
    }
   ],
   "source": [
    "# Listando os arquivos criados:\n",
    "ls -la assets/exemplos/simple-app"
   ]
  },
  {
   "cell_type": "markdown",
   "metadata": {},
   "source": [
    "Criamos dois arquivos, o `deployment.yaml` e o `service.yaml` no diretório `assets/exemplos/simple-app`, agora vamos instala-la no _namespace_ default (quando omitido é onde os recursos serão criados).\n",
    "\n",
    "Inspecione os arquivos e tente descobrir o que será instalado no cluster, uma dica, procure a pela imagem."
   ]
  },
  {
   "cell_type": "code",
   "execution_count": 8,
   "metadata": {},
   "outputs": [
    {
     "name": "stdout",
     "output_type": "stream",
     "text": [
      "deployment.apps/simple-app created\n",
      "service/simple-app created\n"
     ]
    }
   ],
   "source": [
    "kubectl apply -f assets/exemplos/simple-app"
   ]
  },
  {
   "cell_type": "markdown",
   "metadata": {},
   "source": [
    "Verificando a situação do POD."
   ]
  },
  {
   "cell_type": "code",
   "execution_count": 10,
   "metadata": {},
   "outputs": [
    {
     "name": "stdout",
     "output_type": "stream",
     "text": [
      "NAME                         READY   STATUS    RESTARTS   AGE\n",
      "simple-app-cf5fc5558-xvggn   2/2     Running   0          49s\n"
     ]
    }
   ],
   "source": [
    "kubectl get pods"
   ]
  },
  {
   "cell_type": "markdown",
   "metadata": {},
   "source": [
    "> Para instalar a aplicação em um _namespace_ diferente adicione `--namesapce` ou `-n`ao comando. Exemplo: `kubectl apply -f exemplos/simple-app -n test-app`"
   ]
  },
  {
   "cell_type": "markdown",
   "metadata": {
    "ExecuteTime": {
     "end_time": "2020-10-14T17:02:59.537962Z",
     "start_time": "2020-10-14T17:02:59.410733Z"
    }
   },
   "source": [
    "Vamos acessar nossa aplicação, ela foi configurada para o tipo de serviço `ClusterIP`, o que significa que o acesso é interno, apenas entre os PODs do cluster, mas podemos acessá-la utilizando o comando `kubectl port-forward`."
   ]
  },
  {
   "cell_type": "code",
   "execution_count": 11,
   "metadata": {
    "ExecuteTime": {
     "end_time": "2020-10-14T17:07:38.718210Z",
     "start_time": "2020-10-14T17:07:37.389852Z"
    }
   },
   "outputs": [
    {
     "name": "stdout",
     "output_type": "stream",
     "text": [
      "Forwarding from 127.0.0.1:8000 -> 80\n",
      "Forwarding from [::1]:8000 -> 80\n",
      "Handling connection for 8000\n",
      "Handling connection for 8000\n"
     ]
    }
   ],
   "source": [
    "kubectl port-forward svc/simple-app 8000:80"
   ]
  },
  {
   "cell_type": "markdown",
   "metadata": {},
   "source": [
    "Vá até o seu navegador e entre acesse a url: <http://localhost:8000>\n",
    "\n",
    "Pronto, você tem acesso à sua aplicação como se estivesse sendo executada na sua máquina. Claro que o kubernetes pode estar na sua máquina, mas isso funcionará em qualquer kubernetes, local ou remoto.\n",
    "\n",
    "Para interromper:\n",
    "* No Jupyter Lab ou Notebook: Clique no icone <kbd>◾</kbd> (_Interrup the kernel_ na barra de ferramentas)\n",
    "* No terminal: tecle <kbd>CTRL</kbd>+<kbd>C</kbd>"
   ]
  },
  {
   "cell_type": "markdown",
   "metadata": {},
   "source": [
    "Verificando o que foi instalado."
   ]
  },
  {
   "cell_type": "code",
   "execution_count": 12,
   "metadata": {
    "ExecuteTime": {
     "end_time": "2020-10-14T17:10:37.717671Z",
     "start_time": "2020-10-14T17:10:37.313032Z"
    }
   },
   "outputs": [
    {
     "name": "stdout",
     "output_type": "stream",
     "text": [
      "NAME                             READY   STATUS    RESTARTS   AGE   LABELS\n",
      "pod/simple-app-cf5fc5558-xvggn   2/2     Running   0          68s   app=simple-app,istio.io/rev=default,pod-template-hash=cf5fc5558,security.istio.io/tlsMode=istio,service.istio.io/canonical-name=simple-app,service.istio.io/canonical-revision=v1,version=v1\n",
      "\n",
      "NAME                 TYPE        CLUSTER-IP     EXTERNAL-IP   PORT(S)   AGE   LABELS\n",
      "service/kubernetes   ClusterIP   10.8.144.1     <none>        443/TCP   41d   component=apiserver,provider=kubernetes\n",
      "service/simple-app   ClusterIP   10.8.146.141   <none>        80/TCP    67s   app=simple-app,version=v1\n",
      "\n",
      "NAME                         READY   UP-TO-DATE   AVAILABLE   AGE   LABELS\n",
      "deployment.apps/simple-app   1/1     1            1           69s   app=simple-app,version=v1\n",
      "\n",
      "NAME                                   DESIRED   CURRENT   READY   AGE   LABELS\n",
      "replicaset.apps/simple-app-cf5fc5558   1         1         1       69s   app=simple-app,pod-template-hash=cf5fc5558,version=v1\n"
     ]
    }
   ],
   "source": [
    "kubectl get --show-labels all"
   ]
  },
  {
   "cell_type": "markdown",
   "metadata": {},
   "source": [
    "Note que o pod/simple-app tem 2/2 na coluna pronto (Ready), isso significa que dois containers de dois estão ok, vamos verificar quem é o segundo container."
   ]
  },
  {
   "cell_type": "code",
   "execution_count": 13,
   "metadata": {
    "ExecuteTime": {
     "end_time": "2020-10-14T17:27:21.777610Z",
     "start_time": "2020-10-14T17:27:20.317304Z"
    }
   },
   "outputs": [
    {
     "name": "stdout",
     "output_type": "stream",
     "text": [
      "Name:         simple-app-cf5fc5558-xvggn\n",
      "Namespace:    default\n",
      "Priority:     0\n",
      "Node:         gke-cluster-1-default-pool-1fb77211-sdbr/10.128.0.18\n",
      "Start Time:   Wed, 14 Apr 2021 16:29:38 -0300\n",
      "Labels:       app=simple-app\n",
      "              istio.io/rev=default\n",
      "              pod-template-hash=cf5fc5558\n",
      "              security.istio.io/tlsMode=istio\n",
      "              service.istio.io/canonical-name=simple-app\n",
      "              service.istio.io/canonical-revision=v1\n",
      "              version=v1\n",
      "Annotations:  kubectl.kubernetes.io/default-logs-container: simple-app\n",
      "              prometheus.io/path: /stats/prometheus\n",
      "              prometheus.io/port: 15020\n",
      "              prometheus.io/scrape: true\n",
      "              sidecar.istio.io/status:\n",
      "                {\"initContainers\":[\"istio-init\"],\"containers\":[\"istio-proxy\"],\"volumes\":[\"istio-envoy\",\"istio-data\",\"istio-podinfo\",\"istio-token\",\"istiod-...\n",
      "Status:       Running\n",
      "IP:           10.4.1.5\n",
      "IPs:\n",
      "  IP:           10.4.1.5\n",
      "Controlled By:  ReplicaSet/simple-app-cf5fc5558\n",
      "Init Containers:\n",
      "  istio-init:\n",
      "    Container ID:  docker://89e311d0b081d3c9bf9bf7cba87159863920ef5102a64aacdb4274aae5ce0a39\n",
      "    Image:         docker.io/istio/proxyv2:1.9.4\n",
      "    Image ID:      docker-pullable://istio/proxyv2@sha256:ee9c153e2f973937befb8af61e7269ab368020b6e7d91b5d891bbbeba55eb266\n",
      "    Port:          <none>\n",
      "    Host Port:     <none>\n",
      "    Args:\n",
      "      istio-iptables\n",
      "      -p\n",
      "      15001\n",
      "      -z\n",
      "      15006\n",
      "      -u\n",
      "      1337\n",
      "      -m\n",
      "      REDIRECT\n",
      "      -i\n",
      "      *\n",
      "      -x\n",
      "      \n",
      "      -b\n",
      "      *\n",
      "      -d\n",
      "      15090,15021,15020\n",
      "    State:          Terminated\n",
      "      Reason:       Completed\n",
      "      Exit Code:    0\n",
      "      Started:      Wed, 14 Apr 2021 16:29:48 -0300\n",
      "      Finished:     Wed, 14 Apr 2021 16:29:48 -0300\n",
      "    Ready:          True\n",
      "    Restart Count:  0\n",
      "    Limits:\n",
      "      cpu:     2\n",
      "      memory:  1Gi\n",
      "    Requests:\n",
      "      cpu:        10m\n",
      "      memory:     40Mi\n",
      "    Environment:  <none>\n",
      "    Mounts:\n",
      "      /var/run/secrets/kubernetes.io/serviceaccount from default-token-xmslm (ro)\n",
      "Containers:\n",
      "  simple-app:\n",
      "    Container ID:   docker://ad8806d3f85fca6e1e6b8eadff8511f4241b41784eb51439cd606d9fda4a2867\n",
      "    Image:          nginx:stable\n",
      "    Image ID:       docker-pullable://nginx@sha256:e90ac5331fe095cea01b121a3627174b2e33e06e83720e9a934c7b8ccc9c55a0\n",
      "    Port:           80/TCP\n",
      "    Host Port:      0/TCP\n",
      "    State:          Running\n",
      "      Started:      Wed, 14 Apr 2021 16:29:53 -0300\n",
      "    Ready:          True\n",
      "    Restart Count:  0\n",
      "    Environment:    <none>\n",
      "    Mounts:\n",
      "      /var/run/secrets/kubernetes.io/serviceaccount from default-token-xmslm (ro)\n",
      "  istio-proxy:\n",
      "    Container ID:  docker://b0359ac433a2046c06323430458def1286b57617b63c4b111d4cf9c619a44039\n",
      "    Image:         docker.io/istio/proxyv2:1.9.4\n",
      "    Image ID:      docker-pullable://istio/proxyv2@sha256:ee9c153e2f973937befb8af61e7269ab368020b6e7d91b5d891bbbeba55eb266\n",
      "    Port:          15090/TCP\n",
      "    Host Port:     0/TCP\n",
      "    Args:\n",
      "      proxy\n",
      "      sidecar\n",
      "      --domain\n",
      "      $(POD_NAMESPACE).svc.cluster.local\n",
      "      --serviceCluster\n",
      "      simple-app.$(POD_NAMESPACE)\n",
      "      --proxyLogLevel=warning\n",
      "      --proxyComponentLogLevel=misc:error\n",
      "      --log_output_level=default:info\n",
      "      --concurrency\n",
      "      2\n",
      "    State:          Running\n",
      "      Started:      Wed, 14 Apr 2021 16:29:54 -0300\n",
      "    Ready:          True\n",
      "    Restart Count:  0\n",
      "    Limits:\n",
      "      cpu:     2\n",
      "      memory:  1Gi\n",
      "    Requests:\n",
      "      cpu:      10m\n",
      "      memory:   40Mi\n",
      "    Readiness:  http-get http://:15021/healthz/ready delay=1s timeout=3s period=2s #success=1 #failure=30\n",
      "    Environment:\n",
      "      JWT_POLICY:                    third-party-jwt\n",
      "      PILOT_CERT_PROVIDER:           istiod\n",
      "      CA_ADDR:                       istiod.istio-system.svc:15012\n",
      "      POD_NAME:                      simple-app-cf5fc5558-xvggn (v1:metadata.name)\n",
      "      POD_NAMESPACE:                 default (v1:metadata.namespace)\n",
      "      INSTANCE_IP:                    (v1:status.podIP)\n",
      "      SERVICE_ACCOUNT:                (v1:spec.serviceAccountName)\n",
      "      HOST_IP:                        (v1:status.hostIP)\n",
      "      CANONICAL_SERVICE:              (v1:metadata.labels['service.istio.io/canonical-name'])\n",
      "      CANONICAL_REVISION:             (v1:metadata.labels['service.istio.io/canonical-revision'])\n",
      "      PROXY_CONFIG:                  {}\n",
      "                                     \n",
      "      ISTIO_META_POD_PORTS:          [\n",
      "                                         {\"name\":\"http\",\"containerPort\":80,\"protocol\":\"TCP\"}\n",
      "                                     ]\n",
      "      ISTIO_META_APP_CONTAINERS:     simple-app\n",
      "      ISTIO_META_CLUSTER_ID:         Kubernetes\n",
      "      ISTIO_META_INTERCEPTION_MODE:  REDIRECT\n",
      "      ISTIO_META_WORKLOAD_NAME:      simple-app\n",
      "      ISTIO_META_OWNER:              kubernetes://apis/apps/v1/namespaces/default/deployments/simple-app\n",
      "      ISTIO_META_MESH_ID:            cluster.local\n",
      "      TRUST_DOMAIN:                  cluster.local\n",
      "    Mounts:\n",
      "      /etc/istio/pod from istio-podinfo (rw)\n",
      "      /etc/istio/proxy from istio-envoy (rw)\n",
      "      /var/lib/istio/data from istio-data (rw)\n",
      "      /var/run/secrets/istio from istiod-ca-cert (rw)\n",
      "      /var/run/secrets/kubernetes.io/serviceaccount from default-token-xmslm (ro)\n",
      "      /var/run/secrets/tokens from istio-token (rw)\n",
      "Conditions:\n",
      "  Type              Status\n",
      "  Initialized       True \n",
      "  Ready             True \n",
      "  ContainersReady   True \n",
      "  PodScheduled      True \n",
      "Volumes:\n",
      "  istio-envoy:\n",
      "    Type:       EmptyDir (a temporary directory that shares a pod's lifetime)\n",
      "    Medium:     Memory\n",
      "    SizeLimit:  <unset>\n",
      "  istio-data:\n",
      "    Type:       EmptyDir (a temporary directory that shares a pod's lifetime)\n",
      "    Medium:     \n",
      "    SizeLimit:  <unset>\n",
      "  istio-podinfo:\n",
      "    Type:  DownwardAPI (a volume populated by information about the pod)\n",
      "    Items:\n",
      "      metadata.labels -> labels\n",
      "      metadata.annotations -> annotations\n",
      "      limits.cpu -> cpu-limit\n",
      "      requests.cpu -> cpu-request\n",
      "  istio-token:\n",
      "    Type:                    Projected (a volume that contains injected data from multiple sources)\n",
      "    TokenExpirationSeconds:  43200\n",
      "  istiod-ca-cert:\n",
      "    Type:      ConfigMap (a volume populated by a ConfigMap)\n",
      "    Name:      istio-ca-root-cert\n",
      "    Optional:  false\n",
      "  default-token-xmslm:\n",
      "    Type:        Secret (a volume populated by a Secret)\n",
      "    SecretName:  default-token-xmslm\n",
      "    Optional:    false\n",
      "QoS Class:       Burstable\n",
      "Node-Selectors:  <none>\n",
      "Tolerations:     node.kubernetes.io/not-ready:NoExecute op=Exists for 300s\n",
      "                 node.kubernetes.io/unreachable:NoExecute op=Exists for 300s\n",
      "Events:\n",
      "  Type     Reason     Age   From               Message\n",
      "  ----     ------     ----  ----               -------\n",
      "  Normal   Scheduled  79s   default-scheduler  Successfully assigned default/simple-app-cf5fc5558-xvggn to gke-cluster-1-default-pool-1fb77211-sdbr\n",
      "  Normal   Pulling    78s   kubelet            Pulling image \"docker.io/istio/proxyv2:1.9.4\"\n",
      "  Normal   Pulled     71s   kubelet            Successfully pulled image \"docker.io/istio/proxyv2:1.9.4\"\n",
      "  Normal   Created    69s   kubelet            Created container istio-init\n",
      "  Normal   Started    69s   kubelet            Started container istio-init\n",
      "  Normal   Pulling    68s   kubelet            Pulling image \"nginx:stable\"\n",
      "  Normal   Pulled     65s   kubelet            Successfully pulled image \"nginx:stable\"\n",
      "  Normal   Created    64s   kubelet            Created container simple-app\n",
      "  Normal   Started    64s   kubelet            Started container simple-app\n",
      "  Normal   Pulling    64s   kubelet            Pulling image \"docker.io/istio/proxyv2:1.9.4\"\n",
      "  Normal   Pulled     63s   kubelet            Successfully pulled image \"docker.io/istio/proxyv2:1.9.4\"\n",
      "  Normal   Created    63s   kubelet            Created container istio-proxy\n",
      "  Normal   Started    63s   kubelet            Started container istio-proxy\n",
      "  Warning  Unhealthy  61s   kubelet            Readiness probe failed: Get http://10.4.1.5:15021/healthz/ready: dial tcp 10.4.1.5:15021: connect: connection refused\n"
     ]
    }
   ],
   "source": [
    "# Usaremos um dos labels do pod para encontra-lo\n",
    "kubectl describe pod -l app=simple-app"
   ]
  },
  {
   "cell_type": "markdown",
   "metadata": {},
   "source": [
    "É uma grande quantidade de informação, vamos procurar uma seção chamada `Containers` e nela a nossa aplicação `simple-app`.\n",
    "\n",
    "Como você pode ver, a imagem desse container é `nginx`, com a tag `stable`, mais abaixo tem um segundo container `istio-proxy`, com a imagem `docker.io/istio/proxyv2` e a _tag_ para a  versão `1.9.4`.\n",
    "\n",
    "Esse container não faz parte do [assets/exemplos/simple-app/deployment.yaml](exemplos/2_simple-app/deployment.yaml), ele foi adicionado ao seu pod pelo `istiod`."
   ]
  },
  {
   "cell_type": "markdown",
   "metadata": {},
   "source": [
    "Caso você precise saber todos os _namespaces_ que tem a injeção do _conteiner_ _proxy_ do Istio ativado, basta executar o comando:"
   ]
  },
  {
   "cell_type": "code",
   "execution_count": 14,
   "metadata": {
    "ExecuteTime": {
     "end_time": "2020-10-14T16:40:47.392310Z",
     "start_time": "2020-10-14T16:40:47.046643Z"
    }
   },
   "outputs": [
    {
     "name": "stdout",
     "output_type": "stream",
     "text": [
      "NAME      STATUS   AGE\n",
      "default   Active   41d\n",
      "NAME                         READY   STATUS    RESTARTS   AGE\n",
      "simple-app-cf5fc5558-xvggn   2/2     Running   0          2m34s\n"
     ]
    }
   ],
   "source": [
    "kubectl get ns -l istio-injection=enabled\n",
    "\n",
    "kubectl get pods"
   ]
  },
  {
   "cell_type": "markdown",
   "metadata": {},
   "source": [
    "Até o momento, somente o namespace `default`, onde configuramos a marcação, foi encontrado."
   ]
  },
  {
   "cell_type": "markdown",
   "metadata": {},
   "source": [
    "## Conclusão\n",
    "\n",
    "Neste ponto temos o mínimo do Istio em execução no nosso cluster, mas com exceção de um container extra isso não significa muito.\n",
    "\n",
    "Na próxima parte iremos explorar os recursos que esta instalação mínima do Istio pode oferecer."
   ]
  }
 ],
 "metadata": {
  "hide_input": false,
  "kernelspec": {
   "display_name": "Bash",
   "language": "bash",
   "name": "bash"
  },
  "language_info": {
   "codemirror_mode": "shell",
   "file_extension": ".sh",
   "mimetype": "text/x-sh",
   "name": "bash"
  },
  "toc": {
   "base_numbering": 1,
   "nav_menu": {},
   "number_sections": true,
   "sideBar": true,
   "skip_h1_title": false,
   "title_cell": "Table of Contents",
   "title_sidebar": "Contents",
   "toc_cell": false,
   "toc_position": {},
   "toc_section_display": true,
   "toc_window_display": false
  },
  "varInspector": {
   "cols": {
    "lenName": 16,
    "lenType": 16,
    "lenVar": 40
   },
   "kernels_config": {
    "python": {
     "delete_cmd_postfix": "",
     "delete_cmd_prefix": "del ",
     "library": "var_list.py",
     "varRefreshCmd": "print(var_dic_list())"
    },
    "r": {
     "delete_cmd_postfix": ") ",
     "delete_cmd_prefix": "rm(",
     "library": "var_list.r",
     "varRefreshCmd": "cat(var_dic_list()) "
    }
   },
   "types_to_exclude": [
    "module",
    "function",
    "builtin_function_or_method",
    "instance",
    "_Feature"
   ],
   "window_display": false
  }
 },
 "nbformat": 4,
 "nbformat_minor": 4
}
