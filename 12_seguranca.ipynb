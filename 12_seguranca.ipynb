{
 "cells": [
  {
   "cell_type": "markdown",
   "metadata": {},
   "source": [
    "# Segurança\n",
    "\n",
    "O Istio oferece uma solução de segurança abrangente para resolver problemas, como:\n",
    "\n",
    "* Defender contra ataques _man-in-the-middle_;\n",
    "* Fornecer controle de acesso de serviço flexível;\n",
    "* Determinar quem fez o quê e quando.\n",
    "\n",
    "![Istio security architecture](media/istio-sec-arch.png)\n",
    "Istio [High-level architecture](https://istio.io/latest/docs/concepts/security/#high-level-architecture)\n",
    "\n",
    "Neste cursos iremos abordar dois aspectos da segurança do Istio: TLS mútuo e autenticação de requisições com JWT.\n",
    "\n",
    "## TLS mútuo\n",
    "\n",
    "O Istio faz o túnel da comunicação serviço a serviço por meio dos _proxies_ do lado do cliente e do servidor, que são implementados com Envoy. Quando uma carga de trabalho envia uma solicitação para outra carga de trabalho usando autenticação [TLS mútua](https://istio.io/latest/docs/concepts/security/#mutual-tls-authentication), a solicitação é tratada da seguinte maneira:\n",
    "\n",
    "1. O Istio redireciona o tráfego de saída de um cliente para o sidecar Envoy local do cliente.\n",
    "\n",
    "2. O Envoy do lado do cliente inicia um _handshake_ TLS mútuo com o Envoy do lado do servidor. Durante o _handshake_, o Envoy do lado do cliente também faz uma verificação de nomenclatura segura para verificar se a conta de serviço apresentada no certificado do servidor está autorizada a executar o serviço de destino.\n",
    "\n",
    "3. O Envoy do lado do cliente e o Envoy do lado do servidor estabelecem uma conexão TLS mútua, e o Istio encaminha o tráfego do Envoy do lado do cliente para o Envoy do lado do servidor.\n",
    "\n",
    "4. Após a autorização, o Envoy do lado do servidor encaminha o tráfego para o serviço do servidor por meio de conexões TCP locais.\n",
    "\n",
    "O Istio configura automaticamente os _sidecars_ da carga de trabalho para usar TLS mútuo. Por padrão, o Istio configura as cargas de trabalho de destino usando o modo `PERMISSIVE`. Quando o modo PERMISSIVO está habilitado, um serviço pode aceitar tanto texto simples quanto tráfego TLS. Para permitir apenas o tráfego TLS, a configuração precisa ser alterada para o modo `STRICT`.\n",
    "\n",
    "Vamos verificar isso com ajuda do kiali\n",
    "\n",
    "<http://localhost:20001/kiali>\n",
    "\n",
    "Vá para o gráfico (Versioned App graph) e na caixa de seleção _Display_, marque _Security_.\n",
    "\n",
    "Vocë deverá ver que todas as conexões agora tem um símbolo de cadeado, isso indica que as requisições são seguras (TLS).\n",
    "\n",
    "![Kiali MTLS](media/kiali-MTLS.png)"
   ]
  },
  {
   "cell_type": "markdown",
   "metadata": {},
   "source": [
    "### Desabilitando o TLS múto\n",
    "\n",
    "Você pode utilizar a mesma confiugração para desabilitar o TLS múto, porém isso não é recomendado, a não ser que você implemente sua própria solução."
   ]
  },
  {
   "cell_type": "code",
   "execution_count": null,
   "metadata": {},
   "outputs": [],
   "source": [
    "# Desabilitando o MTLS\n",
    "cat <<EOF | kubectl apply -f -\n",
    "apiVersion: \"security.istio.io/v1beta1\"\n",
    "kind: \"PeerAuthentication\"\n",
    "metadata:\n",
    "  name: \"disable-mtls-namespace\"\n",
    "  namespace: \"default\"\n",
    "spec:\n",
    "  mtls:\n",
    "    mode: DISABLE\n",
    "EOF"
   ]
  },
  {
   "cell_type": "markdown",
   "metadata": {},
   "source": [
    "Verifique novamente no Kiali, após alguns segundos, os cadeados desapareceram.\n",
    "\n",
    "Vocë pode desligar o MTLS para toda a malha\n",
    "\n",
    "```bash\n",
    "kubectl apply -n istio-system -f - <<EOF\n",
    "apiVersion: \"security.istio.io/v1beta1\"\n",
    "kind: \"PeerAuthentication\"\n",
    "metadata:\n",
    "  name: \"disable-mtls-mesh\"\n",
    "spec:\n",
    "  mtls:\n",
    "    mode: DISABLE\n",
    "EOF\n",
    "```\n",
    "> Para excluir a configuração acima `kubectl delete pa/disable-mtls-mesh -n istio-system`\n",
    "\n",
    "Para voltar para a configuração original, vamos excluir o PeerAuthentication. Veremos mais sobre como controlar o MTLS nas proximas seções."
   ]
  },
  {
   "cell_type": "code",
   "execution_count": null,
   "metadata": {},
   "outputs": [],
   "source": [
    "kubectl delete PeerAuthentication/disable-mtls-namespace"
   ]
  },
  {
   "cell_type": "markdown",
   "metadata": {},
   "source": [
    "#### Desabilitando TLS múto para uma aplicação\n",
    "\n",
    "Como a maioria das configurações, você pode especificar um seletor para o qual a configuração é válida. Essa configuraçâo pode ser necessária se vocë estiver lidando com aplicações legadas, que não utilizam o protocolo https, vocë poderá desligá-lo temporariamente, até que ela seja refatorada.\n",
    "\n",
    "```yaml\n",
    "apiVersion: \"security.istio.io/v1beta1\"\n",
    "kind: \"PeerAuthentication\"\n",
    "metadata:\n",
    "  name: \"front-end-peer-policy\"\n",
    "  namespace: \"default\"\n",
    "spec:\n",
    "  selector:\n",
    "    matchLabels:\n",
    "      app: front-end\n",
    "  mtls:\n",
    "    mode: DISABLE\n",
    "```"
   ]
  },
  {
   "cell_type": "markdown",
   "metadata": {},
   "source": [
    "Há casos em que você deseja desativar o TLS mútuo para uma porta:\n",
    "\n",
    "```yaml\n",
    "apiVersion: \"security.istio.io/v1beta1\"\n",
    "kind: \"PeerAuthentication\"\n",
    "metadata:\n",
    "  name: \"front-end-workload-policy\"\n",
    "  namespace: \"default\"\n",
    "spec:\n",
    "  selector:\n",
    "     matchLabels:\n",
    "       app: front-end\n",
    "  portLevelMtls:\n",
    "    8000:\n",
    "      mode: DISABLE\n",
    "```"
   ]
  },
  {
   "cell_type": "markdown",
   "metadata": {},
   "source": [
    "Verifique se sobrou alguma configura configuração e exclua."
   ]
  },
  {
   "cell_type": "code",
   "execution_count": null,
   "metadata": {
    "jupyter": {
     "source_hidden": true
    }
   },
   "outputs": [],
   "source": [
    "# request authentication policy\n",
    "\n",
    "kubectl apply -f - <<EOF\n",
    "apiVersion: \"security.istio.io/v1beta1\"\n",
    "kind: \"RequestAuthentication\"\n",
    "metadata:\n",
    "  name: \"jwt-example\"\n",
    "  namespace: foo\n",
    "spec:\n",
    "  selector:\n",
    "    matchLabels:\n",
    "      app: httpbin\n",
    "  jwtRules:\n",
    "  - issuer: \"testing@secure.istio.io\"\n",
    "    jwksUri: \"https://raw.githubusercontent.com/istio/istio/release-1.8/security/tools/jwt/samples/jwks.json\"\n",
    "EOF"
   ]
  },
  {
   "cell_type": "markdown",
   "metadata": {},
   "source": [
    "## Bloquear tráfego de saída\n",
    "\n",
    "Na seção 10.1.5 - Gateways, implementamos um gateway de saída, nesta seção discutiremos um dos motivos para implementá-lo, segurança.\n",
    "\n",
    "Istio facilita a comunicação intra serviços, as vezes chamada de comunicação [leste-oeste](https://en.wikipedia.org/wiki/East-west_traffic), mas no ponto de vista de segurança, o risco está na comunicação norte-sul, ou seja, tráfico para fora da malha, por exemplo, chamada de APIs na internet.\n",
    "\n",
    "Por padrão, o Istio não impede a comunicação dos serviços, dentro da malha, chamarem serviços externos, mesmo que não estejam registrados (_ServiceEntry_).\n",
    "\n",
    "Em versões passadas (anterior a 1.5), o Istio bloqueava o tráfego de saída para fora da malha de serviços por padrão, isso causava alguma confusão entre os desenvolvedores que estão acostumados a acessar serviços externos tais como: APIs, Bancos de Dados, serviços de mensagens, etc.\n",
    "\n",
    "A decisão de modificar o padrão simplificou as configurações, mas aumentou o risco de segurança, por exemplo, se algum software malicioso, como um minerador de bitcoins, obtver acesso a infraestrutura da sua aplicação, poderá alcançar todos os sistemas que sua aplicação acessa, porém, se você restringir esse acesso, a infra da sua aplicação se torna inútil para o atacante que não conseguirá alcançar a sua infraestrura e enviar os dados processados ou roubados.\n",
    "\n",
    "Pense nisso quando estiver configurando sua malha de serviços.\n",
    "\n",
    "Vamos verificar em que modo nossa malha está configurada:"
   ]
  },
  {
   "cell_type": "code",
   "execution_count": null,
   "metadata": {},
   "outputs": [],
   "source": [
    "kubectl get istiooperator installed-state -n istio-system -o jsonpath='{.spec.meshConfig.outboundTrafficPolicy.mode}'"
   ]
  },
  {
   "cell_type": "markdown",
   "metadata": {},
   "source": [
    "Vamos instalar um serviço externo e modificar o _deployment_ da order para chamá-lo:"
   ]
  },
  {
   "cell_type": "code",
   "execution_count": null,
   "metadata": {},
   "outputs": [],
   "source": [
    "# Cria o serviço credit no namespace financial\n",
    "kubectl apply -f exemplos/simul-shop/manifests/10/credit-deployment.yaml\n",
    "\n",
    "# Serviço externo\n",
    "kubectl apply -f istio-1.8.1/samples/httpbin/httpbin.yaml\n",
    "\n",
    "# Modificando o order para invocar serviço externo\n",
    "kubectl apply -f exemplos/simul-shop/manifests/10/orders-deployment-external-api.yaml"
   ]
  },
  {
   "cell_type": "markdown",
   "metadata": {},
   "source": [
    "> O _namespace_ financial não tem o rótulo do Istio para injeção automática de _sidecar_."
   ]
  },
  {
   "cell_type": "markdown",
   "metadata": {},
   "source": [
    "Agora bloquearemos todo o tráfego de saída que não está registrado:"
   ]
  },
  {
   "cell_type": "code",
   "execution_count": null,
   "metadata": {},
   "outputs": [],
   "source": [
    "# Fará um novo deploy do istiod com a nova configuração\n",
    "istioctl install --set profile=demo --skip-confirmation --set meshConfig.outboundTrafficPolicy.mode=REGISTRY_ONLY"
   ]
  },
  {
   "cell_type": "code",
   "execution_count": null,
   "metadata": {},
   "outputs": [],
   "source": [
    "# Verificando se as configurações foram alteradas\n",
    "kubectl get istiooperator installed-state -n istio-system -o jsonpath='{.spec.meshConfig.outboundTrafficPolicy.mode}'"
   ]
  },
  {
   "cell_type": "markdown",
   "metadata": {},
   "source": [
    "Vamos verificar no kiali o que está acontecendo. <http://localhost:20001>\n",
    "\n",
    "![Kiali serviço sem registro](media/kiali-registry-only.gif)\n",
    "\n",
    "Como você pode verificar, o tráfego entre os serviços está OK, mas o tráfego para fora da malha foi bloqueado.\n",
    "\n",
    "Vamos registrar o serviço bloqueado e tentar novamente."
   ]
  },
  {
   "cell_type": "code",
   "execution_count": null,
   "metadata": {},
   "outputs": [],
   "source": [
    "kubectl apply -f exemplos/simul-shop/istio/12/httpbin-serviceentry.yaml"
   ]
  },
  {
   "cell_type": "markdown",
   "metadata": {},
   "source": [
    "Retorne para o kiali e veja o resultado.\n",
    "\n",
    "Você notou que o serviço de crédito, embora não tenha um _sidecar_ não teve problema de comunicação, isso porque o Istio cria uma entrada para cada serviço do kubernetes, mas o serviço httpbin.org não têm e foi bloqueado até que fosse criado um [registro](exemplos/simul-shop/istio/12/httpbin-serviceentry.yaml)."
   ]
  },
  {
   "cell_type": "markdown",
   "metadata": {},
   "source": [
    "Vamos restaurar a configuração ao modo padrão."
   ]
  },
  {
   "cell_type": "code",
   "execution_count": null,
   "metadata": {},
   "outputs": [],
   "source": [
    "# Retornndo o flag para o padrão\n",
    "istioctl install --set profile=demo --skip-confirmation --set meshConfig.outboundTrafficPolicy.mode=ALLOW_ANY\n",
    "# Excluindo a entrada no registro de serviço\n",
    "kubectl delete -f exemplos/simul-shop/istio/12/httpbin-serviceentry.yaml\n",
    "# Removendo o namespace financial\n",
    "kubectl delete ns financial\n",
    "# Serviço externo\n",
    "kubectl delete -f istio-1.8.1/samples/httpbin/httpbin.yaml\n",
    "# Restaurando os deployments\n",
    "kubectl apply -f exemplos/simul-shop/manifests/4"
   ]
  },
  {
   "cell_type": "markdown",
   "metadata": {},
   "source": [
    "## Controle de Acesso\n",
    "\n",
    "Por padrão, todas as solicitações na malha de serviços do Istio são permitidas. Podemos modificar esse comportamento com o recurso _AuthorizationPolicy_ que permite definir políticas para as cargas de trabalho. \n",
    "\n",
    "O Istio converte suas _AuthorizationPolicies_ em configurações para os _sidecars_ (istio-proxy) e, nos demais _proxies_ (gateways).\n",
    "\n",
    "Vamos começar modificando o padrão, [negando autorização](exemplos/simul-shop/istio/12/authorization-policy-deny-all.yaml) para toda a comunicação na malha."
   ]
  },
  {
   "cell_type": "code",
   "execution_count": null,
   "metadata": {},
   "outputs": [],
   "source": [
    "kubectl apply -f exemplos/simul-shop/istio/12/authorization-policy-deny-all.yaml"
   ]
  },
  {
   "cell_type": "markdown",
   "metadata": {},
   "source": [
    "Vá ao kiali e veja como ficou o tráfego.\n",
    "\n",
    "Vamos permitir o invocações do método GET, para o [_front-end_](exemplos/simul-shop/istio/12/authorization-policy-allow-front-end.yaml) e do _front-end_ para [_orders_](exemplos/simul-shop/istio/12/authorization-policy-allow-orders.yaml) e [_catalogue_](exemplos/simul-shop/istio/12/authorization-policy-allow-catalogue.yaml).\n",
    "\n",
    "![Access Control](media/access-control.png)"
   ]
  },
  {
   "cell_type": "code",
   "execution_count": null,
   "metadata": {},
   "outputs": [],
   "source": [
    "kubectl apply -f exemplos/simul-shop/istio/12/authorization-policy-allow-front-end.yaml\n",
    "\n",
    "kubectl apply -f exemplos/simul-shop/istio/12/authorization-policy-allow-orders.yaml\n",
    "\n",
    "kubectl apply -f exemplos/simul-shop/istio/12/authorization-policy-allow-catalogue.yaml"
   ]
  },
  {
   "cell_type": "markdown",
   "metadata": {},
   "source": [
    "> Você pode aplicar um de cada vez e conferir no kiali a mudança."
   ]
  },
  {
   "cell_type": "markdown",
   "metadata": {},
   "source": [
    "Volte para o kiali e verifique como o tráfego está.\n",
    "\n",
    "Para liberar todo o tráfego novamente, como o padrão, basta excluir a política de negação."
   ]
  },
  {
   "cell_type": "code",
   "execution_count": null,
   "metadata": {},
   "outputs": [],
   "source": [
    "kubectl delete -f exemplos/simul-shop/istio/12/authorization-policy-deny-all.yaml"
   ]
  },
  {
   "cell_type": "markdown",
   "metadata": {},
   "source": [
    "Novamente no kiali, verifique que ao excluir a política, todo o tráfego foi liberado e as demais políticas não tem mais efeito.\n",
    "\n",
    "Para manter o ambiente limpo, vamos exclui-las também."
   ]
  },
  {
   "cell_type": "code",
   "execution_count": null,
   "metadata": {},
   "outputs": [],
   "source": [
    "kubectl delete -f exemplos/simul-shop/istio/12/authorization-policy-allow-front-end.yaml\n",
    "\n",
    "kubectl delete -f exemplos/simul-shop/istio/12/authorization-policy-allow-orders.yaml\n",
    "\n",
    "kubectl delete -f exemplos/simul-shop/istio/12/authorization-policy-allow-catalogue.yaml"
   ]
  },
  {
   "cell_type": "markdown",
   "metadata": {},
   "source": [
    "O controle de acesso permite de uma forma granular, controlar quem pode acessar o que, isso pode ser necessário em ambientes compartilhados e oferece mais um nível de controle, além do RBAC do kubernetes."
   ]
  }
 ],
 "metadata": {
  "hide_input": false,
  "kernelspec": {
   "display_name": "Python 3",
   "language": "python",
   "name": "python3"
  },
  "language_info": {
   "codemirror_mode": {
    "name": "ipython",
    "version": 3
   },
   "file_extension": ".py",
   "mimetype": "text/x-python",
   "name": "python",
   "nbconvert_exporter": "python",
   "pygments_lexer": "ipython3",
   "version": "3.8.5"
  },
  "toc": {
   "base_numbering": 1,
   "nav_menu": {},
   "number_sections": true,
   "sideBar": true,
   "skip_h1_title": false,
   "title_cell": "Table of Contents",
   "title_sidebar": "Contents",
   "toc_cell": false,
   "toc_position": {},
   "toc_section_display": true,
   "toc_window_display": false
  },
  "varInspector": {
   "cols": {
    "lenName": 16,
    "lenType": 16,
    "lenVar": 40
   },
   "kernels_config": {
    "python": {
     "delete_cmd_postfix": "",
     "delete_cmd_prefix": "del ",
     "library": "var_list.py",
     "varRefreshCmd": "print(var_dic_list())"
    },
    "r": {
     "delete_cmd_postfix": ") ",
     "delete_cmd_prefix": "rm(",
     "library": "var_list.r",
     "varRefreshCmd": "cat(var_dic_list()) "
    }
   },
   "types_to_exclude": [
    "module",
    "function",
    "builtin_function_or_method",
    "instance",
    "_Feature"
   ],
   "window_display": false
  }
 },
 "nbformat": 4,
 "nbformat_minor": 4
}
