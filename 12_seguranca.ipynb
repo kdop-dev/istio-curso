{
 "metadata": {
  "language_info": {
   "codemirror_mode": {
    "name": "ipython",
    "version": 3
   },
   "file_extension": ".py",
   "mimetype": "text/x-python",
   "name": "python",
   "nbconvert_exporter": "python",
   "pygments_lexer": "ipython3",
   "version": 3
  },
  "orig_nbformat": 2,
  "kernelspec": {
   "name": "bash",
   "display_name": "Bash"
  }
 },
 "nbformat": 4,
 "nbformat_minor": 2,
 "cells": [
  {
   "source": [
    "# Segurança\n",
    "\n",
    "O Istio oferece uma solução de segurança abrangente para resolver problemas, como:\n",
    "\n",
    "* Defender contra ataques _man-in-the-middle_;\n",
    "* Fornecer controle de acesso de serviço flexível;\n",
    "* Determinar quem fez o quê e quando.\n",
    "\n",
    "![Istio security architecture](media/istio-sec-arch.png)\n",
    "Istio [High-level architecture](https://istio.io/latest/docs/concepts/security/#high-level-architecture)\n",
    "\n",
    "Neste cursos iremos abordar dois aspectos da segurança do Istio: TLS mútuo e autenticação de requisições com JWT.\n",
    "\n",
    "## TLS mútuo\n",
    "\n",
    "O Istio faz o túnel da comunicação serviço a serviço por meio dos _proxies_ do lado do cliente e do servidor, que são implementados com Envoy. Quando uma carga de trabalho envia uma solicitação para outra carga de trabalho usando autenticação [TLS mútua](https://istio.io/latest/docs/concepts/security/#mutual-tls-authentication), a solicitação é tratada da seguinte maneira:\n",
    "\n",
    "1. O Istio redireciona o tráfego de saída de um cliente para o sidecar Envoy local do cliente.\n",
    "\n",
    "2. O Envoy do lado do cliente inicia um _handshake_ TLS mútuo com o Envoy do lado do servidor. Durante o _handshake_, o Envoy do lado do cliente também faz uma verificação de nomenclatura segura para verificar se a conta de serviço apresentada no certificado do servidor está autorizada a executar o serviço de destino.\n",
    "\n",
    "3. O Envoy do lado do cliente e o Envoy do lado do servidor estabelecem uma conexão TLS mútua, e o Istio encaminha o tráfego do Envoy do lado do cliente para o Envoy do lado do servidor.\n",
    "\n",
    "4. Após a autorização, o Envoy do lado do servidor encaminha o tráfego para o serviço do servidor por meio de conexões TCP locais.\n",
    "\n",
    "O Istio configura automaticamente os _sidecars_ da carga de trabalho para usar TLS mútuo. Por padrão, o Istio configura as cargas de trabalho de destino usando o modo `PERMISSIVE`. Quando o modo PERMISSIVO está habilitado, um serviço pode aceitar tanto texto simples quanto tráfego TLS. Para permitir apenas o tráfego TLS, a configuração precisa ser alterada para o modo `STRICT`.\n",
    "\n",
    "Vamos verificar em que modo está a nossa malha"
   ],
   "cell_type": "markdown",
   "metadata": {}
  },
  {
   "cell_type": "code",
   "execution_count": 1,
   "metadata": {},
   "outputs": [
    {
     "output_type": "stream",
     "name": "stdout",
     "text": [
      "error: no configuration has been provided, try setting KUBERNETES_MASTER environment variable\n"
     ]
    },
    {
     "output_type": "error",
     "ename": "",
     "evalue": "1",
     "traceback": []
    }
   ],
   "source": [
    "kubectl get PeerAuthentication"
   ]
  },
  {
   "source": [
    "### Desabilitando o TLS múto\n",
    "\n",
    "Você pode utilizar a mesma confiugração para desabilitar o TLS múto, porém isso não é recomendado, a não ser que você implemente sua própria solução.\n",
    "\n",
    "```yaml\n",
    "apiVersion: \"security.istio.io/v1beta1\"\n",
    "kind: \"PeerAuthentication\"\n",
    "metadata:\n",
    "  name: \"example-policy\"\n",
    "  namespace: \"default\"\n",
    "spec:\n",
    "  mtls:\n",
    "    mode: DISABLE\n",
    "```\n"
   ],
   "cell_type": "markdown",
   "metadata": {}
  },
  {
   "source": [
    "### Políticas de autenticação\n",
    "\n",
    "Políticas de autenticação são configurações do tipo `PeerAuthentication` e são aplicas às solicitações que um serviço recebe. Para especificar regras de autenticação do lado do cliente em TLS mútuo, você precisa especificar as configurações de TLS no `DestinationRule`.\n",
    "\n"
   ],
   "cell_type": "markdown",
   "metadata": {}
  },
  {
   "source": [
    "#### Bloqueie o TLS mútuo para um namespace.\n",
    "\n",
    "Você pode modificar a configuração para o modo `STRICT` por _namespace_."
   ],
   "cell_type": "markdown",
   "metadata": {}
  },
  {
   "cell_type": "code",
   "execution_count": null,
   "metadata": {},
   "outputs": [],
   "source": [
    "kubectl apply -n default -f - <<EOF\n",
    "apiVersion: \"security.istio.io/v1beta1\"\n",
    "kind: \"PeerAuthentication\"\n",
    "metadata:\n",
    "  name: \"default\"\n",
    "spec:\n",
    "  mtls:\n",
    "    mode: STRICT\n",
    "EOF"
   ]
  },
  {
   "source": [
    "#### Bloqueie o TLS mútuo para toda a malha.\n",
    "\n",
    "Ao modificar a configuração para o modo `STRICT` no _namespace_ `istio-system`, ela será válida para todo a malha."
   ],
   "cell_type": "markdown",
   "metadata": {}
  },
  {
   "cell_type": "code",
   "execution_count": null,
   "metadata": {},
   "outputs": [],
   "source": [
    "kubectl apply -n istio-system -f - <<EOF\n",
    "apiVersion: \"security.istio.io/v1beta1\"\n",
    "kind: \"PeerAuthentication\"\n",
    "metadata:\n",
    "  name: \"default\"\n",
    "spec:\n",
    "  mtls:\n",
    "    mode: STRICT\n",
    "EOF"
   ]
  },
  {
   "source": [
    "#### TLS múto para uma aplicação\n",
    "\n",
    "Como a maioria das configurações, você pode especificar um seletor para o qual a configuração é válida.\n",
    "\n",
    "```yaml\n",
    "apiVersion: \"security.istio.io/v1beta1\"\n",
    "kind: \"PeerAuthentication\"\n",
    "metadata:\n",
    "  name: \"front-end-peer-policy\"\n",
    "  namespace: \"default\"\n",
    "spec:\n",
    "  selector:\n",
    "    matchLabels:\n",
    "      app: front-end\n",
    "  mtls:\n",
    "    mode: STRICT\n",
    "```"
   ],
   "cell_type": "markdown",
   "metadata": {}
  },
  {
   "source": [
    "Há casos em que você deseja desativar o TLS mútuo para uma porta:\n",
    "\n",
    "```yaml\n",
    "apiVersion: \"security.istio.io/v1beta1\"\n",
    "kind: \"PeerAuthentication\"\n",
    "metadata:\n",
    "  name: \"front-end-workload-policy\"\n",
    "  namespace: \"default\"\n",
    "spec:\n",
    "  selector:\n",
    "     matchLabels:\n",
    "       app: front-end\n",
    "  portLevelMtls:\n",
    "    8000:\n",
    "      mode: DISABLE\n",
    "```\n",
    "\n",
    "O mesmo vale para forçar (STRIC) ou permitir ambos (PERMISSIVE)"
   ],
   "cell_type": "markdown",
   "metadata": {}
  },
  {
   "source": [
    "## Políticas de autenticação de solicitação\n",
    "\n",
    "As [políticas de autenticação de solicitação](https://istio.io/latest/docs/concepts/security/#request-authentication) especificam os valores necessários para validar um [JSON Web Token](https://jwt.io/) (JWT). Esses valores incluem, entre outros, o seguinte:\n",
    "\n",
    "* A localização do token na solicitação\n",
    "* O emissor ou o pedido\n",
    "* O JSON Web Key Set público (JWKS)\n",
    "\n",
    "#### Autorização com JWT\n",
    "\n",
    "Para configurar uma política de autorização do Istio, iremos criar uma configuração do tiop `RequestAuthentication`. Uma política de autorização do Istio oferece suporte a declarações JWT digitadas por string e por lista de strings.\n"
   ],
   "cell_type": "markdown",
   "metadata": {}
  },
  {
   "cell_type": "code",
   "execution_count": null,
   "metadata": {},
   "outputs": [],
   "source": [
    "# request authentication policy\n",
    "\n",
    "kubectl apply -f - <<EOF\n",
    "apiVersion: \"security.istio.io/v1beta1\"\n",
    "kind: \"RequestAuthentication\"\n",
    "metadata:\n",
    "  name: \"jwt-example\"\n",
    "  namespace: foo\n",
    "spec:\n",
    "  selector:\n",
    "    matchLabels:\n",
    "      app: httpbin\n",
    "  jwtRules:\n",
    "  - issuer: \"testing@secure.istio.io\"\n",
    "    jwksUri: \"https://raw.githubusercontent.com/istio/istio/release-1.8/security/tools/jwt/samples/jwks.json\"\n",
    "EOF"
   ]
  },
  {
   "cell_type": "code",
   "execution_count": null,
   "metadata": {},
   "outputs": [],
   "source": [
    "# request with an invalid JWT is denied\n",
    "kubectl exec \"$(kubectl get pod -l app=sleep -n foo -o jsonpath={.items..metadata.name})\" -c sleep -n foo -- curl \"http://httpbin.foo:8000/headers\" -s -o /dev/null -w \"%{http_code}\\n\"\n"
   ]
  },
  {
   "cell_type": "code",
   "execution_count": null,
   "metadata": {},
   "outputs": [],
   "source": [
    "#  request without a JWT is allowed because there is no authorization policy\n",
    "kubectl exec \"$(kubectl get pod -l app=sleep -n foo -o jsonpath={.items..metadata.name})\" -c sleep -n foo -- curl \"http://httpbin.foo:8000/headers\" -s -o /dev/null -w \"%{http_code}\\n\"\n"
   ]
  },
  {
   "cell_type": "code",
   "execution_count": null,
   "metadata": {},
   "outputs": [],
   "source": [
    "# authorization policy for the httpbin\n",
    "kubectl apply -f - <<EOF\n",
    "apiVersion: security.istio.io/v1beta1\n",
    "kind: AuthorizationPolicy\n",
    "metadata:\n",
    "  name: require-jwt\n",
    "  namespace: foo\n",
    "spec:\n",
    "  selector:\n",
    "    matchLabels:\n",
    "      app: httpbin\n",
    "  action: ALLOW\n",
    "  rules:\n",
    "  - from:\n",
    "    - source:\n",
    "       requestPrincipals: [\"testing@secure.istio.io/testing@secure.istio.io\"]\n",
    "EOF"
   ]
  },
  {
   "cell_type": "code",
   "execution_count": null,
   "metadata": {},
   "outputs": [],
   "source": [
    "# JWT that sets the iss and sub keys to the same value\n",
    "TOKEN=$(curl https://raw.githubusercontent.com/istio/istio/release-1.8/security/tools/jwt/samples/demo.jwt -s) && echo \"$TOKEN\" | cut -d '.' -f2 - | base64 --decode -\n"
   ]
  },
  {
   "cell_type": "code",
   "execution_count": null,
   "metadata": {},
   "outputs": [],
   "source": [
    "# request with a valid JWT\n",
    "kubectl exec \"$(kubectl get pod -l app=sleep -n foo -o jsonpath={.items..metadata.name})\" -c sleep -n foo -- curl \"http://httpbin.foo:8000/headers\" -s -o /dev/null -H \"Authorization: Bearer $TOKEN\" -w \"%{http_code}\\n\"\n"
   ]
  },
  {
   "cell_type": "code",
   "execution_count": null,
   "metadata": {},
   "outputs": [],
   "source": [
    "# request without a JWT\n",
    "kubectl exec \"$(kubectl get pod -l app=sleep -n foo -o jsonpath={.items..metadata.name})\" -c sleep -n foo -- curl \"http://httpbin.foo:8000/headers\" -s -o /dev/null -w \"%{http_code}\\n\"\n"
   ]
  }
 ]
}