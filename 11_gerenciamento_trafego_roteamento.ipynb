{
 "cells": [
  {
   "cell_type": "markdown",
   "metadata": {},
   "source": [
    "# Gerenciamento de tráfego - parte 2\n",
    "\n",
    "Na seção anterior exploramos a release canário com _VirtualService_ e _DestinationRule_ e como se relaciona com os serviços do k8s e dicutimos brevemente como permiir que o tráfego de fora chegue a nossa aplicação.\n",
    "\n",
    "Vamos adicionar um novo recursos do Istio, os _Gateways_, usados para permitir que o tráfego de fora do cluster chegue aos _VirtualServices_ e o tráfego de saída alcance os serviços externos.\n",
    "\n",
    "Existem várias opções para permitir que o tráfego externo chegue ao nosso cluster, são elas:\n",
    "\n",
    "* Serviços do tipo [NodePort](https://kubernetes.io/docs/concepts/services-networking/service/#nodeport) - Expõe o serviço no IP de cada nó em uma porta estática (o NodePort). Um serviço ClusterIP para o qual o serviço NodePort roteia, é criado automaticamente. Você poderá acessar com o Serviço NodePort, de fora do cluster, pelo endereço `NodeIP:NodePort`.\n",
    "* Serviços do tipo [LoadBalancer](https://kubernetes.io/docs/concepts/services-networking/service/#loadbalancer) - Expõe o serviço externamente usando o balanceador de carga de um provedor. Os serviços NodePort e ClusterIP, para os quais o balanceador de carga externo roteia, são criados automaticamente. Com Minikube e Docker-Desktop é possível criar serviços do tipo _LoadBalancer_ e o endereço localhost será atribuído como IP externo.\n",
    "* k8s [Ingress](https://kubernetes.io/docs/concepts/services-networking/ingress/) - Expõe as rotas HTTP e HTTPS de fora do cluster para serviços dentro do cluster. O roteamento de tráfego é controlado por regras definidas no recurso Ingress. Esse serviço normalmente cria um serviço do tipo `LoadBalancer`. Soluções de ingress mais comuns são: [Nginx](https://kubernetes.github.io/ingress-nginx/), [Traefik](https://doc.traefik.io/traefik/providers/kubernetes-ingress/), [Kong](https://github.com/Kong/kubernetes-ingress-controller) e [Istio](https://istio.io/latest/docs/tasks/traffic-management/ingress/)."
   ]
  },
  {
   "cell_type": "markdown",
   "metadata": {},
   "source": [
    "## Rota baseada no caminho\n",
    "\n",
    "![rota baseada no caminha](media/path-based-routes.png)"
   ]
  },
  {
   "cell_type": "markdown",
   "metadata": {},
   "source": [
    "## Rota baseada no _host_\n",
    "\n",
    "TODO"
   ]
  },
  {
   "cell_type": "markdown",
   "metadata": {},
   "source": [
    "## Rota basead ano cabeçalho\n",
    "\n",
    "TODO"
   ]
  },
  {
   "cell_type": "markdown",
   "metadata": {},
   "source": [
    "## Multiplas regras de tráfego\n",
    "\n",
    "TODO"
   ]
  },
  {
   "cell_type": "markdown",
   "metadata": {},
   "source": [
    "## Modificando os cabeçalhos de resposta\n",
    "\n",
    "TODO"
   ]
  },
  {
   "cell_type": "markdown",
   "metadata": {},
   "source": [
    "## Retentativas e timeouts\n",
    "\n",
    "TODO"
   ]
  },
  {
   "cell_type": "markdown",
   "metadata": {},
   "source": [
    "## Injetando falhas e atrasos\n",
    "\n",
    "TODO"
   ]
  },
  {
   "cell_type": "markdown",
   "metadata": {},
   "source": [
    "## Interrupção de circuíto\n",
    "\n",
    "TODO"
   ]
  },
  {
   "cell_type": "markdown",
   "metadata": {},
   "source": [
    "## Espelhando o tráfego\n",
    "\n",
    "TODO"
   ]
  }
 ],
 "metadata": {
  "kernelspec": {
   "display_name": "Bash",
   "language": "bash",
   "name": "bash"
  },
  "language_info": {
   "codemirror_mode": "shell",
   "file_extension": ".sh",
   "mimetype": "text/x-sh",
   "name": "bash"
  }
 },
 "nbformat": 4,
 "nbformat_minor": 4
}
