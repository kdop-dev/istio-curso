{
 "cells": [
  {
   "cell_type": "markdown",
   "metadata": {},
   "source": [
    "# Gateways\n",
    "\n",
    "Na seção anterior exploramos a implantação canário com _VirtualService_ e _DestinationRule_ e como se relaciona com os serviços do k8s e dicutimos como permiir que o tráfego de fora pode chegue até a nossa aplicação.\n",
    "\n",
    "Existem algumas opções para permitir que o tráfego externo chegue ao nosso cluster, são elas:\n",
    "\n",
    "* Serviços do tipo [NodePort](https://kubernetes.io/docs/concepts/services-networking/service/#nodeport) - Expõe o serviço no IP de cada nó em uma porta estática (o NodePort). Um serviço ClusterIP para o qual o serviço NodePort roteia, é criado automaticamente. Você poderá acessar com o Serviço NodePort, de fora do cluster, pelo endereço `NodeIP:NodePort`.\n",
    "* Serviços do tipo [LoadBalancer](https://kubernetes.io/docs/concepts/services-networking/service/#loadbalancer) - Expõe o serviço externamente usando o balanceador de carga de um provedor. Os serviços NodePort e ClusterIP, para os quais o balanceador de carga externo roteia, são criados automaticamente. Com Minikube e Docker-Desktop é possível criar serviços do tipo _LoadBalancer_ e o endereço localhost será atribuído como IP externo.\n",
    "* k8s [Ingress](https://kubernetes.io/docs/concepts/services-networking/ingress/) - Expõe as rotas HTTP e HTTPS de fora do cluster para serviços dentro do cluster. O roteamento de tráfego é controlado por regras definidas no recurso Ingress. Esse serviço normalmente cria um serviço do tipo `LoadBalancer`. Soluções de ingress mais comuns são: [Nginx](https://kubernetes.github.io/ingress-nginx/), [Traefik](https://doc.traefik.io/traefik/providers/kubernetes-ingress/), [Kong](https://github.com/Kong/kubernetes-ingress-controller) e [Istio](https://istio.io/latest/docs/tasks/traffic-management/ingress/).\n",
    "\n",
    "Iremos explorar o _gateway_ do Istio.\n",
    "\n",
    "## O que são _gateways_ no Istio\n",
    "\n",
    "Os _gateways_ do Istio são aplicações independentes (Envoys) que controlam o tráfego das requisições. Eles as recebem, avaliam, criam logs e as redirecionam para dentro ou fora da malha de serviços.\n",
    "\n",
    "Há algumas formas de fazer isso, podemos configurar os [serviços do kubernetes](https://kubernetes.io/docs/concepts/services-networking/service/) (_LoadBalancer_ e _NodePort_), mas consumiríamos balanceadores de carga, que na nuvem são recursos pagos, ou podemos configurar um _NodePort_, porém, além de consumirem portas, não funcionariam com os _istio-proxies_ porque as requisições seriam direcionadas para o POD e só então chegariam ao _proxy_, dessa forma, o _NodePort_ iria direcionar uma fração para cada POD que fizer parte do seletor e só então as requisições seriam tratadas pelo Istio.\n",
    "\n",
    "![balanceamento utilizando nodeport](media/k8s-nodeport-balance.png)\n",
    "\n",
    "Como ilustrado, somente 50% das requisições externas chegariam ao POD A, sendo assim, mesmo que configurassemos o _proxy_ para lidar com o tráfego, seria tarde demais.\n",
    "\n",
    "A solução é a adição de um _gateway_ ([ingress gateway](https://istio.io/latest/docs/tasks/traffic-management/ingress/#accessing-istio-service-mesh-by-a-browser)) que entenda as configurações do Istio e faça o trabalho de direcionar para os PODs. Para isso o Istio inclue um _gateway_ que é identico ao Envoy que utilizamos nas nossas aplicações.\n",
    "\n",
    "![balanceamento utilizando istio-ingressgateway](media/istio-ingress-balance.png)\n",
    "\n",
    "O Istio configura o Envoy em um POD independente para fazer o papel de Ingress (entrada) e outro para Egress (saída). Sendo o mesmo Envoy que está em execução com nossa aplicação, ele é configurado pelo Istio com o objetivo de direcionar o tráfego para os nossos _VirtualServices_, funcionando como um _proxy_ reverso.\n",
    "\n",
    "Vamos habilitá-los na nossa instalação."
   ]
  },
  {
   "cell_type": "code",
   "execution_count": 2,
   "metadata": {},
   "outputs": [
    {
     "name": "stdout",
     "output_type": "stream",
     "text": [
      "Detected that your cluster does not support third party JWT authentication. Falling back to less secure first party JWT. See https://istio.io/v1.8/docs/ops/best-practices/security/#configure-third-party-service-account-tokens for details.\n",
      "\u001b[32m✔\u001b[0m Istio core installed                                                          \n",
      "\u001b[32m✔\u001b[0m Istiod installed                                                              \n",
      "\u001b[32m✔\u001b[0m Egress gateways installed                                                     \n",
      "\u001b[32m✔\u001b[0m Ingress gateways installed                                                    \n",
      "\u001b[33m-\u001b[0m Pruning removed resources                                                       Removed HorizontalPodAutoscaler:istio-system:istiod.\n",
      "\u001b[32m✔\u001b[0m Installation complete                                                         "
     ]
    }
   ],
   "source": [
    "istioctl install --set profile=demo --skip-confirmation  "
   ]
  },
  {
   "cell_type": "markdown",
   "metadata": {},
   "source": [
    "Você pode ver a diferença entre os perfís de instalação em [Istio - Installation Configuration Profiles](https://istio.io/latest/docs/setup/additional-setup/config-profiles/).\n",
    "\n",
    "Vamos verificar o que temos instalado."
   ]
  },
  {
   "cell_type": "code",
   "execution_count": 3,
   "metadata": {},
   "outputs": [
    {
     "name": "stdout",
     "output_type": "stream",
     "text": [
      "NAME                                    READY   STATUS    RESTARTS   AGE\n",
      "grafana-784c89f4cf-plch7                1/1     Running   0          32m\n",
      "istio-egressgateway-8dff9c778-q5t5r     1/1     Running   0          17s\n",
      "istio-ingressgateway-6cfd75fc57-w6v4q   1/1     Running   0          17s\n",
      "istiod-7f6d7c759-vg9kl                  1/1     Running   0          21s\n",
      "jaeger-7f78b6fb65-vztw9                 1/1     Running   0          33m\n",
      "kiali-7476977cf9-pg24h                  1/1     Running   0          47m\n",
      "prometheus-7bfddb8dbf-ch2fj             2/2     Running   0          47m\n"
     ]
    }
   ],
   "source": [
    "kubectl get pods -n istio-system"
   ]
  },
  {
   "cell_type": "markdown",
   "metadata": {},
   "source": [
    "Foram adicionados dois PODs, o istio-ingressgateway  e o istio-egressgateway, ambos utilizam a mesma imagem do proxy-istio é injetado com nossa aplicação, vamos conferir.\n",
    "\n",
    "Preste atenção também aos rótulos, principalmente o `appp` e o `istio`."
   ]
  },
  {
   "cell_type": "code",
   "execution_count": 4,
   "metadata": {},
   "outputs": [
    {
     "name": "stdout",
     "output_type": "stream",
     "text": [
      "Name:                   istio-ingressgateway\n",
      "Namespace:              istio-system\n",
      "CreationTimestamp:      Wed, 25 Nov 2020 20:13:39 -0300\n",
      "Labels:                 app=istio-ingressgateway\n",
      "                        install.operator.istio.io/owning-resource=unknown\n",
      "                        install.operator.istio.io/owning-resource-namespace=istio-system\n",
      "                        istio=ingressgateway\n",
      "                        istio.io/rev=default\n",
      "                        operator.istio.io/component=IngressGateways\n",
      "                        operator.istio.io/managed=Reconcile\n",
      "                        operator.istio.io/version=1.8.0\n",
      "                        release=istio\n",
      "Annotations:            deployment.kubernetes.io/revision: 1\n",
      "Selector:               app=istio-ingressgateway,istio=ingressgateway\n",
      "Replicas:               1 desired | 1 updated | 1 total | 1 available | 0 unavailable\n",
      "StrategyType:           RollingUpdate\n",
      "MinReadySeconds:        0\n",
      "RollingUpdateStrategy:  25% max unavailable, 100% max surge\n",
      "Pod Template:\n",
      "  Labels:           app=istio-ingressgateway\n",
      "                    chart=gateways\n",
      "                    heritage=Tiller\n",
      "                    install.operator.istio.io/owning-resource=unknown\n",
      "                    istio=ingressgateway\n",
      "                    istio.io/rev=default\n",
      "                    operator.istio.io/component=IngressGateways\n",
      "                    release=istio\n",
      "                    service.istio.io/canonical-name=istio-ingressgateway\n",
      "                    service.istio.io/canonical-revision=latest\n",
      "  Annotations:      prometheus.io/path: /stats/prometheus\n",
      "                    prometheus.io/port: 15020\n",
      "                    prometheus.io/scrape: true\n",
      "                    sidecar.istio.io/inject: false\n",
      "  Service Account:  istio-ingressgateway-service-account\n",
      "  Containers:\n",
      "   istio-proxy:\n",
      "    Image:       docker.io/istio/proxyv2:1.8.0\n",
      "    Ports:       15021/TCP, 8080/TCP, 8443/TCP, 31400/TCP, 15443/TCP, 15090/TCP\n",
      "    Host Ports:  0/TCP, 0/TCP, 0/TCP, 0/TCP, 0/TCP, 0/TCP\n",
      "    Args:\n",
      "      proxy\n",
      "      router\n",
      "      --domain\n",
      "      $(POD_NAMESPACE).svc.cluster.local\n",
      "      --proxyLogLevel=warning\n",
      "      --proxyComponentLogLevel=misc:error\n",
      "      --log_output_level=default:info\n",
      "      --serviceCluster\n",
      "      istio-ingressgateway\n",
      "    Limits:\n",
      "      cpu:     2\n",
      "      memory:  1Gi\n",
      "    Requests:\n",
      "      cpu:      10m\n",
      "      memory:   40Mi\n",
      "    Readiness:  http-get http://:15021/healthz/ready delay=1s timeout=1s period=2s #success=1 #failure=30\n",
      "    Environment:\n",
      "      JWT_POLICY:                first-party-jwt\n",
      "      PILOT_CERT_PROVIDER:       istiod\n",
      "      CA_ADDR:                   istiod.istio-system.svc:15012\n",
      "      NODE_NAME:                  (v1:spec.nodeName)\n",
      "      POD_NAME:                   (v1:metadata.name)\n",
      "      POD_NAMESPACE:              (v1:metadata.namespace)\n",
      "      INSTANCE_IP:                (v1:status.podIP)\n",
      "      HOST_IP:                    (v1:status.hostIP)\n",
      "      SERVICE_ACCOUNT:            (v1:spec.serviceAccountName)\n",
      "      CANONICAL_SERVICE:          (v1:metadata.labels['service.istio.io/canonical-name'])\n",
      "      CANONICAL_REVISION:         (v1:metadata.labels['service.istio.io/canonical-revision'])\n",
      "      ISTIO_META_WORKLOAD_NAME:  istio-ingressgateway\n",
      "      ISTIO_META_OWNER:          kubernetes://apis/apps/v1/namespaces/istio-system/deployments/istio-ingressgateway\n",
      "      ISTIO_META_ROUTER_MODE:    standard\n",
      "      ISTIO_META_CLUSTER_ID:     Kubernetes\n",
      "    Mounts:\n",
      "      /etc/istio/config from config-volume (rw)\n",
      "      /etc/istio/ingressgateway-ca-certs from ingressgateway-ca-certs (ro)\n",
      "      /etc/istio/ingressgateway-certs from ingressgateway-certs (ro)\n",
      "      /etc/istio/pod from podinfo (rw)\n",
      "      /etc/istio/proxy from istio-envoy (rw)\n",
      "      /var/lib/istio/data from istio-data (rw)\n",
      "      /var/run/ingress_gateway from gatewaysdsudspath (rw)\n",
      "      /var/run/secrets/istio from istiod-ca-cert (rw)\n",
      "  Volumes:\n",
      "   istiod-ca-cert:\n",
      "    Type:      ConfigMap (a volume populated by a ConfigMap)\n",
      "    Name:      istio-ca-root-cert\n",
      "    Optional:  false\n",
      "   podinfo:\n",
      "    Type:  DownwardAPI (a volume populated by information about the pod)\n",
      "    Items:\n",
      "      metadata.labels -> labels\n",
      "      metadata.annotations -> annotations\n",
      "   istio-envoy:\n",
      "    Type:       EmptyDir (a temporary directory that shares a pod's lifetime)\n",
      "    Medium:     \n",
      "    SizeLimit:  <unset>\n",
      "   gatewaysdsudspath:\n",
      "    Type:       EmptyDir (a temporary directory that shares a pod's lifetime)\n",
      "    Medium:     \n",
      "    SizeLimit:  <unset>\n",
      "   istio-data:\n",
      "    Type:       EmptyDir (a temporary directory that shares a pod's lifetime)\n",
      "    Medium:     \n",
      "    SizeLimit:  <unset>\n",
      "   config-volume:\n",
      "    Type:      ConfigMap (a volume populated by a ConfigMap)\n",
      "    Name:      istio\n",
      "    Optional:  true\n",
      "   ingressgateway-certs:\n",
      "    Type:        Secret (a volume populated by a Secret)\n",
      "    SecretName:  istio-ingressgateway-certs\n",
      "    Optional:    true\n",
      "   ingressgateway-ca-certs:\n",
      "    Type:        Secret (a volume populated by a Secret)\n",
      "    SecretName:  istio-ingressgateway-ca-certs\n",
      "    Optional:    true\n",
      "Conditions:\n",
      "  Type           Status  Reason\n",
      "  ----           ------  ------\n",
      "  Available      True    MinimumReplicasAvailable\n",
      "  Progressing    True    NewReplicaSetAvailable\n",
      "OldReplicaSets:  istio-ingressgateway-6cfd75fc57 (1/1 replicas created)\n",
      "NewReplicaSet:   <none>\n",
      "Events:\n",
      "  Type    Reason             Age   From                   Message\n",
      "  ----    ------             ----  ----                   -------\n",
      "  Normal  ScalingReplicaSet  23s   deployment-controller  Scaled up replica set istio-ingressgateway-6cfd75fc57 to 1\n"
     ]
    }
   ],
   "source": [
    "kubectl describe deploy istio-ingressgateway -n istio-system"
   ]
  },
  {
   "cell_type": "markdown",
   "metadata": {},
   "source": [
    "Procure pela configuração `Containers` e encontrará o istio-proxy com a imagem docker.io/istio/proxyv2:1.7.4, mas note que há apenas um container e não dois como nas nossas aplicações, isto é claro porque aqui a aplicação é o proxy.\n",
    "\n",
    "Vamos verificar o serviço para identificar como acessar o gateway."
   ]
  },
  {
   "cell_type": "code",
   "execution_count": 5,
   "metadata": {},
   "outputs": [
    {
     "name": "stdout",
     "output_type": "stream",
     "text": [
      "NAME                   TYPE           CLUSTER-IP     EXTERNAL-IP   PORT(S)                                                                      AGE\n",
      "istio-ingressgateway   LoadBalancer   10.96.65.203   localhost     15021:32739/TCP,80:32582/TCP,443:30158/TCP,31400:31744/TCP,15443:30066/TCP   28s\n"
     ]
    }
   ],
   "source": [
    "kubectl get svc -l \"app=istio-ingressgateway\" -n istio-system"
   ]
  },
  {
   "cell_type": "markdown",
   "metadata": {},
   "source": [
    "O ingress gateway do Istio tem um serviço do tipo _LoadBalancer_ com uma série de portas configuradas e, no caso do docker-desktop, o IP externo é o `localhost`.\n",
    "\n",
    "Vamos tentar acessá-lo: [http://localhost:80](http://localhost:80)\n",
    "\n",
    "Claro que ainda não configuramos nenhum _VirtualService_ para utilizar esse gateway. Vamos configurar o front-end para utilizá-lo. "
   ]
  },
  {
   "cell_type": "markdown",
   "metadata": {},
   "source": [
    "## Configurando um ingress _gateway_"
   ]
  },
  {
   "cell_type": "code",
   "execution_count": 10,
   "metadata": {},
   "outputs": [
    {
     "name": "stdout",
     "output_type": "stream",
     "text": [
      "gateway.networking.istio.io/default-gateway created\n"
     ]
    }
   ],
   "source": [
    "kubectl apply -f exemplos/simul-shop/istio/10/default-gateway.yaml"
   ]
  },
  {
   "cell_type": "markdown",
   "metadata": {},
   "source": [
    "Vamos tentar acessar novamente, mas dessa vez vamos utilizar o comando `curl`"
   ]
  },
  {
   "cell_type": "code",
   "execution_count": 12,
   "metadata": {},
   "outputs": [
    {
     "name": "stdout",
     "output_type": "stream",
     "text": [
      "*   Trying ::1...\n",
      "* TCP_NODELAY set\n",
      "* Connected to localhost (::1) port 80 (#0)\n",
      "> GET / HTTP/1.1\n",
      "> Host: localhost\n",
      "> User-Agent: curl/7.64.1\n",
      "> Accept: */*\n",
      "> \n",
      "< HTTP/1.1 200 OK\n",
      "< date: Wed, 25 Nov 2020 23:15:50 GMT\n",
      "< server: istio-envoy\n",
      "< content-length: 108\n",
      "< content-type: application/json\n",
      "< x-envoy-upstream-service-time: 47\n",
      "< \n",
      "* Connection #0 to host localhost left intact\n",
      "{\"name\":\"greetings\",\"description\":\"Hi there!\",\"app\":\"front-end\",\"version\":\"v1\",\"when\":\"2020-11-25 23:15:51\"}* Closing connection 0\n"
     ]
    }
   ],
   "source": [
    "curl -v http://localhost"
   ]
  },
  {
   "cell_type": "markdown",
   "metadata": {},
   "source": [
    "Agora retornou o erro _404 Not Found_ pelo _server: istio-envoy_, o que indica que alcançamos o gateway, mas não há configuração nele pra indicar para onde deve ir a requisição.\n",
    "\n",
    "Vamos configurar o [front-end VirtualService](exemplos/simul-shop/istio/10/front-end-with-gateway.yaml) para utilizar esse _gateway_."
   ]
  },
  {
   "cell_type": "code",
   "execution_count": 7,
   "metadata": {},
   "outputs": [
    {
     "name": "stdout",
     "output_type": "stream",
     "text": [
      "virtualservice.networking.istio.io/front-end created\n"
     ]
    }
   ],
   "source": [
    "kubectl apply -f exemplos/simul-shop/istio/10/front-end-with-gateway.yaml"
   ]
  },
  {
   "cell_type": "markdown",
   "metadata": {},
   "source": [
    "Vamos tentar novamente."
   ]
  },
  {
   "cell_type": "code",
   "execution_count": 13,
   "metadata": {},
   "outputs": [
    {
     "name": "stdout",
     "output_type": "stream",
     "text": [
      "*   Trying ::1...\n",
      "* TCP_NODELAY set\n",
      "* Connected to localhost (::1) port 80 (#0)\n",
      "> GET / HTTP/1.1\n",
      "> Host: localhost\n",
      "> User-Agent: curl/7.64.1\n",
      "> Accept: */*\n",
      "> \n",
      "< HTTP/1.1 200 OK\n",
      "< date: Wed, 25 Nov 2020 23:16:02 GMT\n",
      "< server: istio-envoy\n",
      "< content-length: 108\n",
      "< content-type: application/json\n",
      "< x-envoy-upstream-service-time: 6\n",
      "< \n",
      "* Connection #0 to host localhost left intact\n",
      "{\"name\":\"greetings\",\"description\":\"Hi there!\",\"app\":\"front-end\",\"version\":\"v1\",\"when\":\"2020-11-25 23:16:02\"}* Closing connection 0\n"
     ]
    }
   ],
   "source": [
    "curl -v http://localhost"
   ]
  },
  {
   "cell_type": "markdown",
   "metadata": {},
   "source": [
    "Sucesso, nossa requisição fez todo o caminho de fora do cluster, passando pelo serviço do kubernetes (LoadBalancer), alcançou o POD do gateway (istio-ingressgateway) e com as configurações de _Gateway_ e _VirtualService_ chegou até o POD da nossa aplicação (onde passou pelo container do istio-proxy e finalmente o container da aplicação)."
   ]
  },
  {
   "cell_type": "markdown",
   "metadata": {},
   "source": [
    "Podemos gerar tráfego acessando o serviço da nossa máquina, execute o script [scripts/call-local.sh](scripts/call-local.sh) em um terminal.\n",
    "\n",
    "Vamos verificar como o kiali exibe essa configuração.\n",
    "\n",
    "> Para acessar o kiali - <http://localhost:20001>, caso não abra automaticamente."
   ]
  },
  {
   "cell_type": "code",
   "execution_count": null,
   "metadata": {},
   "outputs": [],
   "source": [
    "# Caso já não esteja em execução\n",
    "istioctl dashboard kiali &\n",
    "export KIALI_PID=$!"
   ]
  },
  {
   "cell_type": "markdown",
   "metadata": {},
   "source": [
    "![kiali exibindo o istio ingress](media/kiali-istio-ingress.png)\n",
    "\n",
    "Agora conseguimos ver a origem das nossas requisições com uma pequena modificação no _VirtualService_. O Istio separa as configurações do _gateway_ (L3/L4) das configurações das rotas (L7), com isso podemos reaproveitá-las para vários _VitrualServices_.\n",
    "\n",
    "Você pode combinar todas as configurações que fizemos até agora e adicionar o _gateway_ para receber tráfego externo. Aplique a configuração [exemplos/simul-shop/istio/10/front-end-canary-release-with-gateway.yaml](exemplos/simul-shop/istio/10/front-end-canary-release-with-gateway.yaml) e teste ([scripts/call-local.sh](scripts/call-local.sh)) para verificar o resultado da nossa implantação canário."
   ]
  },
  {
   "cell_type": "markdown",
   "metadata": {},
   "source": [
    "### Configurando um domínio para o ingress\n",
    "\n",
    "Utilizamos um caracter curinga, mas em produção iremos configurar um domínio para o ingress e certificados TLS para torná-lo seguro.\n",
    "\n",
    "Vamos modificar as configurações para utilizar um domínio, mas como não temos um, iremos simular.\n",
    "\n",
    "Há duas maneiras de fazê-lo, adicionando uma entrada em seu arquivo de hosts (linux e mac `/etc/hosts`, windows `C:\\Windows\\System32\\drivers\\etc\\hosts` ou passar como parâmetros para o comando `curl -H \"Host: www.simul-shop.com\" --resolve \"www.simul-shop.com:443:127.0.0.1`.\n",
    "\n",
    "Faremos os dois, adicionaremos no arquivo de hosts e em outros exemplos usaremos o parâmetro `resolve`.\n",
    "\n",
    "```hosts\n",
    "127.0.0.1   simul-shop.com www.simul-shop.com\n",
    "```\n",
    "\n",
    "Salve o arquivo e verifique `ping www.simul-shop.com`, deve resolver para 127.0.0.1.\n",
    "\n",
    "Agora vamos remover as configurações do Istio que fizemos anteriormente e aplicar as novas:"
   ]
  },
  {
   "cell_type": "code",
   "execution_count": 14,
   "metadata": {},
   "outputs": [
    {
     "name": "stdout",
     "output_type": "stream",
     "text": [
      "virtualservice.networking.istio.io \"front-end\" deleted\n",
      "deployment.apps/front-end-v2 created\n",
      "gateway.networking.istio.io/default-gateway configured\n",
      "virtualservice.networking.istio.io/front-end created\n",
      "destinationrule.networking.istio.io/front-end-drs created\n"
     ]
    }
   ],
   "source": [
    "# Remover a configuração do front-end\n",
    "kubectl delete -f exemplos/simul-shop/istio/10/front-end-with-gateway.yaml\n",
    "\n",
    "# Aplicar novamente a versão v2 do front-end\n",
    "kubectl apply -f exemplos/simul-shop/manifests/8/front-end-deployment-v2.yaml\n",
    "\n",
    "# Aplicar a configuração do gateway\n",
    "kubectl apply -f exemplos/simul-shop/istio/10/default-gateway-with-domain.yaml\n",
    "\n",
    "# Aplicar a configuração da implantação canário\n",
    "kubectl apply -f exemplos/simul-shop/istio/10/front-end-canary-release-with-gateway.yaml"
   ]
  },
  {
   "cell_type": "markdown",
   "metadata": {},
   "source": [
    "Agora podemos testar, no terminal, sem a necessidade de usar o login container, se ainda estiver aberto, saia com o comando `exit`e execute o script [scripts/call-simul-shop.sh](scripts/call-simul-shop.sh).\n",
    "\n",
    "No kiali devemos ter algo parecido com isso:\n",
    "\n",
    "![kiali gateway with canary release.png](media/kiali-gateway-with-canary.png)"
   ]
  },
  {
   "cell_type": "markdown",
   "metadata": {},
   "source": [
    "### Dica pro\n",
    "\n",
    "É comum configurar apenas um gateway padrão (default-gateway) para todo o cluster, mas essa prática trás alguns problemas, veremos isso quando configurarmos rotas por caminho.\n",
    "\n",
    "Se você divide o cluster com outros desenvolvedores é bem provável que eles irão criar configurações para o Istio sem avisá-lo, o que pode causar conflitos. Configurações conflitantes serão avaliadas na ordem em que forem aplicadas, ou seja, a última irá prevalecer.\n",
    "\n",
    "Uma dica é ter mais de um ingress, em clusters compartilhados você pode criar um por _namespace_, por exemplo, ou criar ingress dedicados para uma finalidade ou FQDN."
   ]
  },
  {
   "cell_type": "markdown",
   "metadata": {},
   "source": [
    "## Acessando serviços fora da malha\n",
    "\n",
    "O Istio mantém um registro de todos os serviços utilizando as APIs do kubernetes para fazer a auto-descoberta dos serviços. O Istio oferecer suporte à descoberta para vários ambientes, como Kubernetes, Consul ou VMs.\n",
    "\n",
    "Porém, serviços que estão fora da malha não serão descobertos e é onde entra o _ServiceEntry_.\n",
    "\n",
    "O _ServiceEntry_ permite adicionar entradas adicionais ao registro de serviço interno do Istio, para que os serviços de auto-descoberta na malha possam acessa-los e rotea-los.\n",
    "\n",
    "Como o nosso serviço genérico funciona invocando qualquer url, interna ou externa, vamos modificar o `order` para invocar um serviço externo.\n",
    "\n",
    "Para criar um serviço externo, iremos configurar um _generic service_ em um _namespace_ que não tem o rótulo de injeção do _sidecar_ do Istio, ou seja, criaremos um POD sem o istio-proxy."
   ]
  },
  {
   "cell_type": "code",
   "execution_count": 15,
   "metadata": {},
   "outputs": [
    {
     "name": "stdout",
     "output_type": "stream",
     "text": [
      "namespace/financial created\n",
      "deployment.apps/credit created\n",
      "service/credit created\n",
      "deployment.apps/orders configured\n"
     ]
    }
   ],
   "source": [
    "# Cria o serviço credit no namespace financial\n",
    "kubectl apply -f exemplos/simul-shop/manifests/10/credit-deployment.yaml\n",
    "\n",
    "# Modificando o order para invocar serviço externo\n",
    "kubectl apply -f exemplos/simul-shop/manifests/10/orders-deployment-external-api.yaml"
   ]
  },
  {
   "cell_type": "markdown",
   "metadata": {},
   "source": [
    "Vamos para o [kiali](http://localhost:20001) verificar como ficou essa configuração, mas antes precisaremos de tráfego, execute o [scripts/call-simul-shop.sh](scripts/call-simul-shop.sh) em um terminal.\n",
    "\n",
    "![kiali istio egress](media/kiali-istio-without-serviceentry.png)\n",
    "\n",
    "Sem as configurações do Istio, o kiali exibe o tráfego de saída como um \"buraco negro\", um _PassthroughCluster_ porque ele não infere sobre o destino. Isso será válido para quantos serviços externos forem chamado, fazendo com que várias linhas convertam para o mesmo ponto.\n",
    "\n",
    "Agora vamos adicionar algumas [configurações](exemplos/simul-shop/istio/credit-serviceentry.yaml) de saída."
   ]
  },
  {
   "cell_type": "code",
   "execution_count": 16,
   "metadata": {},
   "outputs": [
    {
     "name": "stdout",
     "output_type": "stream",
     "text": [
      "serviceentry.networking.istio.io/credit-svc-ext created\n"
     ]
    }
   ],
   "source": [
    "kubectl apply -f exemplos/simul-shop/istio/10/credit-serviceentry.yaml"
   ]
  },
  {
   "cell_type": "markdown",
   "metadata": {},
   "source": [
    "Com a configuração do _ServiceEntry_ adicionamos ao registro de serviços do Istio o nosso serviço de crédito, isso possibilia que o Kiali exiba como um destino conhecido.\n",
    "\n",
    "![](media/kiali-istio-with-serviceentry.png)"
   ]
  },
  {
   "cell_type": "markdown",
   "metadata": {},
   "source": [
    "## Configurando um gateway de saída (egress)\n",
    "\n",
    "Os gateways são usados principalmente para gerenciar o tráfego de entrada, mas você também pode configurar _gateways_ de saída. Um gateway de saída permite configurar nós de saída dedicados para o tráfego que sai da malha, permitindo limitar quais serviços podem ou devem acessar redes externas ou habilitar o controle seguro do tráfego de saída para adicionar segurança à malha.\n",
    "\n",
    "Considere uma organização que tem um requisito de segurança estrito de que todo o tráfego que sai da malha de serviço deve fluir por meio de um conjunto de nós dedicados. Esses nós serão executados em máquinas dedicadas, separados do resto dos nós que executam aplicativos no cluster. Esses nós especiais servirão para aplicação de política no tráfego de saída e serão monitorados de forma mais completa do que outros nós.\n",
    "\n",
    "Outro caso de uso é um cluster onde os nós do aplicativo não têm IPs públicos, de modo que os serviços em malha executados neles não podem acessar a Internet.\n",
    "\n",
    "A figura abaixo ilustra como configuraremos o nosso gateway:\n",
    "\n",
    "![configuração do egress](media/egress-config.png)\n",
    "\n",
    "Nesta [configuração](exemplos/simul-shop/istio/10/egress-example-credit.yaml) temos:\n",
    "\n",
    "* Definir o serviço externo através de um _ServiceEntry_;\n",
    "* Configurar um _gateway_ de saída\n",
    "* Configurar um _VirtualService_ para redirecionar o tráfego do _sidecar_ para o egress\n",
    "\n",
    "Mas antes de aplicá-lo, vamos remover o que fizemos até agora, deixando apenas o serviço `credit`."
   ]
  },
  {
   "cell_type": "code",
   "execution_count": 17,
   "metadata": {},
   "outputs": [
    {
     "name": "stdout",
     "output_type": "stream",
     "text": [
      "deployment.apps \"front-end\" deleted\n",
      "deployment.apps \"login\" deleted\n",
      "deployment.apps \"catalogue\" deleted\n",
      "deployment.apps \"orders\" deleted\n",
      "deployment.apps \"orders-db\" deleted\n",
      "deployment.apps \"shipping\" deleted\n",
      "deployment.apps \"queue\" deleted\n",
      "deployment.apps \"cart\" deleted\n",
      "deployment.apps \"cart-db\" deleted\n",
      "deployment.apps \"payment\" deleted\n",
      "deployment.apps \"accounts\" deleted\n",
      "deployment.apps \"accounts-db\" deleted\n",
      "service \"front-end\" deleted\n",
      "service \"login\" deleted\n",
      "service \"catalogue\" deleted\n",
      "service \"accounts\" deleted\n",
      "service \"accounts-db\" deleted\n",
      "service \"cart\" deleted\n",
      "service \"cart-db\" deleted\n",
      "service \"orders\" deleted\n",
      "service \"orders-db\" deleted\n",
      "service \"shipping\" deleted\n",
      "service \"queue\" deleted\n",
      "service \"payment\" deleted\n",
      "deployment.apps \"front-end-v2\" deleted\n",
      "Error from server (NotFound): error when deleting \"exemplos/simul-shop/manifests/9/front-end-deployment-v3.yaml\": deployments.apps \"front-end-v3\" not found\n",
      "virtualservice.networking.istio.io \"front-end\" deleted\n",
      "destinationrule.networking.istio.io \"front-end-drs\" deleted\n",
      "gateway.networking.istio.io \"default-gateway\" deleted\n",
      "serviceentry.networking.istio.io \"credit-svc-ext\" deleted\n",
      "Error from server (NotFound): error when deleting \"exemplos/simul-shop/manifests/10/orders-deployment-external-api.yaml\": deployments.apps \"orders\" not found\n"
     ]
    },
    {
     "ename": "",
     "evalue": "1",
     "output_type": "error",
     "traceback": []
    }
   ],
   "source": [
    "# Alguns podem retornar que não encontraram o recurso\n",
    "kubectl delete -f exemplos/simul-shop/manifests/4\n",
    "\n",
    "kubectl delete -f exemplos/simul-shop/manifests/8/front-end-deployment-v2.yaml\n",
    "\n",
    "kubectl delete -f exemplos/simul-shop/manifests/9/front-end-deployment-v3.yaml\n",
    "\n",
    "kubectl delete -f exemplos/simul-shop/istio/10/front-end-canary-release-with-gateway.yaml\n",
    "\n",
    "kubectl delete -f exemplos/simul-shop/istio/10/default-gateway-with-domain.yaml\n",
    "\n",
    "kubectl delete -f exemplos/simul-shop/istio/10/credit-serviceentry.yaml\n",
    "\n",
    "kubectl delete -f exemplos/simul-shop/manifests/10/orders-deployment-external-api.yaml"
   ]
  },
  {
   "cell_type": "markdown",
   "metadata": {},
   "source": [
    "Conferindo se tudo foi excluído"
   ]
  },
  {
   "cell_type": "code",
   "execution_count": 18,
   "metadata": {},
   "outputs": [
    {
     "name": "stdout",
     "output_type": "stream",
     "text": [
      "NAME                 TYPE        CLUSTER-IP   EXTERNAL-IP   PORT(S)   AGE\n",
      "service/kubernetes   ClusterIP   10.96.0.1    <none>        443/TCP   13d\n",
      "NAME                     READY   UP-TO-DATE   AVAILABLE   AGE\n",
      "deployment.apps/credit   1/1     1            1           115s\n",
      "\n",
      "NAME             TYPE        CLUSTER-IP      EXTERNAL-IP   PORT(S)    AGE\n",
      "service/credit   ClusterIP   10.110.44.106   <none>        8000/TCP   115s\n",
      "No resources found in istio-system namespace.\n"
     ]
    }
   ],
   "source": [
    "# Namespace default - somente o serviço do kuberentes\n",
    "kubectl get deploy,svc,gateway,vs,dr\n",
    "\n",
    "# Namespace financial - nenhum recurso\n",
    "kubectl get deploy,svc,gateway,vs,dr -n financial\n",
    "\n",
    "# Namespace istio-system - nenhum recurso\n",
    "kubectl get gateway,vs,dr -n istio-system"
   ]
  },
  {
   "cell_type": "markdown",
   "metadata": {},
   "source": [
    "Agora vamos aplicar uma nova configuração:\n",
    "\n",
    "* Cliente para chamar o serviço credit\n",
    "* Serviço credit fora da malha\n",
    "* Configuração do Gateway, ServiceEntry e VirtualService.\n",
    "* Execução da carga\n",
    "* Validação e análise no kiali"
   ]
  },
  {
   "cell_type": "code",
   "execution_count": 19,
   "metadata": {},
   "outputs": [
    {
     "name": "stdout",
     "output_type": "stream",
     "text": [
      "serviceaccount/sleep created\n",
      "service/sleep created\n",
      "deployment.apps/sleep created\n",
      "namespace/financial unchanged\n",
      "deployment.apps/credit unchanged\n",
      "service/credit unchanged\n",
      "serviceentry.networking.istio.io/credit-svc-ext created\n",
      "gateway.networking.istio.io/istio-egressgateway created\n",
      "virtualservice.networking.istio.io/direct-credit-through-egress-gateway created\n",
      "destinationrule.networking.istio.io/egressgateway-for-credit created\n"
     ]
    }
   ],
   "source": [
    "# Cliente\n",
    "kubectl apply -f istio-1.8.0/samples/sleep/sleep.yaml\n",
    "\n",
    "# Serviço credit\n",
    "kubectl apply -f exemplos/simul-shop/manifests/10/credit-deployment.yaml\n",
    "\n",
    "# Configuração Gateway, ServiceEntry e VirtualService.\n",
    "kubectl apply -f exemplos/simul-shop/istio/10/egress-example-credit.yaml"
   ]
  },
  {
   "cell_type": "markdown",
   "metadata": {},
   "source": [
    "E executar chamadas para o serviço em um terminal ([scripts/call-credit.sh](scripts/call-credit.sh))\n",
    "\n",
    "```bash\n",
    "export SOURCE_POD=$(kubectl get pod -l app=sleep -o jsonpath={.items..metadata.name})\n",
    "\n",
    "while true                                                            \n",
    "do\n",
    "kubectl exec \"$SOURCE_POD\" -c sleep -- curl -sL -D - http://credit.financial/\n",
    "echo\n",
    "sleep 1\n",
    "done\n",
    "```\n",
    "\n",
    "> copie e cole todo o conteúdo em um terminal.\n",
    "\n",
    "Vamos verificar como ficou no kiali. Selecione os três _namespaces_ (default, financial, istio-system)\n",
    "\n",
    "O gráfico de _app_:\n",
    "\n",
    "![kiali com a configuração do egress para credit](media/kiali-egress-credit.png)\n",
    "\n",
    "E a configuração:\n",
    "\n",
    "![kiali com a configuração do egress para credit](media/kiali-config-egress-credit.png)\n",
    "\n",
    "### Considerações\n",
    "\n",
    "Não iremos manter a configuração de egress para a nossa aplicação, como discutido no início da seção, se você não tem um requisito para restringir todo tráfego de saída, não há necessidade dessa configuração, ao contrário do _ServiceEntry_ que manteremos porque auxilia no entendimento da malha e, como veremos nas próximas seções, poderemos aplicar políticas.\n",
    "\n",
    "Então, vamos apagar os recursos e reinstalar a nossa aplicação, mais uma vez, mantermos o serivço de crédito e a aplicação sleep para chamar serviços utilizando o curl de dentro do cluster, mas removeremos a configuração do _gateway_ externo.\n",
    "\n",
    "Pode para a execução das chamadas od serviço no terminal."
   ]
  },
  {
   "cell_type": "code",
   "execution_count": 20,
   "metadata": {},
   "outputs": [
    {
     "name": "stdout",
     "output_type": "stream",
     "text": [
      "Error from server (NotFound): error when deleting \"exemplos/simul-shop/istio/10/egress-example-credit.yaml\": serviceentries.networking.istio.io \"credit-svc-ext\" not found\n",
      "Error from server (NotFound): error when deleting \"exemplos/simul-shop/istio/10/egress-example-credit.yaml\": gateways.networking.istio.io \"istio-egressgateway\" not found\n",
      "Error from server (NotFound): error when deleting \"exemplos/simul-shop/istio/10/egress-example-credit.yaml\": virtualservices.networking.istio.io \"direct-credit-through-egress-gateway\" not found\n",
      "Error from server (NotFound): error when deleting \"exemplos/simul-shop/istio/10/egress-example-credit.yaml\": destinationrules.networking.istio.io \"egressgateway-for-credit\" not found\n"
     ]
    },
    {
     "ename": "",
     "evalue": "1",
     "output_type": "error",
     "traceback": []
    }
   ],
   "source": [
    "# Configuração Gateway, ServiceEntry e VirtualService.\n",
    "kubectl delete -f exemplos/simul-shop/istio/10/egress-example-credit.yaml"
   ]
  },
  {
   "cell_type": "markdown",
   "metadata": {},
   "source": [
    "## Configurando segurança (TLS) para o ingress\n",
    "\n",
    "Até agora todas as nossas requisições foram HTTP, está na hora de subir a régua e configurar o nosso ingress para que as requisições sejam realizadas de forma segura, ou seja, HTTPS. Consulte também a [documentação](https://istio.io/latest/docs/tasks/traffic-management/ingress/secure-ingress/#configure-a-tls-ingress-gateway-for-a-single-host) do Istio para mais informações.\n",
    "\n",
    "A primeira coisa que precisamos é obter um certificado para o nosso domínio, há diversas maneiras de obtê-los, iremos criar o nosso, também chamado de auto-gerado.\n",
    "\n",
    "Nosso dominio será www.simul-shop.com."
   ]
  },
  {
   "cell_type": "code",
   "execution_count": null,
   "metadata": {},
   "outputs": [],
   "source": [
    "# root certificate\n",
    "openssl req -x509 -sha256 -nodes -days 365 \\\n",
    "    -newkey rsa:2048 \\\n",
    "    -subj '/O=simul-shop Inc./CN=simul-shop.com' \\\n",
    "    -keyout exemplos/simul-shop/certs/simul-shop.com.key \\\n",
    "    -out exemplos/simul-shop/certs/simul-shop.com.crt\n",
    "\n",
    "# certificate and a private key\n",
    "openssl req -out exemplos/simul-shop/certs/www.simul-shop.com.csr \\\n",
    "    -newkey rsa:2048 -nodes \\\n",
    "    -keyout exemplos/simul-shop/certs/www.simul-shop.com.key \\\n",
    "    -subj \"/CN=www.simul-shop.com/O=www organization\"\n",
    "\n",
    "openssl x509 -req -days 365 \\\n",
    "    -CA exemplos/simul-shop/certs/simul-shop.com.crt \\\n",
    "    -CAkey exemplos/simul-shop/certs/simul-shop.com.key \\\n",
    "    -set_serial 0 \\\n",
    "    -in exemplos/simul-shop/certs/www.simul-shop.com.csr \\\n",
    "    -out exemplos/simul-shop/certs/www.simul-shop.com.crt"
   ]
  },
  {
   "cell_type": "markdown",
   "metadata": {},
   "source": [
    "Criaremos um _Secret_ para armazenar o certificado"
   ]
  },
  {
   "cell_type": "code",
   "execution_count": 14,
   "metadata": {},
   "outputs": [
    {
     "name": "stdout",
     "output_type": "stream",
     "text": [
      "secret/www-simul-shop-credential created\n"
     ]
    }
   ],
   "source": [
    "kubectl create -n istio-system secret tls \\\n",
    "    www-simul-shop-credential \\\n",
    "    --key=exemplos/simul-shop/certs/www.simul-shop.com.key \\\n",
    "    --cert=exemplos/simul-shop/certs/www.simul-shop.com.crt"
   ]
  },
  {
   "cell_type": "code",
   "execution_count": 16,
   "metadata": {},
   "outputs": [],
   "source": [
    "# Opcional: Salve o secret um arquvio yaml. Remova os campos gerados pelo kubernetes\n",
    "kubectl get secret/www-simul-shop-credential -n istio-system -o yaml > exemplos/simul-shop/templates/secret.yaml"
   ]
  },
  {
   "cell_type": "code",
   "execution_count": 9,
   "metadata": {},
   "outputs": [
    {
     "name": "stdout",
     "output_type": "stream",
     "text": [
      "Warning: kubectl apply should be used on resource created by either kubectl create --save-config or kubectl apply\n",
      "secret/www-simul-shop-credential configured\n"
     ]
    }
   ],
   "source": [
    "# Opcional: A pode aplicá-lo quando necessário\n",
    "kubectl apply -f exemplos/simul-shop/templates/secret.yaml"
   ]
  },
  {
   "cell_type": "markdown",
   "metadata": {},
   "source": [
    "### Let's encrypt\n",
    "\n",
    "Ref: <https://istio.io/latest/docs/ops/integrations/certmanager/>\n",
    "\n",
    "[cert-manager](https://cert-manager.io/) is a tool that automates certificate management. This can be integrated with Istio gateways to manage TLS certificates.\n",
    "\n",
    "Consult the [cert-manager installation documentation](https://cert-manager.io/docs/installation/kubernetes/) to get started. No special changes are needed to work with Istio."
   ]
  },
  {
   "cell_type": "code",
   "execution_count": null,
   "metadata": {},
   "outputs": [],
   "source": [
    "certbot certonly --manual \\\n",
    "  --preferred-challenges=dns \\\n",
    "  --email adsantos@gmail.com \\\n",
    "  --agree-tos \\\n",
    "  --manual-public-ip-logging-ok \\\n",
    "  -d \"*.simul-shop.com\""
   ]
  },
  {
   "cell_type": "code",
   "execution_count": null,
   "metadata": {},
   "outputs": [],
   "source": [
    "kubectl create -n istio-system secret tls \\\n",
    "    www-simul-shop-credential-le \\\n",
    "    --key=exemplos/simul-shop/certs/letsencrypt/simul-shop.com/privkey.pem \\\n",
    "    --cert=exemplos/simul-shop/certs/letsencrypt/simul-shop.com/cert.pem"
   ]
  },
  {
   "cell_type": "markdown",
   "metadata": {},
   "source": [
    "Vamos [configurar](exemplos/simul-shop/istio/10/default-gateway-with-domain-tls.yaml) o certificado no nosso gateway"
   ]
  },
  {
   "cell_type": "code",
   "execution_count": 17,
   "metadata": {},
   "outputs": [
    {
     "name": "stdout",
     "output_type": "stream",
     "text": [
      "gateway.networking.istio.io/default-gateway unchanged\n"
     ]
    }
   ],
   "source": [
    "kubectl apply -f exemplos/simul-shop/istio/10/default-gateway-with-domain-tls.yaml"
   ]
  },
  {
   "cell_type": "markdown",
   "metadata": {},
   "source": [
    "Agora vamos implantar a aplicação e o [VirtualService](exemplos/simul-shop/istio/front-end-with-gateway-domain-tls.yaml) para o front-end."
   ]
  },
  {
   "cell_type": "code",
   "execution_count": 18,
   "metadata": {},
   "outputs": [
    {
     "name": "stdout",
     "output_type": "stream",
     "text": [
      "deployment.apps/front-end unchanged\n",
      "deployment.apps/login unchanged\n",
      "deployment.apps/catalogue unchanged\n",
      "deployment.apps/orders unchanged\n",
      "deployment.apps/orders-db unchanged\n",
      "deployment.apps/shipping unchanged\n",
      "deployment.apps/queue unchanged\n",
      "deployment.apps/cart unchanged\n",
      "deployment.apps/cart-db unchanged\n",
      "deployment.apps/payment unchanged\n",
      "deployment.apps/accounts unchanged\n",
      "deployment.apps/accounts-db unchanged\n",
      "deployment.apps/credit unchanged\n",
      "service/front-end unchanged\n",
      "service/login unchanged\n",
      "service/catalogue unchanged\n",
      "service/accounts unchanged\n",
      "service/accounts-db unchanged\n",
      "service/cart unchanged\n",
      "service/cart-db unchanged\n",
      "service/orders unchanged\n",
      "service/orders-db unchanged\n",
      "service/shipping unchanged\n",
      "service/queue unchanged\n",
      "service/payment unchanged\n",
      "service/credit unchanged\n",
      "virtualservice.networking.istio.io/front-end unchanged\n"
     ]
    }
   ],
   "source": [
    "# Aplicação\n",
    "kubectl apply -f exemplos/simul-shop/manifests/4/\n",
    "\n",
    "# VirtualService\n",
    "kubectl apply -f exemplos/simul-shop/istio/10/front-end-with-gateway-domain-tls.yaml"
   ]
  },
  {
   "cell_type": "code",
   "execution_count": 19,
   "metadata": {},
   "outputs": [
    {
     "name": "stdout",
     "output_type": "stream",
     "text": [
      "NAME                           READY   STATUS    RESTARTS   AGE\n",
      "accounts-cf56bfbbf-82hp2       2/2     Running   0          28m\n",
      "accounts-db-575bc4b988-b9cp7   2/2     Running   0          28m\n",
      "cart-6d759c5877-6rfcn          2/2     Running   0          28m\n",
      "cart-db-55cf6d698b-zqs9l       2/2     Running   0          28m\n",
      "catalogue-79bf68666d-fq8ql     2/2     Running   0          28m\n",
      "front-end-7b9cf646ff-5b85z     2/2     Running   0          28m\n",
      "login-58797dddfb-g9988         2/2     Running   0          28m\n",
      "orders-79968bbd6d-rx7dv        2/2     Running   0          28m\n",
      "orders-db-74cb77df65-2fmrt     2/2     Running   0          28m\n",
      "payment-65b9c749df-qstlj       2/2     Running   0          28m\n",
      "queue-5cfb4bb5c8-8frw9         2/2     Running   0          28m\n",
      "shipping-5c5cb8d5d5-7ntl6      2/2     Running   0          28m\n",
      "sleep-854565cb79-9jdw6         2/2     Running   6          3d18h\n"
     ]
    }
   ],
   "source": [
    "# Verificando a situação da implantação. Esperar até que todos estejam Running\n",
    "kubectl get pods"
   ]
  },
  {
   "cell_type": "markdown",
   "metadata": {},
   "source": [
    "Vamos aguardar alguns minutos e realizar um teste. Execute o script [scripts/call-simul-shop-tls.sh](scripts/call-simul-shop-tls.sh) em um terminal.\n",
    "\n",
    "Se tudo estiver OK, o resultado será:\n",
    "\n",
    "```bash\n",
    "* Couldn't parse CURLOPT_RESOLVE entry 'www.simul-shop.com:443:'!\n",
    "*   Trying 127.0.0.1...\n",
    "* TCP_NODELAY set\n",
    "* Connected to www.simul-shop.com (127.0.0.1) port 443 (#0)\n",
    "* ALPN, offering h2\n",
    "* ALPN, offering http/1.1\n",
    "* successfully set certificate verify locations:\n",
    "*   CAfile: simul-shop.com.crt\n",
    "  CApath: none\n",
    "* TLSv1.2 (OUT), TLS handshake, Client hello (1):\n",
    "* TLSv1.2 (IN), TLS handshake, Server hello (2):\n",
    "* TLSv1.2 (IN), TLS handshake, Certificate (11):\n",
    "* TLSv1.2 (IN), TLS handshake, Server key exchange (12):\n",
    "* TLSv1.2 (IN), TLS handshake, Server finished (14):\n",
    "* TLSv1.2 (OUT), TLS handshake, Client key exchange (16):\n",
    "* TLSv1.2 (OUT), TLS change cipher, Change cipher spec (1):\n",
    "* TLSv1.2 (OUT), TLS handshake, Finished (20):\n",
    "* TLSv1.2 (IN), TLS change cipher, Change cipher spec (1):\n",
    "* TLSv1.2 (IN), TLS handshake, Finished (20):\n",
    "* SSL connection using TLSv1.2 / ECDHE-RSA-CHACHA20-POLY1305\n",
    "* ALPN, server accepted to use h2\n",
    "* Server certificate:\n",
    "*  subject: CN=www.simul-shop.com; O=www organization\n",
    "*  start date: Nov 12 20:29:48 2020 GMT\n",
    "*  expire date: Nov 12 20:29:48 2021 GMT\n",
    "*  common name: www.simul-shop.com (matched)\n",
    "*  issuer: O=simul-shop Inc.; CN=simul-shop.com\n",
    "*  SSL certificate verify ok.\n",
    "* Using HTTP2, server supports multi-use\n",
    "* Connection state changed (HTTP/2 confirmed)\n",
    "* Copying HTTP/2 data in stream buffer to connection buffer after upgrade: len=0\n",
    "* Using Stream ID: 1 (easy handle 0x7fdb4800d600)\n",
    "> GET /s HTTP/2\n",
    "> Host:www.simul-shop.com\n",
    "> User-Agent: curl/7.64.1\n",
    "> Accept: */*\n",
    "> \n",
    "* Connection state changed (MAX_CONCURRENT_STREAMS == 2147483647)!\n",
    "< HTTP/2 200 \n",
    "< date: Thu, 12 Nov 2020 20:52:55 GMT\n",
    "< server: istio-envoy\n",
    "< content-length: 172\n",
    "< content-type: application/json\n",
    "< x-envoy-upstream-service-time: 163\n",
    "< \n",
    "* Connection #0 to host www.simul-shop.com left intact\n",
    "{\"name\":\"split\",\"description\":\"List ['http://login:8000/', 'http://catalogue:8000/', 'http://orders:8000/s']\",\"app\":\"front-end\",\"version\":\"v1\",\"when\":\"2020-11-12 20:53:23\"}* Closing connection 0\n",
    "```\n",
    "\n",
    "Você poderá acessar o front-end pelo navegador, mas como o certificado não foi assinado por uma autoridade conhecida pelo navegador, ele irá bloqueá-la.\n",
    "\n",
    "![erro certificado auto-assinado](media/front-end-certificate-error.png)"
   ]
  },
  {
   "cell_type": "markdown",
   "metadata": {},
   "source": [
    "## Conclusão\n",
    "\n",
    "_Gateways_ são _proxies_ implementados pelo Istio utilizando o Envoy que tem como função controlar a entrada e saída do tráfego de requisições da nossa malha, mas em resumo são Envoys que são configurados para lidar com as camadas de transporte a apresentaçõa ([modelo OSI](https://en.wikipedia.org/wiki/OSI_model)) e em conjunto com os _VirtualServices_, completam as configurações de gerenciamento de tráfego.\n",
    "\n",
    "Foi uma longa jornada até aqui, mas agora temos as ferramentas para configurar o Istio para atender diversos cenários e de forma segura, na próxima seção continuaremos explorarando o gerencimaento de tráfego e como resolver problemas complexos combinando as ferramentas que já temos."
   ]
  },
  {
   "cell_type": "code",
   "execution_count": null,
   "metadata": {},
   "outputs": [],
   "source": []
  }
 ],
 "metadata": {
  "kernelspec": {
   "display_name": "Bash",
   "language": "bash",
   "name": "bash"
  },
  "language_info": {
   "codemirror_mode": "shell",
   "file_extension": ".sh",
   "mimetype": "text/x-sh",
   "name": "bash"
  }
 },
 "nbformat": 4,
 "nbformat_minor": 4
}
