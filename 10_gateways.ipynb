{
 "cells": [
  {
   "cell_type": "markdown",
   "metadata": {},
   "source": [
    "# Gateways\n",
    "\n",
    "## O que são _gateways_ no Istio\n",
    "\n",
    "Os _gateways_ do Istio são aplicações independentes (Envoys) que controlam o tráfego das requisições. Eles as recebem, avaliam, criam logs e as redirecionam para dentro ou fora da malha de serviços.\n",
    "\n",
    "Até agora configuramos o Envoy que está junto com a nossa aplicação, agora precisaremos receber e enviar dados de/para fora do cluster.\n",
    "\n",
    "Há algumas formas de fazer isso, podemos configurar os [serviços do kubernetes](https://kubernetes.io/docs/concepts/services-networking/service/) (_LoadBalancer_ e _NodePort_), mas consumiríamos balanceadores de carga, que na nuvem são recursos pagos, podemos também configurar _NodePort_ para os nossos serviços, mas além de consumirem portas, não funcionariam porque as requisições seriam direcionadas para o POD e só então chegariam ao istio-proxy, dessa forma, o _NodePort_ iria direcionar uma fração para cada POD que fizer parte do seletor e só então as requisições alcançariam o _proxy_ do Istio.\n",
    "\n",
    "![balanceamento utilizando nodeport](media/k8s-nodeport-balance.png)\n",
    "\n",
    "Como ilustrado, somente 50% das requisições externas chegariam ao POD A, sendo assim, mesmo que configurassemos o _proxy_ para lidar com o tráfego, seria tarde demais.\n",
    "\n",
    "A solução é a adição de um _gateway_ ([ingress gateway](https://istio.io/latest/docs/tasks/traffic-management/ingress/#accessing-istio-service-mesh-by-a-browser)) que entenda as configurações do Istio e faça o trabalho de direcionar para os PODs. Para isso o Istio inclue um _gateway_ que é identico ao Envoy que utilizamos nas nossas aplicações.\n",
    "\n",
    "![balanceamento utilizando istio-ingressgateway](media/istio-ingress-balance.png)\n",
    "\n",
    "O Istio configura o Envoy em um POD independente para fazer o papel de Ingress (entrada) e outro para Egress (saída). Sendo o mesmo Envoy que está em execução com nossa aplicação, ele é configurado pelo Istio com o objetivo de direcionar o tráfego para os nossos _VirtualServices_, funcionando como um _proxy_ reverso.\n",
    "\n",
    "Vamos habilitá-los na nossa instalação."
   ]
  },
  {
   "cell_type": "code",
   "execution_count": null,
   "metadata": {},
   "outputs": [],
   "source": [
    "istioctl install --set profile=demo"
   ]
  },
  {
   "cell_type": "markdown",
   "metadata": {},
   "source": [
    "Você pode ver a diferença entre os perfís de instalação em [Istio - Installation Configuration Profiles](https://istio.io/latest/docs/setup/additional-setup/config-profiles/).\n",
    "\n",
    "Vamos verificar o que temos instalado."
   ]
  },
  {
   "cell_type": "code",
   "execution_count": null,
   "metadata": {},
   "outputs": [],
   "source": [
    "kubectl get pods -n istio-system"
   ]
  },
  {
   "cell_type": "markdown",
   "metadata": {},
   "source": [
    "Foram adicionados dois PODs, o istio-ingressgateway  e o istio-egressgateway, ambos utilizam a mesma imagem do proxy-istio é injetado com nossa aplicação, vamos conferir.\n",
    "\n",
    "Preste atenção também aos rótulos, principalmente o `appp` e o `istio`."
   ]
  },
  {
   "cell_type": "code",
   "execution_count": null,
   "metadata": {},
   "outputs": [],
   "source": [
    "kubectl describe deploy istio-ingressgateway -n istio-system"
   ]
  },
  {
   "cell_type": "markdown",
   "metadata": {},
   "source": [
    "Procure pela configuração `Containers` e encontrará o istio-proxy com a imagem docker.io/istio/proxyv2:1.7.4, mas note que há apenas um container e não dois como nas nossas aplicações, isto é claro porque aqui a aplicação é o proxy.\n",
    "\n",
    "Vamos verificar o serviço para identificar como acessar o gateway."
   ]
  },
  {
   "cell_type": "code",
   "execution_count": null,
   "metadata": {},
   "outputs": [],
   "source": [
    "kubectl get svc -l \"app=istio-ingressgateway\" -n istio-system"
   ]
  },
  {
   "cell_type": "markdown",
   "metadata": {},
   "source": [
    "O ingress gateway do Istio tem um serviço do tipo _LoadBalancer_ com uma série de portas configuradas e, no caso do docker-desktop, o IP externo é o `localhost`.\n",
    "\n",
    "Vamos tentar acessá-lo: [http://localhost:80](http://localhost:80)\n",
    "\n",
    "Claro que ainda não configuramos nenhum _VirtualService_ para utilizar esse gateway. Vamos configurar o front-end para utilizá-lo. "
   ]
  },
  {
   "cell_type": "markdown",
   "metadata": {},
   "source": [
    "## Configurando um ingress _gateway_"
   ]
  },
  {
   "cell_type": "code",
   "execution_count": null,
   "metadata": {},
   "outputs": [],
   "source": [
    "kubectl apply -f exemplos/simul-shop-istio/default-gateway.yaml"
   ]
  },
  {
   "cell_type": "markdown",
   "metadata": {},
   "source": [
    "Vamos tentar acessar novamente, mas dessa vez vamos utilizar o comando `curl`"
   ]
  },
  {
   "cell_type": "code",
   "execution_count": null,
   "metadata": {},
   "outputs": [],
   "source": [
    "curl -v http://localhost"
   ]
  },
  {
   "cell_type": "markdown",
   "metadata": {},
   "source": [
    "Agora retornou o erro _404 Not Found_ pelo _server: istio-envoy_, o que indica que alcançamos o gateway, mas não há configuração nele pra indicar para onde deve ir a requisição.\n",
    "\n",
    "Vamos configurar o [front-end VirtualService](exemplos/simul-shop-istio/front-end-with-gateway.yaml) para utilizar esse _gateway_."
   ]
  },
  {
   "cell_type": "code",
   "execution_count": null,
   "metadata": {},
   "outputs": [],
   "source": [
    "kubectl apply -f exemplos/simul-shop-istio/front-end-with-gateway.yaml"
   ]
  },
  {
   "cell_type": "markdown",
   "metadata": {},
   "source": [
    "Vamos tentar novamente."
   ]
  },
  {
   "cell_type": "code",
   "execution_count": null,
   "metadata": {},
   "outputs": [],
   "source": [
    "curl -v http://localhost"
   ]
  },
  {
   "cell_type": "markdown",
   "metadata": {},
   "source": [
    "Sucesso, nossa requisição fez todo o caminho de fora do cluster, passando pelo serviço do kubernetes (LoadBalancer), alcançou o POD do gateway (istio-ingressgateway) e com as configurações de _Gateway_ e _VirtualService_ chegou até o POD da nossa aplicação (onde passou pelo container do istio-proxy e finalmente o container da aplicação)."
   ]
  },
  {
   "cell_type": "markdown",
   "metadata": {},
   "source": [
    "Podemos gerar tráfego acessando o serviço da nossa máquina, execute o script [call-local.sh](call-local.sh) em um terminal.\n",
    "\n",
    "Vamos verificar como o kiali exibe essa configuração.\n",
    "\n",
    "> Para acessar o kiali - <http://localhost:20001>, caso não abra automaticamente."
   ]
  },
  {
   "cell_type": "code",
   "execution_count": null,
   "metadata": {},
   "outputs": [],
   "source": [
    "# Caso já não esteja em execução\n",
    "istioctl dashboard kiali &\n",
    "export KIALI_PID=$!"
   ]
  },
  {
   "cell_type": "markdown",
   "metadata": {},
   "source": [
    "![kiali exibindo o istio ingress](media/kiali-istio-ingress.png)\n",
    "\n",
    "Agora conseguimos ver a origem das nossas requisições com uma pequena modificação no _VirtualService_. O Istio separa as configurações do _gateway_ (L3/L4) das configurações das rotas (L7), com isso podemos reaproveitá-las para vários _VitrualServices_.\n",
    "\n",
    "Você pode combinar todas as configurações que fizemos até agora e adicionar o _gateway_ para receber tráfego externo. Aplique a configuração [exemplos/simul-shop-istio/front-end-canary-release-with-gateway.yaml](exemplos/simul-shop-istio/front-end-canary-release-with-gateway.yaml) e teste ([call-local.sh](call-local.sh)) para verificar o resultado da nossa implantação canário."
   ]
  },
  {
   "cell_type": "markdown",
   "metadata": {},
   "source": [
    "### Configurando um domínio para o ingress\n",
    "\n",
    "Utilizamos um caracter curinga, mas em produção iremos configurar um domínio para o ingress e certificados TLS para torná-lo seguro.\n",
    "\n",
    "Vamos modificar as configurações para utilizar um domínio, mas como não temos um, iremos simular.\n",
    "\n",
    "Há duas maneiras de fazê-lo, adicionando uma entrada em seu arquivo de hosts (linux e mac `/etc/hosts`, windows `C:\\Windows\\System32\\drivers\\etc\\hosts` ou passar como cabeçalho no comando `curl --header \"Host: simul-shop.com/s`.\n",
    "\n",
    "Vou adicionar no arquivo de hosts.\n",
    "\n",
    "```hosts\n",
    "127.0.0.1   simul-shop.com\n",
    "```\n",
    "\n",
    "Salve o arquiv e verifique `ping simul-shop.com`, deve resolver para 127.0.0.1.\n",
    "\n",
    "Agora vamos remover as configurações do Istio e aplica novas:"
   ]
  },
  {
   "cell_type": "code",
   "execution_count": null,
   "metadata": {},
   "outputs": [],
   "source": [
    "# Remover a configuração do front-end\n",
    "kubectl delete -f exemplos/simul-shop-istio/front-end-with-gateway.yaml\n",
    "\n",
    "# Aplicar novamente a versão v2 do front-end\n",
    "kubectl apply -f exemplos/simul-shop-manifests-versions/front-end-deployment-v2.yaml\n",
    "\n",
    "# Aplicar a configuração do gateway\n",
    "kubectl apply -f exemplos/simul-shop-istio/default-gateway-with-domain.yaml  \n",
    "\n",
    "# Aplicar a configuração da implantação canário\n",
    "kubectl apply -f exemplos/simul-shop-istio/front-end-canary-release-with-gateway.yaml"
   ]
  },
  {
   "cell_type": "markdown",
   "metadata": {},
   "source": [
    "Agora podemos testar, no terminal execute o script [call-simul-shop.sh](call-simul-shop.sh)."
   ]
  },
  {
   "cell_type": "markdown",
   "metadata": {},
   "source": [
    "### Dica pro\n",
    "\n",
    "É comum configurar apenas um gateway padrão (default-gateway) para todo o cluster, mas essa prática trás alguns problemas, veremos isso quando configurarmos rotas por caminho.\n",
    "\n",
    "Se você divide o cluster com outros desenvolvedores é bem provável que eles irão criar configurações para o Istio sem avisá-lo, o que pode causar conflitos. Configurações conflitantes serão avaliadas na ordem em que forem aplicadas, ou seja, a última irá prevalecer.\n",
    "\n",
    "Uma dica é ter mais de um ingress, em clusters compartilhados você pode criar um por _namespace_, por exemplo, ou criar ingress dedicados para uma finalidade ou FQDN."
   ]
  },
  {
   "cell_type": "markdown",
   "metadata": {},
   "source": [
    "## Acessando serviços fora da malha\n",
    "\n",
    "O Istio mantém um registro de todos os serviços utilizando as APIs do kubernetes para fazer a auto-descoberta dos serviços. O Istio oferecer suporte à descoberta para vários ambientes, como Kubernetes, Consul ou VMs.\n",
    "\n",
    "Porém, serviços que estão fora da malha não serão descobertos e é onde entra o _ServiceEntry_.\n",
    "\n",
    "O _ServiceEntry_ permite adicionar entradas adicionais ao registro de serviço interno do Istio, para que os serviços de auto-descoberta na malha possam acessa-los e rotea-los.\n",
    "\n",
    "Como o nosso serviço genérico funciona invocando qualquer url, interna ou externa, vamos modificar o `order` para invocar um serviço externo.\n",
    "\n",
    "Para criar um serviço externo, iremos configurar um _generic service_ em um _namespace_ que não tem o rótulo de injeção do _sidecar_ do Istio, ou seja, criaremos um POD sem o istio-proxy."
   ]
  },
  {
   "cell_type": "code",
   "execution_count": null,
   "metadata": {},
   "outputs": [],
   "source": [
    "# Cria o serviço credit no namespace financial\n",
    "kubectl apply -f exemplos/simul-shop-manifests-versions/credit-deployment.yaml\n",
    "\n",
    "# Modificando o order para invocar serviço externo\n",
    "kubectl apply -f exemplos/simul-shop-manifests-versions/orders-deployment-external-api.yaml"
   ]
  },
  {
   "cell_type": "markdown",
   "metadata": {},
   "source": [
    "Vamos para o [kiali](http://localhost:20001) verificar como ficou essa configuração, mas antes precisaremos de tráfego, execute o [call-simul-shop.sh](call-simul-shop.sh) em um terminal.\n",
    "\n",
    "![kiali istio egress](media/kiali-istio-without-serviceentry.png)\n",
    "\n",
    "Sem as configurações do Istio, o kiali exibe o tráfego de saída como um \"buraco negro\", um _PassthroughCluster_ porque ele não infere sobre o destino. Isso será válido para quantos serviços externos forem chamado, fazendo com que várias linhas convertam para o mesmo ponto.\n",
    "\n",
    "Agora vamos adicionar algumas [configurações](exemplos/simul-shop-istio/credit-serviceentry.yaml) de saída."
   ]
  },
  {
   "cell_type": "code",
   "execution_count": null,
   "metadata": {},
   "outputs": [],
   "source": [
    "kubectl apply -f exemplos/simul-shop-istio/credit-serviceentry.yaml"
   ]
  },
  {
   "cell_type": "markdown",
   "metadata": {},
   "source": [
    "Com a configuração do _ServiceEntry_ adicionamos ao registro de serviços do Istio o nosso serviço de crédito, isso possibilia que o Kiali exiba como um destino conhecido.\n",
    "\n",
    "![](media/kiali-istio-with-serviceentry.png)"
   ]
  },
  {
   "cell_type": "markdown",
   "metadata": {},
   "source": [
    "## Configurando um gateway de saída (egress)\n",
    "\n",
    "Os gateways são usados principalmente para gerenciar o tráfego de entrada, mas você também pode configurar _gateways_ de saída. Um gateway de saída permite configurar nós de saída dedicados para o tráfego que sai da malha, permitindo limitar quais serviços podem ou devem acessar redes externas ou habilitar o controle seguro do tráfego de saída para adicionar segurança à malha.\n",
    "\n",
    "Considere uma organização que tem um requisito de segurança estrito de que todo o tráfego que sai da malha de serviço deve fluir por meio de um conjunto de nós dedicados. Esses nós serão executados em máquinas dedicadas, separados do resto dos nós que executam aplicativos no cluster. Esses nós especiais servirão para aplicação de política no tráfego de saída e serão monitorados de forma mais completa do que outros nós.\n",
    "\n",
    "Outro caso de uso é um cluster onde os nós do aplicativo não têm IPs públicos, de modo que os serviços em malha executados neles não podem acessar a Internet.\n",
    "\n",
    "A figura abaixo ilustra como configuraremos o nosso gateway:\n",
    "\n",
    "![configuração do egress](media/egress-config.png)\n",
    "\n",
    "Nesta [configuração](exemplos/simul-shop-istio/egress-example-credit.yaml) temos:\n",
    "\n",
    "* Definir o serviço externo através de um _ServiceEntry_;\n",
    "* Configurar um _gateway_ de saída\n",
    "* Configurar um _VirtualService_ para redirecionar o tráfego do _sidecar_ para o egress\n",
    "\n",
    "Mas antes de aplicá-lo, vamos remover o que fizemos até agora, deixando apenas o serviço `credit`."
   ]
  },
  {
   "cell_type": "code",
   "execution_count": null,
   "metadata": {},
   "outputs": [],
   "source": [
    "# Alguns podem retor\n",
    "kubectl delete -f exemplos/simul-shop-manifests/deployments.yaml\n",
    "\n",
    "kubectl delete -f exemplos/simul-shop-manifests/services.yaml\n",
    "\n",
    "kubectl delete -f exemplos/simul-shop-manifests-versions/front-end-deployment-v2.yaml\n",
    "\n",
    "kubectl delete -f exemplos/simul-shop-manifests-versions/front-end-deployment-v3.yaml\n",
    "\n",
    "kubectl delete -f exemplos/simul-shop-istio/front-end-canary-release-with-gateway.yaml\n",
    "\n",
    "kubectl delete -f exemplos/simul-shop-istio/default-gateway-with-domain.yaml\n",
    "\n",
    "kubectl delete -f exemplos/simul-shop-istio/credit-serviceentry.yaml\n",
    "\n",
    "kubectl delete -f exemplos/simul-shop-manifests-versions/orders-deployment-external-api.yaml"
   ]
  },
  {
   "cell_type": "markdown",
   "metadata": {},
   "source": [
    "Conferindo se tudo foi excluído"
   ]
  },
  {
   "cell_type": "code",
   "execution_count": null,
   "metadata": {},
   "outputs": [],
   "source": [
    "# Namespace default - somente o serviço do kuberentes\n",
    "kubectl get deploy,svc,gateway,vs,dr\n",
    "\n",
    "# Namespace financial - nenhum recurso\n",
    "kubectl get deploy,svc,gateway,vs,dr -n financial\n",
    "\n",
    "# Namespace istio-system - nenhum recurso\n",
    "kubectl get gateway,vs,dr -n istio-system"
   ]
  },
  {
   "cell_type": "markdown",
   "metadata": {},
   "source": [
    "Agora vamos aplicar uma nova configuração:\n",
    "\n",
    "* Cliente para chamar o serviço credit\n",
    "* Serviço credit fora da malha\n",
    "* Configuração do Gateway, ServiceEntry e VirtualService.\n",
    "* Execução da carga\n",
    "* Validação e análise no kiali"
   ]
  },
  {
   "cell_type": "code",
   "execution_count": null,
   "metadata": {},
   "outputs": [],
   "source": [
    "# Cliente\n",
    "kubectl apply -f istio-1.7.4/samples/sleep/sleep.yaml\n",
    "\n",
    "# Serviço credit\n",
    "kubectl apply -f exemplos/simul-shop-manifests-versions/credit-deployment.yaml\n",
    "\n",
    "# Configuração Gateway, ServiceEntry e VirtualService.\n",
    "kubectl apply -f exemplos/simul-shop-istio/egress-example-credit.yaml"
   ]
  },
  {
   "cell_type": "markdown",
   "metadata": {},
   "source": [
    "E executar chamadas para o serviço em um terminal\n",
    "\n",
    "```bash\n",
    "export SOURCE_POD=$(kubectl get pod -l app=sleep -o jsonpath={.items..metadata.name})\n",
    "\n",
    "while true                                                            \n",
    "do\n",
    "kubectl exec \"$SOURCE_POD\" -c sleep -- curl -sL -D - http://credit.financial/\n",
    "echo\n",
    "sleep 1\n",
    "done\n",
    "```\n",
    "\n",
    "> copie e cole todo o conteúdo em um terminal.\n",
    "\n",
    "Vamos verificar como ficou no kiali. Selecione os três _namespaces_ (default, financial, istio-system)\n",
    "\n",
    "O gráfico de _app_:\n",
    "\n",
    "![kiali com a configuração do egress para credit](media/kiali-egress-credit.png)\n",
    "\n",
    "E a configuração:\n",
    "\n",
    "![kiali com a configuração do egress para credit](media/kiali-config-egress-credit.png)\n",
    "\n",
    "### Considerações\n",
    "\n",
    "Não iremos manter a configuração de egress para a nossa aplicação, como discutido no início da seção, se você não tem um requisito para restringir todo tráfego de saída, não há necessidade dessa configuração, ao contrário do _ServiceEntry_ que manteremos porque auxilia no entendimento da malha e, como veremos nas próximas seções, poderemos aplicar políticas.\n",
    "\n",
    "Então, vamos apagar os recursos e reinstalar a nossa aplicação, mais uma vez, mantermos o serivço de crédito e a aplicação sleep para chamar serviços utilizando o curl de dentro do cluster, mas removeremos a configuração do _gateway_ externo.\n",
    "\n",
    "Pode para a execução das chamadas od serviço no terminal."
   ]
  },
  {
   "cell_type": "code",
   "execution_count": null,
   "metadata": {},
   "outputs": [],
   "source": [
    "# Configuração Gateway, ServiceEntry e VirtualService.\n",
    "kubectl delete -f exemplos/simul-shop-istio/egress-example-credit.yaml"
   ]
  },
  {
   "cell_type": "markdown",
   "metadata": {},
   "source": [
    "## Configurando segurança (TLS) para o ingress\n",
    "\n",
    "TODO"
   ]
  },
  {
   "cell_type": "code",
   "execution_count": null,
   "metadata": {},
   "outputs": [],
   "source": []
  }
 ],
 "metadata": {
  "kernelspec": {
   "display_name": "Bash",
   "language": "bash",
   "name": "bash"
  },
  "language_info": {
   "codemirror_mode": "shell",
   "file_extension": ".sh",
   "mimetype": "text/x-sh",
   "name": "bash"
  }
 },
 "nbformat": 4,
 "nbformat_minor": 4
}
