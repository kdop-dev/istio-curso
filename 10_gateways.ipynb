{
 "cells": [
  {
   "cell_type": "markdown",
   "source": [
    "# Gateways\n",
    "\n",
    "Na seção anterior exploramos a implantação canário com _VirtualService_ e _DestinationRule_ e como se relaciona com os serviços do k8s e dicutimos como permiir que o tráfego de fora pode chegue até a nossa aplicação.\n",
    "\n",
    "Existem algumas opções para permitir que o tráfego externo chegue ao nosso cluster, são elas:\n",
    "\n",
    "* Serviços do tipo [NodePort](https://kubernetes.io/docs/concepts/services-networking/service/#nodeport) - Expõe o serviço no IP de cada nó em uma porta estática (o NodePort). Um serviço ClusterIP para o qual o serviço NodePort roteia, é criado automaticamente. Você poderá acessar com o Serviço NodePort, de fora do cluster, pelo endereço `NodeIP:NodePort`.\n",
    "* Serviços do tipo [LoadBalancer](https://kubernetes.io/docs/concepts/services-networking/service/#loadbalancer) - Expõe o serviço externamente usando o balanceador de carga de um provedor. Os serviços NodePort e ClusterIP, para os quais o balanceador de carga externo roteia, são criados automaticamente. Com Minikube e Docker-Desktop é possível criar serviços do tipo _LoadBalancer_ e o endereço localhost será atribuído como IP externo.\n",
    "* k8s [Ingress](https://kubernetes.io/docs/concepts/services-networking/ingress/) - Expõe as rotas HTTP e HTTPS de fora do cluster para serviços dentro do cluster. O roteamento de tráfego é controlado por regras definidas no recurso Ingress. Esse serviço normalmente cria um serviço do tipo `LoadBalancer`. Soluções de ingress mais comuns são: [Nginx](https://kubernetes.github.io/ingress-nginx/), [Traefik](https://doc.traefik.io/traefik/providers/kubernetes-ingress/), [Kong](https://github.com/Kong/kubernetes-ingress-controller) e [Istio](https://istio.io/latest/docs/tasks/traffic-management/ingress/).\n",
    "\n",
    "Iremos explorar o _gateway_ do Istio.\n",
    "\n",
    "## O que são _gateways_ no Istio\n",
    "\n",
    "Os _gateways_ do Istio são aplicações independentes (Envoys) que controlam o tráfego das requisições. Eles as recebem, avaliam, criam logs e as redirecionam para dentro ou fora da malha de serviços.\n",
    "\n",
    "Há algumas formas de fazer isso, podemos configurar os [serviços do kubernetes](https://kubernetes.io/docs/concepts/services-networking/service/) (_LoadBalancer_ e _NodePort_), mas consumiríamos balanceadores de carga, que na nuvem são recursos pagos, ou podemos configurar um _NodePort_, porém, além de consumirem portas, não funcionariam com os _istio-proxies_ porque as requisições seriam direcionadas para o POD e só então chegariam ao _proxy_, dessa forma, o _NodePort_ iria direcionar uma fração para cada POD que fizer parte do seletor e só então as requisições seriam tratadas pelo Istio.\n",
    "\n",
    "![balanceamento utilizando nodeport](media/k8s-nodeport-balance.png)\n",
    "\n",
    "Como ilustrado, somente 50% das requisições externas chegariam ao POD A, sendo assim, mesmo que configurassemos o _proxy_ para lidar com o tráfego, seria tarde demais.\n",
    "\n",
    "A solução é a adição de um _gateway_ ([ingress gateway](https://istio.io/latest/docs/tasks/traffic-management/ingress/#accessing-istio-service-mesh-by-a-browser)) que entenda as configurações do Istio e faça o trabalho de direcionar para os PODs. Para isso o Istio inclue um _gateway_ que é identico ao Envoy que utilizamos nas nossas aplicações.\n",
    "\n",
    "![balanceamento utilizando istio-ingressgateway](media/istio-ingress-balance.png)\n",
    "\n",
    "O Istio configura o Envoy em um POD independente para fazer o papel de Ingress (entrada) e outro para Egress (saída). Sendo o mesmo Envoy que está em execução com nossa aplicação, ele é configurado pelo Istio com o objetivo de direcionar o tráfego para os nossos _VirtualServices_, funcionando como um _proxy_ reverso.\n",
    "\n",
    "Vamos habilitá-los na nossa instalação."
   ],
   "metadata": {}
  },
  {
   "cell_type": "code",
   "execution_count": 6,
   "source": [
    "istioctl install --set profile=demo --skip-confirmation"
   ],
   "outputs": [
    {
     "output_type": "stream",
     "name": "stdout",
     "text": [
      "\u001b[32m✔\u001b[0m Istio core installed                                                          \n",
      "\u001b[32m✔\u001b[0m Istiod installed                                                              \n",
      "\u001b[32m✔\u001b[0m Ingress gateways installed                                                    \n",
      "\u001b[32m✔\u001b[0m Egress gateways installed                                                     \n",
      "\u001b[32m✔\u001b[0m Installation complete                                                         "
     ]
    }
   ],
   "metadata": {}
  },
  {
   "cell_type": "markdown",
   "source": [
    "Você pode ver a diferença entre os perfís de instalação em [Istio - Installation Configuration Profiles](https://istio.io/latest/docs/setup/additional-setup/config-profiles/).\n",
    "\n",
    "Vamos verificar o que temos instalado."
   ],
   "metadata": {}
  },
  {
   "cell_type": "code",
   "execution_count": 7,
   "source": [
    "kubectl get pods -n istio-system"
   ],
   "outputs": [
    {
     "output_type": "stream",
     "name": "stdout",
     "text": [
      "NAME                                   READY   STATUS    RESTARTS   AGE\n",
      "grafana-556f8998cd-wdnv2               1/1     Running   0          55m\n",
      "istio-egressgateway-bd6d77495-wgsf7    1/1     Running   0          24s\n",
      "istio-ingressgateway-d46c4ff9b-vpx5r   1/1     Running   0          24s\n",
      "istiod-79ddd9dbf5-5rvm4                1/1     Running   0          29s\n",
      "jaeger-5f65fdbf9b-l8xdp                1/1     Running   0          122m\n",
      "kiali-787bc487b7-wnpl2                 1/1     Running   0          20h\n",
      "prometheus-9f4947649-g7hxf             2/2     Running   0          109m\n"
     ]
    }
   ],
   "metadata": {}
  },
  {
   "cell_type": "markdown",
   "source": [
    "Foram adicionados dois PODs, o istio-ingressgateway  e o istio-egressgateway, ambos utilizam a mesma imagem do proxy-istio é injetado com nossa aplicação, vamos conferir.\n",
    "\n",
    "Preste atenção também aos rótulos, principalmente o `appp` e o `istio`."
   ],
   "metadata": {}
  },
  {
   "cell_type": "code",
   "execution_count": 4,
   "source": [
    "kubectl describe deploy/istio-ingressgateway -n istio-system"
   ],
   "outputs": [
    {
     "output_type": "stream",
     "name": "stdout",
     "text": [
      "Name:                   istio-ingressgateway\n",
      "Namespace:              istio-system\n",
      "CreationTimestamp:      Thu, 19 Aug 2021 14:30:25 -0300\n",
      "Labels:                 app=istio-ingressgateway\n",
      "                        install.operator.istio.io/owning-resource=unknown\n",
      "                        install.operator.istio.io/owning-resource-namespace=istio-system\n",
      "                        istio=ingressgateway\n",
      "                        istio.io/rev=default\n",
      "                        operator.istio.io/component=IngressGateways\n",
      "                        operator.istio.io/managed=Reconcile\n",
      "                        operator.istio.io/version=1.9.2\n",
      "                        release=istio\n",
      "Annotations:            deployment.kubernetes.io/revision: 1\n",
      "Selector:               app=istio-ingressgateway,istio=ingressgateway\n",
      "Replicas:               1 desired | 1 updated | 1 total | 1 available | 0 unavailable\n",
      "StrategyType:           RollingUpdate\n",
      "MinReadySeconds:        0\n",
      "RollingUpdateStrategy:  25% max unavailable, 100% max surge\n",
      "Pod Template:\n",
      "  Labels:           app=istio-ingressgateway\n",
      "                    chart=gateways\n",
      "                    heritage=Tiller\n",
      "                    install.operator.istio.io/owning-resource=unknown\n",
      "                    istio=ingressgateway\n",
      "                    istio.io/rev=default\n",
      "                    operator.istio.io/component=IngressGateways\n",
      "                    release=istio\n",
      "                    service.istio.io/canonical-name=istio-ingressgateway\n",
      "                    service.istio.io/canonical-revision=latest\n",
      "                    sidecar.istio.io/inject=false\n",
      "  Annotations:      prometheus.io/path: /stats/prometheus\n",
      "                    prometheus.io/port: 15020\n",
      "                    prometheus.io/scrape: true\n",
      "                    sidecar.istio.io/inject: false\n",
      "  Service Account:  istio-ingressgateway-service-account\n",
      "  Containers:\n",
      "   istio-proxy:\n",
      "    Image:       docker.io/istio/proxyv2:1.9.2\n",
      "    Ports:       15021/TCP, 8080/TCP, 8443/TCP, 31400/TCP, 15443/TCP, 15090/TCP\n",
      "    Host Ports:  0/TCP, 0/TCP, 0/TCP, 0/TCP, 0/TCP, 0/TCP\n",
      "    Args:\n",
      "      proxy\n",
      "      router\n",
      "      --domain\n",
      "      $(POD_NAMESPACE).svc.cluster.local\n",
      "      --proxyLogLevel=warning\n",
      "      --proxyComponentLogLevel=misc:error\n",
      "      --log_output_level=default:info\n",
      "      --serviceCluster\n",
      "      istio-ingressgateway\n",
      "    Limits:\n",
      "      cpu:     2\n",
      "      memory:  1Gi\n",
      "    Requests:\n",
      "      cpu:      10m\n",
      "      memory:   40Mi\n",
      "    Readiness:  http-get http://:15021/healthz/ready delay=1s timeout=1s period=2s #success=1 #failure=30\n",
      "    Environment:\n",
      "      JWT_POLICY:                   third-party-jwt\n",
      "      PILOT_CERT_PROVIDER:          istiod\n",
      "      CA_ADDR:                      istiod.istio-system.svc:15012\n",
      "      NODE_NAME:                     (v1:spec.nodeName)\n",
      "      POD_NAME:                      (v1:metadata.name)\n",
      "      POD_NAMESPACE:                 (v1:metadata.namespace)\n",
      "      INSTANCE_IP:                   (v1:status.podIP)\n",
      "      HOST_IP:                       (v1:status.hostIP)\n",
      "      SERVICE_ACCOUNT:               (v1:spec.serviceAccountName)\n",
      "      CANONICAL_SERVICE:             (v1:metadata.labels['service.istio.io/canonical-name'])\n",
      "      CANONICAL_REVISION:            (v1:metadata.labels['service.istio.io/canonical-revision'])\n",
      "      ISTIO_META_WORKLOAD_NAME:     istio-ingressgateway\n",
      "      ISTIO_META_OWNER:             kubernetes://apis/apps/v1/namespaces/istio-system/deployments/istio-ingressgateway\n",
      "      ISTIO_META_UNPRIVILEGED_POD:  true\n",
      "      ISTIO_META_ROUTER_MODE:       standard\n",
      "      ISTIO_META_CLUSTER_ID:        Kubernetes\n",
      "    Mounts:\n",
      "      /etc/istio/config from config-volume (rw)\n",
      "      /etc/istio/ingressgateway-ca-certs from ingressgateway-ca-certs (ro)\n",
      "      /etc/istio/ingressgateway-certs from ingressgateway-certs (ro)\n",
      "      /etc/istio/pod from podinfo (rw)\n",
      "      /etc/istio/proxy from istio-envoy (rw)\n",
      "      /var/lib/istio/data from istio-data (rw)\n",
      "      /var/run/secrets/istio from istiod-ca-cert (rw)\n",
      "      /var/run/secrets/tokens from istio-token (ro)\n",
      "  Volumes:\n",
      "   istiod-ca-cert:\n",
      "    Type:      ConfigMap (a volume populated by a ConfigMap)\n",
      "    Name:      istio-ca-root-cert\n",
      "    Optional:  false\n",
      "   podinfo:\n",
      "    Type:  DownwardAPI (a volume populated by information about the pod)\n",
      "    Items:\n",
      "      metadata.labels -> labels\n",
      "      metadata.annotations -> annotations\n",
      "      limits.cpu -> cpu-limit\n",
      "      requests.cpu -> cpu-request\n",
      "   istio-envoy:\n",
      "    Type:       EmptyDir (a temporary directory that shares a pod's lifetime)\n",
      "    Medium:     \n",
      "    SizeLimit:  <unset>\n",
      "   istio-data:\n",
      "    Type:       EmptyDir (a temporary directory that shares a pod's lifetime)\n",
      "    Medium:     \n",
      "    SizeLimit:  <unset>\n",
      "   istio-token:\n",
      "    Type:                    Projected (a volume that contains injected data from multiple sources)\n",
      "    TokenExpirationSeconds:  43200\n",
      "   config-volume:\n",
      "    Type:      ConfigMap (a volume populated by a ConfigMap)\n",
      "    Name:      istio\n",
      "    Optional:  true\n",
      "   ingressgateway-certs:\n",
      "    Type:        Secret (a volume populated by a Secret)\n",
      "    SecretName:  istio-ingressgateway-certs\n",
      "    Optional:    true\n",
      "   ingressgateway-ca-certs:\n",
      "    Type:        Secret (a volume populated by a Secret)\n",
      "    SecretName:  istio-ingressgateway-ca-certs\n",
      "    Optional:    true\n",
      "Conditions:\n",
      "  Type           Status  Reason\n",
      "  ----           ------  ------\n",
      "  Available      True    MinimumReplicasAvailable\n",
      "  Progressing    True    NewReplicaSetAvailable\n",
      "OldReplicaSets:  <none>\n",
      "NewReplicaSet:   istio-ingressgateway-d46c4ff9b (1/1 replicas created)\n",
      "Events:\n",
      "  Type    Reason             Age    From                   Message\n",
      "  ----    ------             ----   ----                   -------\n",
      "  Normal  ScalingReplicaSet  2m28s  deployment-controller  Scaled up replica set istio-ingressgateway-d46c4ff9b to 1\n"
     ]
    }
   ],
   "metadata": {}
  },
  {
   "cell_type": "markdown",
   "source": [
    "Procure pela configuração `Containers` e encontrará o istio-proxy com a imagem docker.io/istio/proxyv2:1.7.4, mas note que há apenas um container e não dois como nas nossas aplicações, isto é claro porque aqui a aplicação é o proxy.\n",
    "\n",
    "Vamos verificar o serviço para identificar como acessar o gateway."
   ],
   "metadata": {}
  },
  {
   "cell_type": "code",
   "execution_count": null,
   "source": [
    "kubectl get svc -l \"app=istio-ingressgateway\" -n istio-system"
   ],
   "outputs": [],
   "metadata": {}
  },
  {
   "cell_type": "markdown",
   "source": [
    "O ingress gateway do Istio tem um serviço do tipo _LoadBalancer_ com uma série de portas configuradas e, no caso do docker-desktop, o IP externo é o `localhost`.\n",
    "\n",
    "Uma forma segura de determinar o endereço do gateway é inspecionando o serviço do istio-ingressgateway:"
   ],
   "metadata": {}
  },
  {
   "cell_type": "code",
   "execution_count": 8,
   "source": [
    "# Configurando acesso ao Ingress\n",
    "export INGRESS_HOST=$(kubectl -n istio-system get service istio-ingressgateway -o jsonpath='{.status.loadBalancer.ingress[0].ip}')\n",
    "export INGRESS_PORT=$(kubectl -n istio-system get service istio-ingressgateway -o jsonpath='{.spec.ports[?(@.name==\"http2\")].port}')\n",
    "export SECURE_INGRESS_PORT=$(kubectl -n istio-system get service istio-ingressgateway -o jsonpath='{.spec.ports[?(@.name==\"https\")].port}')\n",
    "export TCP_INGRESS_PORT=$(kubectl -n istio-system get service istio-ingressgateway -o jsonpath='{.spec.ports[?(@.name==\"tcp\")].port}')\n",
    "\n",
    "echo \"Ingress uri\"\n",
    "echo http://$INGRESS_HOST:$INGRESS_PORT\n",
    "echo https://$INGRESS_HOST:$SECURE_INGRESS_PORT"
   ],
   "outputs": [
    {
     "output_type": "stream",
     "name": "stdout",
     "text": [
      "Ingress uri\n",
      "http://20.62.191.89:80\n",
      "https://20.62.191.89:443\n"
     ]
    }
   ],
   "metadata": {}
  },
  {
   "cell_type": "markdown",
   "source": [
    "Claro que ainda não configuramos nenhum VirtualService para utilizar esse gateway. Vamos configurar o front-end para utilizá-lo."
   ],
   "metadata": {}
  },
  {
   "cell_type": "markdown",
   "source": [
    "## Configurando um ingress _gateway_\n",
    "\n",
    "[assets/exemplos/simul-shop/istio/10/default-gateway.yaml](assets/exemplos/simul-shop/istio/10/default-gateway.yaml)"
   ],
   "metadata": {}
  },
  {
   "cell_type": "code",
   "execution_count": 9,
   "source": [
    "# Gateway padrão\n",
    "kubectl apply -f assets/exemplos/simul-shop/istio/10/default-gateway.yaml"
   ],
   "outputs": [
    {
     "output_type": "stream",
     "name": "stdout",
     "text": [
      "gateway.networking.istio.io/default-gateway unchanged\n"
     ]
    }
   ],
   "metadata": {}
  },
  {
   "cell_type": "markdown",
   "source": [
    "Vamos acessar a uri:"
   ],
   "metadata": {}
  },
  {
   "cell_type": "code",
   "execution_count": 10,
   "source": [
    "curl -v http://$INGRESS_HOST:$INGRESS_PORT"
   ],
   "outputs": [
    {
     "output_type": "stream",
     "name": "stdout",
     "text": [
      "*   Trying 20.62.191.89...\n",
      "* TCP_NODELAY set\n",
      "* Connected to 20.62.191.89 (20.62.191.89) port 80 (#0)\n",
      "> GET / HTTP/1.1\n",
      "> Host: 20.62.191.89\n",
      "> User-Agent: curl/7.64.1\n",
      "> Accept: */*\n",
      "> \n",
      "< HTTP/1.1 404 Not Found\n",
      "< date: Thu, 19 Aug 2021 20:17:56 GMT\n",
      "< server: istio-envoy\n",
      "< content-length: 0\n",
      "< \n",
      "* Connection #0 to host 20.62.191.89 left intact\n",
      "* Closing connection 0\n"
     ]
    }
   ],
   "metadata": {}
  },
  {
   "cell_type": "markdown",
   "source": [
    "Retornou o erro _404 Not Found_ pelo _server: istio-envoy_, o que indica que alcançamos o gateway, mas não há configuração que indique para onde direcionar a requisição.\n",
    "\n",
    "Vamos configurar o [front-end VirtualService](assets/exemplos/simul-shop/istio/10/front-end-with-gateway.yaml) para utilizar esse _gateway_."
   ],
   "metadata": {}
  },
  {
   "cell_type": "code",
   "execution_count": 11,
   "source": [
    "kubectl apply -f assets/exemplos/simul-shop/istio/10/front-end-with-gateway.yaml"
   ],
   "outputs": [
    {
     "output_type": "stream",
     "name": "stdout",
     "text": [
      "virtualservice.networking.istio.io/front-end created\n"
     ]
    }
   ],
   "metadata": {}
  },
  {
   "cell_type": "markdown",
   "source": [
    "Vamos tentar novamente."
   ],
   "metadata": {}
  },
  {
   "cell_type": "code",
   "execution_count": 12,
   "source": [
    "curl -v http://$INGRESS_HOST:$INGRESS_PORT"
   ],
   "outputs": [
    {
     "output_type": "stream",
     "name": "stdout",
     "text": [
      "*   Trying 20.62.191.89...\n",
      "* TCP_NODELAY set\n",
      "* Connected to 20.62.191.89 (20.62.191.89) port 80 (#0)\n",
      "> GET / HTTP/1.1\n",
      "> Host: 20.62.191.89\n",
      "> User-Agent: curl/7.64.1\n",
      "> Accept: */*\n",
      "> \n",
      "< HTTP/1.1 200 OK\n",
      "< date: Thu, 19 Aug 2021 20:19:16 GMT\n",
      "< server: istio-envoy\n",
      "< content-length: 108\n",
      "< content-type: application/json\n",
      "< x-envoy-upstream-service-time: 58\n",
      "< \n",
      "* Connection #0 to host 20.62.191.89 left intact\n",
      "{\"name\":\"greetings\",\"description\":\"Hi there!\",\"app\":\"front-end\",\"version\":\"v1\",\"when\":\"2021-08-19 20:19:18\"}* Closing connection 0\n"
     ]
    }
   ],
   "metadata": {}
  },
  {
   "cell_type": "markdown",
   "source": [
    "Sucesso, nossa requisição fez todo o caminho de fora do cluster, passando pelo serviço do kubernetes (LoadBalancer), alcançou o POD do gateway (istio-ingressgateway) e com as configurações de _Gateway_ e _VirtualService_ chegou até o POD da nossa aplicação (onde passou pelo container do istio-proxy e finalmente o container da aplicação)."
   ],
   "metadata": {}
  },
  {
   "cell_type": "markdown",
   "source": [
    "Podemos gerar tráfego acessando o serviço da nossa máquina, execute o script [assets/scripts/call-local.sh](assets/scripts/call-local.sh) em um terminal.\n",
    "\n",
    "Vamos verificar como o kiali exibe essa configuração.\n",
    "\n",
    "> Para acessar o kiali - <http://localhost:20001>, caso não abra automaticamente."
   ],
   "metadata": {}
  },
  {
   "cell_type": "code",
   "execution_count": null,
   "source": [
    "# Caso já não esteja em execução\n",
    "istioctl dashboard kiali &\n",
    "export KIALI_PID=$!"
   ],
   "outputs": [],
   "metadata": {}
  },
  {
   "cell_type": "markdown",
   "source": [
    "![kiali exibindo o istio ingress](media/kiali-istio-ingress.png)\n",
    "\n",
    "Agora conseguimos ver a origem das nossas requisições com uma pequena modificação no _VirtualService_. O Istio separa as configurações do _gateway_ (L3/L4) das configurações das rotas (L7), com isso podemos reaproveitá-las para vários _VitrualServices_.\n",
    "\n",
    "Você pode combinar todas as configurações que fizemos até agora e adicionar o _gateway_ para receber tráfego externo. Aplique as configurações: [assets/exemplos/simul-shop/istio/10/default-gateway-with-domain.yaml](assets/exemplos/simul-shop/istio/10/default-gateway-with-domain.yaml), [assets/exemplos/simul-shop/istio/10/front-end-canary-release-with-gateway.yaml](assets/exemplos/simul-shop/istio/10/front-end-canary-release-with-gateway.yaml) e teste ([assets/scripts/call-simul-shop.sh](assets/scripts/call-simul-shop.sh)) para verificar o resultado da nossa implantação canário."
   ],
   "metadata": {}
  },
  {
   "cell_type": "markdown",
   "source": [
    "### Configurando um domínio para o ingress\n",
    "\n",
    "Utilizamos um caracter curinga, mas em produção iremos configurar um domínio para o ingress e certificados TLS para torná-lo seguro.\n",
    "\n",
    "Vamos modificar as configurações para utilizar um domínio, mas como não temos um, iremos simular.\n",
    "\n",
    "Há duas maneiras de fazê-lo, adicionando uma entrada em seu arquivo de hosts (linux e mac `/etc/hosts`, windows `C:\\Windows\\System32\\drivers\\etc\\hosts` ou passar como parâmetros para o comando `curl -H \"Host: www.simul-shop.com\" --resolve \"www.simul-shop.com:443:127.0.0.1\"`.\n",
    "\n",
    "Faremos os dois, adicionaremos no arquivo de hosts e em outros exemplos usaremos o parâmetro `resolve`.\n",
    "\n",
    "```hosts\n",
    "127.0.0.1   simul-shop.com www.simul-shop.com\n",
    "```\n",
    "\n",
    "> Coloque o IP da variável $INGRESS_HOST. Se o seu endereço é público e você tem acesso a um DNS, pode ignorar essa configuração e configurar um registro no DNS.\n",
    "\n",
    "Salve o arquivo e verifique `ping www.simul-shop.com`, deve resolver para 127.0.0.1.\n",
    "\n",
    "Agora vamos remover as configurações do Istio que fizemos anteriormente e aplicar as novas:"
   ],
   "metadata": {}
  },
  {
   "cell_type": "code",
   "execution_count": null,
   "source": [
    "# Remover a configuração do front-end\n",
    "kubectl delete -f assets/exemplos/simul-shop/istio/10/front-end-with-gateway.yaml\n",
    "\n",
    "# Aplicar novamente a versão v2 do front-end\n",
    "kubectl apply -f assets/exemplos/simul-shop/manifests/8/front-end-deployment-v2.yaml\n",
    "\n",
    "# Aplicar a configuração do gateway\n",
    "kubectl apply -f assets/exemplos/simul-shop/istio/10/default-gateway-with-domain.yaml\n",
    "\n",
    "# Aplicar a configuração da implantação canário\n",
    "kubectl apply -f assets/exemplos/simul-shop/istio/10/front-end-canary-release-with-gateway.yaml"
   ],
   "outputs": [],
   "metadata": {}
  },
  {
   "cell_type": "code",
   "execution_count": null,
   "source": [
    "curl -v -H \"Host: www.simul-shop.com\" http://$INGRESS_HOST:$INGRESS_PORT"
   ],
   "outputs": [],
   "metadata": {}
  },
  {
   "cell_type": "code",
   "execution_count": null,
   "source": [
    "curl -v http://$INGRESS_HOST:$INGRESS_PORT"
   ],
   "outputs": [],
   "metadata": {}
  },
  {
   "cell_type": "markdown",
   "source": [
    "Agora podemos testar, no terminal, sem a necessidade de usar o login container, se ainda estiver aberto, saia com o comando `exit`e execute o script [assets/scripts/call-simul-shop.sh](assets/scripts/call-simul-shop.sh).\n",
    "\n",
    "No kiali devemos ter algo parecido com isso:\n",
    "\n",
    "![kiali gateway with canary release.png](media/kiali-gateway-with-canary.png)"
   ],
   "metadata": {}
  },
  {
   "cell_type": "markdown",
   "source": [
    "## Configurando segurança (TLS) para o ingress\n",
    "\n",
    "Até agora todas as nossas requisições foram HTTP, está na hora de subir a régua da seguranca e configurar o nosso ingress para que as requisições sejam realizadas de forma segura, ou seja, HTTPS. Consulte também a [documentação](https://istio.io/latest/docs/tasks/traffic-management/ingress/secure-ingress/#configure-a-tls-ingress-gateway-for-a-single-host) do Istio para mais informações.\n",
    "\n",
    "A primeira coisa que precisamos é obter um certificado para o nosso domínio, há diversas maneiras de obtê-los, iremos criar o nosso, também chamado de auto-gerado.\n",
    "\n",
    "Nosso dominio será www.simul-shop.com."
   ],
   "metadata": {}
  },
  {
   "cell_type": "code",
   "execution_count": null,
   "source": [
    "domain=simul-shop.com\n",
    "subjectAltName=\"DNS:${domain},DNS:www.${domain}\"\n",
    "dn=\"O=SimulShop \\n CN=*.${domain}\"\n",
    "\n",
    "# root certificate\n",
    "openssl req -newkey rsa:2048 -x509 -sha256 -nodes -days 365 \\\n",
    "    -out assets/exemplos/simul-shop/certs/${domain}.crt \\\n",
    "    -keyout assets/exemplos/simul-shop/certs/${domain}.key \\\n",
    "    -config <(printf \"[req] \\n prompt=no \\n utf8=yes \\n distinguished_name=dn_details \\n req_extensions=san_details \\n [dn_details] \\n ${dn} \\n [san_details] \\n subjectAltName=${subjectAltName}\")\n",
    "\n",
    "# certificate and a private key\n",
    "openssl req -newkey rsa:2048 -nodes \\\n",
    "    -out assets/exemplos/simul-shop/certs/all.${domain}.csr \\\n",
    "    -keyout assets/exemplos/simul-shop/certs/all.${domain}.key \\\n",
    "    -config <(printf \"[req] \\n prompt=no \\n utf8=yes \\n distinguished_name=dn_details \\n req_extensions=san_details \\n [dn_details] \\n ${dn} \\n [san_details] \\n subjectAltName=${subjectAltName}\")\n",
    "\n",
    "openssl x509 -req -days 365 \\\n",
    "    -CA assets/exemplos/simul-shop/certs/${domain}.crt \\\n",
    "    -CAkey assets/exemplos/simul-shop/certs/${domain}.key \\\n",
    "    -set_serial 0 \\\n",
    "    -in assets/exemplos/simul-shop/certs/all.${domain}.csr \\\n",
    "    -out assets/exemplos/simul-shop/certs/all.${domain}.crt"
   ],
   "outputs": [],
   "metadata": {}
  },
  {
   "cell_type": "markdown",
   "source": [
    "Criaremos um _Secret_ para armazenar o certificado"
   ],
   "metadata": {}
  },
  {
   "cell_type": "code",
   "execution_count": null,
   "source": [
    "kubectl delete secret ${domain}-credential -n istio-system"
   ],
   "outputs": [],
   "metadata": {}
  },
  {
   "cell_type": "code",
   "execution_count": null,
   "source": [
    "kubectl create -n istio-system secret tls \\\n",
    "    ${domain}-credential \\\n",
    "    --key=assets/exemplos/simul-shop/certs/all.${domain}.key \\\n",
    "    --cert=assets/exemplos/simul-shop/certs/all.${domain}.crt"
   ],
   "outputs": [],
   "metadata": {}
  },
  {
   "cell_type": "code",
   "execution_count": null,
   "source": [
    "# Opcional: Salve o secret um arquvio yaml. Remova os campos gerados pelo kubernetes\n",
    "# kubectl get secret/www-simul-shop-credential -n istio-system -o yaml > assets/exemplos/simul-shop/templates/secret.yaml"
   ],
   "outputs": [],
   "metadata": {}
  },
  {
   "cell_type": "code",
   "execution_count": null,
   "source": [
    "# Opcional: A pode aplicá-lo quando necessário\n",
    "# kubectl apply -f assets/exemplos/simul-shop/templates/secret.yaml"
   ],
   "outputs": [],
   "metadata": {}
  },
  {
   "cell_type": "markdown",
   "source": [
    "Vamos [configurar](assets/exemplos/simul-shop/istio/10/default-gateway-with-domain-tls.yaml) o certificado no nosso gateway"
   ],
   "metadata": {}
  },
  {
   "cell_type": "code",
   "execution_count": null,
   "source": [
    "kubectl apply -f assets/exemplos/simul-shop/istio/10/default-gateway-with-domain-tls.yaml"
   ],
   "outputs": [],
   "metadata": {}
  },
  {
   "cell_type": "markdown",
   "source": [
    "Vamos aguardar alguns minutos e realizar um teste. Execute o script [assets/scripts/call-simul-shop-tls.sh](assets/scripts/call-simul-shop-tls.sh) em um terminal.\n",
    "\n",
    "Se tudo estiver OK, o resultado será:\n",
    "\n",
    "```bash\n",
    "* Resolve address 'localhost' found illegal!\n",
    "* Couldn't parse CURLOPT_RESOLVE entry 'www.simul-shop.com:443:localhost'!\n",
    "*   Trying 127.0.0.1:443...\n",
    "* Connected to www.simul-shop.com (127.0.0.1) port 443 (#0)\n",
    "* ALPN, offering http/1.1\n",
    "* successfully set certificate verify locations:\n",
    "*   CAfile: exemplos/simul-shop/certs/all.simul-shop.com.crt\n",
    "  CApath: none\n",
    "* TLSv1.3 (OUT), TLS handshake, Client hello (1):\n",
    "* TLSv1.3 (IN), TLS handshake, Server hello (2):\n",
    "* TLSv1.3 (IN), TLS handshake, Encrypted Extensions (8):\n",
    "* TLSv1.3 (IN), TLS handshake, Certificate (11):\n",
    "* TLSv1.3 (IN), TLS handshake, CERT verify (15):\n",
    "* TLSv1.3 (IN), TLS handshake, Finished (20):\n",
    "* TLSv1.3 (OUT), TLS change cipher, Change cipher spec (1):\n",
    "* TLSv1.3 (OUT), TLS handshake, Finished (20):\n",
    "* SSL connection using TLSv1.3 / TLS_AES_256_GCM_SHA384\n",
    "* ALPN, server accepted to use http/1.1\n",
    "* Server certificate:\n",
    "*  subject: O=SimulShop; CN=*.simul-shop.com\n",
    "*  start date: Dec  5 20:54:42 2020 GMT\n",
    "*  expire date: Dec  5 20:54:42 2021 GMT\n",
    "*  common name: *.simul-shop.com (matched)\n",
    "*  issuer: O=SimulShop; CN=*.simul-shop.com\n",
    "*  SSL certificate verify ok.\n",
    "> GET /s HTTP/1.1\n",
    "> Host: www.simul-shop.com\n",
    "> User-Agent: curl/7.71.1\n",
    "> Accept: */*\n",
    "> \n",
    "* TLSv1.3 (IN), TLS handshake, Newsession Ticket (4):\n",
    "* TLSv1.3 (IN), TLS handshake, Newsession Ticket (4):\n",
    "* old SSL session ID is stale, removing\n",
    "* Mark bundle as not supporting multiuse\n",
    "< HTTP/1.1 200 OK\n",
    "< date: Sat, 05 Dec 2020 21:00:40 GMT\n",
    "< server: istio-envoy\n",
    "< content-length: 172\n",
    "< content-type: application/json\n",
    "< x-envoy-upstream-service-time: 51\n",
    "< \n",
    "* Connection #0 to host www.simul-shop.com left intact\n",
    "{\"name\":\"split\",\"description\":\"List ['http://login:8000/', 'http://catalogue:8000/', 'http://orders:8000/s']\",\"app\":\"front-end\",\"version\":\"v1\",\"when\":\"2020-12-05 21:00:40\"}\n",
    "```\n",
    "\n",
    "Você poderá acessar o front-end pelo navegador, mas como o certificado não foi assinado por uma autoridade conhecida pelo navegador, ele irá bloqueá-la.\n",
    "\n",
    "![erro certificado auto-assinado](media/front-end-certificate-error.png)"
   ],
   "metadata": {}
  },
  {
   "cell_type": "markdown",
   "source": [
    "### Dica pro\n",
    "\n",
    "É comum configurar apenas um gateway padrão (default-gateway) para todo o cluster, mas essa prática trás alguns problemas, veremos isso quando configurarmos rotas por caminho.\n",
    "\n",
    "Se você divide o cluster com outros desenvolvedores é bem provável que eles irão criar configurações para o Istio sem avisá-lo, o que pode causar conflitos. Configurações conflitantes serão avaliadas na ordem em que forem aplicadas, ou seja, a última irá prevalecer.\n",
    "\n",
    "Uma dica é ter mais de um ingress, em clusters compartilhados você pode criar um por _namespace_, por exemplo, ou criar ingress dedicados para uma finalidade ou FQDN."
   ],
   "metadata": {}
  },
  {
   "cell_type": "markdown",
   "source": [
    "## Acessando serviços fora da malha\n",
    "\n",
    "O Istio mantém um registro de todos os serviços utilizando as APIs do kubernetes para fazer a auto-descoberta dos serviços. O Istio oferecer suporte à descoberta para vários ambientes, como Kubernetes, Consul ou VMs.\n",
    "\n",
    "Porém, serviços que estão fora da malha não serão descobertos e é onde entra o _ServiceEntry_.\n",
    "\n",
    "O _ServiceEntry_ permite adicionar entradas adicionais ao registro de serviço interno do Istio, para que os serviços de auto-descoberta na malha possam acessa-los e rotea-los.\n",
    "\n",
    "Como o nosso serviço genérico funciona invocando qualquer url, interna ou externa, vamos modificar o `order` para invocar um serviço externo.\n",
    "\n",
    "Para criar um serviço externo, iremos configurar um _generic service_ em um _namespace_ que não tem o rótulo de injeção do _sidecar_ do Istio, ou seja, criaremos um POD sem o istio-proxy.\n",
    "\n",
    "* [assets/exemplos/simul-shop/manifests/10/credit-deployment.yaml](assets/exemplos/simul-shop/manifests/10/credit-deployment.yaml)\n",
    "* [assets/exemplos/simul-shop/manifests/10/orders-deployment-external-api.yaml](assets/exemplos/simul-shop/manifests/10/orders-deployment-external-api.yaml)"
   ],
   "metadata": {}
  },
  {
   "cell_type": "code",
   "execution_count": null,
   "source": [
    "# Cria o serviço credit no namespace financial\n",
    "kubectl apply -f assets/exemplos/simul-shop/manifests/10/credit-deployment.yaml\n",
    "\n",
    "# Modificando o order para invocar serviço externo\n",
    "kubectl apply -f assets/exemplos/simul-shop/manifests/10/orders-deployment-external-api.yaml\n",
    "\n",
    "# httpbin service\n",
    "kubectl apply -f istio-1.11.0/samples/httpbin/httpbin.yaml"
   ],
   "outputs": [],
   "metadata": {}
  },
  {
   "cell_type": "markdown",
   "source": [
    "Vamos para o [kiali](http://localhost:20001) verificar como ficou essa configuração, mas antes precisaremos de tráfego, execute o [assets/scripts/call-simul-shop.sh](assets/scripts/call-simul-shop.sh) em um terminal.\n",
    "\n",
    "![kiali istio egress](media/kiali-istio-without-serviceentry.png)\n",
    "\n",
    "Sem as configurações do Istio, o kiali exibe o tráfego de saída como um \"buraco negro\", um _PassthroughCluster_ porque ele não infere sobre o destino. Isso será válido para quantos serviços externos forem chamado, fazendo com que várias linhas convertam para o mesmo ponto.\n",
    "\n",
    "Agora vamos adicionar algumas [configurações](assets/exemplos/simul-shop/istio/10/credit-serviceentry.yaml) de saída."
   ],
   "metadata": {}
  },
  {
   "cell_type": "code",
   "execution_count": null,
   "source": [
    "kubectl apply -f assets/exemplos/simul-shop/istio/10/credit-serviceentry.yaml"
   ],
   "outputs": [],
   "metadata": {}
  },
  {
   "cell_type": "markdown",
   "source": [
    "Com a configuração do _ServiceEntry_ adicionamos ao registro de serviços do Istio o nosso serviço de crédito, isso possibilia que o Kiali exiba como um destino conhecido.\n",
    "\n",
    "![service entry no kiali](media/kiali-istio-with-serviceentry.png)"
   ],
   "metadata": {}
  },
  {
   "cell_type": "markdown",
   "source": [
    "## Configurando um gateway de saída (egress)\n",
    "\n",
    "Os gateways são usados principalmente para gerenciar o tráfego de entrada, mas você também pode configurar _gateways_ de saída. Um gateway de saída permite configurar nós de saída dedicados para o tráfego que sai da malha, permitindo limitar quais serviços podem ou devem acessar redes externas ou habilitar o controle seguro do tráfego de saída para adicionar segurança à malha.\n",
    "\n",
    "Considere uma organização que tem um requisito de segurança restrito de que todo o tráfego que sai da malha de serviço deve fluir por meio de um conjunto de nós dedicados. Esses nós serão executados em máquinas dedicadas, separados do resto dos nós que executam aplicativos no cluster. Esses nós especiais servirão para aplicação de política no tráfego de saída e serão monitorados de forma mais completa do que outros nós.\n",
    "\n",
    "Outro caso de uso é um cluster onde os nós do aplicativo não têm IPs públicos, de modo que os serviços em malha executados neles não podem acessar a Internet.\n",
    "\n",
    "A figura abaixo ilustra como configuraremos o nosso gateway:\n",
    "\n",
    "![configuração do egress](media/egress-config.png)\n",
    "\n",
    "Nesta [configuração](assets/exemplos/simul-shop/istio/10/egress-example-credit.yaml) temos:\n",
    "\n",
    "* Definir o serviço externo através de um _ServiceEntry_;\n",
    "* Configurar um _gateway_ de saída\n",
    "* Configurar um _VirtualService_ para redirecionar o tráfego do _sidecar_ para o egress\n",
    "\n",
    "Mas antes de aplicá-lo, vamos remover o que fizemos até agora, deixando apenas o serviço `credit`."
   ],
   "metadata": {}
  },
  {
   "cell_type": "code",
   "execution_count": null,
   "source": [
    "kubectl apply -f assets/exemplos/simul-shop/istio/10/egress-example-credit.yaml"
   ],
   "outputs": [],
   "metadata": {}
  },
  {
   "cell_type": "code",
   "execution_count": null,
   "source": [
    "# Alguns podem retornar que não encontraram o recurso\n",
    "kubectl delete -f assets/exemplos/simul-shop/manifests/4\n",
    "\n",
    "kubectl delete -f assets/exemplos/simul-shop/manifests/8/front-end-deployment-v2.yaml\n",
    "\n",
    "kubectl delete -f assets/exemplos/simul-shop/manifests/9/front-end-deployment-v3.yaml\n",
    "\n",
    "kubectl delete -f assets/exemplos/simul-shop/istio/10/front-end-canary-release-with-gateway.yaml\n",
    "\n",
    "kubectl delete -f assets/exemplos/simul-shop/istio/10/default-gateway-with-domain.yaml\n",
    "\n",
    "kubectl delete -f assets/exemplos/simul-shop/istio/10/credit-serviceentry.yaml\n",
    "\n",
    "kubectl delete -f assets/exemplos/simul-shop/manifests/10/orders-deployment-external-api.yaml"
   ],
   "outputs": [],
   "metadata": {}
  },
  {
   "cell_type": "markdown",
   "source": [
    "Conferindo se tudo foi excluído"
   ],
   "metadata": {}
  },
  {
   "cell_type": "code",
   "execution_count": null,
   "source": [
    "# Namespace default - somente o serviço do kuberentes\n",
    "kubectl get deploy,svc,gateway,vs,dr\n",
    "\n",
    "# Namespace financial - nenhum recurso\n",
    "kubectl get deploy,svc,gateway,vs,dr -n financial\n",
    "\n",
    "# Namespace istio-system - nenhum recurso\n",
    "kubectl get gateway,vs,dr -n istio-system"
   ],
   "outputs": [],
   "metadata": {}
  },
  {
   "cell_type": "markdown",
   "source": [
    "Agora vamos aplicar uma nova configuração:\n",
    "\n",
    "* Cliente para chamar o serviço credit\n",
    "* Serviço credit fora da malha\n",
    "* Configuração do Gateway, ServiceEntry e VirtualService.\n",
    "* Execução da carga\n",
    "* Validação e análise no kiali\n",
    "* [assets/exemplos/simul-shop/manifests/10/credit-deployment.yaml](assets/exemplos/simul-shop/manifests/10/credit-deployment.yaml)\n",
    "* [assets/exemplos/simul-shop/istio/10/egress-example-credit.yaml](assets/exemplos/simul-shop/istio/10/egress-example-credit.yaml)"
   ],
   "metadata": {}
  },
  {
   "cell_type": "code",
   "execution_count": null,
   "source": [
    "# Cliente\n",
    "kubectl apply -f istio-1.11.0/samples/sleep/sleep.yaml\n",
    "\n",
    "# Serviço credit\n",
    "kubectl apply -f assets/exemplos/simul-shop/manifests/10/credit-deployment.yaml\n",
    "\n",
    "# Configuração Gateway, ServiceEntry e VirtualService.\n",
    "kubectl apply -f assets/exemplos/simul-shop/istio/10/egress-example-credit.yaml"
   ],
   "outputs": [],
   "metadata": {}
  },
  {
   "cell_type": "markdown",
   "source": [
    "E executar chamadas para o serviço em um terminal ([assets/scripts/call-credit.sh](assets/scripts/call-credit.sh))\n",
    "\n",
    "```bash\n",
    "export SOURCE_POD=$(kubectl get pod -l app=sleep -o jsonpath={.items..metadata.name})\n",
    "\n",
    "while true                                                            \n",
    "do\n",
    "kubectl exec \"$SOURCE_POD\" -c sleep -- curl -sL -D - http://credit.financial/\n",
    "echo\n",
    "sleep 1\n",
    "done\n",
    "```\n",
    "\n",
    "> copie e cole todo o conteúdo em um terminal.\n",
    "\n",
    "Vamos verificar como ficou no kiali. Selecione os três _namespaces_ (default, financial, istio-system)\n",
    "\n",
    "O gráfico de _app_:\n",
    "\n",
    "![kiali com a configuração do egress para credit](media/kiali-egress-credit.png)\n",
    "\n",
    "E a configuração:\n",
    "\n",
    "![kiali com a configuração do egress para credit](media/kiali-config-egress-credit.png)\n",
    "\n",
    "### Considerações\n",
    "\n",
    "Não iremos manter a configuração de egress para a nossa aplicação, como discutido no início da seção, se você não tem um requisito para restringir todo tráfego de saída, não há necessidade dessa configuração, ao contrário do _ServiceEntry_ que manteremos porque auxilia no entendimento da malha e, como veremos nas próximas seções, poderemos aplicar políticas.\n",
    "\n",
    "Então, vamos apagar os recursos e reinstalar a nossa aplicação, mais uma vez, mantermos o serivço de crédito e a aplicação sleep para chamar serviços utilizando o curl de dentro do cluster, mas removeremos a configuração do _gateway_ externo.\n",
    "\n",
    "Pode para a execução das chamadas od serviço no terminal."
   ],
   "metadata": {}
  },
  {
   "cell_type": "code",
   "execution_count": null,
   "source": [
    "# Gateway padrão\n",
    "kubectl delete -f assets/exemplos/simul-shop/istio/10/default-gateway.yaml\n",
    "\n",
    "# Configuração front-end\n",
    "kubectl delete -f assets/exemplos/simul-shop/istio/10/front-end-with-gateway.yaml\n",
    "\n",
    "# Configuração Gateway, ServiceEntry e VirtualService.\n",
    "kubectl delete -f assets/exemplos/simul-shop/istio/10/egress-example-credit.yaml\n",
    "\n",
    "# Cria o serviço credit no namespace financial\n",
    "kubectl delete -f assets/exemplos/simul-shop/manifests/10/credit-deployment.yaml\n",
    "\n",
    "# Modificando o order para invocar serviço externo\n",
    "kubectl delete -f assets/exemplos/simul-shop/manifests/10/orders-deployment-external-api.yaml\n",
    "\n",
    "# httpbin service\n",
    "kubectl delete -f istio-1.11.0/samples/httpbin/httpbin.yaml\n",
    "\n",
    "# sleep service\n",
    "kubectl delete -f istio-1.11.0/samples/sleep/sleep.yaml"
   ],
   "outputs": [],
   "metadata": {}
  },
  {
   "cell_type": "markdown",
   "source": [
    "## Conclusão\n",
    "\n",
    "_Gateways_ são _proxies_ implementados pelo Istio utilizando o Envoy que tem como função controlar a entrada e saída do tráfego de requisições da nossa malha, mas em resumo são Envoys que são configurados para lidar com as camadas de transporte a apresentaçõa ([modelo OSI](https://en.wikipedia.org/wiki/OSI_model)) e em conjunto com os _VirtualServices_, completam as configurações de gerenciamento de tráfego.\n",
    "\n",
    "Foi uma longa jornada até aqui, mas agora temos as ferramentas para configurar o Istio para atender diversos cenários e de forma segura, na próxima seção continuaremos explorarando o gerencimaento de tráfego e como resolver problemas complexos combinando as ferramentas que já temos."
   ],
   "metadata": {}
  }
 ],
 "metadata": {
  "kernelspec": {
   "display_name": "Bash",
   "language": "bash",
   "name": "bash"
  },
  "language_info": {
   "codemirror_mode": "shell",
   "file_extension": ".sh",
   "mimetype": "text/x-sh",
   "name": "bash"
  }
 },
 "nbformat": 4,
 "nbformat_minor": 4
}