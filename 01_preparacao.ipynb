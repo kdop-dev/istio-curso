{
 "cells": [
  {
   "cell_type": "markdown",
   "metadata": {},
   "source": [
    "# Instalando docker-engine e docker-desktop\n",
    "\n",
    "Ref: [Docker Desktop overview](https://docs.docker.com/desktop/)\n",
    "\n",
    "Você precisará de um cluster de kubernetes para realizar os labs, a forma mais simples é utilizar o kubernetes que acompanha o docker-desktop, porém, se estiver acompanhando este curso em Linux, não há ainda um docker-desktop e as opções estão listadas abaixo."
   ]
  },
  {
   "cell_type": "markdown",
   "metadata": {},
   "source": [
    "## Linux com kind\n",
    "\n",
    "Ref: [Install Docker Engine](https://docs.docker.com/engine/install/) e [kind](https://kind.sigs.k8s.io/)\n",
    "\n",
    "Siga as instruções para criar um cluster de kubernetes com kind e ajuste o contexto para o cluster criado.\n",
    "\n",
    "Exemplo:"
   ]
  },
  {
   "cell_type": "code",
   "execution_count": null,
   "metadata": {},
   "outputs": [],
   "source": [
    "# Crie o cluster, isso pode demorar alguns minutos\n",
    "kind create cluster --name curso-istio\n",
    "\n",
    "# Verifique o cluster\n",
    "kubectl cluster-info --context kind-curso-istio\n",
    "\n",
    "# Ajuste o contexto para não precisar mais adicionar o parâmetro contexto\n",
    "kubectl config set-context kind-curso-istio\n",
    "\n",
    "# Teste novamente\n",
    "kubectl cluster-info\n",
    "\n",
    "# Verifique que todos os pods estejam no estado Running antes de prosseguir\n",
    "# PODs Pending ou Invicted podem indicar que você precisará prover mais recursos (memória / cpu) para o Docker\n",
    "# Execute: kubectl get pods --field-selector=status.phase=Pending --all-namespaces \n",
    "# https://kubernetes.io/docs/concepts/workloads/pods/pod-lifecycle\n",
    "kubectl get pods -n kube-system"
   ]
  },
  {
   "cell_type": "markdown",
   "metadata": {},
   "source": [
    "## Mac\n",
    "\n",
    "Você precisará aumentar os recursos de CPU e memória disponíveis para o docker, ajuste-os em configurações e, dependendo o seu hardware, habilite o máximo uso de CPU e pelo menos 8GB de memória.\n",
    "\n",
    "Ref: [Install Docker Desktop on Mac](https://docs.docker.com/docker-for-mac/install/)"
   ]
  },
  {
   "cell_type": "markdown",
   "metadata": {},
   "source": [
    "## Windows\n",
    "\n",
    "Se você estiver utilizando o docker-desktop com WSL2 não é necessário aumentar os recursos, porém, se estiver utilizando com máquina virtual, nas configurações incremente a CPU para o máximo e memória para pelo menos 4GB. \n",
    "\n",
    "Ref: [Install Docker Desktop on Windows](https://docs.docker.com/docker-for-windows/install/)"
   ]
  },
  {
   "cell_type": "markdown",
   "metadata": {},
   "source": [
    "## Testando o acesso\n",
    "\n",
    "Dependendo da opção que você escolheu, provavelmente você precisará definir a variável `KUBECONFIG`\n",
    "\n",
    "```bash\n",
    "# aponte para onde está o arquivo de config\n",
    "export KUBECONFIG=$PWD/config\n",
    "```\n",
    "\n",
    "Para o docker-desktop você não precisa fazer nada, teste com o comando:"
   ]
  },
  {
   "cell_type": "code",
   "execution_count": null,
   "metadata": {},
   "outputs": [],
   "source": [
    "echo $KUBECONFIG\n",
    "\n",
    "kubectl cluster-info"
   ]
  },
  {
   "cell_type": "markdown",
   "metadata": {},
   "source": [
    "## Outras alternativas para kubernetes\n",
    "\n",
    "Você pode optar por não usar o kubernetes que acompanha o docker-desktop, ou no caso do linux, usar o kind.\n",
    "\n",
    "A seguir algumas opções com baixo consumo de recursos da sua máquina.\n",
    "\n",
    "* [rke](https://rancher.com/products/rke/)\n",
    "* [minikube](https://minikube.sigs.k8s.io/docs/start/)\n",
    "* [microk8s](https://microk8s.io/)\n",
    "\n",
    "Caso você tenha acesso a alguma nuvem, poderá utilizar um cluster de kuberentes como o GKE, AKS ou EKS, mas fique ciente que eles terão custo. Uma outra alternativa é utilizar a infraestrutura do [Katacoda](https://www.katacoda.com/), este curso [Olá K8s v1.08](https://www.katacoda.com/adsantos/courses/k8s/k8s-hello) é uma introdução ao kuberentes e você terá um cluster de kuberentes operacional por algumas horas. Em breve teremos uma versão deste curso também para esta plataforma."
   ]
  },
  {
   "cell_type": "markdown",
   "metadata": {},
   "source": [
    "## Ferramentas\n",
    "\n",
    "Algumas ferramentas ajudarão a melhorar nossa produtividade e outras são essenciais para o curso. Todas serão instaladas no seu computador de trabalho, são elas:\n",
    "\n",
    "* [kubectl](https://kubernetes.io/docs/tasks/tools/install-kubectl/) - A ferramenta de linha de comando do kubernetes. Necessário para executar comandos para o cluster.\n",
    "* [istioctl](https://istio.io/latest/docs/ops/diagnostic-tools/istioctl/) - CLI para o Istio, será instalado na seção 02.\n",
    "* [wercker/stern](https://github.com/wercker/stern) - Stern permite acessar log em multiplos PODs e containers.\n",
    "* curl - CLI para transferir dados via URLs. Procure no google como instala-lo em seu sistema operacional.\n",
    "* watch - é uma ferramenta de linha de comando, que executa o comando especificado repetidamente. Procure no google para instala-la.\n",
    "* [hey](https://github.com/rakyll/hey) - Gera carga para aplicações web.\n",
    "* [httpie](https://httpie.io/) - utilitário para enviar requiisções http com um retorno mais amigável."
   ]
  }
 ],
 "metadata": {
  "hide_input": false,
  "kernelspec": {
   "display_name": "Bash",
   "language": "bash",
   "name": "bash"
  },
  "language_info": {
   "codemirror_mode": "shell",
   "file_extension": ".sh",
   "mimetype": "text/x-sh",
   "name": "bash"
  },
  "toc": {
   "base_numbering": 1,
   "nav_menu": {},
   "number_sections": true,
   "sideBar": true,
   "skip_h1_title": false,
   "title_cell": "Table of Contents",
   "title_sidebar": "Contents",
   "toc_cell": false,
   "toc_position": {},
   "toc_section_display": true,
   "toc_window_display": false
  },
  "varInspector": {
   "cols": {
    "lenName": 16,
    "lenType": 16,
    "lenVar": 40
   },
   "kernels_config": {
    "python": {
     "delete_cmd_postfix": "",
     "delete_cmd_prefix": "del ",
     "library": "var_list.py",
     "varRefreshCmd": "print(var_dic_list())"
    },
    "r": {
     "delete_cmd_postfix": ") ",
     "delete_cmd_prefix": "rm(",
     "library": "var_list.r",
     "varRefreshCmd": "cat(var_dic_list()) "
    }
   },
   "types_to_exclude": [
    "module",
    "function",
    "builtin_function_or_method",
    "instance",
    "_Feature"
   ],
   "window_display": false
  }
 },
 "nbformat": 4,
 "nbformat_minor": 4
}
