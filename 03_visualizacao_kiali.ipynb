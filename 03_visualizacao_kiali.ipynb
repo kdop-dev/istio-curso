{
 "cells": [
  {
   "cell_type": "markdown",
   "metadata": {},
   "source": [
    "# Visualizando a malha de serviços com Kiali\n",
    "\n",
    "Discutiremos sobre muitas ferramentas durante este curso, mas o [Kiali](https://kiali.io/) é a ferramenta que ajudará você a entender e administrar sua malha de serviços.\n",
    "\n",
    "Até a versão 1.5, o Kiali e outras ferramentas faziam parte da distribuição do Istio (_profile_), mas desde a versão 1.6 essas ferramentas devem ser instaladas separadamente.\n",
    "\n",
    "Convenientemente o download do Istio, que fizemos na primeira parte, contém essas ferramentas.\n",
    "\n",
    "Mas antes de instalar o Kiali, vamos verificar o acesso ao cluster:"
   ]
  },
  {
   "cell_type": "code",
   "execution_count": null,
   "metadata": {
    "ExecuteTime": {
     "end_time": "2020-10-14T17:06:36.590203Z",
     "start_time": "2020-10-14T17:06:34.636568Z"
    }
   },
   "outputs": [],
   "source": [
    "# [Opcional] Se você não estiver usando o docker-desktop será necessário obter o arquivo de configuração e ajustar a variável KUBECONFIG\n",
    "#export KUBECONFIG=~/.kube/config # Local do kubeconfig do docker-desktop\n",
    "\n",
    "kubectl config get-contexts\n",
    "kubectl get nodes"
   ]
  },
  {
   "cell_type": "markdown",
   "metadata": {},
   "source": [
    "> Se você estiver utilizando o docker-desktop ou minikube, provavelmente não precisará configurar a variável de ambiente _KUBECONFIG_ a cada lição, mas se receber algum erro de conexão com o cluster, verifique se a variável existe e está apontando para o arquivo de configuração correto (`echo $KUBECONFIG`).\n",
    "\n",
    "> Você também pode passar a variável de ambiente para o Jupyter Lab no terminal: `env KUBECONFIG=~/.kube/config jupyter lab`. Isso fará com que ela esteja acessível em todas as lições (notebooks)."
   ]
  },
  {
   "cell_type": "markdown",
   "metadata": {},
   "source": [
    "Ok, estamos prontos para continuar, mas se tiver algum problema, consulte \"Acessando o cluster\" na parte 1.\n",
    "\n",
    "### Instalando o kiali e dependências no cluster\n",
    "\n",
    "Para instalar o Kiali iremos aplicar o arquivo [kiali.yaml](istio-1.7.4/samples/addons/kiali.yaml), mas antes vamos inspecioná-lo, clique no link para abri-lo.\n",
    "\n",
    "O arquivo kiali é composto de alguns recursos, são eles:\n",
    "\n",
    "* CDR\n",
    "* ServiceAccount\n",
    "* ConfigMap\n",
    "* ClusterRole\n",
    "* ClusterRoleBinding\n",
    "* Deployment\n",
    "* Service\n",
    "* MonitoringDashboard\n",
    "\n",
    "Com exceção do `MonitoringDashboard`, todos os demais recursos são do kubernetes e o CRD (Custom Resource Definition) é uma forma de criar novos recursos no kubernetes, neste caso, ele define o `MonitoringDashboard`. Mais sobre kuberntes você pode obter no nosso curso [Kubernetes avançado para iniciantes](TODO), onde abordamos esses temas e muitos outros.\n",
    "\n",
    "Vamos instalar e conhecer o kiali antes de nos aprofundar neste CDR."
   ]
  },
  {
   "cell_type": "markdown",
   "metadata": {},
   "source": [
    "Bug versão 1.7.0 a 1.9.1 - [Istio 1.7.1 unable to install Kiali addon #27417](https://github.com/istio/istio/issues/27417)\n",
    "\n",
    "Necessário aplicar o CRD antes do restante dos recursos."
   ]
  },
  {
   "cell_type": "code",
   "execution_count": null,
   "metadata": {},
   "outputs": [],
   "source": [
    "cat <<EOF | kubectl apply -f -\n",
    "apiVersion: apiextensions.k8s.io/v1beta1\n",
    "kind: CustomResourceDefinition\n",
    "metadata:\n",
    "  name: monitoringdashboards.monitoring.kiali.io\n",
    "spec:\n",
    "  group: monitoring.kiali.io\n",
    "  names:\n",
    "    kind: MonitoringDashboard\n",
    "    listKind: MonitoringDashboardList\n",
    "    plural: monitoringdashboards\n",
    "    singular: monitoringdashboard\n",
    "  scope: Namespaced\n",
    "  versions:\n",
    "  - name: v1alpha1\n",
    "    served: true\n",
    "    storage: true\n",
    "EOF"
   ]
  },
  {
   "cell_type": "markdown",
   "metadata": {},
   "source": [
    "Agora podemos instalar os recursos do kiali:"
   ]
  },
  {
   "cell_type": "code",
   "execution_count": null,
   "metadata": {},
   "outputs": [],
   "source": [
    "ISTIO_VERSION=1.9.1\n",
    "\n",
    "kubectl apply -f istio-$ISTIO_VERSION/samples/addons/kiali.yaml"
   ]
  },
  {
   "cell_type": "markdown",
   "metadata": {},
   "source": [
    "E o prometheus, responsável por coletar dados dos _containers_ que serão utilizados pelo kiali:"
   ]
  },
  {
   "cell_type": "code",
   "execution_count": null,
   "metadata": {},
   "outputs": [],
   "source": [
    "kubectl apply -f istio-$ISTIO_VERSION/samples/addons/prometheus.yaml"
   ]
  },
  {
   "cell_type": "markdown",
   "metadata": {},
   "source": [
    "Vamos verificar o que foi instalado:"
   ]
  },
  {
   "cell_type": "code",
   "execution_count": null,
   "metadata": {},
   "outputs": [],
   "source": [
    "kubectl get all -n istio-system"
   ]
  },
  {
   "cell_type": "markdown",
   "metadata": {},
   "source": [
    "O serviço do kiali é do tipo `ClusterIP`, o que significa que não podemos acessá-lo diretamente de fora do cluster, há algumas alternativas, modificar ou criar um serviço do tipo `NodePort` ou `LoadBalancer`, configurar um `Ingress` ou usar o subcomando `port-forward` do `kubectl`.\n",
    "\n",
    "Porém o `istioctl` oferece um subcomando conveniente para acessar o kiali, o `istioctl dashboard kiali`.\n",
    "\n",
    "Vamos acessa-lo, mas antes, vamos gerar algum tráfego para a nossa aplicação, copie conteúdo do arquivo [assets/scripts/simple-app.sh](assets/scripts/simple-app.sh) e cole em um terminal:\n",
    "\n",
    "Agora vamos acessar o painel:"
   ]
  },
  {
   "cell_type": "code",
   "execution_count": null,
   "metadata": {},
   "outputs": [],
   "source": [
    "istioctl dashboard kiali"
   ]
  },
  {
   "cell_type": "markdown",
   "metadata": {},
   "source": [
    "E voilá, você está acessando o painel do kiali.\n",
    "\n",
    "Vamos explorar alguns recursos do kiali.\n",
    "\n",
    "![kiali overview](media/kiali-overview.gif)\n",
    "\n",
    "O kiali oferece uma visibilidade inpressionante da malha de serviços e tudo que precisamos fazer é anotar o _namespace_ onde nossa aplicação será instalada.\n",
    "\n",
    "Interrompa a execução do dashboard:\n",
    "* No Jupyter Lab ou Notebook: Selecione a célula com o comando `istioctl dashboard kiali` e clique no icone <kbd>◾</kbd> (_Interrup the kernel_ na barra de ferramentas)\n",
    "* No terminal: tecle <kbd>CTRL</kbd>+<kbd>C</kbd>"
   ]
  },
  {
   "cell_type": "markdown",
   "metadata": {},
   "source": [
    "Se você participou do nosso curso de [Kubernetes avançado para iniciantes](TODO) deve imaginar o que o `istioctl`automatizou, foi o comando `kubectl port-forward` e adicionou um comando de ` open` para abrir a página inicial no navegador.\n",
    "\n",
    "O comando a seguir tem efeito semelhante (sem a parte do navegador)"
   ]
  },
  {
   "cell_type": "code",
   "execution_count": null,
   "metadata": {},
   "outputs": [],
   "source": [
    "kubectl port-forward service/kiali 20001:20001 -n istio-system"
   ]
  },
  {
   "cell_type": "markdown",
   "metadata": {},
   "source": [
    "Kiali _dashboard_: <http://localhost:20001>\n",
    "\n",
    "Mesmo resultado, mas não tão elegante. Ficaremos com o `istioctl dashboard <dashboard>` pelo resto do curso.\n",
    "\n",
    "Interrompa a execução do `port-forward` do mesmo jeito que fizemos com o `istioctl`.\n",
    "\n",
    "E vamos executar o kiali novamente, mas agora em segundo plano."
   ]
  },
  {
   "cell_type": "code",
   "execution_count": null,
   "metadata": {},
   "outputs": [],
   "source": [
    "istioctl dashboard kiali &\n",
    "export KIALI_PID=$!"
   ]
  },
  {
   "cell_type": "markdown",
   "metadata": {},
   "source": [
    "E acessá-lo pela url <http://localhost:20001>, caso não abra automaticamente."
   ]
  },
  {
   "cell_type": "markdown",
   "metadata": {},
   "source": [
    "### Labels\n",
    "\n",
    "Para kiali, os rótulos `app` e `version` são reconhecidos automaticamente e utilizados para agrupar os serviços e as cargas de trabalho.\n",
    "\n",
    "Esses dois rótulos são requeridos e o Kiali irá indicar um alerta caso algum deles esteja faltando, embora isso não afete o funcionamento da aplicação.\n",
    "\n",
    "Podemos utilizar os rótulos para localizar os recurso no kuberentes:"
   ]
  },
  {
   "cell_type": "code",
   "execution_count": null,
   "metadata": {},
   "outputs": [],
   "source": [
    "kubectl describe deploy -l app=simple-app"
   ]
  },
  {
   "cell_type": "markdown",
   "metadata": {},
   "source": [
    "E no nosso [deployment](exemplos/2_simple-app/deployment.yaml) adicionamos na seção _template_ os rótulos que desejamos que sejam adicionados aos PODs que forem criados."
   ]
  },
  {
   "cell_type": "code",
   "execution_count": null,
   "metadata": {},
   "outputs": [],
   "source": [
    "kubectl get pods -l app=simple-app,version=v1"
   ]
  },
  {
   "cell_type": "markdown",
   "metadata": {},
   "source": [
    "A sintaxe para busca de recursos utilizando rótulos é bem rica no kubernetes, para mais exemplos acesse [kubernetes - Labels and Selectors](https://kubernetes.io/docs/concepts/overview/working-with-objects/labels/).\n",
    "\n",
    "## Conclusão\n",
    "\n",
    "O kiali não é uma ferramenta estática, uma das suas forças e exibir a relação entre os recursos em tempo de execução. Nas próximas seções iremos explorar uma aplicação com uma malha de serviços.\n",
    "\n",
    "Você pode manter o redirecionamento para o dashboard do kiali ou pará-lo, iremos utilizá-lo várias vezes durante o curso. Então lembre-se de não executá-lo novamente se deixa-lo rodando.\n",
    "\n",
    "Para interrompê-lo pare o processo do `istioctl`, que salvamos na variável `KIALI_PID`."
   ]
  },
  {
   "cell_type": "code",
   "execution_count": null,
   "metadata": {},
   "outputs": [],
   "source": [
    "kill $KIALI_PID"
   ]
  },
  {
   "cell_type": "markdown",
   "metadata": {},
   "source": [
    "## Limpando\n",
    "\n",
    "Não precisaremos mais da nossa aplicação de teste, vamos exluí-la para liberar recursos do cluster.\n",
    "\n",
    "Os recursos criados podem ser obtidos passando as mesmas configurações que utilizamos para criá-los."
   ]
  },
  {
   "cell_type": "code",
   "execution_count": null,
   "metadata": {},
   "outputs": [],
   "source": [
    "kubectl get -f assets/exemplos/simple-app"
   ]
  },
  {
   "cell_type": "markdown",
   "metadata": {},
   "source": [
    "E o mesmo vale para excluí-los.\n",
    "\n",
    "> O kubectl não solicita confirmação para execução, tome cuidado e revise o comando antes de executá-lo."
   ]
  },
  {
   "cell_type": "code",
   "execution_count": null,
   "metadata": {},
   "outputs": [],
   "source": [
    "kubectl delete -f assets/exemplos/simple-app"
   ]
  }
 ],
 "metadata": {
  "kernelspec": {
   "display_name": "Bash",
   "language": "bash",
   "name": "bash"
  },
  "language_info": {
   "codemirror_mode": "shell",
   "file_extension": ".sh",
   "mimetype": "text/x-sh",
   "name": "bash"
  }
 },
 "nbformat": 4,
 "nbformat_minor": 4
}
