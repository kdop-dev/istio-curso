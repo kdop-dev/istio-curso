{
 "cells": [
  {
   "cell_type": "markdown",
   "metadata": {},
   "source": [
    "# Segurança - parte 2\n",
    "\n",
    "## Políticas de autenticação\n",
    "\n",
    "### Autenticando o usuário\n",
    "\n",
    "O Istio utiliza [JSON Web Token (JWT)](https://jwt.io/introduction/) que é um tipo de token de autenticação usado para identificar um usuário para um aplicativo de servidor.\n",
    "\n",
    "Os JWTs contêm informações sobre o chamador do cliente e podem ser usados como parte de uma arquitetura de sessão do cliente. Um [JSON Web Key Set (JWKS)](https://auth0.com/docs/jwks) contém as chaves criptográficas usadas para verificar os JWTs recebidos.\n",
    "\n",
    "![istio jwt](media/istio-jwt.png)\n",
    "\n",
    "Adaptamos o exemplo do [Istio](https://istio.io/latest/docs/tasks/security/authentication/authn-policy/#end-user-authentication) e iremos criar nossos próprios certificados.\n",
    "\n",
    "Vamos definir como chegaremos nos nossos serviços:"
   ]
  },
  {
   "cell_type": "code",
   "execution_count": 2,
   "metadata": {},
   "outputs": [],
   "source": [
    "export INGRESS_HOST=$(kubectl -n istio-system get service istio-ingressgateway -o jsonpath='{.status.loadBalancer.ingress[0].ip}')\n",
    "export INGRESS_PORT=$(kubectl -n istio-system get service istio-ingressgateway -o jsonpath='{.spec.ports[?(@.name==\"http2\")].port}')\n",
    "export SECURE_INGRESS_PORT=$(kubectl -n istio-system get service istio-ingressgateway -o jsonpath='{.spec.ports[?(@.name==\"https\")].port}')\n",
    "export TCP_INGRESS_PORT=$(kubectl -n istio-system get service istio-ingressgateway -o jsonpath='{.spec.ports[?(@.name==\"tcp\")].port}')"
   ]
  },
  {
   "cell_type": "markdown",
   "metadata": {},
   "source": [
    "Obtenha os scripts para criar os certificados e gerar os tokens"
   ]
  },
  {
   "cell_type": "code",
   "execution_count": null,
   "metadata": {},
   "outputs": [],
   "source": [
    "# Script\n",
    "wget --no-verbose https://raw.githubusercontent.com/istio/istio/release-1.8/security/tools/jwt/samples/gen-jwt.py -P scripts/\n",
    "\n",
    "# [Opcional] jwkgen. Os cerficiados estão no diretório exemplos/certificados\n",
    "# Para instalar em outros sistemas operacionais acesse: https://github.com/rakutentech/jwkgen\n",
    "brew tap rakutentech/tap\n",
    "brew install jwkgen"
   ]
  },
  {
   "cell_type": "markdown",
   "metadata": {},
   "source": [
    "### Aplicação\n",
    "\n",
    "Vamos implemntar o seguinte cenário, a equipe responsável pelo serviço `login` quer expó-lo para fora da malha, mas somente para usuários autenticados."
   ]
  },
  {
   "cell_type": "code",
   "execution_count": 20,
   "metadata": {},
   "outputs": [
    {
     "name": "stdout",
     "output_type": "stream",
     "text": [
      "NAME                     READY   STATUS    RESTARTS   AGE\n",
      "login-58797dddfb-f5qls   2/2     Running   2          4d23h\n"
     ]
    }
   ],
   "source": [
    "# Install app and inject sidecar label\n",
    "kubectl get pods -l app=login"
   ]
  },
  {
   "cell_type": "code",
   "execution_count": 21,
   "metadata": {},
   "outputs": [
    {
     "name": "stdout",
     "output_type": "stream",
     "text": [
      "200\n"
     ]
    }
   ],
   "source": [
    "# Usaremos o POD sleep para chamar nossos serviços\n",
    "kubectl exec \"$(kubectl get pod -l app=front-end -o jsonpath={.items..metadata.name})\" -c front-end -- curl http://login:8000/ -s -o /dev/null -w \"%{http_code}\\n\"\n",
    "# Output\n",
    "# 200"
   ]
  },
  {
   "cell_type": "code",
   "execution_count": 22,
   "metadata": {},
   "outputs": [
    {
     "name": "stdout",
     "output_type": "stream",
     "text": [
      " front-end to login: 200\n",
      " front-end to catalogue: 200\n",
      " front-end to orders: 200\n"
     ]
    }
   ],
   "source": [
    "for service in \"login\" \"catalogue\" \"orders\";\n",
    "  do kubectl exec \"$(kubectl get pod -l app=front-end -o jsonpath={.items..metadata.name})\" -c front-end -- curl \"http://${service}:8000/\" -s -o /dev/null -w \" front-end to ${service}: %{http_code}\\n\"; \n",
    "done\n",
    "# Output\n",
    "# front-end to login: 200\n",
    "# front-end to catalogue: 200\n",
    "# front-end to orders: 200"
   ]
  },
  {
   "cell_type": "markdown",
   "metadata": {},
   "source": [
    "Vamos nos certificar que não há configurações do Istio."
   ]
  },
  {
   "cell_type": "code",
   "execution_count": 4,
   "metadata": {},
   "outputs": [
    {
     "name": "stdout",
     "output_type": "stream",
     "text": [
      "No resources found\n",
      "No resources found\n",
      "No resources found\n",
      "No resources found\n"
     ]
    }
   ],
   "source": [
    "# request auth policy:\n",
    "kubectl get requestauthentication --all-namespaces\n",
    "\n",
    "# authorization policy:\n",
    "kubectl get authorizationpolicy --all-namespaces\n",
    "\n",
    "# virtual service\n",
    "kubectl get vs --all-namespaces\n",
    "\n",
    "# ingress gateway\n",
    "kubectl get gateway --all-namespaces"
   ]
  },
  {
   "cell_type": "markdown",
   "metadata": {},
   "source": [
    "### Configurando o acesso ao login\n",
    "\n",
    "Iremos configurar um [ingress gateway](https://istio.io/latest/docs/tasks/traffic-management/ingress/) para o login para que possamos aplicar as regras exclusivamente para esse serviço."
   ]
  },
  {
   "cell_type": "code",
   "execution_count": 5,
   "metadata": {},
   "outputs": [
    {
     "name": "stdout",
     "output_type": "stream",
     "text": [
      "gateway.networking.istio.io/login-gateway created\n",
      "virtualservice.networking.istio.io/login created\n"
     ]
    }
   ],
   "source": [
    "# Ingress Gateway\n",
    "kubectl apply -f - <<EOF\n",
    "apiVersion: networking.istio.io/v1alpha3\n",
    "kind: Gateway\n",
    "metadata:\n",
    "  name: login-gateway\n",
    "  namespace: default\n",
    "spec:\n",
    "  selector:\n",
    "    istio: ingressgateway # use Istio default gateway implementation\n",
    "  servers:\n",
    "  - port:\n",
    "      number: 80\n",
    "      name: http\n",
    "      protocol: HTTP\n",
    "    hosts:\n",
    "    - \"*\"\n",
    "EOF\n",
    "\n",
    "# VirtualService\n",
    "kubectl apply -f - <<EOF\n",
    "apiVersion: networking.istio.io/v1alpha3\n",
    "kind: VirtualService\n",
    "metadata:\n",
    "  name: login\n",
    "  namespace: default\n",
    "spec:\n",
    "  hosts:\n",
    "  - \"login.default\"\n",
    "  gateways:\n",
    "  - login-gateway\n",
    "  http:\n",
    "  - route:\n",
    "    - destination:\n",
    "        port:\n",
    "          number: 8000\n",
    "        host: login.default.svc.cluster.local\n",
    "EOF"
   ]
  },
  {
   "cell_type": "markdown",
   "metadata": {},
   "source": [
    "Testando:"
   ]
  },
  {
   "cell_type": "code",
   "execution_count": 7,
   "metadata": {},
   "outputs": [
    {
     "name": "stdout",
     "output_type": "stream",
     "text": [
      "\u001b[34mHTTP\u001b[39;49;00m/\u001b[34m1.1\u001b[39;49;00m \u001b[34m200\u001b[39;49;00m \u001b[36mOK\u001b[39;49;00m\n",
      "\u001b[36mcontent-length\u001b[39;49;00m: 104\n",
      "\u001b[36mcontent-type\u001b[39;49;00m: application/json\n",
      "\u001b[36mdate\u001b[39;49;00m: Mon, 21 Dec 2020 22:16:47 GMT\n",
      "\u001b[36mserver\u001b[39;49;00m: istio-envoy\n",
      "\u001b[36mx-envoy-upstream-service-time\u001b[39;49;00m: 23\n",
      "\n",
      "{\n",
      "    \u001b[94m\"app\"\u001b[39;49;00m: \u001b[33m\"login\"\u001b[39;49;00m,\n",
      "    \u001b[94m\"description\"\u001b[39;49;00m: \u001b[33m\"Hi there!\"\u001b[39;49;00m,\n",
      "    \u001b[94m\"name\"\u001b[39;49;00m: \u001b[33m\"greetings\"\u001b[39;49;00m,\n",
      "    \u001b[94m\"version\"\u001b[39;49;00m: \u001b[33m\"v1\"\u001b[39;49;00m,\n",
      "    \u001b[94m\"when\"\u001b[39;49;00m: \u001b[33m\"2020-12-21 22:16:48\"\u001b[39;49;00m\n",
      "}\n",
      "\n",
      "\n"
     ]
    }
   ],
   "source": [
    "http \"$INGRESS_HOST:$INGRESS_PORT/\" \"Host: login.default\"\n",
    "# Output\n",
    "# HTTP/1.1 200 OK\n",
    "# content-length: 104\n",
    "# content-type: application/json\n",
    "# date: Mon, 21 Dec 2020 20:56:18 GMT\n",
    "# server: istio-envoy\n",
    "# x-envoy-upstream-service-time: 4\n",
    "\n",
    "# {\n",
    "#     \"app\": \"login\",\n",
    "#     \"description\": \"Hi there!\",\n",
    "#     \"name\": \"greetings\",\n",
    "#     \"version\": \"v1\",\n",
    "#     \"when\": \"2020-12-21 20:56:18\"\n",
    "# }"
   ]
  },
  {
   "cell_type": "markdown",
   "metadata": {},
   "source": [
    "### Criando os certificados e configurando JWT\n",
    "\n",
    "Antes de configurar o Istio para validar tokens, precisamos de certificados. Iremos utilizar uma arquitetura simples, um utilitário irá criar os certificados e um script irá gerar os tokens.\n",
    "\n",
    "Normalmente essa infraestrutura é mais sofisticada, como o serviço PaaS da [Auth0](https://auth0.com/), mas os elementos são os mesmos.\n",
    "\n",
    "Vamos criar os certificados:"
   ]
  },
  {
   "cell_type": "code",
   "execution_count": null,
   "metadata": {},
   "outputs": [],
   "source": [
    "jwkgen rsa exemplos/certificates/istio-curso"
   ]
  },
  {
   "cell_type": "markdown",
   "metadata": {},
   "source": [
    "Isso irá criar quatro arquivos:\n",
    "\n",
    "* istio-curso.json - jwks privado\n",
    "* istio-curso.pem - chave privada\n",
    "* istio-curso.pub.json - jwks público\n",
    "* istio-curso.pub.pem - chave pública\n",
    "\n",
    "Iremos utilizar a chave privada e modificaremos a chave jwks pública, como segue:\n",
    "\n",
    "```json\n",
    "{\n",
    "    \"keys\": [\n",
    "        {\n",
    "            \"kid\": \"yQtcBEoJ-ZvTFdTCxw9WpSnPrh6sHz0WxoEgG1USCYQ\",\n",
    "            \"kty\": \"RSA\",\n",
    "            \"n\": \"yMqQJN53dMD6VEjo0prFbtKdaCKX76ebpJIL4OcXvx5HGeG8tuX6PENnuPc_f3ddnCHVr_Qwx0a6fmCwatxRvwXhf7ClJjs6bo-iEWskD_U-Vbk7Zt7IN94-hnx2oH4nO5DCDmtJrdDd6Gy8vo0iGonOWCtqalwOZg2cG5i7KkU5wNidrtzh81Oocwlk_9-rhOMrEDv5iXk_k4GUNktJjV-1FLNZIZGnMRvehV-xnclyyCMFRIgOSm0mg3tDEgUMEgKTZxwsWt8BrqkmBKorTfxGpbHAkGuujrxHSQDyC_SlrRBn86fVnAIpHOHNVp6sorjo5jXJl0GjXZ3Allw5nw\",\n",
    "            \"e\": \"AQAB\"\n",
    "        }\n",
    "    ]\n",
    "}\n",
    "```\n",
    "\n",
    "> Para configurar a _RequestAuthentication_ jwks iremos remover as quebras de linhas.\n",
    "\n",
    "Vamos configurar o Ingress Gateway para validar o token:"
   ]
  },
  {
   "cell_type": "code",
   "execution_count": 8,
   "metadata": {},
   "outputs": [
    {
     "name": "stdout",
     "output_type": "stream",
     "text": [
      "requestauthentication.security.istio.io/jwt-login created\n"
     ]
    }
   ],
   "source": [
    "kubectl apply -f - <<EOF\n",
    "apiVersion: \"security.istio.io/v1beta1\"\n",
    "kind: \"RequestAuthentication\"\n",
    "metadata:\n",
    "  name: \"jwt-login\"\n",
    "  namespace: istio-system\n",
    "spec:\n",
    "  selector:\n",
    "    matchLabels:\n",
    "      istio: ingressgateway\n",
    "  jwtRules:\n",
    "  - issuer: \"john@simul-shop.com\"\n",
    "    jwks: |\n",
    "        {\n",
    "            \"keys\": [\n",
    "                {\n",
    "                    \"kid\": \"yQtcBEoJ-ZvTFdTCxw9WpSnPrh6sHz0WxoEgG1USCYQ\",\n",
    "                    \"kty\": \"RSA\",\n",
    "                    \"n\": \"yMqQJN53dMD6VEjo0prFbtKdaCKX76ebpJIL4OcXvx5HGeG8tuX6PENnuPc_f3ddnCHVr_Qwx0a6fmCwatxRvwXhf7ClJjs6bo-iEWskD_U-Vbk7Zt7IN94-hnx2oH4nO5DCDmtJrdDd6Gy8vo0iGonOWCtqalwOZg2cG5i7KkU5wNidrtzh81Oocwlk_9-rhOMrEDv5iXk_k4GUNktJjV-1FLNZIZGnMRvehV-xnclyyCMFRIgOSm0mg3tDEgUMEgKTZxwsWt8BrqkmBKorTfxGpbHAkGuujrxHSQDyC_SlrRBn86fVnAIpHOHNVp6sorjo5jXJl0GjXZ3Allw5nw\",\n",
    "                    \"e\": \"AQAB\"\n",
    "                }\n",
    "            ]\n",
    "        }\n",
    "EOF"
   ]
  },
  {
   "cell_type": "markdown",
   "metadata": {},
   "source": [
    "Vamos testa-lo."
   ]
  },
  {
   "cell_type": "code",
   "execution_count": 9,
   "metadata": {},
   "outputs": [
    {
     "name": "stdout",
     "output_type": "stream",
     "text": [
      "\u001b[34mHTTP\u001b[39;49;00m/\u001b[34m1.1\u001b[39;49;00m \u001b[34m200\u001b[39;49;00m \u001b[36mOK\u001b[39;49;00m\n",
      "\u001b[36mcontent-length\u001b[39;49;00m: 104\n",
      "\u001b[36mcontent-type\u001b[39;49;00m: application/json\n",
      "\u001b[36mdate\u001b[39;49;00m: Mon, 21 Dec 2020 22:18:39 GMT\n",
      "\u001b[36mserver\u001b[39;49;00m: istio-envoy\n",
      "\u001b[36mx-envoy-upstream-service-time\u001b[39;49;00m: 5\n",
      "\n",
      "{\n",
      "    \u001b[94m\"app\"\u001b[39;49;00m: \u001b[33m\"login\"\u001b[39;49;00m,\n",
      "    \u001b[94m\"description\"\u001b[39;49;00m: \u001b[33m\"Hi there!\"\u001b[39;49;00m,\n",
      "    \u001b[94m\"name\"\u001b[39;49;00m: \u001b[33m\"greetings\"\u001b[39;49;00m,\n",
      "    \u001b[94m\"version\"\u001b[39;49;00m: \u001b[33m\"v1\"\u001b[39;49;00m,\n",
      "    \u001b[94m\"when\"\u001b[39;49;00m: \u001b[33m\"2020-12-21 22:18:42\"\u001b[39;49;00m\n",
      "}\n",
      "\n",
      "\n"
     ]
    }
   ],
   "source": [
    "# no token\n",
    "http \"$INGRESS_HOST:$INGRESS_PORT/\" \"Host: login.default\"\n",
    "# Output\n",
    "# HTTP/1.1 200 OK\n",
    "# content-length: 104\n",
    "# content-type: application/json\n",
    "# date: Mon, 21 Dec 2020 21:20:59 GMT\n",
    "# server: istio-envoy\n",
    "# x-envoy-upstream-service-time: 4\n",
    "\n",
    "# {\n",
    "#     \"app\": \"login\",\n",
    "#     \"description\": \"Hi there!\",\n",
    "#     \"name\": \"greetings\",\n",
    "#     \"version\": \"v1\",\n",
    "#     \"when\": \"2020-12-21 21:20:59\"\n",
    "# }"
   ]
  },
  {
   "cell_type": "code",
   "execution_count": 10,
   "metadata": {},
   "outputs": [
    {
     "name": "stdout",
     "output_type": "stream",
     "text": [
      "\u001b[34mHTTP\u001b[39;49;00m/\u001b[34m1.1\u001b[39;49;00m \u001b[34m401\u001b[39;49;00m \u001b[36mUnauthorized\u001b[39;49;00m\n",
      "\u001b[36mcontent-length\u001b[39;49;00m: 79\n",
      "\u001b[36mcontent-type\u001b[39;49;00m: text/plain\n",
      "\u001b[36mdate\u001b[39;49;00m: Mon, 21 Dec 2020 22:18:46 GMT\n",
      "\u001b[36mserver\u001b[39;49;00m: istio-envoy\n",
      "\n",
      "Jwt is not in the form of Header.Payload.Signature with two dots and 3 sections\n",
      "\n",
      "\n"
     ]
    }
   ],
   "source": [
    "# invalid token\n",
    "http \"$INGRESS_HOST:$INGRESS_PORT/\" \"Authorization: Bearer ItsNotAToken\" \"Host: login.default\"\n",
    "# Output\n",
    "# HTTP/1.1 401 Unauthorized\n",
    "# content-length: 79\n",
    "# content-type: text/plain\n",
    "# date: Mon, 21 Dec 2020 21:20:04 GMT\n",
    "# server: istio-envoy\n",
    "\n",
    "# Jwt is not in the form of Header.Payload.Signature with two dots and 3 sections"
   ]
  },
  {
   "cell_type": "code",
   "execution_count": 11,
   "metadata": {},
   "outputs": [
    {
     "name": "stdout",
     "output_type": "stream",
     "text": [
      "\u001b[34mHTTP\u001b[39;49;00m/\u001b[34m1.1\u001b[39;49;00m \u001b[34m200\u001b[39;49;00m \u001b[36mOK\u001b[39;49;00m\n",
      "\u001b[36mcontent-length\u001b[39;49;00m: 104\n",
      "\u001b[36mcontent-type\u001b[39;49;00m: application/json\n",
      "\u001b[36mdate\u001b[39;49;00m: Mon, 21 Dec 2020 22:18:54 GMT\n",
      "\u001b[36mserver\u001b[39;49;00m: istio-envoy\n",
      "\u001b[36mx-envoy-upstream-service-time\u001b[39;49;00m: 4\n",
      "\n",
      "{\n",
      "    \u001b[94m\"app\"\u001b[39;49;00m: \u001b[33m\"login\"\u001b[39;49;00m,\n",
      "    \u001b[94m\"description\"\u001b[39;49;00m: \u001b[33m\"Hi there!\"\u001b[39;49;00m,\n",
      "    \u001b[94m\"name\"\u001b[39;49;00m: \u001b[33m\"greetings\"\u001b[39;49;00m,\n",
      "    \u001b[94m\"version\"\u001b[39;49;00m: \u001b[33m\"v1\"\u001b[39;49;00m,\n",
      "    \u001b[94m\"when\"\u001b[39;49;00m: \u001b[33m\"2020-12-21 22:18:55\"\u001b[39;49;00m\n",
      "}\n",
      "\n",
      "\n"
     ]
    }
   ],
   "source": [
    "# valid token\n",
    "TOKEN=$(python3 scripts/gen-jwt.py --iss john@simul-shop.com exemplos/certificates//istio-curso.pem --expire 20)\n",
    "http \"$INGRESS_HOST:$INGRESS_PORT/\" \"Authorization: Bearer $TOKEN\" \"Host: login.default\"\n",
    "# 200"
   ]
  },
  {
   "cell_type": "markdown",
   "metadata": {},
   "source": [
    "O Ingress Gateway do Istio já está validando o token, porém ele ainda aceita que os serviços sejam chamados sem um token.\n",
    "\n",
    "Vamos modificar essa configuração."
   ]
  },
  {
   "cell_type": "markdown",
   "metadata": {},
   "source": [
    "## Exigindo um token válido\n",
    "\n",
    "Para rejeitar solicitações sem tokens válidos, adicione uma política de autorização com uma regra especificando uma ação _DENY_ para solicitações sem principais de solicitação, mostrado como notRequestPrincipals: [\"*\"] no exemplo a seguir. Os principais de solicitação estão disponíveis apenas quando tokens JWT válidos são fornecidos. A regra, portanto, nega solicitações sem tokens válidos."
   ]
  },
  {
   "cell_type": "code",
   "execution_count": 12,
   "metadata": {},
   "outputs": [
    {
     "name": "stdout",
     "output_type": "stream",
     "text": [
      "authorizationpolicy.security.istio.io/login-ingress created\n"
     ]
    }
   ],
   "source": [
    "kubectl apply -f - <<EOF\n",
    "apiVersion: \"security.istio.io/v1beta1\"\n",
    "kind: \"AuthorizationPolicy\"\n",
    "metadata:\n",
    "  name: \"login-ingress\"\n",
    "  namespace: istio-system\n",
    "spec:\n",
    "  selector:\n",
    "    matchLabels:\n",
    "      istio: ingressgateway\n",
    "  action: DENY\n",
    "  rules:\n",
    "  - from:\n",
    "    - source:\n",
    "        notRequestPrincipals: [\"*\"]\n",
    "EOF"
   ]
  },
  {
   "cell_type": "markdown",
   "metadata": {},
   "source": [
    "Vamos testar chamar novamente o serviço sem um token."
   ]
  },
  {
   "cell_type": "code",
   "execution_count": 13,
   "metadata": {},
   "outputs": [
    {
     "name": "stdout",
     "output_type": "stream",
     "text": [
      "\u001b[34mHTTP\u001b[39;49;00m/\u001b[34m1.1\u001b[39;49;00m \u001b[34m403\u001b[39;49;00m \u001b[36mForbidden\u001b[39;49;00m\n",
      "\u001b[36mcontent-length\u001b[39;49;00m: 19\n",
      "\u001b[36mcontent-type\u001b[39;49;00m: text/plain\n",
      "\u001b[36mdate\u001b[39;49;00m: Mon, 21 Dec 2020 22:19:15 GMT\n",
      "\u001b[36mserver\u001b[39;49;00m: istio-envoy\n",
      "\n",
      "RBAC: access denied\n",
      "\n",
      "\n"
     ]
    }
   ],
   "source": [
    "# Protected path\n",
    "http \"$INGRESS_HOST:$INGRESS_PORT/\" \"Host: login.default\"\n",
    "# Output\n",
    "# HTTP/1.1 403 Forbidden\n",
    "# content-length: 19\n",
    "# content-type: text/plain\n",
    "# date: Mon, 21 Dec 2020 21:05:43 GMT\n",
    "# server: istio-envoy\n",
    "\n",
    "# RBAC: access denied"
   ]
  },
  {
   "cell_type": "markdown",
   "metadata": {},
   "source": [
    "Agora com um token válido:"
   ]
  },
  {
   "cell_type": "code",
   "execution_count": 14,
   "metadata": {},
   "outputs": [
    {
     "name": "stdout",
     "output_type": "stream",
     "text": [
      "\u001b[34mHTTP\u001b[39;49;00m/\u001b[34m1.1\u001b[39;49;00m \u001b[34m200\u001b[39;49;00m \u001b[36mOK\u001b[39;49;00m\n",
      "\u001b[36mcontent-length\u001b[39;49;00m: 104\n",
      "\u001b[36mcontent-type\u001b[39;49;00m: application/json\n",
      "\u001b[36mdate\u001b[39;49;00m: Mon, 21 Dec 2020 22:19:22 GMT\n",
      "\u001b[36mserver\u001b[39;49;00m: istio-envoy\n",
      "\u001b[36mx-envoy-upstream-service-time\u001b[39;49;00m: 11\n",
      "\n",
      "{\n",
      "    \u001b[94m\"app\"\u001b[39;49;00m: \u001b[33m\"login\"\u001b[39;49;00m,\n",
      "    \u001b[94m\"description\"\u001b[39;49;00m: \u001b[33m\"Hi there!\"\u001b[39;49;00m,\n",
      "    \u001b[94m\"name\"\u001b[39;49;00m: \u001b[33m\"greetings\"\u001b[39;49;00m,\n",
      "    \u001b[94m\"version\"\u001b[39;49;00m: \u001b[33m\"v1\"\u001b[39;49;00m,\n",
      "    \u001b[94m\"when\"\u001b[39;49;00m: \u001b[33m\"2020-12-21 22:19:22\"\u001b[39;49;00m\n",
      "}\n",
      "\n",
      "\n"
     ]
    }
   ],
   "source": [
    "# generate token\n",
    "TOKEN=$(python3 scripts/gen-jwt.py --iss john@simul-shop.com exemplos/certificates//istio-curso.pem --expire 20)\n",
    "http \"$INGRESS_HOST:$INGRESS_PORT/\" \"Authorization: Bearer $TOKEN\" \"Host: login.default\"\n",
    "# Output\n",
    "# HTTP/1.1 200 OK\n",
    "# content-length: 104\n",
    "# content-type: application/json\n",
    "# date: Mon, 21 Dec 2020 21:18:29 GMT\n",
    "# server: istio-envoy\n",
    "# x-envoy-upstream-service-time: 4\n",
    "\n",
    "# {\n",
    "#     \"app\": \"login\",\n",
    "#     \"description\": \"Hi there!\",\n",
    "#     \"name\": \"greetings\",\n",
    "#     \"version\": \"v1\",\n",
    "#     \"when\": \"2020-12-21 21:18:33\"\n",
    "# }"
   ]
  },
  {
   "cell_type": "markdown",
   "metadata": {},
   "source": [
    "## Requerendo token válido por caminho\n",
    "\n",
    "Para refinar a autorização com um requisito de token por host, caminho ou método, altere a política de autorização.\n",
    "\n",
    "Nesse cenário, apenas o caminho _healthz_ deve ser protegido por um token. Vamos modificar a configuração."
   ]
  },
  {
   "cell_type": "code",
   "execution_count": 15,
   "metadata": {},
   "outputs": [
    {
     "name": "stdout",
     "output_type": "stream",
     "text": [
      "authorizationpolicy.security.istio.io/login-ingress configured\n"
     ]
    }
   ],
   "source": [
    "kubectl apply -f - <<EOF\n",
    "apiVersion: \"security.istio.io/v1beta1\"\n",
    "kind: \"AuthorizationPolicy\"\n",
    "metadata:\n",
    "  name: \"login-ingress\"\n",
    "  namespace: istio-system\n",
    "spec:\n",
    "  selector:\n",
    "    matchLabels:\n",
    "      istio: ingressgateway\n",
    "  action: DENY\n",
    "  rules:\n",
    "  - from:\n",
    "    - source:\n",
    "        notRequestPrincipals: [\"*\"]\n",
    "    to:\n",
    "    - operation:\n",
    "        paths: [\"/healthz\"]\n",
    "EOF"
   ]
  },
  {
   "cell_type": "markdown",
   "metadata": {},
   "source": [
    "Agora você pode chamar o caminho raíz sem token:"
   ]
  },
  {
   "cell_type": "code",
   "execution_count": 16,
   "metadata": {},
   "outputs": [
    {
     "name": "stdout",
     "output_type": "stream",
     "text": [
      "\u001b[34mHTTP\u001b[39;49;00m/\u001b[34m1.1\u001b[39;49;00m \u001b[34m200\u001b[39;49;00m \u001b[36mOK\u001b[39;49;00m\n",
      "\u001b[36mcontent-length\u001b[39;49;00m: 104\n",
      "\u001b[36mcontent-type\u001b[39;49;00m: application/json\n",
      "\u001b[36mdate\u001b[39;49;00m: Mon, 21 Dec 2020 22:19:41 GMT\n",
      "\u001b[36mserver\u001b[39;49;00m: istio-envoy\n",
      "\u001b[36mx-envoy-upstream-service-time\u001b[39;49;00m: 9\n",
      "\n",
      "{\n",
      "    \u001b[94m\"app\"\u001b[39;49;00m: \u001b[33m\"login\"\u001b[39;49;00m,\n",
      "    \u001b[94m\"description\"\u001b[39;49;00m: \u001b[33m\"Hi there!\"\u001b[39;49;00m,\n",
      "    \u001b[94m\"name\"\u001b[39;49;00m: \u001b[33m\"greetings\"\u001b[39;49;00m,\n",
      "    \u001b[94m\"version\"\u001b[39;49;00m: \u001b[33m\"v1\"\u001b[39;49;00m,\n",
      "    \u001b[94m\"when\"\u001b[39;49;00m: \u001b[33m\"2020-12-21 22:19:41\"\u001b[39;49;00m\n",
      "}\n",
      "\n",
      "\n"
     ]
    }
   ],
   "source": [
    "http \"$INGRESS_HOST:$INGRESS_PORT/\" \"Host: login.default\""
   ]
  },
  {
   "cell_type": "markdown",
   "metadata": {},
   "source": [
    "Mas ao tentar chamar o caminho protegido:"
   ]
  },
  {
   "cell_type": "code",
   "execution_count": 17,
   "metadata": {},
   "outputs": [
    {
     "name": "stdout",
     "output_type": "stream",
     "text": [
      "\u001b[34mHTTP\u001b[39;49;00m/\u001b[34m1.1\u001b[39;49;00m \u001b[34m403\u001b[39;49;00m \u001b[36mForbidden\u001b[39;49;00m\n",
      "\u001b[36mcontent-length\u001b[39;49;00m: 19\n",
      "\u001b[36mcontent-type\u001b[39;49;00m: text/plain\n",
      "\u001b[36mdate\u001b[39;49;00m: Mon, 21 Dec 2020 22:19:49 GMT\n",
      "\u001b[36mserver\u001b[39;49;00m: istio-envoy\n",
      "\n",
      "RBAC: access denied\n",
      "\n",
      "\n"
     ]
    }
   ],
   "source": [
    "# Protected path\n",
    "http \"$INGRESS_HOST:$INGRESS_PORT/healthz\" \"Host: login.default\"\n",
    "# Output\n",
    "# HTTP/1.1 403 Forbidden\n",
    "# content-length: 19\n",
    "# content-type: text/plain\n",
    "# date: Mon, 21 Dec 2020 21:15:15 GMT\n",
    "# server: istio-envoy\n",
    "\n",
    "# RBAC: access denied"
   ]
  },
  {
   "cell_type": "markdown",
   "metadata": {},
   "source": [
    "Vamos adicionar um token válido:"
   ]
  },
  {
   "cell_type": "code",
   "execution_count": 18,
   "metadata": {},
   "outputs": [
    {
     "name": "stdout",
     "output_type": "stream",
     "text": [
      "\u001b[34mHTTP\u001b[39;49;00m/\u001b[34m1.1\u001b[39;49;00m \u001b[34m200\u001b[39;49;00m \u001b[36mOK\u001b[39;49;00m\n",
      "\u001b[36mcontent-length\u001b[39;49;00m: 98\n",
      "\u001b[36mcontent-type\u001b[39;49;00m: application/json\n",
      "\u001b[36mdate\u001b[39;49;00m: Mon, 21 Dec 2020 22:19:55 GMT\n",
      "\u001b[36mserver\u001b[39;49;00m: istio-envoy\n",
      "\u001b[36mx-envoy-upstream-service-time\u001b[39;49;00m: 4\n",
      "\n",
      "{\n",
      "    \u001b[94m\"app\"\u001b[39;49;00m: \u001b[33m\"login\"\u001b[39;49;00m,\n",
      "    \u001b[94m\"description\"\u001b[39;49;00m: \u001b[33m\"health\"\u001b[39;49;00m,\n",
      "    \u001b[94m\"name\"\u001b[39;49;00m: \u001b[33m\"status\"\u001b[39;49;00m,\n",
      "    \u001b[94m\"version\"\u001b[39;49;00m: \u001b[33m\"v1\"\u001b[39;49;00m,\n",
      "    \u001b[94m\"when\"\u001b[39;49;00m: \u001b[33m\"2020-12-21 22:19:56\"\u001b[39;49;00m\n",
      "}\n",
      "\n",
      "\n"
     ]
    }
   ],
   "source": [
    "# generate token\n",
    "TOKEN=$(python3 scripts/gen-jwt.py --iss john@simul-shop.com exemplos/certificates//istio-curso.pem --expire 20)\n",
    "http \"$INGRESS_HOST:$INGRESS_PORT/healthz\" \"Authorization: Bearer $TOKEN\" \"Host: login.default\"\n",
    "# Output\n",
    "# HTTP/1.1 200 OK\n",
    "# content-length: 98\n",
    "# content-type: application/json\n",
    "# date: Mon, 21 Dec 2020 21:17:27 GMT\n",
    "# server: istio-envoy\n",
    "# x-envoy-upstream-service-time: 4\n",
    "\n",
    "# {\n",
    "#     \"app\": \"login\",\n",
    "#     \"description\": \"health\",\n",
    "#     \"name\": \"status\",\n",
    "#     \"version\": \"v1\",\n",
    "#     \"when\": \"2020-12-21 21:17:28\"\n",
    "# }"
   ]
  },
  {
   "cell_type": "markdown",
   "metadata": {},
   "source": [
    "### Considerações\n",
    "\n",
    "A comunicação com o serviço através do ingress gateway foi protegida, porém, a comunicação dentro da malha não exige um token para autenticar o usuário e pode ser acessado por todos os serviços."
   ]
  },
  {
   "cell_type": "code",
   "execution_count": 19,
   "metadata": {},
   "outputs": [
    {
     "name": "stdout",
     "output_type": "stream",
     "text": [
      " front-end to login: 200\n",
      " front-end to catalogue: 200\n",
      " front-end to orders: 200\n"
     ]
    }
   ],
   "source": [
    "for service in \"login\" \"catalogue\" \"orders\";\n",
    "  do kubectl exec \"$(kubectl get pod -l app=front-end -o jsonpath={.items..metadata.name})\" -c front-end -- curl \"http://${service}:8000/\" -s -o /dev/null -w \" front-end to ${service}: %{http_code}\\n\"; \n",
    "done\n",
    "# Output\n",
    "# front-end to login: 200\n",
    "# front-end to catalogue: 200\n",
    "# front-end to orders: 200"
   ]
  },
  {
   "cell_type": "markdown",
   "metadata": {},
   "source": [
    "## Limpando as configurações\n",
    "\n",
    "Vamos remover o que criamos e recapitular.\n",
    "\n",
    "1. Criamos um _gateway_ para o `login`;\n",
    "2. Configuramos um _VirtualService_ o que o expos em `http://$INGRESS_HOST:$INGRESS_PORT/\";\n",
    "3. Configuramos uma política (RequestAuthentication) para validar o token.\n",
    "4. E uma política (AuthorizationPolicy) para negar qualquer acesso que não tivesse um token válido.\n",
    "\n",
    "Agora removeremos as configurações:"
   ]
  },
  {
   "cell_type": "code",
   "execution_count": 23,
   "metadata": {},
   "outputs": [
    {
     "name": "stdout",
     "output_type": "stream",
     "text": [
      "requestauthentication.security.istio.io \"jwt-login\" deleted\n",
      "authorizationpolicy.security.istio.io \"login-ingress\" deleted\n",
      "virtualservice.networking.istio.io \"login\" deleted\n",
      "gateway.networking.istio.io \"login-gateway\" deleted\n"
     ]
    }
   ],
   "source": [
    "# Remove authentication policy:\n",
    "kubectl delete requestauthentication/jwt-login -n istio-system \n",
    "\n",
    "# Remove authorization policy:\n",
    "kubectl delete authorizationpolicy/login-ingress -n istio-system\n",
    "\n",
    "# Remove virtual service\n",
    "kubectl delete vs/login\n",
    "\n",
    "# Remove ingress gateway\n",
    "kubectl delete gateway/login-gateway"
   ]
  },
  {
   "cell_type": "markdown",
   "metadata": {},
   "source": [
    "Agora estamos prontos para a próxima seção."
   ]
  }
 ],
 "metadata": {
  "hide_input": false,
  "kernelspec": {
   "display_name": "Bash",
   "language": "bash",
   "name": "bash"
  },
  "language_info": {
   "codemirror_mode": "shell",
   "file_extension": ".sh",
   "mimetype": "text/x-sh",
   "name": "bash"
  },
  "toc": {
   "base_numbering": 1,
   "nav_menu": {},
   "number_sections": true,
   "sideBar": true,
   "skip_h1_title": false,
   "title_cell": "Table of Contents",
   "title_sidebar": "Contents",
   "toc_cell": false,
   "toc_position": {},
   "toc_section_display": true,
   "toc_window_display": false
  },
  "varInspector": {
   "cols": {
    "lenName": 16,
    "lenType": 16,
    "lenVar": 40
   },
   "kernels_config": {
    "python": {
     "delete_cmd_postfix": "",
     "delete_cmd_prefix": "del ",
     "library": "var_list.py",
     "varRefreshCmd": "print(var_dic_list())"
    },
    "r": {
     "delete_cmd_postfix": ") ",
     "delete_cmd_prefix": "rm(",
     "library": "var_list.r",
     "varRefreshCmd": "cat(var_dic_list()) "
    }
   },
   "types_to_exclude": [
    "module",
    "function",
    "builtin_function_or_method",
    "instance",
    "_Feature"
   ],
   "window_display": false
  }
 },
 "nbformat": 4,
 "nbformat_minor": 4
}
