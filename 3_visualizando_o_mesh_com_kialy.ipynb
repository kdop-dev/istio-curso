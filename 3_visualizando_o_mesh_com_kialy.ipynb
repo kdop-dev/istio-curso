{
 "cells": [
  {
   "cell_type": "markdown",
   "metadata": {},
   "source": [
    "# Visualizando a malha de serviços com Kiali\n",
    "\n",
    "Discutiremos sobre muitas ferramentas durante este curso, mas o [Kiali](https://kiali.io/) é a a ferramenta que ajudará você a entender e administrar sua malha de serviços.\n",
    "\n",
    "Até a versão 1.5, o Kiali e outras ferramentas faziam parte da distribuição do Istio, mas desde a versão 1.6 essas ferramentas devem ser instaladas.\n",
    "\n",
    "Convenientemente o download do Istio, que fizemos na primeira parte, contém essas ferramentas.\n",
    "\n",
    "Mas antes de instalar o Kiali, vamos verificar nosso acesso ao cluster:"
   ]
  },
  {
   "cell_type": "code",
   "execution_count": 1,
   "metadata": {},
   "outputs": [
    {
     "name": "stdout",
     "output_type": "stream",
     "text": [
      "NAME             STATUS   ROLES    AGE     VERSION\n",
      "docker-desktop   Ready    master   7d15h   v1.18.8\n"
     ]
    }
   ],
   "source": [
    "# Configurando o arquivo de credenciais e acesso ao cluster\n",
    "export KUBECONFIG=~/.kube/config\n",
    "# Testando o acesso\n",
    "kubectl get nodes"
   ]
  },
  {
   "cell_type": "markdown",
   "metadata": {},
   "source": [
    "Ok, estamos prontos para continuar, mas se tiver algum problema, consulte \"Acessando o cluster\" na parte 1.\n",
    "\n",
    "### Instalando o kiali e dependências no cluster\n",
    "\n",
    "Para instalar o Kiali iremos aplicar o arquivo [kiali.yaml](istio-1.7.3/samples/addons/kiali.yaml), mas antes vamos inspecioná-lo, clique no link para abri-lo.\n",
    "\n",
    "O arquivo kiali é composto de alguns recursos, são eles:\n",
    "\n",
    "* CDR\n",
    "* ServiceAccount\n",
    "* ConfigMap\n",
    "* ClusterRole\n",
    "* ClusterRoleBinding\n",
    "* Deployment\n",
    "* Service\n",
    "* MonitoringDashboard\n",
    "\n",
    "Com exceção do `MonitoringDashboard`, todos os demais recursos são do kubernetes e o CRD (Custom Resource Definition) é uma forma de criar novos recursos no kubernetes, neste caso, ele define o `MonitoringDashboard`. Mais sobre kuberntes você pode obter no nosso curso [Kubernetes avançado para iniciantes](TODO), onde abordamos esses temas e muitos outros.\n",
    "\n",
    "Vamos instalar e conhecer o kiali antes de nos aprofundar neste CDR."
   ]
  },
  {
   "cell_type": "markdown",
   "metadata": {},
   "source": [
    "Bug versão 1.7.0 a 1.7.3 - [Istio 1.7.1 unable to install Kiali addon #27417](https://github.com/istio/istio/issues/27417)\n",
    "\n",
    "Necessário aplicar o CRD antes do restante dos recursos."
   ]
  },
  {
   "cell_type": "code",
   "execution_count": 5,
   "metadata": {},
   "outputs": [
    {
     "name": "stdout",
     "output_type": "stream",
     "text": [
      "customresourcedefinition.apiextensions.k8s.io/monitoringdashboards.monitoring.kiali.io created\n"
     ]
    }
   ],
   "source": [
    "cat <<EOF | kubectl apply -f -\n",
    "apiVersion: apiextensions.k8s.io/v1beta1\n",
    "kind: CustomResourceDefinition\n",
    "metadata:\n",
    "  name: monitoringdashboards.monitoring.kiali.io\n",
    "spec:\n",
    "  group: monitoring.kiali.io\n",
    "  names:\n",
    "    kind: MonitoringDashboard\n",
    "    listKind: MonitoringDashboardList\n",
    "    plural: monitoringdashboards\n",
    "    singular: monitoringdashboard\n",
    "  scope: Namespaced\n",
    "  versions:\n",
    "  - name: v1alpha1\n",
    "    served: true\n",
    "    storage: true\n",
    "EOF"
   ]
  },
  {
   "cell_type": "code",
   "execution_count": 6,
   "metadata": {},
   "outputs": [
    {
     "name": "stdout",
     "output_type": "stream",
     "text": [
      "customresourcedefinition.apiextensions.k8s.io/monitoringdashboards.monitoring.kiali.io unchanged\n",
      "serviceaccount/kiali created\n",
      "configmap/kiali created\n",
      "clusterrole.rbac.authorization.k8s.io/kiali-viewer created\n",
      "clusterrole.rbac.authorization.k8s.io/kiali created\n",
      "clusterrolebinding.rbac.authorization.k8s.io/kiali created\n",
      "service/kiali created\n",
      "deployment.apps/kiali created\n",
      "monitoringdashboard.monitoring.kiali.io/envoy created\n",
      "monitoringdashboard.monitoring.kiali.io/go created\n",
      "monitoringdashboard.monitoring.kiali.io/kiali created\n",
      "monitoringdashboard.monitoring.kiali.io/micrometer-1.0.6-jvm-pool created\n",
      "monitoringdashboard.monitoring.kiali.io/micrometer-1.0.6-jvm created\n",
      "monitoringdashboard.monitoring.kiali.io/micrometer-1.1-jvm created\n",
      "monitoringdashboard.monitoring.kiali.io/microprofile-1.1 created\n",
      "monitoringdashboard.monitoring.kiali.io/microprofile-x.y created\n",
      "monitoringdashboard.monitoring.kiali.io/nodejs created\n",
      "monitoringdashboard.monitoring.kiali.io/quarkus created\n",
      "monitoringdashboard.monitoring.kiali.io/springboot-jvm-pool created\n",
      "monitoringdashboard.monitoring.kiali.io/springboot-jvm created\n",
      "monitoringdashboard.monitoring.kiali.io/springboot-tomcat created\n",
      "monitoringdashboard.monitoring.kiali.io/thorntail created\n",
      "monitoringdashboard.monitoring.kiali.io/tomcat created\n",
      "monitoringdashboard.monitoring.kiali.io/vertx-client created\n",
      "monitoringdashboard.monitoring.kiali.io/vertx-eventbus created\n",
      "monitoringdashboard.monitoring.kiali.io/vertx-jvm created\n",
      "monitoringdashboard.monitoring.kiali.io/vertx-pool created\n",
      "monitoringdashboard.monitoring.kiali.io/vertx-server created\n"
     ]
    }
   ],
   "source": [
    "kubectl apply -f istio-1.7.3/samples/addons/kiali.yaml"
   ]
  },
  {
   "cell_type": "markdown",
   "metadata": {},
   "source": [
    "E o prometheus, responsável por coletar dados dos _containers_ que serão utilizados pelo kiali."
   ]
  },
  {
   "cell_type": "code",
   "execution_count": 17,
   "metadata": {},
   "outputs": [
    {
     "name": "stdout",
     "output_type": "stream",
     "text": [
      "serviceaccount/prometheus unchanged\n",
      "configmap/prometheus unchanged\n",
      "clusterrole.rbac.authorization.k8s.io/prometheus unchanged\n",
      "clusterrolebinding.rbac.authorization.k8s.io/prometheus unchanged\n",
      "service/prometheus unchanged\n",
      "deployment.apps/prometheus configured\n"
     ]
    }
   ],
   "source": [
    "kubectl apply -f istio-1.7.3/samples/addons/prometheus.yaml"
   ]
  },
  {
   "cell_type": "markdown",
   "metadata": {},
   "source": [
    "Vamos verificar o que foi instalado."
   ]
  },
  {
   "cell_type": "code",
   "execution_count": 18,
   "metadata": {},
   "outputs": [
    {
     "name": "stdout",
     "output_type": "stream",
     "text": [
      "NAME                             READY   STATUS    RESTARTS   AGE\n",
      "pod/istiod-fb4fbff6b-sx2rm       1/1     Running   1          26h\n",
      "pod/kiali-6c49c7d566-2cksh       1/1     Running   1          26h\n",
      "pod/prometheus-9d5676d95-tpsf5   2/2     Running   2          26h\n",
      "\n",
      "NAME                 TYPE        CLUSTER-IP      EXTERNAL-IP   PORT(S)                                         AGE\n",
      "service/istiod       ClusterIP   10.104.19.14    <none>        15010/TCP,15012/TCP,443/TCP,15014/TCP,853/TCP   26h\n",
      "service/kiali        ClusterIP   10.109.13.75    <none>        20001/TCP,9090/TCP                              26h\n",
      "service/prometheus   ClusterIP   10.101.93.152   <none>        9090/TCP                                        26h\n",
      "\n",
      "NAME                         READY   UP-TO-DATE   AVAILABLE   AGE\n",
      "deployment.apps/istiod       1/1     1            1           26h\n",
      "deployment.apps/kiali        1/1     1            1           26h\n",
      "deployment.apps/prometheus   1/1     1            1           26h\n",
      "\n",
      "NAME                                   DESIRED   CURRENT   READY   AGE\n",
      "replicaset.apps/istiod-fb4fbff6b       1         1         1       26h\n",
      "replicaset.apps/kiali-6c49c7d566       1         1         1       26h\n",
      "replicaset.apps/prometheus-9d5676d95   1         1         1       26h\n",
      "\n",
      "NAME                                         REFERENCE           TARGETS         MINPODS   MAXPODS   REPLICAS   AGE\n",
      "horizontalpodautoscaler.autoscaling/istiod   Deployment/istiod   <unknown>/80%   1         5         1          26h\n"
     ]
    }
   ],
   "source": [
    "kubectl get all -n istio-system"
   ]
  },
  {
   "cell_type": "markdown",
   "metadata": {},
   "source": [
    "O serviço do kiali é do tipo `ClusterIP`, o que significa que não podemos acessá-lo diretamente de fora do cluster, há algumas alternativas, modificar ou criar um serviço do tipo `NodePort` ou `LoadBalancer`, configurar um `Ingress` ou usar o subcomando `port-forward` do `kubectl`.\n",
    "\n",
    "Porém o `istioctl` oferece um subcomando conveniente para acessar o kiali:"
   ]
  },
  {
   "cell_type": "code",
   "execution_count": 12,
   "metadata": {},
   "outputs": [
    {
     "name": "stdout",
     "output_type": "stream",
     "text": [
      "Access to Istio web UIs\n",
      "\n",
      "Usage:\n",
      "  istioctl dashboard [flags]\n",
      "  istioctl dashboard [command]\n",
      "\n",
      "Aliases:\n",
      "  dashboard, dash, d\n",
      "\n",
      "Available Commands:\n",
      "  controlz    Open ControlZ web UI\n",
      "  envoy       Open Envoy admin web UI\n",
      "  grafana     Open Grafana web UI\n",
      "  jaeger      Open Jaeger web UI\n",
      "  kiali       Open Kiali web UI\n",
      "  prometheus  Open Prometheus web UI\n",
      "  zipkin      Open Zipkin web UI\n",
      "\n",
      "Flags:\n",
      "      --address string   Address to listen on. Only accepts IP address or localhost as a value. When localhost is supplied, istioctl will try to bind on both 127.0.0.1 and ::1 and will fail if neither of these address are available to bind. (default \"localhost\")\n",
      "  -h, --help             help for dashboard\n",
      "  -p, --port int         Local port to listen to\n",
      "\n",
      "Global Flags:\n",
      "      --context string          The name of the kubeconfig context to use\n",
      "  -i, --istioNamespace string   Istio system namespace (default \"istio-system\")\n",
      "  -c, --kubeconfig string       Kubernetes configuration file\n",
      "  -n, --namespace string        Config namespace\n",
      "\n",
      "Use \"istioctl dashboard [command] --help\" for more information about a command.\n"
     ]
    }
   ],
   "source": [
    "istioctl dashboard"
   ]
  },
  {
   "cell_type": "markdown",
   "metadata": {},
   "source": [
    "Vamos acessa-lo:"
   ]
  },
  {
   "cell_type": "code",
   "execution_count": 2,
   "metadata": {},
   "outputs": [
    {
     "name": "stdout",
     "output_type": "stream",
     "text": [
      "http://localhost:20001/kiali\n"
     ]
    }
   ],
   "source": [
    "istioctl dashboard kiali"
   ]
  },
  {
   "cell_type": "markdown",
   "metadata": {},
   "source": [
    "E voilá, você está acessando o dashboard do kiali, mas oferece acesso a outros dashboards.\n",
    "\n",
    "Vamos explorar alguns recursos do kiali.\n",
    "\n",
    "[![Everything Is AWESOME](https://img.youtube.com/vi/3sV5PKfAlG0/0.jpg)](https://youtu.be/3sV5PKfAlG0 \"Kiali Graph Replay via Traffic Routing\")\n",
    "\n",
    "Interrompa a execução do dashboard:\n",
    "* No jupyter Lab ou notebook: Clique no icone <kbd>◾</kbd> (_Interrup the kernel_ na barra de ferramentas)\n",
    "* No terminal: tecle <kbd>CTRL</kbd>+<kbd>C</kbd>"
   ]
  },
  {
   "cell_type": "markdown",
   "metadata": {},
   "source": [
    "Se você assistiu nosso curso de [Kubernetes avançado para iniciantes](TODO) deve imaginar o que o `istioctl`automatizou, foi o comando `kubectl port-forward` e adicionou um comando de ` open` para abrir a página inicial no navegador.\n",
    "\n",
    "O comando a seguir tem efeito semelhante (sem a parte do navegador)"
   ]
  },
  {
   "cell_type": "code",
   "execution_count": 13,
   "metadata": {},
   "outputs": [
    {
     "name": "stdout",
     "output_type": "stream",
     "text": [
      "Forwarding from 127.0.0.1:20001 -> 20001\n",
      "Forwarding from [::1]:20001 -> 20001\n",
      "Handling connection for 20001\n",
      "Handling connection for 20001\n",
      "Handling connection for 20001\n",
      "Handling connection for 20001\n",
      "Handling connection for 20001\n",
      "Handling connection for 20001\n"
     ]
    }
   ],
   "source": [
    "kubectl port-forward service/kiali 20001:20001 -n istio-system"
   ]
  },
  {
   "cell_type": "markdown",
   "metadata": {},
   "source": [
    "Mesmo resultado, mas não tão elegante. Ficaremos com o `istioctl dashboard <dashboard>` pelo resto do curso.\n",
    "\n",
    "Interrompa a execução do `port-forward`.\n",
    "\n",
    "E vamos executar o kiali novamente, mas agora em segundo plano."
   ]
  },
  {
   "cell_type": "code",
   "execution_count": 20,
   "metadata": {},
   "outputs": [
    {
     "name": "stdout",
     "output_type": "stream",
     "text": [
      "[1] 5786\n"
     ]
    }
   ],
   "source": [
    "istioctl dashboard kiali &\n",
    "export KIALI_PID=$!"
   ]
  },
  {
   "cell_type": "markdown",
   "metadata": {},
   "source": [
    "### Labels\n",
    "\n",
    "Para kiali, os _labels_ `app` e `version` são utilizados para identificar os serviços e as cargas de trabalho.\n",
    "\n",
    "Podemos utilizar o mesmo artifício para localizar qualquer recurso no kuberentes:"
   ]
  },
  {
   "cell_type": "code",
   "execution_count": 14,
   "metadata": {},
   "outputs": [
    {
     "name": "stdout",
     "output_type": "stream",
     "text": [
      "Name:                   simple-app\n",
      "Namespace:              default\n",
      "CreationTimestamp:      Thu, 22 Oct 2020 09:56:59 -0300\n",
      "Labels:                 app=simple-app\n",
      "                        version=1.0\n",
      "Annotations:            deployment.kubernetes.io/revision: 1\n",
      "Selector:               app=simple-app,version=1.0\n",
      "Replicas:               1 desired | 1 updated | 1 total | 1 available | 0 unavailable\n",
      "StrategyType:           RollingUpdate\n",
      "MinReadySeconds:        0\n",
      "RollingUpdateStrategy:  25% max unavailable, 25% max surge\n",
      "Pod Template:\n",
      "  Labels:  app=simple-app\n",
      "           version=1.0\n",
      "  Containers:\n",
      "   simple-app:\n",
      "    Image:        nginx:stable\n",
      "    Port:         80/TCP\n",
      "    Host Port:    0/TCP\n",
      "    Environment:  <none>\n",
      "    Mounts:       <none>\n",
      "  Volumes:        <none>\n",
      "Conditions:\n",
      "  Type           Status  Reason\n",
      "  ----           ------  ------\n",
      "  Available      True    MinimumReplicasAvailable\n",
      "  Progressing    True    NewReplicaSetAvailable\n",
      "OldReplicaSets:  <none>\n",
      "NewReplicaSet:   simple-app-6f6cfc8554 (1/1 replicas created)\n",
      "Events:          <none>\n"
     ]
    }
   ],
   "source": [
    "kubectl describe deploy -l app=simple-app"
   ]
  },
  {
   "cell_type": "markdown",
   "metadata": {},
   "source": [
    "E no nosso `deployment` adicionamos na seção _Pod Template_ os rótulos que desejamos que sejam adicionados aos _PODs_ que forem criados."
   ]
  },
  {
   "cell_type": "code",
   "execution_count": 15,
   "metadata": {},
   "outputs": [
    {
     "name": "stdout",
     "output_type": "stream",
     "text": [
      "NAME                          READY   STATUS    RESTARTS   AGE\n",
      "simple-app-6f6cfc8554-6m6t2   2/2     Running   0          73m\n"
     ]
    }
   ],
   "source": [
    "kubectl get pods -l app=simple-app"
   ]
  },
  {
   "cell_type": "markdown",
   "metadata": {},
   "source": [
    "Podemos utilizar multiplos _labels_ para localizar um recurso."
   ]
  },
  {
   "cell_type": "code",
   "execution_count": 16,
   "metadata": {},
   "outputs": [
    {
     "name": "stdout",
     "output_type": "stream",
     "text": [
      "NAME                              READY   STATUS    RESTARTS   AGE\n",
      "pod/simple-app-6f6cfc8554-6m6t2   2/2     Running   0          74m\n",
      "\n",
      "NAME                 TYPE        CLUSTER-IP      EXTERNAL-IP   PORT(S)   AGE\n",
      "service/simple-app   ClusterIP   10.109.84.250   <none>        80/TCP    74m\n",
      "\n",
      "NAME                         READY   UP-TO-DATE   AVAILABLE   AGE\n",
      "deployment.apps/simple-app   1/1     1            1           74m\n",
      "\n",
      "NAME                                    DESIRED   CURRENT   READY   AGE\n",
      "replicaset.apps/simple-app-6f6cfc8554   1         1         1       74m\n"
     ]
    }
   ],
   "source": [
    "kubectl get all -l app=simple-app -l version=1.0"
   ]
  },
  {
   "cell_type": "markdown",
   "metadata": {},
   "source": [
    "O kiali não é uma ferramenta estática, uma das suas forças e exibir a relação entre os recursos em tempo de execução. Na próxima parte iremos explorar uma aplicação com uma malha de serviços.\n",
    "\n",
    "Por agora podemos para o dashboard do kiali, para isso precisaremos parar o processo."
   ]
  },
  {
   "cell_type": "code",
   "execution_count": 21,
   "metadata": {},
   "outputs": [
    {
     "name": "stdout",
     "output_type": "stream",
     "text": [
      "http://localhost:20001/kiali\n"
     ]
    },
    {
     "ename": "",
     "evalue": "1",
     "output_type": "error",
     "traceback": []
    }
   ],
   "source": [
    "kill $KIALI_PID"
   ]
  },
  {
   "cell_type": "markdown",
   "metadata": {},
   "source": [
    "## Limpando\n",
    "\n",
    "Não precisaremos mais da nossa aplicação de teste, vamos exluí-la para liberar recursos do cluster.\n",
    "\n",
    "Os recursos criados podem ser obtidos passando as mesmas configurações que utilizamos para criá-los."
   ]
  },
  {
   "cell_type": "code",
   "execution_count": 25,
   "metadata": {},
   "outputs": [
    {
     "name": "stdout",
     "output_type": "stream",
     "text": [
      "NAME                         READY   UP-TO-DATE   AVAILABLE   AGE\n",
      "deployment.apps/simple-app   1/1     1            1           89m\n",
      "\n",
      "NAME                 TYPE        CLUSTER-IP      EXTERNAL-IP   PORT(S)   AGE\n",
      "service/simple-app   ClusterIP   10.109.84.250   <none>        80/TCP    89m\n"
     ]
    }
   ],
   "source": [
    "kubectl get -f exemplos/simple-app"
   ]
  },
  {
   "cell_type": "markdown",
   "metadata": {},
   "source": [
    "E o mesmo vale para excluí-los.\n",
    "\n",
    "> O kubectl não solicita confirmação para execução, tome cuidado e revise o comando antes de executá-lo."
   ]
  },
  {
   "cell_type": "code",
   "execution_count": 27,
   "metadata": {},
   "outputs": [
    {
     "name": "stdout",
     "output_type": "stream",
     "text": [
      "deployment.apps \"simple-app\" deleted\n",
      "service \"simple-app\" deleted\n"
     ]
    }
   ],
   "source": [
    "kubectl delete -f exemplos/simple-app"
   ]
  },
  {
   "cell_type": "code",
   "execution_count": null,
   "metadata": {},
   "outputs": [],
   "source": []
  }
 ],
 "metadata": {
  "kernelspec": {
   "display_name": "Bash",
   "language": "bash",
   "name": "bash"
  },
  "language_info": {
   "codemirror_mode": "shell",
   "file_extension": ".sh",
   "mimetype": "text/x-sh",
   "name": "bash"
  }
 },
 "nbformat": 4,
 "nbformat_minor": 4
}
