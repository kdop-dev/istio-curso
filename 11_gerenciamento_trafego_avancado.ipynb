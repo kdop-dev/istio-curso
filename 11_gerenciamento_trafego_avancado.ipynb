{
 "cells": [
  {
   "cell_type": "markdown",
   "metadata": {},
   "source": [
    "# Gerenciamento de tráfego - Avançado\n",
    "\n",
    "Nesta seção iremos abordar mais formas de gerenciar o tráfego com o Istio, até o momento vimos basicamente uma formas, o roteamento por nome do host (FQDN).\n",
    "\n",
    "Nosso novo cenário a nossa aplicação irá expor os serviços de _login_ e _order_ e algumas das suas APIs para outras aplicações.\n",
    "\n",
    "Não precisamos expor cada um dos serviços da nossa aplicação, podemos criar um ou mais _VirtualServices_ que representem esse cenário:\n",
    "\n",
    "| url interna               | url externa                                  | service     | port |\n",
    "| ---                       | ---                                          | ---         | ---  |\n",
    "| http://front-end          | http://INGRESS_HOST:INGRESS_PORT/            | front-end   | 8000 |\n",
    "|                           | http://INGRESS_HOST:INGRESS_PORT/front-end   |             |      |\n",
    "| http://login              | http://INGRESS_HOST:INGRESS_PORT/login       | login       | 8000 |\n",
    "| http://catalogue          | http://INGRESS_HOST:INGRESS_PORT/catalogue   | catalogue   | 8000 |\n",
    "| http://orders             |                                              | orders      | 8000 |\n",
    "| http://shipping           |                                              | shipping    | 8000 |\n",
    "| http://cart               |                                              | cart        | 8000 |\n",
    "| http://payment            |                                              | payment     | 8000 |\n",
    "| http://accounts           |                                              | accounts    | 8000 |\n",
    "\n",
    "Mantenha um terminal aberto e o Kiali, iremos utilizá-los com frequência."
   ]
  },
  {
   "cell_type": "markdown",
   "metadata": {},
   "source": [
    "Vamos determinar a URI do Ingress Gateway e configurá-lo:"
   ]
  },
  {
   "cell_type": "code",
   "execution_count": null,
   "metadata": {},
   "outputs": [],
   "source": [
    "# Configurando acesso ao Ingress\n",
    "export INGRESS_HOST=$(kubectl -n istio-system get service istio-ingressgateway -o jsonpath='{.status.loadBalancer.ingress[0].ip}')\n",
    "export INGRESS_PORT=$(kubectl -n istio-system get service istio-ingressgateway -o jsonpath='{.spec.ports[?(@.name==\"http2\")].port}')\n",
    "export SECURE_INGRESS_PORT=$(kubectl -n istio-system get service istio-ingressgateway -o jsonpath='{.spec.ports[?(@.name==\"https\")].port}')\n",
    "export TCP_INGRESS_PORT=$(kubectl -n istio-system get service istio-ingressgateway -o jsonpath='{.spec.ports[?(@.name==\"tcp\")].port}')\n",
    "\n",
    "echo \"Ingress uri\"\n",
    "echo http://$INGRESS_HOST:$INGRESS_PORT\n",
    "echo https://$INGRESS_HOST:$SECURE_INGRESS_PORT"
   ]
  },
  {
   "cell_type": "code",
   "execution_count": null,
   "metadata": {},
   "outputs": [],
   "source": [
    "# Configurar um ingress gateway\n",
    "kubectl apply -f assets/exemplos/simul-shop/istio/10/default-gateway.yaml"
   ]
  },
  {
   "cell_type": "code",
   "execution_count": null,
   "metadata": {},
   "outputs": [],
   "source": [
    "# Restaura a configuração dos deplpyments \n",
    "kubectl apply -f assets/exemplos/simul-shop/manifests/4"
   ]
  },
  {
   "cell_type": "markdown",
   "metadata": {},
   "source": [
    "### Discussão: Versionamento de recursos web\n",
    "\n",
    "Embora esteja fora do escopo desse curso, essa é uma discussão que em algum momento do desenvolvimento do sistema você terá que enfrentar, como indicar para os consumidores a versão da sua aplicação.\n",
    "\n",
    "Podemos separar o tema em duas partes:\n",
    "\n",
    "* Interface com usuário final\n",
    "* APIs\n",
    "\n",
    "\n",
    "#### Interface web\n",
    "\n",
    "Não é interessante apresentar qualquer forma de versionamento para o usuário final, ou seja, não deveríamos expor qustões internas do sistemas, como portas, protocolos e versões para os usuários finais.\n",
    "\n",
    "Também dificultaria testes A/B, implantações canário, ou qualquer forma de manipulação das requisições que necessitasse de transparência para o consumidor.\n",
    "\n",
    "#### APIs\n",
    "\n",
    "É uma estória completamente diferente, os consumidores destes recursos procuram algum tipo de garantia de que as versões que utilizam são estáveis, que o contrato que estabeleceram com o produtor não seja alterado para aquele ponto no tempo.\n",
    "\n",
    "Existem prós e contras para cada escolha no forma de versionamento, entre elas:\n",
    "    \n",
    "* **Controle de versão por meio de caminho na URI**: http://www.simul-shop.com/orders/api/v1\n",
    "    * Prós: os clientes podem armazenar recursos em cache facilmente\n",
    "    * Contras: esta solução tem ramificações na base de código\n",
    "* **Controle de versão por meio de parâmetros de consulta**: http://www.simul-shop.com/orders/api?version=v1\n",
    "    * Prós: é uma maneira direta de criar uma versão de API e é fácil padronizar para a versão mais recente\n",
    "    * Contras: os parâmetros de consulta são mais difíceis de usar para rotear solicitações para a versão adequada da API\n",
    "* **Controle de versão por meio de cabeçalhos personalizados**: `curl -H “Accept-versions: v1” http://www.simul-shop.com/orders/api`\n",
    "    * Prós: não confunde o URI com informações de versão\n",
    "    * Contras: requer cabeçalhos personalizados\n",
    "* **Controle de versão por meio de negociação de conteúdo**: `curl -H “Accept: application/vnd.xm.device+json; version=v1” http://www.simul-shop.com/orders/api`\n",
    "    * Prós: nos permite criar versões de uma representação de recurso único em vez de criar versões de toda a API, o que nos dá um controle mais granular sobre as versões. Não requer a implementação de regras de roteamento de URI.\n",
    "    * Contras: Exigir cabeçalhos HTTP com tipos de mídia torna mais difícil testar e explorar a API usando um navegador.\n",
    "\n",
    "Do ponto de vista do design da APIs, incorporar a versão no URL não é uma prática recomendada porque resulta mudanças nas URLs, mesmo que o próprio recurso não tenha mudado.\n",
    "\n",
    "[Roy Fielding](https://en.wikipedia.org/wiki/Roy_Fielding), um dos principais contribuidores para o protocolo HTTP e criador to REST, não recomenta utilizar qualquer forma de controle de versão para APIs ([Apresentação](https://www.slideshare.net/evolve_conference/201308-fielding-evolve)).\n",
    "\n",
    "#### Por que não versionamento semântico?\n",
    "\n",
    "De fato, a maioria das APIs utiliza o [versionamento semântico](https://semver.org/), mas não a versão completamente, pelo menos não na URI. Nada impediria que suas URL fossem `https://www.simul-shop.com/cart/api/1.0.2', porém o número da versão principal é o que você precisa para indicar aos seus consumidores a compatibilidade entre as versões. Os números que representam as versões menores e as correções não deveriam quebrar a compatibilidade e não justificariam a mudança da URL.\n",
    "\n",
    "Se você precisa expressar a versão completa para seus consumidores, pode utilizar os cabeçalhos personalizados, como por exemplo o `Accept-versions` ou `Content-versions`.\n",
    "\n",
    "#### Considerações\n",
    "\n",
    "Em resumo, quando tratamos de interface web, geralmente procuramos ser o mais transparente o possível para o usuário final, mas se a questão é APIs, nossos consumidores, geralmente outros técnicos, necessitam de alguma garantia que as mesmas versões geram os mesmos resultados. Isso pode dificultar o uso de implementação canário por uma questão de semântica.\n",
    "\n",
    "Felizmente, o Istio fornece recursos para lidar com todas as opções, então nós optamos por indicar a versão no cabeçalho, quando necessário.\n",
    "\n",
    "Também optamos por não adicionar a palavra `api` na URL, por uma simples questão, ela não contribui para os nossos exemplos e você pode optar em criar seus serviços com interfaces web (micro front-ends) e programáticas (APIs), sendo assim, você poderia adicionar a palavra depois do roteamento do Istio, mas isso é com você."
   ]
  },
  {
   "cell_type": "markdown",
   "metadata": {},
   "source": [
    "## Rota baseada no caminho\n",
    "\n",
    "![rota baseada no caminha](media/path-based-routes.png)\n",
    "\n",
    "Vamos implementar a tabela acima, já vimos como configurar _VirtualService_ para hosts, vamos configurá-lo para caminho, a estrutura para as URIs do front-end\n",
    "\n",
    "\n",
    "```yaml\n",
    "spec:\n",
    "  hosts:\n",
    "    - \"*\"\n",
    "  gateways:\n",
    "  - default-gateway\n",
    "  http:\n",
    "  - match: # <-- Regra prefixo /catalogue\n",
    "    - uri:\n",
    "        prefix: /login\n",
    "    rewrite:\n",
    "      uri: /\n",
    "    route:\n",
    "    - destination:\n",
    "        host: login # FQDN completo ou abreviado\n",
    "        subset: v1\n",
    "  - match: # <-- Regra prefixo /catalogue\n",
    "    - uri:\n",
    "        prefix: /catalogue\n",
    "    rewrite:\n",
    "      uri: /\n",
    "    route:\n",
    "    - destination:\n",
    "        host: catalogue # FQDN completo ou abreviado\n",
    "        subset: v1\n",
    "  - route: # <-- Rota padrão\n",
    "    - destination:\n",
    "        host: front-end \n",
    "        subset: v1\n",
    "```"
   ]
  },
  {
   "cell_type": "markdown",
   "metadata": {},
   "source": [
    "**Dica pro**: Você pode configurar regras para vários serviços no mesmo VirtualService, porém, para a organização, governança e entrega dessas regras pode se tornar um desafio conforme o número de serviços cresce.\n",
    "\n",
    "Uma boa prática é criar um arquivo de entrega para cada serviço, você pode manter as _DestinationRules_ no mesmo arquivo ou em arquivos separados. Nestes exemplos, manteremos as _DestinationRules_ e _VirtualServices_ no mesmo arquivo."
   ]
  },
  {
   "cell_type": "markdown",
   "metadata": {},
   "source": [
    "Vamos aplicar as configuração para os serviços de [login](assets/exemplos/simul-shop/istio/11/login-dr-vs.yaml), [catalogue](assets/exemplos/simul-shop/istio/11/catalogue-dr-vs.yaml) e [front-end](assets/exemplos/simul-shop/istio/11/front-end-dr-vs.yaml)."
   ]
  },
  {
   "cell_type": "code",
   "execution_count": null,
   "metadata": {},
   "outputs": [],
   "source": [
    "# Login\n",
    "# DestinationRules e VirtualServices\n",
    "kubectl apply -f assets/exemplos/simul-shop/istio/11/login-dr-vs.yaml"
   ]
  },
  {
   "cell_type": "code",
   "execution_count": null,
   "metadata": {},
   "outputs": [],
   "source": [
    "# Catalogue\n",
    "# DestinationRules e VirtualServices\n",
    "kubectl apply -f assets/exemplos/simul-shop/istio/11/catalogue-dr-vs.yaml"
   ]
  },
  {
   "cell_type": "code",
   "execution_count": null,
   "metadata": {},
   "outputs": [],
   "source": [
    "# Front-end\n",
    "# DestinationRules e VirtualServices\n",
    "kubectl apply -f assets/exemplos/simul-shop/istio/11/front-end-dr-vs.yaml"
   ]
  },
  {
   "cell_type": "markdown",
   "metadata": {},
   "source": [
    "Vamos verificar o que foi criado:"
   ]
  },
  {
   "cell_type": "code",
   "execution_count": null,
   "metadata": {},
   "outputs": [],
   "source": [
    "kubectl get vs,dr"
   ]
  },
  {
   "cell_type": "markdown",
   "metadata": {},
   "source": [
    "Vamos testando as configurações:"
   ]
  },
  {
   "cell_type": "code",
   "execution_count": null,
   "metadata": {},
   "outputs": [],
   "source": [
    "# front-end - rota padrão\n",
    "http -v \"$INGRESS_HOST:$INGRESS_PORT/\""
   ]
  },
  {
   "cell_type": "code",
   "execution_count": null,
   "metadata": {},
   "outputs": [],
   "source": [
    "# front-end - regra match.uri\n",
    "http -v \"$INGRESS_HOST:$INGRESS_PORT/front-end\""
   ]
  },
  {
   "cell_type": "code",
   "execution_count": null,
   "metadata": {},
   "outputs": [],
   "source": [
    "# Login - regra match.uri\n",
    "http -v \"$INGRESS_HOST:$INGRESS_PORT/login\""
   ]
  },
  {
   "cell_type": "code",
   "execution_count": null,
   "metadata": {},
   "outputs": [],
   "source": [
    "# Catalogue - regra match.uri\n",
    "http -v \"$INGRESS_HOST:$INGRESS_PORT/catalogue\""
   ]
  },
  {
   "cell_type": "markdown",
   "metadata": {},
   "source": [
    "## Rota baseada no cabeçalho\n",
    "\n",
    "Os _VirtualServices_ são uma das principais configurações do gerenciamento de tráfico do Istio, nesse exemplo iremos utilizar os dados do cabeçalho da requisição para decidir qual versão do serviço será servida para o requisitante.\n",
    "\n",
    "Esse tipo de controle permite realizar testes e entregas para grupos de usuários. Diferente da entrega canário, que direciona o tráfego com base em percentuais, a rota baseada no cabeçalho, permite mirar grupos específicos.\n",
    "\n",
    "Neste cenário os usuários que acessarem o front-end na região _Southeast_ serão direcionados para a versão 2 e os demais para a versão 1. \n",
    "\n",
    "Vamos aplica a configuração [front-end-route-header.yaml](assets/exemplos/simul-shop/istio/11/front-end-route-header-vs.yaml)."
   ]
  },
  {
   "cell_type": "code",
   "execution_count": null,
   "metadata": {},
   "outputs": [],
   "source": [
    "# Deployment da versão 2 do front-end\n",
    "kubectl apply -f assets/exemplos/simul-shop/manifests/8/front-end-deployment-v2.yaml"
   ]
  },
  {
   "cell_type": "code",
   "execution_count": null,
   "metadata": {},
   "outputs": [],
   "source": [
    "# Configurar o VirtualService do front-end para direcionar com base nos campos do cabeçalho\n",
    "kubectl apply -f assets/exemplos/simul-shop/istio/11/front-end-route-header-vs.yaml"
   ]
  },
  {
   "cell_type": "markdown",
   "metadata": {},
   "source": [
    "Nossa aplicação já pode ser acessada pela uri http://INGRESS_HOST:INGRESS_PORT/"
   ]
  },
  {
   "cell_type": "code",
   "execution_count": null,
   "metadata": {},
   "outputs": [],
   "source": [
    "# Rota padrão\n",
    "http -v \"$INGRESS_HOST:$INGRESS_PORT\""
   ]
  },
  {
   "cell_type": "markdown",
   "metadata": {},
   "source": [
    "A versão acessada foi a v1, vamos adicionar o cabeçalho."
   ]
  },
  {
   "cell_type": "code",
   "execution_count": null,
   "metadata": {},
   "outputs": [],
   "source": [
    "# Regra #1 - campo user-region do cabeçalho igual a Southeast\n",
    "http -v \"$INGRESS_HOST:$INGRESS_PORT\" \"user-region: Southeast\""
   ]
  },
  {
   "cell_type": "markdown",
   "metadata": {},
   "source": [
    "Com o campo no cabeçalho o serviço chamado foi o v2.\n",
    "\n",
    "Você pode usar uma combinação de campos do cabeçalho e tirar proveito de campos [padrão](https://en.wikipedia.org/wiki/List_of_HTTP_header_fields) para guiar a lógica do seu serviço.\n",
    "\n",
    "* content-length\n",
    "* content-type\n",
    "* date\n",
    "* Host\n",
    "* User-Agent"
   ]
  },
  {
   "cell_type": "markdown",
   "metadata": {},
   "source": [
    "## Multiplas regras de tráfego\n",
    "\n",
    "Como discutimos anteriormente, você pode combinar multiplas regras em um único _VirtualService_, inclusive de serviços diferentes, porém isso pode ficar confuso conforme o numero de serviços cresce, mas é uma boa prática, combinar as regras em um único _VirtualService_ para o mesmo serviço, dessa forma podemos avaliar o seu comportamento em um único lugar.\n",
    "\n",
    "As regras são avaliadas na ordem, as rotas HTTP serão aplicadas às portas de serviço da plataforma chamadas 'http -' / 'http2 -' / 'grpc- *', portas de gateway com protocolo HTTP / HTTP2 / GRPC / TLS-terminated-HTTPS e portas de entrada de serviço usando HTTP / HTTP2 / Protocolos GRPC. A primeira regra que corresponder a solicitação de entrada será usada.\n",
    "\n",
    "Neste cenário queremos combinar a uri com campos do cabeçalho, somente requisições com uri iniciando com `/front-end` e cabeçalho com o campo `user-region: Southeast` serão direcionados para a v2.\n",
    "\n",
    "Nesse cenário hipotético, após os testes, iremos direcionar as requisições com prefixo `/front-end` também para a v2.\n",
    "\n",
    "E como boa prática, se nenhuma das regras for satisfeita, a requisição será direcionada para a v1."
   ]
  },
  {
   "cell_type": "code",
   "execution_count": null,
   "metadata": {},
   "outputs": [],
   "source": [
    "# Virtual Service\n",
    "kubectl apply -f assets/exemplos/simul-shop/istio/11/front-end-multi-route-vs.yaml"
   ]
  },
  {
   "cell_type": "code",
   "execution_count": null,
   "metadata": {},
   "outputs": [],
   "source": [
    "# Rota padrão - v1\n",
    "http -v \"$INGRESS_HOST:$INGRESS_PORT/\" \"user-region: Southeast\""
   ]
  },
  {
   "cell_type": "code",
   "execution_count": null,
   "metadata": {},
   "outputs": [],
   "source": [
    "# Rota padrão - v1\n",
    "http -v \"$INGRESS_HOST:$INGRESS_PORT/\""
   ]
  },
  {
   "cell_type": "code",
   "execution_count": null,
   "metadata": {},
   "outputs": [],
   "source": [
    "# Regra #2: uri iniciando em /front-end - v1 (mas pode ser alterada para outra versão)\n",
    "http -v \"$INGRESS_HOST:$INGRESS_PORT/front-end\""
   ]
  },
  {
   "cell_type": "code",
   "execution_count": null,
   "metadata": {},
   "outputs": [],
   "source": [
    "# Regra #1: user-regio=Southeast e uri iniciando em /front-end - v2\n",
    "http -v \"$INGRESS_HOST:$INGRESS_PORT/front-end\" \"user-region: Southeast\""
   ]
  },
  {
   "cell_type": "code",
   "execution_count": null,
   "metadata": {},
   "outputs": [],
   "source": [
    "# Rota padrão, mas não tem re-escrita da URI - 404\n",
    "http -v \"$INGRESS_HOST:$INGRESS_PORT/anything\""
   ]
  },
  {
   "cell_type": "markdown",
   "metadata": {},
   "source": [
    "## Modificando os cabeçalhos de resposta\n",
    "\n",
    "Os _VirtualServices_ podem adicionar ou remover campos do cabeçalho.\n",
    "\n",
    "![Adding headers](media/add-headers.png)\n",
    "\n",
    "Neste exemplo, queremos que as requisições que não são originadas de _Southeast_ tenham o campo do cabeçalho `user-region` com o valor `other`. Esse dado pode ser utilizada para regras em outros serviços, ou para fins de log."
   ]
  },
  {
   "cell_type": "code",
   "execution_count": null,
   "metadata": {},
   "outputs": [],
   "source": [
    "# VirtualService\n",
    "kubectl apply -f assets/exemplos/simul-shop/istio/11/front-end-change-header-vs.yaml"
   ]
  },
  {
   "cell_type": "code",
   "execution_count": null,
   "metadata": {},
   "outputs": [],
   "source": [
    "# Regra 1 - v2\n",
    "http -v \"$INGRESS_HOST:$INGRESS_PORT/\" \"user-region: Southeast\""
   ]
  },
  {
   "cell_type": "code",
   "execution_count": null,
   "metadata": {},
   "outputs": [],
   "source": [
    "# Rota padrão - v1\n",
    "http -v \"$INGRESS_HOST:$INGRESS_PORT/\""
   ]
  },
  {
   "cell_type": "markdown",
   "metadata": {},
   "source": [
    "Procure pelo campo `user-region` no cabeçalho. Todas as requisições que forem direcionadas pela rota padrão terão o campo `user-region: other` adicionado."
   ]
  },
  {
   "cell_type": "markdown",
   "metadata": {},
   "source": [
    "## Retentativas e timeouts\n",
    "\n",
    "Arquiteturas distribuídas significa solicitações na rede, aumentando a chance de falhas temporárias como congestionamento da rede.\n",
    "\n",
    "Adicionar políticas de repetição para solicitações e expiração do tempo de espera ajudam a construir serviços resilientes em uma arquitetura de serviços. Frequentemente, essa lógica de repetição é incorporada no serviço, mas com o Istio, você pode definir políticas de repetição com uma regra de tráfego, a serem executadas pelos sidecars, permitindo padronizar as políticas de forma independente dos  protocolos e linguagens de programação.\n",
    "\n",
    "Uma configuração tentativas especifica o número máximo de vezes que um proxy Envoy tenta se conectar a um serviço se a chamada inicial falhar."
   ]
  },
  {
   "cell_type": "markdown",
   "metadata": {},
   "source": [
    "### _Timeout_\n",
    "\n",
    "Nosso primeira [configuração](assets/exemplos/simul-shop/istio/11/login-timeout-vs.yaml) será ajustar o tempo de espera (timeout) para 10s. Para isso vamos configurar o _VirtualService_ do login e executar o serviço passando diferntes tempos de atraso.\n",
    "\n",
    "> Na seção Engenharia do Caos, veremos como fazer isso usando configurações do Istio."
   ]
  },
  {
   "cell_type": "code",
   "execution_count": null,
   "metadata": {},
   "outputs": [],
   "source": [
    "# VirtualService\n",
    "kubectl apply -f assets/exemplos/simul-shop/istio/11/login-timeout-vs.yaml"
   ]
  },
  {
   "cell_type": "markdown",
   "metadata": {},
   "source": [
    "Para testar vamos executar o serviço, mas antes, abra um terminal para monitorar os logs do serviço.\n",
    "\n",
    "Em um terminal digite `stern -l app=login -c istio-proxy`\n",
    "\n",
    "Agora vamos executar o serviço."
   ]
  },
  {
   "cell_type": "code",
   "execution_count": null,
   "metadata": {},
   "outputs": [],
   "source": [
    "# Atraso de 5s a 15s, incremento de 2s\n",
    "for i in $(seq 5 2 15);\n",
    "    do kubectl exec -it svc/front-end -c front-end -- http -v \"http://login:8000/r?code=200&wait=$i\";\n",
    "done"
   ]
  },
  {
   "cell_type": "markdown",
   "metadata": {},
   "source": [
    "O tempo de espera (timeout) ajustado para 10 segundos permitiu que o serviço fosse executado para tempos de espera 5s, 7s e 9s. Além desse ponto, o serviço retornou _timeout_"
   ]
  },
  {
   "cell_type": "markdown",
   "metadata": {},
   "source": [
    "### _Retries_\n",
    "\n",
    "Neste cenário, simulamos um problema com o serviço de login. Modificaremos o _Deployment_ do `front-end` para pausar a chamada automática aos serviços, isso dificultaria acompanhar os logs.\n",
    "\n",
    "![Retries](media/retries.png)"
   ]
  },
  {
   "cell_type": "code",
   "execution_count": null,
   "metadata": {},
   "outputs": [],
   "source": [
    "# Modificar o _VirtualService_ do front-end\n",
    "kubectl apply -f assets/exemplos/simul-shop/manifests/8/front-end-deployment-no-auto.yaml"
   ]
  },
  {
   "cell_type": "code",
   "execution_count": null,
   "metadata": {},
   "outputs": [],
   "source": [
    "# VirtualService\n",
    "kubectl apply -f assets/exemplos/simul-shop/istio/11/login-retry-vs.yaml"
   ]
  },
  {
   "cell_type": "markdown",
   "metadata": {},
   "source": [
    "Como os tempos limite, o comportamento de retentativa pode não atender às necessidades do seu aplicativo em termos de latência (muitas tentativas para um serviço com falha podem tornar as coisas piores). Você pode ajustar as configurações por serviço.\n",
    "\n",
    "Para configurar o comportamento das retentativa, pode-se adicionar tempos limite por nova tentativa, especificando a quantidade de tempo que você deseja esperar para cada tentativa.\n",
    "\n",
    "Nesta [configuração](assets/exemplos/simul-shop/istio/11/login-retry-vs.yaml) serão 3 tentativas após uma falha inicial, cada uma com um tempo limite de 2 segundos."
   ]
  },
  {
   "cell_type": "code",
   "execution_count": null,
   "metadata": {},
   "outputs": [],
   "source": [
    "kubectl exec -it svc/front-end -c front-end -- bash -c 'time http -v \"http://login:8000/r?code=504&wait=1\"'"
   ]
  },
  {
   "cell_type": "markdown",
   "metadata": {},
   "source": [
    "Acompanhe o log, você verá quatro entradas, a inicial e mais três, uma vez que nosso serviço continuará a retornar o erro em todas as tentativas."
   ]
  },
  {
   "cell_type": "code",
   "execution_count": null,
   "metadata": {},
   "outputs": [],
   "source": [
    "stern -l app=login -c istio-proxy"
   ]
  },
  {
   "cell_type": "markdown",
   "metadata": {},
   "source": [
    "O tempo total de execução foi 4x o tempo do serviço.\n",
    "\n",
    "E se o serviço retornar um código 200 em qualquer uma das três tentativas, a requisição encerrará com sucesso e o tempo total de execução será a soma das tentativas."
   ]
  },
  {
   "cell_type": "code",
   "execution_count": null,
   "metadata": {},
   "outputs": [],
   "source": [
    "kubectl exec -it svc/front-end -c front-end -- bash -c 'time http -v \"http://login:8000/r?code=200&wait=1\"'"
   ]
  },
  {
   "cell_type": "markdown",
   "metadata": {},
   "source": [
    "Nesta última execução, o serviço retorna após 1s com sucesso (200).\n",
    "\n",
    "Você deverá ver os errors no kiali e jaeger. No jaeger filtre os rastros colocando em _Service_ escolha `front-end.default` e em _Tags_ preencha com o valor `http.status_code=500`\n",
    "\n",
    "![Jaeger search retries](media/jaeger-retries-search.png)\n",
    "\n",
    "E as execuções que acompanhamos nos logs.\n",
    "\n",
    "![Jaeger failed retries](media/jaeger-failed-retries.png)"
   ]
  },
  {
   "cell_type": "markdown",
   "metadata": {},
   "source": [
    "Vamos restaurar as configurações do front-end e login:"
   ]
  },
  {
   "cell_type": "code",
   "execution_count": null,
   "metadata": {},
   "outputs": [],
   "source": [
    "# Restore front-end config\n",
    "kubectl apply -f assets/exemplos/simul-shop/manifests/8/front-end-deployment-no-auto.yaml\n",
    "kubectl apply -f assets/exemplos/simul-shop/istio/11/front-end-dr-vs.yaml"
   ]
  },
  {
   "cell_type": "code",
   "execution_count": null,
   "metadata": {},
   "outputs": [],
   "source": [
    "# Restore login config\n",
    "kubectl apply -f assets/exemplos/simul-shop/istio/11/login-dr-vs.yaml "
   ]
  },
  {
   "cell_type": "markdown",
   "metadata": {},
   "source": [
    "## Disjuntores\n",
    "\n",
    "Os [disjuntores](https://istio.io/latest/docs/concepts/traffic-management/#circuit-breakers), analogia aos [dispositivos](https://en.wikipedia.org/wiki/Circuit_breaker) que cortam a energia elétrica em caso de sobre carga, são mecanismos úteis para incrementar a resiliência dos serviços.\n",
    "\n",
    "![disjuntores](media/disjuntores.png)\n",
    "\n",
    "Em um disjuntor, você define os limites para chamadas para hosts individuais em um serviço, como o número de conexões simultâneas ou quantas vezes as chamadas para este host falharam. Uma vez que esse limite tenha sido atingido, o disjuntor “desarma” e interrompe outras conexões com aquele host.\n",
    "\n",
    "Usar o padrão de disjuntor ([fowler](https://martinfowler.com/bliki/CircuitBreaker.html), [richardson](https://microservices.io/patterns/reliability/circuit-breaker.html)) permite uma falha rápida em vez de os clientes tentarem se conectar a um host sobrecarregado ou com falha."
   ]
  },
  {
   "cell_type": "markdown",
   "metadata": {},
   "source": [
    "Vamos aplicar a [configuração](https://istio.io/latest/docs/reference/config/networking/destination-rule/#ConnectionPoolSettings) ([Envoy - Circuit breaking](https://www.envoyproxy.io/docs/envoy/latest/intro/arch_overview/upstream/circuit_breaking)):"
   ]
  },
  {
   "cell_type": "code",
   "execution_count": null,
   "metadata": {},
   "outputs": [],
   "source": [
    "# Config\n",
    "kubectl apply -f - <<EOF\n",
    "apiVersion: networking.istio.io/v1alpha3\n",
    "kind: DestinationRule\n",
    "metadata:\n",
    "  name: catalogue-cb\n",
    "spec:\n",
    "  host: catalogue\n",
    "  trafficPolicy:\n",
    "    connectionPool:\n",
    "      tcp:\n",
    "        maxConnections: 1\n",
    "      http:\n",
    "        http1MaxPendingRequests: 1\n",
    "        maxRequestsPerConnection: 1\n",
    "    outlierDetection:\n",
    "      consecutiveErrors: 1\n",
    "      interval: 1s\n",
    "      baseEjectionTime: 3m\n",
    "      maxEjectionPercent: 100\n",
    "EOF"
   ]
  },
  {
   "cell_type": "markdown",
   "metadata": {},
   "source": [
    "A sensibilidade do disjuntor foi ajustada para:\n",
    "\n",
    "* maxConnections: Número máximo de conexões para o host destino\n",
    "* http1MaxPendingRequests: Número máximo de requisiçõe http 1.x pendentes\n",
    "* maxRequestsPerConnection: Número máximo de requisições por conexão\n",
    "\n",
    "Para serviços HTTP, os hosts que retornam continuamente erros 5xx (_outliers_) são ejetados do _pool_ por um período de tempo predefinido. Para serviços TCP, tempos limite de conexão ou falhas de conexão para um determinado host contam como um erro ao medir a métrica de erros consecutivos. Consulte a [detecção de outlier do Envoy](https://www.envoyproxy.io/docs/envoy/latest/intro/arch_overview/upstream/outlier) para obter mais detalhes.\n",
    "\n",
    "Nessa configuração a ejeção do host do _pool_ se o número máximo de erros consecutivos for um no intervalo de um segundo. O host ejetado ficará fora por três segundos, quando uma nova requisição será enviada para ele, se for com sucesso, o hosto retorna ao _pool_.\n",
    "\n",
    "> maxEjectionPercent é o número máximo de hosts do _pool_ que podem ser ejetados.\n",
    "\n",
    "Para uma lista completa de atributos para http e tcp acesse [Istio - ConnectionPoolSettings](https://istio.io/latest/docs/reference/config/networking/destination-rule/#ConnectionPoolSettings)."
   ]
  },
  {
   "cell_type": "markdown",
   "metadata": {},
   "source": [
    "Para simular a carga utilizaremos o [Fortio](https://github.com/fortio/fortio). Ele é uma ferramenta de teste de carga, originalmente desenvolvido para o Istio."
   ]
  },
  {
   "cell_type": "code",
   "execution_count": null,
   "metadata": {},
   "outputs": [],
   "source": [
    "# Client\n",
    "kubectl apply -f istio-1.9.4/samples/httpbin/sample-client/fortio-deploy.yaml"
   ]
  },
  {
   "cell_type": "code",
   "execution_count": null,
   "metadata": {},
   "outputs": [],
   "source": [
    "# Testing\n",
    "export FORTIO_POD=$(kubectl get pods -lapp=fortio -o 'jsonpath={.items[0].metadata.name}')\n",
    "\n",
    "kubectl exec \"$FORTIO_POD\" -c fortio -- /usr/bin/fortio curl -quiet http://catalogue:8000/"
   ]
  },
  {
   "cell_type": "markdown",
   "metadata": {},
   "source": [
    "Antes de disparar a carga, abra dois terminais e monitore o _istio-proxy_.\n",
    "\n",
    "```bash\n",
    "# Teminal 1 - client\n",
    "stern -l app=fortio -c istio-proxy\n",
    "# Terminal 2 - server\n",
    "stern -l app=catalogue,version=v1 -c istio-proxy\n",
    "````\n",
    "Vamos executar a carga para o serviço em um terceiro terminal:"
   ]
  },
  {
   "cell_type": "code",
   "execution_count": null,
   "metadata": {},
   "outputs": [],
   "source": [
    "kubectl exec \"$FORTIO_POD\" -c fortio -- /usr/bin/fortio load -c 1 -qps 0 -n 20 -loglevel Warning \"http://catalogue:8000/r?code=200&wait=2\""
   ]
  },
  {
   "cell_type": "markdown",
   "metadata": {},
   "source": [
    "![load 3](media/load-catalogue-1.png)"
   ]
  },
  {
   "cell_type": "markdown",
   "metadata": {},
   "source": [
    "Conte o número de logs com status 200 nos dois logs, devem coincidir com o resultado do fortio.\n",
    "\n",
    "Vamos repetir o teste, mas dessa vez adicionando mais pressão.\n",
    "\n",
    "> **Dica pro**: Limpe o terminal ou adicione algum espaço (<kbd>Enter</kbd>) para ficar mais fácil identificar o início de cada log da execução."
   ]
  },
  {
   "cell_type": "code",
   "execution_count": null,
   "metadata": {},
   "outputs": [],
   "source": [
    "# Pare a execução no terminal 3 e execute o comando com os novos parâmetros:\n",
    "kubectl exec \"$FORTIO_POD\" -c fortio -- /usr/bin/fortio load -c 3 -qps 0 -n 20 -loglevel Warning \"http://catalogue:8000/r?code=200&wait=2\""
   ]
  },
  {
   "cell_type": "markdown",
   "metadata": {},
   "source": [
    "![load 3](media/load-catalogue-3.png)"
   ]
  },
  {
   "cell_type": "markdown",
   "metadata": {},
   "source": [
    "Repita a contagem, conte também os 503."
   ]
  },
  {
   "cell_type": "markdown",
   "metadata": {},
   "source": [
    "O uso desse padrão deve ser cuidadosamente configurado e testado, acionamentoa prematuroa ou tardioa podem causar comportamentos difícies de compreender.\n",
    "\n",
    "Use o kiali para entender a sua malha, procure os serviços que tem configurações e avalie as métricas.\n",
    "\n",
    "![kiali circuit breaker](media/kiali-graph-circuit-breaker.png)\n",
    "\n",
    "Kiali exibindo os erros:\n",
    "\n",
    "![kiali circuit breaker errors](media/kiali-graph-circuit-breaker-errors.png)"
   ]
  },
  {
   "cell_type": "markdown",
   "metadata": {},
   "source": [
    "Pare a execução nos terminais 1, 2 e 3 e remova a configuração:"
   ]
  },
  {
   "cell_type": "code",
   "execution_count": null,
   "metadata": {},
   "outputs": [],
   "source": [
    "kubectl delete dr/catalogue-cb"
   ]
  },
  {
   "cell_type": "markdown",
   "metadata": {},
   "source": [
    "## Espelhando o tráfego\n",
    "\n",
    "Testar serviços em produção é complexo, porém importante para ajudar na garantia da confiabilidade.\n",
    "\n",
    "O envio de tráfego de produção simultaneamente para uma nova versão de um serviço pode ajudar a revelar bugs que não foram encontrados durante os testes.\n",
    "\n",
    "Usando o Istio, você pode usar o espelhamento de tráfego para duplicar o tráfego para outro serviço. Você pode incorporar uma regra de espelhamento de tráfego como parte de um pipeline de implantação canário, permitindo que você analise o comportamento de um serviço antes de enviar tráfego de missão críitica para ele.\n",
    "\n",
    "Esse recurso permite obter dados valiosos de produção sem colocar em risco suas operações.\n",
    "\n",
    "![Mirroring requests](media/mirror.png)"
   ]
  },
  {
   "cell_type": "markdown",
   "metadata": {},
   "source": [
    "Vamos configurar nossa aplicação:"
   ]
  },
  {
   "cell_type": "code",
   "execution_count": null,
   "metadata": {},
   "outputs": [],
   "source": [
    "# orders Deployment v2\n",
    "kubectl apply -f assets/exemplos/simul-shop/manifests/11/orders-deployment-v2.yaml"
   ]
  },
  {
   "cell_type": "markdown",
   "metadata": {},
   "source": [
    "Aplicando as regras de espelhamento [assets/exemplos/simul-shop/istio/11/orders-mirror-dr-vs.yaml](assets/exemplos/simul-shop/istio/11/orders-mirror-dr-vs.yaml):"
   ]
  },
  {
   "cell_type": "code",
   "execution_count": null,
   "metadata": {},
   "outputs": [],
   "source": [
    "# Config DestinationRules e VirtualService for orders\n",
    "kubectl apply -f assets/exemplos/simul-shop/istio/11/orders-mirror-dr-vs.yaml"
   ]
  },
  {
   "cell_type": "markdown",
   "metadata": {},
   "source": [
    "Para monitorar o resultado, abra dois terminais, um monitorando a versão v1 da ordem e outro a versão v2:\n",
    "\n",
    "* Terminal 1: `stern -l app=orders,version=v1`\n",
    "* Terminal 2: `stern -l app=orders,version=v2`\n",
    "\n",
    "Vamos gerar algum tráfego, execute algumas vezes e acompanhe os logs."
   ]
  },
  {
   "cell_type": "code",
   "execution_count": null,
   "metadata": {},
   "outputs": [],
   "source": [
    "kubectl exec -it svc/front-end -c front-end -- bash -c 'time http -v \"http://front-end:8000/s\"'"
   ]
  },
  {
   "cell_type": "markdown",
   "metadata": {},
   "source": [
    "Nos terminais, você pode ver que imediatamente após uma chamada para a v1, a mesma chamada é realizada para v2, vamos ver como o kiali representa essa configuração.\n",
    "\n",
    "![Kiali graph mirror](media/kiali-mirror-orders.png)\n",
    "\n",
    "Ele representou a chamada para o serviço e uma ligação para o _workload_ v1, mas não para o v2, porém tanto os _workloads_ v1 e v2 chamam os demais serviços."
   ]
  },
  {
   "cell_type": "markdown",
   "metadata": {},
   "source": [
    "## Limpando as configurações\n",
    "\n",
    "Vamos remover as configurações para a próxima seção."
   ]
  },
  {
   "cell_type": "code",
   "execution_count": null,
   "metadata": {},
   "outputs": [],
   "source": [
    "# Remove VirtualService\n",
    "kubectl delete vs catalogue front-end login orders-mirror\n",
    "# Remove DestinationRules\n",
    "kubectl delete dr catalogue catalogue-cb front-end login orders\n",
    "# Remove gateways\n",
    "kubectl delete gateway/default-gateway\n",
    "# Remove Deployments\n",
    "kubectl delete deploy fortio-deploy\n",
    "# Remove Services\n",
    "kubectl delete svc fortio"
   ]
  },
  {
   "cell_type": "markdown",
   "metadata": {},
   "source": [
    "## Conclusão\n",
    "\n",
    "O Istio é extremamente versátil para gerenciar o tráfego na malha, literalmente são milhares de combinações de parâmetros e valores que permitem implementar praticamente qualquer cenário, livrando sua aplicação do desenvolvimento dessas funcionalidades ao custo de um conteinere extra.\n",
    "\n",
    "Há muito mais a ser explorado, mas agora é com você, pratique o que aprendeu, tente implementar o Istio em problemas do seu dia-a-dia, use a documentação e acesse nosso repositório para atualizações.\n",
    "\n",
    "Na próxima seção trataremos de incrementar a segurança da nossa malha."
   ]
  }
 ],
 "metadata": {
  "hide_input": false,
  "kernelspec": {
   "display_name": "Bash",
   "language": "bash",
   "name": "bash"
  },
  "language_info": {
   "codemirror_mode": "shell",
   "file_extension": ".sh",
   "mimetype": "text/x-sh",
   "name": "bash"
  },
  "toc": {
   "base_numbering": 1,
   "nav_menu": {},
   "number_sections": true,
   "sideBar": true,
   "skip_h1_title": false,
   "title_cell": "Table of Contents",
   "title_sidebar": "Contents",
   "toc_cell": false,
   "toc_position": {},
   "toc_section_display": true,
   "toc_window_display": false
  },
  "varInspector": {
   "cols": {
    "lenName": 16,
    "lenType": 16,
    "lenVar": 40
   },
   "kernels_config": {
    "python": {
     "delete_cmd_postfix": "",
     "delete_cmd_prefix": "del ",
     "library": "var_list.py",
     "varRefreshCmd": "print(var_dic_list())"
    },
    "r": {
     "delete_cmd_postfix": ") ",
     "delete_cmd_prefix": "rm(",
     "library": "var_list.r",
     "varRefreshCmd": "cat(var_dic_list()) "
    }
   },
   "types_to_exclude": [
    "module",
    "function",
    "builtin_function_or_method",
    "instance",
    "_Feature"
   ],
   "window_display": false
  }
 },
 "nbformat": 4,
 "nbformat_minor": 4
}
