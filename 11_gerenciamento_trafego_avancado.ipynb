{
 "cells": [
  {
   "cell_type": "markdown",
   "metadata": {},
   "source": [
    "# Gerenciamento de tráfego - parte 2\n",
    "\n",
    "Nesta seção iremos abordar mais formas de gerenciar o tráfego com o Istio, até o momento vimos basicamente uma formas, o roteamento por nome do host (FQDN).\n",
    "\n",
    "Nosso novo cenário a nossa aplicação irá expor os serviços de _login_ e _order_ e algumas das suas APIs para outras aplicações.\n",
    "\n",
    "Não precisamos expor cada um dos serviços da nossa aplicação, podemos criar um ou mais _VirtualServices_ que representem esse cenário:\n",
    "\n",
    "| url interna               | url externa                                | service     | port |\n",
    "| ---                       | ---                                        | ---         | ---  |\n",
    "|                           | https://www.simul-shop.com                 | front-end   | 8000 |\n",
    "|                           | https://www.simul-shop.com/login           | login       | 8000 |\n",
    "|                           | https://www.simul-shop.com/catalogue       | catalogue   | 8000 |\n",
    "| http://orders             | https://www.simul-shop.com/order           | orders      | 8000 |\n",
    "| http://shipping           | https://www.simul-shop.com/shipping        | shipping    | 8000 |\n",
    "| http://cart               | https://www.simul-shop.com/cart            | cart        | 8000 |\n",
    "| http://payment            | https://www.simul-shop.com/payment         | payment     | 8000 |\n",
    "| http://accounts           | https://www.simul-shop.com/accounts        | accounts    | 8000 |\n",
    "| http://orders/db          |                                            | orders-db   | 8000 |\n",
    "| http://queue              |                                            | queue       | 8000 |\n",
    "| http://cart/db            |                                            | cart-db     | 8000 |\n",
    "| http://accounts/db        |                                            | accounts-db | 8000 |\n",
    "\n",
    "Mantenha um terminal aberto e o Kiali, iremos utilizá-los com frequência."
   ]
  },
  {
   "cell_type": "markdown",
   "metadata": {},
   "source": [
    "### Versionamento de recursos web\n",
    "\n",
    "Embora esteja fora do escopo desse curso, essa é uma discussão que em algum momento do desenvolvimento do sistema você terá que enfrentar, como indicar para os consumidores a versão da sua aplicação.\n",
    "\n",
    "Podemos separar o tema em duas partes:\n",
    "\n",
    "* Interface com usuário final\n",
    "* APIs\n",
    "\n",
    "\n",
    "#### Interface web\n",
    "\n",
    "Não é interessante apresentar qualquer forma de versionamento para o usuário final, ou seja, não deveríamos expor qustões internas do sistemas, como portas, protocolos e versões para os usuários finais.\n",
    "\n",
    "Também dificultaria testes A/B, implantações canário, ou qualquer forma de manipulação das requisições que necessitasse de transparência para o consumidor.\n",
    "\n",
    "#### APIs\n",
    "\n",
    "É uma estória completamente diferente, os consumidores destes recursos procuram algum tipo de garantia de que as versões que utilizam são estáveis, que o contrato que estabeleceram com o produtor não seja alterado para aquele ponto no tempo.\n",
    "\n",
    "Existem prós e contras para cada escolha no forma de versionamento, entre elas:\n",
    "    \n",
    "* **Controle de versão por meio de caminho na URI**: http://www.simul-shop.com/orders/api/v1\n",
    "    * Prós: os clientes podem armazenar recursos em cache facilmente\n",
    "    * Contras: esta solução tem ramificações na base de código\n",
    "* **Controle de versão por meio de parâmetros de consulta**: http://www.simul-shop.com/orders/api?version=v1\n",
    "    * Prós: é uma maneira direta de criar uma versão de API e é fácil padronizar para a versão mais recente\n",
    "    * Contras: os parâmetros de consulta são mais difíceis de usar para rotear solicitações para a versão adequada da API\n",
    "* **Controle de versão por meio de cabeçalhos personalizados**: `curl -H “Accept-versions: v1” http://www.simul-shop.com/orders/api`\n",
    "    * Prós: não confunde o URI com informações de versão\n",
    "    * Contras: requer cabeçalhos personalizados\n",
    "* **Controle de versão por meio de negociação de conteúdo**: `curl -H “Accept: application/vnd.xm.device+json; version=v1” http://www.simul-shop.com/orders/api`\n",
    "    * Prós: nos permite criar versões de uma representação de recurso único em vez de criar versões de toda a API, o que nos dá um controle mais granular sobre as versões. Não requer a implementação de regras de roteamento de URI.\n",
    "    * Contras: Exigir cabeçalhos HTTP com tipos de mídia torna mais difícil testar e explorar a API usando um navegador.\n",
    "\n",
    "Do ponto de vista do design da APIs, incorporar a versão no URL não é uma prática recomendada porque resulta mudanças nas URLs, mesmo que o próprio recurso não tenha mudado.\n",
    "\n",
    "[Roy Fielding](https://en.wikipedia.org/wiki/Roy_Fielding), um dos principais contribuidores para o protocolo HTTP e criador to REST, não recomenta utilizar qualquer forma de controle de versão para APIs ([Apresentação](https://www.slideshare.net/evolve_conference/201308-fielding-evolve)).\n",
    "\n",
    "#### Por que não versionamento semântico?\n",
    "\n",
    "De fato, a maioria das APIs utiliza o [versionamento semântico](https://semver.org/), mas não a versão completamente, pelo menos não na URI. Nada impediria que suas URL fossem `https://www.simul-shop.com/cart/api/1.0.2', porém o número da versão principal é o que você precisa para indicar aos seus consumidores a compatibilidade entre as versões. Os números que representam as versões menores e as correções não deveriam quebrar a compatibilidade e não justificariam a mudança da URL.\n",
    "\n",
    "Se você precisa expressar a versão completa para seus consumidores, pode utilizar os cabeçalhos personalizados, como por exemplo o `Accept-versions` ou `Content-versions`.\n",
    "\n",
    "#### Considerações\n",
    "\n",
    "Em resumo, quando tratamos de interface web, geralmente procuramos ser o mais transparente o possível para o usuário final, mas se a questão é APIs, nossos consumidores, geralmente outros técnicos, necessitam de alguma garantia que as mesmas versões geram os mesmos resultados. Isso pode dificultar o uso de implementação canário por uma questão de semântica.\n",
    "\n",
    "Felizmente, o Istio fornece recursos para lidar com todas as opções, então nós optamos por indicar a versão no cabeçalho, quando necessário.\n",
    "\n",
    "Também optamos por não adicionar a palavra `api` na URL, por uma simples questão, ela não contribui para os nossos exemplos e você pode optar em criar seus serviços com interfaces web (micro front-ends) e programáticas (APIs), sendo assim, você poderia adicionar a palavra depois do roteamento do Istio, mas isso é com você."
   ]
  },
  {
   "cell_type": "markdown",
   "metadata": {},
   "source": [
    "## Rota baseada no caminho\n",
    "\n",
    "![rota baseada no caminha](media/path-based-routes.png)\n",
    "\n",
    "Vamos implementar a tabela acima, já vimos como configurar _VirtualService_ para hosts, vamos configurá-lo para caminho, a estrutura para as URIs do front-end\n",
    "\n",
    "| url interna               | url externa                                | service     | port |\n",
    "| ---                       | ---                                        | ---         | ---  |\n",
    "|                           | https://www.simul-shop.com                 | front-end   | 8000 |\n",
    "|                           | https://www.simul-shop.com/login           | login       | 8000 |\n",
    "|                           | https://www.simul-shop.com/catalogue       | catalogue   | 8000 |\n",
    "\n",
    "\n",
    "```yaml\n",
    "  hosts:\n",
    "  - front-end # <--- FQDN completo ou abreviado\n",
    "  http:\n",
    "  - match:\n",
    "    - uri:\n",
    "        prefix: \"/login\"\n",
    "    rewrite:\n",
    "      uri: \"/\"\n",
    "    route:\n",
    "    - destination:\n",
    "        host: login # FQDN completo ou abreviado\n",
    "        subset: v1\n",
    "  - match:\n",
    "        prefix: \"/catalogue\"\n",
    "    rewrite:\n",
    "      uri: \"/\"\n",
    "    route:\n",
    "    - destination:\n",
    "        host: catalogue # FQDN completo ou abreviado\n",
    "        subset: v1\n",
    "  - route: # <-- rota padrão\n",
    "    - destination:\n",
    "        host: front-end \n",
    "        subset: v1\n",
    "```"
   ]
  },
  {
   "cell_type": "markdown",
   "metadata": {},
   "source": [
    "## Rota baseada no cabeçalho\n",
    "\n",
    "TODO"
   ]
  },
  {
   "cell_type": "markdown",
   "metadata": {},
   "source": [
    "## Multiplas regras de tráfego\n",
    "\n",
    "TODO"
   ]
  },
  {
   "cell_type": "markdown",
   "metadata": {},
   "source": [
    "## Modificando os cabeçalhos de resposta\n",
    "\n",
    "TODO"
   ]
  },
  {
   "cell_type": "markdown",
   "metadata": {},
   "source": [
    "## Retentativas e timeouts\n",
    "\n",
    "TODO"
   ]
  },
  {
   "cell_type": "markdown",
   "metadata": {},
   "source": [
    "## Interrupção de circuíto\n",
    "\n",
    "TODO"
   ]
  },
  {
   "cell_type": "markdown",
   "metadata": {},
   "source": [
    "## Espelhando o tráfego\n",
    "\n",
    "TODO"
   ]
  }
 ],
 "metadata": {
  "hide_input": false,
  "kernelspec": {
   "display_name": "Bash",
   "language": "bash",
   "name": "bash"
  },
  "language_info": {
   "codemirror_mode": "shell",
   "file_extension": ".sh",
   "mimetype": "text/x-sh",
   "name": "bash"
  },
  "toc": {
   "base_numbering": 1,
   "nav_menu": {},
   "number_sections": true,
   "sideBar": true,
   "skip_h1_title": false,
   "title_cell": "Table of Contents",
   "title_sidebar": "Contents",
   "toc_cell": false,
   "toc_position": {},
   "toc_section_display": true,
   "toc_window_display": false
  },
  "varInspector": {
   "cols": {
    "lenName": 16,
    "lenType": 16,
    "lenVar": 40
   },
   "kernels_config": {
    "python": {
     "delete_cmd_postfix": "",
     "delete_cmd_prefix": "del ",
     "library": "var_list.py",
     "varRefreshCmd": "print(var_dic_list())"
    },
    "r": {
     "delete_cmd_postfix": ") ",
     "delete_cmd_prefix": "rm(",
     "library": "var_list.r",
     "varRefreshCmd": "cat(var_dic_list()) "
    }
   },
   "types_to_exclude": [
    "module",
    "function",
    "builtin_function_or_method",
    "instance",
    "_Feature"
   ],
   "window_display": false
  }
 },
 "nbformat": 4,
 "nbformat_minor": 4
}
