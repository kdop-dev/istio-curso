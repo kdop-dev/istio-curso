{
 "cells": [
  {
   "cell_type": "markdown",
   "metadata": {},
   "source": [
    "# Gerenciamento de tráfego - parte 2\n",
    "\n",
    "Nesta seção iremos abordar mais formas de gerenciar o tráfego com o Istio, até o momento vimos basicamente uma formas, o roteamento por nome do host (FQDN).\n",
    "\n",
    "Nosso novo cenário a nossa aplicação irá expor os serviços de _login_ e _order_ e algumas das suas APIs para outras aplicações.\n",
    "\n",
    "Não precisamos expor cada um dos serviços da nossa aplicação, podemos criar um ou mais _VirtualServices_ que representem esse cenário:\n",
    "\n",
    "| url interna               | url externa                                | service     | port |\n",
    "| ---                       | ---                                        | ---         | ---  |\n",
    "|                           | https://www.simul-shop.com                 | front-end   | 8000 |\n",
    "|                           | https://www.simul-shop.com/login           | login       | 8000 |\n",
    "|                           | https://www.simul-shop.com/catalogue       | catalogue   | 8000 |\n",
    "| http://orders             | https://www.simul-shop.com/order           | orders      | 8000 |\n",
    "| http://shipping           | https://www.simul-shop.com/shipping        | shipping    | 8000 |\n",
    "| http://cart               | https://www.simul-shop.com/cart            | cart        | 8000 |\n",
    "| http://payment            | https://www.simul-shop.com/payment         | payment     | 8000 |\n",
    "| http://accounts           | https://www.simul-shop.com/accounts        | accounts    | 8000 |\n",
    "| http://orders/db          |                                            | orders-db   | 8000 |\n",
    "| http://queue              |                                            | queue       | 8000 |\n",
    "| http://cart/db            |                                            | cart-db     | 8000 |\n",
    "| http://accounts/db        |                                            | accounts-db | 8000 |\n",
    "\n",
    "Mantenha um terminal aberto e o Kiali, iremos utilizá-los com frequência."
   ]
  },
  {
   "cell_type": "markdown",
   "metadata": {},
   "source": [
    "Vamos determinar a URI do Ingress Gateway e configurá-lo:"
   ]
  },
  {
   "cell_type": "code",
   "execution_count": 51,
   "metadata": {},
   "outputs": [
    {
     "name": "stdout",
     "output_type": "stream",
     "text": [
      "Ingress uri\n",
      "http://20.62.230.230:80\n",
      "https://20.62.230.230:443\n"
     ]
    }
   ],
   "source": [
    "# Configurando acesso ao Ingress\n",
    "export INGRESS_HOST=$(kubectl -n istio-system get service istio-ingressgateway -o jsonpath='{.status.loadBalancer.ingress[0].ip}')\n",
    "export INGRESS_PORT=$(kubectl -n istio-system get service istio-ingressgateway -o jsonpath='{.spec.ports[?(@.name==\"http2\")].port}')\n",
    "export SECURE_INGRESS_PORT=$(kubectl -n istio-system get service istio-ingressgateway -o jsonpath='{.spec.ports[?(@.name==\"https\")].port}')\n",
    "export TCP_INGRESS_PORT=$(kubectl -n istio-system get service istio-ingressgateway -o jsonpath='{.spec.ports[?(@.name==\"tcp\")].port}')\n",
    "\n",
    "echo \"Ingress uri\"\n",
    "echo http://$INGRESS_HOST:$INGRESS_PORT\n",
    "echo https://$INGRESS_HOST:$SECURE_INGRESS_PORT"
   ]
  },
  {
   "cell_type": "code",
   "execution_count": 3,
   "metadata": {},
   "outputs": [
    {
     "name": "stdout",
     "output_type": "stream",
     "text": [
      "gateway.networking.istio.io/default-gateway created\n"
     ]
    }
   ],
   "source": [
    "# Configurar um ingress gateway\n",
    "kubectl apply -f exemplos/simul-shop/istio/10/default-gateway.yaml"
   ]
  },
  {
   "cell_type": "markdown",
   "metadata": {},
   "source": [
    "### Discussão: Versionamento de recursos web\n",
    "\n",
    "Embora esteja fora do escopo desse curso, essa é uma discussão que em algum momento do desenvolvimento do sistema você terá que enfrentar, como indicar para os consumidores a versão da sua aplicação.\n",
    "\n",
    "Podemos separar o tema em duas partes:\n",
    "\n",
    "* Interface com usuário final\n",
    "* APIs\n",
    "\n",
    "\n",
    "#### Interface web\n",
    "\n",
    "Não é interessante apresentar qualquer forma de versionamento para o usuário final, ou seja, não deveríamos expor qustões internas do sistemas, como portas, protocolos e versões para os usuários finais.\n",
    "\n",
    "Também dificultaria testes A/B, implantações canário, ou qualquer forma de manipulação das requisições que necessitasse de transparência para o consumidor.\n",
    "\n",
    "#### APIs\n",
    "\n",
    "É uma estória completamente diferente, os consumidores destes recursos procuram algum tipo de garantia de que as versões que utilizam são estáveis, que o contrato que estabeleceram com o produtor não seja alterado para aquele ponto no tempo.\n",
    "\n",
    "Existem prós e contras para cada escolha no forma de versionamento, entre elas:\n",
    "    \n",
    "* **Controle de versão por meio de caminho na URI**: http://www.simul-shop.com/orders/api/v1\n",
    "    * Prós: os clientes podem armazenar recursos em cache facilmente\n",
    "    * Contras: esta solução tem ramificações na base de código\n",
    "* **Controle de versão por meio de parâmetros de consulta**: http://www.simul-shop.com/orders/api?version=v1\n",
    "    * Prós: é uma maneira direta de criar uma versão de API e é fácil padronizar para a versão mais recente\n",
    "    * Contras: os parâmetros de consulta são mais difíceis de usar para rotear solicitações para a versão adequada da API\n",
    "* **Controle de versão por meio de cabeçalhos personalizados**: `curl -H “Accept-versions: v1” http://www.simul-shop.com/orders/api`\n",
    "    * Prós: não confunde o URI com informações de versão\n",
    "    * Contras: requer cabeçalhos personalizados\n",
    "* **Controle de versão por meio de negociação de conteúdo**: `curl -H “Accept: application/vnd.xm.device+json; version=v1” http://www.simul-shop.com/orders/api`\n",
    "    * Prós: nos permite criar versões de uma representação de recurso único em vez de criar versões de toda a API, o que nos dá um controle mais granular sobre as versões. Não requer a implementação de regras de roteamento de URI.\n",
    "    * Contras: Exigir cabeçalhos HTTP com tipos de mídia torna mais difícil testar e explorar a API usando um navegador.\n",
    "\n",
    "Do ponto de vista do design da APIs, incorporar a versão no URL não é uma prática recomendada porque resulta mudanças nas URLs, mesmo que o próprio recurso não tenha mudado.\n",
    "\n",
    "[Roy Fielding](https://en.wikipedia.org/wiki/Roy_Fielding), um dos principais contribuidores para o protocolo HTTP e criador to REST, não recomenta utilizar qualquer forma de controle de versão para APIs ([Apresentação](https://www.slideshare.net/evolve_conference/201308-fielding-evolve)).\n",
    "\n",
    "#### Por que não versionamento semântico?\n",
    "\n",
    "De fato, a maioria das APIs utiliza o [versionamento semântico](https://semver.org/), mas não a versão completamente, pelo menos não na URI. Nada impediria que suas URL fossem `https://www.simul-shop.com/cart/api/1.0.2', porém o número da versão principal é o que você precisa para indicar aos seus consumidores a compatibilidade entre as versões. Os números que representam as versões menores e as correções não deveriam quebrar a compatibilidade e não justificariam a mudança da URL.\n",
    "\n",
    "Se você precisa expressar a versão completa para seus consumidores, pode utilizar os cabeçalhos personalizados, como por exemplo o `Accept-versions` ou `Content-versions`.\n",
    "\n",
    "#### Considerações\n",
    "\n",
    "Em resumo, quando tratamos de interface web, geralmente procuramos ser o mais transparente o possível para o usuário final, mas se a questão é APIs, nossos consumidores, geralmente outros técnicos, necessitam de alguma garantia que as mesmas versões geram os mesmos resultados. Isso pode dificultar o uso de implementação canário por uma questão de semântica.\n",
    "\n",
    "Felizmente, o Istio fornece recursos para lidar com todas as opções, então nós optamos por indicar a versão no cabeçalho, quando necessário.\n",
    "\n",
    "Também optamos por não adicionar a palavra `api` na URL, por uma simples questão, ela não contribui para os nossos exemplos e você pode optar em criar seus serviços com interfaces web (micro front-ends) e programáticas (APIs), sendo assim, você poderia adicionar a palavra depois do roteamento do Istio, mas isso é com você."
   ]
  },
  {
   "cell_type": "markdown",
   "metadata": {},
   "source": [
    "## Rota baseada no caminho\n",
    "\n",
    "![rota baseada no caminha](media/path-based-routes.png)\n",
    "\n",
    "Vamos implementar a tabela acima, já vimos como configurar _VirtualService_ para hosts, vamos configurá-lo para caminho, a estrutura para as URIs do front-end\n",
    "\n",
    "| url interna               | url externa                                | service     | port |\n",
    "| ---                       | ---                                        | ---         | ---  |\n",
    "|                           | https://www.simul-shop.com                 | front-end   | 8000 |\n",
    "|                           | https://www.simul-shop.com/login           | login       | 8000 |\n",
    "|                           | https://www.simul-shop.com/catalogue       | catalogue   | 8000 |\n",
    "\n",
    "\n",
    "```yaml\n",
    "spec:\n",
    "  hosts:\n",
    "    - \"*\"\n",
    "  gateways:\n",
    "  - default-gateway\n",
    "  http:\n",
    "  - match: # <-- Regra prefixo /catalogue\n",
    "    - uri:\n",
    "        prefix: /login\n",
    "    rewrite:\n",
    "      uri: /\n",
    "    route:\n",
    "    - destination:\n",
    "        host: login # FQDN completo ou abreviado\n",
    "        subset: v1\n",
    "  - match: # <-- Regra prefixo /catalogue\n",
    "    - uri:\n",
    "        prefix: /catalogue\n",
    "    rewrite:\n",
    "      uri: /\n",
    "    route:\n",
    "    - destination:\n",
    "        host: catalogue # FQDN completo ou abreviado\n",
    "        subset: v1\n",
    "  - route: # <-- Rota padrão\n",
    "    - destination:\n",
    "        host: front-end \n",
    "        subset: v1\n",
    "```"
   ]
  },
  {
   "cell_type": "code",
   "execution_count": 52,
   "metadata": {},
   "outputs": [
    {
     "name": "stdout",
     "output_type": "stream",
     "text": [
      "destinationrule.networking.istio.io/front-end-drs configured\n",
      "destinationrule.networking.istio.io/login-drs created\n",
      "destinationrule.networking.istio.io/catalogue-drs created\n"
     ]
    }
   ],
   "source": [
    "# Destination rules\n",
    "kubectl apply -f exemplos/simul-shop/istio/11/simul-shop-route-path-dr.yaml"
   ]
  },
  {
   "cell_type": "code",
   "execution_count": 56,
   "metadata": {},
   "outputs": [
    {
     "name": "stdout",
     "output_type": "stream",
     "text": [
      "virtualservice.networking.istio.io/simulshop-routes created\n"
     ]
    }
   ],
   "source": [
    "# VirtualService\n",
    "kubectl apply -f exemplos/simul-shop/istio/11/simul-shop-route-path.yaml"
   ]
  },
  {
   "cell_type": "markdown",
   "metadata": {},
   "source": [
    "Testando as regras:"
   ]
  },
  {
   "cell_type": "code",
   "execution_count": 59,
   "metadata": {},
   "outputs": [
    {
     "name": "stdout",
     "output_type": "stream",
     "text": [
      "\u001b[32mGET\u001b[39;49;00m \u001b[04m\u001b[36m/\u001b[39;49;00m \u001b[34mHTTP\u001b[39;49;00m/\u001b[34m1.1\u001b[39;49;00m\n",
      "\u001b[36mAccept\u001b[39;49;00m: */*\n",
      "\u001b[36mAccept-Encoding\u001b[39;49;00m: gzip, deflate\n",
      "\u001b[36mConnection\u001b[39;49;00m: keep-alive\n",
      "\u001b[36mHost\u001b[39;49;00m: 20.62.230.230:80\n",
      "\u001b[36mUser-Agent\u001b[39;49;00m: HTTPie/2.3.0\n",
      "\n",
      "\n",
      "\n",
      "\u001b[34mHTTP\u001b[39;49;00m/\u001b[34m1.1\u001b[39;49;00m \u001b[34m200\u001b[39;49;00m \u001b[36mOK\u001b[39;49;00m\n",
      "\u001b[36mcontent-length\u001b[39;49;00m: 108\n",
      "\u001b[36mcontent-type\u001b[39;49;00m: application/json\n",
      "\u001b[36mdate\u001b[39;49;00m: Tue, 22 Dec 2020 16:52:30 GMT\n",
      "\u001b[36mserver\u001b[39;49;00m: istio-envoy\n",
      "\u001b[36mx-envoy-upstream-service-time\u001b[39;49;00m: 5\n",
      "\n",
      "{\n",
      "    \u001b[94m\"app\"\u001b[39;49;00m: \u001b[33m\"front-end\"\u001b[39;49;00m,\n",
      "    \u001b[94m\"description\"\u001b[39;49;00m: \u001b[33m\"Hi there!\"\u001b[39;49;00m,\n",
      "    \u001b[94m\"name\"\u001b[39;49;00m: \u001b[33m\"greetings\"\u001b[39;49;00m,\n",
      "    \u001b[94m\"version\"\u001b[39;49;00m: \u001b[33m\"v1\"\u001b[39;49;00m,\n",
      "    \u001b[94m\"when\"\u001b[39;49;00m: \u001b[33m\"2020-12-22 16:52:30\"\u001b[39;49;00m\n",
      "}\n",
      "\n",
      "\n"
     ]
    }
   ],
   "source": [
    "# front-end\n",
    "http -v \"$INGRESS_HOST:$INGRESS_PORT/\""
   ]
  },
  {
   "cell_type": "code",
   "execution_count": 57,
   "metadata": {},
   "outputs": [
    {
     "name": "stdout",
     "output_type": "stream",
     "text": [
      "\u001b[32mGET\u001b[39;49;00m \u001b[04m\u001b[36m/login\u001b[39;49;00m \u001b[34mHTTP\u001b[39;49;00m/\u001b[34m1.1\u001b[39;49;00m\n",
      "\u001b[36mAccept\u001b[39;49;00m: */*\n",
      "\u001b[36mAccept-Encoding\u001b[39;49;00m: gzip, deflate\n",
      "\u001b[36mConnection\u001b[39;49;00m: keep-alive\n",
      "\u001b[36mHost\u001b[39;49;00m: 20.62.230.230:80\n",
      "\u001b[36mUser-Agent\u001b[39;49;00m: HTTPie/2.3.0\n",
      "\n",
      "\n",
      "\n",
      "\u001b[34mHTTP\u001b[39;49;00m/\u001b[34m1.1\u001b[39;49;00m \u001b[34m200\u001b[39;49;00m \u001b[36mOK\u001b[39;49;00m\n",
      "\u001b[36mcontent-length\u001b[39;49;00m: 104\n",
      "\u001b[36mcontent-type\u001b[39;49;00m: application/json\n",
      "\u001b[36mdate\u001b[39;49;00m: Tue, 22 Dec 2020 16:49:19 GMT\n",
      "\u001b[36mserver\u001b[39;49;00m: istio-envoy\n",
      "\u001b[36mx-envoy-upstream-service-time\u001b[39;49;00m: 819\n",
      "\n",
      "{\n",
      "    \u001b[94m\"app\"\u001b[39;49;00m: \u001b[33m\"login\"\u001b[39;49;00m,\n",
      "    \u001b[94m\"description\"\u001b[39;49;00m: \u001b[33m\"Hi there!\"\u001b[39;49;00m,\n",
      "    \u001b[94m\"name\"\u001b[39;49;00m: \u001b[33m\"greetings\"\u001b[39;49;00m,\n",
      "    \u001b[94m\"version\"\u001b[39;49;00m: \u001b[33m\"v1\"\u001b[39;49;00m,\n",
      "    \u001b[94m\"when\"\u001b[39;49;00m: \u001b[33m\"2020-12-22 16:49:24\"\u001b[39;49;00m\n",
      "}\n",
      "\n",
      "\n"
     ]
    }
   ],
   "source": [
    "# Login\n",
    "http -v \"$INGRESS_HOST:$INGRESS_PORT/login\""
   ]
  },
  {
   "cell_type": "code",
   "execution_count": 58,
   "metadata": {},
   "outputs": [
    {
     "name": "stdout",
     "output_type": "stream",
     "text": [
      "\u001b[32mGET\u001b[39;49;00m \u001b[04m\u001b[36m/catalogue\u001b[39;49;00m \u001b[34mHTTP\u001b[39;49;00m/\u001b[34m1.1\u001b[39;49;00m\n",
      "\u001b[36mAccept\u001b[39;49;00m: */*\n",
      "\u001b[36mAccept-Encoding\u001b[39;49;00m: gzip, deflate\n",
      "\u001b[36mConnection\u001b[39;49;00m: keep-alive\n",
      "\u001b[36mHost\u001b[39;49;00m: 20.62.230.230:80\n",
      "\u001b[36mUser-Agent\u001b[39;49;00m: HTTPie/2.3.0\n",
      "\n",
      "\n",
      "\n",
      "\u001b[34mHTTP\u001b[39;49;00m/\u001b[34m1.1\u001b[39;49;00m \u001b[34m200\u001b[39;49;00m \u001b[36mOK\u001b[39;49;00m\n",
      "\u001b[36mcontent-length\u001b[39;49;00m: 108\n",
      "\u001b[36mcontent-type\u001b[39;49;00m: application/json\n",
      "\u001b[36mdate\u001b[39;49;00m: Tue, 22 Dec 2020 16:49:30 GMT\n",
      "\u001b[36mserver\u001b[39;49;00m: istio-envoy\n",
      "\u001b[36mx-envoy-upstream-service-time\u001b[39;49;00m: 773\n",
      "\n",
      "{\n",
      "    \u001b[94m\"app\"\u001b[39;49;00m: \u001b[33m\"catalogue\"\u001b[39;49;00m,\n",
      "    \u001b[94m\"description\"\u001b[39;49;00m: \u001b[33m\"Hi there!\"\u001b[39;49;00m,\n",
      "    \u001b[94m\"name\"\u001b[39;49;00m: \u001b[33m\"greetings\"\u001b[39;49;00m,\n",
      "    \u001b[94m\"version\"\u001b[39;49;00m: \u001b[33m\"v1\"\u001b[39;49;00m,\n",
      "    \u001b[94m\"when\"\u001b[39;49;00m: \u001b[33m\"2020-12-22 16:49:30\"\u001b[39;49;00m\n",
      "}\n",
      "\n",
      "\n"
     ]
    }
   ],
   "source": [
    "# Catalogue\n",
    "http -v \"$INGRESS_HOST:$INGRESS_PORT/catalogue\""
   ]
  },
  {
   "cell_type": "code",
   "execution_count": null,
   "metadata": {},
   "outputs": [],
   "source": [
    "Removendo as regras"
   ]
  },
  {
   "cell_type": "code",
   "execution_count": 65,
   "metadata": {},
   "outputs": [
    {
     "name": "stdout",
     "output_type": "stream",
     "text": [
      "destinationrule.networking.istio.io \"front-end-drs\" deleted\n",
      "destinationrule.networking.istio.io \"login-drs\" deleted\n",
      "destinationrule.networking.istio.io \"catalogue-drs\" deleted\n",
      "virtualservice.networking.istio.io \"simulshop-routes\" deleted\n"
     ]
    }
   ],
   "source": [
    "# Destination rules\n",
    "kubectl delete -f exemplos/simul-shop/istio/11/simul-shop-route-path-dr.yaml\n",
    "# VirtualService\n",
    "kubectl delete -f exemplos/simul-shop/istio/11/simul-shop-route-path.yaml"
   ]
  },
  {
   "cell_type": "markdown",
   "metadata": {},
   "source": [
    "## Rota baseada no cabeçalho\n",
    "\n",
    "Os _VirtualServices_ são uma das principais configurações do gerenciamento de tráfico do Istio, nesse exemplo iremos utilizar os dados do cabeçalho da requisição para decidir qual versão do serviço será servida para o requisitante.\n",
    "\n",
    "Esse tipo de controle permite realizar testes e entregas para grupos de usuários. Diferente da entrega canário, que direciona o tráfego com base em percentuais, a rota baseada no cabeçalho, permite mirar grupos específicos.\n",
    "\n",
    "Neste cenário os usuários que acessarem o front-end na região _Southeast_ serão direcionados para a versão 2 e os demais para a versão 1. \n",
    "\n",
    "Vamos aplica a configuração [front-end-route-header.yaml](exemplos/simul-shop/istio/11/route-header/front-end-route-header.yaml)."
   ]
  },
  {
   "cell_type": "code",
   "execution_count": 8,
   "metadata": {},
   "outputs": [
    {
     "name": "stdout",
     "output_type": "stream",
     "text": [
      "deployment.apps/front-end-v2 created\n"
     ]
    }
   ],
   "source": [
    "# Versão 2 do front-end\n",
    "kubectl apply -f exemplos/simul-shop/manifests/8/front-end-deployment-v2.yaml"
   ]
  },
  {
   "cell_type": "code",
   "execution_count": 20,
   "metadata": {},
   "outputs": [
    {
     "name": "stdout",
     "output_type": "stream",
     "text": [
      "destinationrule.networking.istio.io/front-end-drs configured\n"
     ]
    }
   ],
   "source": [
    "# Destination rules para o VirtualService\n",
    "kubectl apply -f exemplos/simul-shop/istio/11/front-end-destination-rules.yaml"
   ]
  },
  {
   "cell_type": "code",
   "execution_count": 13,
   "metadata": {},
   "outputs": [
    {
     "name": "stdout",
     "output_type": "stream",
     "text": [
      "virtualservice.networking.istio.io/front-end configured\n"
     ]
    }
   ],
   "source": [
    "# Configurar do VirtualService para rota baseada no cabeçalho\n",
    "kubectl apply -f exemplos/simul-shop/istio/11/front-end-route-header.yaml"
   ]
  },
  {
   "cell_type": "markdown",
   "metadata": {},
   "source": [
    "Nossa aplicação já pode ser acessada pela uri http://INGRESS_HOST:INGRESS_PORT/login"
   ]
  },
  {
   "cell_type": "code",
   "execution_count": 22,
   "metadata": {},
   "outputs": [
    {
     "name": "stdout",
     "output_type": "stream",
     "text": [
      "\u001b[32mGET\u001b[39;49;00m \u001b[04m\u001b[36m/\u001b[39;49;00m \u001b[34mHTTP\u001b[39;49;00m/\u001b[34m1.1\u001b[39;49;00m\n",
      "\u001b[36mAccept\u001b[39;49;00m: */*\n",
      "\u001b[36mAccept-Encoding\u001b[39;49;00m: gzip, deflate\n",
      "\u001b[36mConnection\u001b[39;49;00m: keep-alive\n",
      "\u001b[36mHost\u001b[39;49;00m: 20.62.230.230:80\n",
      "\u001b[36mUser-Agent\u001b[39;49;00m: HTTPie/2.3.0\n",
      "\n",
      "\n",
      "\n",
      "\u001b[34mHTTP\u001b[39;49;00m/\u001b[34m1.1\u001b[39;49;00m \u001b[34m200\u001b[39;49;00m \u001b[36mOK\u001b[39;49;00m\n",
      "\u001b[36mcontent-length\u001b[39;49;00m: 108\n",
      "\u001b[36mcontent-type\u001b[39;49;00m: application/json\n",
      "\u001b[36mdate\u001b[39;49;00m: Tue, 22 Dec 2020 15:11:09 GMT\n",
      "\u001b[36mserver\u001b[39;49;00m: istio-envoy\n",
      "\u001b[36mx-envoy-upstream-service-time\u001b[39;49;00m: 2\n",
      "\n",
      "{\n",
      "    \u001b[94m\"app\"\u001b[39;49;00m: \u001b[33m\"front-end\"\u001b[39;49;00m,\n",
      "    \u001b[94m\"description\"\u001b[39;49;00m: \u001b[33m\"Hi there!\"\u001b[39;49;00m,\n",
      "    \u001b[94m\"name\"\u001b[39;49;00m: \u001b[33m\"greetings\"\u001b[39;49;00m,\n",
      "    \u001b[94m\"version\"\u001b[39;49;00m: \u001b[33m\"v1\"\u001b[39;49;00m,\n",
      "    \u001b[94m\"when\"\u001b[39;49;00m: \u001b[33m\"2020-12-22 15:11:11\"\u001b[39;49;00m\n",
      "}\n",
      "\n",
      "\n"
     ]
    }
   ],
   "source": [
    "# Rota padrão\n",
    "http -v \"$INGRESS_HOST:$INGRESS_PORT\""
   ]
  },
  {
   "cell_type": "markdown",
   "metadata": {},
   "source": [
    "A versão acessada foi a v1, vamos adicionar o cabeçalho."
   ]
  },
  {
   "cell_type": "code",
   "execution_count": 23,
   "metadata": {},
   "outputs": [
    {
     "name": "stdout",
     "output_type": "stream",
     "text": [
      "\u001b[32mGET\u001b[39;49;00m \u001b[04m\u001b[36m/\u001b[39;49;00m \u001b[34mHTTP\u001b[39;49;00m/\u001b[34m1.1\u001b[39;49;00m\n",
      "\u001b[36mAccept\u001b[39;49;00m: */*\n",
      "\u001b[36mAccept-Encoding\u001b[39;49;00m: gzip, deflate\n",
      "\u001b[36mConnection\u001b[39;49;00m: keep-alive\n",
      "\u001b[36mHost\u001b[39;49;00m: 20.62.230.230:80\n",
      "\u001b[36mUser-Agent\u001b[39;49;00m: HTTPie/2.3.0\n",
      "\u001b[36muser-region\u001b[39;49;00m: Southeast\n",
      "\n",
      "\n",
      "\n",
      "\u001b[34mHTTP\u001b[39;49;00m/\u001b[34m1.1\u001b[39;49;00m \u001b[34m200\u001b[39;49;00m \u001b[36mOK\u001b[39;49;00m\n",
      "\u001b[36mcontent-length\u001b[39;49;00m: 108\n",
      "\u001b[36mcontent-type\u001b[39;49;00m: application/json\n",
      "\u001b[36mdate\u001b[39;49;00m: Tue, 22 Dec 2020 15:11:20 GMT\n",
      "\u001b[36mserver\u001b[39;49;00m: istio-envoy\n",
      "\u001b[36mx-envoy-upstream-service-time\u001b[39;49;00m: 1069\n",
      "\n",
      "{\n",
      "    \u001b[94m\"app\"\u001b[39;49;00m: \u001b[33m\"front-end\"\u001b[39;49;00m,\n",
      "    \u001b[94m\"description\"\u001b[39;49;00m: \u001b[33m\"Hi there!\"\u001b[39;49;00m,\n",
      "    \u001b[94m\"name\"\u001b[39;49;00m: \u001b[33m\"greetings\"\u001b[39;49;00m,\n",
      "    \u001b[94m\"version\"\u001b[39;49;00m: \u001b[33m\"v2\"\u001b[39;49;00m,\n",
      "    \u001b[94m\"when\"\u001b[39;49;00m: \u001b[33m\"2020-12-22 15:11:24\"\u001b[39;49;00m\n",
      "}\n",
      "\n",
      "\n"
     ]
    }
   ],
   "source": [
    "# Regra #1 - campo user-region do cabeçalho igual a Southeast\n",
    "http -v \"$INGRESS_HOST:$INGRESS_PORT\" \"user-region: Southeast\""
   ]
  },
  {
   "cell_type": "markdown",
   "metadata": {},
   "source": [
    "Você ppode usar uma combinação de campos do cabeçalho, campos [padrão](https://en.wikipedia.org/wiki/List_of_HTTP_header_fields), tais como:\n",
    "\n",
    "* content-length\n",
    "* content-type\n",
    "* date\n",
    "* Host\n",
    "* User-Agent"
   ]
  },
  {
   "cell_type": "markdown",
   "metadata": {},
   "source": [
    "Removendo as regras"
   ]
  },
  {
   "cell_type": "code",
   "execution_count": 67,
   "metadata": {},
   "outputs": [
    {
     "name": "stdout",
     "output_type": "stream",
     "text": [
      "destinationrule.networking.istio.io \"front-end-drs\" deleted\n",
      "virtualservice.networking.istio.io \"front-end\" deleted\n"
     ]
    }
   ],
   "source": [
    "# Destination rules para o VirtualService\n",
    "kubectl delete -f exemplos/simul-shop/istio/11/front-end-destination-rules.yaml\n",
    "# Configurar do VirtualService para rota baseada no cabeçalho\n",
    "kubectl delete -f exemplos/simul-shop/istio/11/front-end-route-header.yaml"
   ]
  },
  {
   "cell_type": "markdown",
   "metadata": {},
   "source": [
    "## Multiplas regras de tráfego\n",
    "\n",
    "As regras são avaliadas na ordem, Uma lista ordenada de regras de rota para tráfego HTTP. As rotas HTTP serão aplicadas às portas de serviço da plataforma chamadas 'http -' / 'http2 -' / 'grpc- *', portas de gateway com protocolo HTTP / HTTP2 / GRPC / TLS-terminated-HTTPS e portas de entrada de serviço usando HTTP / HTTP2 / Protocolos GRPC. A primeira regra que corresponde a uma solicitação de entrada é usada.\n",
    "\n",
    "Neste cenário queremos combinar a uri com campos do cabeçalho, somente requisições com uri iniciando com `/front-end` e cabeçalho com o campo `user-region: Southeast` serão direcionados para a v2.\n",
    "\n",
    "Após os testes, iremos direcionar as requisições com prefixo `/front-end` para a v2, mas durante os testes, serão direcionados para a v1.\n",
    "\n",
    "E como boa prática, se nenhuma das regras for satisfeita, a requisição será direcionada para a v1."
   ]
  },
  {
   "cell_type": "code",
   "execution_count": 68,
   "metadata": {},
   "outputs": [
    {
     "name": "stdout",
     "output_type": "stream",
     "text": [
      "destinationrule.networking.istio.io/front-end-drs created\n"
     ]
    }
   ],
   "source": [
    "# DestinationRules\n",
    "kubectl apply -f exemplos/simul-shop/istio/11/front-end-destination-rules.yaml"
   ]
  },
  {
   "cell_type": "code",
   "execution_count": 69,
   "metadata": {},
   "outputs": [
    {
     "name": "stdout",
     "output_type": "stream",
     "text": [
      "virtualservice.networking.istio.io/front-end created\n"
     ]
    }
   ],
   "source": [
    "# Virtual Service\n",
    "kubectl apply -f exemplos/simul-shop/istio/11/front-end-multi-route.yaml"
   ]
  },
  {
   "cell_type": "code",
   "execution_count": 70,
   "metadata": {},
   "outputs": [
    {
     "name": "stdout",
     "output_type": "stream",
     "text": [
      "\u001b[32mGET\u001b[39;49;00m \u001b[04m\u001b[36m/\u001b[39;49;00m \u001b[34mHTTP\u001b[39;49;00m/\u001b[34m1.1\u001b[39;49;00m\n",
      "\u001b[36mAccept\u001b[39;49;00m: */*\n",
      "\u001b[36mAccept-Encoding\u001b[39;49;00m: gzip, deflate\n",
      "\u001b[36mConnection\u001b[39;49;00m: keep-alive\n",
      "\u001b[36mHost\u001b[39;49;00m: 20.62.230.230:80\n",
      "\u001b[36mUser-Agent\u001b[39;49;00m: HTTPie/2.3.0\n",
      "\u001b[36muser-region\u001b[39;49;00m: Southeast\n",
      "\n",
      "\n",
      "\n",
      "\u001b[34mHTTP\u001b[39;49;00m/\u001b[34m1.1\u001b[39;49;00m \u001b[34m200\u001b[39;49;00m \u001b[36mOK\u001b[39;49;00m\n",
      "\u001b[36mcontent-length\u001b[39;49;00m: 108\n",
      "\u001b[36mcontent-type\u001b[39;49;00m: application/json\n",
      "\u001b[36mdate\u001b[39;49;00m: Tue, 22 Dec 2020 17:30:57 GMT\n",
      "\u001b[36mserver\u001b[39;49;00m: istio-envoy\n",
      "\u001b[36mx-envoy-upstream-service-time\u001b[39;49;00m: 12\n",
      "\n",
      "{\n",
      "    \u001b[94m\"app\"\u001b[39;49;00m: \u001b[33m\"front-end\"\u001b[39;49;00m,\n",
      "    \u001b[94m\"description\"\u001b[39;49;00m: \u001b[33m\"Hi there!\"\u001b[39;49;00m,\n",
      "    \u001b[94m\"name\"\u001b[39;49;00m: \u001b[33m\"greetings\"\u001b[39;49;00m,\n",
      "    \u001b[94m\"version\"\u001b[39;49;00m: \u001b[33m\"v1\"\u001b[39;49;00m,\n",
      "    \u001b[94m\"when\"\u001b[39;49;00m: \u001b[33m\"2020-12-22 17:30:58\"\u001b[39;49;00m\n",
      "}\n",
      "\n",
      "\n"
     ]
    }
   ],
   "source": [
    "# Rota padrão - v1\n",
    "http -v \"$INGRESS_HOST:$INGRESS_PORT/\" \"user-region: Southeast\""
   ]
  },
  {
   "cell_type": "code",
   "execution_count": 71,
   "metadata": {},
   "outputs": [
    {
     "name": "stdout",
     "output_type": "stream",
     "text": [
      "\u001b[32mGET\u001b[39;49;00m \u001b[04m\u001b[36m/\u001b[39;49;00m \u001b[34mHTTP\u001b[39;49;00m/\u001b[34m1.1\u001b[39;49;00m\n",
      "\u001b[36mAccept\u001b[39;49;00m: */*\n",
      "\u001b[36mAccept-Encoding\u001b[39;49;00m: gzip, deflate\n",
      "\u001b[36mConnection\u001b[39;49;00m: keep-alive\n",
      "\u001b[36mHost\u001b[39;49;00m: 20.62.230.230:80\n",
      "\u001b[36mUser-Agent\u001b[39;49;00m: HTTPie/2.3.0\n",
      "\n",
      "\n",
      "\n",
      "\u001b[34mHTTP\u001b[39;49;00m/\u001b[34m1.1\u001b[39;49;00m \u001b[34m200\u001b[39;49;00m \u001b[36mOK\u001b[39;49;00m\n",
      "\u001b[36mcontent-length\u001b[39;49;00m: 108\n",
      "\u001b[36mcontent-type\u001b[39;49;00m: application/json\n",
      "\u001b[36mdate\u001b[39;49;00m: Tue, 22 Dec 2020 17:30:57 GMT\n",
      "\u001b[36mserver\u001b[39;49;00m: istio-envoy\n",
      "\u001b[36mx-envoy-upstream-service-time\u001b[39;49;00m: 5\n",
      "\n",
      "{\n",
      "    \u001b[94m\"app\"\u001b[39;49;00m: \u001b[33m\"front-end\"\u001b[39;49;00m,\n",
      "    \u001b[94m\"description\"\u001b[39;49;00m: \u001b[33m\"Hi there!\"\u001b[39;49;00m,\n",
      "    \u001b[94m\"name\"\u001b[39;49;00m: \u001b[33m\"greetings\"\u001b[39;49;00m,\n",
      "    \u001b[94m\"version\"\u001b[39;49;00m: \u001b[33m\"v1\"\u001b[39;49;00m,\n",
      "    \u001b[94m\"when\"\u001b[39;49;00m: \u001b[33m\"2020-12-22 17:31:03\"\u001b[39;49;00m\n",
      "}\n",
      "\n",
      "\n"
     ]
    }
   ],
   "source": [
    "# Rota padrão - v1\n",
    "http -v \"$INGRESS_HOST:$INGRESS_PORT/\""
   ]
  },
  {
   "cell_type": "code",
   "execution_count": 72,
   "metadata": {},
   "outputs": [
    {
     "name": "stdout",
     "output_type": "stream",
     "text": [
      "\u001b[32mGET\u001b[39;49;00m \u001b[04m\u001b[36m/front-end\u001b[39;49;00m \u001b[34mHTTP\u001b[39;49;00m/\u001b[34m1.1\u001b[39;49;00m\n",
      "\u001b[36mAccept\u001b[39;49;00m: */*\n",
      "\u001b[36mAccept-Encoding\u001b[39;49;00m: gzip, deflate\n",
      "\u001b[36mConnection\u001b[39;49;00m: keep-alive\n",
      "\u001b[36mHost\u001b[39;49;00m: 20.62.230.230:80\n",
      "\u001b[36mUser-Agent\u001b[39;49;00m: HTTPie/2.3.0\n",
      "\n",
      "\n",
      "\n",
      "\u001b[34mHTTP\u001b[39;49;00m/\u001b[34m1.1\u001b[39;49;00m \u001b[34m200\u001b[39;49;00m \u001b[36mOK\u001b[39;49;00m\n",
      "\u001b[36mcontent-length\u001b[39;49;00m: 108\n",
      "\u001b[36mcontent-type\u001b[39;49;00m: application/json\n",
      "\u001b[36mdate\u001b[39;49;00m: Tue, 22 Dec 2020 17:30:57 GMT\n",
      "\u001b[36mserver\u001b[39;49;00m: istio-envoy\n",
      "\u001b[36mx-envoy-upstream-service-time\u001b[39;49;00m: 2\n",
      "\n",
      "{\n",
      "    \u001b[94m\"app\"\u001b[39;49;00m: \u001b[33m\"front-end\"\u001b[39;49;00m,\n",
      "    \u001b[94m\"description\"\u001b[39;49;00m: \u001b[33m\"Hi there!\"\u001b[39;49;00m,\n",
      "    \u001b[94m\"name\"\u001b[39;49;00m: \u001b[33m\"greetings\"\u001b[39;49;00m,\n",
      "    \u001b[94m\"version\"\u001b[39;49;00m: \u001b[33m\"v1\"\u001b[39;49;00m,\n",
      "    \u001b[94m\"when\"\u001b[39;49;00m: \u001b[33m\"2020-12-22 17:31:07\"\u001b[39;49;00m\n",
      "}\n",
      "\n",
      "\n"
     ]
    }
   ],
   "source": [
    "# Regra #2: uri iniciando em /front-end - v1 (mas pode ser alterada para outra versão)\n",
    "http -v \"$INGRESS_HOST:$INGRESS_PORT/front-end\""
   ]
  },
  {
   "cell_type": "code",
   "execution_count": 73,
   "metadata": {},
   "outputs": [
    {
     "name": "stdout",
     "output_type": "stream",
     "text": [
      "\u001b[32mGET\u001b[39;49;00m \u001b[04m\u001b[36m/front-end\u001b[39;49;00m \u001b[34mHTTP\u001b[39;49;00m/\u001b[34m1.1\u001b[39;49;00m\n",
      "\u001b[36mAccept\u001b[39;49;00m: */*\n",
      "\u001b[36mAccept-Encoding\u001b[39;49;00m: gzip, deflate\n",
      "\u001b[36mConnection\u001b[39;49;00m: keep-alive\n",
      "\u001b[36mHost\u001b[39;49;00m: 20.62.230.230:80\n",
      "\u001b[36mUser-Agent\u001b[39;49;00m: HTTPie/2.3.0\n",
      "\u001b[36muser-region\u001b[39;49;00m: Southeast\n",
      "\n",
      "\n",
      "\n",
      "\u001b[34mHTTP\u001b[39;49;00m/\u001b[34m1.1\u001b[39;49;00m \u001b[34m200\u001b[39;49;00m \u001b[36mOK\u001b[39;49;00m\n",
      "\u001b[36mcontent-length\u001b[39;49;00m: 108\n",
      "\u001b[36mcontent-type\u001b[39;49;00m: application/json\n",
      "\u001b[36mdate\u001b[39;49;00m: Tue, 22 Dec 2020 17:31:11 GMT\n",
      "\u001b[36mserver\u001b[39;49;00m: istio-envoy\n",
      "\u001b[36mx-envoy-upstream-service-time\u001b[39;49;00m: 7\n",
      "\n",
      "{\n",
      "    \u001b[94m\"app\"\u001b[39;49;00m: \u001b[33m\"front-end\"\u001b[39;49;00m,\n",
      "    \u001b[94m\"description\"\u001b[39;49;00m: \u001b[33m\"Hi there!\"\u001b[39;49;00m,\n",
      "    \u001b[94m\"name\"\u001b[39;49;00m: \u001b[33m\"greetings\"\u001b[39;49;00m,\n",
      "    \u001b[94m\"version\"\u001b[39;49;00m: \u001b[33m\"v2\"\u001b[39;49;00m,\n",
      "    \u001b[94m\"when\"\u001b[39;49;00m: \u001b[33m\"2020-12-22 17:31:11\"\u001b[39;49;00m\n",
      "}\n",
      "\n",
      "\n"
     ]
    }
   ],
   "source": [
    "# Regra #1: user-regio=Southeast e uri iniciando em /front-end - v2\n",
    "http -v \"$INGRESS_HOST:$INGRESS_PORT/front-end\" \"user-region: Southeast\""
   ]
  },
  {
   "cell_type": "code",
   "execution_count": 74,
   "metadata": {},
   "outputs": [
    {
     "name": "stdout",
     "output_type": "stream",
     "text": [
      "\u001b[32mGET\u001b[39;49;00m \u001b[04m\u001b[36m/anything\u001b[39;49;00m \u001b[34mHTTP\u001b[39;49;00m/\u001b[34m1.1\u001b[39;49;00m\n",
      "\u001b[36mAccept\u001b[39;49;00m: */*\n",
      "\u001b[36mAccept-Encoding\u001b[39;49;00m: gzip, deflate\n",
      "\u001b[36mConnection\u001b[39;49;00m: keep-alive\n",
      "\u001b[36mHost\u001b[39;49;00m: 20.62.230.230:80\n",
      "\u001b[36mUser-Agent\u001b[39;49;00m: HTTPie/2.3.0\n",
      "\n",
      "\n",
      "\n",
      "\u001b[34mHTTP\u001b[39;49;00m/\u001b[34m1.1\u001b[39;49;00m \u001b[34m404\u001b[39;49;00m \u001b[36mNot Found\u001b[39;49;00m\n",
      "\u001b[36mcontent-length\u001b[39;49;00m: 22\n",
      "\u001b[36mcontent-type\u001b[39;49;00m: application/json\n",
      "\u001b[36mdate\u001b[39;49;00m: Tue, 22 Dec 2020 17:30:57 GMT\n",
      "\u001b[36mserver\u001b[39;49;00m: istio-envoy\n",
      "\u001b[36mx-envoy-upstream-service-time\u001b[39;49;00m: 2\n",
      "\n",
      "{\n",
      "    \u001b[94m\"detail\"\u001b[39;49;00m: \u001b[33m\"Not Found\"\u001b[39;49;00m\n",
      "}\n",
      "\n",
      "\n"
     ]
    }
   ],
   "source": [
    "# Rota padrão, mas não tem re-escrita da URI - 404\n",
    "http -v \"$INGRESS_HOST:$INGRESS_PORT/anything\""
   ]
  },
  {
   "cell_type": "markdown",
   "metadata": {},
   "source": [
    "Removendo as regras"
   ]
  },
  {
   "cell_type": "code",
   "execution_count": 75,
   "metadata": {},
   "outputs": [
    {
     "name": "stdout",
     "output_type": "stream",
     "text": [
      "destinationrule.networking.istio.io \"front-end-drs\" deleted\n",
      "virtualservice.networking.istio.io \"front-end\" deleted\n"
     ]
    }
   ],
   "source": [
    "# DestinationRules\n",
    "kubectl delete -f exemplos/simul-shop/istio/11/front-end-destination-rules.yaml\n",
    "# Virtual Service\n",
    "kubectl delete -f exemplos/simul-shop/istio/11/front-end-multi-route.yaml"
   ]
  },
  {
   "cell_type": "markdown",
   "metadata": {},
   "source": [
    "## Modificando os cabeçalhos de resposta\n",
    "\n",
    "Os _VirtualServices_ podem adicionar ou remover campos do cabeçalho.\n",
    "\n",
    "Neste exemplo, queremos que as requisições que não são originadas de _Southeast_ tenham o campo do cabeçalho `user-region` com o valor `other`. Essa informação pode ser utilizada para regras em outros serviços, ou para fins de log."
   ]
  },
  {
   "cell_type": "code",
   "execution_count": 78,
   "metadata": {},
   "outputs": [
    {
     "name": "stdout",
     "output_type": "stream",
     "text": [
      "destinationrule.networking.istio.io/front-end-drs created\n"
     ]
    }
   ],
   "source": [
    "# DestinationRules\n",
    "kubectl apply -f exemplos/simul-shop/istio/11/front-end-destination-rules.yaml"
   ]
  },
  {
   "cell_type": "code",
   "execution_count": 79,
   "metadata": {},
   "outputs": [
    {
     "name": "stdout",
     "output_type": "stream",
     "text": [
      "virtualservice.networking.istio.io/front-end unchanged\n"
     ]
    }
   ],
   "source": [
    "# VirtualService\n",
    "kubectl apply -f exemplos/simul-shop/istio/11/front-end-change-header.yaml"
   ]
  },
  {
   "cell_type": "code",
   "execution_count": 80,
   "metadata": {},
   "outputs": [
    {
     "name": "stdout",
     "output_type": "stream",
     "text": [
      "\u001b[32mGET\u001b[39;49;00m \u001b[04m\u001b[36m/\u001b[39;49;00m \u001b[34mHTTP\u001b[39;49;00m/\u001b[34m1.1\u001b[39;49;00m\n",
      "\u001b[36mAccept\u001b[39;49;00m: */*\n",
      "\u001b[36mAccept-Encoding\u001b[39;49;00m: gzip, deflate\n",
      "\u001b[36mConnection\u001b[39;49;00m: keep-alive\n",
      "\u001b[36mHost\u001b[39;49;00m: 20.62.230.230:80\n",
      "\u001b[36mUser-Agent\u001b[39;49;00m: HTTPie/2.3.0\n",
      "\u001b[36muser-region\u001b[39;49;00m: Southeast\n",
      "\n",
      "\n",
      "\n",
      "\u001b[34mHTTP\u001b[39;49;00m/\u001b[34m1.1\u001b[39;49;00m \u001b[34m200\u001b[39;49;00m \u001b[36mOK\u001b[39;49;00m\n",
      "\u001b[36mcontent-length\u001b[39;49;00m: 108\n",
      "\u001b[36mcontent-type\u001b[39;49;00m: application/json\n",
      "\u001b[36mdate\u001b[39;49;00m: Tue, 22 Dec 2020 17:33:10 GMT\n",
      "\u001b[36mserver\u001b[39;49;00m: istio-envoy\n",
      "\u001b[36mx-envoy-upstream-service-time\u001b[39;49;00m: 6\n",
      "\n",
      "{\n",
      "    \u001b[94m\"app\"\u001b[39;49;00m: \u001b[33m\"front-end\"\u001b[39;49;00m,\n",
      "    \u001b[94m\"description\"\u001b[39;49;00m: \u001b[33m\"Hi there!\"\u001b[39;49;00m,\n",
      "    \u001b[94m\"name\"\u001b[39;49;00m: \u001b[33m\"greetings\"\u001b[39;49;00m,\n",
      "    \u001b[94m\"version\"\u001b[39;49;00m: \u001b[33m\"v2\"\u001b[39;49;00m,\n",
      "    \u001b[94m\"when\"\u001b[39;49;00m: \u001b[33m\"2020-12-22 17:33:16\"\u001b[39;49;00m\n",
      "}\n",
      "\n",
      "\n"
     ]
    }
   ],
   "source": [
    "# Rota padrão - v1\n",
    "http -v \"$INGRESS_HOST:$INGRESS_PORT/\" \"user-region: Southeast\""
   ]
  },
  {
   "cell_type": "code",
   "execution_count": 81,
   "metadata": {},
   "outputs": [
    {
     "name": "stdout",
     "output_type": "stream",
     "text": [
      "\u001b[32mGET\u001b[39;49;00m \u001b[04m\u001b[36m/\u001b[39;49;00m \u001b[34mHTTP\u001b[39;49;00m/\u001b[34m1.1\u001b[39;49;00m\n",
      "\u001b[36mAccept\u001b[39;49;00m: */*\n",
      "\u001b[36mAccept-Encoding\u001b[39;49;00m: gzip, deflate\n",
      "\u001b[36mConnection\u001b[39;49;00m: keep-alive\n",
      "\u001b[36mHost\u001b[39;49;00m: 20.62.230.230:80\n",
      "\u001b[36mUser-Agent\u001b[39;49;00m: HTTPie/2.3.0\n",
      "\n",
      "\n",
      "\n",
      "\u001b[34mHTTP\u001b[39;49;00m/\u001b[34m1.1\u001b[39;49;00m \u001b[34m200\u001b[39;49;00m \u001b[36mOK\u001b[39;49;00m\n",
      "\u001b[36mcontent-length\u001b[39;49;00m: 108\n",
      "\u001b[36mcontent-type\u001b[39;49;00m: application/json\n",
      "\u001b[36mdate\u001b[39;49;00m: Tue, 22 Dec 2020 17:33:20 GMT\n",
      "\u001b[36mserver\u001b[39;49;00m: istio-envoy\n",
      "\u001b[36muser-region\u001b[39;49;00m: other\n",
      "\u001b[36mx-envoy-upstream-service-time\u001b[39;49;00m: 12\n",
      "\n",
      "{\n",
      "    \u001b[94m\"app\"\u001b[39;49;00m: \u001b[33m\"front-end\"\u001b[39;49;00m,\n",
      "    \u001b[94m\"description\"\u001b[39;49;00m: \u001b[33m\"Hi there!\"\u001b[39;49;00m,\n",
      "    \u001b[94m\"name\"\u001b[39;49;00m: \u001b[33m\"greetings\"\u001b[39;49;00m,\n",
      "    \u001b[94m\"version\"\u001b[39;49;00m: \u001b[33m\"v1\"\u001b[39;49;00m,\n",
      "    \u001b[94m\"when\"\u001b[39;49;00m: \u001b[33m\"2020-12-22 17:33:21\"\u001b[39;49;00m\n",
      "}\n",
      "\n",
      "\n"
     ]
    }
   ],
   "source": [
    "# Rota padrão - v1\n",
    "http -v \"$INGRESS_HOST:$INGRESS_PORT/\""
   ]
  },
  {
   "cell_type": "markdown",
   "metadata": {},
   "source": [
    "Todas as requisições que forem direcionadas pela rota padrão terão o campo `user-region: other` adicionado."
   ]
  },
  {
   "cell_type": "code",
   "execution_count": null,
   "metadata": {},
   "outputs": [],
   "source": [
    "Removendo as regras:"
   ]
  },
  {
   "cell_type": "code",
   "execution_count": 82,
   "metadata": {},
   "outputs": [
    {
     "name": "stdout",
     "output_type": "stream",
     "text": [
      "destinationrule.networking.istio.io \"front-end-drs\" deleted\n",
      "virtualservice.networking.istio.io \"front-end\" deleted\n"
     ]
    }
   ],
   "source": [
    "# DestinationRules\n",
    "kubectl delete -f exemplos/simul-shop/istio/11/front-end-destination-rules.yaml\n",
    "# VirtualService\n",
    "kubectl delete -f exemplos/simul-shop/istio/11/front-end-change-header.yaml"
   ]
  },
  {
   "cell_type": "markdown",
   "metadata": {},
   "source": [
    "## Retentativas e timeouts\n",
    "\n",
    "Arquiteturas distribuídas significa solicitações na rede, aumentando a chance de falhas temporárias como congestionamento da rede.\n",
    "\n",
    "Adicionar políticas de repetição para solicitações ajuda a construir resiliência em uma arquitetura de serviços. Freqüentemente, essa lógica de repetição é incorporada no serviço, mas com o Istio, você pode definir políticas de repetição com uma regra de tráfego, a serem executadas pelos sidecars, permitindo padronizar as políticas de forma independente dos  protocolos e linguagens de programação.\n",
    "\n",
    "Simular falhas é difícil, mas usaremos um recurso do próprio Istio para simular uma falha no serviço de _order_ "
   ]
  },
  {
   "cell_type": "code",
   "execution_count": 112,
   "metadata": {},
   "outputs": [
    {
     "name": "stdout",
     "output_type": "stream",
     "text": [
      "deployment.apps/front-end-v1 created\n",
      "deployment.apps/front-end-v2 created\n"
     ]
    }
   ],
   "source": [
    "# Versão 1 do front-end\n",
    "kubectl apply -f exemplos/simul-shop/manifests/11/front-end-deployment-error.yaml"
   ]
  },
  {
   "cell_type": "code",
   "execution_count": 114,
   "metadata": {},
   "outputs": [
    {
     "name": "stdout",
     "output_type": "stream",
     "text": [
      "destinationrule.networking.istio.io/front-end-drs unchanged\n",
      "destinationrule.networking.istio.io/login-drs unchanged\n"
     ]
    }
   ],
   "source": [
    "# DestinationRules\n",
    "kubectl apply -f exemplos/simul-shop/istio/11/front-end-destination-rules.yaml\n",
    "kubectl apply -f exemplos/simul-shop/istio/11/login-destination-rules.yaml"
   ]
  },
  {
   "cell_type": "markdown",
   "metadata": {},
   "source": [
    "Você deverá ver errors 500 no kiali e jaeger. No jaeger filtre os rastros colocando em _Service_ escolha `front-end.default` e em _Tags_ preencha com o valor `http.status_code=500`"
   ]
  },
  {
   "cell_type": "code",
   "execution_count": 127,
   "metadata": {},
   "outputs": [
    {
     "name": "stdout",
     "output_type": "stream",
     "text": [
      "virtualservice.networking.istio.io/login created\n"
     ]
    }
   ],
   "source": [
    "# VirtualService\n",
    "kubectl apply -f exemplos/simul-shop/istio/11/login-retry.yaml\n",
    "kubectl apply -f exemplos/simul-shop/istio/11/front-end-vs.yaml"
   ]
  },
  {
   "cell_type": "markdown",
   "metadata": {},
   "source": [
    "Vamos testar:"
   ]
  },
  {
   "cell_type": "code",
   "execution_count": 128,
   "metadata": {},
   "outputs": [
    {
     "name": "stdout",
     "output_type": "stream",
     "text": [
      "\u001b[32mGET\u001b[39;49;00m \u001b[04m\u001b[36m/s\u001b[39;49;00m \u001b[34mHTTP\u001b[39;49;00m/\u001b[34m1.1\u001b[39;49;00m\n",
      "\u001b[36mAccept\u001b[39;49;00m: */*\n",
      "\u001b[36mAccept-Encoding\u001b[39;49;00m: gzip, deflate\n",
      "\u001b[36mConnection\u001b[39;49;00m: keep-alive\n",
      "\u001b[36mHost\u001b[39;49;00m: 20.62.230.230:80\n",
      "\u001b[36mUser-Agent\u001b[39;49;00m: HTTPie/2.3.0\n",
      "\n",
      "\n",
      "\n",
      "\u001b[34mHTTP\u001b[39;49;00m/\u001b[34m1.1\u001b[39;49;00m \u001b[34m200\u001b[39;49;00m \u001b[36mOK\u001b[39;49;00m\n",
      "\u001b[36mcontent-length\u001b[39;49;00m: 100\n",
      "\u001b[36mcontent-type\u001b[39;49;00m: application/json\n",
      "\u001b[36mdate\u001b[39;49;00m: Tue, 22 Dec 2020 22:02:03 GMT\n",
      "\u001b[36mserver\u001b[39;49;00m: istio-envoy\n",
      "\u001b[36mx-envoy-upstream-service-time\u001b[39;49;00m: 3\n",
      "\n",
      "{\n",
      "    \u001b[94m\"app\"\u001b[39;49;00m: \u001b[33m\"login\"\u001b[39;49;00m,\n",
      "    \u001b[94m\"description\"\u001b[39;49;00m: \u001b[33m\"List ['']\"\u001b[39;49;00m,\n",
      "    \u001b[94m\"name\"\u001b[39;49;00m: \u001b[33m\"split\"\u001b[39;49;00m,\n",
      "    \u001b[94m\"version\"\u001b[39;49;00m: \u001b[33m\"v1\"\u001b[39;49;00m,\n",
      "    \u001b[94m\"when\"\u001b[39;49;00m: \u001b[33m\"2020-12-22 22:02:04\"\u001b[39;49;00m\n",
      "}\n",
      "\n",
      "\n",
      "\u001b[32mGET\u001b[39;49;00m \u001b[04m\u001b[36m/s\u001b[39;49;00m \u001b[34mHTTP\u001b[39;49;00m/\u001b[34m1.1\u001b[39;49;00m\n",
      "\u001b[36mAccept\u001b[39;49;00m: */*\n",
      "\u001b[36mAccept-Encoding\u001b[39;49;00m: gzip, deflate\n",
      "\u001b[36mConnection\u001b[39;49;00m: keep-alive\n",
      "\u001b[36mHost\u001b[39;49;00m: 20.62.230.230:80\n",
      "\u001b[36mUser-Agent\u001b[39;49;00m: HTTPie/2.3.0\n",
      "\n",
      "\n",
      "\n",
      "\u001b[34mHTTP\u001b[39;49;00m/\u001b[34m1.1\u001b[39;49;00m \u001b[34m200\u001b[39;49;00m \u001b[36mOK\u001b[39;49;00m\n",
      "\u001b[36mcontent-length\u001b[39;49;00m: 100\n",
      "\u001b[36mcontent-type\u001b[39;49;00m: application/json\n",
      "\u001b[36mdate\u001b[39;49;00m: Tue, 22 Dec 2020 22:02:03 GMT\n",
      "\u001b[36mserver\u001b[39;49;00m: istio-envoy\n",
      "\u001b[36mx-envoy-upstream-service-time\u001b[39;49;00m: 2\n",
      "\n",
      "{\n",
      "    \u001b[94m\"app\"\u001b[39;49;00m: \u001b[33m\"login\"\u001b[39;49;00m,\n",
      "    \u001b[94m\"description\"\u001b[39;49;00m: \u001b[33m\"List ['']\"\u001b[39;49;00m,\n",
      "    \u001b[94m\"name\"\u001b[39;49;00m: \u001b[33m\"split\"\u001b[39;49;00m,\n",
      "    \u001b[94m\"version\"\u001b[39;49;00m: \u001b[33m\"v1\"\u001b[39;49;00m,\n",
      "    \u001b[94m\"when\"\u001b[39;49;00m: \u001b[33m\"2020-12-22 22:02:04\"\u001b[39;49;00m\n",
      "}\n",
      "\n",
      "\n",
      "\u001b[32mGET\u001b[39;49;00m \u001b[04m\u001b[36m/s\u001b[39;49;00m \u001b[34mHTTP\u001b[39;49;00m/\u001b[34m1.1\u001b[39;49;00m\n",
      "\u001b[36mAccept\u001b[39;49;00m: */*\n",
      "\u001b[36mAccept-Encoding\u001b[39;49;00m: gzip, deflate\n",
      "\u001b[36mConnection\u001b[39;49;00m: keep-alive\n",
      "\u001b[36mHost\u001b[39;49;00m: 20.62.230.230:80\n",
      "\u001b[36mUser-Agent\u001b[39;49;00m: HTTPie/2.3.0\n",
      "\n",
      "\n",
      "\n",
      "\u001b[34mHTTP\u001b[39;49;00m/\u001b[34m1.1\u001b[39;49;00m \u001b[34m200\u001b[39;49;00m \u001b[36mOK\u001b[39;49;00m\n",
      "\u001b[36mcontent-length\u001b[39;49;00m: 100\n",
      "\u001b[36mcontent-type\u001b[39;49;00m: application/json\n",
      "\u001b[36mdate\u001b[39;49;00m: Tue, 22 Dec 2020 22:02:03 GMT\n",
      "\u001b[36mserver\u001b[39;49;00m: istio-envoy\n",
      "\u001b[36mx-envoy-upstream-service-time\u001b[39;49;00m: 2\n",
      "\n",
      "{\n",
      "    \u001b[94m\"app\"\u001b[39;49;00m: \u001b[33m\"login\"\u001b[39;49;00m,\n",
      "    \u001b[94m\"description\"\u001b[39;49;00m: \u001b[33m\"List ['']\"\u001b[39;49;00m,\n",
      "    \u001b[94m\"name\"\u001b[39;49;00m: \u001b[33m\"split\"\u001b[39;49;00m,\n",
      "    \u001b[94m\"version\"\u001b[39;49;00m: \u001b[33m\"v1\"\u001b[39;49;00m,\n",
      "    \u001b[94m\"when\"\u001b[39;49;00m: \u001b[33m\"2020-12-22 22:02:05\"\u001b[39;49;00m\n",
      "}\n",
      "\n",
      "\n",
      "\u001b[32mGET\u001b[39;49;00m \u001b[04m\u001b[36m/s\u001b[39;49;00m \u001b[34mHTTP\u001b[39;49;00m/\u001b[34m1.1\u001b[39;49;00m\n",
      "\u001b[36mAccept\u001b[39;49;00m: */*\n",
      "\u001b[36mAccept-Encoding\u001b[39;49;00m: gzip, deflate\n",
      "\u001b[36mConnection\u001b[39;49;00m: keep-alive\n",
      "\u001b[36mHost\u001b[39;49;00m: 20.62.230.230:80\n",
      "\u001b[36mUser-Agent\u001b[39;49;00m: HTTPie/2.3.0\n",
      "\n",
      "\n",
      "\n",
      "\u001b[34mHTTP\u001b[39;49;00m/\u001b[34m1.1\u001b[39;49;00m \u001b[34m200\u001b[39;49;00m \u001b[36mOK\u001b[39;49;00m\n",
      "\u001b[36mcontent-length\u001b[39;49;00m: 100\n",
      "\u001b[36mcontent-type\u001b[39;49;00m: application/json\n",
      "\u001b[36mdate\u001b[39;49;00m: Tue, 22 Dec 2020 22:02:03 GMT\n",
      "\u001b[36mserver\u001b[39;49;00m: istio-envoy\n",
      "\u001b[36mx-envoy-upstream-service-time\u001b[39;49;00m: 3\n",
      "\n",
      "{\n",
      "    \u001b[94m\"app\"\u001b[39;49;00m: \u001b[33m\"login\"\u001b[39;49;00m,\n",
      "    \u001b[94m\"description\"\u001b[39;49;00m: \u001b[33m\"List ['']\"\u001b[39;49;00m,\n",
      "    \u001b[94m\"name\"\u001b[39;49;00m: \u001b[33m\"split\"\u001b[39;49;00m,\n",
      "    \u001b[94m\"version\"\u001b[39;49;00m: \u001b[33m\"v1\"\u001b[39;49;00m,\n",
      "    \u001b[94m\"when\"\u001b[39;49;00m: \u001b[33m\"2020-12-22 22:02:06\"\u001b[39;49;00m\n",
      "}\n",
      "\n",
      "\n",
      "\u001b[32mGET\u001b[39;49;00m \u001b[04m\u001b[36m/s\u001b[39;49;00m \u001b[34mHTTP\u001b[39;49;00m/\u001b[34m1.1\u001b[39;49;00m\n",
      "\u001b[36mAccept\u001b[39;49;00m: */*\n",
      "\u001b[36mAccept-Encoding\u001b[39;49;00m: gzip, deflate\n",
      "\u001b[36mConnection\u001b[39;49;00m: keep-alive\n",
      "\u001b[36mHost\u001b[39;49;00m: 20.62.230.230:80\n",
      "\u001b[36mUser-Agent\u001b[39;49;00m: HTTPie/2.3.0\n",
      "\n",
      "\n",
      "\n",
      "\u001b[34mHTTP\u001b[39;49;00m/\u001b[34m1.1\u001b[39;49;00m \u001b[34m200\u001b[39;49;00m \u001b[36mOK\u001b[39;49;00m\n",
      "\u001b[36mcontent-length\u001b[39;49;00m: 100\n",
      "\u001b[36mcontent-type\u001b[39;49;00m: application/json\n",
      "\u001b[36mdate\u001b[39;49;00m: Tue, 22 Dec 2020 22:02:03 GMT\n",
      "\u001b[36mserver\u001b[39;49;00m: istio-envoy\n",
      "\u001b[36mx-envoy-upstream-service-time\u001b[39;49;00m: 2\n",
      "\n",
      "{\n",
      "    \u001b[94m\"app\"\u001b[39;49;00m: \u001b[33m\"login\"\u001b[39;49;00m,\n",
      "    \u001b[94m\"description\"\u001b[39;49;00m: \u001b[33m\"List ['']\"\u001b[39;49;00m,\n",
      "    \u001b[94m\"name\"\u001b[39;49;00m: \u001b[33m\"split\"\u001b[39;49;00m,\n",
      "    \u001b[94m\"version\"\u001b[39;49;00m: \u001b[33m\"v1\"\u001b[39;49;00m,\n",
      "    \u001b[94m\"when\"\u001b[39;49;00m: \u001b[33m\"2020-12-22 22:02:07\"\u001b[39;49;00m\n",
      "}\n",
      "\n",
      "\n",
      "\u001b[32mGET\u001b[39;49;00m \u001b[04m\u001b[36m/s\u001b[39;49;00m \u001b[34mHTTP\u001b[39;49;00m/\u001b[34m1.1\u001b[39;49;00m\n",
      "\u001b[36mAccept\u001b[39;49;00m: */*\n",
      "\u001b[36mAccept-Encoding\u001b[39;49;00m: gzip, deflate\n",
      "\u001b[36mConnection\u001b[39;49;00m: keep-alive\n",
      "\u001b[36mHost\u001b[39;49;00m: 20.62.230.230:80\n",
      "\u001b[36mUser-Agent\u001b[39;49;00m: HTTPie/2.3.0\n",
      "\n",
      "\n",
      "\n",
      "\u001b[34mHTTP\u001b[39;49;00m/\u001b[34m1.1\u001b[39;49;00m \u001b[34m200\u001b[39;49;00m \u001b[36mOK\u001b[39;49;00m\n",
      "\u001b[36mcontent-length\u001b[39;49;00m: 100\n",
      "\u001b[36mcontent-type\u001b[39;49;00m: application/json\n",
      "\u001b[36mdate\u001b[39;49;00m: Tue, 22 Dec 2020 22:02:03 GMT\n",
      "\u001b[36mserver\u001b[39;49;00m: istio-envoy\n",
      "\u001b[36mx-envoy-upstream-service-time\u001b[39;49;00m: 2\n",
      "\n",
      "{\n",
      "    \u001b[94m\"app\"\u001b[39;49;00m: \u001b[33m\"login\"\u001b[39;49;00m,\n",
      "    \u001b[94m\"description\"\u001b[39;49;00m: \u001b[33m\"List ['']\"\u001b[39;49;00m,\n",
      "    \u001b[94m\"name\"\u001b[39;49;00m: \u001b[33m\"split\"\u001b[39;49;00m,\n",
      "    \u001b[94m\"version\"\u001b[39;49;00m: \u001b[33m\"v1\"\u001b[39;49;00m,\n",
      "    \u001b[94m\"when\"\u001b[39;49;00m: \u001b[33m\"2020-12-22 22:02:07\"\u001b[39;49;00m\n",
      "}\n",
      "\n",
      "\n",
      "\u001b[32mGET\u001b[39;49;00m \u001b[04m\u001b[36m/s\u001b[39;49;00m \u001b[34mHTTP\u001b[39;49;00m/\u001b[34m1.1\u001b[39;49;00m\n",
      "\u001b[36mAccept\u001b[39;49;00m: */*\n",
      "\u001b[36mAccept-Encoding\u001b[39;49;00m: gzip, deflate\n",
      "\u001b[36mConnection\u001b[39;49;00m: keep-alive\n",
      "\u001b[36mHost\u001b[39;49;00m: 20.62.230.230:80\n",
      "\u001b[36mUser-Agent\u001b[39;49;00m: HTTPie/2.3.0\n",
      "\n",
      "\n",
      "\n",
      "\u001b[34mHTTP\u001b[39;49;00m/\u001b[34m1.1\u001b[39;49;00m \u001b[34m200\u001b[39;49;00m \u001b[36mOK\u001b[39;49;00m\n",
      "\u001b[36mcontent-length\u001b[39;49;00m: 100\n",
      "\u001b[36mcontent-type\u001b[39;49;00m: application/json\n",
      "\u001b[36mdate\u001b[39;49;00m: Tue, 22 Dec 2020 22:02:03 GMT\n",
      "\u001b[36mserver\u001b[39;49;00m: istio-envoy\n",
      "\u001b[36mx-envoy-upstream-service-time\u001b[39;49;00m: 2\n",
      "\n",
      "{\n",
      "    \u001b[94m\"app\"\u001b[39;49;00m: \u001b[33m\"login\"\u001b[39;49;00m,\n",
      "    \u001b[94m\"description\"\u001b[39;49;00m: \u001b[33m\"List ['']\"\u001b[39;49;00m,\n",
      "    \u001b[94m\"name\"\u001b[39;49;00m: \u001b[33m\"split\"\u001b[39;49;00m,\n",
      "    \u001b[94m\"version\"\u001b[39;49;00m: \u001b[33m\"v1\"\u001b[39;49;00m,\n",
      "    \u001b[94m\"when\"\u001b[39;49;00m: \u001b[33m\"2020-12-22 22:02:08\"\u001b[39;49;00m\n",
      "}\n",
      "\n",
      "\n",
      "\u001b[32mGET\u001b[39;49;00m \u001b[04m\u001b[36m/s\u001b[39;49;00m \u001b[34mHTTP\u001b[39;49;00m/\u001b[34m1.1\u001b[39;49;00m\n",
      "\u001b[36mAccept\u001b[39;49;00m: */*\n",
      "\u001b[36mAccept-Encoding\u001b[39;49;00m: gzip, deflate\n",
      "\u001b[36mConnection\u001b[39;49;00m: keep-alive\n",
      "\u001b[36mHost\u001b[39;49;00m: 20.62.230.230:80\n",
      "\u001b[36mUser-Agent\u001b[39;49;00m: HTTPie/2.3.0\n",
      "\n",
      "\n",
      "\n",
      "\u001b[34mHTTP\u001b[39;49;00m/\u001b[34m1.1\u001b[39;49;00m \u001b[34m200\u001b[39;49;00m \u001b[36mOK\u001b[39;49;00m\n",
      "\u001b[36mcontent-length\u001b[39;49;00m: 100\n",
      "\u001b[36mcontent-type\u001b[39;49;00m: application/json\n",
      "\u001b[36mdate\u001b[39;49;00m: Tue, 22 Dec 2020 22:02:03 GMT\n",
      "\u001b[36mserver\u001b[39;49;00m: istio-envoy\n",
      "\u001b[36mx-envoy-upstream-service-time\u001b[39;49;00m: 2\n",
      "\n",
      "{\n",
      "    \u001b[94m\"app\"\u001b[39;49;00m: \u001b[33m\"login\"\u001b[39;49;00m,\n",
      "    \u001b[94m\"description\"\u001b[39;49;00m: \u001b[33m\"List ['']\"\u001b[39;49;00m,\n",
      "    \u001b[94m\"name\"\u001b[39;49;00m: \u001b[33m\"split\"\u001b[39;49;00m,\n",
      "    \u001b[94m\"version\"\u001b[39;49;00m: \u001b[33m\"v1\"\u001b[39;49;00m,\n",
      "    \u001b[94m\"when\"\u001b[39;49;00m: \u001b[33m\"2020-12-22 22:02:09\"\u001b[39;49;00m\n",
      "}\n",
      "\n",
      "\n",
      "\u001b[32mGET\u001b[39;49;00m \u001b[04m\u001b[36m/s\u001b[39;49;00m \u001b[34mHTTP\u001b[39;49;00m/\u001b[34m1.1\u001b[39;49;00m\n",
      "\u001b[36mAccept\u001b[39;49;00m: */*\n",
      "\u001b[36mAccept-Encoding\u001b[39;49;00m: gzip, deflate\n",
      "\u001b[36mConnection\u001b[39;49;00m: keep-alive\n",
      "\u001b[36mHost\u001b[39;49;00m: 20.62.230.230:80\n",
      "\u001b[36mUser-Agent\u001b[39;49;00m: HTTPie/2.3.0\n",
      "\n",
      "\n",
      "\n",
      "\u001b[34mHTTP\u001b[39;49;00m/\u001b[34m1.1\u001b[39;49;00m \u001b[34m200\u001b[39;49;00m \u001b[36mOK\u001b[39;49;00m\n",
      "\u001b[36mcontent-length\u001b[39;49;00m: 100\n",
      "\u001b[36mcontent-type\u001b[39;49;00m: application/json\n",
      "\u001b[36mdate\u001b[39;49;00m: Tue, 22 Dec 2020 22:02:03 GMT\n",
      "\u001b[36mserver\u001b[39;49;00m: istio-envoy\n",
      "\u001b[36mx-envoy-upstream-service-time\u001b[39;49;00m: 2\n",
      "\n",
      "{\n",
      "    \u001b[94m\"app\"\u001b[39;49;00m: \u001b[33m\"login\"\u001b[39;49;00m,\n",
      "    \u001b[94m\"description\"\u001b[39;49;00m: \u001b[33m\"List ['']\"\u001b[39;49;00m,\n",
      "    \u001b[94m\"name\"\u001b[39;49;00m: \u001b[33m\"split\"\u001b[39;49;00m,\n",
      "    \u001b[94m\"version\"\u001b[39;49;00m: \u001b[33m\"v1\"\u001b[39;49;00m,\n",
      "    \u001b[94m\"when\"\u001b[39;49;00m: \u001b[33m\"2020-12-22 22:02:10\"\u001b[39;49;00m\n",
      "}\n",
      "\n",
      "\n",
      "\u001b[32mGET\u001b[39;49;00m \u001b[04m\u001b[36m/s\u001b[39;49;00m \u001b[34mHTTP\u001b[39;49;00m/\u001b[34m1.1\u001b[39;49;00m\n",
      "\u001b[36mAccept\u001b[39;49;00m: */*\n",
      "\u001b[36mAccept-Encoding\u001b[39;49;00m: gzip, deflate\n",
      "\u001b[36mConnection\u001b[39;49;00m: keep-alive\n",
      "\u001b[36mHost\u001b[39;49;00m: 20.62.230.230:80\n",
      "\u001b[36mUser-Agent\u001b[39;49;00m: HTTPie/2.3.0\n",
      "\n",
      "\n",
      "\n",
      "\u001b[34mHTTP\u001b[39;49;00m/\u001b[34m1.1\u001b[39;49;00m \u001b[34m200\u001b[39;49;00m \u001b[36mOK\u001b[39;49;00m\n",
      "\u001b[36mcontent-length\u001b[39;49;00m: 100\n",
      "\u001b[36mcontent-type\u001b[39;49;00m: application/json\n",
      "\u001b[36mdate\u001b[39;49;00m: Tue, 22 Dec 2020 22:02:03 GMT\n",
      "\u001b[36mserver\u001b[39;49;00m: istio-envoy\n",
      "\u001b[36mx-envoy-upstream-service-time\u001b[39;49;00m: 3\n",
      "\n",
      "{\n",
      "    \u001b[94m\"app\"\u001b[39;49;00m: \u001b[33m\"login\"\u001b[39;49;00m,\n",
      "    \u001b[94m\"description\"\u001b[39;49;00m: \u001b[33m\"List ['']\"\u001b[39;49;00m,\n",
      "    \u001b[94m\"name\"\u001b[39;49;00m: \u001b[33m\"split\"\u001b[39;49;00m,\n",
      "    \u001b[94m\"version\"\u001b[39;49;00m: \u001b[33m\"v1\"\u001b[39;49;00m,\n",
      "    \u001b[94m\"when\"\u001b[39;49;00m: \u001b[33m\"2020-12-22 22:02:11\"\u001b[39;49;00m\n",
      "}\n",
      "\n",
      "\n"
     ]
    }
   ],
   "source": [
    "# Gerando um pouco de tráfego\n",
    "for i in $(seq 1 10);\n",
    "    do http -v \"$INGRESS_HOST:$INGRESS_PORT/s\";\n",
    "done"
   ]
  },
  {
   "cell_type": "markdown",
   "metadata": {},
   "source": [
    "## Interrupção de circuíto\n",
    "\n",
    "TODO"
   ]
  },
  {
   "cell_type": "markdown",
   "metadata": {},
   "source": [
    "## Espelhando o tráfego\n",
    "\n",
    "TODO"
   ]
  }
 ],
 "metadata": {
  "hide_input": false,
  "kernelspec": {
   "display_name": "Bash",
   "language": "bash",
   "name": "bash"
  },
  "language_info": {
   "codemirror_mode": "shell",
   "file_extension": ".sh",
   "mimetype": "text/x-sh",
   "name": "bash"
  },
  "toc": {
   "base_numbering": 1,
   "nav_menu": {},
   "number_sections": true,
   "sideBar": true,
   "skip_h1_title": false,
   "title_cell": "Table of Contents",
   "title_sidebar": "Contents",
   "toc_cell": false,
   "toc_position": {},
   "toc_section_display": true,
   "toc_window_display": false
  },
  "varInspector": {
   "cols": {
    "lenName": 16,
    "lenType": 16,
    "lenVar": 40
   },
   "kernels_config": {
    "python": {
     "delete_cmd_postfix": "",
     "delete_cmd_prefix": "del ",
     "library": "var_list.py",
     "varRefreshCmd": "print(var_dic_list())"
    },
    "r": {
     "delete_cmd_postfix": ") ",
     "delete_cmd_prefix": "rm(",
     "library": "var_list.r",
     "varRefreshCmd": "cat(var_dic_list()) "
    }
   },
   "types_to_exclude": [
    "module",
    "function",
    "builtin_function_or_method",
    "instance",
    "_Feature"
   ],
   "window_display": false
  }
 },
 "nbformat": 4,
 "nbformat_minor": 4
}