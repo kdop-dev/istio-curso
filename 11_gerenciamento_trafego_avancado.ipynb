{
 "cells": [
  {
   "cell_type": "markdown",
   "metadata": {},
   "source": [
    "# Gerenciamento de tráfego - parte 2\n",
    "\n",
    "Nesta seção iremos abordar mais formas de gerenciar o tráfego com o Istio, até o momento vimos basicamente uma formas, o roteamento por nome do host (FQDN).\n",
    "\n",
    "Nosso novo cenário a nossa aplicação irá expor os serviços de _login_ e _order_ e algumas das suas APIs para outras aplicações.\n",
    "\n",
    "Não precisamos expor cada um dos serviços da nossa aplicação, podemos criar um ou mais _VirtualServices_ que representem esse cenário:\n",
    "\n",
    "| url interna               | url externa                                  | service     | port |\n",
    "| ---                       | ---                                          | ---         | ---  |\n",
    "| http://front-end          | http://INGRESS_HOST:INGRESS_PORT/            | front-end   | 8000 |\n",
    "|                           | http://INGRESS_HOST:INGRESS_PORT/front-end   |             |      |\n",
    "| http://login              | http://INGRESS_HOST:INGRESS_PORT/login       | login       | 8000 |\n",
    "| http://catalogue          | http://INGRESS_HOST:INGRESS_PORT/catalogue   | catalogue   | 8000 |\n",
    "| http://orders             |                                              | orders      | 8000 |\n",
    "| http://shipping           |                                              | shipping    | 8000 |\n",
    "| http://cart               |                                              | cart        | 8000 |\n",
    "| http://payment            |                                              | payment     | 8000 |\n",
    "| http://accounts           |                                              | accounts    | 8000 |\n",
    "| http://orders/db          |                                              | orders-db   | 8000 |\n",
    "| http://queue              |                                              | queue       | 8000 |\n",
    "| http://cart/db            |                                              | cart-db     | 8000 |\n",
    "| http://accounts/db        |                                              | accounts-db | 8000 |\n",
    "\n",
    "Mantenha um terminal aberto e o Kiali, iremos utilizá-los com frequência."
   ]
  },
  {
   "cell_type": "markdown",
   "metadata": {},
   "source": [
    "Vamos determinar a URI do Ingress Gateway e configurá-lo:"
   ]
  },
  {
   "cell_type": "code",
   "execution_count": 2,
   "metadata": {},
   "outputs": [
    {
     "name": "stdout",
     "output_type": "stream",
     "text": [
      "Ingress uri\n",
      "http://20.62.230.230:80\n",
      "https://20.62.230.230:443\n"
     ]
    }
   ],
   "source": [
    "# Configurando acesso ao Ingress\n",
    "export INGRESS_HOST=$(kubectl -n istio-system get service istio-ingressgateway -o jsonpath='{.status.loadBalancer.ingress[0].ip}')\n",
    "export INGRESS_PORT=$(kubectl -n istio-system get service istio-ingressgateway -o jsonpath='{.spec.ports[?(@.name==\"http2\")].port}')\n",
    "export SECURE_INGRESS_PORT=$(kubectl -n istio-system get service istio-ingressgateway -o jsonpath='{.spec.ports[?(@.name==\"https\")].port}')\n",
    "export TCP_INGRESS_PORT=$(kubectl -n istio-system get service istio-ingressgateway -o jsonpath='{.spec.ports[?(@.name==\"tcp\")].port}')\n",
    "\n",
    "echo \"Ingress uri\"\n",
    "echo http://$INGRESS_HOST:$INGRESS_PORT\n",
    "echo https://$INGRESS_HOST:$SECURE_INGRESS_PORT"
   ]
  },
  {
   "cell_type": "code",
   "execution_count": 3,
   "metadata": {},
   "outputs": [
    {
     "name": "stdout",
     "output_type": "stream",
     "text": [
      "gateway.networking.istio.io/default-gateway created\n"
     ]
    }
   ],
   "source": [
    "# Configurar um ingress gateway\n",
    "kubectl apply -f exemplos/simul-shop/istio/10/default-gateway.yaml"
   ]
  },
  {
   "cell_type": "markdown",
   "metadata": {},
   "source": [
    "### Discussão: Versionamento de recursos web\n",
    "\n",
    "Embora esteja fora do escopo desse curso, essa é uma discussão que em algum momento do desenvolvimento do sistema você terá que enfrentar, como indicar para os consumidores a versão da sua aplicação.\n",
    "\n",
    "Podemos separar o tema em duas partes:\n",
    "\n",
    "* Interface com usuário final\n",
    "* APIs\n",
    "\n",
    "\n",
    "#### Interface web\n",
    "\n",
    "Não é interessante apresentar qualquer forma de versionamento para o usuário final, ou seja, não deveríamos expor qustões internas do sistemas, como portas, protocolos e versões para os usuários finais.\n",
    "\n",
    "Também dificultaria testes A/B, implantações canário, ou qualquer forma de manipulação das requisições que necessitasse de transparência para o consumidor.\n",
    "\n",
    "#### APIs\n",
    "\n",
    "É uma estória completamente diferente, os consumidores destes recursos procuram algum tipo de garantia de que as versões que utilizam são estáveis, que o contrato que estabeleceram com o produtor não seja alterado para aquele ponto no tempo.\n",
    "\n",
    "Existem prós e contras para cada escolha no forma de versionamento, entre elas:\n",
    "    \n",
    "* **Controle de versão por meio de caminho na URI**: http://www.simul-shop.com/orders/api/v1\n",
    "    * Prós: os clientes podem armazenar recursos em cache facilmente\n",
    "    * Contras: esta solução tem ramificações na base de código\n",
    "* **Controle de versão por meio de parâmetros de consulta**: http://www.simul-shop.com/orders/api?version=v1\n",
    "    * Prós: é uma maneira direta de criar uma versão de API e é fácil padronizar para a versão mais recente\n",
    "    * Contras: os parâmetros de consulta são mais difíceis de usar para rotear solicitações para a versão adequada da API\n",
    "* **Controle de versão por meio de cabeçalhos personalizados**: `curl -H “Accept-versions: v1” http://www.simul-shop.com/orders/api`\n",
    "    * Prós: não confunde o URI com informações de versão\n",
    "    * Contras: requer cabeçalhos personalizados\n",
    "* **Controle de versão por meio de negociação de conteúdo**: `curl -H “Accept: application/vnd.xm.device+json; version=v1” http://www.simul-shop.com/orders/api`\n",
    "    * Prós: nos permite criar versões de uma representação de recurso único em vez de criar versões de toda a API, o que nos dá um controle mais granular sobre as versões. Não requer a implementação de regras de roteamento de URI.\n",
    "    * Contras: Exigir cabeçalhos HTTP com tipos de mídia torna mais difícil testar e explorar a API usando um navegador.\n",
    "\n",
    "Do ponto de vista do design da APIs, incorporar a versão no URL não é uma prática recomendada porque resulta mudanças nas URLs, mesmo que o próprio recurso não tenha mudado.\n",
    "\n",
    "[Roy Fielding](https://en.wikipedia.org/wiki/Roy_Fielding), um dos principais contribuidores para o protocolo HTTP e criador to REST, não recomenta utilizar qualquer forma de controle de versão para APIs ([Apresentação](https://www.slideshare.net/evolve_conference/201308-fielding-evolve)).\n",
    "\n",
    "#### Por que não versionamento semântico?\n",
    "\n",
    "De fato, a maioria das APIs utiliza o [versionamento semântico](https://semver.org/), mas não a versão completamente, pelo menos não na URI. Nada impediria que suas URL fossem `https://www.simul-shop.com/cart/api/1.0.2', porém o número da versão principal é o que você precisa para indicar aos seus consumidores a compatibilidade entre as versões. Os números que representam as versões menores e as correções não deveriam quebrar a compatibilidade e não justificariam a mudança da URL.\n",
    "\n",
    "Se você precisa expressar a versão completa para seus consumidores, pode utilizar os cabeçalhos personalizados, como por exemplo o `Accept-versions` ou `Content-versions`.\n",
    "\n",
    "#### Considerações\n",
    "\n",
    "Em resumo, quando tratamos de interface web, geralmente procuramos ser o mais transparente o possível para o usuário final, mas se a questão é APIs, nossos consumidores, geralmente outros técnicos, necessitam de alguma garantia que as mesmas versões geram os mesmos resultados. Isso pode dificultar o uso de implementação canário por uma questão de semântica.\n",
    "\n",
    "Felizmente, o Istio fornece recursos para lidar com todas as opções, então nós optamos por indicar a versão no cabeçalho, quando necessário.\n",
    "\n",
    "Também optamos por não adicionar a palavra `api` na URL, por uma simples questão, ela não contribui para os nossos exemplos e você pode optar em criar seus serviços com interfaces web (micro front-ends) e programáticas (APIs), sendo assim, você poderia adicionar a palavra depois do roteamento do Istio, mas isso é com você."
   ]
  },
  {
   "cell_type": "markdown",
   "metadata": {},
   "source": [
    "## Rota baseada no caminho\n",
    "\n",
    "![rota baseada no caminha](media/path-based-routes.png)\n",
    "\n",
    "Vamos implementar a tabela acima, já vimos como configurar _VirtualService_ para hosts, vamos configurá-lo para caminho, a estrutura para as URIs do front-end\n",
    "\n",
    "\n",
    "```yaml\n",
    "spec:\n",
    "  hosts:\n",
    "    - \"*\"\n",
    "  gateways:\n",
    "  - default-gateway\n",
    "  http:\n",
    "  - match: # <-- Regra prefixo /catalogue\n",
    "    - uri:\n",
    "        prefix: /login\n",
    "    rewrite:\n",
    "      uri: /\n",
    "    route:\n",
    "    - destination:\n",
    "        host: login # FQDN completo ou abreviado\n",
    "        subset: v1\n",
    "  - match: # <-- Regra prefixo /catalogue\n",
    "    - uri:\n",
    "        prefix: /catalogue\n",
    "    rewrite:\n",
    "      uri: /\n",
    "    route:\n",
    "    - destination:\n",
    "        host: catalogue # FQDN completo ou abreviado\n",
    "        subset: v1\n",
    "  - route: # <-- Rota padrão\n",
    "    - destination:\n",
    "        host: front-end \n",
    "        subset: v1\n",
    "```"
   ]
  },
  {
   "cell_type": "markdown",
   "metadata": {},
   "source": [
    "**Dica pro**: Você pode configurar regras para vários serviços no mesmo VirtualService, porém, para a organização, governança e entrega dessas regras pode se tornar um desafio conforme o número de serviços cresce.\n",
    "\n",
    "Uma boa prática é criar um arquivo de entrega para cada serviço, você pode manter as _DestinationRules_ no mesmo arquivo ou em arquivos separados. Nestes exemplos, manteremos as _DestinationRules_ e _VirtualServices_ no mesmo arquivo."
   ]
  },
  {
   "cell_type": "markdown",
   "metadata": {},
   "source": [
    "Vamos aplicar as configuração para os serviços de [login](exemplos/simul-shop/istio/11/login-dr-vs.yaml), [catalogue](exemplos/simul-shop/istio/11/catalogue-dr-vs.yaml) e [front-end](exemplos/simul-shop/istio/11/front-end-dr-vs.yaml)."
   ]
  },
  {
   "cell_type": "code",
   "execution_count": 43,
   "metadata": {},
   "outputs": [
    {
     "name": "stdout",
     "output_type": "stream",
     "text": [
      "destinationrule.networking.istio.io/login unchanged\n",
      "virtualservice.networking.istio.io/login unchanged\n"
     ]
    }
   ],
   "source": [
    "# Login\n",
    "# DestinationRules e VirtualServices\n",
    "kubectl apply -f exemplos/simul-shop/istio/11/login-dr-vs.yaml"
   ]
  },
  {
   "cell_type": "code",
   "execution_count": 44,
   "metadata": {},
   "outputs": [
    {
     "name": "stdout",
     "output_type": "stream",
     "text": [
      "destinationrule.networking.istio.io/catalogue unchanged\n",
      "virtualservice.networking.istio.io/catalogue unchanged\n"
     ]
    }
   ],
   "source": [
    "# Catalogue\n",
    "# DestinationRules e VirtualServices\n",
    "kubectl apply -f exemplos/simul-shop/istio/11/catalogue-dr-vs.yaml"
   ]
  },
  {
   "cell_type": "code",
   "execution_count": 45,
   "metadata": {},
   "outputs": [
    {
     "name": "stdout",
     "output_type": "stream",
     "text": [
      "destinationrule.networking.istio.io/front-end unchanged\n",
      "virtualservice.networking.istio.io/front-end configured\n"
     ]
    }
   ],
   "source": [
    "# Front-end\n",
    "# DestinationRules e VirtualServices\n",
    "kubectl apply -f exemplos/simul-shop/istio/11/front-end-dr-vs.yaml"
   ]
  },
  {
   "cell_type": "markdown",
   "metadata": {},
   "source": [
    "Vamos verificar o que foi criado:"
   ]
  },
  {
   "cell_type": "code",
   "execution_count": 46,
   "metadata": {},
   "outputs": [
    {
     "name": "stdout",
     "output_type": "stream",
     "text": [
      "NAME                                           GATEWAYS              HOSTS   AGE\n",
      "virtualservice.networking.istio.io/catalogue   [\"default-gateway\"]   [\"*\"]   3h30m\n",
      "virtualservice.networking.istio.io/front-end   [\"default-gateway\"]   [\"*\"]   3h30m\n",
      "virtualservice.networking.istio.io/login       [\"default-gateway\"]   [\"*\"]   3h30m\n",
      "\n",
      "NAME                                            HOST        AGE\n",
      "destinationrule.networking.istio.io/catalogue   catalogue   3h30m\n",
      "destinationrule.networking.istio.io/front-end   front-end   3h30m\n",
      "destinationrule.networking.istio.io/login       login       3h30m\n"
     ]
    }
   ],
   "source": [
    "kubectl get vs,dr"
   ]
  },
  {
   "cell_type": "markdown",
   "metadata": {},
   "source": [
    "Vamos testando as configurações:"
   ]
  },
  {
   "cell_type": "code",
   "execution_count": 7,
   "metadata": {},
   "outputs": [
    {
     "name": "stdout",
     "output_type": "stream",
     "text": [
      "\u001b[32mGET\u001b[39;49;00m \u001b[04m\u001b[36m/\u001b[39;49;00m \u001b[34mHTTP\u001b[39;49;00m/\u001b[34m1.1\u001b[39;49;00m\n",
      "\u001b[36mAccept\u001b[39;49;00m: */*\n",
      "\u001b[36mAccept-Encoding\u001b[39;49;00m: gzip, deflate\n",
      "\u001b[36mConnection\u001b[39;49;00m: keep-alive\n",
      "\u001b[36mHost\u001b[39;49;00m: 20.62.230.230:80\n",
      "\u001b[36mUser-Agent\u001b[39;49;00m: HTTPie/2.3.0\n",
      "\n",
      "\n",
      "\n",
      "\u001b[34mHTTP\u001b[39;49;00m/\u001b[34m1.1\u001b[39;49;00m \u001b[34m200\u001b[39;49;00m \u001b[36mOK\u001b[39;49;00m\n",
      "\u001b[36mcontent-length\u001b[39;49;00m: 108\n",
      "\u001b[36mcontent-type\u001b[39;49;00m: application/json\n",
      "\u001b[36mdate\u001b[39;49;00m: Wed, 23 Dec 2020 15:07:06 GMT\n",
      "\u001b[36mserver\u001b[39;49;00m: istio-envoy\n",
      "\u001b[36mx-envoy-upstream-service-time\u001b[39;49;00m: 763\n",
      "\n",
      "{\n",
      "    \u001b[94m\"app\"\u001b[39;49;00m: \u001b[33m\"front-end\"\u001b[39;49;00m,\n",
      "    \u001b[94m\"description\"\u001b[39;49;00m: \u001b[33m\"Hi there!\"\u001b[39;49;00m,\n",
      "    \u001b[94m\"name\"\u001b[39;49;00m: \u001b[33m\"greetings\"\u001b[39;49;00m,\n",
      "    \u001b[94m\"version\"\u001b[39;49;00m: \u001b[33m\"v1\"\u001b[39;49;00m,\n",
      "    \u001b[94m\"when\"\u001b[39;49;00m: \u001b[33m\"2020-12-23 15:07:07\"\u001b[39;49;00m\n",
      "}\n",
      "\n",
      "\n"
     ]
    }
   ],
   "source": [
    "# front-end - rota padrão\n",
    "http -v \"$INGRESS_HOST:$INGRESS_PORT/\""
   ]
  },
  {
   "cell_type": "code",
   "execution_count": 8,
   "metadata": {},
   "outputs": [
    {
     "name": "stdout",
     "output_type": "stream",
     "text": [
      "\u001b[32mGET\u001b[39;49;00m \u001b[04m\u001b[36m/front-end\u001b[39;49;00m \u001b[34mHTTP\u001b[39;49;00m/\u001b[34m1.1\u001b[39;49;00m\n",
      "\u001b[36mAccept\u001b[39;49;00m: */*\n",
      "\u001b[36mAccept-Encoding\u001b[39;49;00m: gzip, deflate\n",
      "\u001b[36mConnection\u001b[39;49;00m: keep-alive\n",
      "\u001b[36mHost\u001b[39;49;00m: 20.62.230.230:80\n",
      "\u001b[36mUser-Agent\u001b[39;49;00m: HTTPie/2.3.0\n",
      "\n",
      "\n",
      "\n",
      "\u001b[34mHTTP\u001b[39;49;00m/\u001b[34m1.1\u001b[39;49;00m \u001b[34m200\u001b[39;49;00m \u001b[36mOK\u001b[39;49;00m\n",
      "\u001b[36mcontent-length\u001b[39;49;00m: 108\n",
      "\u001b[36mcontent-type\u001b[39;49;00m: application/json\n",
      "\u001b[36mdate\u001b[39;49;00m: Wed, 23 Dec 2020 15:07:42 GMT\n",
      "\u001b[36mserver\u001b[39;49;00m: istio-envoy\n",
      "\u001b[36mx-envoy-upstream-service-time\u001b[39;49;00m: 2\n",
      "\n",
      "{\n",
      "    \u001b[94m\"app\"\u001b[39;49;00m: \u001b[33m\"front-end\"\u001b[39;49;00m,\n",
      "    \u001b[94m\"description\"\u001b[39;49;00m: \u001b[33m\"Hi there!\"\u001b[39;49;00m,\n",
      "    \u001b[94m\"name\"\u001b[39;49;00m: \u001b[33m\"greetings\"\u001b[39;49;00m,\n",
      "    \u001b[94m\"version\"\u001b[39;49;00m: \u001b[33m\"v1\"\u001b[39;49;00m,\n",
      "    \u001b[94m\"when\"\u001b[39;49;00m: \u001b[33m\"2020-12-23 15:07:42\"\u001b[39;49;00m\n",
      "}\n",
      "\n",
      "\n"
     ]
    }
   ],
   "source": [
    "# front-end - regra match.uri\n",
    "http -v \"$INGRESS_HOST:$INGRESS_PORT/front-end\""
   ]
  },
  {
   "cell_type": "code",
   "execution_count": 9,
   "metadata": {},
   "outputs": [
    {
     "name": "stdout",
     "output_type": "stream",
     "text": [
      "\u001b[32mGET\u001b[39;49;00m \u001b[04m\u001b[36m/login\u001b[39;49;00m \u001b[34mHTTP\u001b[39;49;00m/\u001b[34m1.1\u001b[39;49;00m\n",
      "\u001b[36mAccept\u001b[39;49;00m: */*\n",
      "\u001b[36mAccept-Encoding\u001b[39;49;00m: gzip, deflate\n",
      "\u001b[36mConnection\u001b[39;49;00m: keep-alive\n",
      "\u001b[36mHost\u001b[39;49;00m: 20.62.230.230:80\n",
      "\u001b[36mUser-Agent\u001b[39;49;00m: HTTPie/2.3.0\n",
      "\n",
      "\n",
      "\n",
      "\u001b[34mHTTP\u001b[39;49;00m/\u001b[34m1.1\u001b[39;49;00m \u001b[34m200\u001b[39;49;00m \u001b[36mOK\u001b[39;49;00m\n",
      "\u001b[36mcontent-length\u001b[39;49;00m: 104\n",
      "\u001b[36mcontent-type\u001b[39;49;00m: application/json\n",
      "\u001b[36mdate\u001b[39;49;00m: Wed, 23 Dec 2020 15:07:48 GMT\n",
      "\u001b[36mserver\u001b[39;49;00m: istio-envoy\n",
      "\u001b[36mx-envoy-upstream-service-time\u001b[39;49;00m: 14\n",
      "\n",
      "{\n",
      "    \u001b[94m\"app\"\u001b[39;49;00m: \u001b[33m\"login\"\u001b[39;49;00m,\n",
      "    \u001b[94m\"description\"\u001b[39;49;00m: \u001b[33m\"Hi there!\"\u001b[39;49;00m,\n",
      "    \u001b[94m\"name\"\u001b[39;49;00m: \u001b[33m\"greetings\"\u001b[39;49;00m,\n",
      "    \u001b[94m\"version\"\u001b[39;49;00m: \u001b[33m\"v1\"\u001b[39;49;00m,\n",
      "    \u001b[94m\"when\"\u001b[39;49;00m: \u001b[33m\"2020-12-23 15:07:48\"\u001b[39;49;00m\n",
      "}\n",
      "\n",
      "\n"
     ]
    }
   ],
   "source": [
    "# Login - regra match.uri\n",
    "http -v \"$INGRESS_HOST:$INGRESS_PORT/login\""
   ]
  },
  {
   "cell_type": "code",
   "execution_count": 10,
   "metadata": {},
   "outputs": [
    {
     "name": "stdout",
     "output_type": "stream",
     "text": [
      "\u001b[32mGET\u001b[39;49;00m \u001b[04m\u001b[36m/catalogue\u001b[39;49;00m \u001b[34mHTTP\u001b[39;49;00m/\u001b[34m1.1\u001b[39;49;00m\n",
      "\u001b[36mAccept\u001b[39;49;00m: */*\n",
      "\u001b[36mAccept-Encoding\u001b[39;49;00m: gzip, deflate\n",
      "\u001b[36mConnection\u001b[39;49;00m: keep-alive\n",
      "\u001b[36mHost\u001b[39;49;00m: 20.62.230.230:80\n",
      "\u001b[36mUser-Agent\u001b[39;49;00m: HTTPie/2.3.0\n",
      "\n",
      "\n",
      "\n",
      "\u001b[34mHTTP\u001b[39;49;00m/\u001b[34m1.1\u001b[39;49;00m \u001b[34m200\u001b[39;49;00m \u001b[36mOK\u001b[39;49;00m\n",
      "\u001b[36mcontent-length\u001b[39;49;00m: 108\n",
      "\u001b[36mcontent-type\u001b[39;49;00m: application/json\n",
      "\u001b[36mdate\u001b[39;49;00m: Wed, 23 Dec 2020 15:08:07 GMT\n",
      "\u001b[36mserver\u001b[39;49;00m: istio-envoy\n",
      "\u001b[36mx-envoy-upstream-service-time\u001b[39;49;00m: 530\n",
      "\n",
      "{\n",
      "    \u001b[94m\"app\"\u001b[39;49;00m: \u001b[33m\"catalogue\"\u001b[39;49;00m,\n",
      "    \u001b[94m\"description\"\u001b[39;49;00m: \u001b[33m\"Hi there!\"\u001b[39;49;00m,\n",
      "    \u001b[94m\"name\"\u001b[39;49;00m: \u001b[33m\"greetings\"\u001b[39;49;00m,\n",
      "    \u001b[94m\"version\"\u001b[39;49;00m: \u001b[33m\"v1\"\u001b[39;49;00m,\n",
      "    \u001b[94m\"when\"\u001b[39;49;00m: \u001b[33m\"2020-12-23 15:08:07\"\u001b[39;49;00m\n",
      "}\n",
      "\n",
      "\n"
     ]
    }
   ],
   "source": [
    "# Catalogue - regra match.uri\n",
    "http -v \"$INGRESS_HOST:$INGRESS_PORT/catalogue\""
   ]
  },
  {
   "cell_type": "markdown",
   "metadata": {},
   "source": [
    "## Rota baseada no cabeçalho\n",
    "\n",
    "Os _VirtualServices_ são uma das principais configurações do gerenciamento de tráfico do Istio, nesse exemplo iremos utilizar os dados do cabeçalho da requisição para decidir qual versão do serviço será servida para o requisitante.\n",
    "\n",
    "Esse tipo de controle permite realizar testes e entregas para grupos de usuários. Diferente da entrega canário, que direciona o tráfego com base em percentuais, a rota baseada no cabeçalho, permite mirar grupos específicos.\n",
    "\n",
    "Neste cenário os usuários que acessarem o front-end na região _Southeast_ serão direcionados para a versão 2 e os demais para a versão 1. \n",
    "\n",
    "Vamos aplica a configuração [front-end-route-header.yaml](exemplos/simul-shop/istio/11/route-header/front-end-route-header.yaml)."
   ]
  },
  {
   "cell_type": "code",
   "execution_count": 11,
   "metadata": {},
   "outputs": [
    {
     "name": "stdout",
     "output_type": "stream",
     "text": [
      "deployment.apps/front-end-v2 configured\n"
     ]
    }
   ],
   "source": [
    "# Deployment da versão 2 do front-end\n",
    "kubectl apply -f exemplos/simul-shop/manifests/8/front-end-deployment-v2.yaml"
   ]
  },
  {
   "cell_type": "code",
   "execution_count": 12,
   "metadata": {},
   "outputs": [
    {
     "name": "stdout",
     "output_type": "stream",
     "text": [
      "virtualservice.networking.istio.io/front-end configured\n"
     ]
    }
   ],
   "source": [
    "# Configurar o VirtualService do front-end para direcionar com base nos campos do cabeçalho\n",
    "kubectl apply -f exemplos/simul-shop/istio/11/front-end-route-header-vs.yaml"
   ]
  },
  {
   "cell_type": "markdown",
   "metadata": {},
   "source": [
    "Nossa aplicação já pode ser acessada pela uri http://INGRESS_HOST:INGRESS_PORT/"
   ]
  },
  {
   "cell_type": "code",
   "execution_count": 13,
   "metadata": {},
   "outputs": [
    {
     "name": "stdout",
     "output_type": "stream",
     "text": [
      "\u001b[32mGET\u001b[39;49;00m \u001b[04m\u001b[36m/\u001b[39;49;00m \u001b[34mHTTP\u001b[39;49;00m/\u001b[34m1.1\u001b[39;49;00m\n",
      "\u001b[36mAccept\u001b[39;49;00m: */*\n",
      "\u001b[36mAccept-Encoding\u001b[39;49;00m: gzip, deflate\n",
      "\u001b[36mConnection\u001b[39;49;00m: keep-alive\n",
      "\u001b[36mHost\u001b[39;49;00m: 20.62.230.230:80\n",
      "\u001b[36mUser-Agent\u001b[39;49;00m: HTTPie/2.3.0\n",
      "\n",
      "\n",
      "\n",
      "\u001b[34mHTTP\u001b[39;49;00m/\u001b[34m1.1\u001b[39;49;00m \u001b[34m200\u001b[39;49;00m \u001b[36mOK\u001b[39;49;00m\n",
      "\u001b[36mcontent-length\u001b[39;49;00m: 108\n",
      "\u001b[36mcontent-type\u001b[39;49;00m: application/json\n",
      "\u001b[36mdate\u001b[39;49;00m: Wed, 23 Dec 2020 15:09:14 GMT\n",
      "\u001b[36mserver\u001b[39;49;00m: istio-envoy\n",
      "\u001b[36mx-envoy-upstream-service-time\u001b[39;49;00m: 2\n",
      "\n",
      "{\n",
      "    \u001b[94m\"app\"\u001b[39;49;00m: \u001b[33m\"front-end\"\u001b[39;49;00m,\n",
      "    \u001b[94m\"description\"\u001b[39;49;00m: \u001b[33m\"Hi there!\"\u001b[39;49;00m,\n",
      "    \u001b[94m\"name\"\u001b[39;49;00m: \u001b[33m\"greetings\"\u001b[39;49;00m,\n",
      "    \u001b[94m\"version\"\u001b[39;49;00m: \u001b[33m\"v1\"\u001b[39;49;00m,\n",
      "    \u001b[94m\"when\"\u001b[39;49;00m: \u001b[33m\"2020-12-23 15:09:15\"\u001b[39;49;00m\n",
      "}\n",
      "\n",
      "\n"
     ]
    }
   ],
   "source": [
    "# Rota padrão\n",
    "http -v \"$INGRESS_HOST:$INGRESS_PORT\""
   ]
  },
  {
   "cell_type": "markdown",
   "metadata": {},
   "source": [
    "A versão acessada foi a v1, vamos adicionar o cabeçalho."
   ]
  },
  {
   "cell_type": "code",
   "execution_count": 14,
   "metadata": {},
   "outputs": [
    {
     "name": "stdout",
     "output_type": "stream",
     "text": [
      "\u001b[32mGET\u001b[39;49;00m \u001b[04m\u001b[36m/\u001b[39;49;00m \u001b[34mHTTP\u001b[39;49;00m/\u001b[34m1.1\u001b[39;49;00m\n",
      "\u001b[36mAccept\u001b[39;49;00m: */*\n",
      "\u001b[36mAccept-Encoding\u001b[39;49;00m: gzip, deflate\n",
      "\u001b[36mConnection\u001b[39;49;00m: keep-alive\n",
      "\u001b[36mHost\u001b[39;49;00m: 20.62.230.230:80\n",
      "\u001b[36mUser-Agent\u001b[39;49;00m: HTTPie/2.3.0\n",
      "\u001b[36muser-region\u001b[39;49;00m: Southeast\n",
      "\n",
      "\n",
      "\n",
      "\u001b[34mHTTP\u001b[39;49;00m/\u001b[34m1.1\u001b[39;49;00m \u001b[34m200\u001b[39;49;00m \u001b[36mOK\u001b[39;49;00m\n",
      "\u001b[36mcontent-length\u001b[39;49;00m: 108\n",
      "\u001b[36mcontent-type\u001b[39;49;00m: application/json\n",
      "\u001b[36mdate\u001b[39;49;00m: Wed, 23 Dec 2020 15:09:24 GMT\n",
      "\u001b[36mserver\u001b[39;49;00m: istio-envoy\n",
      "\u001b[36mx-envoy-upstream-service-time\u001b[39;49;00m: 655\n",
      "\n",
      "{\n",
      "    \u001b[94m\"app\"\u001b[39;49;00m: \u001b[33m\"front-end\"\u001b[39;49;00m,\n",
      "    \u001b[94m\"description\"\u001b[39;49;00m: \u001b[33m\"Hi there!\"\u001b[39;49;00m,\n",
      "    \u001b[94m\"name\"\u001b[39;49;00m: \u001b[33m\"greetings\"\u001b[39;49;00m,\n",
      "    \u001b[94m\"version\"\u001b[39;49;00m: \u001b[33m\"v2\"\u001b[39;49;00m,\n",
      "    \u001b[94m\"when\"\u001b[39;49;00m: \u001b[33m\"2020-12-23 15:09:24\"\u001b[39;49;00m\n",
      "}\n",
      "\n",
      "\n"
     ]
    }
   ],
   "source": [
    "# Regra #1 - campo user-region do cabeçalho igual a Southeast\n",
    "http -v \"$INGRESS_HOST:$INGRESS_PORT\" \"user-region: Southeast\""
   ]
  },
  {
   "cell_type": "markdown",
   "metadata": {},
   "source": [
    "Com o campo no cabeçalho o serviço chamado foi o v2.\n",
    "\n",
    "Você pode usar uma combinação de campos do cabeçalho e tirar proveito de campos [padrão](https://en.wikipedia.org/wiki/List_of_HTTP_header_fields) para guiar a lógica do seu serviço.\n",
    "\n",
    "* content-length\n",
    "* content-type\n",
    "* date\n",
    "* Host\n",
    "* User-Agent"
   ]
  },
  {
   "cell_type": "markdown",
   "metadata": {},
   "source": [
    "## Multiplas regras de tráfego\n",
    "\n",
    "Como discutimos anteriormente, você pode combinar multiplas regras em um único _VirtualService_, inclusive de serviços diferentes, porém isso pode ficar confuso conforme o numero de serviços cresce, mas é uma boa prática, combinar as regras em um único _VirtualService_ para o mesmo serviço, dessa forma podemos avaliar o seu comportamento em um único lugar.\n",
    "\n",
    "As regras são avaliadas na ordem, as rotas HTTP serão aplicadas às portas de serviço da plataforma chamadas 'http -' / 'http2 -' / 'grpc- *', portas de gateway com protocolo HTTP / HTTP2 / GRPC / TLS-terminated-HTTPS e portas de entrada de serviço usando HTTP / HTTP2 / Protocolos GRPC. A primeira regra que corresponder a solicitação de entrada será usada.\n",
    "\n",
    "Neste cenário queremos combinar a uri com campos do cabeçalho, somente requisições com uri iniciando com `/front-end` e cabeçalho com o campo `user-region: Southeast` serão direcionados para a v2.\n",
    "\n",
    "Nesse cenário hipotético, após os testes, iremos direcionar as requisições com prefixo `/front-end` também para a v2.\n",
    "\n",
    "E como boa prática, se nenhuma das regras for satisfeita, a requisição será direcionada para a v1."
   ]
  },
  {
   "cell_type": "code",
   "execution_count": 15,
   "metadata": {},
   "outputs": [
    {
     "name": "stdout",
     "output_type": "stream",
     "text": [
      "virtualservice.networking.istio.io/front-end configured\n"
     ]
    }
   ],
   "source": [
    "# Virtual Service\n",
    "kubectl apply -f exemplos/simul-shop/istio/11/front-end-multi-route-vs.yaml"
   ]
  },
  {
   "cell_type": "code",
   "execution_count": 16,
   "metadata": {},
   "outputs": [
    {
     "name": "stdout",
     "output_type": "stream",
     "text": [
      "\u001b[32mGET\u001b[39;49;00m \u001b[04m\u001b[36m/\u001b[39;49;00m \u001b[34mHTTP\u001b[39;49;00m/\u001b[34m1.1\u001b[39;49;00m\n",
      "\u001b[36mAccept\u001b[39;49;00m: */*\n",
      "\u001b[36mAccept-Encoding\u001b[39;49;00m: gzip, deflate\n",
      "\u001b[36mConnection\u001b[39;49;00m: keep-alive\n",
      "\u001b[36mHost\u001b[39;49;00m: 20.62.230.230:80\n",
      "\u001b[36mUser-Agent\u001b[39;49;00m: HTTPie/2.3.0\n",
      "\u001b[36muser-region\u001b[39;49;00m: Southeast\n",
      "\n",
      "\n",
      "\n",
      "\u001b[34mHTTP\u001b[39;49;00m/\u001b[34m1.1\u001b[39;49;00m \u001b[34m200\u001b[39;49;00m \u001b[36mOK\u001b[39;49;00m\n",
      "\u001b[36mcontent-length\u001b[39;49;00m: 108\n",
      "\u001b[36mcontent-type\u001b[39;49;00m: application/json\n",
      "\u001b[36mdate\u001b[39;49;00m: Wed, 23 Dec 2020 15:17:55 GMT\n",
      "\u001b[36mserver\u001b[39;49;00m: istio-envoy\n",
      "\u001b[36mx-envoy-upstream-service-time\u001b[39;49;00m: 2\n",
      "\n",
      "{\n",
      "    \u001b[94m\"app\"\u001b[39;49;00m: \u001b[33m\"front-end\"\u001b[39;49;00m,\n",
      "    \u001b[94m\"description\"\u001b[39;49;00m: \u001b[33m\"Hi there!\"\u001b[39;49;00m,\n",
      "    \u001b[94m\"name\"\u001b[39;49;00m: \u001b[33m\"greetings\"\u001b[39;49;00m,\n",
      "    \u001b[94m\"version\"\u001b[39;49;00m: \u001b[33m\"v1\"\u001b[39;49;00m,\n",
      "    \u001b[94m\"when\"\u001b[39;49;00m: \u001b[33m\"2020-12-23 15:17:55\"\u001b[39;49;00m\n",
      "}\n",
      "\n",
      "\n"
     ]
    }
   ],
   "source": [
    "# Rota padrão - v1\n",
    "http -v \"$INGRESS_HOST:$INGRESS_PORT/\" \"user-region: Southeast\""
   ]
  },
  {
   "cell_type": "code",
   "execution_count": 17,
   "metadata": {},
   "outputs": [
    {
     "name": "stdout",
     "output_type": "stream",
     "text": [
      "\u001b[32mGET\u001b[39;49;00m \u001b[04m\u001b[36m/\u001b[39;49;00m \u001b[34mHTTP\u001b[39;49;00m/\u001b[34m1.1\u001b[39;49;00m\n",
      "\u001b[36mAccept\u001b[39;49;00m: */*\n",
      "\u001b[36mAccept-Encoding\u001b[39;49;00m: gzip, deflate\n",
      "\u001b[36mConnection\u001b[39;49;00m: keep-alive\n",
      "\u001b[36mHost\u001b[39;49;00m: 20.62.230.230:80\n",
      "\u001b[36mUser-Agent\u001b[39;49;00m: HTTPie/2.3.0\n",
      "\n",
      "\n",
      "\n",
      "\u001b[34mHTTP\u001b[39;49;00m/\u001b[34m1.1\u001b[39;49;00m \u001b[34m200\u001b[39;49;00m \u001b[36mOK\u001b[39;49;00m\n",
      "\u001b[36mcontent-length\u001b[39;49;00m: 108\n",
      "\u001b[36mcontent-type\u001b[39;49;00m: application/json\n",
      "\u001b[36mdate\u001b[39;49;00m: Wed, 23 Dec 2020 15:18:00 GMT\n",
      "\u001b[36mserver\u001b[39;49;00m: istio-envoy\n",
      "\u001b[36mx-envoy-upstream-service-time\u001b[39;49;00m: 2\n",
      "\n",
      "{\n",
      "    \u001b[94m\"app\"\u001b[39;49;00m: \u001b[33m\"front-end\"\u001b[39;49;00m,\n",
      "    \u001b[94m\"description\"\u001b[39;49;00m: \u001b[33m\"Hi there!\"\u001b[39;49;00m,\n",
      "    \u001b[94m\"name\"\u001b[39;49;00m: \u001b[33m\"greetings\"\u001b[39;49;00m,\n",
      "    \u001b[94m\"version\"\u001b[39;49;00m: \u001b[33m\"v1\"\u001b[39;49;00m,\n",
      "    \u001b[94m\"when\"\u001b[39;49;00m: \u001b[33m\"2020-12-23 15:18:01\"\u001b[39;49;00m\n",
      "}\n",
      "\n",
      "\n"
     ]
    }
   ],
   "source": [
    "# Rota padrão - v1\n",
    "http -v \"$INGRESS_HOST:$INGRESS_PORT/\""
   ]
  },
  {
   "cell_type": "code",
   "execution_count": 18,
   "metadata": {},
   "outputs": [
    {
     "name": "stdout",
     "output_type": "stream",
     "text": [
      "\u001b[32mGET\u001b[39;49;00m \u001b[04m\u001b[36m/front-end\u001b[39;49;00m \u001b[34mHTTP\u001b[39;49;00m/\u001b[34m1.1\u001b[39;49;00m\n",
      "\u001b[36mAccept\u001b[39;49;00m: */*\n",
      "\u001b[36mAccept-Encoding\u001b[39;49;00m: gzip, deflate\n",
      "\u001b[36mConnection\u001b[39;49;00m: keep-alive\n",
      "\u001b[36mHost\u001b[39;49;00m: 20.62.230.230:80\n",
      "\u001b[36mUser-Agent\u001b[39;49;00m: HTTPie/2.3.0\n",
      "\n",
      "\n",
      "\n",
      "\u001b[34mHTTP\u001b[39;49;00m/\u001b[34m1.1\u001b[39;49;00m \u001b[34m200\u001b[39;49;00m \u001b[36mOK\u001b[39;49;00m\n",
      "\u001b[36mcontent-length\u001b[39;49;00m: 108\n",
      "\u001b[36mcontent-type\u001b[39;49;00m: application/json\n",
      "\u001b[36mdate\u001b[39;49;00m: Wed, 23 Dec 2020 15:18:19 GMT\n",
      "\u001b[36mserver\u001b[39;49;00m: istio-envoy\n",
      "\u001b[36mx-envoy-upstream-service-time\u001b[39;49;00m: 2\n",
      "\n",
      "{\n",
      "    \u001b[94m\"app\"\u001b[39;49;00m: \u001b[33m\"front-end\"\u001b[39;49;00m,\n",
      "    \u001b[94m\"description\"\u001b[39;49;00m: \u001b[33m\"Hi there!\"\u001b[39;49;00m,\n",
      "    \u001b[94m\"name\"\u001b[39;49;00m: \u001b[33m\"greetings\"\u001b[39;49;00m,\n",
      "    \u001b[94m\"version\"\u001b[39;49;00m: \u001b[33m\"v1\"\u001b[39;49;00m,\n",
      "    \u001b[94m\"when\"\u001b[39;49;00m: \u001b[33m\"2020-12-23 15:18:19\"\u001b[39;49;00m\n",
      "}\n",
      "\n",
      "\n"
     ]
    }
   ],
   "source": [
    "# Regra #2: uri iniciando em /front-end - v1 (mas pode ser alterada para outra versão)\n",
    "http -v \"$INGRESS_HOST:$INGRESS_PORT/front-end\""
   ]
  },
  {
   "cell_type": "code",
   "execution_count": 19,
   "metadata": {},
   "outputs": [
    {
     "name": "stdout",
     "output_type": "stream",
     "text": [
      "\u001b[32mGET\u001b[39;49;00m \u001b[04m\u001b[36m/front-end\u001b[39;49;00m \u001b[34mHTTP\u001b[39;49;00m/\u001b[34m1.1\u001b[39;49;00m\n",
      "\u001b[36mAccept\u001b[39;49;00m: */*\n",
      "\u001b[36mAccept-Encoding\u001b[39;49;00m: gzip, deflate\n",
      "\u001b[36mConnection\u001b[39;49;00m: keep-alive\n",
      "\u001b[36mHost\u001b[39;49;00m: 20.62.230.230:80\n",
      "\u001b[36mUser-Agent\u001b[39;49;00m: HTTPie/2.3.0\n",
      "\u001b[36muser-region\u001b[39;49;00m: Southeast\n",
      "\n",
      "\n",
      "\n",
      "\u001b[34mHTTP\u001b[39;49;00m/\u001b[34m1.1\u001b[39;49;00m \u001b[34m200\u001b[39;49;00m \u001b[36mOK\u001b[39;49;00m\n",
      "\u001b[36mcontent-length\u001b[39;49;00m: 108\n",
      "\u001b[36mcontent-type\u001b[39;49;00m: application/json\n",
      "\u001b[36mdate\u001b[39;49;00m: Wed, 23 Dec 2020 15:18:28 GMT\n",
      "\u001b[36mserver\u001b[39;49;00m: istio-envoy\n",
      "\u001b[36mx-envoy-upstream-service-time\u001b[39;49;00m: 2\n",
      "\n",
      "{\n",
      "    \u001b[94m\"app\"\u001b[39;49;00m: \u001b[33m\"front-end\"\u001b[39;49;00m,\n",
      "    \u001b[94m\"description\"\u001b[39;49;00m: \u001b[33m\"Hi there!\"\u001b[39;49;00m,\n",
      "    \u001b[94m\"name\"\u001b[39;49;00m: \u001b[33m\"greetings\"\u001b[39;49;00m,\n",
      "    \u001b[94m\"version\"\u001b[39;49;00m: \u001b[33m\"v2\"\u001b[39;49;00m,\n",
      "    \u001b[94m\"when\"\u001b[39;49;00m: \u001b[33m\"2020-12-23 15:18:28\"\u001b[39;49;00m\n",
      "}\n",
      "\n",
      "\n"
     ]
    }
   ],
   "source": [
    "# Regra #1: user-regio=Southeast e uri iniciando em /front-end - v2\n",
    "http -v \"$INGRESS_HOST:$INGRESS_PORT/front-end\" \"user-region: Southeast\""
   ]
  },
  {
   "cell_type": "code",
   "execution_count": 20,
   "metadata": {},
   "outputs": [
    {
     "name": "stdout",
     "output_type": "stream",
     "text": [
      "\u001b[32mGET\u001b[39;49;00m \u001b[04m\u001b[36m/anything\u001b[39;49;00m \u001b[34mHTTP\u001b[39;49;00m/\u001b[34m1.1\u001b[39;49;00m\n",
      "\u001b[36mAccept\u001b[39;49;00m: */*\n",
      "\u001b[36mAccept-Encoding\u001b[39;49;00m: gzip, deflate\n",
      "\u001b[36mConnection\u001b[39;49;00m: keep-alive\n",
      "\u001b[36mHost\u001b[39;49;00m: 20.62.230.230:80\n",
      "\u001b[36mUser-Agent\u001b[39;49;00m: HTTPie/2.3.0\n",
      "\n",
      "\n",
      "\n",
      "\u001b[34mHTTP\u001b[39;49;00m/\u001b[34m1.1\u001b[39;49;00m \u001b[34m404\u001b[39;49;00m \u001b[36mNot Found\u001b[39;49;00m\n",
      "\u001b[36mcontent-length\u001b[39;49;00m: 22\n",
      "\u001b[36mcontent-type\u001b[39;49;00m: application/json\n",
      "\u001b[36mdate\u001b[39;49;00m: Wed, 23 Dec 2020 15:18:39 GMT\n",
      "\u001b[36mserver\u001b[39;49;00m: istio-envoy\n",
      "\u001b[36mx-envoy-upstream-service-time\u001b[39;49;00m: 28\n",
      "\n",
      "{\n",
      "    \u001b[94m\"detail\"\u001b[39;49;00m: \u001b[33m\"Not Found\"\u001b[39;49;00m\n",
      "}\n",
      "\n",
      "\n"
     ]
    }
   ],
   "source": [
    "# Rota padrão, mas não tem re-escrita da URI - 404\n",
    "http -v \"$INGRESS_HOST:$INGRESS_PORT/anything\""
   ]
  },
  {
   "cell_type": "markdown",
   "metadata": {},
   "source": [
    "## Modificando os cabeçalhos de resposta\n",
    "\n",
    "Os _VirtualServices_ podem adicionar ou remover campos do cabeçalho.\n",
    "\n",
    "Neste exemplo, queremos que as requisições que não são originadas de _Southeast_ tenham o campo do cabeçalho `user-region` com o valor `other`. Esse dado pode ser utilizada para regras em outros serviços, ou para fins de log."
   ]
  },
  {
   "cell_type": "code",
   "execution_count": 21,
   "metadata": {},
   "outputs": [
    {
     "name": "stdout",
     "output_type": "stream",
     "text": [
      "virtualservice.networking.istio.io/front-end configured\n"
     ]
    }
   ],
   "source": [
    "# VirtualService\n",
    "kubectl apply -f exemplos/simul-shop/istio/11/front-end-change-header-vs.yaml"
   ]
  },
  {
   "cell_type": "code",
   "execution_count": 22,
   "metadata": {},
   "outputs": [
    {
     "name": "stdout",
     "output_type": "stream",
     "text": [
      "\u001b[32mGET\u001b[39;49;00m \u001b[04m\u001b[36m/\u001b[39;49;00m \u001b[34mHTTP\u001b[39;49;00m/\u001b[34m1.1\u001b[39;49;00m\n",
      "\u001b[36mAccept\u001b[39;49;00m: */*\n",
      "\u001b[36mAccept-Encoding\u001b[39;49;00m: gzip, deflate\n",
      "\u001b[36mConnection\u001b[39;49;00m: keep-alive\n",
      "\u001b[36mHost\u001b[39;49;00m: 20.62.230.230:80\n",
      "\u001b[36mUser-Agent\u001b[39;49;00m: HTTPie/2.3.0\n",
      "\u001b[36muser-region\u001b[39;49;00m: Southeast\n",
      "\n",
      "\n",
      "\n",
      "\u001b[34mHTTP\u001b[39;49;00m/\u001b[34m1.1\u001b[39;49;00m \u001b[34m200\u001b[39;49;00m \u001b[36mOK\u001b[39;49;00m\n",
      "\u001b[36mcontent-length\u001b[39;49;00m: 108\n",
      "\u001b[36mcontent-type\u001b[39;49;00m: application/json\n",
      "\u001b[36mdate\u001b[39;49;00m: Wed, 23 Dec 2020 15:19:42 GMT\n",
      "\u001b[36mserver\u001b[39;49;00m: istio-envoy\n",
      "\u001b[36mx-envoy-upstream-service-time\u001b[39;49;00m: 2\n",
      "\n",
      "{\n",
      "    \u001b[94m\"app\"\u001b[39;49;00m: \u001b[33m\"front-end\"\u001b[39;49;00m,\n",
      "    \u001b[94m\"description\"\u001b[39;49;00m: \u001b[33m\"Hi there!\"\u001b[39;49;00m,\n",
      "    \u001b[94m\"name\"\u001b[39;49;00m: \u001b[33m\"greetings\"\u001b[39;49;00m,\n",
      "    \u001b[94m\"version\"\u001b[39;49;00m: \u001b[33m\"v2\"\u001b[39;49;00m,\n",
      "    \u001b[94m\"when\"\u001b[39;49;00m: \u001b[33m\"2020-12-23 15:19:43\"\u001b[39;49;00m\n",
      "}\n",
      "\n",
      "\n"
     ]
    }
   ],
   "source": [
    "# Regra 1 - v2\n",
    "http -v \"$INGRESS_HOST:$INGRESS_PORT/\" \"user-region: Southeast\""
   ]
  },
  {
   "cell_type": "code",
   "execution_count": 23,
   "metadata": {},
   "outputs": [
    {
     "name": "stdout",
     "output_type": "stream",
     "text": [
      "\u001b[32mGET\u001b[39;49;00m \u001b[04m\u001b[36m/\u001b[39;49;00m \u001b[34mHTTP\u001b[39;49;00m/\u001b[34m1.1\u001b[39;49;00m\n",
      "\u001b[36mAccept\u001b[39;49;00m: */*\n",
      "\u001b[36mAccept-Encoding\u001b[39;49;00m: gzip, deflate\n",
      "\u001b[36mConnection\u001b[39;49;00m: keep-alive\n",
      "\u001b[36mHost\u001b[39;49;00m: 20.62.230.230:80\n",
      "\u001b[36mUser-Agent\u001b[39;49;00m: HTTPie/2.3.0\n",
      "\n",
      "\n",
      "\n",
      "\u001b[34mHTTP\u001b[39;49;00m/\u001b[34m1.1\u001b[39;49;00m \u001b[34m200\u001b[39;49;00m \u001b[36mOK\u001b[39;49;00m\n",
      "\u001b[36mcontent-length\u001b[39;49;00m: 108\n",
      "\u001b[36mcontent-type\u001b[39;49;00m: application/json\n",
      "\u001b[36mdate\u001b[39;49;00m: Wed, 23 Dec 2020 15:19:50 GMT\n",
      "\u001b[36mserver\u001b[39;49;00m: istio-envoy\n",
      "\u001b[36muser-region\u001b[39;49;00m: other\n",
      "\u001b[36mx-envoy-upstream-service-time\u001b[39;49;00m: 2\n",
      "\n",
      "{\n",
      "    \u001b[94m\"app\"\u001b[39;49;00m: \u001b[33m\"front-end\"\u001b[39;49;00m,\n",
      "    \u001b[94m\"description\"\u001b[39;49;00m: \u001b[33m\"Hi there!\"\u001b[39;49;00m,\n",
      "    \u001b[94m\"name\"\u001b[39;49;00m: \u001b[33m\"greetings\"\u001b[39;49;00m,\n",
      "    \u001b[94m\"version\"\u001b[39;49;00m: \u001b[33m\"v1\"\u001b[39;49;00m,\n",
      "    \u001b[94m\"when\"\u001b[39;49;00m: \u001b[33m\"2020-12-23 15:19:56\"\u001b[39;49;00m\n",
      "}\n",
      "\n",
      "\n"
     ]
    }
   ],
   "source": [
    "# Rota padrão - v1\n",
    "http -v \"$INGRESS_HOST:$INGRESS_PORT/\""
   ]
  },
  {
   "cell_type": "markdown",
   "metadata": {},
   "source": [
    "Procure pelo campo `user-region` no cabeçalho. Todas as requisições que forem direcionadas pela rota padrão terão o campo `user-region: other` adicionado."
   ]
  },
  {
   "cell_type": "markdown",
   "metadata": {},
   "source": [
    "## Retentativas e timeouts\n",
    "\n",
    "Arquiteturas distribuídas significa solicitações na rede, aumentando a chance de falhas temporárias como congestionamento da rede.\n",
    "\n",
    "Adicionar políticas de repetição para solicitações e ezpiração do tempo de espera ajudam a construir serviços resilientes em uma arquitetura de serviços. Frequentemente, essa lógica de repetição é incorporada no serviço, mas com o Istio, você pode definir políticas de repetição com uma regra de tráfego, a serem executadas pelos sidecars, permitindo padronizar as políticas de forma independente dos  protocolos e linguagens de programação.\n",
    "\n",
    "Uma configuração tentativas especifica o número máximo de vezes que um proxy Envoy tenta se conectar a um serviço se a chamada inicial falhar."
   ]
  },
  {
   "cell_type": "markdown",
   "metadata": {},
   "source": [
    "### _Timeout_\n",
    "\n",
    "Nosso primeira [configuração](exemplos/simul-shop/istio/11/login-timeout-vs.yaml) será ajustar o tempo de espera (timeout) para 10s. Para isso vamos configurar o _VirtualService_ do login e executar o serviço passando diferntes tempos de atraso.\n",
    "\n",
    "> Na seção Engenharia do Caos, veremos como fazer isso usando configurações do Istio."
   ]
  },
  {
   "cell_type": "code",
   "execution_count": 107,
   "metadata": {},
   "outputs": [
    {
     "name": "stdout",
     "output_type": "stream",
     "text": [
      "virtualservice.networking.istio.io/login unchanged\n"
     ]
    }
   ],
   "source": [
    "# VirtualService\n",
    "kubectl apply -f exemplos/simul-shop/istio/11/login-timeout-vs.yaml"
   ]
  },
  {
   "cell_type": "markdown",
   "metadata": {},
   "source": [
    "Para testar vamos executar o serviço, mas antes, abra um terminal para monitorar os logs do serviço.\n",
    "\n",
    "Em um terminal digite `stern -l app=login -c istio-proxy`\n",
    "\n",
    "Agora vamos executar o serviço."
   ]
  },
  {
   "cell_type": "code",
   "execution_count": 109,
   "metadata": {},
   "outputs": [
    {
     "name": "stdout",
     "output_type": "stream",
     "text": [
      "\u001b[32mGET\u001b[39;49;00m \u001b[04m\u001b[36m/r?code=200&wait=5\u001b[39;49;00m \u001b[34mHTTP\u001b[39;49;00m/\u001b[34m1.1\u001b[39;49;00m\n",
      "\u001b[36mAccept\u001b[39;49;00m: \u001b[33m*/*\u001b[39;49;00m\n",
      "\u001b[36mAccept-Encoding\u001b[39;49;00m: \u001b[33mgzip, deflate\u001b[39;49;00m\n",
      "\u001b[36mConnection\u001b[39;49;00m: \u001b[33mkeep-alive\u001b[39;49;00m\n",
      "\u001b[36mHost\u001b[39;49;00m: \u001b[33mlogin:8000\u001b[39;49;00m\n",
      "\u001b[36mUser-Agent\u001b[39;49;00m: \u001b[33mHTTPie/0.9.8\u001b[39;49;00m\n",
      "\n",
      "\n",
      "\n",
      "\u001b[34mHTTP\u001b[39;49;00m/\u001b[34m1.1\u001b[39;49;00m \u001b[34m200\u001b[39;49;00m \u001b[36mOK\u001b[39;49;00m\n",
      "\u001b[36mcontent-length\u001b[39;49;00m: \u001b[33m110\u001b[39;49;00m\n",
      "\u001b[36mcontent-type\u001b[39;49;00m: \u001b[33mapplication/json\u001b[39;49;00m\n",
      "\u001b[36mdate\u001b[39;49;00m: \u001b[33mWed, 23 Dec 2020 21:13:55 GMT\u001b[39;49;00m\n",
      "\u001b[36mserver\u001b[39;49;00m: \u001b[33menvoy\u001b[39;49;00m\n",
      "\u001b[36mx-envoy-upstream-service-time\u001b[39;49;00m: \u001b[33m5007\u001b[39;49;00m\n",
      "\n",
      "{\n",
      "    \u001b[34;01m\"detail\"\u001b[39;49;00m: \u001b[33m\"At 2020-12-23 21:13:55 this request asks for 200 and waits for 5s and now is 2020-12-23 21:14:00.\"\u001b[39;49;00m\n",
      "}\n",
      "\n",
      "\u001b[32mGET\u001b[39;49;00m \u001b[04m\u001b[36m/r?code=200&wait=7\u001b[39;49;00m \u001b[34mHTTP\u001b[39;49;00m/\u001b[34m1.1\u001b[39;49;00m\n",
      "\u001b[36mAccept\u001b[39;49;00m: \u001b[33m*/*\u001b[39;49;00m\n",
      "\u001b[36mAccept-Encoding\u001b[39;49;00m: \u001b[33mgzip, deflate\u001b[39;49;00m\n",
      "\u001b[36mConnection\u001b[39;49;00m: \u001b[33mkeep-alive\u001b[39;49;00m\n",
      "\u001b[36mHost\u001b[39;49;00m: \u001b[33mlogin:8000\u001b[39;49;00m\n",
      "\u001b[36mUser-Agent\u001b[39;49;00m: \u001b[33mHTTPie/0.9.8\u001b[39;49;00m\n",
      "\n",
      "\n",
      "\n",
      "\u001b[34mHTTP\u001b[39;49;00m/\u001b[34m1.1\u001b[39;49;00m \u001b[34m200\u001b[39;49;00m \u001b[36mOK\u001b[39;49;00m\n",
      "\u001b[36mcontent-length\u001b[39;49;00m: \u001b[33m110\u001b[39;49;00m\n",
      "\u001b[36mcontent-type\u001b[39;49;00m: \u001b[33mapplication/json\u001b[39;49;00m\n",
      "\u001b[36mdate\u001b[39;49;00m: \u001b[33mWed, 23 Dec 2020 21:14:02 GMT\u001b[39;49;00m\n",
      "\u001b[36mserver\u001b[39;49;00m: \u001b[33menvoy\u001b[39;49;00m\n",
      "\u001b[36mx-envoy-upstream-service-time\u001b[39;49;00m: \u001b[33m7008\u001b[39;49;00m\n",
      "\n",
      "{\n",
      "    \u001b[34;01m\"detail\"\u001b[39;49;00m: \u001b[33m\"At 2020-12-23 21:14:03 this request asks for 200 and waits for 7s and now is 2020-12-23 21:14:10.\"\u001b[39;49;00m\n",
      "}\n",
      "\n",
      "\u001b[32mGET\u001b[39;49;00m \u001b[04m\u001b[36m/r?code=200&wait=9\u001b[39;49;00m \u001b[34mHTTP\u001b[39;49;00m/\u001b[34m1.1\u001b[39;49;00m\n",
      "\u001b[36mAccept\u001b[39;49;00m: \u001b[33m*/*\u001b[39;49;00m\n",
      "\u001b[36mAccept-Encoding\u001b[39;49;00m: \u001b[33mgzip, deflate\u001b[39;49;00m\n",
      "\u001b[36mConnection\u001b[39;49;00m: \u001b[33mkeep-alive\u001b[39;49;00m\n",
      "\u001b[36mHost\u001b[39;49;00m: \u001b[33mlogin:8000\u001b[39;49;00m\n",
      "\u001b[36mUser-Agent\u001b[39;49;00m: \u001b[33mHTTPie/0.9.8\u001b[39;49;00m\n",
      "\n",
      "\n",
      "\n",
      "\u001b[34mHTTP\u001b[39;49;00m/\u001b[34m1.1\u001b[39;49;00m \u001b[34m200\u001b[39;49;00m \u001b[36mOK\u001b[39;49;00m\n",
      "\u001b[36mcontent-length\u001b[39;49;00m: \u001b[33m110\u001b[39;49;00m\n",
      "\u001b[36mcontent-type\u001b[39;49;00m: \u001b[33mapplication/json\u001b[39;49;00m\n",
      "\u001b[36mdate\u001b[39;49;00m: \u001b[33mWed, 23 Dec 2020 21:14:02 GMT\u001b[39;49;00m\n",
      "\u001b[36mserver\u001b[39;49;00m: \u001b[33menvoy\u001b[39;49;00m\n",
      "\u001b[36mx-envoy-upstream-service-time\u001b[39;49;00m: \u001b[33m9008\u001b[39;49;00m\n",
      "\n",
      "{\n",
      "    \u001b[34;01m\"detail\"\u001b[39;49;00m: \u001b[33m\"At 2020-12-23 21:14:12 this request asks for 200 and waits for 9s and now is 2020-12-23 21:14:21.\"\u001b[39;49;00m\n",
      "}\n",
      "\n",
      "\u001b[32mGET\u001b[39;49;00m \u001b[04m\u001b[36m/r?code=200&wait=11\u001b[39;49;00m \u001b[34mHTTP\u001b[39;49;00m/\u001b[34m1.1\u001b[39;49;00m\n",
      "\u001b[36mAccept\u001b[39;49;00m: \u001b[33m*/*\u001b[39;49;00m\n",
      "\u001b[36mAccept-Encoding\u001b[39;49;00m: \u001b[33mgzip, deflate\u001b[39;49;00m\n",
      "\u001b[36mConnection\u001b[39;49;00m: \u001b[33mkeep-alive\u001b[39;49;00m\n",
      "\u001b[36mHost\u001b[39;49;00m: \u001b[33mlogin:8000\u001b[39;49;00m\n",
      "\u001b[36mUser-Agent\u001b[39;49;00m: \u001b[33mHTTPie/0.9.8\u001b[39;49;00m\n",
      "\n",
      "\n",
      "\n",
      "\u001b[34mHTTP\u001b[39;49;00m/\u001b[34m1.1\u001b[39;49;00m \u001b[34m504\u001b[39;49;00m \u001b[36mGateway Timeout\u001b[39;49;00m\n",
      "\u001b[36mcontent-length\u001b[39;49;00m: \u001b[33m24\u001b[39;49;00m\n",
      "\u001b[36mcontent-type\u001b[39;49;00m: \u001b[33mtext/plain\u001b[39;49;00m\n",
      "\u001b[36mdate\u001b[39;49;00m: \u001b[33mWed, 23 Dec 2020 21:14:33 GMT\u001b[39;49;00m\n",
      "\u001b[36mserver\u001b[39;49;00m: \u001b[33menvoy\u001b[39;49;00m\n",
      "\n",
      "upstream request timeout\n",
      "\n",
      "\u001b[32mGET\u001b[39;49;00m \u001b[04m\u001b[36m/r?code=200&wait=13\u001b[39;49;00m \u001b[34mHTTP\u001b[39;49;00m/\u001b[34m1.1\u001b[39;49;00m\n",
      "\u001b[36mAccept\u001b[39;49;00m: \u001b[33m*/*\u001b[39;49;00m\n",
      "\u001b[36mAccept-Encoding\u001b[39;49;00m: \u001b[33mgzip, deflate\u001b[39;49;00m\n",
      "\u001b[36mConnection\u001b[39;49;00m: \u001b[33mkeep-alive\u001b[39;49;00m\n",
      "\u001b[36mHost\u001b[39;49;00m: \u001b[33mlogin:8000\u001b[39;49;00m\n",
      "\u001b[36mUser-Agent\u001b[39;49;00m: \u001b[33mHTTPie/0.9.8\u001b[39;49;00m\n",
      "\n",
      "\n",
      "\n",
      "\u001b[34mHTTP\u001b[39;49;00m/\u001b[34m1.1\u001b[39;49;00m \u001b[34m408\u001b[39;49;00m \u001b[36mRequest Timeout\u001b[39;49;00m\n",
      "\u001b[36mcontent-length\u001b[39;49;00m: \u001b[33m27\u001b[39;49;00m\n",
      "\u001b[36mcontent-type\u001b[39;49;00m: \u001b[33mtext/plain\u001b[39;49;00m\n",
      "\u001b[36mdate\u001b[39;49;00m: \u001b[33mWed, 23 Dec 2020 21:14:46 GMT\u001b[39;49;00m\n",
      "\u001b[36mserver\u001b[39;49;00m: \u001b[33menvoy\u001b[39;49;00m\n",
      "\n",
      "downstream duration timeout\n",
      "\n",
      "\u001b[32mGET\u001b[39;49;00m \u001b[04m\u001b[36m/r?code=200&wait=15\u001b[39;49;00m \u001b[34mHTTP\u001b[39;49;00m/\u001b[34m1.1\u001b[39;49;00m\n",
      "\u001b[36mAccept\u001b[39;49;00m: \u001b[33m*/*\u001b[39;49;00m\n",
      "\u001b[36mAccept-Encoding\u001b[39;49;00m: \u001b[33mgzip, deflate\u001b[39;49;00m\n",
      "\u001b[36mConnection\u001b[39;49;00m: \u001b[33mkeep-alive\u001b[39;49;00m\n",
      "\u001b[36mHost\u001b[39;49;00m: \u001b[33mlogin:8000\u001b[39;49;00m\n",
      "\u001b[36mUser-Agent\u001b[39;49;00m: \u001b[33mHTTPie/0.9.8\u001b[39;49;00m\n",
      "\n",
      "\n",
      "\n",
      "\u001b[34mHTTP\u001b[39;49;00m/\u001b[34m1.1\u001b[39;49;00m \u001b[34m504\u001b[39;49;00m \u001b[36mGateway Timeout\u001b[39;49;00m\n",
      "\u001b[36mcontent-length\u001b[39;49;00m: \u001b[33m24\u001b[39;49;00m\n",
      "\u001b[36mcontent-type\u001b[39;49;00m: \u001b[33mtext/plain\u001b[39;49;00m\n",
      "\u001b[36mdate\u001b[39;49;00m: \u001b[33mWed, 23 Dec 2020 21:14:58 GMT\u001b[39;49;00m\n",
      "\u001b[36mserver\u001b[39;49;00m: \u001b[33menvoy\u001b[39;49;00m\n",
      "\n",
      "upstream request timeout\n",
      "\n"
     ]
    }
   ],
   "source": [
    "# Atraso de 5s a 15s, incremento de 2s\n",
    "for i in $(seq 5 2 15);\n",
    "    do kubectl exec -it svc/front-end -c front-end -- http -v \"http://login:8000/r?code=200&wait=$i\";\n",
    "done"
   ]
  },
  {
   "cell_type": "markdown",
   "metadata": {},
   "source": [
    "O tempo de espera (timeout) ajustado para 10 segundos permitiu que o serviço fosse executado para tempos de espera 5s, 7s e 9s. Além desse ponto, o serviço retornou _timeout_"
   ]
  },
  {
   "cell_type": "markdown",
   "metadata": {},
   "source": [
    "### _Retries_\n",
    "\n",
    "Neste cenário, simulamos um problema com o serviço de login. Modificaremos o _Deployment_ do `front-end` para pausar a chamada automática aos serviços, isoo dificultaria acompanhar os logs."
   ]
  },
  {
   "cell_type": "code",
   "execution_count": 110,
   "metadata": {},
   "outputs": [
    {
     "name": "stdout",
     "output_type": "stream",
     "text": [
      "deployment.apps/front-end-v1 configured\n",
      "deployment.apps/front-end-v2 created\n"
     ]
    }
   ],
   "source": [
    "# Modificar o _VirtualService_ do front-end\n",
    "kubectl apply -f exemplos/simul-shop/manifests/8/front-end-deployment-no-auto.yaml"
   ]
  },
  {
   "cell_type": "code",
   "execution_count": 129,
   "metadata": {},
   "outputs": [
    {
     "name": "stdout",
     "output_type": "stream",
     "text": [
      "virtualservice.networking.istio.io/login configured\n"
     ]
    }
   ],
   "source": [
    "# VirtualService\n",
    "kubectl apply -f exemplos/simul-shop/istio/11/login-retry-vs.yaml"
   ]
  },
  {
   "cell_type": "markdown",
   "metadata": {},
   "source": [
    "Como os tempos limite, o comportamento de retentativa pode não atender às necessidades do seu aplicativo em termos de latência (muitas tentativas para um serviço com falha podem tornar as coisas piores). Você pode ajustar as configurações por serviço.\n",
    "\n",
    "Para configurar o comportamento das retentativa, pode-se adicionar tempos limite por nova tentativa, especificando a quantidade de tempo que você deseja esperar para cada tentativa.\n",
    "\n",
    "Nesta [configuração](exemplos/simul-shop/istio/11/login-retry-vs.yaml) serão 3 tentativas após uma falha inicial, cada uma com um tempo limite de 2 segundos.\n",
    "\n",
    "Acompanhe o log, você verá quatro entradas, a inicial e mais três, uma vez que nosso serviçp continuará a restornar o erro em todas as tentativas."
   ]
  },
  {
   "cell_type": "code",
   "execution_count": 162,
   "metadata": {},
   "outputs": [
    {
     "name": "stdout",
     "output_type": "stream",
     "text": [
      "\u001b[32mGET\u001b[39;49;00m \u001b[04m\u001b[36m/r?code=504&wait=1\u001b[39;49;00m \u001b[34mHTTP\u001b[39;49;00m/\u001b[34m1.1\u001b[39;49;00m\n",
      "\u001b[36mAccept\u001b[39;49;00m: \u001b[33m*/*\u001b[39;49;00m\n",
      "\u001b[36mAccept-Encoding\u001b[39;49;00m: \u001b[33mgzip, deflate\u001b[39;49;00m\n",
      "\u001b[36mConnection\u001b[39;49;00m: \u001b[33mkeep-alive\u001b[39;49;00m\n",
      "\u001b[36mHost\u001b[39;49;00m: \u001b[33mlogin:8000\u001b[39;49;00m\n",
      "\u001b[36mUser-Agent\u001b[39;49;00m: \u001b[33mHTTPie/0.9.8\u001b[39;49;00m\n",
      "\n",
      "\n",
      "\n",
      "\u001b[34mHTTP\u001b[39;49;00m/\u001b[34m1.1\u001b[39;49;00m \u001b[34m504\u001b[39;49;00m \u001b[36mGateway Timeout\u001b[39;49;00m\n",
      "\u001b[36mcontent-length\u001b[39;49;00m: \u001b[33m110\u001b[39;49;00m\n",
      "\u001b[36mcontent-type\u001b[39;49;00m: \u001b[33mapplication/json\u001b[39;49;00m\n",
      "\u001b[36mdate\u001b[39;49;00m: \u001b[33mWed, 23 Dec 2020 22:21:27 GMT\u001b[39;49;00m\n",
      "\u001b[36mserver\u001b[39;49;00m: \u001b[33menvoy\u001b[39;49;00m\n",
      "\u001b[36mx-envoy-upstream-service-time\u001b[39;49;00m: \u001b[33m4067\u001b[39;49;00m\n",
      "\n",
      "{\n",
      "    \u001b[34;01m\"detail\"\u001b[39;49;00m: \u001b[33m\"At 2020-12-23 22:21:31 this request asks for 504 and waits for 1s and now is 2020-12-23 22:21:32.\"\u001b[39;49;00m\n",
      "}\n",
      "\n",
      "\n",
      "real\t0m4.284s\n",
      "user\t0m0.197s\n",
      "sys\t0m0.017s\n"
     ]
    }
   ],
   "source": [
    "kubectl exec -it svc/front-end -c front-end -- bash -c 'time http -v \"http://login:8000/r?code=504&wait=1\"'"
   ]
  },
  {
   "cell_type": "markdown",
   "metadata": {},
   "source": [
    "O tempo total de execução foi 4x o tempo do serviço.\n",
    "\n",
    "E se o serviço retornar um código 200 em qualquer uma das três tentativas, a requisição encerrará com sucesso e o tempo total de execução será a soma das tentativas."
   ]
  },
  {
   "cell_type": "code",
   "execution_count": 159,
   "metadata": {},
   "outputs": [
    {
     "name": "stdout",
     "output_type": "stream",
     "text": [
      "\u001b[32mGET\u001b[39;49;00m \u001b[04m\u001b[36m/r?code=200&wait=1\u001b[39;49;00m \u001b[34mHTTP\u001b[39;49;00m/\u001b[34m1.1\u001b[39;49;00m\n",
      "\u001b[36mAccept\u001b[39;49;00m: \u001b[33m*/*\u001b[39;49;00m\n",
      "\u001b[36mAccept-Encoding\u001b[39;49;00m: \u001b[33mgzip, deflate\u001b[39;49;00m\n",
      "\u001b[36mConnection\u001b[39;49;00m: \u001b[33mkeep-alive\u001b[39;49;00m\n",
      "\u001b[36mHost\u001b[39;49;00m: \u001b[33mlogin:8000\u001b[39;49;00m\n",
      "\u001b[36mUser-Agent\u001b[39;49;00m: \u001b[33mHTTPie/0.9.8\u001b[39;49;00m\n",
      "\n",
      "\n",
      "\n",
      "\u001b[34mHTTP\u001b[39;49;00m/\u001b[34m1.1\u001b[39;49;00m \u001b[34m200\u001b[39;49;00m \u001b[36mOK\u001b[39;49;00m\n",
      "\u001b[36mcontent-length\u001b[39;49;00m: \u001b[33m110\u001b[39;49;00m\n",
      "\u001b[36mcontent-type\u001b[39;49;00m: \u001b[33mapplication/json\u001b[39;49;00m\n",
      "\u001b[36mdate\u001b[39;49;00m: \u001b[33mWed, 23 Dec 2020 22:15:09 GMT\u001b[39;49;00m\n",
      "\u001b[36mserver\u001b[39;49;00m: \u001b[33menvoy\u001b[39;49;00m\n",
      "\u001b[36mx-envoy-upstream-service-time\u001b[39;49;00m: \u001b[33m1003\u001b[39;49;00m\n",
      "\n",
      "{\n",
      "    \u001b[34;01m\"detail\"\u001b[39;49;00m: \u001b[33m\"At 2020-12-23 22:15:10 this request asks for 200 and waits for 1s and now is 2020-12-23 22:15:11.\"\u001b[39;49;00m\n",
      "}\n",
      "\n",
      "\n",
      "real\t0m1.227s\n",
      "user\t0m0.172s\n",
      "sys\t0m0.050s\n"
     ]
    }
   ],
   "source": [
    "kubectl exec -it svc/front-end -c front-end -- bash -c 'time http -v \"http://login:8000/r?code=200&wait=1\"'"
   ]
  },
  {
   "cell_type": "markdown",
   "metadata": {},
   "source": [
    "Nesta última execução, o serviço retorna após 1s com sucesso (200).\n",
    "\n",
    "Você deverá ver os errors no kiali e jaeger. No jaeger filtre os rastros colocando em _Service_ escolha `front-end.default` e em _Tags_ preencha com o valor `http.status_code=500`\n",
    "\n",
    "![Jaeger search retries](media/jaeger-retries-search.png)\n",
    "\n",
    "E as execuções que acompanhamos nos logs.\n",
    "\n",
    "![Jaeger failed retries](media/jaeger-failed-retries.png)"
   ]
  },
  {
   "cell_type": "markdown",
   "metadata": {},
   "source": [
    "## Interrupção de circuíto\n",
    "\n",
    "TODO"
   ]
  },
  {
   "cell_type": "markdown",
   "metadata": {},
   "source": [
    "## Espelhando o tráfego\n",
    "\n",
    "TODO"
   ]
  }
 ],
 "metadata": {
  "hide_input": false,
  "kernelspec": {
   "display_name": "Bash",
   "language": "bash",
   "name": "bash"
  },
  "language_info": {
   "codemirror_mode": "shell",
   "file_extension": ".sh",
   "mimetype": "text/x-sh",
   "name": "bash"
  },
  "toc": {
   "base_numbering": 1,
   "nav_menu": {},
   "number_sections": true,
   "sideBar": true,
   "skip_h1_title": false,
   "title_cell": "Table of Contents",
   "title_sidebar": "Contents",
   "toc_cell": false,
   "toc_position": {},
   "toc_section_display": true,
   "toc_window_display": false
  },
  "varInspector": {
   "cols": {
    "lenName": 16,
    "lenType": 16,
    "lenVar": 40
   },
   "kernels_config": {
    "python": {
     "delete_cmd_postfix": "",
     "delete_cmd_prefix": "del ",
     "library": "var_list.py",
     "varRefreshCmd": "print(var_dic_list())"
    },
    "r": {
     "delete_cmd_postfix": ") ",
     "delete_cmd_prefix": "rm(",
     "library": "var_list.r",
     "varRefreshCmd": "cat(var_dic_list()) "
    }
   },
   "types_to_exclude": [
    "module",
    "function",
    "builtin_function_or_method",
    "instance",
    "_Feature"
   ],
   "window_display": false
  }
 },
 "nbformat": 4,
 "nbformat_minor": 4
}
