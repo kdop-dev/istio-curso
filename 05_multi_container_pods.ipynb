{
 "cells": [
  {
   "cell_type": "markdown",
   "metadata": {},
   "source": [
    "# Multi-container PODs\n",
    "\n",
    "![sidecar couple](media/sidecar2.png)"
   ]
  },
  {
   "cell_type": "markdown",
   "metadata": {},
   "source": [
    "O POD é o recurso gerenciável mais básico no kuberentes, é um grupo de um ou mais containers que compartilham  [armazenamento](https://kubernetes.io/docs/concepts/workloads/pods/#pod-storage) e [recursos de rede](https://kubernetes.io/docs/concepts/workloads/pods/#pod-networking), bem como a especificação de como executá-los.\n",
    "\n",
    "O caso mais comum é um container por POD, o do aplicativo, mas existem outros, como o sidecar implementado pelo  Istio. Você pode conhecer mais sobre esses padrões na postagem [The Distributed System ToolKit: Patterns for Composite Containers](https://kubernetes.io/blog/2015/06/the-distributed-system-toolkit-patterns/) de Brendan Burns, um dos criadores do kubernetes.\n",
    "\n",
    "Um caso especial, presente na API do kubernetes é o [container de inicialização](https://kubernetes.io/docs/concepts/workloads/pods/init-containers/), ele é um ou mais containers executados antes do container da aplicação com objetivo de preparar o ambiente, a execução é em seríe e de cada container de inicialização deve terminar para que o container da aplicação seja iniciado.\n",
    "\n",
    "Você poderia utiliza-lo, por exemplo, para baixar ou clonar um repositório com a configuração necessária para sua aplicação."
   ]
  },
  {
   "cell_type": "markdown",
   "metadata": {},
   "source": [
    "Voltando ao Istio, ele utiliza o padrão _sidecar_, o istio-proxy, seu objetivo é aprimorar sua aplicação adicionando funcionalidades de controle de tráfego, monitoramento e segurança, sem precisar modificar sua aplicação, pelo menos não muito, voltaremos a esse problema quando discutirmos rastreamento de logs.\n",
    "\n",
    "O Istio não cunhou o termon sidecar ou criou a implementação, em vez disso ele usa o [Envoy](https://istio.io/latest/docs/ops/deployment/architecture/) no plano de dados e gerencia esses containers através do plano de controle, o Istiod.\n",
    "\n",
    "Para enteder mais sobre o istio-proxy precisamos conhecer melhor o Envoy, ele é um proxy com objetivo de tornar a rede transparente para os aplicativos e facilitar a localização de problemas nestas redes.\n",
    "\n",
    "Suas principais caracteristicas são:\n",
    "\n",
    "* **Processo independente**: o Envoy é um servidor independente de alto desempenho e leve, projetado para ser executado em conjunto com os servidores de aplicativos, independente da linguagem de programação.\n",
    "* **Suporte para HTTP1, HTTP2 E GRPC** - O Envoy tem suporte a HTTP / 2 e gRPC para conexões de entrada e de saída. Ele é um proxy de rede com filtros para várias tarefas, como proxy TCP, proxy UDP, proxy HTTP, autenticação de certificado de cliente TLS e protocolos gRPC, Redis, MongoDB, DynamoDB e Postgres.\n",
    "* **Balanceador de carga avançado** - O Envoy suporta recursos avançados de balanceamento de carga, incluindo retentativas automáticas, interrupção de circuito, controle de limites, duplicação de solicitações, etc.\n",
    "* **APIs para gerenciamento das configurações** - O Envoy fornece APIs robustas para gerenciar dinamicamente sua configuração.\n",
    "* **Observabilidade** - Observabilidade do tráfego L7, suporte nativo para rastreamento distribuído e observabilidade dos protocolos gRPC, MongoDB, DynamoDB, Redis e Postgres, até o momento."
   ]
  },
  {
   "cell_type": "markdown",
   "metadata": {},
   "source": [
    "## Executando o envoy\n",
    "\n",
    "Vamos executar um envoy, há duas formas de fazer isso, [instalando o binário do envoy](https://www.envoyproxy.io/docs/envoy/latest/start/install) na sua máquina ou através de uma imagem docker, vamos na segunda opção."
   ]
  },
  {
   "cell_type": "code",
   "execution_count": null,
   "metadata": {},
   "outputs": [],
   "source": [
    "docker run --rm -d \\\n",
    "    --name envoy \\\n",
    "    -v $PWD/exemplos/5_envoy/envoy-demo.yaml:/envoy-demo.yaml \\\n",
    "    -p 9901:9901 -p 10000:10000 \\\n",
    "    envoyproxy/envoy-dev:1aa90808abe2531dd50bebdac0408da6f9f53da4 -c /envoy-demo.yaml"
   ]
  },
  {
   "cell_type": "markdown",
   "metadata": {},
   "source": [
    "Acessando o proxy"
   ]
  },
  {
   "cell_type": "code",
   "execution_count": null,
   "metadata": {},
   "outputs": [],
   "source": [
    "curl -v localhost:10000"
   ]
  },
  {
   "cell_type": "markdown",
   "metadata": {},
   "source": [
    "Acessando a interface administrativa"
   ]
  },
  {
   "cell_type": "code",
   "execution_count": null,
   "metadata": {},
   "outputs": [],
   "source": [
    "curl -v localhost:9901"
   ]
  },
  {
   "cell_type": "markdown",
   "metadata": {},
   "source": [
    "Parando o envoy"
   ]
  },
  {
   "cell_type": "code",
   "execution_count": null,
   "metadata": {},
   "outputs": [],
   "source": [
    "docker kill envoy"
   ]
  },
  {
   "cell_type": "markdown",
   "metadata": {},
   "source": [
    "## Entendendo a configuração\n",
    "\n",
    "Configurar o envoy não é uma tarefa simples, há centenas de parâmetros, o Istio simplifica a configuração fazendo a maior parte do trabalho pesado, nas seções futuras iremos dicutir como realizar avaliações de problemas na configuração do Istio ([Debugging Envoy and Istiod](https://istio.io/latest/docs/ops/diagnostic-tools/proxy-cmd/)).\n",
    "\n",
    "Por enquanto vamos entender a configuração que utilizamos para demo.\n",
    "\n",
    "![Envoy demo config](media/envoy-demo-config.png)\n",
    "\n",
    "[envoy-demo.yaml](exemplos/5_envoy/envoy-demo.yaml)\n",
    "\n",
    "A configuração mais simples são as estática (static_resources), nela os recursos são declarados na configuração em oposição a dinâmica (dynamic_resources) onde eles são descobertos. Os principais elementos deste tipo de configuração são `listeners` e `clusters`. \n",
    "Na seção `listeners` são configurados os _frontends_ e na seção `clusters` os _backends_.\n",
    "\n",
    "```yaml\n",
    "static_resources:\n",
    "\n",
    "  listeners:\n",
    "    - name: listener_0\n",
    "      address:\n",
    "        socket_address: { address: 0.0.0.0, port_value: 10000 }\n",
    "      filter_chains:\n",
    "        - filters:\n",
    "            - name: envoy.filters.network.http_connection_manager\n",
    "              typed_config:\n",
    "                \"@type\": type.googleapis.com/envoy.extensions.filters.network.http_connection_manager.v3.HttpConnectionManager\n",
    "                stat_prefix: ingress_http\n",
    "                codec_type: AUTO\n",
    "                route_config:\n",
    "                  name: local_route\n",
    "                  virtual_hosts:\n",
    "                    - name: local_service\n",
    "                      domains: [\"*\"]\n",
    "                      routes:\n",
    "                        - match: { prefix: \"/\" }\n",
    "                          route: { host_rewrite_literal: www.google.com, cluster: service_google }\n",
    "                http_filters:\n",
    "                  - name: envoy.filters.http.router\n",
    "\n",
    "  clusters:\n",
    "    - name: service_google\n",
    "      connect_timeout: 0.25s\n",
    "      type: LOGICAL_DNS\n",
    "      # Comment out the following line to test on v6 networks\n",
    "      dns_lookup_family: V4_ONLY\n",
    "      lb_policy: ROUND_ROBIN\n",
    "      load_assignment:\n",
    "        cluster_name: service_google\n",
    "        endpoints:\n",
    "          - lb_endpoints:\n",
    "              - endpoint:\n",
    "                  address:\n",
    "                    socket_address:\n",
    "                      address: www.google.com\n",
    "                      port_value: 443\n",
    "      transport_socket:\n",
    "        name: envoy.transport_sockets.tls\n",
    "        typed_config:\n",
    "          \"@type\": type.googleapis.com/envoy.extensions.transport_sockets.tls.v3.UpstreamTlsContext\n",
    "          sni: www.google.com\n",
    "\n",
    "admin:\n",
    "  access_log_path: /tmp/admin_access.log\n",
    "  address:\n",
    "    socket_address: { address: 0.0.0.0, port_value: 9901 }\n",
    "````\n",
    "\n",
    "Neste exemplo configuramos o _proxy_ para redirecioanr as chamadas para http://localhost:10000 e encaminhá-las para https://www.google.com, um serviço externo a sua malha, mas poderia ser um serviço interno.\n",
    "\n",
    "### listeners\n",
    "Declaram uma ou mais portas que ouvirão as requisições para os `clusters`. O endereço é um primeiro filtro, limitando as origens que podem acessar esse `listener`.\n",
    "Cada `listener` pode ter um ou mais filtros e cada filtro com suas rotas específicas. Nesse exemplo, há apenas um filtro do tipo [HttpConnectionManager](https://www.envoyproxy.io/docs/envoy/latest/api-v2/config/filter/network/http_connection_manager/v2/http_connection_manager.proto).\n",
    "\n",
    "### routes\n",
    "Especificam quais informações da requisição http devem ser comparadas, neste exemplo, domínio e caminho e determina qual o `cluster` que receberá essa requisição e opcionalmente a modifica (Ex: _rewrite_).\n",
    "\n",
    "### clusters\n",
    "Os clusters são as especificações dos serviços para os quais o Envoy direciona o tráfego.\n",
    "O “Connect_timeout” é o tempo limite tempo para obter uma conexão com o serviço antes de retornar um 503.\n",
    "Normalmente, haverá mais de uma instância do serviço e o envoy oferece suporte a vários algoritmos de balanceamento de carga para rotear o tráfego. Neste exemplo o algoritmos de balanceamento é _round robin_.\n",
    "\n",
    "### endpoints\n",
    "São os endereços de destino, como podemos observar, os `listeners` não se conectam diretamente com os `endpoints`, oo invés, se conectam com o `cluster` que faz o balanceamento para os `endpoints`.\n",
    "\n",
    "### admin\n",
    "A seção `admin` configuram o servidor admin que pode ser usado para visualizar configurações, alterar níveis de registro, visualizar estatísticas, etc."
   ]
  },
  {
   "cell_type": "markdown",
   "metadata": {},
   "source": [
    "## Conclusão\n",
    "\n",
    "Envoy não é o objetivo do curso, mas é importante você entender que o Istio simplifica o seu uso, convertendo suas configurações para configurações do Envoy, no entanto, haverá casos em que você necessitará inspecionar ou ajustar esas configurações e/ou utilizar o Envoy diretamente em seus projetos, então para aprender mais sobre Envoy faça os cursos oficiais [Envoy Proxy, an Open Source Edge and Service Proxy](https://www.katacoda.com/envoyproxy)."
   ]
  }
 ],
 "metadata": {
  "kernelspec": {
   "display_name": "Bash",
   "language": "bash",
   "name": "bash"
  },
  "language_info": {
   "codemirror_mode": "shell",
   "file_extension": ".sh",
   "mimetype": "text/x-sh",
   "name": "bash"
  }
 },
 "nbformat": 4,
 "nbformat_minor": 4
}