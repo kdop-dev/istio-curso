{
 "cells": [
  {
   "cell_type": "markdown",
   "metadata": {},
   "source": [
    "# Visualizando a malha de serviços com Kiali\n",
    "\n",
    "Discutiremos sobre muitas ferramentas durante este curso, mas o [Kiali](https://kiali.io/) é a a ferramenta que ajudará você a entender e administrar sua malha de serviços.\n",
    "\n",
    "Até a versão 1.5, o Kiali e outras ferramentas faziam parte da distribuição do Istio, mas desde a versão 1.6 essas ferramentas devem ser instaladas.\n",
    "\n",
    "Convenientemente o download do Istio, que fizemos na primeira parte, contém essas ferramentas.\n",
    "\n",
    "Mas antes de instalar o Kiali, vamos verificar nosso acesso ao cluster:"
   ]
  },
  {
   "cell_type": "code",
   "execution_count": 1,
   "metadata": {},
   "outputs": [
    {
     "name": "stdout",
     "output_type": "stream",
     "text": [
      "NAME             STATUS   ROLES    AGE     VERSION\n",
      "docker-desktop   Ready    master   4d19h   v1.18.8\n"
     ]
    }
   ],
   "source": [
    "# Configurando o arquivo de credenciais e acesso ao cluster\n",
    "export KUBECONFIG=~/.kube/config\n",
    "# Testando o acesso\n",
    "kubectl get nodes"
   ]
  },
  {
   "cell_type": "markdown",
   "metadata": {},
   "source": [
    "Ok, estamos prontos para continuar, mas se tiver algum problema, consulte \"Acessando o cluster\" na parte 1.\n",
    "\n",
    "Para instalar o Kiali iremos aplicar o arquivo [kiali.yaml](istio-1.7.3/samples/addons/kiali.yaml), mas antes vamos inspecioná-lo, clique no link para abri-lo.\n",
    "\n",
    "O arquivo kiali é composto de alguns recursos, são eles:\n",
    "\n",
    "* CDR\n",
    "* ServiceAccount\n",
    "* ConfigMap\n",
    "* ClusterRole\n",
    "* ClusterRoleBinding\n",
    "* Deployment\n",
    "* Service\n",
    "* MonitoringDashboard\n",
    "\n",
    "Com exceção do `MonitoringDashboard`, todos os demais recursos são do kubernetes e o CRD (Custom Resource Definition) é uma forma de criar novos recursos no kubernetes, neste caso, ele define o `MonitoringDashboard`. Mais sobre kuberntes você pode obter no nosso curso [Kubernetes avançado para iniciantes](TODO), onde abordamos esses temas e muitos outros.\n",
    "\n",
    "Vamos instalar e conhecer o kiali antes de nos aprofundar neste CDR."
   ]
  },
  {
   "cell_type": "markdown",
   "metadata": {},
   "source": [
    "Bug versão 1.7.0 a 1.7.3 - [Istio 1.7.1 unable to install Kiali addon #27417](https://github.com/istio/istio/issues/27417)\n",
    "\n",
    "Necessário aplicar o CRD antes do restante dos recursos."
   ]
  },
  {
   "cell_type": "code",
   "execution_count": 5,
   "metadata": {},
   "outputs": [
    {
     "name": "stdout",
     "output_type": "stream",
     "text": [
      "customresourcedefinition.apiextensions.k8s.io/monitoringdashboards.monitoring.kiali.io created\n"
     ]
    }
   ],
   "source": [
    "cat <<EOF | kubectl apply -f -\n",
    "apiVersion: apiextensions.k8s.io/v1beta1\n",
    "kind: CustomResourceDefinition\n",
    "metadata:\n",
    "  name: monitoringdashboards.monitoring.kiali.io\n",
    "spec:\n",
    "  group: monitoring.kiali.io\n",
    "  names:\n",
    "    kind: MonitoringDashboard\n",
    "    listKind: MonitoringDashboardList\n",
    "    plural: monitoringdashboards\n",
    "    singular: monitoringdashboard\n",
    "  scope: Namespaced\n",
    "  versions:\n",
    "  - name: v1alpha1\n",
    "    served: true\n",
    "    storage: true\n",
    "EOF"
   ]
  },
  {
   "cell_type": "code",
   "execution_count": 6,
   "metadata": {},
   "outputs": [
    {
     "name": "stdout",
     "output_type": "stream",
     "text": [
      "customresourcedefinition.apiextensions.k8s.io/monitoringdashboards.monitoring.kiali.io unchanged\n",
      "serviceaccount/kiali created\n",
      "configmap/kiali created\n",
      "clusterrole.rbac.authorization.k8s.io/kiali-viewer created\n",
      "clusterrole.rbac.authorization.k8s.io/kiali created\n",
      "clusterrolebinding.rbac.authorization.k8s.io/kiali created\n",
      "service/kiali created\n",
      "deployment.apps/kiali created\n",
      "monitoringdashboard.monitoring.kiali.io/envoy created\n",
      "monitoringdashboard.monitoring.kiali.io/go created\n",
      "monitoringdashboard.monitoring.kiali.io/kiali created\n",
      "monitoringdashboard.monitoring.kiali.io/micrometer-1.0.6-jvm-pool created\n",
      "monitoringdashboard.monitoring.kiali.io/micrometer-1.0.6-jvm created\n",
      "monitoringdashboard.monitoring.kiali.io/micrometer-1.1-jvm created\n",
      "monitoringdashboard.monitoring.kiali.io/microprofile-1.1 created\n",
      "monitoringdashboard.monitoring.kiali.io/microprofile-x.y created\n",
      "monitoringdashboard.monitoring.kiali.io/nodejs created\n",
      "monitoringdashboard.monitoring.kiali.io/quarkus created\n",
      "monitoringdashboard.monitoring.kiali.io/springboot-jvm-pool created\n",
      "monitoringdashboard.monitoring.kiali.io/springboot-jvm created\n",
      "monitoringdashboard.monitoring.kiali.io/springboot-tomcat created\n",
      "monitoringdashboard.monitoring.kiali.io/thorntail created\n",
      "monitoringdashboard.monitoring.kiali.io/tomcat created\n",
      "monitoringdashboard.monitoring.kiali.io/vertx-client created\n",
      "monitoringdashboard.monitoring.kiali.io/vertx-eventbus created\n",
      "monitoringdashboard.monitoring.kiali.io/vertx-jvm created\n",
      "monitoringdashboard.monitoring.kiali.io/vertx-pool created\n",
      "monitoringdashboard.monitoring.kiali.io/vertx-server created\n"
     ]
    }
   ],
   "source": [
    "kubectl apply -f istio-1.7.3/samples/addons/kiali.yaml"
   ]
  },
  {
   "cell_type": "markdown",
   "metadata": {},
   "source": [
    "Vamos verificar o que foi instalado."
   ]
  },
  {
   "cell_type": "code",
   "execution_count": 7,
   "metadata": {},
   "outputs": [
    {
     "name": "stdout",
     "output_type": "stream",
     "text": [
      "NAME                         READY   STATUS    RESTARTS   AGE\n",
      "pod/istiod-fb4fbff6b-nvrj4   1/1     Running   0          19m\n",
      "pod/kiali-6c49c7d566-svsnp   1/1     Running   0          71s\n",
      "\n",
      "NAME             TYPE        CLUSTER-IP       EXTERNAL-IP   PORT(S)                                         AGE\n",
      "service/istiod   ClusterIP   10.104.166.242   <none>        15010/TCP,15012/TCP,443/TCP,15014/TCP,853/TCP   19m\n",
      "service/kiali    ClusterIP   10.111.150.66    <none>        20001/TCP,9090/TCP                              71s\n",
      "\n",
      "NAME                     READY   UP-TO-DATE   AVAILABLE   AGE\n",
      "deployment.apps/istiod   1/1     1            1           19m\n",
      "deployment.apps/kiali    1/1     1            1           71s\n",
      "\n",
      "NAME                               DESIRED   CURRENT   READY   AGE\n",
      "replicaset.apps/istiod-fb4fbff6b   1         1         1       19m\n",
      "replicaset.apps/kiali-6c49c7d566   1         1         1       71s\n",
      "\n",
      "NAME                                         REFERENCE           TARGETS         MINPODS   MAXPODS   REPLICAS   AGE\n",
      "horizontalpodautoscaler.autoscaling/istiod   Deployment/istiod   <unknown>/80%   1         5         1          19m\n"
     ]
    }
   ],
   "source": [
    "kubectl get all -n istio-system"
   ]
  },
  {
   "cell_type": "markdown",
   "metadata": {},
   "source": [
    "O serviço do kiali é `ClusterIP`, o que significa que não podemos acessá-lo diretamente de fora do cluster, há algumas alternativas, modificar ou criar um serviço do tipo `NodePort` ou `LoadBalancer`, configurar um `Ingress` ou usar o subcomando `port-forward` do `kubectl`.\n",
    "\n",
    "Porém o istioctl oferece um subcomando conveniente para acessar o kiali:"
   ]
  },
  {
   "cell_type": "code",
   "execution_count": 11,
   "metadata": {},
   "outputs": [
    {
     "name": "stdout",
     "output_type": "stream",
     "text": [
      "http://localhost:20001/kiali\n"
     ]
    }
   ],
   "source": [
    "istioctl dashboard kiali"
   ]
  },
  {
   "cell_type": "markdown",
   "metadata": {},
   "source": [
    "E voilá, você está acessando o dashboard do kiali, mas oferece acesso a outros dashboards.\n",
    "\n",
    "Para interromper tecle <kbd>CTRL</kbd>+<kbd>C</kbd>."
   ]
  },
  {
   "cell_type": "code",
   "execution_count": 12,
   "metadata": {},
   "outputs": [
    {
     "name": "stdout",
     "output_type": "stream",
     "text": [
      "Access to Istio web UIs\n",
      "\n",
      "Usage:\n",
      "  istioctl dashboard [flags]\n",
      "  istioctl dashboard [command]\n",
      "\n",
      "Aliases:\n",
      "  dashboard, dash, d\n",
      "\n",
      "Available Commands:\n",
      "  controlz    Open ControlZ web UI\n",
      "  envoy       Open Envoy admin web UI\n",
      "  grafana     Open Grafana web UI\n",
      "  jaeger      Open Jaeger web UI\n",
      "  kiali       Open Kiali web UI\n",
      "  prometheus  Open Prometheus web UI\n",
      "  zipkin      Open Zipkin web UI\n",
      "\n",
      "Flags:\n",
      "      --address string   Address to listen on. Only accepts IP address or localhost as a value. When localhost is supplied, istioctl will try to bind on both 127.0.0.1 and ::1 and will fail if neither of these address are available to bind. (default \"localhost\")\n",
      "  -h, --help             help for dashboard\n",
      "  -p, --port int         Local port to listen to\n",
      "\n",
      "Global Flags:\n",
      "      --context string          The name of the kubeconfig context to use\n",
      "  -i, --istioNamespace string   Istio system namespace (default \"istio-system\")\n",
      "  -c, --kubeconfig string       Kubernetes configuration file\n",
      "  -n, --namespace string        Config namespace\n",
      "\n",
      "Use \"istioctl dashboard [command] --help\" for more information about a command.\n"
     ]
    }
   ],
   "source": [
    "istioctl dashboard"
   ]
  },
  {
   "cell_type": "markdown",
   "metadata": {},
   "source": [
    "Se você assistiu nosso curso de [Kubernetes avançado para iniciantes](TODO) deve imaginar o que o `istioctl`automatizou, foi o comando `kubectl port-forward` e adicionou um comando de ` open` para abrir a página inicial no navegador.\n",
    "\n",
    "O comando a seguir tem efeito semelhante (sem a parte do navegador)"
   ]
  },
  {
   "cell_type": "code",
   "execution_count": 13,
   "metadata": {},
   "outputs": [
    {
     "name": "stdout",
     "output_type": "stream",
     "text": [
      "Forwarding from 127.0.0.1:20001 -> 20001\n",
      "Forwarding from [::1]:20001 -> 20001\n",
      "Handling connection for 20001\n",
      "Handling connection for 20001\n",
      "Handling connection for 20001\n",
      "Handling connection for 20001\n",
      "Handling connection for 20001\n",
      "Handling connection for 20001\n"
     ]
    }
   ],
   "source": [
    "kubectl port-forward service/kiali 20001:20001 -n istio-system"
   ]
  },
  {
   "cell_type": "markdown",
   "metadata": {},
   "source": [
    "Mesmo resultado, mas não tão elegante. Ficaremos com o `istioctl dashboard <dashboard>` pelo resto do curso.\n",
    "\n",
    "Agora está na hora de explorar alguns recursos do kiali.\n",
    "\n",
    "[video](TODO)"
   ]
  },
  {
   "cell_type": "code",
   "execution_count": 15,
   "metadata": {},
   "outputs": [
    {
     "name": "stdout",
     "output_type": "stream",
     "text": [
      "http://localhost:20001/kiali\n"
     ]
    }
   ],
   "source": [
    "istioctl dashboard kiali"
   ]
  },
  {
   "cell_type": "markdown",
   "metadata": {},
   "source": [
    "Selecione o namespace `default` e navegue pelas páginas. \n",
    "\n",
    "Neste ponto não temos muito, mas na página \"Workload\" há uma informação importante.\n",
    "\n",
    "![](media/kiali-workload1.png)\n",
    "\n",
    "Nossa aplicação não tem dois rótulos importantes para o Istio e para o kiali: `app` e `version`.\n",
    "\n",
    "Vamos adicioná-los ao `deployment` e ao `service` e verificar o que o kiali irá mostrar.\n",
    "\n",
    "Você já usou o comando antes, é o mesmo que colocou o rótulo do istio para injetar o proxy.\n",
    "\n",
    "Vamos interromper o kiali e aplicar os comandos."
   ]
  },
  {
   "cell_type": "code",
   "execution_count": 22,
   "metadata": {},
   "outputs": [
    {
     "name": "stdout",
     "output_type": "stream",
     "text": [
      "error: 'app' already has a value (my-app), and --overwrite is false\n",
      "service/my-app labeled\n",
      "error: 'app' already has a value (my-app), and --overwrite is false\n",
      "deployment.apps/my-app labeled\n"
     ]
    }
   ],
   "source": [
    "kubectl label service/my-app app=my-app\n",
    "kubectl label service/my-app version=1.0\n",
    "\n",
    "kubectl label deployment/my-app app=my-app\n",
    "kubectl label deployment/my-app version=1.0"
   ]
  },
  {
   "cell_type": "markdown",
   "metadata": {},
   "source": [
    "Agora execute o dashboard do kiali novamente, uma dica, você pode adicionar um & na frente do comando e ele ficará executando no plano de fundo."
   ]
  },
  {
   "cell_type": "code",
   "execution_count": 1,
   "metadata": {},
   "outputs": [
    {
     "name": "stdout",
     "output_type": "stream",
     "text": [
      "[1] 87920\n"
     ]
    }
   ],
   "source": [
    "istioctl dashboard kiali &\n",
    "export KIALI_PID=$!"
   ]
  },
  {
   "cell_type": "markdown",
   "metadata": {},
   "source": [
    "Aparentemente o rótulo não foi aplicado ao pod."
   ]
  },
  {
   "cell_type": "code",
   "execution_count": 19,
   "metadata": {},
   "outputs": [
    {
     "name": "stdout",
     "output_type": "stream",
     "text": [
      "NAME                      READY   STATUS    RESTARTS   AGE   LABELS\n",
      "my-app-5fd9474b45-r5rl5   2/2     Running   0          53m   app.kubernetes.io/instance=my-app,app.kubernetes.io/name=my-app,istio.io/rev=default,pod-template-hash=5fd9474b45,security.istio.io/tlsMode=istio,service.istio.io/canonical-name=my-app,service.istio.io/canonical-revision=latest\n"
     ]
    }
   ],
   "source": [
    "kubectl get pods --show-labels"
   ]
  },
  {
   "cell_type": "code",
   "execution_count": 23,
   "metadata": {},
   "outputs": [
    {
     "name": "stdout",
     "output_type": "stream",
     "text": [
      "error: 'app' already has a value (my-app), and --overwrite is false\n",
      "pod/my-app-5fd9474b45-r5rl5 labeled\n"
     ]
    }
   ],
   "source": [
    "kubectl label pod -l app.kubernetes.io/name=my-app app=my-app\n",
    "\n",
    "kubectl label pod -l app.kubernetes.io/name=my-app version=1.0"
   ]
  },
  {
   "cell_type": "markdown",
   "metadata": {},
   "source": [
    "Interessante, usamos o rótulo que já existia para localizar o `pod` que queríamos aplicar outro rótulo. Rótulos são usados extensivamente no kubernetes e no istio, você deveria considerar utiliá-los na suas aplicações.\n",
    "\n",
    "Vamos olhar o kiali agora.\n",
    "\n",
    "Melhor, mas há dois problemas:\n",
    "\n",
    "1. Workload continua indicando que faltam os rótulos\n",
    "2. O gráfico não é exibido, apenas um erro.\n",
    "\n",
    "![](media/kiali-graph-error1.png)"
   ]
  },
  {
   "cell_type": "markdown",
   "metadata": {},
   "source": [
    "O primeiro é fácil, aplicamos o rótulo no `deployment` e não `template` no arquivo `deployment`, isso significa que não terá efeito na criação de novos pods. Precisaremos modificar o `deployment` e recriar os pod.\n",
    "\n",
    "Vamos modificar o _chart_ da nossa aplicação para incluí-los."
   ]
  },
  {
   "cell_type": "markdown",
   "metadata": {},
   "source": [
    "Modificaremos o arquivo [_helpers.tpl](exemplos/my-app/template/_helpers.tpl) e adicionaremos algumas linhas:\n",
    "\n",
    "```yaml\n",
    "app: {{ include \"my-app.name\" . }}\n",
    "version: {{ .Chart.AppVersion | quote }}\n",
    "```\n",
    "\n",
    "a seção completa ficará assim\n",
    "\n",
    "```yaml\n",
    "{{/*\n",
    "Common labels\n",
    "*/}}\n",
    "{{- define \"my-app.labels\" -}}\n",
    "app: {{ include \"my-app.name\" . }}\n",
    "version: {{ .Chart.AppVersion | quote }}\n",
    "app.kubernetes.io/name: {{ include \"my-app.name\" . }}\n",
    "helm.sh/chart: {{ include \"my-app.chart\" . }}\n",
    "app.kubernetes.io/instance: {{ .Release.Name }}\n",
    "{{- if .Chart.AppVersion }}\n",
    "app.kubernetes.io/version: {{ .Chart.AppVersion | quote }}\n",
    "{{- end }}\n",
    "app.kubernetes.io/managed-by: {{ .Release.Service }}\n",
    "{{- end -}}\n",
    "```\n",
    "\n",
    "e o arquivo [deployment.yaml](exemplos/my-app/template/deployment.yaml), na seção `template`, que ficará como abaixo.\n",
    "\n",
    "```bash\n",
    "  template:\n",
    "    metadata:\n",
    "      labels:\n",
    "        app.kubernetes.io/name: {{ include \"my-app.name\" . }}\n",
    "        app.kubernetes.io/instance: {{ .Release.Name }}\n",
    "        app: {{ include \"my-app.name\" . }}\n",
    "        version: {{ .Chart.AppVersion | quote }}\n",
    "```\n",
    "\n",
    "Salve os dois arquivos e vamos atualizar nossa aplicação:"
   ]
  },
  {
   "cell_type": "code",
   "execution_count": 30,
   "metadata": {},
   "outputs": [
    {
     "name": "stdout",
     "output_type": "stream",
     "text": [
      "Error: uninstall: Release not loaded: my-app: release: not found\n",
      "NAME: my-app\n",
      "LAST DEPLOYED: Wed Oct 14 20:04:30 2020\n",
      "NAMESPACE: default\n",
      "STATUS: deployed\n",
      "REVISION: 1\n",
      "NOTES:\n",
      "1. Get the application URL by running these commands:\n",
      "  export POD_NAME=$(kubectl get pods --namespace default -l \"app.kubernetes.io/name=my-app,app.kubernetes.io/instance=my-app\" -o jsonpath=\"{.items[0].metadata.name}\")\n",
      "  echo \"Visit http://127.0.0.1:8080 to use your application\"\n",
      "  kubectl port-forward $POD_NAME 8080:80\n"
     ]
    }
   ],
   "source": [
    "helm delete my-app\n",
    "helm install my-app exemplos/my-app\n",
    "# helm upgrade my-app exemplos/my-app"
   ]
  },
  {
   "cell_type": "markdown",
   "metadata": {},
   "source": [
    "Verificando"
   ]
  },
  {
   "cell_type": "code",
   "execution_count": 33,
   "metadata": {},
   "outputs": [
    {
     "name": "stdout",
     "output_type": "stream",
     "text": [
      "NAME                          READY   STATUS    RESTARTS   AGE\n",
      "pod/my-app-6f67b795c9-hfppc   2/2     Running   0          2m58s\n",
      "\n",
      "NAME             TYPE        CLUSTER-IP       EXTERNAL-IP   PORT(S)   AGE\n",
      "service/my-app   ClusterIP   10.110.103.163   <none>        80/TCP    2m59s\n",
      "\n",
      "NAME                     READY   UP-TO-DATE   AVAILABLE   AGE\n",
      "deployment.apps/my-app   1/1     1            1           2m59s\n",
      "\n",
      "NAME                                DESIRED   CURRENT   READY   AGE\n",
      "replicaset.apps/my-app-6f67b795c9   1         1         1       2m58s\n"
     ]
    }
   ],
   "source": [
    "kubectl get all -l app=my-app -l version=1.0"
   ]
  },
  {
   "cell_type": "markdown",
   "metadata": {},
   "source": [
    "Agora todos os recursos tem os rótulos `app` e `version`\n",
    "\n",
    "O segundo é um pouco mais complicado, o kiali precisa das dados enviados pelo prometheus e nós não instalamos essa aplicação ainda, então vamos lá, faremos da mesma forma que fizemos para o kiali, mas com o arquivo [prometheus,yaml](istio-1.7.3/samples/addons/prometheus.yaml)."
   ]
  },
  {
   "cell_type": "code",
   "execution_count": 24,
   "metadata": {},
   "outputs": [
    {
     "name": "stdout",
     "output_type": "stream",
     "text": [
      "serviceaccount/prometheus created\n",
      "configmap/prometheus created\n",
      "clusterrole.rbac.authorization.k8s.io/prometheus created\n",
      "clusterrolebinding.rbac.authorization.k8s.io/prometheus created\n",
      "service/prometheus created\n",
      "deployment.apps/prometheus created\n"
     ]
    }
   ],
   "source": [
    "kubectl apply -f istio-1.7.3/samples/addons/prometheus.yaml"
   ]
  },
  {
   "cell_type": "markdown",
   "metadata": {},
   "source": [
    "Vamos verificar a instalação."
   ]
  },
  {
   "cell_type": "code",
   "execution_count": 25,
   "metadata": {},
   "outputs": [
    {
     "name": "stdout",
     "output_type": "stream",
     "text": [
      "NAME                             READY   STATUS    RESTARTS   AGE\n",
      "pod/istiod-fb4fbff6b-nvrj4       1/1     Running   0          78m\n",
      "pod/kiali-6c49c7d566-svsnp       1/1     Running   0          59m\n",
      "pod/prometheus-9d5676d95-ck4zw   2/2     Running   0          35s\n",
      "\n",
      "NAME                 TYPE        CLUSTER-IP       EXTERNAL-IP   PORT(S)                                         AGE\n",
      "service/istiod       ClusterIP   10.104.166.242   <none>        15010/TCP,15012/TCP,443/TCP,15014/TCP,853/TCP   78m\n",
      "service/kiali        ClusterIP   10.111.150.66    <none>        20001/TCP,9090/TCP                              59m\n",
      "service/prometheus   ClusterIP   10.99.108.93     <none>        9090/TCP                                        35s\n",
      "\n",
      "NAME                         READY   UP-TO-DATE   AVAILABLE   AGE\n",
      "deployment.apps/istiod       1/1     1            1           78m\n",
      "deployment.apps/kiali        1/1     1            1           59m\n",
      "deployment.apps/prometheus   1/1     1            1           35s\n",
      "\n",
      "NAME                                   DESIRED   CURRENT   READY   AGE\n",
      "replicaset.apps/istiod-fb4fbff6b       1         1         1       78m\n",
      "replicaset.apps/kiali-6c49c7d566       1         1         1       59m\n",
      "replicaset.apps/prometheus-9d5676d95   1         1         1       35s\n",
      "\n",
      "NAME                                         REFERENCE           TARGETS         MINPODS   MAXPODS   REPLICAS   AGE\n",
      "horizontalpodautoscaler.autoscaling/istiod   Deployment/istiod   <unknown>/80%   1         5         1          78m\n"
     ]
    }
   ],
   "source": [
    "kubectl get all -n istio-system"
   ]
  },
  {
   "cell_type": "markdown",
   "metadata": {},
   "source": [
    "Parece tudo OK, vamos olhar no kiali.\n",
    "\n",
    "Muito melhor, adicionando apenas dois rótulos já podemos utilizar o deshboard do kiali e visualizar informações úteis.\n",
    "\n",
    "Mas o kiali não é uma ferramenta estática, uma das suas forças e exibir a relação entre os recursos em tempo de execução. Na próxima parte iremos explorar uma aplicação com uma malha de serviços.\n",
    "\n",
    "Por agora podemos para o dashboard do kiali, para isso precisaremos parar o processo."
   ]
  },
  {
   "cell_type": "code",
   "execution_count": 3,
   "metadata": {},
   "outputs": [
    {
     "name": "stdout",
     "output_type": "stream",
     "text": [
      "bash: kill: (87920) - No such process\n"
     ]
    },
    {
     "ename": "",
     "evalue": "1",
     "output_type": "error",
     "traceback": []
    }
   ],
   "source": [
    "kill $KIALI_PID"
   ]
  }
 ],
 "metadata": {
  "kernelspec": {
   "display_name": "Bash",
   "language": "bash",
   "name": "bash"
  },
  "language_info": {
   "codemirror_mode": "shell",
   "file_extension": ".sh",
   "mimetype": "text/x-sh",
   "name": "bash"
  }
 },
 "nbformat": 4,
 "nbformat_minor": 4
}
