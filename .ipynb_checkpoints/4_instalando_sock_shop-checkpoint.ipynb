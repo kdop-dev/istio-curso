{
 "cells": [
  {
   "cell_type": "markdown",
   "metadata": {},
   "source": [
    "# Instalando a aplicação Sock Shop\n",
    "\n",
    "O Sock Shop é uma loja online que vende meias. Desenvolvida pela [weaveworks](https://www.weave.works/) para demonstrar seu produto [Scope](https://www.weave.works/oss/scope/).\n",
    "\n",
    "O Waeve Scope detecta automaticamente processos, containers, hosts, de forma não intrusiva e se integra com Docker, Kubernetes, DCOS e AWS ECS, exibindo de forma gráfica sua aplicação Ela é um excelete complemento para o kiali, ampliando o entendimento da sua aplicação, mas adicionado a visão do cluster.\n",
    "\n",
    "Ele é construído usando [Spring Boot](http://projects.spring.io/spring-boot/), [Go kit](http://gokit.io)e [Node.js](https://nodejs.org/) e é empacotado em contêineres Docker e seu deploy é via Helm chart.\n",
    "\n",
    "Você pode ler mais sobre o [design do aplicativo](./internal-docs/design.md).\n",
    "\n",
    "## Imagem da tela\n",
    "\n",
    "![Sock Shop frontend](exemplos/microservices-demo-doc/assets/sockshop-frontend.png)"
   ]
  },
  {
   "cell_type": "code",
   "execution_count": 2,
   "metadata": {},
   "outputs": [
    {
     "name": "stdout",
     "output_type": "stream",
     "text": [
      "Cloning into 'exemplos/microservices-demo'...\n",
      "remote: Enumerating objects: 9638, done.        \n",
      "remote: Total 9638 (delta 0), reused 0 (delta 0), pack-reused 9638        \n",
      "Receiving objects: 100% (9638/9638), 52.85 MiB | 4.50 MiB/s, done.\n",
      "Resolving deltas: 100% (5797/5797), done.\n"
     ]
    }
   ],
   "source": [
    "# Aplicação\n",
    "git clone https://github.com/microservices-demo/microservices-demo.git exemplos/microservices-demo"
   ]
  },
  {
   "cell_type": "code",
   "execution_count": 1,
   "metadata": {},
   "outputs": [
    {
     "name": "stdout",
     "output_type": "stream",
     "text": [
      "Cloning into 'exemplos/microservices-demo-doc'...\n",
      "remote: Enumerating objects: 853, done.\u001b[K\n",
      "remote: Total 853 (delta 0), reused 0 (delta 0), pack-reused 853\u001b[K\n",
      "Receiving objects: 100% (853/853), 5.48 MiB | 2.77 MiB/s, done.\n",
      "Resolving deltas: 100% (473/473), done.\n"
     ]
    }
   ],
   "source": [
    "# Documentação\n",
    "git clone https://github.com/microservices-demo/microservices-demo.github.io.git exemplos/microservices-demo-doc"
   ]
  },
  {
   "cell_type": "code",
   "execution_count": null,
   "metadata": {},
   "outputs": [],
   "source": [
    "# Simulador de uso\n",
    "git clone https://github.com/microservices-demo/load-test.git exemplos/load-test"
   ]
  },
  {
   "cell_type": "markdown",
   "metadata": {},
   "source": [
    "## Instalando a aplicação"
   ]
  }
 ],
 "metadata": {
  "kernelspec": {
   "display_name": "Bash",
   "language": "bash",
   "name": "bash"
  },
  "language_info": {
   "codemirror_mode": "shell",
   "file_extension": ".sh",
   "mimetype": "text/x-sh",
   "name": "bash"
  }
 },
 "nbformat": 4,
 "nbformat_minor": 4
}
