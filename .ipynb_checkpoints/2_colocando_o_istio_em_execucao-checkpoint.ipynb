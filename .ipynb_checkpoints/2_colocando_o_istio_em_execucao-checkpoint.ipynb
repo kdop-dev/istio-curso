{
 "cells": [
  {
   "cell_type": "markdown",
   "metadata": {},
   "source": [
    "# 3.5 Colocando o Istio em execução"
   ]
  },
  {
   "cell_type": "markdown",
   "metadata": {},
   "source": [
    "## Instalando o Istio (linux)\n",
    "\n",
    "Para instalar a última versão do Istio, neste momento 1.7.3, você pode ir até a página [Getting Started](https://istio.io/latest/docs/setup/getting-started/#download) ou seguir as instruções abaixo:"
   ]
  },
  {
   "cell_type": "code",
   "execution_count": 1,
   "metadata": {
    "ExecuteTime": {
     "end_time": "2020-10-13T12:13:58.606406Z",
     "start_time": "2020-10-13T12:13:40.694941Z"
    }
   },
   "outputs": [
    {
     "name": "stdout",
     "output_type": "stream",
     "text": [
      "  % Total    % Received % Xferd  Average Speed   Time    Time     Time  Current\n",
      "                                 Dload  Upload   Total   Spent    Left  Speed\n",
      "100   102  100   102    0     0    104      0 --:--:-- --:--:-- --:--:--   104\n",
      "100  4277  100  4277    0     0   3088      0  0:00:01  0:00:01 --:--:--  3088\n",
      "\n",
      "Downloading istio-1.7.3 from https://github.com/istio/istio/releases/download/1.7.3/istio-1.7.3-osx.tar.gz ...\n",
      "Istio 1.7.3 Download Complete!\n",
      "\n",
      "Istio has been successfully downloaded into the istio-1.7.3 folder on your system.\n",
      "\n",
      "Next Steps:\n",
      "See https://istio.io/latest/docs/setup/install/ to add Istio to your Kubernetes cluster.\n",
      "\n",
      "To configure the istioctl client tool for your workstation,\n",
      "add the /Users/anderson/Downloads/tools/istio-curso/istio-1.7.3/bin directory to your environment path variable with:\n",
      "\t export PATH=\"$PATH:/Users/anderson/Downloads/tools/istio-curso/istio-1.7.3/bin\"\n",
      "\n",
      "Begin the Istio pre-installation check by running:\n",
      "\t istioctl x precheck \n",
      "\n",
      "Need more information? Visit https://istio.io/latest/docs/setup/install/ \n"
     ]
    }
   ],
   "source": [
    "curl -L https://istio.io/downloadIstio | sh -"
   ]
  },
  {
   "cell_type": "markdown",
   "metadata": {},
   "source": [
    "Para usar o comando `istioctl`, que está no diretório `bin` do download, coloque-o na variável `PATH` ou copie o arquivo `bin/istioctl` para um diretório no seu `PATH`\n",
    "\n",
    "## Opção 1: Copiar o arquivo para seu diretório de binários"
   ]
  },
  {
   "cell_type": "code",
   "execution_count": null,
   "metadata": {
    "tags": []
   },
   "outputs": [],
   "source": [
    "# Verificar onde está o executável do Istio\n",
    "ls istio-1.7.3/bin\n",
    "# Verificar o conteúdo da variável PATH\n",
    "echo $PATH\n",
    "# Vamos coloca-lo no diretório bin do usuário\n",
    "[ -d \"$HOME/bin\" ] && echo \"O diretorio $HOME/bin existe.\"\n",
    "# Copiar o arquivo para o diretório bin\n",
    "cp istio-1.7.3/bin/istioctl ~/bin\n",
    "# Teste\n",
    "istioctl --help"
   ]
  },
  {
   "cell_type": "markdown",
   "metadata": {},
   "source": [
    "## Opção 2: Definir a variável PATH\n",
    "Você pode copiar o comando em qualquer diretório ou mantê-lo e ajustar a variável `PATH` na sessão."
   ]
  },
  {
   "cell_type": "code",
   "execution_count": 2,
   "metadata": {
    "ExecuteTime": {
     "end_time": "2020-10-14T17:06:42.897636Z",
     "start_time": "2020-10-14T17:06:42.253440Z"
    }
   },
   "outputs": [
    {
     "name": "stdout",
     "output_type": "stream",
     "text": [
      "/Users/anderson/Downloads/tools/istio-curso/istio-1.7.3/bin:/Users/anderson/miniconda3/envs/py3/bin:/Users/anderson/miniconda3/condabin:/Applications/Julia-1.5.app/Contents/Resources/julia/bin:/Users/anderson/.istioctl/bin:/Users/anderson/google-cloud-sdk/bin:/Users/anderson/.krew/bin:/Users/anderson/.jenv/shims:/Users/anderson/.jenv/bin:/usr/local/sbin:/usr/local/bin:/usr/bin:/bin:/usr/sbin:/sbin:/usr/local/go/bin:/usr/local/share/dotnet:/opt/X11/bin:~/.dotnet/tools:/Library/Apple/usr/bin:/Library/Frameworks/Mono.framework/Versions/Current/Commands:/Users/anderson/bin:/Users/anderson/bin/oracle-client:/usr/local/bin:/usr/local/sbin:~/bin:/Users/anderson/.dotnet/tools\n",
      "Istio configuration command line utility for service operators to\n",
      "debug and diagnose their Istio mesh.\n",
      "\n",
      "Usage:\n",
      "  istioctl [command]\n",
      "\n",
      "Available Commands:\n",
      "  analyze         Analyze Istio configuration and print validation messages\n",
      "  authz           (authz is experimental. Use `istioctl experimental authz`)\n",
      "  convert-ingress Convert Ingress configuration into Istio VirtualService configuration\n",
      "  dashboard       Access to Istio web UIs\n",
      "  deregister      De-registers a service instance\n",
      "  experimental    Experimental commands that may be modified or deprecated\n",
      "  help            Help about any command\n",
      "  install         Applies an Istio manifest, installing or reconfiguring Istio on a cluster.\n",
      "  kube-inject     Inject Envoy sidecar into Kubernetes pod resources\n",
      "  manifest        Commands related to Istio manifests\n",
      "  operator        Commands related to Istio operator controller.\n",
      "  profile         Commands related to Istio configuration profiles\n",
      "  proxy-config    Retrieve information about proxy configuration from Envoy [kube only]\n",
      "  proxy-status    Retrieves the synchronization status of each Envoy in the mesh [kube only]\n",
      "  register        Registers a service instance (e.g. VM) joining the mesh\n",
      "  upgrade         Upgrade Istio control plane in-place\n",
      "  validate        Validate Istio policy and rules files\n",
      "  verify-install  Verifies Istio Installation Status\n",
      "  version         Prints out build version information\n",
      "\n",
      "Flags:\n",
      "      --context string          The name of the kubeconfig context to use\n",
      "  -h, --help                    help for istioctl\n",
      "  -i, --istioNamespace string   Istio system namespace (default \"istio-system\")\n",
      "  -c, --kubeconfig string       Kubernetes configuration file\n",
      "  -n, --namespace string        Config namespace\n",
      "\n",
      "Additional help topics:\n",
      "  istioctl options         Displays istioctl global options\n",
      "\n",
      "Use \"istioctl [command] --help\" for more information about a command.\n"
     ]
    }
   ],
   "source": [
    "export PATH=$PWD/istio-1.7.3/bin:$PATH\n",
    "echo $PATH\n",
    "istioctl --help"
   ]
  },
  {
   "cell_type": "markdown",
   "metadata": {},
   "source": [
    "## Acessando o k8s\n",
    "\n",
    "Você já deve ter acessado o cluster em seções anteriores, mas vale a pena revisar:"
   ]
  },
  {
   "cell_type": "code",
   "execution_count": 1,
   "metadata": {
    "ExecuteTime": {
     "end_time": "2020-10-14T17:06:36.590203Z",
     "start_time": "2020-10-14T17:06:34.636568Z"
    }
   },
   "outputs": [
    {
     "name": "stdout",
     "output_type": "stream",
     "text": [
      "CURRENT   NAME                   CLUSTER                AUTHINFO                                                      NAMESPACE\n",
      "          backbone-educacional   backbone-educacional   clusterUser_COGNA_BACKBONE_EDUCACIONAL_backbone-educacional   \n",
      "*         docker-desktop         docker-desktop         docker-desktop                                                \n",
      "NAME             STATUS   ROLES    AGE     VERSION\n",
      "docker-desktop   Ready    master   4d18h   v1.18.8\n"
     ]
    }
   ],
   "source": [
    "export KUBECONFIG=~/.kube/config\n",
    "kubectl config get-contexts\n",
    "kubectl get nodes"
   ]
  },
  {
   "cell_type": "markdown",
   "metadata": {},
   "source": [
    "## O mínimo Istio\n",
    "\n",
    "Desde a versão 1.6 o Istio é composto de uma única entrega chamada `istiod` e ela pode ser instalada com o comando abaix:"
   ]
  },
  {
   "cell_type": "code",
   "execution_count": 10,
   "metadata": {},
   "outputs": [
    {
     "name": "stdout",
     "output_type": "stream",
     "text": [
      "Detected that your cluster does not support third party JWT authentication. Falling back to less secure first party JWT. See https://istio.io/docs/ops/best-practices/security/#configure-third-party-service-account-tokens for details.\n",
      "\u001b[32m✔\u001b[0m Istio core installed                                                          \n",
      "\u001b[32m✔\u001b[0m Istiod installed                                                              \n",
      "\u001b[32m✔\u001b[0m Installation complete                                                         "
     ]
    }
   ],
   "source": [
    "istioctl install --set profile=minimal "
   ]
  },
  {
   "cell_type": "markdown",
   "metadata": {},
   "source": [
    "Vamos verificar o que foi instalado"
   ]
  },
  {
   "cell_type": "code",
   "execution_count": 3,
   "metadata": {
    "ExecuteTime": {
     "end_time": "2020-10-14T16:33:57.203722Z",
     "start_time": "2020-10-14T16:33:56.643171Z"
    }
   },
   "outputs": [
    {
     "name": "stdout",
     "output_type": "stream",
     "text": [
      "NAME              STATUS   AGE\n",
      "default           Active   4d18h\n",
      "istio-system      Active   4d17h\n",
      "kube-node-lease   Active   4d18h\n",
      "kube-public       Active   4d18h\n",
      "kube-system       Active   4d18h\n",
      "NAME                                        READY   STATUS    RESTARTS   AGE\n",
      "pod/istio-ingressgateway-758d8b79bd-sx7bc   1/1     Running   1          4d17h\n",
      "pod/istiod-fb4fbff6b-gfxdk                  1/1     Running   0          94m\n",
      "\n",
      "NAME                           TYPE           CLUSTER-IP     EXTERNAL-IP   PORT(S)                                                                      AGE\n",
      "service/istio-ingressgateway   LoadBalancer   10.106.52.59   localhost     15021:32506/TCP,80:32454/TCP,443:30641/TCP,31400:32385/TCP,15443:31911/TCP   4d17h\n",
      "service/istiod                 ClusterIP      10.103.44.23   <none>        15010/TCP,15012/TCP,443/TCP,15014/TCP,853/TCP                                4d17h\n",
      "\n",
      "NAME                                   READY   UP-TO-DATE   AVAILABLE   AGE\n",
      "deployment.apps/istio-ingressgateway   1/1     1            1           4d17h\n",
      "deployment.apps/istiod                 1/1     1            1           4d17h\n",
      "\n",
      "NAME                                              DESIRED   CURRENT   READY   AGE\n",
      "replicaset.apps/istio-ingressgateway-758d8b79bd   1         1         1       4d17h\n",
      "replicaset.apps/istiod-7556f7fddf                 0         0         0       4d17h\n",
      "replicaset.apps/istiod-fb4fbff6b                  1         1         1       94m\n",
      "\n",
      "NAME                                         REFERENCE           TARGETS         MINPODS   MAXPODS   REPLICAS   AGE\n",
      "horizontalpodautoscaler.autoscaling/istiod   Deployment/istiod   <unknown>/80%   1         5         1          94m\n"
     ]
    }
   ],
   "source": [
    "# Obtendo os namespaces\n",
    "kubectl get ns\n",
    "\n",
    "# Verificando o namespace do Istio\n",
    "kubectl get all -n istio-system"
   ]
  },
  {
   "cell_type": "markdown",
   "metadata": {},
   "source": [
    "## Ativando o Istio em um namespace\n",
    "Para que o Istiod adicione um proxy no mesmo pod que o(s) seu(s) containers, você precisa marcar o namespace da seguinte forma:"
   ]
  },
  {
   "cell_type": "code",
   "execution_count": 4,
   "metadata": {
    "ExecuteTime": {
     "end_time": "2020-10-14T16:34:05.061000Z",
     "start_time": "2020-10-14T16:34:04.855209Z"
    }
   },
   "outputs": [
    {
     "name": "stdout",
     "output_type": "stream",
     "text": [
      "error: 'istio-injection' already has a value (enabled), and --overwrite is false\n"
     ]
    },
    {
     "ename": "",
     "evalue": "1",
     "output_type": "error",
     "traceback": []
    }
   ],
   "source": [
    "kubectl label namespace default istio-injection=enabled"
   ]
  },
  {
   "cell_type": "markdown",
   "metadata": {},
   "source": [
    "Vamos verificar como ficou a configuração do namespace"
   ]
  },
  {
   "cell_type": "code",
   "execution_count": 5,
   "metadata": {
    "ExecuteTime": {
     "end_time": "2020-10-14T16:34:24.512806Z",
     "start_time": "2020-10-14T16:34:24.305603Z"
    }
   },
   "outputs": [
    {
     "name": "stdout",
     "output_type": "stream",
     "text": [
      "Name:         default\n",
      "Labels:       istio-injection=enabled\n",
      "Annotations:  <none>\n",
      "Status:       Active\n",
      "\n",
      "No resource quota.\n",
      "\n",
      "No LimitRange resource.\n"
     ]
    }
   ],
   "source": [
    "kubectl describe ns/default"
   ]
  },
  {
   "cell_type": "markdown",
   "metadata": {},
   "source": [
    "O `istiod` irá monitorar os namespaces com esse `label` e adicionar ao pod um container de proxy. Vamos fazer deploy de uma aplicação exemplo para verificar esse comportamento."
   ]
  },
  {
   "cell_type": "markdown",
   "metadata": {},
   "source": [
    "## Criando uma aplicação demo\n",
    "\n",
    "Vamos utilizar o helm para criar uma aplicação simples."
   ]
  },
  {
   "cell_type": "code",
   "execution_count": 11,
   "metadata": {
    "ExecuteTime": {
     "end_time": "2020-10-14T16:47:28.499639Z",
     "start_time": "2020-10-14T16:47:28.003812Z"
    }
   },
   "outputs": [
    {
     "name": "stdout",
     "output_type": "stream",
     "text": [
      "Creating exemplos/my-app\n"
     ]
    }
   ],
   "source": [
    "# Vamos criar um diretório para nossos exemplos\n",
    "mkdir -p exemplos\n",
    "\n",
    "# Vamos criar uma aplicação\n",
    "helm create exemplos/my-app"
   ]
  },
  {
   "cell_type": "code",
   "execution_count": null,
   "metadata": {},
   "outputs": [],
   "source": [
    "Essa aplicação é um modelo para entrega de aplicações usando o `helm`, vamos entender o que ela faz:"
   ]
  },
  {
   "cell_type": "code",
   "execution_count": 15,
   "metadata": {
    "ExecuteTime": {
     "end_time": "2020-10-14T16:59:28.248285Z",
     "start_time": "2020-10-14T16:59:28.131448Z"
    }
   },
   "outputs": [
    {
     "name": "stdout",
     "output_type": "stream",
     "text": [
      "total 24\n",
      "drwxr-xr-x  7 anderson  staff   224 Oct 14 13:47 .\n",
      "drwxr-xr-x  3 anderson  staff    96 Oct 14 13:47 ..\n",
      "-rw-r--r--  1 anderson  staff   342 Oct 14 13:47 .helmignore\n",
      "-rw-r--r--  1 anderson  staff   102 Oct 14 13:47 Chart.yaml\n",
      "drwxr-xr-x  2 anderson  staff    64 Oct 14 13:47 charts\n",
      "drwxr-xr-x  9 anderson  staff   288 Oct 14 13:47 templates\n",
      "-rw-r--r--  1 anderson  staff  1504 Oct 14 13:47 values.yaml\n"
     ]
    }
   ],
   "source": [
    "ls -la exemplos/my-app"
   ]
  },
  {
   "cell_type": "markdown",
   "metadata": {
    "ExecuteTime": {
     "end_time": "2020-10-14T17:02:59.537962Z",
     "start_time": "2020-10-14T17:02:59.410733Z"
    }
   },
   "source": [
    "Inspecione os arquivos e tente descobrir o que será instalado no cluster, uma dica, olhe os arquivos na pasta `templates` e os valores no arquivo `values.yaml`.\n",
    "\n",
    "Vamos instalá-la."
   ]
  },
  {
   "cell_type": "code",
   "execution_count": 6,
   "metadata": {
    "ExecuteTime": {
     "end_time": "2020-10-14T17:07:38.718210Z",
     "start_time": "2020-10-14T17:07:37.389852Z"
    }
   },
   "outputs": [
    {
     "name": "stdout",
     "output_type": "stream",
     "text": [
      "NAME: my-app\n",
      "LAST DEPLOYED: Wed Oct 14 14:07:38 2020\n",
      "NAMESPACE: default\n",
      "STATUS: deployed\n",
      "REVISION: 1\n",
      "NOTES:\n",
      "1. Get the application URL by running these commands:\n",
      "  export POD_NAME=$(kubectl get pods --namespace default -l \"app.kubernetes.io/name=my-app,app.kubernetes.io/instance=my-app\" -o jsonpath=\"{.items[0].metadata.name}\")\n",
      "  echo \"Visit http://127.0.0.1:8080 to use your application\"\n",
      "  kubectl port-forward $POD_NAME 8080:80\n"
     ]
    }
   ],
   "source": [
    "helm install my-app exemplos/my-app"
   ]
  },
  {
   "cell_type": "markdown",
   "metadata": {},
   "source": [
    "Verificando o que foi instalado."
   ]
  },
  {
   "cell_type": "code",
   "execution_count": 8,
   "metadata": {
    "ExecuteTime": {
     "end_time": "2020-10-14T17:10:37.717671Z",
     "start_time": "2020-10-14T17:10:37.313032Z"
    }
   },
   "outputs": [
    {
     "name": "stdout",
     "output_type": "stream",
     "text": [
      "NAME                          READY   STATUS    RESTARTS   AGE     LABELS\n",
      "pod/my-app-5fd9474b45-nzq6f   2/2     Running   0          2m58s   app.kubernetes.io/instance=my-app,app.kubernetes.io/name=my-app,istio.io/rev=default,pod-template-hash=5fd9474b45,security.istio.io/tlsMode=istio,service.istio.io/canonical-name=my-app,service.istio.io/canonical-revision=latest\n",
      "\n",
      "NAME                 TYPE        CLUSTER-IP      EXTERNAL-IP   PORT(S)   AGE     LABELS\n",
      "service/kubernetes   ClusterIP   10.96.0.1       <none>        443/TCP   4d18h   component=apiserver,provider=kubernetes\n",
      "service/my-app       ClusterIP   10.104.149.88   <none>        80/TCP    2m59s   app.kubernetes.io/instance=my-app,app.kubernetes.io/managed-by=Helm,app.kubernetes.io/name=my-app,app.kubernetes.io/version=1.0,helm.sh/chart=my-app-0.1.0\n",
      "\n",
      "NAME                     READY   UP-TO-DATE   AVAILABLE   AGE     LABELS\n",
      "deployment.apps/my-app   1/1     1            1           2m59s   app.kubernetes.io/instance=my-app,app.kubernetes.io/managed-by=Helm,app.kubernetes.io/name=my-app,app.kubernetes.io/version=1.0,helm.sh/chart=my-app-0.1.0\n",
      "\n",
      "NAME                                DESIRED   CURRENT   READY   AGE     LABELS\n",
      "replicaset.apps/my-app-5fd9474b45   1         1         1       2m59s   app.kubernetes.io/instance=my-app,app.kubernetes.io/name=my-app,pod-template-hash=5fd9474b45\n"
     ]
    }
   ],
   "source": [
    "kubectl get --show-labels all"
   ]
  },
  {
   "cell_type": "markdown",
   "metadata": {},
   "source": [
    "Note que o pod/my-app tem 2/2 na coluna pronto (Ready), isso significa que dois containers de dois estão ok, vamos verificar quem é o segundo container."
   ]
  },
  {
   "cell_type": "code",
   "execution_count": 9,
   "metadata": {
    "ExecuteTime": {
     "end_time": "2020-10-14T17:27:21.777610Z",
     "start_time": "2020-10-14T17:27:20.317304Z"
    }
   },
   "outputs": [
    {
     "name": "stdout",
     "output_type": "stream",
     "text": [
      "Name:         my-app-5fd9474b45-nzq6f\n",
      "Namespace:    default\n",
      "Priority:     0\n",
      "Node:         docker-desktop/192.168.65.3\n",
      "Start Time:   Wed, 14 Oct 2020 14:07:39 -0300\n",
      "Labels:       app.kubernetes.io/instance=my-app\n",
      "              app.kubernetes.io/name=my-app\n",
      "              istio.io/rev=default\n",
      "              pod-template-hash=5fd9474b45\n",
      "              security.istio.io/tlsMode=istio\n",
      "              service.istio.io/canonical-name=my-app\n",
      "              service.istio.io/canonical-revision=latest\n",
      "Annotations:  prometheus.io/path: /stats/prometheus\n",
      "              prometheus.io/port: 15020\n",
      "              prometheus.io/scrape: true\n",
      "              sidecar.istio.io/status:\n",
      "                {\"version\":\"8e6e902b765af607513b28d284940ee1421e9a0d07698741693b2663c7161c11\",\"initContainers\":[\"istio-init\"],\"containers\":[\"istio-proxy\"]...\n",
      "Status:       Running\n",
      "IP:           10.1.0.17\n",
      "IPs:\n",
      "  IP:           10.1.0.17\n",
      "Controlled By:  ReplicaSet/my-app-5fd9474b45\n",
      "Init Containers:\n",
      "  istio-init:\n",
      "    Container ID:  docker://4d37641bb4984712b9d8337c6c4e72c0ed9859cdf27138ac608d48b351832630\n",
      "    Image:         docker.io/istio/proxyv2:1.7.3\n",
      "    Image ID:      docker-pullable://istio/proxyv2@sha256:6169d096fe60f128f1311f76c97ee1c3e5d760a45042d5c9182492745d34c658\n",
      "    Port:          <none>\n",
      "    Host Port:     <none>\n",
      "    Args:\n",
      "      istio-iptables\n",
      "      -p\n",
      "      15001\n",
      "      -z\n",
      "      15006\n",
      "      -u\n",
      "      1337\n",
      "      -m\n",
      "      REDIRECT\n",
      "      -i\n",
      "      *\n",
      "      -x\n",
      "      \n",
      "      -b\n",
      "      *\n",
      "      -d\n",
      "      15090,15021,15020\n",
      "    State:          Terminated\n",
      "      Reason:       Completed\n",
      "      Exit Code:    0\n",
      "      Started:      Wed, 14 Oct 2020 14:07:44 -0300\n",
      "      Finished:     Wed, 14 Oct 2020 14:07:44 -0300\n",
      "    Ready:          True\n",
      "    Restart Count:  0\n",
      "    Limits:\n",
      "      cpu:     2\n",
      "      memory:  1Gi\n",
      "    Requests:\n",
      "      cpu:     10m\n",
      "      memory:  10Mi\n",
      "    Environment:\n",
      "      DNS_AGENT:  \n",
      "    Mounts:\n",
      "      /var/run/secrets/kubernetes.io/serviceaccount from my-app-token-cnf7g (ro)\n",
      "Containers:\n",
      "  my-app:\n",
      "    Container ID:   docker://8b8c905b4fb310cf937cd30374c7f843e4f674936faa52d32bd88a4a8fba40bb\n",
      "    Image:          nginx:stable\n",
      "    Image ID:       docker-pullable://nginx@sha256:6e4fc428f9f25f1914e43dc2e75ff3be574141734509111282a3a050a420d94c\n",
      "    Port:           80/TCP\n",
      "    Host Port:      0/TCP\n",
      "    State:          Running\n",
      "      Started:      Wed, 14 Oct 2020 14:07:56 -0300\n",
      "    Ready:          True\n",
      "    Restart Count:  0\n",
      "    Liveness:       http-get http://:15020/app-health/my-app/livez delay=0s timeout=1s period=10s #success=1 #failure=3\n",
      "    Readiness:      http-get http://:15020/app-health/my-app/readyz delay=0s timeout=1s period=10s #success=1 #failure=3\n",
      "    Environment:    <none>\n",
      "    Mounts:\n",
      "      /var/run/secrets/kubernetes.io/serviceaccount from my-app-token-cnf7g (ro)\n",
      "  istio-proxy:\n",
      "    Container ID:  docker://1a46e5a49e993a293204a4a07daaa8b72b99ac3f9222037916706bf05218fdbc\n",
      "    Image:         docker.io/istio/proxyv2:1.7.3\n",
      "    Image ID:      docker-pullable://istio/proxyv2@sha256:6169d096fe60f128f1311f76c97ee1c3e5d760a45042d5c9182492745d34c658\n",
      "    Port:          15090/TCP\n",
      "    Host Port:     0/TCP\n",
      "    Args:\n",
      "      proxy\n",
      "      sidecar\n",
      "      --domain\n",
      "      $(POD_NAMESPACE).svc.cluster.local\n",
      "      --serviceCluster\n",
      "      my-app.default\n",
      "      --proxyLogLevel=warning\n",
      "      --proxyComponentLogLevel=misc:error\n",
      "      --trust-domain=cluster.local\n",
      "      --concurrency\n",
      "      2\n",
      "    State:          Running\n",
      "      Started:      Wed, 14 Oct 2020 14:07:59 -0300\n",
      "    Ready:          True\n",
      "    Restart Count:  0\n",
      "    Limits:\n",
      "      cpu:     2\n",
      "      memory:  1Gi\n",
      "    Requests:\n",
      "      cpu:      100m\n",
      "      memory:   128Mi\n",
      "    Readiness:  http-get http://:15021/healthz/ready delay=1s timeout=1s period=2s #success=1 #failure=30\n",
      "    Environment:\n",
      "      JWT_POLICY:                    first-party-jwt\n",
      "      PILOT_CERT_PROVIDER:           istiod\n",
      "      CA_ADDR:                       istiod.istio-system.svc:15012\n",
      "      POD_NAME:                      my-app-5fd9474b45-nzq6f (v1:metadata.name)\n",
      "      POD_NAMESPACE:                 default (v1:metadata.namespace)\n",
      "      INSTANCE_IP:                    (v1:status.podIP)\n",
      "      SERVICE_ACCOUNT:                (v1:spec.serviceAccountName)\n",
      "      HOST_IP:                        (v1:status.hostIP)\n",
      "      CANONICAL_SERVICE:              (v1:metadata.labels['service.istio.io/canonical-name'])\n",
      "      CANONICAL_REVISION:             (v1:metadata.labels['service.istio.io/canonical-revision'])\n",
      "      PROXY_CONFIG:                  {\"proxyMetadata\":{\"DNS_AGENT\":\"\"}}\n",
      "                                     \n",
      "      ISTIO_META_POD_PORTS:          [\n",
      "                                         {\"name\":\"http\",\"containerPort\":80,\"protocol\":\"TCP\"}\n",
      "                                     ]\n",
      "      ISTIO_META_APP_CONTAINERS:     my-app\n",
      "      ISTIO_META_CLUSTER_ID:         Kubernetes\n",
      "      ISTIO_META_INTERCEPTION_MODE:  REDIRECT\n",
      "      ISTIO_META_WORKLOAD_NAME:      my-app\n",
      "      ISTIO_META_OWNER:              kubernetes://apis/apps/v1/namespaces/default/deployments/my-app\n",
      "      ISTIO_META_MESH_ID:            cluster.local\n",
      "      DNS_AGENT:                     \n",
      "      ISTIO_KUBE_APP_PROBERS:        {\"/app-health/my-app/livez\":{\"httpGet\":{\"path\":\"/\",\"port\":80,\"scheme\":\"HTTP\"},\"timeoutSeconds\":1},\"/app-health/my-app/readyz\":{\"httpGet\":{\"path\":\"/\",\"port\":80,\"scheme\":\"HTTP\"},\"timeoutSeconds\":1}}\n",
      "    Mounts:\n",
      "      /etc/istio/pod from istio-podinfo (rw)\n",
      "      /etc/istio/proxy from istio-envoy (rw)\n",
      "      /var/lib/istio/data from istio-data (rw)\n",
      "      /var/run/secrets/istio from istiod-ca-cert (rw)\n",
      "      /var/run/secrets/kubernetes.io/serviceaccount from my-app-token-cnf7g (ro)\n",
      "Conditions:\n",
      "  Type              Status\n",
      "  Initialized       True \n",
      "  Ready             True \n",
      "  ContainersReady   True \n",
      "  PodScheduled      True \n",
      "Volumes:\n",
      "  my-app-token-cnf7g:\n",
      "    Type:        Secret (a volume populated by a Secret)\n",
      "    SecretName:  my-app-token-cnf7g\n",
      "    Optional:    false\n",
      "  istio-envoy:\n",
      "    Type:       EmptyDir (a temporary directory that shares a pod's lifetime)\n",
      "    Medium:     Memory\n",
      "    SizeLimit:  <unset>\n",
      "  istio-data:\n",
      "    Type:       EmptyDir (a temporary directory that shares a pod's lifetime)\n",
      "    Medium:     \n",
      "    SizeLimit:  <unset>\n",
      "  istio-podinfo:\n",
      "    Type:  DownwardAPI (a volume populated by information about the pod)\n",
      "    Items:\n",
      "      metadata.labels -> labels\n",
      "      metadata.annotations -> annotations\n",
      "  istiod-ca-cert:\n",
      "    Type:        ConfigMap (a volume populated by a ConfigMap)\n",
      "    Name:        istio-ca-root-cert\n",
      "    Optional:    false\n",
      "QoS Class:       Burstable\n",
      "Node-Selectors:  <none>\n",
      "Tolerations:     node.kubernetes.io/not-ready:NoExecute for 300s\n",
      "                 node.kubernetes.io/unreachable:NoExecute for 300s\n",
      "Events:\n",
      "  Type    Reason     Age        From                     Message\n",
      "  ----    ------     ----       ----                     -------\n",
      "  Normal  Scheduled  <unknown>  default-scheduler        Successfully assigned default/my-app-5fd9474b45-nzq6f to docker-desktop\n",
      "  Normal  Pulling    19m        kubelet, docker-desktop  Pulling image \"docker.io/istio/proxyv2:1.7.3\"\n",
      "  Normal  Pulled     19m        kubelet, docker-desktop  Successfully pulled image \"docker.io/istio/proxyv2:1.7.3\"\n",
      "  Normal  Created    19m        kubelet, docker-desktop  Created container istio-init\n",
      "  Normal  Started    19m        kubelet, docker-desktop  Started container istio-init\n",
      "  Normal  Pulling    19m        kubelet, docker-desktop  Pulling image \"nginx:stable\"\n",
      "  Normal  Pulled     19m        kubelet, docker-desktop  Successfully pulled image \"nginx:stable\"\n",
      "  Normal  Created    19m        kubelet, docker-desktop  Created container my-app\n",
      "  Normal  Started    19m        kubelet, docker-desktop  Started container my-app\n",
      "  Normal  Pulling    19m        kubelet, docker-desktop  Pulling image \"docker.io/istio/proxyv2:1.7.3\"\n",
      "  Normal  Pulled     19m        kubelet, docker-desktop  Successfully pulled image \"docker.io/istio/proxyv2:1.7.3\"\n",
      "  Normal  Created    19m        kubelet, docker-desktop  Created container istio-proxy\n",
      "  Normal  Started    19m        kubelet, docker-desktop  Started container istio-proxy\n"
     ]
    }
   ],
   "source": [
    "# Usaremos um dos labels do pod para encontra-lo\n",
    "kubectl describe pod -l app.kubernetes.io/name=my-app"
   ]
  },
  {
   "cell_type": "markdown",
   "metadata": {},
   "source": [
    "É uma grande quantidade de informação, vamos procurar uma seção chamada `Containers` e nela a nossa aplicação `my-app`.\n",
    "\n",
    "Como você pode ver, a imagem desse container é `nginx`, com a tag `stable`, mais abaixo terá um segundo container `istio-proxy`, com a imagem `docker.io/istio/proxyv2` e tag representando a versão `1.7.3`.\n",
    "\n",
    "Esse container não faz parte do [exemplos/my-app/templates/deployment.yaml](exemplos/my-app/templates/deployment.yaml), ele foi adicionado ao seu pod pelo `istiod`."
   ]
  },
  {
   "cell_type": "markdown",
   "metadata": {},
   "source": [
    "Caso você precise saber todos os namespaces que tem o Istio ativado, basta executar o comando:"
   ]
  },
  {
   "cell_type": "code",
   "execution_count": 6,
   "metadata": {
    "ExecuteTime": {
     "end_time": "2020-10-14T16:40:47.392310Z",
     "start_time": "2020-10-14T16:40:47.046643Z"
    }
   },
   "outputs": [
    {
     "name": "stdout",
     "output_type": "stream",
     "text": [
      "NAME      STATUS   AGE\n",
      "default   Active   4d18h\n"
     ]
    }
   ],
   "source": [
    "kubectl get ns -l istio-injection=enabled"
   ]
  },
  {
   "cell_type": "markdown",
   "metadata": {},
   "source": [
    "Até o momento, somente o namespace `default`, onde configuramos a marcação, retornou."
   ]
  },
  {
   "cell_type": "markdown",
   "metadata": {},
   "source": [
    "## Conclusão\n",
    "\n",
    "Neste ponto temos o mínimo do Istio em execução no nosso cluster, mas com exceção de um container extra isso não significa muito.\n",
    "\n",
    "Na próxima parte iremos explorar os recursos que esta instalação mínima do Istio pode oferecer."
   ]
  }
 ],
 "metadata": {
  "hide_input": false,
  "kernelspec": {
   "display_name": "Bash",
   "language": "bash",
   "name": "bash"
  },
  "language_info": {
   "codemirror_mode": "shell",
   "file_extension": ".sh",
   "mimetype": "text/x-sh",
   "name": "bash"
  },
  "toc": {
   "base_numbering": 1,
   "nav_menu": {},
   "number_sections": true,
   "sideBar": true,
   "skip_h1_title": false,
   "title_cell": "Table of Contents",
   "title_sidebar": "Contents",
   "toc_cell": false,
   "toc_position": {},
   "toc_section_display": true,
   "toc_window_display": false
  },
  "varInspector": {
   "cols": {
    "lenName": 16,
    "lenType": 16,
    "lenVar": 40
   },
   "kernels_config": {
    "python": {
     "delete_cmd_postfix": "",
     "delete_cmd_prefix": "del ",
     "library": "var_list.py",
     "varRefreshCmd": "print(var_dic_list())"
    },
    "r": {
     "delete_cmd_postfix": ") ",
     "delete_cmd_prefix": "rm(",
     "library": "var_list.r",
     "varRefreshCmd": "cat(var_dic_list()) "
    }
   },
   "types_to_exclude": [
    "module",
    "function",
    "builtin_function_or_method",
    "instance",
    "_Feature"
   ],
   "window_display": false
  }
 },
 "nbformat": 4,
 "nbformat_minor": 4
}
