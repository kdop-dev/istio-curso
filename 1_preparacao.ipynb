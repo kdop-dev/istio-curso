{
 "cells": [
  {
   "cell_type": "markdown",
   "metadata": {},
   "source": [
    "# Instalando docker-engine e docker-desktop\n",
    "\n",
    "Ref: [Docker Desktop overview](https://docs.docker.com/desktop/)\n",
    "\n",
    "Você precisará de um cluster de kubernetes para realizar os labs, a forma mais simples é utilizar o kubernetes que acompanha o docker-desktop, porém, se estiver acompanhando este curso em Linux, não há ainda um docker-desktop e as opçoes estão listadas abaixo."
   ]
  },
  {
   "cell_type": "markdown",
   "metadata": {},
   "source": [
    "## Linux\n",
    "\n",
    "Ref: [Install Docker Engine](https://docs.docker.com/engine/install/)"
   ]
  },
  {
   "cell_type": "markdown",
   "metadata": {},
   "source": [
    "## Mac\n",
    "\n",
    "Você precisará aumentar os recursos de CPU e memória disponíveis para o docker, ajuste-os em configurações e, dependendo o seu hardware, habilite o máximo uso de CPU e pelo menos 4GB de memória.\n",
    "\n",
    "Ref: [Install Docker Desktop on Mac](https://docs.docker.com/docker-for-mac/install/)"
   ]
  },
  {
   "cell_type": "markdown",
   "metadata": {},
   "source": [
    "## Windows\n",
    "\n",
    "Se você estiver utilizando o docker-desktop com WSL2 não é necessário aumentar os recursos, porém, se estiver utilizando com máquina virtual, nas configurações incremente a CPU para o máximo e memória para pelo menos 4GB. \n",
    "\n",
    "Ref: [Install Docker Desktop on Windows](https://docs.docker.com/docker-for-windows/install/)"
   ]
  },
  {
   "cell_type": "markdown",
   "metadata": {},
   "source": [
    "## Todos\n",
    "\n",
    "Você pode optar por não usar o kubernetes que acompanha o docker-desktop, ou no caso do linux precisará instalar o kuberentes.\n",
    "\n",
    "A seguir algumas opções com baixo consumo de recursos da sua máquina.\n",
    "\n",
    "* [rke](https://rancher.com/products/rke/)\n",
    "* [minikube](https://minikube.sigs.k8s.io/docs/start/)\n",
    "* [microk8s](https://microk8s.io/)\n",
    "\n",
    "Caso você tenha acesso a alguma nuvem, poderá utilizar um cluster de kuberentes como o GKE, AKS ou EKS, mas fique ciente que eles terão custo. Uma outra alternativa é utilizar a infraestrutura do [Katacoda](https://www.katacoda.com/), este curso [Olá K8s v1.08](https://www.katacoda.com/adsantos/courses/k8s/k8s-hello) é uma introdução ao kuberentes e você terá um cluster de kuberentes operacional por algumas horas. Em breve teremos uma versão deste curso nesta plataforma."
   ]
  },
  {
   "source": [],
   "cell_type": "markdown",
   "metadata": {}
  }
 ],
 "metadata": {
  "hide_input": false,
  "kernelspec": {
   "display_name": "Bash",
   "language": "bash",
   "name": "bash"
  },
  "language_info": {
   "codemirror_mode": "shell",
   "file_extension": ".sh",
   "mimetype": "text/x-sh",
   "name": "bash"
  },
  "toc": {
   "base_numbering": 1,
   "nav_menu": {},
   "number_sections": true,
   "sideBar": true,
   "skip_h1_title": false,
   "title_cell": "Table of Contents",
   "title_sidebar": "Contents",
   "toc_cell": false,
   "toc_position": {},
   "toc_section_display": true,
   "toc_window_display": false
  },
  "varInspector": {
   "cols": {
    "lenName": 16,
    "lenType": 16,
    "lenVar": 40
   },
   "kernels_config": {
    "python": {
     "delete_cmd_postfix": "",
     "delete_cmd_prefix": "del ",
     "library": "var_list.py",
     "varRefreshCmd": "print(var_dic_list())"
    },
    "r": {
     "delete_cmd_postfix": ") ",
     "delete_cmd_prefix": "rm(",
     "library": "var_list.r",
     "varRefreshCmd": "cat(var_dic_list()) "
    }
   },
   "types_to_exclude": [
    "module",
    "function",
    "builtin_function_or_method",
    "instance",
    "_Feature"
   ],
   "window_display": false
  }
 },
 "nbformat": 4,
 "nbformat_minor": 4
}