{
 "cells": [
  {
   "cell_type": "markdown",
   "metadata": {},
   "source": [
    "# Bem vindo ao Istio Avançado para Iniciantes\n",
    "\n",
    "!! EM DESENVOLVIMENTO !!\n",
    "\n",
    "## Sobre este curso\n",
    "\n",
    "Neste curso você aprenderá os conceitos e práticas básicas e avançadas para Istio. \"Olá Mundo!\" será a forma de introduzi-lo aos temas, mas o objetivo será a \"Dominiação Mundial!!\"."
   ]
  },
  {
   "cell_type": "markdown",
   "metadata": {},
   "source": [
    "## Requerimentos\n",
    "\n",
    "* Compreenda o Kubernetes padrão\n",
    "* Familiarize-se com pods, implantações e serviços do Kubernetes\n",
    "* Ser capaz de executar um ambiente Kubernetes, como Minikube ou docker-Desktop\n",
    "* Será necessário aumentar o uso de recursos para o minikube ou docker-desktop, portanto, uma computador com mínimo de 8 gb (laptop / desktop) é necessária\n",
    "* TODO: Alternativas para executar o LAB"
   ]
  },
  {
   "cell_type": "markdown",
   "metadata": {},
   "source": [
    "## Descrição\n",
    "\n",
    "Atualizado para o Istio 1.7\n",
    "\n",
    "O Istio é um dos frameworks mais comentados nos últimos anos! Se você já trabalhou com o Kubernetes antes, convém aprender o Istio! Com este curso prático e prático, você poderá ganhar experiência na execução de suas próprias malhas de serviço do Istio.\n",
    "\n",
    "![TODO](media/istio-big-picture.png)\n",
    "\n",
    "Este curso foi projetado para ser claro e compreensível - e divertido! Mas também entraremos em detalhes - você aprenderá como usar o Istio em cenários de produção reais - e verá o funcionamento interno do Istio.\n",
    "\n",
    "Você pode executar este curso em seu próprio computador, usando o Minikube (8 Gb de Host Ram necessário) - você não precisa de um provedor de nuvem, embora também possa executar o curso lá - em qualquer lugar onde possa executar o Kubernetes!\n",
    "\n",
    "Depois de uma breve conversa sobre o que é o Istio, vamos direto para uma demonstração prática, onde você verá como o Istio pode resolver problemas difíceis em projetos ativos.\n",
    "\n",
    "Você aprendrá em detalhes:\n",
    "\n",
    "* Gestão de tráfego\n",
    "* Telemetria\n",
    "* Visualização (com Kiali)\n",
    "* Rastreamento distribuído (com Jaeger)\n",
    "* Usando Grafana para monitorar o tráfego de rede\n",
    "* Como implantar versões canário\n",
    "* Como fazer \"Dark Releases\"\n",
    "* Istio VirtualServices and DestinationRules\n",
    "* Balanceamento de carga e afinidade de sessão\n",
    "* Istio Gateways\n",
    "* Teste de resiliência com injeção de falha\n",
    "* Detecção de quebra de circuito / outlier\n",
    "* Protegendo o tráfego do cluster com Mutual TLS (mTLS)\n",
    "\n",
    "A curva de aprendizado do Istio é relativamente íngreme - por isso projetamos este curso para ser o mais claro e compreensível possível e espero que com as demonstrações práticas você também se divirta ao longo do caminho.  Mas, acima de tudo, o Istio é uma ferramenta extremamente poderosa e um ótimo complemento para o seu currículo!"
   ]
  },
  {
   "cell_type": "markdown",
   "metadata": {},
   "source": [
    "## Sobre os autores\n",
    "\n",
    "[Anderson Santos](https://www.linkedin.com/in/adsantos/) - Desenvolvedor com mais de trinta anos experiência em diversos setores sendo os últimos dez anos em telecomunicações e educação. Desde 1998 auxilía seus clientes na tomada de decisão, implantação e operação de processos, arquiteturas e tecnologias para o desenvolvimento e modernização de software em núvens híbridas e de oferta pública.\n",
    "\n",
    "[Leonardo Osse](https://www.linkedin.com/in/leonardo-osse-a4423128/) é desenvolvedor com larga experiência com nuvem AWS e Azure. Tem trabalhdo no auxilio e formação técnica de equipes ágeis no setor de educação.\n",
    "\n",
    "[Daniel Ribeiro](https://www.linkedin.com/in/daniel-ribeiros/) é engenheiro de DevOps, especialista em Azure com mais de 20 anos de experiência/atuação na área onde atualmente atuo como Especialista em Sistemas Cloud Computing apoiando os times de desenvolvimento na elaboração de projetos, utilização dos componentes que melhor atendem os sistemas e automatizando infraestrutura como código (IaC)."
   ]
  },
  {
   "cell_type": "markdown",
   "metadata": {},
   "source": [
    "## A quem se destina este curso\n",
    "\n",
    "Qualquer desenvolvedor do Kubernetes que deseja aprender o que o Istio pode fazer por eles\n",
    "\n",
    "Qualquer pessoa que já tentou entender o Istio, mas teve dificuldades com a documentação"
   ]
  },
  {
   "cell_type": "markdown",
   "metadata": {},
   "source": [
    "## Por que é de graça?\n",
    "\n",
    "Nós trabalhamos em tempo integral para grandes empresas, onde temos a oportunidade e obrigação de escolher, implantar e operar diversas tecnologias.\n",
    "\n",
    "No curso do nosso trabalho, como todos, fazemos muitos amigos e aprendemos muito com eles. Nossos cursos são um agregado das nossas experiências e troca de conhecimentos com nossos colegas e tem por objetivo exclusivo, retribuir essas oportunidades e fazer novos amigos.\n",
    "\n",
    "Contribua conosco, de um feedback honesto e nos ajude a tornar esse curso mais útil pra você e seus amigos."
   ]
  },
  {
   "cell_type": "code",
   "execution_count": null,
   "metadata": {},
   "outputs": [],
   "source": []
  }
 ],
 "metadata": {
  "kernelspec": {
   "display_name": "Bash",
   "language": "bash",
   "name": "bash"
  },
  "language_info": {
   "codemirror_mode": "shell",
   "file_extension": ".sh",
   "mimetype": "text/x-sh",
   "name": "bash"
  }
 },
 "nbformat": 4,
 "nbformat_minor": 4
}
