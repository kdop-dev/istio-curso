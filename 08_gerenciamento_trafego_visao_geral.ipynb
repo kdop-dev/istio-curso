{
 "cells": [
  {
   "cell_type": "markdown",
   "metadata": {},
   "source": [
    "# Gerenciamento de tráfego"
   ]
  },
  {
   "cell_type": "markdown",
   "metadata": {},
   "source": [
    "## Visão geral - o que é gerenciamento de tráfego\n",
    "\n",
    "Gerenciar o tráfego é controlar o fluxo das requisições, tanto as de entrada (ingress), quanto as de saída (egress).\n",
    "\n",
    "O Istio fornece recursos bastante sofisticados para gerenciar o tráfego, com eles você pode direcionar e controlar o tráfego com base:\n",
    "\n",
    "* [Criptografar o tráfego (mTLS)](https://istio.io/docs/concepts/security/#authentication-policies)\n",
    "* [Validar tokens JWT](https://istio.io/docs/concepts/security/#authentication-architecturen)\n",
    "* [Estabelecer políticas de authorização](https://istio.io/docs/reference/config/security/authorization-policy/)\n",
    "* [Implantações canário, azul/verde e testes A/B](https://istio.io/docs/concepts/traffic-management/#routing-versions)\n",
    "* [Direcionar com base nos valores no HTTP headers, FQDN e caminho](https://istio.io/docs/concepts/traffic-management/#match-request-uri)\n",
    "* [Simulação de erros e atrasos](https://istio.io/docs/concepts/traffic-management/#fault-injection)\n",
    "* [Retentativas e _timeouts_](https://istio.io/docs/concepts/traffic-management/#set-number-and-timeouts-for-retries)\n",
    "* [Espelhar o tráfego](https://istio.io/latest/docs/tasks/traffic-management/mirroring/)\n",
    "* [Balanceamento de carga](https://istio.io/latest/docs/concepts/traffic-management/#load-balancing-options)\n",
    "* [Acessar serviços de fora do cluster](https://istio.io/docs/concepts/traffic-management/#service-entries)\n",
    "* [Modificar cabeçalho de resposta](https://istio.io/docs/reference/config/networking/v1alpha3/virtual-service/#Headers)\n",
    "\n",
    "Vamos começar com um exemplo prático, mas que é base para vários cenários."
   ]
  },
  {
   "cell_type": "markdown",
   "metadata": {},
   "source": [
    "## Implantações canário ou lançamento em etapas\n",
    "\n",
    "![implantação canário](media/canary-release.png)\n",
    "\n",
    "> Não é necessário criar uma configuração de `VirtualService` para cada um dos seus serviços, vimos que com a injeção do _proxy_, os rótulos _app_ e _version_ e a replicação do cabeçalho de rastreio, você já terá a maioria das funcionalidades de monitoramento e rastreio, mesmo para liberação canário, após comutar 100% do tráfego para a nova versão, você poderá excluir o VS e deixar o tráfego sendo gerenciado pelo k8s.\n",
    "\n",
    "Uma implantação canário é uma estratégia para lançar com segurança uma nova versão de um serviço, onde gradualmente uma nova versão é disponibilizada para um número cada vez maior de usuários.\n",
    "\n",
    "Essa estratégia permite minimizar os danos em caso de problemas e ao mesmo tempo realizar os testes finais no ambiente real. Com o serviço disponível para um número pequeno de usuários, os desenvolvedores e operações tem change de acompanhar seu comportamento sem afetar toda a base de usuários e a reversão da implantação é apenas uma configuração.\n",
    "\n",
    "Dessa forma é possível manter a dupla convivência de serviços por períodos mais prolongados e avaliar os efeitos colaterias com maior profundidade."
   ]
  },
  {
   "cell_type": "markdown",
   "metadata": {},
   "source": [
    "> Você poderá encontrar em algumas literaturas os termos para [padrão de tráfego norte-sul e leste-oeste](https://blogs.cisco.com/security/trends-in-data-center-security-part-1-traffic-trends). Simplificando, o tráfego norte-sul é o tráfego de servidor para cliente, enquanto leste-oeste é o tráfego de servidor para servidor."
   ]
  },
  {
   "cell_type": "markdown",
   "metadata": {},
   "source": [
    "### Implementação somente com kubernetes usando replicas\n",
    "\n",
    "É possível implementar de uma forma rudimentar essa estratégia utilizando apenas o serviço do kubernetes.\n",
    "\n",
    "Um serviço pode selecionar vários PODs, dependendo apenas de como configuramos o seletor. Se lançarmos uma nova versão em um segundo _deployment_ com o mesmo rótulo usado como seletor, o serviço irá \"balancear\" as requisições entre os PODs.\n",
    "\n",
    "\n",
    "O balanceamento é feito pelo kube-proxy e dependendo do [modo que ele foi configurado](https://kubernetes.io/docs/concepts/services-networking/service/#virtual-ips-and-service-proxies), o resultado pode ser melhor, por exemplo, de qualquer forma, para alcançar um balanceamento de dez porcento para a versão dois, seria necessário nove PODs (réplica) da versão um e um POD da versão dois, já deu para perceber o que acontece se a distribuição for um para noventa e nove.\n",
    "\n",
    "![Multiplos PODs por serviço](media/k8s-loadbalancing-service.png)\n",
    "\n",
    "> Rótulo `app` tem se tornado um padrão e é reconhecido pelo kiali para agrupar cargas de trabalho. `version` também tem significado especial para kiali e é usado no gráfico de versões.\n",
    "\n",
    "Vamos fazer um teste simples, vamos criar um novo _deployment_ com uma nova versão do front-end."
   ]
  },
  {
   "cell_type": "code",
   "execution_count": null,
   "metadata": {},
   "outputs": [],
   "source": [
    "kubectl apply -f assets/exemplos/simul-shop/manifests/8/front-end-deployment-v2.yaml"
   ]
  },
  {
   "cell_type": "markdown",
   "metadata": {},
   "source": [
    "Depois de algum tempo, o Kiali irá exibir uma gráfico de versão como o abaixo:\n",
    "\n",
    "![kiali versões do front-end](media/kiali-front-end-versions.png)\n",
    "\n",
    "> Nossa aplicação front-end tem um agendador que chama a si próprio a cada intervalo de tempo para criar tráfego. Você pode verificar isso pelas setas de tráfego.\n",
    "\n",
    "Agora vamos testar o balanceamento, lembrando que svc/front-end tem como seletor o rótulo app=frotn-end, o mesmo rótulo nas versões um e dois."
   ]
  },
  {
   "cell_type": "code",
   "execution_count": null,
   "metadata": {},
   "outputs": [],
   "source": [
    "# Verificando o serviço\n",
    "kubectl describe svc/front-end"
   ]
  },
  {
   "cell_type": "markdown",
   "metadata": {},
   "source": [
    "Nós temos um problema com essa abordagem, nosso serviço é do tipo `ClusterIP` e não podemos chamá-lo de fora do cluster, como alternativa, poderíamos utilizar o `kubectl port-forward`, mas o balanceamento não funcionaria, uma outra alternativa é testar de dentro de um dos containêres de outro POD.\n",
    "\n",
    "Execute esse comando em um terminal, copie o comando abaixo, vá ao menul lateral, click em <kbd>+</kbd> e selecione um terminal.\n",
    "\n",
    "`kubectl exec -it svc/login -c login -- bash`\n",
    "\n",
    "Você deverá ver um prompt, cole ou digite o comando:\n",
    "\n",
    "`root@login-76d5c494d7-nw2pq:/app# `"
   ]
  },
  {
   "cell_type": "markdown",
   "metadata": {},
   "source": [
    "> **Dica pro**: O comando `kubectl port-forward` não utiliza o serviço para conectar no POD, por isso não há balanceamento. O que ele faz é utilizar a informação de quais PODs estão associados ao serviço e estabelecer conexão com um deles, quase sempre o primeiro, mas não há garantias. Por isso, mesmo que seu serviço selecione dois PODs ou mais (rótulo de seleção) você não terá nenhum balanceamento utilizando o `port-forward`, cuja a finalidade é depuração e testes."
   ]
  },
  {
   "cell_type": "markdown",
   "metadata": {},
   "source": [
    "Agora que estamos dentro de um container, vamos executar o script bash simplesmente copiando seu conteúdo e colando no terminal.\n",
    "\n",
    "[assets/scripts/call.sh](assets/scripts/call.sh)\n",
    "\n",
    "você deve ter um retorno semelhante a este:\n",
    "\n",
    "```bash\n",
    "{\"name\":\"greetings\",\"description\":\"Hi there!\",\"app\":\"front-end\",\"version\":\"v2\",\"when\":\"2020-11-04 21:30:15\"}\n",
    "{\"name\":\"greetings\",\"description\":\"Hi there!\",\"app\":\"front-end\",\"version\":\"v1\",\"when\":\"2020-11-04 21:30:16\"}\n",
    "{\"name\":\"greetings\",\"description\":\"Hi there!\",\"app\":\"front-end\",\"version\":\"v2\",\"when\":\"2020-11-04 21:30:17\"}\n",
    "{\"name\":\"greetings\",\"description\":\"Hi there!\",\"app\":\"front-end\",\"version\":\"v2\",\"when\":\"2020-11-04 21:30:18\"}\n",
    "{\"name\":\"greetings\",\"description\":\"Hi there!\",\"app\":\"front-end\",\"version\":\"v1\",\"when\":\"2020-11-04 21:30:19\"}\n",
    "{\"name\":\"greetings\",\"description\":\"Hi there!\",\"app\":\"front-end\",\"version\":\"v1\",\"when\":\"2020-11-04 21:30:20\"}\n",
    "```\n",
    "\n",
    "Ótimo, o nome front-end foi reconhecido e o serviço aparentemete está fazendo _round robin_, chamando de forma alternada as versões um e dois. O balanceamento não é perfeito, mas depois de algum tempo em execução a média deverá ser 50% v1 e 50% v2.\n",
    "\n",
    "Como discutimos, para mudar essa relação basta adicionar réplicas, mas não faremos isso pois consumiria mais recursos do cluster.\n",
    "\n",
    "Se você executar um `nslookup front-end` verá o endereço do kube-dns (Server) que resolveu o nome front-end, o endereço ip do front-end (Address) e o nome qualificado do dominio (Name) que é front-end.default.svc.cluster.local.\n",
    "\n",
    "Mantenha essa conexão, iremos acessar esse container algumas vezes."
   ]
  },
  {
   "cell_type": "markdown",
   "metadata": {},
   "source": [
    "> Caso o consumo de recurso esteja elevado, você poderá desligar a auto-chamada do front-end. Aplique uma nova configuração para o _deployment_ [assets/exemplos/simul-shop-/manifests/8/front-end-deployment-no-auto.yaml](assets/exemplos/simul-shop-/manifests/8/front-end-deployment-no-auto.yaml), que retira a variável de ambiente `SCHED_CALL_URL_LST`. Isso fará com que o gráfico desapareça depois de algum tempo se você não executar chamadas ao fornt-end, como fizemos acima. Não se preocupe, quando necessário iremos executar o script para geração de carga.\n",
    "\n",
    "> Execute em um terminal para interromper a auto-chamada do front-end: `kubectl apply -f assets/exemplos/simul-shop-/manifests/8/front-end-deployment-no-auto.yaml`"
   ]
  },
  {
   "cell_type": "markdown",
   "metadata": {},
   "source": [
    "### Implementação com Istio\n",
    "\n",
    "Para obter a distribuição de carga precisaremos criar um `VirtualService` e um `DestinationRule`.\n",
    "\n",
    "Podemos criá-las utilizando o Kiali, como fizemos no vídeo, ou podemos configurar os recursos necessários com arquivos yaml e aplicá-los com o `kubectl apply` ou adicioná-los aos _templates_ do `helm`.\n",
    "\n",
    "Faremos com arquivos yaml nossa primeira configuração de Istio até agora.\n",
    "\n",
    "[assets/exemplos/simul-shop/istio/8/front-end-canary-release.yaml](assets/exemplos/simul-shop/istio/8/front-end-canary-release.yaml)\n",
    "\n",
    "Vamos aplicá-lo."
   ]
  },
  {
   "cell_type": "code",
   "execution_count": null,
   "metadata": {},
   "outputs": [],
   "source": [
    "kubectl apply -f assets/exemplos/simul-shop/istio/8/front-end-canary-release.yaml"
   ]
  },
  {
   "cell_type": "markdown",
   "metadata": {},
   "source": [
    "Foram criados dois recursos do Istio, vamos entender a configuração:\n",
    "\n",
    "```yaml\n",
    "kind: VirtualService\n",
    "apiVersion: networking.istio.io/v1alpha3\n",
    "metadata:\n",
    "  name: front-end # Qualquer nome, escolha um que faz sentido para a regra\n",
    "  namespace: default\n",
    "spec:\n",
    "  hosts:\n",
    "    - front-end.default.svc.cluster.local # O nome do k8s Service. Recomendado FQDN, mas pode ser abreviado se estiver no mesmo namespace do serviço\n",
    "  http:\n",
    "    - route:\n",
    "        - destination:\n",
    "            host: front-end.default.svc.cluster.local # O endereço alvo. Podem ser diferentes\n",
    "            subset: v1-set # Mesmo nome definido para o subset no DestinationRule para esse host\n",
    "          weight: 90 # Em percentual, quantiade aproximada de requisições que vão para o subconjunto v1-set\n",
    "        - destination:\n",
    "            host: front-end.default.svc.cluster.local # O endereço alvo. Não precisa ser o mesmo\n",
    "            subset: v2-set # Mesmo nome definido para o subset no DestinationRule para esse host\n",
    "          weight: 10 # por cento irá para o subconjunto v2-set\n",
    "```"
   ]
  },
  {
   "cell_type": "markdown",
   "metadata": {},
   "source": [
    "E a relação com o `DestinationRule` se dá pelo FQDN do host:\n",
    "\n",
    "```yaml\n",
    "# Define quais PODs fazem parte de cada subconjunto (subset)\n",
    "kind: DestinationRule\n",
    "apiVersion: networking.istio.io/v1alpha3\n",
    "metadata:\n",
    "  name: front-end # Qualquer nome.\n",
    "  namespace: default\n",
    "spec:\n",
    "  host: front-end.default.svc.cluster.local # k8s service name, FQDN ou abriaviado.\n",
    "  subsets:\n",
    "    - labels: # Seletor\n",
    "        version: v1 # PODs do serviço front-end.default.svc.cluster.local com o label version: v1 fazem parte desse subconjunto\n",
    "      name: v1-set # Qualquer nome, mas que represente o subconjunto.\n",
    "    - labels: # Seletor\n",
    "        version: v2 # Da mesma forma, PODs do mesmo serviço (host = k8s service) com o label version: v2 fazem parte desse subconjunto\n",
    "      name: v2-set # Qualquer nome, mas que represente o subconjunto, nesse caso PODs da versao dois.\n",
    "```"
   ]
  },
  {
   "cell_type": "markdown",
   "metadata": {},
   "source": [
    "No kiali podemos ver o indicador ![](media/kiali-route.png), e no menu Istio config as duas configurações.\n",
    "\n",
    "Podemos realizar um novo teste para verificar o balanceamento. Vá para o terminal e verifique ou execute novamente o script [assets/scripts/call.sh](assets/scripts/call.sh).\n",
    "\n",
    "Deve ter um resultado semelhante ao do vídeo, aproximadamente noventa porcento das chamadas para v1 e dez por cento para v2. Modifique os valores no arquivo [assets/exemplos/simul-shop/istio/8/front-end-canary-release.yaml](assets/exemplos/simul-shop/istio/8/front-end-canary-release.yaml) , e aplique novamente com `kubectl apply -f assets/exemplos/simul-shop-istio/front-end-canary-release.yaml`"
   ]
  },
  {
   "cell_type": "markdown",
   "metadata": {},
   "source": [
    "### Usando o Kiali para validar as configurações do Istio\n",
    "\n",
    "O Kiali além de permitir configurar o Istio, pode ser usado parar validá-lo, vamos causar um erro no _DestinationRule_.\n",
    "\n",
    "```yaml\n",
    "---\n",
    "kind: DestinationRule\n",
    "apiVersion: networking.istio.io/v1alpha3\n",
    "metadata:\n",
    "  name: front-end\n",
    "  namespace: default\n",
    "spec:\n",
    "  host: front-end.default.svc.cluster.local\n",
    "  subsets:\n",
    "    - labels:\n",
    "        version: v1\n",
    "      name: v1-set\n",
    "    - labels:\n",
    "        version: v2s # <---- Erro de digitação\n",
    "      name: v2-set\n",
    "```\n",
    "\n",
    "Vamos aplicá-lo: [assets/exemplos/simul-shop/istio/8/front-end-config-error.yaml](assets/exemplos/simul-shop/istio/8/front-end-config-error.yaml)"
   ]
  },
  {
   "cell_type": "code",
   "execution_count": null,
   "metadata": {},
   "outputs": [],
   "source": [
    "kubectl apply -f assets/exemplos/simul-shop/istio/8/front-end-config-error.yaml"
   ]
  },
  {
   "cell_type": "markdown",
   "metadata": {},
   "source": [
    "O kubernetes não reclamou do erro de digitação, vamos verificar o terminal.\n",
    "\n",
    "Como cometemos um erro no rótulo v2, o erro aparece de forma intermitente.\n",
    "\n",
    "```bash\n",
    "{\"name\":\"split\",\"description\":\"List ['http://login:8000/', 'http://catalogue:8000/', 'http://orders:8000/s']\",\"app\":\"front-end\",\"version\":\"v1\",\"when\":\"2020-11-09 19:23:00\"}\n",
    "{\"name\":\"split\",\"description\":\"List ['http://login:8000/', 'http://catalogue:8000/', 'http://orders:8000/s']\",\"app\":\"front-end\",\"version\":\"v1\",\"when\":\"2020-11-09 19:23:01\"}\n",
    "{\"name\":\"split\",\"description\":\"List ['http://login:8000/', 'http://catalogue:8000/', 'http://orders:8000/s']\",\"app\":\"front-end\",\"version\":\"v1\",\"when\":\"2020-11-09 19:23:02\"}\n",
    "{\"name\":\"split\",\"description\":\"List ['http://login:8000/', 'http://catalogue:8000/', 'http://orders:8000/s']\",\"app\":\"front-end\",\"version\":\"v1\",\"when\":\"2020-11-09 19:23:03\"}\n",
    "{\"name\":\"split\",\"description\":\"List ['http://login:8000/', 'http://catalogue:8000/', 'http://orders:8000/s']\",\"app\":\"front-end\",\"version\":\"v1\",\"when\":\"2020-11-09 19:23:05\"}\n",
    "no healthy upstream # <---- Erro\n",
    "```\n",
    "\n",
    "Vamos ver como o Kiali pode nos ajudar. Selecione a opção Istio Config e imediatamente vemos um indicador de problema.\n",
    "\n",
    "![kiali instio config indicador de problema](media/kiali-istio-validation1.png)\n",
    "\n",
    "Ao seleciona o item, o kiali indica que houve falha de validação:\n",
    "\n",
    "![kiali istio config falha validação](media/kiali-istio-validation2.png)\n",
    "\n",
    "Na parte inferior, há uma representação da configuração, onde verificamos qual o problema.\n",
    "\n",
    "![kiali istio config rótulo não encontrado](media/kiali-istio-validation3.png)\n",
    "\n",
    "E ao selecionar a configuração YAML, a seção com problema é destacada.\n",
    "\n",
    "![kiali istio config yaml error](media/kiali-istio-validation4.png)\n",
    "\n",
    "Poderiamos corrigir o erro no editor, mas vamos executar a configuração novamente:"
   ]
  },
  {
   "cell_type": "code",
   "execution_count": null,
   "metadata": {},
   "outputs": [],
   "source": [
    "kubectl apply -f assets/exemplos/simul-shop/istio/8/front-end-canary-release.yaml"
   ]
  },
  {
   "cell_type": "markdown",
   "metadata": {},
   "source": [
    "Volte para kiali na opção _Istio Config_ e agora há um indicador de OK para as duas configurações e o no terminal não exibe mais o erro `no healthy upstream`."
   ]
  },
  {
   "cell_type": "markdown",
   "metadata": {},
   "source": [
    "Vamos remover a configuração:"
   ]
  },
  {
   "cell_type": "code",
   "execution_count": null,
   "metadata": {},
   "outputs": [],
   "source": [
    "kubectl delete -f assets/exemplos/simul-shop/istio/8/front-end-canary-release.yaml"
   ]
  },
  {
   "cell_type": "markdown",
   "metadata": {},
   "source": [
    "Nas próximas seções continuaremos a explorar mais recursos do gerenciamento de tráfego."
   ]
  }
 ],
 "metadata": {
  "hide_input": false,
  "kernelspec": {
   "display_name": "Bash",
   "language": "bash",
   "name": "bash"
  },
  "language_info": {
   "codemirror_mode": "shell",
   "file_extension": ".sh",
   "mimetype": "text/x-sh",
   "name": "bash"
  },
  "toc": {
   "base_numbering": 1,
   "nav_menu": {},
   "number_sections": true,
   "sideBar": true,
   "skip_h1_title": false,
   "title_cell": "Table of Contents",
   "title_sidebar": "Contents",
   "toc_cell": false,
   "toc_position": {},
   "toc_section_display": true,
   "toc_window_display": false
  },
  "varInspector": {
   "cols": {
    "lenName": 16,
    "lenType": 16,
    "lenVar": 40
   },
   "kernels_config": {
    "python": {
     "delete_cmd_postfix": "",
     "delete_cmd_prefix": "del ",
     "library": "var_list.py",
     "varRefreshCmd": "print(var_dic_list())"
    },
    "r": {
     "delete_cmd_postfix": ") ",
     "delete_cmd_prefix": "rm(",
     "library": "var_list.r",
     "varRefreshCmd": "cat(var_dic_list()) "
    }
   },
   "types_to_exclude": [
    "module",
    "function",
    "builtin_function_or_method",
    "instance",
    "_Feature"
   ],
   "window_display": false
  }
 },
 "nbformat": 4,
 "nbformat_minor": 4
}
